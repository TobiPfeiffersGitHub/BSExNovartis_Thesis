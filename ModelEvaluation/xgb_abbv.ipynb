{
 "cells": [
  {
   "cell_type": "code",
   "execution_count": 1,
   "metadata": {},
   "outputs": [],
   "source": [
    "import numpy as np\n",
    "np.random.seed(1)\n",
    "import pandas as pd\n",
    "import scipy\n",
    "\n",
    "from sklearn.base import BaseEstimator, RegressorMixin\n",
    "from sklearn.metrics import make_scorer\n",
    "from sklearn.model_selection import GridSearchCV,RandomizedSearchCV\n",
    "\n",
    "from xgboost.sklearn import XGBRegressor\n",
    "from sklearn.ensemble import GradientBoostingRegressor\n",
    "\n",
    "from functools import partial\n",
    "\n",
    "import matplotlib.pyplot as plt\n",
    "import seaborn as sns\n",
    "\n",
    "from xgb_utils import *"
   ]
  },
  {
   "cell_type": "code",
   "execution_count": 2,
   "metadata": {},
   "outputs": [
    {
     "data": {
      "text/html": [
       "<div>\n",
       "<style scoped>\n",
       "    .dataframe tbody tr th:only-of-type {\n",
       "        vertical-align: middle;\n",
       "    }\n",
       "\n",
       "    .dataframe tbody tr th {\n",
       "        vertical-align: top;\n",
       "    }\n",
       "\n",
       "    .dataframe thead th {\n",
       "        text-align: right;\n",
       "    }\n",
       "</style>\n",
       "<table border=\"1\" class=\"dataframe\">\n",
       "  <thead>\n",
       "    <tr style=\"text-align: right;\">\n",
       "      <th></th>\n",
       "      <th>Date</th>\n",
       "      <th>ABBV</th>\n",
       "      <th>unemployment_rate</th>\n",
       "      <th>CPI</th>\n",
       "      <th>treasury_yield</th>\n",
       "      <th>GDP_growth</th>\n",
       "      <th>SP500_return</th>\n",
       "      <th>AZN</th>\n",
       "      <th>BMY</th>\n",
       "      <th>JNJ</th>\n",
       "      <th>LLY</th>\n",
       "      <th>MRK</th>\n",
       "      <th>NVO</th>\n",
       "      <th>NVS</th>\n",
       "      <th>PFE</th>\n",
       "      <th>ROG</th>\n",
       "      <th>inflation_change</th>\n",
       "      <th>unemp_change</th>\n",
       "      <th>treasury_yield_change</th>\n",
       "    </tr>\n",
       "  </thead>\n",
       "  <tbody>\n",
       "    <tr>\n",
       "      <th>0</th>\n",
       "      <td>2013-03-01</td>\n",
       "      <td>10.455062</td>\n",
       "      <td>7.5</td>\n",
       "      <td>232.282</td>\n",
       "      <td>1.984211</td>\n",
       "      <td>0.397212</td>\n",
       "      <td>3.337507</td>\n",
       "      <td>14.582205</td>\n",
       "      <td>11.414669</td>\n",
       "      <td>7.978126</td>\n",
       "      <td>4.851792</td>\n",
       "      <td>3.440210</td>\n",
       "      <td>-7.714279</td>\n",
       "      <td>9.067089</td>\n",
       "      <td>5.443922</td>\n",
       "      <td>-0.188640</td>\n",
       "      <td>-0.655</td>\n",
       "      <td>-0.2</td>\n",
       "      <td>0.069449</td>\n",
       "    </tr>\n",
       "    <tr>\n",
       "      <th>1</th>\n",
       "      <td>2013-04-01</td>\n",
       "      <td>12.922975</td>\n",
       "      <td>7.6</td>\n",
       "      <td>231.797</td>\n",
       "      <td>1.957500</td>\n",
       "      <td>0.085246</td>\n",
       "      <td>2.374537</td>\n",
       "      <td>3.881563</td>\n",
       "      <td>-3.568848</td>\n",
       "      <td>4.538222</td>\n",
       "      <td>-2.482836</td>\n",
       "      <td>7.359867</td>\n",
       "      <td>11.497419</td>\n",
       "      <td>3.537347</td>\n",
       "      <td>0.727651</td>\n",
       "      <td>-10.457790</td>\n",
       "      <td>-0.485</td>\n",
       "      <td>0.1</td>\n",
       "      <td>-0.026711</td>\n",
       "    </tr>\n",
       "    <tr>\n",
       "      <th>2</th>\n",
       "      <td>2013-05-01</td>\n",
       "      <td>-6.438455</td>\n",
       "      <td>7.5</td>\n",
       "      <td>231.893</td>\n",
       "      <td>1.759091</td>\n",
       "      <td>-0.190605</td>\n",
       "      <td>2.361004</td>\n",
       "      <td>-1.290451</td>\n",
       "      <td>16.816781</td>\n",
       "      <td>-1.231989</td>\n",
       "      <td>-4.008663</td>\n",
       "      <td>-0.638313</td>\n",
       "      <td>-8.792401</td>\n",
       "      <td>-2.711502</td>\n",
       "      <td>-6.329562</td>\n",
       "      <td>8.513136</td>\n",
       "      <td>0.096</td>\n",
       "      <td>-0.1</td>\n",
       "      <td>-0.198409</td>\n",
       "    </tr>\n",
       "    <tr>\n",
       "      <th>3</th>\n",
       "      <td>2013-06-01</td>\n",
       "      <td>-3.162299</td>\n",
       "      <td>7.5</td>\n",
       "      <td>232.445</td>\n",
       "      <td>1.928182</td>\n",
       "      <td>0.620501</td>\n",
       "      <td>-1.853781</td>\n",
       "      <td>-7.707318</td>\n",
       "      <td>-2.868894</td>\n",
       "      <td>2.762464</td>\n",
       "      <td>-6.788137</td>\n",
       "      <td>-0.535372</td>\n",
       "      <td>-3.805087</td>\n",
       "      <td>-1.463219</td>\n",
       "      <td>3.722003</td>\n",
       "      <td>2.269287</td>\n",
       "      <td>0.552</td>\n",
       "      <td>0.0</td>\n",
       "      <td>0.169091</td>\n",
       "    </tr>\n",
       "    <tr>\n",
       "      <th>4</th>\n",
       "      <td>2013-07-01</td>\n",
       "      <td>10.014486</td>\n",
       "      <td>7.3</td>\n",
       "      <td>232.900</td>\n",
       "      <td>2.300000</td>\n",
       "      <td>0.210359</td>\n",
       "      <td>5.724173</td>\n",
       "      <td>7.230424</td>\n",
       "      <td>-3.244595</td>\n",
       "      <td>8.898141</td>\n",
       "      <td>8.122938</td>\n",
       "      <td>4.655361</td>\n",
       "      <td>9.001745</td>\n",
       "      <td>1.272809</td>\n",
       "      <td>4.355584</td>\n",
       "      <td>17.540151</td>\n",
       "      <td>0.455</td>\n",
       "      <td>-0.2</td>\n",
       "      <td>0.371818</td>\n",
       "    </tr>\n",
       "    <tr>\n",
       "      <th>...</th>\n",
       "      <td>...</td>\n",
       "      <td>...</td>\n",
       "      <td>...</td>\n",
       "      <td>...</td>\n",
       "      <td>...</td>\n",
       "      <td>...</td>\n",
       "      <td>...</td>\n",
       "      <td>...</td>\n",
       "      <td>...</td>\n",
       "      <td>...</td>\n",
       "      <td>...</td>\n",
       "      <td>...</td>\n",
       "      <td>...</td>\n",
       "      <td>...</td>\n",
       "      <td>...</td>\n",
       "      <td>...</td>\n",
       "      <td>...</td>\n",
       "      <td>...</td>\n",
       "      <td>...</td>\n",
       "    </tr>\n",
       "    <tr>\n",
       "      <th>118</th>\n",
       "      <td>2023-01-01</td>\n",
       "      <td>-8.576205</td>\n",
       "      <td>3.4</td>\n",
       "      <td>300.536</td>\n",
       "      <td>3.616190</td>\n",
       "      <td>0.390254</td>\n",
       "      <td>6.776820</td>\n",
       "      <td>-3.584079</td>\n",
       "      <td>0.972908</td>\n",
       "      <td>-7.489384</td>\n",
       "      <td>-5.928822</td>\n",
       "      <td>-2.549213</td>\n",
       "      <td>2.541749</td>\n",
       "      <td>-0.110227</td>\n",
       "      <td>-13.817335</td>\n",
       "      <td>16.968326</td>\n",
       "      <td>1.546</td>\n",
       "      <td>-0.1</td>\n",
       "      <td>-0.274810</td>\n",
       "    </tr>\n",
       "    <tr>\n",
       "      <th>119</th>\n",
       "      <td>2023-02-01</td>\n",
       "      <td>5.152609</td>\n",
       "      <td>3.6</td>\n",
       "      <td>301.648</td>\n",
       "      <td>3.531500</td>\n",
       "      <td>-0.442183</td>\n",
       "      <td>-2.514271</td>\n",
       "      <td>-0.290649</td>\n",
       "      <td>-4.328217</td>\n",
       "      <td>-6.217115</td>\n",
       "      <td>-9.568502</td>\n",
       "      <td>-1.089288</td>\n",
       "      <td>1.592445</td>\n",
       "      <td>-7.172811</td>\n",
       "      <td>-7.286115</td>\n",
       "      <td>5.451681</td>\n",
       "      <td>1.112</td>\n",
       "      <td>0.2</td>\n",
       "      <td>-0.084690</td>\n",
       "    </tr>\n",
       "    <tr>\n",
       "      <th>120</th>\n",
       "      <td>2023-03-01</td>\n",
       "      <td>3.554254</td>\n",
       "      <td>3.5</td>\n",
       "      <td>301.808</td>\n",
       "      <td>3.746842</td>\n",
       "      <td>-0.442183</td>\n",
       "      <td>3.313488</td>\n",
       "      <td>8.035329</td>\n",
       "      <td>0.507544</td>\n",
       "      <td>1.862736</td>\n",
       "      <td>10.703390</td>\n",
       "      <td>0.141189</td>\n",
       "      <td>12.873250</td>\n",
       "      <td>9.367574</td>\n",
       "      <td>0.566924</td>\n",
       "      <td>11.025813</td>\n",
       "      <td>0.160</td>\n",
       "      <td>-0.1</td>\n",
       "      <td>0.215342</td>\n",
       "    </tr>\n",
       "    <tr>\n",
       "      <th>121</th>\n",
       "      <td>2023-04-01</td>\n",
       "      <td>-5.176628</td>\n",
       "      <td>3.4</td>\n",
       "      <td>302.918</td>\n",
       "      <td>3.663043</td>\n",
       "      <td>-0.442183</td>\n",
       "      <td>1.985238</td>\n",
       "      <td>5.489119</td>\n",
       "      <td>-3.664707</td>\n",
       "      <td>5.612908</td>\n",
       "      <td>15.269915</td>\n",
       "      <td>9.289214</td>\n",
       "      <td>5.836894</td>\n",
       "      <td>16.334413</td>\n",
       "      <td>-4.681371</td>\n",
       "      <td>-1.517467</td>\n",
       "      <td>1.110</td>\n",
       "      <td>-0.1</td>\n",
       "      <td>-0.083799</td>\n",
       "    </tr>\n",
       "    <tr>\n",
       "      <th>122</th>\n",
       "      <td>2023-05-01</td>\n",
       "      <td>-7.868480</td>\n",
       "      <td>3.7</td>\n",
       "      <td>304.127</td>\n",
       "      <td>3.460000</td>\n",
       "      <td>-0.442183</td>\n",
       "      <td>0.461619</td>\n",
       "      <td>-0.191204</td>\n",
       "      <td>-2.695194</td>\n",
       "      <td>-5.277949</td>\n",
       "      <td>8.487855</td>\n",
       "      <td>-4.382088</td>\n",
       "      <td>-3.967915</td>\n",
       "      <td>-6.161645</td>\n",
       "      <td>-2.237080</td>\n",
       "      <td>-2.162160</td>\n",
       "      <td>0.100</td>\n",
       "      <td>0.3</td>\n",
       "      <td>-0.203043</td>\n",
       "    </tr>\n",
       "  </tbody>\n",
       "</table>\n",
       "<p>123 rows × 19 columns</p>\n",
       "</div>"
      ],
      "text/plain": [
       "           Date       ABBV  unemployment_rate      CPI  treasury_yield  \\\n",
       "0    2013-03-01  10.455062                7.5  232.282        1.984211   \n",
       "1    2013-04-01  12.922975                7.6  231.797        1.957500   \n",
       "2    2013-05-01  -6.438455                7.5  231.893        1.759091   \n",
       "3    2013-06-01  -3.162299                7.5  232.445        1.928182   \n",
       "4    2013-07-01  10.014486                7.3  232.900        2.300000   \n",
       "..          ...        ...                ...      ...             ...   \n",
       "118  2023-01-01  -8.576205                3.4  300.536        3.616190   \n",
       "119  2023-02-01   5.152609                3.6  301.648        3.531500   \n",
       "120  2023-03-01   3.554254                3.5  301.808        3.746842   \n",
       "121  2023-04-01  -5.176628                3.4  302.918        3.663043   \n",
       "122  2023-05-01  -7.868480                3.7  304.127        3.460000   \n",
       "\n",
       "     GDP_growth  SP500_return        AZN        BMY       JNJ        LLY  \\\n",
       "0      0.397212      3.337507  14.582205  11.414669  7.978126   4.851792   \n",
       "1      0.085246      2.374537   3.881563  -3.568848  4.538222  -2.482836   \n",
       "2     -0.190605      2.361004  -1.290451  16.816781 -1.231989  -4.008663   \n",
       "3      0.620501     -1.853781  -7.707318  -2.868894  2.762464  -6.788137   \n",
       "4      0.210359      5.724173   7.230424  -3.244595  8.898141   8.122938   \n",
       "..          ...           ...        ...        ...       ...        ...   \n",
       "118    0.390254      6.776820  -3.584079   0.972908 -7.489384  -5.928822   \n",
       "119   -0.442183     -2.514271  -0.290649  -4.328217 -6.217115  -9.568502   \n",
       "120   -0.442183      3.313488   8.035329   0.507544  1.862736  10.703390   \n",
       "121   -0.442183      1.985238   5.489119  -3.664707  5.612908  15.269915   \n",
       "122   -0.442183      0.461619  -0.191204  -2.695194 -5.277949   8.487855   \n",
       "\n",
       "          MRK        NVO        NVS        PFE        ROG  inflation_change  \\\n",
       "0    3.440210  -7.714279   9.067089   5.443922  -0.188640            -0.655   \n",
       "1    7.359867  11.497419   3.537347   0.727651 -10.457790            -0.485   \n",
       "2   -0.638313  -8.792401  -2.711502  -6.329562   8.513136             0.096   \n",
       "3   -0.535372  -3.805087  -1.463219   3.722003   2.269287             0.552   \n",
       "4    4.655361   9.001745   1.272809   4.355584  17.540151             0.455   \n",
       "..        ...        ...        ...        ...        ...               ...   \n",
       "118 -2.549213   2.541749  -0.110227 -13.817335  16.968326             1.546   \n",
       "119 -1.089288   1.592445  -7.172811  -7.286115   5.451681             1.112   \n",
       "120  0.141189  12.873250   9.367574   0.566924  11.025813             0.160   \n",
       "121  9.289214   5.836894  16.334413  -4.681371  -1.517467             1.110   \n",
       "122 -4.382088  -3.967915  -6.161645  -2.237080  -2.162160             0.100   \n",
       "\n",
       "     unemp_change  treasury_yield_change  \n",
       "0            -0.2               0.069449  \n",
       "1             0.1              -0.026711  \n",
       "2            -0.1              -0.198409  \n",
       "3             0.0               0.169091  \n",
       "4            -0.2               0.371818  \n",
       "..            ...                    ...  \n",
       "118          -0.1              -0.274810  \n",
       "119           0.2              -0.084690  \n",
       "120          -0.1               0.215342  \n",
       "121          -0.1              -0.083799  \n",
       "122           0.3              -0.203043  \n",
       "\n",
       "[123 rows x 19 columns]"
      ]
     },
     "execution_count": 2,
     "metadata": {},
     "output_type": "execute_result"
    }
   ],
   "source": [
    "data = pd.read_csv('merged_df.csv')\n",
    "data"
   ]
  },
  {
   "cell_type": "code",
   "execution_count": 3,
   "metadata": {},
   "outputs": [],
   "source": [
    "macros = ['unemployment_rate', 'GDP_growth', 'SP500_return', 'inflation_change', 'unemp_change', 'treasury_yield_change']\n",
    "\n",
    "for m in macros:\n",
    "    data[f'{m}_lag'] = data[m].shift(1)\n",
    "    data[f'{m}_lag2'] = data[m].shift(2)\n",
    "    data[f'{m}_lag3'] = data[m].shift(3)"
   ]
  },
  {
   "cell_type": "code",
   "execution_count": 4,
   "metadata": {},
   "outputs": [],
   "source": [
    "data['Quater_dummy'] = 0\n",
    "data['Quater_rippel'] = 0\n",
    "data['Date'] = pd.to_datetime(data['Date'])\n",
    "for index, row in data.iterrows():\n",
    "    if row['Date'].month in [3, 6, 9, 12]:\n",
    "        data.loc[index, 'Quater_dummy'] = 1\n",
    "    if row['Date'].month in [1, 4, 7, 10]:\n",
    "        data.loc[index, 'Quater_dummy'] = 1"
   ]
  },
  {
   "cell_type": "code",
   "execution_count": 5,
   "metadata": {},
   "outputs": [],
   "source": [
    "tickers = ['ABBV', 'NVS', 'AZN', 'BMY', 'JNJ', 'LLY', 'MRK', 'NVO', 'PFE', 'ROG']\n",
    "\n",
    "for t in tickers:\n",
    "    data[f'{t}_lag'] = data[t].shift(1)\n",
    "    data[f'{t}_lag2'] = data[t].shift(2)"
   ]
  },
  {
   "attachments": {},
   "cell_type": "markdown",
   "metadata": {},
   "source": [
    "MACROS"
   ]
  },
  {
   "cell_type": "code",
   "execution_count": 6,
   "metadata": {},
   "outputs": [],
   "source": [
    "data_macro = data.copy()\n",
    "to_exclude = []\n",
    "\n",
    "for t in tickers:\n",
    "    to_exclude.append(t)\n",
    "    to_exclude.append(f'{t}_lag')\n",
    "    to_exclude.append(f'{t}_lag2')\n",
    "\n",
    "for m in macros:\n",
    "    to_exclude.append(m)\n",
    "\n",
    "\n",
    "to_exclude.append('Date')"
   ]
  },
  {
   "attachments": {},
   "cell_type": "markdown",
   "metadata": {},
   "source": [
    "12 month"
   ]
  },
  {
   "cell_type": "code",
   "execution_count": 7,
   "metadata": {},
   "outputs": [
    {
     "name": "stdout",
     "output_type": "stream",
     "text": [
      "ABBV 12m-loss: 11.316596733709495 \n",
      "\n"
     ]
    }
   ],
   "source": [
    "dates12m = ['2022-05-01']#, '2022-06-01', '2022-07-01', '2022-08-01']\n",
    "\n",
    "loss = get_model_performance(data_macro, 'ABBV', 0.05, to_exclude, dates12m, 12)\n",
    "print(f'ABBV 12m-loss: {loss} \\n')"
   ]
  },
  {
   "attachments": {},
   "cell_type": "markdown",
   "metadata": {},
   "source": [
    "9 month"
   ]
  },
  {
   "cell_type": "code",
   "execution_count": 8,
   "metadata": {},
   "outputs": [
    {
     "name": "stdout",
     "output_type": "stream",
     "text": [
      "ABBV-9m-loss: 8.104017057279268 \n",
      "\n"
     ]
    }
   ],
   "source": [
    "dates9m = ['2022-05-01', '2022-06-01', '2022-07-01', '2022-08-01']\n",
    "\n",
    "loss = get_model_performance(data_macro, 'ABBV', 0.05, to_exclude, dates9m, 9)\n",
    "print(f'ABBV-9m-loss: {loss} \\n')"
   ]
  },
  {
   "attachments": {},
   "cell_type": "markdown",
   "metadata": {},
   "source": [
    "6 month"
   ]
  },
  {
   "cell_type": "code",
   "execution_count": 9,
   "metadata": {},
   "outputs": [
    {
     "name": "stdout",
     "output_type": "stream",
     "text": [
      "ABBV-6m-loss: 4.874960316783349 \n",
      "\n"
     ]
    }
   ],
   "source": [
    "dates6m = ['2022-05-01', '2022-06-01', '2022-07-01', '2022-08-01', '2022-09-01', '2022-10-01', '2022-11-01']\n",
    "\n",
    "\n",
    "loss = get_model_performance(data_macro, 'ABBV', 0.05, to_exclude, dates6m, 6)\n",
    "print(f'ABBV-6m-loss: {loss} \\n')"
   ]
  },
  {
   "attachments": {},
   "cell_type": "markdown",
   "metadata": {},
   "source": [
    "3 month"
   ]
  },
  {
   "cell_type": "code",
   "execution_count": 10,
   "metadata": {},
   "outputs": [
    {
     "name": "stdout",
     "output_type": "stream",
     "text": [
      "ABBV-3m-loss: 3.542646130167654 \n",
      "\n"
     ]
    }
   ],
   "source": [
    "dates3m = ['2022-05-01', '2022-06-01', '2022-07-01', '2022-08-01', '2022-09-01', '2022-10-01', '2022-11-01', '2022-12-01', '2023-01-01', '2023-02-01']\n",
    "\n",
    "loss = get_model_performance(data_macro, 'ABBV', 0.05, to_exclude, dates3m, 3)\n",
    "print(f'ABBV-3m-loss: {loss} \\n')"
   ]
  },
  {
   "attachments": {},
   "cell_type": "markdown",
   "metadata": {},
   "source": [
    "1 month"
   ]
  },
  {
   "cell_type": "code",
   "execution_count": 11,
   "metadata": {},
   "outputs": [
    {
     "name": "stdout",
     "output_type": "stream",
     "text": [
      "ABBV-1m-loss: 0.7515972527087004 \n",
      "\n"
     ]
    }
   ],
   "source": [
    "dates1m = ['2022-05-01', '2022-06-01', '2022-07-01', '2022-08-01', '2022-09-01', '2022-10-01', '2022-11-01', '2022-12-01', '2023-01-01', '2023-02-01', '2023-03-01', '2023-04-01']\n",
    "\n",
    "loss = get_model_performance(data_macro, 'ABBV', 0.05, to_exclude, dates1m, 1)\n",
    "print(f'ABBV-1m-loss: {loss} \\n')"
   ]
  },
  {
   "attachments": {},
   "cell_type": "markdown",
   "metadata": {},
   "source": [
    "STOCKS"
   ]
  },
  {
   "cell_type": "code",
   "execution_count": 12,
   "metadata": {},
   "outputs": [],
   "source": [
    "data_stocks = data.copy()\n",
    "to_exclude2 = []\n",
    "\n",
    "for m in macros:\n",
    "    to_exclude2.append(m)\n",
    "    to_exclude2.append(f'{m}_lag')\n",
    "    to_exclude2.append(f'{m}_lag2')\n",
    "    to_exclude2.append(f'{m}_lag3')\n",
    "\n",
    "for t in tickers:\n",
    "    to_exclude2.append(t)\n",
    "\n",
    "\n",
    "to_exclude2.append('Date')"
   ]
  },
  {
   "cell_type": "code",
   "execution_count": 17,
   "metadata": {},
   "outputs": [
    {
     "name": "stdout",
     "output_type": "stream",
     "text": [
      "ABBV 12m-loss: 9.435762241956123 \n",
      "\n"
     ]
    }
   ],
   "source": [
    "dates12m = ['2022-05-01']#, '2022-06-01', '2022-07-01', '2022-08-01']\n",
    "\n",
    "loss = get_model_performance(data_stocks, 'ABBV', 0.05, to_exclude2, dates12m, 12)\n",
    "print(f'ABBV 12m-loss: {loss} \\n')"
   ]
  },
  {
   "attachments": {},
   "cell_type": "markdown",
   "metadata": {},
   "source": [
    "9 month"
   ]
  },
  {
   "cell_type": "code",
   "execution_count": 18,
   "metadata": {},
   "outputs": [
    {
     "name": "stdout",
     "output_type": "stream",
     "text": [
      "ABBV-9m-loss: 6.92902732930904 \n",
      "\n"
     ]
    }
   ],
   "source": [
    "dates9m = ['2022-05-01', '2022-06-01', '2022-07-01', '2022-08-01']\n",
    "\n",
    "loss = get_model_performance(data_stocks, 'ABBV', 0.05, to_exclude2, dates9m, 9)\n",
    "print(f'ABBV-9m-loss: {loss} \\n')"
   ]
  },
  {
   "attachments": {},
   "cell_type": "markdown",
   "metadata": {},
   "source": [
    "6 month"
   ]
  },
  {
   "cell_type": "code",
   "execution_count": 19,
   "metadata": {},
   "outputs": [
    {
     "name": "stdout",
     "output_type": "stream",
     "text": [
      "ABBV-6m-loss: 4.273372612536642 \n",
      "\n"
     ]
    }
   ],
   "source": [
    "dates6m = ['2022-05-01', '2022-06-01', '2022-07-01', '2022-08-01', '2022-09-01', '2022-10-01', '2022-11-01']\n",
    "\n",
    "\n",
    "loss = get_model_performance(data_stocks, 'ABBV', 0.05, to_exclude2, dates6m, 6)\n",
    "print(f'ABBV-6m-loss: {loss} \\n')"
   ]
  },
  {
   "cell_type": "code",
   "execution_count": 20,
   "metadata": {},
   "outputs": [
    {
     "name": "stdout",
     "output_type": "stream",
     "text": [
      "ABBV-3m-loss: 1.8861132685268274 \n",
      "\n"
     ]
    }
   ],
   "source": [
    "dates3m = ['2022-05-01', '2022-06-01', '2022-07-01', '2022-08-01', '2022-09-01', '2022-10-01', '2022-11-01', '2022-12-01', '2023-01-01', '2023-02-01']\n",
    "\n",
    "loss = get_model_performance(data_stocks, 'ABBV', 0.05, to_exclude2, dates3m, 3)\n",
    "print(f'ABBV-3m-loss: {loss} \\n')"
   ]
  },
  {
   "cell_type": "code",
   "execution_count": 21,
   "metadata": {},
   "outputs": [
    {
     "name": "stdout",
     "output_type": "stream",
     "text": [
      "ABBV-1m-loss: 0.579863476673398 \n",
      "\n"
     ]
    }
   ],
   "source": [
    "dates1m = ['2022-05-01', '2022-06-01', '2022-07-01', '2022-08-01', '2022-09-01', '2022-10-01', '2022-11-01', '2022-12-01', '2023-01-01', '2023-02-01', '2023-03-01', '2023-04-01']\n",
    "\n",
    "loss = get_model_performance(data_macro, 'ABBV', 0.05, to_exclude2, dates1m, 1)\n",
    "print(f'ABBV-1m-loss: {loss} \\n')"
   ]
  },
  {
   "attachments": {},
   "cell_type": "markdown",
   "metadata": {},
   "source": [
    "MACROS + TICKERS"
   ]
  },
  {
   "cell_type": "code",
   "execution_count": 22,
   "metadata": {},
   "outputs": [],
   "source": [
    "covs = data.copy()\n",
    "to_exclude3 = ['Date']\n",
    "\n",
    "for m in macros:\n",
    "    to_exclude3.append(m)\n",
    "\n",
    "for t in tickers:\n",
    "    to_exclude3.append(t)"
   ]
  },
  {
   "attachments": {},
   "cell_type": "markdown",
   "metadata": {},
   "source": [
    "12 month"
   ]
  },
  {
   "cell_type": "code",
   "execution_count": 23,
   "metadata": {},
   "outputs": [
    {
     "name": "stdout",
     "output_type": "stream",
     "text": [
      "ABBV 12m-loss: 7.299063464241938 \n",
      "\n"
     ]
    }
   ],
   "source": [
    "dates12m = ['2022-05-01']#, '2022-06-01', '2022-07-01', '2022-08-01']\n",
    "\n",
    "loss = get_model_performance(data_stocks, 'ABBV', 0.05, to_exclude3, dates12m, 12)\n",
    "print(f'ABBV 12m-loss: {loss} \\n')"
   ]
  },
  {
   "attachments": {},
   "cell_type": "markdown",
   "metadata": {},
   "source": [
    "9 month"
   ]
  },
  {
   "cell_type": "code",
   "execution_count": 24,
   "metadata": {},
   "outputs": [
    {
     "name": "stdout",
     "output_type": "stream",
     "text": [
      "ABBV-9m-loss: 6.228951556554465 \n",
      "\n"
     ]
    }
   ],
   "source": [
    "dates9m = ['2022-05-01', '2022-06-01', '2022-07-01', '2022-08-01']\n",
    "\n",
    "loss = get_model_performance(data_stocks, 'ABBV', 0.05, to_exclude3, dates9m, 9)\n",
    "print(f'ABBV-9m-loss: {loss} \\n')"
   ]
  },
  {
   "attachments": {},
   "cell_type": "markdown",
   "metadata": {},
   "source": [
    "6 month"
   ]
  },
  {
   "cell_type": "code",
   "execution_count": 25,
   "metadata": {},
   "outputs": [
    {
     "name": "stdout",
     "output_type": "stream",
     "text": [
      "ABBV-6m-loss: 4.059930361089115 \n",
      "\n"
     ]
    }
   ],
   "source": [
    "dates6m = ['2022-05-01', '2022-06-01', '2022-07-01', '2022-08-01', '2022-09-01', '2022-10-01', '2022-11-01']\n",
    "\n",
    "\n",
    "loss = get_model_performance(data_stocks, 'ABBV', 0.05, to_exclude3, dates6m, 6)\n",
    "print(f'ABBV-6m-loss: {loss} \\n')"
   ]
  },
  {
   "attachments": {},
   "cell_type": "markdown",
   "metadata": {},
   "source": [
    "3 month"
   ]
  },
  {
   "cell_type": "code",
   "execution_count": 26,
   "metadata": {},
   "outputs": [
    {
     "name": "stdout",
     "output_type": "stream",
     "text": [
      "ABBV-3m-loss: 1.7897863604440585 \n",
      "\n"
     ]
    }
   ],
   "source": [
    "dates3m = ['2022-05-01', '2022-06-01', '2022-07-01', '2022-08-01', '2022-09-01', '2022-10-01', '2022-11-01', '2022-12-01', '2023-01-01', '2023-02-01']\n",
    "\n",
    "loss = get_model_performance(data_stocks, 'ABBV', 0.05, to_exclude3, dates3m, 3)\n",
    "print(f'ABBV-3m-loss: {loss} \\n')"
   ]
  },
  {
   "attachments": {},
   "cell_type": "markdown",
   "metadata": {},
   "source": [
    "1 month"
   ]
  },
  {
   "cell_type": "code",
   "execution_count": 27,
   "metadata": {},
   "outputs": [
    {
     "name": "stdout",
     "output_type": "stream",
     "text": [
      "ABBV-1m-loss: 0.5474342853332762 \n",
      "\n"
     ]
    }
   ],
   "source": [
    "dates1m = ['2022-05-01', '2022-06-01', '2022-07-01', '2022-08-01', '2022-09-01', '2022-10-01', '2022-11-01', '2022-12-01', '2023-01-01', '2023-02-01', '2023-03-01', '2023-04-01']\n",
    "\n",
    "loss = get_model_performance(data_macro, 'ABBV', 0.05, to_exclude3, dates1m, 1)\n",
    "print(f'ABBV-1m-loss: {loss} \\n')"
   ]
  }
 ],
 "metadata": {
  "kernelspec": {
   "display_name": "Python 3",
   "language": "python",
   "name": "python3"
  },
  "language_info": {
   "codemirror_mode": {
    "name": "ipython",
    "version": 3
   },
   "file_extension": ".py",
   "mimetype": "text/x-python",
   "name": "python",
   "nbconvert_exporter": "python",
   "pygments_lexer": "ipython3",
   "version": "3.10.11"
  },
  "orig_nbformat": 4
 },
 "nbformat": 4,
 "nbformat_minor": 2
}
