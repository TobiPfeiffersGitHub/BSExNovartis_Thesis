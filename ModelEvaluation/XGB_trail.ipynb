{
 "cells": [
  {
   "cell_type": "code",
   "execution_count": 1,
   "metadata": {},
   "outputs": [],
   "source": [
    "import numpy as np\n",
    "np.random.seed(1)\n",
    "import pandas as pd\n",
    "import scipy\n",
    "\n",
    "from sklearn.base import BaseEstimator, RegressorMixin\n",
    "from sklearn.metrics import make_scorer\n",
    "from sklearn.model_selection import GridSearchCV,RandomizedSearchCV\n",
    "\n",
    "from xgboost.sklearn import XGBRegressor\n",
    "from sklearn.ensemble import GradientBoostingRegressor\n",
    "\n",
    "from functools import partial\n",
    "\n",
    "import matplotlib.pyplot as plt\n",
    "import seaborn as sns\n",
    "\n",
    "from xgb_utils import *"
   ]
  },
  {
   "cell_type": "code",
   "execution_count": 2,
   "metadata": {},
   "outputs": [
    {
     "data": {
      "text/html": [
       "<div>\n",
       "<style scoped>\n",
       "    .dataframe tbody tr th:only-of-type {\n",
       "        vertical-align: middle;\n",
       "    }\n",
       "\n",
       "    .dataframe tbody tr th {\n",
       "        vertical-align: top;\n",
       "    }\n",
       "\n",
       "    .dataframe thead th {\n",
       "        text-align: right;\n",
       "    }\n",
       "</style>\n",
       "<table border=\"1\" class=\"dataframe\">\n",
       "  <thead>\n",
       "    <tr style=\"text-align: right;\">\n",
       "      <th></th>\n",
       "      <th>Date</th>\n",
       "      <th>unemployment_rate</th>\n",
       "      <th>CPI</th>\n",
       "      <th>treasury_yield</th>\n",
       "      <th>GDP_growth</th>\n",
       "      <th>SP500_return</th>\n",
       "      <th>AZN</th>\n",
       "      <th>BMY</th>\n",
       "      <th>JNJ</th>\n",
       "      <th>LLY</th>\n",
       "      <th>MRK</th>\n",
       "      <th>NVO</th>\n",
       "      <th>NVS</th>\n",
       "      <th>PFE</th>\n",
       "      <th>ROG</th>\n",
       "      <th>inflation_change</th>\n",
       "      <th>unemp_change</th>\n",
       "      <th>treasury_yield_change</th>\n",
       "    </tr>\n",
       "  </thead>\n",
       "  <tbody>\n",
       "    <tr>\n",
       "      <th>0</th>\n",
       "      <td>2000-02-01</td>\n",
       "      <td>4.1</td>\n",
       "      <td>170.000</td>\n",
       "      <td>6.661000</td>\n",
       "      <td>0.496560</td>\n",
       "      <td>-1.522563</td>\n",
       "      <td>-12.828964</td>\n",
       "      <td>-13.228004</td>\n",
       "      <td>-16.339821</td>\n",
       "      <td>-11.121498</td>\n",
       "      <td>-21.701151</td>\n",
       "      <td>2.220031</td>\n",
       "      <td>3.838386</td>\n",
       "      <td>-11.226228</td>\n",
       "      <td>54.440789</td>\n",
       "      <td>1.000</td>\n",
       "      <td>-0.1</td>\n",
       "      <td>-0.141500</td>\n",
       "    </tr>\n",
       "    <tr>\n",
       "      <th>1</th>\n",
       "      <td>2000-03-01</td>\n",
       "      <td>4.0</td>\n",
       "      <td>171.000</td>\n",
       "      <td>6.519500</td>\n",
       "      <td>0.511258</td>\n",
       "      <td>9.413333</td>\n",
       "      <td>22.264136</td>\n",
       "      <td>-0.218329</td>\n",
       "      <td>-2.079067</td>\n",
       "      <td>5.804243</td>\n",
       "      <td>0.913712</td>\n",
       "      <td>8.390897</td>\n",
       "      <td>6.420237</td>\n",
       "      <td>14.101954</td>\n",
       "      <td>6.922258</td>\n",
       "      <td>1.000</td>\n",
       "      <td>-0.1</td>\n",
       "      <td>-0.141500</td>\n",
       "    </tr>\n",
       "    <tr>\n",
       "      <th>2</th>\n",
       "      <td>2000-04-01</td>\n",
       "      <td>3.8</td>\n",
       "      <td>170.900</td>\n",
       "      <td>6.256522</td>\n",
       "      <td>1.327803</td>\n",
       "      <td>-3.266805</td>\n",
       "      <td>5.567379</td>\n",
       "      <td>-8.205683</td>\n",
       "      <td>17.437698</td>\n",
       "      <td>23.153694</td>\n",
       "      <td>12.400712</td>\n",
       "      <td>-0.097663</td>\n",
       "      <td>2.559423</td>\n",
       "      <td>15.213674</td>\n",
       "      <td>7.370518</td>\n",
       "      <td>-0.100</td>\n",
       "      <td>-0.2</td>\n",
       "      <td>-0.262978</td>\n",
       "    </tr>\n",
       "    <tr>\n",
       "      <th>3</th>\n",
       "      <td>2000-05-01</td>\n",
       "      <td>4.0</td>\n",
       "      <td>171.200</td>\n",
       "      <td>5.990526</td>\n",
       "      <td>-0.181797</td>\n",
       "      <td>-1.572223</td>\n",
       "      <td>-0.148357</td>\n",
       "      <td>5.395746</td>\n",
       "      <td>8.484832</td>\n",
       "      <td>-1.296597</td>\n",
       "      <td>7.374072</td>\n",
       "      <td>20.863985</td>\n",
       "      <td>5.169310</td>\n",
       "      <td>5.638019</td>\n",
       "      <td>-8.163265</td>\n",
       "      <td>0.300</td>\n",
       "      <td>0.2</td>\n",
       "      <td>-0.265995</td>\n",
       "    </tr>\n",
       "    <tr>\n",
       "      <th>4</th>\n",
       "      <td>2000-06-01</td>\n",
       "      <td>4.0</td>\n",
       "      <td>172.200</td>\n",
       "      <td>6.440455</td>\n",
       "      <td>0.305565</td>\n",
       "      <td>1.728613</td>\n",
       "      <td>10.549735</td>\n",
       "      <td>5.788826</td>\n",
       "      <td>14.239888</td>\n",
       "      <td>31.641749</td>\n",
       "      <td>3.078671</td>\n",
       "      <td>2.813690</td>\n",
       "      <td>8.474599</td>\n",
       "      <td>8.076012</td>\n",
       "      <td>13.131313</td>\n",
       "      <td>1.000</td>\n",
       "      <td>0.0</td>\n",
       "      <td>0.449928</td>\n",
       "    </tr>\n",
       "    <tr>\n",
       "      <th>...</th>\n",
       "      <td>...</td>\n",
       "      <td>...</td>\n",
       "      <td>...</td>\n",
       "      <td>...</td>\n",
       "      <td>...</td>\n",
       "      <td>...</td>\n",
       "      <td>...</td>\n",
       "      <td>...</td>\n",
       "      <td>...</td>\n",
       "      <td>...</td>\n",
       "      <td>...</td>\n",
       "      <td>...</td>\n",
       "      <td>...</td>\n",
       "      <td>...</td>\n",
       "      <td>...</td>\n",
       "      <td>...</td>\n",
       "      <td>...</td>\n",
       "      <td>...</td>\n",
       "    </tr>\n",
       "    <tr>\n",
       "      <th>275</th>\n",
       "      <td>2023-01-01</td>\n",
       "      <td>3.4</td>\n",
       "      <td>300.536</td>\n",
       "      <td>3.616190</td>\n",
       "      <td>0.390254</td>\n",
       "      <td>6.776820</td>\n",
       "      <td>-3.584079</td>\n",
       "      <td>0.972908</td>\n",
       "      <td>-7.489384</td>\n",
       "      <td>-5.928822</td>\n",
       "      <td>-2.549213</td>\n",
       "      <td>2.541749</td>\n",
       "      <td>-0.110227</td>\n",
       "      <td>-13.817335</td>\n",
       "      <td>16.968326</td>\n",
       "      <td>1.546</td>\n",
       "      <td>-0.1</td>\n",
       "      <td>-0.274810</td>\n",
       "    </tr>\n",
       "    <tr>\n",
       "      <th>276</th>\n",
       "      <td>2023-02-01</td>\n",
       "      <td>3.6</td>\n",
       "      <td>301.648</td>\n",
       "      <td>3.531500</td>\n",
       "      <td>-0.442183</td>\n",
       "      <td>-2.514271</td>\n",
       "      <td>-0.290649</td>\n",
       "      <td>-4.328217</td>\n",
       "      <td>-6.217115</td>\n",
       "      <td>-9.568502</td>\n",
       "      <td>-1.089288</td>\n",
       "      <td>1.592445</td>\n",
       "      <td>-7.172811</td>\n",
       "      <td>-7.286115</td>\n",
       "      <td>5.451681</td>\n",
       "      <td>1.112</td>\n",
       "      <td>0.2</td>\n",
       "      <td>-0.084690</td>\n",
       "    </tr>\n",
       "    <tr>\n",
       "      <th>277</th>\n",
       "      <td>2023-03-01</td>\n",
       "      <td>3.5</td>\n",
       "      <td>301.808</td>\n",
       "      <td>3.746842</td>\n",
       "      <td>-0.442183</td>\n",
       "      <td>3.313488</td>\n",
       "      <td>8.035329</td>\n",
       "      <td>0.507544</td>\n",
       "      <td>1.862736</td>\n",
       "      <td>10.703390</td>\n",
       "      <td>0.141189</td>\n",
       "      <td>12.873250</td>\n",
       "      <td>9.367574</td>\n",
       "      <td>0.566924</td>\n",
       "      <td>11.025813</td>\n",
       "      <td>0.160</td>\n",
       "      <td>-0.1</td>\n",
       "      <td>0.215342</td>\n",
       "    </tr>\n",
       "    <tr>\n",
       "      <th>278</th>\n",
       "      <td>2023-04-01</td>\n",
       "      <td>3.4</td>\n",
       "      <td>302.918</td>\n",
       "      <td>3.663043</td>\n",
       "      <td>-0.442183</td>\n",
       "      <td>1.985238</td>\n",
       "      <td>5.489119</td>\n",
       "      <td>-3.664707</td>\n",
       "      <td>5.612908</td>\n",
       "      <td>15.269915</td>\n",
       "      <td>9.289214</td>\n",
       "      <td>5.836894</td>\n",
       "      <td>16.334413</td>\n",
       "      <td>-4.681371</td>\n",
       "      <td>-1.517467</td>\n",
       "      <td>1.110</td>\n",
       "      <td>-0.1</td>\n",
       "      <td>-0.083799</td>\n",
       "    </tr>\n",
       "    <tr>\n",
       "      <th>279</th>\n",
       "      <td>2023-05-01</td>\n",
       "      <td>3.7</td>\n",
       "      <td>304.127</td>\n",
       "      <td>3.460000</td>\n",
       "      <td>-0.442183</td>\n",
       "      <td>0.461619</td>\n",
       "      <td>-0.191204</td>\n",
       "      <td>-2.695194</td>\n",
       "      <td>-5.277949</td>\n",
       "      <td>8.487855</td>\n",
       "      <td>-4.382088</td>\n",
       "      <td>-3.967915</td>\n",
       "      <td>-6.161645</td>\n",
       "      <td>-2.237080</td>\n",
       "      <td>-2.162160</td>\n",
       "      <td>0.100</td>\n",
       "      <td>0.3</td>\n",
       "      <td>-0.203043</td>\n",
       "    </tr>\n",
       "  </tbody>\n",
       "</table>\n",
       "<p>280 rows × 18 columns</p>\n",
       "</div>"
      ],
      "text/plain": [
       "           Date  unemployment_rate      CPI  treasury_yield  GDP_growth  \\\n",
       "0    2000-02-01                4.1  170.000        6.661000    0.496560   \n",
       "1    2000-03-01                4.0  171.000        6.519500    0.511258   \n",
       "2    2000-04-01                3.8  170.900        6.256522    1.327803   \n",
       "3    2000-05-01                4.0  171.200        5.990526   -0.181797   \n",
       "4    2000-06-01                4.0  172.200        6.440455    0.305565   \n",
       "..          ...                ...      ...             ...         ...   \n",
       "275  2023-01-01                3.4  300.536        3.616190    0.390254   \n",
       "276  2023-02-01                3.6  301.648        3.531500   -0.442183   \n",
       "277  2023-03-01                3.5  301.808        3.746842   -0.442183   \n",
       "278  2023-04-01                3.4  302.918        3.663043   -0.442183   \n",
       "279  2023-05-01                3.7  304.127        3.460000   -0.442183   \n",
       "\n",
       "     SP500_return        AZN        BMY        JNJ        LLY        MRK  \\\n",
       "0       -1.522563 -12.828964 -13.228004 -16.339821 -11.121498 -21.701151   \n",
       "1        9.413333  22.264136  -0.218329  -2.079067   5.804243   0.913712   \n",
       "2       -3.266805   5.567379  -8.205683  17.437698  23.153694  12.400712   \n",
       "3       -1.572223  -0.148357   5.395746   8.484832  -1.296597   7.374072   \n",
       "4        1.728613  10.549735   5.788826  14.239888  31.641749   3.078671   \n",
       "..            ...        ...        ...        ...        ...        ...   \n",
       "275      6.776820  -3.584079   0.972908  -7.489384  -5.928822  -2.549213   \n",
       "276     -2.514271  -0.290649  -4.328217  -6.217115  -9.568502  -1.089288   \n",
       "277      3.313488   8.035329   0.507544   1.862736  10.703390   0.141189   \n",
       "278      1.985238   5.489119  -3.664707   5.612908  15.269915   9.289214   \n",
       "279      0.461619  -0.191204  -2.695194  -5.277949   8.487855  -4.382088   \n",
       "\n",
       "           NVO        NVS        PFE        ROG  inflation_change  \\\n",
       "0     2.220031   3.838386 -11.226228  54.440789             1.000   \n",
       "1     8.390897   6.420237  14.101954   6.922258             1.000   \n",
       "2    -0.097663   2.559423  15.213674   7.370518            -0.100   \n",
       "3    20.863985   5.169310   5.638019  -8.163265             0.300   \n",
       "4     2.813690   8.474599   8.076012  13.131313             1.000   \n",
       "..         ...        ...        ...        ...               ...   \n",
       "275   2.541749  -0.110227 -13.817335  16.968326             1.546   \n",
       "276   1.592445  -7.172811  -7.286115   5.451681             1.112   \n",
       "277  12.873250   9.367574   0.566924  11.025813             0.160   \n",
       "278   5.836894  16.334413  -4.681371  -1.517467             1.110   \n",
       "279  -3.967915  -6.161645  -2.237080  -2.162160             0.100   \n",
       "\n",
       "     unemp_change  treasury_yield_change  \n",
       "0            -0.1              -0.141500  \n",
       "1            -0.1              -0.141500  \n",
       "2            -0.2              -0.262978  \n",
       "3             0.2              -0.265995  \n",
       "4             0.0               0.449928  \n",
       "..            ...                    ...  \n",
       "275          -0.1              -0.274810  \n",
       "276           0.2              -0.084690  \n",
       "277          -0.1               0.215342  \n",
       "278          -0.1              -0.083799  \n",
       "279           0.3              -0.203043  \n",
       "\n",
       "[280 rows x 18 columns]"
      ]
     },
     "execution_count": 2,
     "metadata": {},
     "output_type": "execute_result"
    }
   ],
   "source": [
    "data = pd.read_csv('clean_monthly_data.csv')\n",
    "data"
   ]
  },
  {
   "cell_type": "code",
   "execution_count": 3,
   "metadata": {},
   "outputs": [],
   "source": [
    "macros = ['unemployment_rate', 'GDP_growth', 'SP500_return', 'inflation_change', 'unemp_change', 'treasury_yield_change']\n",
    "\n",
    "for m in macros:\n",
    "    data[f'{m}_lag'] = data[m].shift(1)\n",
    "    data[f'{m}_lag2'] = data[m].shift(2)"
   ]
  },
  {
   "cell_type": "code",
   "execution_count": 4,
   "metadata": {},
   "outputs": [],
   "source": [
    "data['Quater_dummy'] = 0\n",
    "data['Quater_rippel'] = 0\n",
    "data['Date'] = pd.to_datetime(data['Date'])\n",
    "for index, row in data.iterrows():\n",
    "    if row['Date'].month in [3, 6, 9, 12]:\n",
    "        data.loc[index, 'Quater_dummy'] = 1\n",
    "    if row['Date'].month in [1, 4, 7, 10]:\n",
    "        data.loc[index, 'Quater_dummy'] = 1\n"
   ]
  },
  {
   "cell_type": "code",
   "execution_count": 5,
   "metadata": {},
   "outputs": [],
   "source": [
    "tickers = ['NVS', 'AZN', 'BMY', 'JNJ', 'LLY', 'MRK', 'NVO', 'PFE', 'ROG']\n",
    "\n",
    "for t in tickers:\n",
    "    data[f'{t}_lag'] = data[t].shift(1)\n",
    "    data[f'{t}_lag2'] = data[t].shift(2)"
   ]
  },
  {
   "attachments": {},
   "cell_type": "markdown",
   "metadata": {},
   "source": [
    "#### 1. Macros Only"
   ]
  },
  {
   "cell_type": "code",
   "execution_count": 6,
   "metadata": {},
   "outputs": [],
   "source": [
    "data_macro = data.copy()\n",
    "to_exclude = []\n",
    "\n",
    "for t in tickers:\n",
    "    to_exclude.append(t)\n",
    "    to_exclude.append(f'{t}_lag')\n",
    "    to_exclude.append(f'{t}_lag2')\n",
    "\n",
    "for m in macros:\n",
    "    to_exclude.append(m)\n",
    "\n",
    "\n",
    "to_exclude.append('Date')"
   ]
  },
  {
   "attachments": {},
   "cell_type": "markdown",
   "metadata": {},
   "source": [
    "1 month"
   ]
  },
  {
   "cell_type": "code",
   "execution_count": 7,
   "metadata": {},
   "outputs": [],
   "source": [
    "dates1m = ['2022-05-01', '2022-06-01', '2022-07-01', '2022-08-01', '2022-09-01', '2022-10-01', '2022-11-01', '2022-12-01', '2023-01-01', '2023-02-01', '2023-03-01', '2023-04-01']\n",
    "\n",
    "params = {'n_estimators': [100, 150, 200],\n",
    "          'max_depth': [3, 5, 7],\n",
    "          'learning_rate': [0.01, 0.1]}"
   ]
  },
  {
   "cell_type": "code",
   "execution_count": 8,
   "metadata": {},
   "outputs": [
    {
     "data": {
      "text/plain": [
       "0.5239553478560977"
      ]
     },
     "execution_count": 8,
     "metadata": {},
     "output_type": "execute_result"
    }
   ],
   "source": [
    "nvs_loss = get_model_performance(data_macro, 'NVS', 0.05, to_exclude, dates1m, 1)\n",
    "nvs_loss"
   ]
  },
  {
   "cell_type": "code",
   "execution_count": 9,
   "metadata": {},
   "outputs": [
    {
     "data": {
      "text/plain": [
       "0.5239553478560977"
      ]
     },
     "execution_count": 9,
     "metadata": {},
     "output_type": "execute_result"
    }
   ],
   "source": [
    "nvs_loss"
   ]
  },
  {
   "cell_type": "code",
   "execution_count": 10,
   "metadata": {},
   "outputs": [
    {
     "name": "stdout",
     "output_type": "stream",
     "text": [
      "NVS-1m-loss: 0.5239559216495931 \n",
      "\n",
      "AZN-1m-loss: 0.7549644387361227 \n",
      "\n",
      "BMY-1m-loss: 0.5419768858606927 \n",
      "\n",
      "JNJ-1m-loss: 0.4901810858423284 \n",
      "\n",
      "LLY-1m-loss: 0.709682770815563 \n",
      "\n",
      "MRK-1m-loss: 0.6250140018098828 \n",
      "\n",
      "NVO-1m-loss: 0.5442496894780305 \n",
      "\n",
      "PFE-1m-loss: 0.8359548137478647 \n",
      "\n",
      "ROG-1m-loss: 3.727945998717294 \n",
      "\n"
     ]
    }
   ],
   "source": [
    "for t in tickers:\n",
    "    loss = get_model_performance(data_macro, t, 0.05, to_exclude, dates1m, 1)\n",
    "    print(f'{t}-1m-loss: {loss} \\n')"
   ]
  },
  {
   "cell_type": "code",
   "execution_count": 11,
   "metadata": {},
   "outputs": [
    {
     "name": "stdout",
     "output_type": "stream",
     "text": [
      "NVS-3m-loss: 1.5661282088197122 \n",
      "\n",
      "AZN-3m-loss: 3.840173678050801 \n",
      "\n",
      "BMY-3m-loss: 1.826695351318741 \n",
      "\n",
      "JNJ-3m-loss: 1.4072060701943898 \n",
      "\n",
      "LLY-3m-loss: 2.057243672410013 \n",
      "\n",
      "MRK-3m-loss: 1.9432344497255656 \n",
      "\n",
      "NVO-3m-loss: 1.8304341168478622 \n",
      "\n",
      "PFE-3m-loss: 3.407969091468851 \n",
      "\n",
      "ROG-3m-loss: 13.322920795471157 \n",
      "\n"
     ]
    }
   ],
   "source": [
    "dates3m = ['2022-05-01', '2022-06-01', '2022-07-01', '2022-08-01', '2022-09-01', '2022-10-01', '2022-11-01', '2022-12-01', '2023-01-01', '2023-02-01']\n",
    "\n",
    "for t in tickers:\n",
    "    loss = get_model_performance(data_macro, t, 0.05, to_exclude, dates3m, 3)\n",
    "    print(f'{t}-3m-loss: {loss} \\n')"
   ]
  },
  {
   "cell_type": "code",
   "execution_count": 12,
   "metadata": {},
   "outputs": [
    {
     "name": "stdout",
     "output_type": "stream",
     "text": [
      "NVS-6m-loss: 3.1687691185402818 \n",
      "\n",
      "AZN-6m-loss: 7.204899218205503 \n",
      "\n",
      "BMY-6m-loss: 4.276191158368844 \n",
      "\n",
      "JNJ-6m-loss: 2.4195996200756347 \n",
      "\n",
      "LLY-6m-loss: 3.980943187785424 \n",
      "\n",
      "MRK-6m-loss: 4.108864749474063 \n",
      "\n",
      "NVO-6m-loss: 3.827016876095626 \n",
      "\n",
      "PFE-6m-loss: 6.799134375728973 \n",
      "\n",
      "ROG-6m-loss: 35.425585719597294 \n",
      "\n"
     ]
    }
   ],
   "source": [
    "dates6m = ['2022-05-01', '2022-06-01', '2022-07-01', '2022-08-01', '2022-09-01', '2022-10-01', '2022-11-01']\n",
    "\n",
    "for t in tickers:\n",
    "    loss = get_model_performance(data_macro, t, 0.05, to_exclude, dates6m, 6)\n",
    "    print(f'{t}-6m-loss: {loss} \\n')"
   ]
  },
  {
   "cell_type": "code",
   "execution_count": 13,
   "metadata": {},
   "outputs": [
    {
     "name": "stdout",
     "output_type": "stream",
     "text": [
      "NVS-9m-loss: 4.38673806823542 \n",
      "\n",
      "AZN-9m-loss: 8.547382100712772 \n",
      "\n",
      "BMY-9m-loss: 5.268729767336063 \n",
      "\n",
      "JNJ-9m-loss: 3.2656714137658147 \n",
      "\n",
      "LLY-9m-loss: 5.922216346150734 \n",
      "\n",
      "MRK-9m-loss: 5.992369632666562 \n",
      "\n",
      "NVO-9m-loss: 5.380677251542048 \n",
      "\n",
      "PFE-9m-loss: 9.79468818724598 \n",
      "\n",
      "ROG-9m-loss: 42.697001141521554 \n",
      "\n"
     ]
    }
   ],
   "source": [
    "dates9m = ['2022-05-01', '2022-06-01', '2022-07-01', '2022-08-01']\n",
    "\n",
    "for t in tickers:\n",
    "    loss = get_model_performance(data_macro, t, 0.05, to_exclude, dates9m, 9)\n",
    "    print(f'{t}-9m-loss: {loss} \\n')"
   ]
  },
  {
   "cell_type": "code",
   "execution_count": 14,
   "metadata": {},
   "outputs": [
    {
     "name": "stdout",
     "output_type": "stream",
     "text": [
      "NVS-12m-loss: 6.13896146631126 \n",
      "\n",
      "AZN-12m-loss: 8.886552337110487 \n",
      "\n",
      "BMY-12m-loss: 5.522447148382341 \n",
      "\n",
      "JNJ-12m-loss: 4.0551859684158655 \n",
      "\n",
      "LLY-12m-loss: 7.847175779100317 \n",
      "\n",
      "MRK-12m-loss: 7.577802987926716 \n",
      "\n",
      "NVO-12m-loss: 6.527368330385726 \n",
      "\n",
      "PFE-12m-loss: 11.486160957994306 \n",
      "\n",
      "ROG-12m-loss: 42.77728389596288 \n",
      "\n"
     ]
    }
   ],
   "source": [
    "dates12m = ['2022-05-01']#, '2022-06-01', '2022-07-01', '2022-08-01']\n",
    "\n",
    "for t in tickers:\n",
    "    loss = get_model_performance(data_macro, t, 0.05, to_exclude, dates12m, 12)\n",
    "    print(f'{t}-12m-loss: {loss} \\n')"
   ]
  },
  {
   "attachments": {},
   "cell_type": "markdown",
   "metadata": {},
   "source": [
    "#### 2. Ticker data"
   ]
  },
  {
   "cell_type": "code",
   "execution_count": 15,
   "metadata": {},
   "outputs": [],
   "source": [
    "data_stocks = data.copy()\n",
    "to_exclude2 = []\n",
    "\n",
    "for m in macros:\n",
    "    to_exclude2.append(m)\n",
    "    to_exclude2.append(f'{m}_lag')\n",
    "    to_exclude2.append(f'{m}_lag2')\n",
    "\n",
    "for t in tickers:\n",
    "    to_exclude2.append(t)\n",
    "\n",
    "\n",
    "to_exclude2.append('Date')"
   ]
  },
  {
   "cell_type": "code",
   "execution_count": 16,
   "metadata": {},
   "outputs": [
    {
     "name": "stdout",
     "output_type": "stream",
     "text": [
      "NVS-1m-loss: 0.5803374065931469\n",
      "AZN-1m-loss: 0.7358063956929111\n",
      "BMY-1m-loss: 0.5057580128180901\n",
      "JNJ-1m-loss: 0.5768586489189557\n",
      "LLY-1m-loss: 0.6748760254719305\n",
      "MRK-1m-loss: 0.5963140811155355\n",
      "NVO-1m-loss: 0.6320091865172993\n",
      "PFE-1m-loss: 0.8875392596994515\n",
      "ROG-1m-loss: 3.9550240920112323\n"
     ]
    }
   ],
   "source": [
    "for t in tickers:\n",
    "    loss = get_model_performance(data_stocks, t, 0.05, to_exclude2, dates1m, 1)\n",
    "    print(f'{t}-1m-loss: {loss}')"
   ]
  },
  {
   "cell_type": "code",
   "execution_count": 17,
   "metadata": {},
   "outputs": [
    {
     "name": "stdout",
     "output_type": "stream",
     "text": [
      "NVS-3m-loss: 1.6402179356300877\n",
      "AZN-3m-loss: 2.376837862079168\n",
      "BMY-3m-loss: 1.5325136641029364\n",
      "JNJ-3m-loss: 2.028404638862919\n",
      "LLY-3m-loss: 1.969083194430258\n",
      "MRK-3m-loss: 1.797002554513521\n",
      "NVO-3m-loss: 2.010587279067211\n",
      "PFE-3m-loss: 3.0186560990631435\n",
      "ROG-3m-loss: 14.067851034378004\n"
     ]
    }
   ],
   "source": [
    "for t in tickers:\n",
    "    loss = get_model_performance(data_stocks, t, 0.05, to_exclude2, dates3m, 3)\n",
    "    print(f'{t}-3m-loss: {loss}')"
   ]
  },
  {
   "cell_type": "code",
   "execution_count": 18,
   "metadata": {},
   "outputs": [
    {
     "name": "stdout",
     "output_type": "stream",
     "text": [
      "NVS-6m-loss: 3.041988445970439\n",
      "AZN-6m-loss: 4.958200910873312\n",
      "BMY-6m-loss: 3.153370257831155\n",
      "JNJ-6m-loss: 3.709121595933786\n",
      "LLY-6m-loss: 3.803489737701281\n",
      "MRK-6m-loss: 3.7200848847229446\n",
      "NVO-6m-loss: 4.205287294485195\n",
      "PFE-6m-loss: 6.430450532903488\n",
      "ROG-6m-loss: 38.36617731070508\n"
     ]
    }
   ],
   "source": [
    "for t in tickers:\n",
    "    loss = get_model_performance(data_stocks, t, 0.05, to_exclude2, dates6m, 6)\n",
    "    print(f'{t}-6m-loss: {loss}')"
   ]
  },
  {
   "cell_type": "code",
   "execution_count": 19,
   "metadata": {},
   "outputs": [
    {
     "name": "stdout",
     "output_type": "stream",
     "text": [
      "NVS-9m-loss: 4.49333143768882\n",
      "AZN-9m-loss: 7.5075582510616865\n",
      "BMY-9m-loss: 4.721587675652011\n",
      "JNJ-9m-loss: 5.926453443736458\n",
      "LLY-9m-loss: 5.895437282052227\n",
      "MRK-9m-loss: 5.432897200144502\n",
      "NVO-9m-loss: 6.018568369631833\n",
      "PFE-9m-loss: 9.164318003641498\n",
      "ROG-9m-loss: 44.576784711869735\n"
     ]
    }
   ],
   "source": [
    "for t in tickers:\n",
    "    loss = get_model_performance(data_stocks, t, 0.05, to_exclude2, dates9m, 9)\n",
    "    print(f'{t}-9m-loss: {loss}')"
   ]
  },
  {
   "cell_type": "code",
   "execution_count": 20,
   "metadata": {},
   "outputs": [
    {
     "name": "stdout",
     "output_type": "stream",
     "text": [
      "NVS-12m-loss: 7.4929077868004175\n",
      "AZN-12m-loss: 9.009188016236195\n",
      "BMY-12m-loss: 6.082053384560985\n",
      "JNJ-12m-loss: 7.522624581708163\n",
      "LLY-12m-loss: 8.102253037789099\n",
      "MRK-12m-loss: 7.0505440580714644\n",
      "NVO-12m-loss: 7.488226256280775\n",
      "PFE-12m-loss: 10.540177684888027\n",
      "ROG-12m-loss: 46.98335667251931\n"
     ]
    }
   ],
   "source": [
    "for t in tickers:\n",
    "    loss = get_model_performance(data_stocks, t, 0.05, to_exclude2, dates12m, 12)\n",
    "    print(f'{t}-12m-loss: {loss}')"
   ]
  },
  {
   "attachments": {},
   "cell_type": "markdown",
   "metadata": {},
   "source": [
    "3. All Covariates"
   ]
  },
  {
   "cell_type": "code",
   "execution_count": 21,
   "metadata": {},
   "outputs": [],
   "source": [
    "covs = data.copy()\n",
    "to_exclude3 = ['Date']\n",
    "\n",
    "for m in macros:\n",
    "    to_exclude3.append(m)\n",
    "\n",
    "for t in tickers:\n",
    "    to_exclude3.append(t)"
   ]
  },
  {
   "cell_type": "code",
   "execution_count": 22,
   "metadata": {},
   "outputs": [
    {
     "name": "stdout",
     "output_type": "stream",
     "text": [
      "NVS-1m-loss: 0.5173433288116877\n",
      "AZN-1m-loss: 0.765374563825267\n",
      "BMY-1m-loss: 0.501349733805026\n",
      "JNJ-1m-loss: 0.5750175212326086\n",
      "LLY-1m-loss: 0.6910964589521451\n",
      "MRK-1m-loss: 0.6067842576227013\n",
      "NVO-1m-loss: 0.6289385630323657\n",
      "PFE-1m-loss: 0.9065718142465173\n",
      "ROG-1m-loss: 4.027524707503015\n"
     ]
    }
   ],
   "source": [
    "for t in tickers:\n",
    "    loss = get_model_performance(covs, t, 0.05, to_exclude3, dates1m, 1)\n",
    "    print(f'{t}-1m-loss: {loss}')"
   ]
  },
  {
   "cell_type": "code",
   "execution_count": 23,
   "metadata": {},
   "outputs": [
    {
     "name": "stdout",
     "output_type": "stream",
     "text": [
      "NVS-3m-loss: 1.5542470205636516\n",
      "AZN-3m-loss: 2.4831394258782984\n",
      "BMY-3m-loss: 1.5325136641029364\n",
      "JNJ-3m-loss: 1.9709052757454404\n",
      "LLY-3m-loss: 2.0275584746730133\n",
      "MRK-3m-loss: 1.83434694155276\n",
      "NVO-3m-loss: 2.00066603871881\n",
      "PFE-3m-loss: 3.10608565067614\n",
      "ROG-3m-loss: 13.891951513204223\n"
     ]
    }
   ],
   "source": [
    "dates3m = ['2022-05-01', '2022-06-01', '2022-07-01', '2022-08-01', '2022-09-01', '2022-10-01', '2022-11-01', '2022-12-01', '2023-01-01', '2023-02-01']\n",
    "for t in tickers:\n",
    "    loss = get_model_performance(covs, t, 0.05, to_exclude3, dates3m, 3)\n",
    "    print(f'{t}-3m-loss: {loss}')"
   ]
  },
  {
   "cell_type": "code",
   "execution_count": 24,
   "metadata": {},
   "outputs": [
    {
     "name": "stdout",
     "output_type": "stream",
     "text": [
      "NVS-6m-loss: 3.1687691185402818\n",
      "AZN-6m-loss: 5.207271918052003\n",
      "BMY-6m-loss: 3.153370257831155\n",
      "JNJ-6m-loss: 3.829529027276521\n",
      "LLY-6m-loss: 3.9077707820647016\n",
      "MRK-6m-loss: 3.8528156726522407\n",
      "NVO-6m-loss: 4.1818006221410045\n",
      "PFE-6m-loss: 6.608829219021631\n",
      "ROG-6m-loss: 37.2783193203398\n"
     ]
    }
   ],
   "source": [
    "dates6m = ['2022-05-01', '2022-06-01', '2022-07-01', '2022-08-01', '2022-09-01', '2022-10-01', '2022-11-01']\n",
    "for t in tickers:\n",
    "    loss = get_model_performance(covs, t, 0.05, to_exclude3, dates6m, 6)\n",
    "    print(f'{t}-6m-loss: {loss}')"
   ]
  },
  {
   "cell_type": "code",
   "execution_count": 25,
   "metadata": {},
   "outputs": [
    {
     "name": "stdout",
     "output_type": "stream",
     "text": [
      "NVS-9m-loss: 4.38673806823542\n",
      "AZN-9m-loss: 7.863942504330467\n",
      "BMY-9m-loss: 4.721587675652011\n",
      "JNJ-9m-loss: 6.015470341046031\n",
      "LLY-9m-loss: 5.943836502886198\n",
      "MRK-9m-loss: 5.671022455286314\n",
      "NVO-9m-loss: 5.969657598083135\n",
      "PFE-9m-loss: 9.492992079558016\n",
      "ROG-9m-loss: 43.80659929150879\n"
     ]
    }
   ],
   "source": [
    "dates9m = ['2022-05-01', '2022-06-01', '2022-07-01', '2022-08-01'] \n",
    "for t in tickers:\n",
    "    loss = get_model_performance(covs, t, 0.05, to_exclude3, dates9m, 9)\n",
    "    print(f'{t}-9m-loss: {loss}')"
   ]
  },
  {
   "cell_type": "code",
   "execution_count": 26,
   "metadata": {},
   "outputs": [
    {
     "name": "stdout",
     "output_type": "stream",
     "text": [
      "NVS-12m-loss: 6.13896146631126\n",
      "AZN-12m-loss: 9.189254935993628\n",
      "BMY-12m-loss: 6.082053384560985\n",
      "JNJ-12m-loss: 7.522624581708163\n",
      "LLY-12m-loss: 8.226739052944357\n",
      "MRK-12m-loss: 7.303754971615112\n",
      "NVO-12m-loss: 7.488226256280775\n",
      "PFE-12m-loss: 10.88343828778542\n",
      "ROG-12m-loss: 46.91995500345865\n"
     ]
    }
   ],
   "source": [
    "dates12m = ['2022-05-01']\n",
    "for t in tickers:\n",
    "    loss = get_model_performance(covs, t, 0.05, to_exclude3, dates12m, 12)\n",
    "    print(f'{t}-12m-loss: {loss}')"
   ]
  }
 ],
 "metadata": {
  "kernelspec": {
   "display_name": "Python 3",
   "language": "python",
   "name": "python3"
  },
  "language_info": {
   "codemirror_mode": {
    "name": "ipython",
    "version": 3
   },
   "file_extension": ".py",
   "mimetype": "text/x-python",
   "name": "python",
   "nbconvert_exporter": "python",
   "pygments_lexer": "ipython3",
   "version": "3.10.11"
  },
  "orig_nbformat": 4
 },
 "nbformat": 4,
 "nbformat_minor": 2
}
