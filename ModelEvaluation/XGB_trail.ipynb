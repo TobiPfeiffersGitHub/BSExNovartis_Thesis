{
 "cells": [
  {
   "cell_type": "code",
   "execution_count": 1,
   "metadata": {},
   "outputs": [],
   "source": [
    "import numpy as np\n",
    "np.random.seed(1)\n",
    "import pandas as pd\n",
    "import scipy\n",
    "\n",
    "from sklearn.base import BaseEstimator, RegressorMixin\n",
    "from sklearn.metrics import make_scorer\n",
    "from sklearn.model_selection import GridSearchCV,RandomizedSearchCV\n",
    "\n",
    "from xgboost.sklearn import XGBRegressor\n",
    "from sklearn.ensemble import GradientBoostingRegressor\n",
    "\n",
    "from functools import partial\n",
    "\n",
    "import matplotlib.pyplot as plt\n",
    "import seaborn as sns\n",
    "\n",
    "from xgb_utils import *"
   ]
  },
  {
   "cell_type": "code",
   "execution_count": 2,
   "metadata": {},
   "outputs": [
    {
     "data": {
      "text/html": [
       "<div>\n",
       "<style scoped>\n",
       "    .dataframe tbody tr th:only-of-type {\n",
       "        vertical-align: middle;\n",
       "    }\n",
       "\n",
       "    .dataframe tbody tr th {\n",
       "        vertical-align: top;\n",
       "    }\n",
       "\n",
       "    .dataframe thead th {\n",
       "        text-align: right;\n",
       "    }\n",
       "</style>\n",
       "<table border=\"1\" class=\"dataframe\">\n",
       "  <thead>\n",
       "    <tr style=\"text-align: right;\">\n",
       "      <th></th>\n",
       "      <th>Date</th>\n",
       "      <th>unemployment_rate</th>\n",
       "      <th>CPI</th>\n",
       "      <th>treasury_yield</th>\n",
       "      <th>GDP_growth</th>\n",
       "      <th>SP500_return</th>\n",
       "      <th>AZN</th>\n",
       "      <th>BMY</th>\n",
       "      <th>JNJ</th>\n",
       "      <th>LLY</th>\n",
       "      <th>MRK</th>\n",
       "      <th>NVO</th>\n",
       "      <th>NVS</th>\n",
       "      <th>PFE</th>\n",
       "      <th>ROG</th>\n",
       "      <th>inflation_change</th>\n",
       "      <th>unemp_change</th>\n",
       "      <th>treasury_yield_change</th>\n",
       "    </tr>\n",
       "  </thead>\n",
       "  <tbody>\n",
       "    <tr>\n",
       "      <th>0</th>\n",
       "      <td>2000-02-01</td>\n",
       "      <td>4.1</td>\n",
       "      <td>170.000</td>\n",
       "      <td>6.661000</td>\n",
       "      <td>0.496560</td>\n",
       "      <td>-1.522563</td>\n",
       "      <td>-12.828964</td>\n",
       "      <td>-13.228004</td>\n",
       "      <td>-16.339821</td>\n",
       "      <td>-11.121498</td>\n",
       "      <td>-21.701151</td>\n",
       "      <td>2.220031</td>\n",
       "      <td>3.838386</td>\n",
       "      <td>-11.226228</td>\n",
       "      <td>54.440789</td>\n",
       "      <td>1.000</td>\n",
       "      <td>-0.1</td>\n",
       "      <td>-0.141500</td>\n",
       "    </tr>\n",
       "    <tr>\n",
       "      <th>1</th>\n",
       "      <td>2000-03-01</td>\n",
       "      <td>4.0</td>\n",
       "      <td>171.000</td>\n",
       "      <td>6.519500</td>\n",
       "      <td>0.511258</td>\n",
       "      <td>9.413333</td>\n",
       "      <td>22.264136</td>\n",
       "      <td>-0.218329</td>\n",
       "      <td>-2.079067</td>\n",
       "      <td>5.804243</td>\n",
       "      <td>0.913712</td>\n",
       "      <td>8.390897</td>\n",
       "      <td>6.420237</td>\n",
       "      <td>14.101954</td>\n",
       "      <td>6.922258</td>\n",
       "      <td>1.000</td>\n",
       "      <td>-0.1</td>\n",
       "      <td>-0.141500</td>\n",
       "    </tr>\n",
       "    <tr>\n",
       "      <th>2</th>\n",
       "      <td>2000-04-01</td>\n",
       "      <td>3.8</td>\n",
       "      <td>170.900</td>\n",
       "      <td>6.256522</td>\n",
       "      <td>1.327803</td>\n",
       "      <td>-3.266805</td>\n",
       "      <td>5.567379</td>\n",
       "      <td>-8.205683</td>\n",
       "      <td>17.437698</td>\n",
       "      <td>23.153694</td>\n",
       "      <td>12.400712</td>\n",
       "      <td>-0.097663</td>\n",
       "      <td>2.559423</td>\n",
       "      <td>15.213674</td>\n",
       "      <td>7.370518</td>\n",
       "      <td>-0.100</td>\n",
       "      <td>-0.2</td>\n",
       "      <td>-0.262978</td>\n",
       "    </tr>\n",
       "    <tr>\n",
       "      <th>3</th>\n",
       "      <td>2000-05-01</td>\n",
       "      <td>4.0</td>\n",
       "      <td>171.200</td>\n",
       "      <td>5.990526</td>\n",
       "      <td>-0.181797</td>\n",
       "      <td>-1.572223</td>\n",
       "      <td>-0.148357</td>\n",
       "      <td>5.395746</td>\n",
       "      <td>8.484832</td>\n",
       "      <td>-1.296597</td>\n",
       "      <td>7.374072</td>\n",
       "      <td>20.863985</td>\n",
       "      <td>5.169310</td>\n",
       "      <td>5.638019</td>\n",
       "      <td>-8.163265</td>\n",
       "      <td>0.300</td>\n",
       "      <td>0.2</td>\n",
       "      <td>-0.265995</td>\n",
       "    </tr>\n",
       "    <tr>\n",
       "      <th>4</th>\n",
       "      <td>2000-06-01</td>\n",
       "      <td>4.0</td>\n",
       "      <td>172.200</td>\n",
       "      <td>6.440455</td>\n",
       "      <td>0.305565</td>\n",
       "      <td>1.728613</td>\n",
       "      <td>10.549735</td>\n",
       "      <td>5.788826</td>\n",
       "      <td>14.239888</td>\n",
       "      <td>31.641749</td>\n",
       "      <td>3.078671</td>\n",
       "      <td>2.813690</td>\n",
       "      <td>8.474599</td>\n",
       "      <td>8.076012</td>\n",
       "      <td>13.131313</td>\n",
       "      <td>1.000</td>\n",
       "      <td>0.0</td>\n",
       "      <td>0.449928</td>\n",
       "    </tr>\n",
       "    <tr>\n",
       "      <th>...</th>\n",
       "      <td>...</td>\n",
       "      <td>...</td>\n",
       "      <td>...</td>\n",
       "      <td>...</td>\n",
       "      <td>...</td>\n",
       "      <td>...</td>\n",
       "      <td>...</td>\n",
       "      <td>...</td>\n",
       "      <td>...</td>\n",
       "      <td>...</td>\n",
       "      <td>...</td>\n",
       "      <td>...</td>\n",
       "      <td>...</td>\n",
       "      <td>...</td>\n",
       "      <td>...</td>\n",
       "      <td>...</td>\n",
       "      <td>...</td>\n",
       "      <td>...</td>\n",
       "    </tr>\n",
       "    <tr>\n",
       "      <th>275</th>\n",
       "      <td>2023-01-01</td>\n",
       "      <td>3.4</td>\n",
       "      <td>300.536</td>\n",
       "      <td>3.616190</td>\n",
       "      <td>0.390254</td>\n",
       "      <td>6.776820</td>\n",
       "      <td>-3.584079</td>\n",
       "      <td>0.972908</td>\n",
       "      <td>-7.489384</td>\n",
       "      <td>-5.928822</td>\n",
       "      <td>-2.549213</td>\n",
       "      <td>2.541749</td>\n",
       "      <td>-0.110227</td>\n",
       "      <td>-13.817335</td>\n",
       "      <td>16.968326</td>\n",
       "      <td>1.546</td>\n",
       "      <td>-0.1</td>\n",
       "      <td>-0.274810</td>\n",
       "    </tr>\n",
       "    <tr>\n",
       "      <th>276</th>\n",
       "      <td>2023-02-01</td>\n",
       "      <td>3.6</td>\n",
       "      <td>301.648</td>\n",
       "      <td>3.531500</td>\n",
       "      <td>-0.442183</td>\n",
       "      <td>-2.514271</td>\n",
       "      <td>-0.290649</td>\n",
       "      <td>-4.328217</td>\n",
       "      <td>-6.217115</td>\n",
       "      <td>-9.568502</td>\n",
       "      <td>-1.089288</td>\n",
       "      <td>1.592445</td>\n",
       "      <td>-7.172811</td>\n",
       "      <td>-7.286115</td>\n",
       "      <td>5.451681</td>\n",
       "      <td>1.112</td>\n",
       "      <td>0.2</td>\n",
       "      <td>-0.084690</td>\n",
       "    </tr>\n",
       "    <tr>\n",
       "      <th>277</th>\n",
       "      <td>2023-03-01</td>\n",
       "      <td>3.5</td>\n",
       "      <td>301.808</td>\n",
       "      <td>3.746842</td>\n",
       "      <td>-0.442183</td>\n",
       "      <td>3.313488</td>\n",
       "      <td>8.035329</td>\n",
       "      <td>0.507544</td>\n",
       "      <td>1.862736</td>\n",
       "      <td>10.703390</td>\n",
       "      <td>0.141189</td>\n",
       "      <td>12.873250</td>\n",
       "      <td>9.367574</td>\n",
       "      <td>0.566924</td>\n",
       "      <td>11.025813</td>\n",
       "      <td>0.160</td>\n",
       "      <td>-0.1</td>\n",
       "      <td>0.215342</td>\n",
       "    </tr>\n",
       "    <tr>\n",
       "      <th>278</th>\n",
       "      <td>2023-04-01</td>\n",
       "      <td>3.4</td>\n",
       "      <td>302.918</td>\n",
       "      <td>3.663043</td>\n",
       "      <td>-0.442183</td>\n",
       "      <td>1.985238</td>\n",
       "      <td>5.489119</td>\n",
       "      <td>-3.664707</td>\n",
       "      <td>5.612908</td>\n",
       "      <td>15.269915</td>\n",
       "      <td>9.289214</td>\n",
       "      <td>5.836894</td>\n",
       "      <td>16.334413</td>\n",
       "      <td>-4.681371</td>\n",
       "      <td>-1.517467</td>\n",
       "      <td>1.110</td>\n",
       "      <td>-0.1</td>\n",
       "      <td>-0.083799</td>\n",
       "    </tr>\n",
       "    <tr>\n",
       "      <th>279</th>\n",
       "      <td>2023-05-01</td>\n",
       "      <td>3.7</td>\n",
       "      <td>304.127</td>\n",
       "      <td>3.460000</td>\n",
       "      <td>-0.442183</td>\n",
       "      <td>0.461619</td>\n",
       "      <td>-0.191204</td>\n",
       "      <td>-2.695194</td>\n",
       "      <td>-5.277949</td>\n",
       "      <td>8.487855</td>\n",
       "      <td>-4.382088</td>\n",
       "      <td>-3.967915</td>\n",
       "      <td>-6.161645</td>\n",
       "      <td>-2.237080</td>\n",
       "      <td>-2.162160</td>\n",
       "      <td>0.100</td>\n",
       "      <td>0.3</td>\n",
       "      <td>-0.203043</td>\n",
       "    </tr>\n",
       "  </tbody>\n",
       "</table>\n",
       "<p>280 rows × 18 columns</p>\n",
       "</div>"
      ],
      "text/plain": [
       "           Date  unemployment_rate      CPI  treasury_yield  GDP_growth  \\\n",
       "0    2000-02-01                4.1  170.000        6.661000    0.496560   \n",
       "1    2000-03-01                4.0  171.000        6.519500    0.511258   \n",
       "2    2000-04-01                3.8  170.900        6.256522    1.327803   \n",
       "3    2000-05-01                4.0  171.200        5.990526   -0.181797   \n",
       "4    2000-06-01                4.0  172.200        6.440455    0.305565   \n",
       "..          ...                ...      ...             ...         ...   \n",
       "275  2023-01-01                3.4  300.536        3.616190    0.390254   \n",
       "276  2023-02-01                3.6  301.648        3.531500   -0.442183   \n",
       "277  2023-03-01                3.5  301.808        3.746842   -0.442183   \n",
       "278  2023-04-01                3.4  302.918        3.663043   -0.442183   \n",
       "279  2023-05-01                3.7  304.127        3.460000   -0.442183   \n",
       "\n",
       "     SP500_return        AZN        BMY        JNJ        LLY        MRK  \\\n",
       "0       -1.522563 -12.828964 -13.228004 -16.339821 -11.121498 -21.701151   \n",
       "1        9.413333  22.264136  -0.218329  -2.079067   5.804243   0.913712   \n",
       "2       -3.266805   5.567379  -8.205683  17.437698  23.153694  12.400712   \n",
       "3       -1.572223  -0.148357   5.395746   8.484832  -1.296597   7.374072   \n",
       "4        1.728613  10.549735   5.788826  14.239888  31.641749   3.078671   \n",
       "..            ...        ...        ...        ...        ...        ...   \n",
       "275      6.776820  -3.584079   0.972908  -7.489384  -5.928822  -2.549213   \n",
       "276     -2.514271  -0.290649  -4.328217  -6.217115  -9.568502  -1.089288   \n",
       "277      3.313488   8.035329   0.507544   1.862736  10.703390   0.141189   \n",
       "278      1.985238   5.489119  -3.664707   5.612908  15.269915   9.289214   \n",
       "279      0.461619  -0.191204  -2.695194  -5.277949   8.487855  -4.382088   \n",
       "\n",
       "           NVO        NVS        PFE        ROG  inflation_change  \\\n",
       "0     2.220031   3.838386 -11.226228  54.440789             1.000   \n",
       "1     8.390897   6.420237  14.101954   6.922258             1.000   \n",
       "2    -0.097663   2.559423  15.213674   7.370518            -0.100   \n",
       "3    20.863985   5.169310   5.638019  -8.163265             0.300   \n",
       "4     2.813690   8.474599   8.076012  13.131313             1.000   \n",
       "..         ...        ...        ...        ...               ...   \n",
       "275   2.541749  -0.110227 -13.817335  16.968326             1.546   \n",
       "276   1.592445  -7.172811  -7.286115   5.451681             1.112   \n",
       "277  12.873250   9.367574   0.566924  11.025813             0.160   \n",
       "278   5.836894  16.334413  -4.681371  -1.517467             1.110   \n",
       "279  -3.967915  -6.161645  -2.237080  -2.162160             0.100   \n",
       "\n",
       "     unemp_change  treasury_yield_change  \n",
       "0            -0.1              -0.141500  \n",
       "1            -0.1              -0.141500  \n",
       "2            -0.2              -0.262978  \n",
       "3             0.2              -0.265995  \n",
       "4             0.0               0.449928  \n",
       "..            ...                    ...  \n",
       "275          -0.1              -0.274810  \n",
       "276           0.2              -0.084690  \n",
       "277          -0.1               0.215342  \n",
       "278          -0.1              -0.083799  \n",
       "279           0.3              -0.203043  \n",
       "\n",
       "[280 rows x 18 columns]"
      ]
     },
     "execution_count": 2,
     "metadata": {},
     "output_type": "execute_result"
    }
   ],
   "source": [
    "data = pd.read_csv('clean_monthly_data.csv')\n",
    "data"
   ]
  },
  {
   "cell_type": "code",
   "execution_count": 3,
   "metadata": {},
   "outputs": [],
   "source": [
    "macros = ['unemployment_rate', 'GDP_growth', 'SP500_return', 'inflation_change', 'unemp_change', 'treasury_yield_change']\n",
    "\n",
    "for m in macros:\n",
    "    data[f'{m}_lag'] = data[m].shift(1)\n",
    "    data[f'{m}_lag2'] = data[m].shift(2)"
   ]
  },
  {
   "cell_type": "code",
   "execution_count": 4,
   "metadata": {},
   "outputs": [],
   "source": [
    "data['Quater_dummy'] = 0\n",
    "data['Quater_rippel'] = 0\n",
    "data['Date'] = pd.to_datetime(data['Date'])\n",
    "for index, row in data.iterrows():\n",
    "    if row['Date'].month in [3, 6, 9, 12]:\n",
    "        data.loc[index, 'Quater_dummy'] = 1\n",
    "    if row['Date'].month in [1, 4, 7, 10]:\n",
    "        data.loc[index, 'Quater_dummy'] = 1\n"
   ]
  },
  {
   "cell_type": "code",
   "execution_count": 5,
   "metadata": {},
   "outputs": [],
   "source": [
    "tickers = ['NVS', 'AZN', 'BMY', 'JNJ', 'LLY', 'MRK', 'NVO', 'PFE', 'ROG']\n",
    "\n",
    "for t in tickers:\n",
    "    data[f'{t}_lag'] = data[t].shift(1)\n",
    "    data[f'{t}_lag2'] = data[t].shift(2)"
   ]
  },
  {
   "attachments": {},
   "cell_type": "markdown",
   "metadata": {},
   "source": [
    "#### 1. Macros Only"
   ]
  },
  {
   "cell_type": "code",
   "execution_count": 6,
   "metadata": {},
   "outputs": [],
   "source": [
    "data_macro = data.copy()\n",
    "to_exclude = []\n",
    "\n",
    "for t in tickers:\n",
    "    to_exclude.append(t)\n",
    "    to_exclude.append(f'{t}_lag')\n",
    "    to_exclude.append(f'{t}_lag2')\n",
    "\n",
    "\n",
    "to_exclude.append('Date')"
   ]
  },
  {
   "attachments": {},
   "cell_type": "markdown",
   "metadata": {},
   "source": [
    "1 month"
   ]
  },
  {
   "cell_type": "code",
   "execution_count": 8,
   "metadata": {},
   "outputs": [],
   "source": [
    "dates1m = ['2022-05-01', '2022-06-01', '2022-07-01', '2022-08-01', '2022-09-01', '2022-10-01', '2022-11-01', '2022-12-01', '2023-01-01', '2023-02-01', '2023-03-01', '2023-04-01']\n",
    "\n",
    "params = {'n_estimators': [100, 150, 200],\n",
    "          'max_depth': [3, 5, 7],\n",
    "          'learning_rate': [0.01, 0.1]}"
   ]
  },
  {
   "cell_type": "code",
   "execution_count": 8,
   "metadata": {},
   "outputs": [
    {
     "name": "stdout",
     "output_type": "stream",
     "text": [
      "NVS-1m-loss: 3.2618896020753922\n",
      "AZN-1m-loss: 2.3879767866548227\n",
      "BMY-1m-loss: 3.3772761038209924\n",
      "JNJ-1m-loss: 2.775884336227969\n",
      "LLY-1m-loss: 2.724265567092514\n",
      "MRK-1m-loss: 1.7247076488973418\n",
      "NVO-1m-loss: 2.2703321926043105\n",
      "PFE-1m-loss: 4.4454702710296905\n",
      "ROG-1m-loss: 6.529772320564978\n"
     ]
    }
   ],
   "source": [
    "for t in tickers:\n",
    "    loss = get_model_performance(data_macro, t, 0.05, to_exclude, dates1m, 1, params)\n",
    "    print(f'{t}-1m-loss: {loss}')"
   ]
  },
  {
   "cell_type": "code",
   "execution_count": 9,
   "metadata": {},
   "outputs": [
    {
     "name": "stdout",
     "output_type": "stream",
     "text": [
      "NVS-3m-loss: 7.6856894581403505\n",
      "AZN-3m-loss: 7.913814541466462\n",
      "BMY-3m-loss: 10.320303291058712\n",
      "JNJ-3m-loss: 8.557777771943062\n",
      "LLY-3m-loss: 9.370765301931797\n",
      "MRK-3m-loss: 4.76074037038329\n",
      "NVO-3m-loss: 6.529063424849665\n",
      "PFE-3m-loss: 14.277869771777205\n",
      "ROG-3m-loss: 22.197556289628714\n"
     ]
    }
   ],
   "source": [
    "dates3m = ['2022-05-01', '2022-06-01', '2022-07-01', '2022-08-01', '2022-09-01', '2022-10-01', '2022-11-01', '2022-12-01', '2023-01-01', '2023-02-01']\n",
    "\n",
    "for t in tickers:\n",
    "    loss = get_model_performance(data_macro, t, 0.05, to_exclude, dates3m, 3, params)\n",
    "    print(f'{t}-3m-loss: {loss}')"
   ]
  },
  {
   "cell_type": "code",
   "execution_count": 10,
   "metadata": {},
   "outputs": [
    {
     "name": "stdout",
     "output_type": "stream",
     "text": [
      "NVS-6m-loss: 13.922965018790793\n",
      "AZN-6m-loss: 14.953414871997783\n",
      "BMY-6m-loss: 19.592622280901292\n",
      "JNJ-6m-loss: 16.75052847277061\n",
      "LLY-6m-loss: 17.71223617093269\n",
      "MRK-6m-loss: 7.481201076526001\n",
      "NVO-6m-loss: 11.496488756000781\n",
      "PFE-6m-loss: 29.437149808066383\n",
      "ROG-6m-loss: 57.1847587508464\n"
     ]
    }
   ],
   "source": [
    "dates6m = ['2022-05-01', '2022-06-01', '2022-07-01', '2022-08-01', '2022-09-01', '2022-10-01', '2022-11-01']\n",
    "\n",
    "for t in tickers:\n",
    "    loss = get_model_performance(data_macro, t, 0.05, to_exclude, dates6m, 6, params)\n",
    "    print(f'{t}-6m-loss: {loss}')"
   ]
  },
  {
   "cell_type": "code",
   "execution_count": 11,
   "metadata": {},
   "outputs": [
    {
     "name": "stdout",
     "output_type": "stream",
     "text": [
      "NVS-9m-loss: 23.008403478224373\n",
      "AZN-9m-loss: 24.5686933164365\n",
      "BMY-9m-loss: 30.009063820880193\n",
      "JNJ-9m-loss: 26.82202020808235\n",
      "LLY-9m-loss: 28.328063299648246\n",
      "MRK-9m-loss: 12.057306156432961\n",
      "NVO-9m-loss: 18.67089724702614\n",
      "PFE-9m-loss: 47.23267264501412\n",
      "ROG-9m-loss: 70.91790710996713\n"
     ]
    }
   ],
   "source": [
    "dates9m = ['2022-05-01', '2022-06-01', '2022-07-01', '2022-08-01']\n",
    "\n",
    "for t in tickers:\n",
    "    loss = get_model_performance(data_macro, t, 0.05, to_exclude, dates9m, 9, params)\n",
    "    print(f'{t}-9m-loss: {loss}')"
   ]
  },
  {
   "cell_type": "code",
   "execution_count": 12,
   "metadata": {},
   "outputs": [
    {
     "name": "stdout",
     "output_type": "stream",
     "text": [
      "NVS-12m-loss: 34.7126594865153\n",
      "AZN-12m-loss: 30.705399675387714\n",
      "BMY-12m-loss: 42.87319951579293\n",
      "JNJ-12m-loss: 35.917879442837766\n",
      "LLY-12m-loss: 32.12677166131159\n",
      "MRK-12m-loss: 19.9878014080006\n",
      "NVO-12m-loss: 26.04278140727248\n",
      "PFE-12m-loss: 60.53200796572177\n",
      "ROG-12m-loss: 78.03032275572728\n"
     ]
    }
   ],
   "source": [
    "dates12m = ['2022-05-01']#, '2022-06-01', '2022-07-01', '2022-08-01']\n",
    "\n",
    "for t in tickers:\n",
    "    loss = get_model_performance(data_macro, t, 0.05, to_exclude, dates12m, 12, params)\n",
    "    print(f'{t}-12m-loss: {loss}')"
   ]
  },
  {
   "attachments": {},
   "cell_type": "markdown",
   "metadata": {},
   "source": [
    "#### 2. Ticker data"
   ]
  },
  {
   "cell_type": "code",
   "execution_count": 18,
   "metadata": {},
   "outputs": [],
   "source": [
    "data_stocks = data.copy()\n",
    "to_exclude2 = []\n",
    "\n",
    "for m in macros:\n",
    "    to_exclude2.append(m)\n",
    "    to_exclude2.append(f'{m}_lag')\n",
    "    to_exclude2.append(f'{m}_lag2')\n",
    "\n",
    "for t in tickers:\n",
    "    to_exclude2.append(t)\n",
    "\n",
    "\n",
    "to_exclude2.append('Date')"
   ]
  },
  {
   "cell_type": "code",
   "execution_count": 19,
   "metadata": {},
   "outputs": [
    {
     "name": "stdout",
     "output_type": "stream",
     "text": [
      "NVS-1m-loss: 3.414639907122538\n",
      "AZN-1m-loss: 2.4748912778635566\n",
      "BMY-1m-loss: 3.218429476513577\n",
      "JNJ-1m-loss: 2.8672552235381374\n",
      "LLY-1m-loss: 2.547822486898083\n",
      "MRK-1m-loss: 2.1477671400466423\n",
      "NVO-1m-loss: 2.253368906513552\n",
      "PFE-1m-loss: 4.295173307153142\n",
      "ROG-1m-loss: 6.658262253019601\n"
     ]
    }
   ],
   "source": [
    "for t in tickers:\n",
    "    loss = get_model_performance(data_stocks, t, 0.05, to_exclude2, dates1m, 1, params)\n",
    "    print(f'{t}-1m-loss: {loss}')"
   ]
  },
  {
   "cell_type": "code",
   "execution_count": 20,
   "metadata": {},
   "outputs": [
    {
     "name": "stdout",
     "output_type": "stream",
     "text": [
      "NVS-3m-loss: 8.396974854419883\n",
      "AZN-3m-loss: 8.347388410096144\n",
      "BMY-3m-loss: 10.381359601222254\n",
      "JNJ-3m-loss: 8.661862897360054\n",
      "LLY-3m-loss: 8.987574628591302\n",
      "MRK-3m-loss: 6.70548003549375\n",
      "NVO-3m-loss: 6.553720027384607\n",
      "PFE-3m-loss: 14.132171488955342\n",
      "ROG-3m-loss: 21.987254376205744\n"
     ]
    }
   ],
   "source": [
    "for t in tickers:\n",
    "    loss = get_model_performance(data_stocks, t, 0.05, to_exclude2, dates3m, 3, params)\n",
    "    print(f'{t}-3m-loss: {loss}')"
   ]
  },
  {
   "cell_type": "code",
   "execution_count": 21,
   "metadata": {},
   "outputs": [
    {
     "name": "stdout",
     "output_type": "stream",
     "text": [
      "NVS-6m-loss: 14.636931830989855\n",
      "AZN-6m-loss: 15.755465305316772\n",
      "BMY-6m-loss: 20.28829824784301\n",
      "JNJ-6m-loss: 16.093740106974575\n",
      "LLY-6m-loss: 16.55997568370876\n",
      "MRK-6m-loss: 12.922695897970929\n",
      "NVO-6m-loss: 10.84030722490124\n",
      "PFE-6m-loss: 26.22467566102721\n",
      "ROG-6m-loss: 54.683840796184356\n"
     ]
    }
   ],
   "source": [
    "for t in tickers:\n",
    "    loss = get_model_performance(data_stocks, t, 0.05, to_exclude2, dates6m, 6, params)\n",
    "    print(f'{t}-6m-loss: {loss}')"
   ]
  },
  {
   "cell_type": "code",
   "execution_count": 22,
   "metadata": {},
   "outputs": [
    {
     "name": "stdout",
     "output_type": "stream",
     "text": [
      "NVS-9m-loss: 25.73808214841266\n",
      "AZN-9m-loss: 25.779581452788236\n",
      "BMY-9m-loss: 30.36335889222024\n",
      "JNJ-9m-loss: 26.27263051583249\n",
      "LLY-9m-loss: 26.405230127405023\n",
      "MRK-9m-loss: 16.15267108443479\n",
      "NVO-9m-loss: 18.23960896578994\n",
      "PFE-9m-loss: 41.662805873575294\n",
      "ROG-9m-loss: 69.35851588018414\n"
     ]
    }
   ],
   "source": [
    "for t in tickers:\n",
    "    loss = get_model_performance(data_stocks, t, 0.05, to_exclude2, dates9m, 9, params)\n",
    "    print(f'{t}-9m-loss: {loss}')"
   ]
  },
  {
   "cell_type": "code",
   "execution_count": 23,
   "metadata": {},
   "outputs": [
    {
     "name": "stdout",
     "output_type": "stream",
     "text": [
      "NVS-12m-loss: 38.28203700916028\n",
      "AZN-12m-loss: 29.775583430299854\n",
      "BMY-12m-loss: 39.48609007062669\n",
      "JNJ-12m-loss: 35.792903991057514\n",
      "LLY-12m-loss: 29.37599455417286\n",
      "MRK-12m-loss: 24.211954757944728\n",
      "NVO-12m-loss: 25.817952858966862\n",
      "PFE-12m-loss: 52.26057140479323\n",
      "ROG-12m-loss: 79.54549250071508\n"
     ]
    }
   ],
   "source": [
    "for t in tickers:\n",
    "    loss = get_model_performance(data_stocks, t, 0.05, to_exclude2, dates12m, 12, params)\n",
    "    print(f'{t}-12m-loss: {loss}')"
   ]
  },
  {
   "attachments": {},
   "cell_type": "markdown",
   "metadata": {},
   "source": [
    "3. All Covariates"
   ]
  },
  {
   "cell_type": "code",
   "execution_count": 6,
   "metadata": {},
   "outputs": [],
   "source": [
    "covs = data.copy()\n",
    "to_exclude3 = ['Date']\n",
    "\n",
    "for m in macros:\n",
    "    to_exclude3.append(m)\n",
    "\n",
    "for t in tickers:\n",
    "    to_exclude3.append(t)"
   ]
  },
  {
   "cell_type": "code",
   "execution_count": 25,
   "metadata": {},
   "outputs": [
    {
     "name": "stdout",
     "output_type": "stream",
     "text": [
      "NVS-1m-loss: 3.5138862606384227\n",
      "AZN-1m-loss: 2.507503844520777\n",
      "BMY-1m-loss: 3.1283990986378263\n",
      "JNJ-1m-loss: 2.9195623146883727\n",
      "LLY-1m-loss: 2.4998406369522725\n",
      "MRK-1m-loss: 2.054256575208234\n",
      "NVO-1m-loss: 2.189967488495661\n",
      "PFE-1m-loss: 3.8124814432517407\n",
      "ROG-1m-loss: 6.008071505005657\n"
     ]
    }
   ],
   "source": [
    "for t in tickers:\n",
    "    loss = get_model_performance(covs, t, 0.05, to_exclude3, dates1m, 1, params)\n",
    "    print(f'{t}-1m-loss: {loss}')"
   ]
  },
  {
   "cell_type": "code",
   "execution_count": 9,
   "metadata": {},
   "outputs": [
    {
     "name": "stdout",
     "output_type": "stream",
     "text": [
      "NVS-3m-loss: 8.26193286778823\n",
      "AZN-3m-loss: 8.442398745087226\n",
      "BMY-3m-loss: 10.072357140845728\n",
      "JNJ-3m-loss: 8.792612575112543\n",
      "LLY-3m-loss: 8.900752986848358\n",
      "MRK-3m-loss: 6.270732341015224\n",
      "NVO-3m-loss: 6.190083281700504\n",
      "PFE-3m-loss: 13.005150728095813\n",
      "ROG-3m-loss: 20.126271352644416\n"
     ]
    }
   ],
   "source": [
    "dates3m = ['2022-05-01', '2022-06-01', '2022-07-01', '2022-08-01', '2022-09-01', '2022-10-01', '2022-11-01', '2022-12-01', '2023-01-01', '2023-02-01']\n",
    "for t in tickers:\n",
    "    loss = get_model_performance(covs, t, 0.05, to_exclude3, dates3m, 3, params)\n",
    "    print(f'{t}-3m-loss: {loss}')"
   ]
  },
  {
   "cell_type": "code",
   "execution_count": 10,
   "metadata": {},
   "outputs": [
    {
     "name": "stdout",
     "output_type": "stream",
     "text": [
      "NVS-6m-loss: 14.219684305403234\n",
      "AZN-6m-loss: 16.012362878002637\n",
      "BMY-6m-loss: 19.867364442662062\n",
      "JNJ-6m-loss: 16.369703787986104\n",
      "LLY-6m-loss: 17.145991501218617\n",
      "MRK-6m-loss: 11.878342356262596\n",
      "NVO-6m-loss: 10.445144671849276\n",
      "PFE-6m-loss: 25.892143315164727\n",
      "ROG-6m-loss: 52.48571713997574\n"
     ]
    }
   ],
   "source": [
    "dates6m = ['2022-05-01', '2022-06-01', '2022-07-01', '2022-08-01', '2022-09-01', '2022-10-01', '2022-11-01']\n",
    "for t in tickers:\n",
    "    loss = get_model_performance(covs, t, 0.05, to_exclude3, dates6m, 6, params)\n",
    "    print(f'{t}-6m-loss: {loss}')"
   ]
  },
  {
   "cell_type": "code",
   "execution_count": 11,
   "metadata": {},
   "outputs": [
    {
     "name": "stdout",
     "output_type": "stream",
     "text": [
      "NVS-9m-loss: 24.042448797456327\n",
      "AZN-9m-loss: 26.063307441804294\n",
      "BMY-9m-loss: 29.680066249927812\n",
      "JNJ-9m-loss: 27.131697044531414\n",
      "LLY-9m-loss: 27.937611964240997\n",
      "MRK-9m-loss: 15.228998397200218\n",
      "NVO-9m-loss: 17.74900231595003\n",
      "PFE-9m-loss: 41.97860162214687\n",
      "ROG-9m-loss: 64.8640274165691\n"
     ]
    }
   ],
   "source": [
    "dates9m = ['2022-05-01', '2022-06-01', '2022-07-01', '2022-08-01'] \n",
    "for t in tickers:\n",
    "    loss = get_model_performance(covs, t, 0.05, to_exclude3, dates9m, 9, params)\n",
    "    print(f'{t}-9m-loss: {loss}')"
   ]
  },
  {
   "cell_type": "code",
   "execution_count": 13,
   "metadata": {},
   "outputs": [
    {
     "name": "stdout",
     "output_type": "stream",
     "text": [
      "NVS-12m-loss: 37.00437721749844\n",
      "AZN-12m-loss: 29.831463652876426\n",
      "BMY-12m-loss: 38.21431049310663\n",
      "JNJ-12m-loss: 36.623623744189175\n",
      "LLY-12m-loss: 31.167928749284883\n",
      "MRK-12m-loss: 22.713154728204564\n",
      "NVO-12m-loss: 24.692007247140165\n",
      "PFE-12m-loss: 52.50643643191302\n",
      "ROG-12m-loss: 72.09701574702993\n"
     ]
    }
   ],
   "source": [
    "dates12m = ['2022-05-01']\n",
    "for t in tickers:\n",
    "    loss = get_model_performance(covs, t, 0.05, to_exclude3, dates12m, 12, params)\n",
    "    print(f'{t}-12m-loss: {loss}')"
   ]
  }
 ],
 "metadata": {
  "kernelspec": {
   "display_name": "Python 3",
   "language": "python",
   "name": "python3"
  },
  "language_info": {
   "codemirror_mode": {
    "name": "ipython",
    "version": 3
   },
   "file_extension": ".py",
   "mimetype": "text/x-python",
   "name": "python",
   "nbconvert_exporter": "python",
   "pygments_lexer": "ipython3",
   "version": "3.10.11"
  },
  "orig_nbformat": 4
 },
 "nbformat": 4,
 "nbformat_minor": 2
}
