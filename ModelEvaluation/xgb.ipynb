{
 "cells": [
  {
   "cell_type": "code",
   "execution_count": 1,
   "metadata": {},
   "outputs": [],
   "source": [
    "import numpy as np\n",
    "np.random.seed(1)\n",
    "import pandas as pd\n",
    "import scipy\n",
    "\n",
    "from sklearn.base import BaseEstimator, RegressorMixin\n",
    "from sklearn.metrics import make_scorer\n",
    "from sklearn.model_selection import GridSearchCV,RandomizedSearchCV\n",
    "\n",
    "from xgboost.sklearn import XGBRegressor\n",
    "from sklearn.ensemble import GradientBoostingRegressor\n",
    "\n",
    "from functools import partial\n",
    "\n",
    "import matplotlib.pyplot as plt\n",
    "import seaborn as sns\n",
    "\n",
    "from xgb_utils import *"
   ]
  },
  {
   "cell_type": "code",
   "execution_count": 2,
   "metadata": {},
   "outputs": [
    {
     "data": {
      "text/html": [
       "<div>\n",
       "<style scoped>\n",
       "    .dataframe tbody tr th:only-of-type {\n",
       "        vertical-align: middle;\n",
       "    }\n",
       "\n",
       "    .dataframe tbody tr th {\n",
       "        vertical-align: top;\n",
       "    }\n",
       "\n",
       "    .dataframe thead th {\n",
       "        text-align: right;\n",
       "    }\n",
       "</style>\n",
       "<table border=\"1\" class=\"dataframe\">\n",
       "  <thead>\n",
       "    <tr style=\"text-align: right;\">\n",
       "      <th></th>\n",
       "      <th>Date</th>\n",
       "      <th>unemployment_rate</th>\n",
       "      <th>CPI</th>\n",
       "      <th>treasury_yield</th>\n",
       "      <th>GDP_growth</th>\n",
       "      <th>SP500_return</th>\n",
       "      <th>AZN</th>\n",
       "      <th>BMY</th>\n",
       "      <th>JNJ</th>\n",
       "      <th>LLY</th>\n",
       "      <th>MRK</th>\n",
       "      <th>NVO</th>\n",
       "      <th>NVS</th>\n",
       "      <th>PFE</th>\n",
       "      <th>ROG</th>\n",
       "      <th>inflation_change</th>\n",
       "      <th>unemp_change</th>\n",
       "      <th>treasury_yield_change</th>\n",
       "    </tr>\n",
       "  </thead>\n",
       "  <tbody>\n",
       "    <tr>\n",
       "      <th>0</th>\n",
       "      <td>2000-02-01</td>\n",
       "      <td>4.1</td>\n",
       "      <td>170.000</td>\n",
       "      <td>6.661000</td>\n",
       "      <td>0.496560</td>\n",
       "      <td>-1.522563</td>\n",
       "      <td>-12.828964</td>\n",
       "      <td>-13.228004</td>\n",
       "      <td>-16.339821</td>\n",
       "      <td>-11.121498</td>\n",
       "      <td>-21.701151</td>\n",
       "      <td>2.220031</td>\n",
       "      <td>3.838386</td>\n",
       "      <td>-11.226228</td>\n",
       "      <td>54.440789</td>\n",
       "      <td>1.000</td>\n",
       "      <td>-0.1</td>\n",
       "      <td>-0.141500</td>\n",
       "    </tr>\n",
       "    <tr>\n",
       "      <th>1</th>\n",
       "      <td>2000-03-01</td>\n",
       "      <td>4.0</td>\n",
       "      <td>171.000</td>\n",
       "      <td>6.519500</td>\n",
       "      <td>0.511258</td>\n",
       "      <td>9.413333</td>\n",
       "      <td>22.264136</td>\n",
       "      <td>-0.218329</td>\n",
       "      <td>-2.079067</td>\n",
       "      <td>5.804243</td>\n",
       "      <td>0.913712</td>\n",
       "      <td>8.390897</td>\n",
       "      <td>6.420237</td>\n",
       "      <td>14.101954</td>\n",
       "      <td>6.922258</td>\n",
       "      <td>1.000</td>\n",
       "      <td>-0.1</td>\n",
       "      <td>-0.141500</td>\n",
       "    </tr>\n",
       "    <tr>\n",
       "      <th>2</th>\n",
       "      <td>2000-04-01</td>\n",
       "      <td>3.8</td>\n",
       "      <td>170.900</td>\n",
       "      <td>6.256522</td>\n",
       "      <td>1.327803</td>\n",
       "      <td>-3.266805</td>\n",
       "      <td>5.567379</td>\n",
       "      <td>-8.205683</td>\n",
       "      <td>17.437698</td>\n",
       "      <td>23.153694</td>\n",
       "      <td>12.400712</td>\n",
       "      <td>-0.097663</td>\n",
       "      <td>2.559423</td>\n",
       "      <td>15.213674</td>\n",
       "      <td>7.370518</td>\n",
       "      <td>-0.100</td>\n",
       "      <td>-0.2</td>\n",
       "      <td>-0.262978</td>\n",
       "    </tr>\n",
       "    <tr>\n",
       "      <th>3</th>\n",
       "      <td>2000-05-01</td>\n",
       "      <td>4.0</td>\n",
       "      <td>171.200</td>\n",
       "      <td>5.990526</td>\n",
       "      <td>-0.181797</td>\n",
       "      <td>-1.572223</td>\n",
       "      <td>-0.148357</td>\n",
       "      <td>5.395746</td>\n",
       "      <td>8.484832</td>\n",
       "      <td>-1.296597</td>\n",
       "      <td>7.374072</td>\n",
       "      <td>20.863985</td>\n",
       "      <td>5.169310</td>\n",
       "      <td>5.638019</td>\n",
       "      <td>-8.163265</td>\n",
       "      <td>0.300</td>\n",
       "      <td>0.2</td>\n",
       "      <td>-0.265995</td>\n",
       "    </tr>\n",
       "    <tr>\n",
       "      <th>4</th>\n",
       "      <td>2000-06-01</td>\n",
       "      <td>4.0</td>\n",
       "      <td>172.200</td>\n",
       "      <td>6.440455</td>\n",
       "      <td>0.305565</td>\n",
       "      <td>1.728613</td>\n",
       "      <td>10.549735</td>\n",
       "      <td>5.788826</td>\n",
       "      <td>14.239888</td>\n",
       "      <td>31.641749</td>\n",
       "      <td>3.078671</td>\n",
       "      <td>2.813690</td>\n",
       "      <td>8.474599</td>\n",
       "      <td>8.076012</td>\n",
       "      <td>13.131313</td>\n",
       "      <td>1.000</td>\n",
       "      <td>0.0</td>\n",
       "      <td>0.449928</td>\n",
       "    </tr>\n",
       "    <tr>\n",
       "      <th>...</th>\n",
       "      <td>...</td>\n",
       "      <td>...</td>\n",
       "      <td>...</td>\n",
       "      <td>...</td>\n",
       "      <td>...</td>\n",
       "      <td>...</td>\n",
       "      <td>...</td>\n",
       "      <td>...</td>\n",
       "      <td>...</td>\n",
       "      <td>...</td>\n",
       "      <td>...</td>\n",
       "      <td>...</td>\n",
       "      <td>...</td>\n",
       "      <td>...</td>\n",
       "      <td>...</td>\n",
       "      <td>...</td>\n",
       "      <td>...</td>\n",
       "      <td>...</td>\n",
       "    </tr>\n",
       "    <tr>\n",
       "      <th>275</th>\n",
       "      <td>2023-01-01</td>\n",
       "      <td>3.4</td>\n",
       "      <td>300.536</td>\n",
       "      <td>3.616190</td>\n",
       "      <td>0.390254</td>\n",
       "      <td>6.776820</td>\n",
       "      <td>-3.584079</td>\n",
       "      <td>0.972908</td>\n",
       "      <td>-7.489384</td>\n",
       "      <td>-5.928822</td>\n",
       "      <td>-2.549213</td>\n",
       "      <td>2.541749</td>\n",
       "      <td>-0.110227</td>\n",
       "      <td>-13.817335</td>\n",
       "      <td>16.968326</td>\n",
       "      <td>1.546</td>\n",
       "      <td>-0.1</td>\n",
       "      <td>-0.274810</td>\n",
       "    </tr>\n",
       "    <tr>\n",
       "      <th>276</th>\n",
       "      <td>2023-02-01</td>\n",
       "      <td>3.6</td>\n",
       "      <td>301.648</td>\n",
       "      <td>3.531500</td>\n",
       "      <td>-0.442183</td>\n",
       "      <td>-2.514271</td>\n",
       "      <td>-0.290649</td>\n",
       "      <td>-4.328217</td>\n",
       "      <td>-6.217115</td>\n",
       "      <td>-9.568502</td>\n",
       "      <td>-1.089288</td>\n",
       "      <td>1.592445</td>\n",
       "      <td>-7.172811</td>\n",
       "      <td>-7.286115</td>\n",
       "      <td>5.451681</td>\n",
       "      <td>1.112</td>\n",
       "      <td>0.2</td>\n",
       "      <td>-0.084690</td>\n",
       "    </tr>\n",
       "    <tr>\n",
       "      <th>277</th>\n",
       "      <td>2023-03-01</td>\n",
       "      <td>3.5</td>\n",
       "      <td>301.808</td>\n",
       "      <td>3.746842</td>\n",
       "      <td>-0.442183</td>\n",
       "      <td>3.313488</td>\n",
       "      <td>8.035329</td>\n",
       "      <td>0.507544</td>\n",
       "      <td>1.862736</td>\n",
       "      <td>10.703390</td>\n",
       "      <td>0.141189</td>\n",
       "      <td>12.873250</td>\n",
       "      <td>9.367574</td>\n",
       "      <td>0.566924</td>\n",
       "      <td>11.025813</td>\n",
       "      <td>0.160</td>\n",
       "      <td>-0.1</td>\n",
       "      <td>0.215342</td>\n",
       "    </tr>\n",
       "    <tr>\n",
       "      <th>278</th>\n",
       "      <td>2023-04-01</td>\n",
       "      <td>3.4</td>\n",
       "      <td>302.918</td>\n",
       "      <td>3.663043</td>\n",
       "      <td>-0.442183</td>\n",
       "      <td>1.985238</td>\n",
       "      <td>5.489119</td>\n",
       "      <td>-3.664707</td>\n",
       "      <td>5.612908</td>\n",
       "      <td>15.269915</td>\n",
       "      <td>9.289214</td>\n",
       "      <td>5.836894</td>\n",
       "      <td>16.334413</td>\n",
       "      <td>-4.681371</td>\n",
       "      <td>-1.517467</td>\n",
       "      <td>1.110</td>\n",
       "      <td>-0.1</td>\n",
       "      <td>-0.083799</td>\n",
       "    </tr>\n",
       "    <tr>\n",
       "      <th>279</th>\n",
       "      <td>2023-05-01</td>\n",
       "      <td>3.7</td>\n",
       "      <td>304.127</td>\n",
       "      <td>3.460000</td>\n",
       "      <td>-0.442183</td>\n",
       "      <td>0.461619</td>\n",
       "      <td>-0.191204</td>\n",
       "      <td>-2.695194</td>\n",
       "      <td>-5.277949</td>\n",
       "      <td>8.487855</td>\n",
       "      <td>-4.382088</td>\n",
       "      <td>-3.967915</td>\n",
       "      <td>-6.161645</td>\n",
       "      <td>-2.237080</td>\n",
       "      <td>-2.162160</td>\n",
       "      <td>0.100</td>\n",
       "      <td>0.3</td>\n",
       "      <td>-0.203043</td>\n",
       "    </tr>\n",
       "  </tbody>\n",
       "</table>\n",
       "<p>280 rows × 18 columns</p>\n",
       "</div>"
      ],
      "text/plain": [
       "           Date  unemployment_rate      CPI  treasury_yield  GDP_growth  \\\n",
       "0    2000-02-01                4.1  170.000        6.661000    0.496560   \n",
       "1    2000-03-01                4.0  171.000        6.519500    0.511258   \n",
       "2    2000-04-01                3.8  170.900        6.256522    1.327803   \n",
       "3    2000-05-01                4.0  171.200        5.990526   -0.181797   \n",
       "4    2000-06-01                4.0  172.200        6.440455    0.305565   \n",
       "..          ...                ...      ...             ...         ...   \n",
       "275  2023-01-01                3.4  300.536        3.616190    0.390254   \n",
       "276  2023-02-01                3.6  301.648        3.531500   -0.442183   \n",
       "277  2023-03-01                3.5  301.808        3.746842   -0.442183   \n",
       "278  2023-04-01                3.4  302.918        3.663043   -0.442183   \n",
       "279  2023-05-01                3.7  304.127        3.460000   -0.442183   \n",
       "\n",
       "     SP500_return        AZN        BMY        JNJ        LLY        MRK  \\\n",
       "0       -1.522563 -12.828964 -13.228004 -16.339821 -11.121498 -21.701151   \n",
       "1        9.413333  22.264136  -0.218329  -2.079067   5.804243   0.913712   \n",
       "2       -3.266805   5.567379  -8.205683  17.437698  23.153694  12.400712   \n",
       "3       -1.572223  -0.148357   5.395746   8.484832  -1.296597   7.374072   \n",
       "4        1.728613  10.549735   5.788826  14.239888  31.641749   3.078671   \n",
       "..            ...        ...        ...        ...        ...        ...   \n",
       "275      6.776820  -3.584079   0.972908  -7.489384  -5.928822  -2.549213   \n",
       "276     -2.514271  -0.290649  -4.328217  -6.217115  -9.568502  -1.089288   \n",
       "277      3.313488   8.035329   0.507544   1.862736  10.703390   0.141189   \n",
       "278      1.985238   5.489119  -3.664707   5.612908  15.269915   9.289214   \n",
       "279      0.461619  -0.191204  -2.695194  -5.277949   8.487855  -4.382088   \n",
       "\n",
       "           NVO        NVS        PFE        ROG  inflation_change  \\\n",
       "0     2.220031   3.838386 -11.226228  54.440789             1.000   \n",
       "1     8.390897   6.420237  14.101954   6.922258             1.000   \n",
       "2    -0.097663   2.559423  15.213674   7.370518            -0.100   \n",
       "3    20.863985   5.169310   5.638019  -8.163265             0.300   \n",
       "4     2.813690   8.474599   8.076012  13.131313             1.000   \n",
       "..         ...        ...        ...        ...               ...   \n",
       "275   2.541749  -0.110227 -13.817335  16.968326             1.546   \n",
       "276   1.592445  -7.172811  -7.286115   5.451681             1.112   \n",
       "277  12.873250   9.367574   0.566924  11.025813             0.160   \n",
       "278   5.836894  16.334413  -4.681371  -1.517467             1.110   \n",
       "279  -3.967915  -6.161645  -2.237080  -2.162160             0.100   \n",
       "\n",
       "     unemp_change  treasury_yield_change  \n",
       "0            -0.1              -0.141500  \n",
       "1            -0.1              -0.141500  \n",
       "2            -0.2              -0.262978  \n",
       "3             0.2              -0.265995  \n",
       "4             0.0               0.449928  \n",
       "..            ...                    ...  \n",
       "275          -0.1              -0.274810  \n",
       "276           0.2              -0.084690  \n",
       "277          -0.1               0.215342  \n",
       "278          -0.1              -0.083799  \n",
       "279           0.3              -0.203043  \n",
       "\n",
       "[280 rows x 18 columns]"
      ]
     },
     "execution_count": 2,
     "metadata": {},
     "output_type": "execute_result"
    }
   ],
   "source": [
    "data = pd.read_csv('clean_monthly_data.csv')\n",
    "data"
   ]
  },
  {
   "cell_type": "code",
   "execution_count": 3,
   "metadata": {},
   "outputs": [],
   "source": [
    "macros = ['unemployment_rate', 'GDP_growth', 'SP500_return', 'inflation_change', 'unemp_change', 'treasury_yield_change']\n",
    "\n",
    "for m in macros:\n",
    "    data[f'{m}_lag'] = data[m].shift(1)\n",
    "    data[f'{m}_lag2'] = data[m].shift(2)\n",
    "    data[f'{m}_lag3'] = data[m].shift(3)"
   ]
  },
  {
   "cell_type": "code",
   "execution_count": 4,
   "metadata": {},
   "outputs": [],
   "source": [
    "data['Quater_dummy'] = 0\n",
    "data['Quater_rippel'] = 0\n",
    "data['Date'] = pd.to_datetime(data['Date'])\n",
    "for index, row in data.iterrows():\n",
    "    if row['Date'].month in [3, 6, 9, 12]:\n",
    "        data.loc[index, 'Quater_dummy'] = 1\n",
    "    if row['Date'].month in [1, 4, 7, 10]:\n",
    "        data.loc[index, 'Quater_dummy'] = 1\n"
   ]
  },
  {
   "cell_type": "code",
   "execution_count": 5,
   "metadata": {},
   "outputs": [],
   "source": [
    "tickers = ['NVS', 'AZN', 'BMY', 'JNJ', 'LLY', 'MRK', 'NVO', 'PFE', 'ROG']\n",
    "\n",
    "for t in tickers:\n",
    "    data[f'{t}_lag'] = data[t].shift(1)\n",
    "    data[f'{t}_lag2'] = data[t].shift(2)"
   ]
  },
  {
   "attachments": {},
   "cell_type": "markdown",
   "metadata": {},
   "source": [
    "#### 1. Macros Only"
   ]
  },
  {
   "cell_type": "code",
   "execution_count": 6,
   "metadata": {},
   "outputs": [],
   "source": [
    "data_macro = data.copy()\n",
    "to_exclude = []\n",
    "\n",
    "for t in tickers:\n",
    "    to_exclude.append(t)\n",
    "    to_exclude.append(f'{t}_lag')\n",
    "    to_exclude.append(f'{t}_lag2')\n",
    "\n",
    "for m in macros:\n",
    "    to_exclude.append(m)\n",
    "\n",
    "\n",
    "to_exclude.append('Date')"
   ]
  },
  {
   "attachments": {},
   "cell_type": "markdown",
   "metadata": {},
   "source": [
    "1 month"
   ]
  },
  {
   "cell_type": "code",
   "execution_count": 7,
   "metadata": {},
   "outputs": [],
   "source": [
    "dates1m = ['2022-05-01', '2022-06-01', '2022-07-01', '2022-08-01', '2022-09-01', '2022-10-01', '2022-11-01', '2022-12-01', '2023-01-01', '2023-02-01', '2023-03-01', '2023-04-01']\n",
    "\n",
    "params = {'n_estimators': [100, 150, 200],\n",
    "          'max_depth': [3, 5, 7],\n",
    "          'learning_rate': [0.01, 0.1]}"
   ]
  },
  {
   "cell_type": "code",
   "execution_count": 8,
   "metadata": {},
   "outputs": [
    {
     "data": {
      "text/plain": [
       "0.5217945068580359"
      ]
     },
     "execution_count": 8,
     "metadata": {},
     "output_type": "execute_result"
    }
   ],
   "source": [
    "nvs_loss = get_model_performance(data_macro, 'NVS', 0.05, to_exclude, dates1m, 1)\n",
    "nvs_loss"
   ]
  },
  {
   "cell_type": "code",
   "execution_count": 9,
   "metadata": {},
   "outputs": [
    {
     "data": {
      "text/plain": [
       "0.5217945068580359"
      ]
     },
     "execution_count": 9,
     "metadata": {},
     "output_type": "execute_result"
    }
   ],
   "source": [
    "nvs_loss"
   ]
  },
  {
   "cell_type": "code",
   "execution_count": 10,
   "metadata": {},
   "outputs": [
    {
     "name": "stdout",
     "output_type": "stream",
     "text": [
      "NVS-1m-loss: 0.521789679820792 \n",
      "\n",
      "AZN-1m-loss: 0.7566584695173182 \n",
      "\n",
      "BMY-1m-loss: 0.5064353070286455 \n",
      "\n",
      "JNJ-1m-loss: 0.5991419985175034 \n",
      "\n",
      "LLY-1m-loss: 0.7669115458664167 \n",
      "\n",
      "MRK-1m-loss: 0.6250140156744843 \n",
      "\n",
      "NVO-1m-loss: 0.8333365649373826 \n",
      "\n",
      "PFE-1m-loss: 1.2386725598427137 \n",
      "\n",
      "ROG-1m-loss: 4.1156308458245805 \n",
      "\n"
     ]
    }
   ],
   "source": [
    "for t in tickers:\n",
    "    loss = get_model_performance(data_macro, t, 0.05, to_exclude, dates1m, 1)\n",
    "    print(f'{t}-1m-loss: {loss} \\n')"
   ]
  },
  {
   "cell_type": "code",
   "execution_count": 11,
   "metadata": {},
   "outputs": [
    {
     "name": "stdout",
     "output_type": "stream",
     "text": [
      "NVS-3m-loss: 1.5607745232682038 \n",
      "\n",
      "AZN-3m-loss: 2.339165162053782 \n",
      "\n",
      "BMY-3m-loss: 1.5119184993375459 \n",
      "\n",
      "JNJ-3m-loss: 1.680783402195689 \n",
      "\n",
      "LLY-3m-loss: 2.5592187436600478 \n",
      "\n",
      "MRK-3m-loss: 1.9432344913193702 \n",
      "\n",
      "NVO-3m-loss: 2.7244543075448617 \n",
      "\n",
      "PFE-3m-loss: 3.954572734392637 \n",
      "\n",
      "ROG-3m-loss: 14.146679550359584 \n",
      "\n"
     ]
    }
   ],
   "source": [
    "dates3m = ['2022-05-01', '2022-06-01', '2022-07-01', '2022-08-01', '2022-09-01', '2022-10-01', '2022-11-01', '2022-12-01', '2023-01-01', '2023-02-01']\n",
    "\n",
    "for t in tickers:\n",
    "    loss = get_model_performance(data_macro, t, 0.05, to_exclude, dates3m, 3)\n",
    "    print(f'{t}-3m-loss: {loss} \\n')"
   ]
  },
  {
   "cell_type": "code",
   "execution_count": 12,
   "metadata": {},
   "outputs": [
    {
     "name": "stdout",
     "output_type": "stream",
     "text": [
      "NVS-6m-loss: 3.1431742013414166 \n",
      "\n",
      "AZN-6m-loss: 4.658144534251645 \n",
      "\n",
      "BMY-6m-loss: 3.143999807183176 \n",
      "\n",
      "JNJ-6m-loss: 3.354044482862048 \n",
      "\n",
      "LLY-6m-loss: 5.2212184569802655 \n",
      "\n",
      "MRK-6m-loss: 4.108864832661672 \n",
      "\n",
      "NVO-6m-loss: 4.968251098743439 \n",
      "\n",
      "PFE-6m-loss: 9.770474283723841 \n",
      "\n",
      "ROG-6m-loss: 38.7025861842007 \n",
      "\n"
     ]
    }
   ],
   "source": [
    "dates6m = ['2022-05-01', '2022-06-01', '2022-07-01', '2022-08-01', '2022-09-01', '2022-10-01', '2022-11-01']\n",
    "\n",
    "for t in tickers:\n",
    "    loss = get_model_performance(data_macro, t, 0.05, to_exclude, dates6m, 6)\n",
    "    print(f'{t}-6m-loss: {loss} \\n')"
   ]
  },
  {
   "cell_type": "code",
   "execution_count": 13,
   "metadata": {},
   "outputs": [
    {
     "name": "stdout",
     "output_type": "stream",
     "text": [
      "NVS-9m-loss: 4.609245658905412 \n",
      "\n",
      "AZN-9m-loss: 7.146215308231334 \n",
      "\n",
      "BMY-9m-loss: 4.802153151249902 \n",
      "\n",
      "JNJ-9m-loss: 3.770194020343789 \n",
      "\n",
      "LLY-9m-loss: 7.541364925590523 \n",
      "\n",
      "MRK-9m-loss: 5.9923697574479755 \n",
      "\n",
      "NVO-9m-loss: 8.404083973357446 \n",
      "\n",
      "PFE-9m-loss: 15.122608777244654 \n",
      "\n",
      "ROG-9m-loss: 47.016219480192184 \n",
      "\n"
     ]
    }
   ],
   "source": [
    "dates9m = ['2022-05-01', '2022-06-01', '2022-07-01', '2022-08-01']\n",
    "\n",
    "for t in tickers:\n",
    "    loss = get_model_performance(data_macro, t, 0.05, to_exclude, dates9m, 9)\n",
    "    print(f'{t}-9m-loss: {loss} \\n')"
   ]
  },
  {
   "cell_type": "code",
   "execution_count": 14,
   "metadata": {},
   "outputs": [
    {
     "name": "stdout",
     "output_type": "stream",
     "text": [
      "NVS-12m-loss: 6.1413816305177 \n",
      "\n",
      "AZN-12m-loss: 8.674257380367584 \n",
      "\n",
      "BMY-12m-loss: 6.045331566766581 \n",
      "\n",
      "JNJ-12m-loss: 4.34369485390347 \n",
      "\n",
      "LLY-12m-loss: 10.435938087737512 \n",
      "\n",
      "MRK-12m-loss: 7.577803154301937 \n",
      "\n",
      "NVO-12m-loss: 11.600213121480419 \n",
      "\n",
      "PFE-12m-loss: 28.948339596063192 \n",
      "\n",
      "ROG-12m-loss: 47.67868071703029 \n",
      "\n"
     ]
    }
   ],
   "source": [
    "dates12m = ['2022-05-01']#, '2022-06-01', '2022-07-01', '2022-08-01']\n",
    "\n",
    "for t in tickers:\n",
    "    loss = get_model_performance(data_macro, t, 0.05, to_exclude, dates12m, 12)\n",
    "    print(f'{t}-12m-loss: {loss} \\n')"
   ]
  },
  {
   "attachments": {},
   "cell_type": "markdown",
   "metadata": {},
   "source": [
    "#### 2. Ticker data"
   ]
  },
  {
   "cell_type": "code",
   "execution_count": 15,
   "metadata": {},
   "outputs": [],
   "source": [
    "data_stocks = data.copy()\n",
    "to_exclude2 = []\n",
    "\n",
    "for m in macros:\n",
    "    to_exclude2.append(m)\n",
    "    to_exclude2.append(f'{m}_lag')\n",
    "    to_exclude2.append(f'{m}_lag2')\n",
    "    to_exclude2.append(f'{m}_lag3')\n",
    "\n",
    "for t in tickers:\n",
    "    to_exclude2.append(t)\n",
    "\n",
    "\n",
    "to_exclude2.append('Date')"
   ]
  },
  {
   "cell_type": "code",
   "execution_count": 16,
   "metadata": {},
   "outputs": [
    {
     "name": "stdout",
     "output_type": "stream",
     "text": [
      "NVS-1m-loss: 0.5700806431319664\n",
      "AZN-1m-loss: 0.734669072582622\n",
      "BMY-1m-loss: 0.4967935838554775\n",
      "JNJ-1m-loss: 0.5704925734143715\n",
      "LLY-1m-loss: 0.6961034351790486\n",
      "MRK-1m-loss: 0.5933983595775069\n",
      "NVO-1m-loss: 0.6320326867919637\n",
      "PFE-1m-loss: 0.9097740562511705\n",
      "ROG-1m-loss: 3.958289186422867\n"
     ]
    }
   ],
   "source": [
    "for t in tickers:\n",
    "    loss = get_model_performance(data_stocks, t, 0.05, to_exclude2, dates1m, 1)\n",
    "    print(f'{t}-1m-loss: {loss}')"
   ]
  },
  {
   "cell_type": "code",
   "execution_count": 17,
   "metadata": {},
   "outputs": [
    {
     "name": "stdout",
     "output_type": "stream",
     "text": [
      "NVS-3m-loss: 1.6130321646730992\n",
      "AZN-3m-loss: 2.4085111378262405\n",
      "BMY-3m-loss: 1.4894008099105336\n",
      "JNJ-3m-loss: 2.026918342188585\n",
      "LLY-3m-loss: 2.0077462769314094\n",
      "MRK-3m-loss: 1.8157416710740826\n",
      "NVO-3m-loss: 2.0101102474330954\n",
      "PFE-3m-loss: 3.1031981834508637\n",
      "ROG-3m-loss: 14.066043874780169\n"
     ]
    }
   ],
   "source": [
    "for t in tickers:\n",
    "    loss = get_model_performance(data_stocks, t, 0.05, to_exclude2, dates3m, 3)\n",
    "    print(f'{t}-3m-loss: {loss}')"
   ]
  },
  {
   "cell_type": "code",
   "execution_count": 18,
   "metadata": {},
   "outputs": [
    {
     "name": "stdout",
     "output_type": "stream",
     "text": [
      "NVS-6m-loss: 3.182153322373202\n",
      "AZN-6m-loss: 4.984198988461185\n",
      "BMY-6m-loss: 3.0540434456939862\n",
      "JNJ-6m-loss: 3.7096900652787537\n",
      "LLY-6m-loss: 3.893652478891512\n",
      "MRK-6m-loss: 3.736103698353191\n",
      "NVO-6m-loss: 4.204725323044245\n",
      "PFE-6m-loss: 6.601819557893541\n",
      "ROG-6m-loss: 38.32655355825408\n"
     ]
    }
   ],
   "source": [
    "for t in tickers:\n",
    "    loss = get_model_performance(data_stocks, t, 0.05, to_exclude2, dates6m, 6)\n",
    "    print(f'{t}-6m-loss: {loss}')"
   ]
  },
  {
   "cell_type": "code",
   "execution_count": 19,
   "metadata": {},
   "outputs": [
    {
     "name": "stdout",
     "output_type": "stream",
     "text": [
      "NVS-9m-loss: 4.387599475028342\n",
      "AZN-9m-loss: 7.511688672459899\n",
      "BMY-9m-loss: 4.5754657224728055\n",
      "JNJ-9m-loss: 5.929051572227044\n",
      "LLY-9m-loss: 5.891831608679676\n",
      "MRK-9m-loss: 5.420934154400189\n",
      "NVO-9m-loss: 6.0177983643903445\n",
      "PFE-9m-loss: 9.553063218619032\n",
      "ROG-9m-loss: 44.59209209473438\n"
     ]
    }
   ],
   "source": [
    "for t in tickers:\n",
    "    loss = get_model_performance(data_stocks, t, 0.05, to_exclude2, dates9m, 9)\n",
    "    print(f'{t}-9m-loss: {loss}')"
   ]
  },
  {
   "cell_type": "code",
   "execution_count": 20,
   "metadata": {},
   "outputs": [
    {
     "name": "stdout",
     "output_type": "stream",
     "text": [
      "NVS-12m-loss: 6.518956651659676\n",
      "AZN-12m-loss: 9.025976879592067\n",
      "BMY-12m-loss: 6.082053790974383\n",
      "JNJ-12m-loss: 7.522618259311169\n",
      "LLY-12m-loss: 8.05881843530952\n",
      "MRK-12m-loss: 6.978077972929193\n",
      "NVO-12m-loss: 7.485982269754692\n",
      "PFE-12m-loss: 10.90816947396195\n",
      "ROG-12m-loss: 46.80406302040529\n"
     ]
    }
   ],
   "source": [
    "for t in tickers:\n",
    "    loss = get_model_performance(data_stocks, t, 0.05, to_exclude2, dates12m, 12)\n",
    "    print(f'{t}-12m-loss: {loss}')"
   ]
  },
  {
   "attachments": {},
   "cell_type": "markdown",
   "metadata": {},
   "source": [
    "3. All Covariates"
   ]
  },
  {
   "cell_type": "code",
   "execution_count": 21,
   "metadata": {},
   "outputs": [],
   "source": [
    "covs = data.copy()\n",
    "to_exclude3 = ['Date']\n",
    "\n",
    "for m in macros:\n",
    "    to_exclude3.append(m)\n",
    "\n",
    "for t in tickers:\n",
    "    to_exclude3.append(t)"
   ]
  },
  {
   "cell_type": "code",
   "execution_count": 22,
   "metadata": {},
   "outputs": [
    {
     "name": "stdout",
     "output_type": "stream",
     "text": [
      "NVS-1m-loss: 0.540977066174191\n",
      "AZN-1m-loss: 0.746224052835912\n",
      "BMY-1m-loss: 0.5149412715739979\n",
      "JNJ-1m-loss: 0.6129846718801543\n",
      "LLY-1m-loss: 0.8049843219656475\n",
      "MRK-1m-loss: 0.5937419662371566\n",
      "NVO-1m-loss: 0.629031539490111\n",
      "PFE-1m-loss: 0.9019506220754225\n",
      "ROG-1m-loss: 4.033481702300313\n"
     ]
    }
   ],
   "source": [
    "for t in tickers:\n",
    "    loss = get_model_performance(covs, t, 0.05, to_exclude3, dates1m, 1)\n",
    "    print(f'{t}-1m-loss: {loss}')"
   ]
  },
  {
   "cell_type": "code",
   "execution_count": 23,
   "metadata": {},
   "outputs": [
    {
     "name": "stdout",
     "output_type": "stream",
     "text": [
      "NVS-3m-loss: 1.6286504351421431\n",
      "AZN-3m-loss: 2.5357634868854437\n",
      "BMY-3m-loss: 1.54312820667973\n",
      "JNJ-3m-loss: 1.8727404036232944\n",
      "LLY-3m-loss: 2.166047286124091\n",
      "MRK-3m-loss: 1.895854990021266\n",
      "NVO-3m-loss: 2.000439758082165\n",
      "PFE-3m-loss: 2.9843994019508338\n",
      "ROG-3m-loss: 13.912583233181262\n"
     ]
    }
   ],
   "source": [
    "dates3m = ['2022-05-01', '2022-06-01', '2022-07-01', '2022-08-01', '2022-09-01', '2022-10-01', '2022-11-01', '2022-12-01', '2023-01-01', '2023-02-01']\n",
    "for t in tickers:\n",
    "    loss = get_model_performance(covs, t, 0.05, to_exclude3, dates3m, 3)\n",
    "    print(f'{t}-3m-loss: {loss}')"
   ]
  },
  {
   "cell_type": "code",
   "execution_count": 24,
   "metadata": {},
   "outputs": [
    {
     "name": "stdout",
     "output_type": "stream",
     "text": [
      "NVS-6m-loss: 3.264650698329685\n",
      "AZN-6m-loss: 5.163962170403846\n",
      "BMY-6m-loss: 3.1726181846867547\n",
      "JNJ-6m-loss: 3.5841116949256095\n",
      "LLY-6m-loss: 4.213468121627476\n",
      "MRK-6m-loss: 3.8840471566293893\n",
      "NVO-6m-loss: 4.181955531472537\n",
      "PFE-6m-loss: 6.627550236004956\n",
      "ROG-6m-loss: 37.502391227871826\n"
     ]
    }
   ],
   "source": [
    "dates6m = ['2022-05-01', '2022-06-01', '2022-07-01', '2022-08-01', '2022-09-01', '2022-10-01', '2022-11-01']\n",
    "for t in tickers:\n",
    "    loss = get_model_performance(covs, t, 0.05, to_exclude3, dates6m, 6)\n",
    "    print(f'{t}-6m-loss: {loss}')"
   ]
  },
  {
   "cell_type": "code",
   "execution_count": 25,
   "metadata": {},
   "outputs": [
    {
     "name": "stdout",
     "output_type": "stream",
     "text": [
      "NVS-9m-loss: 4.694773347027297\n",
      "AZN-9m-loss: 7.865460584820135\n",
      "BMY-9m-loss: 4.650072329533792\n",
      "JNJ-9m-loss: 5.6311241927070075\n",
      "LLY-9m-loss: 5.910582547938102\n",
      "MRK-9m-loss: 5.680333419781423\n",
      "NVO-9m-loss: 5.968886225980706\n",
      "PFE-9m-loss: 9.203823242632755\n",
      "ROG-9m-loss: 43.752969545589586\n"
     ]
    }
   ],
   "source": [
    "dates9m = ['2022-05-01', '2022-06-01', '2022-07-01', '2022-08-01'] \n",
    "for t in tickers:\n",
    "    loss = get_model_performance(covs, t, 0.05, to_exclude3, dates9m, 9)\n",
    "    print(f'{t}-9m-loss: {loss}')"
   ]
  },
  {
   "cell_type": "code",
   "execution_count": 26,
   "metadata": {},
   "outputs": [
    {
     "name": "stdout",
     "output_type": "stream",
     "text": [
      "NVS-12m-loss: 6.5298076919942\n",
      "AZN-12m-loss: 9.857400892373896\n",
      "BMY-12m-loss: 6.082053790974383\n",
      "JNJ-12m-loss: 5.795183151885968\n",
      "LLY-12m-loss: 8.704428260766152\n",
      "MRK-12m-loss: 7.266565179382988\n",
      "NVO-12m-loss: 7.485982269754692\n",
      "PFE-12m-loss: 10.383454896034257\n",
      "ROG-12m-loss: 46.1563522199452\n"
     ]
    }
   ],
   "source": [
    "dates12m = ['2022-05-01']\n",
    "for t in tickers:\n",
    "    loss = get_model_performance(covs, t, 0.05, to_exclude3, dates12m, 12)\n",
    "    print(f'{t}-12m-loss: {loss}')"
   ]
  }
 ],
 "metadata": {
  "kernelspec": {
   "display_name": "Python 3",
   "language": "python",
   "name": "python3"
  },
  "language_info": {
   "codemirror_mode": {
    "name": "ipython",
    "version": 3
   },
   "file_extension": ".py",
   "mimetype": "text/x-python",
   "name": "python",
   "nbconvert_exporter": "python",
   "pygments_lexer": "ipython3",
   "version": "3.10.11"
  },
  "orig_nbformat": 4
 },
 "nbformat": 4,
 "nbformat_minor": 2
}
