{
 "cells": [
  {
   "cell_type": "code",
   "execution_count": 1,
   "metadata": {},
   "outputs": [],
   "source": [
    "import pandas as pd\n",
    "import numpy as np\n",
    "import statsmodels.api as sm\n",
    "import statsmodels.formula.api as smf\n",
    "from sklearn.model_selection import TimeSeriesSplit"
   ]
  },
  {
   "attachments": {},
   "cell_type": "markdown",
   "metadata": {},
   "source": [
    "## QUANTILE REGRESSION"
   ]
  },
  {
   "cell_type": "code",
   "execution_count": 2,
   "metadata": {},
   "outputs": [
    {
     "data": {
      "text/html": [
       "<div>\n",
       "<style scoped>\n",
       "    .dataframe tbody tr th:only-of-type {\n",
       "        vertical-align: middle;\n",
       "    }\n",
       "\n",
       "    .dataframe tbody tr th {\n",
       "        vertical-align: top;\n",
       "    }\n",
       "\n",
       "    .dataframe thead th {\n",
       "        text-align: right;\n",
       "    }\n",
       "</style>\n",
       "<table border=\"1\" class=\"dataframe\">\n",
       "  <thead>\n",
       "    <tr style=\"text-align: right;\">\n",
       "      <th></th>\n",
       "      <th>Date</th>\n",
       "      <th>unemployment_rate</th>\n",
       "      <th>CPI</th>\n",
       "      <th>treasury_yield</th>\n",
       "      <th>GDP_growth</th>\n",
       "      <th>SP500_return</th>\n",
       "      <th>AZN</th>\n",
       "      <th>BMY</th>\n",
       "      <th>JNJ</th>\n",
       "      <th>LLY</th>\n",
       "      <th>MRK</th>\n",
       "      <th>NVO</th>\n",
       "      <th>NVS</th>\n",
       "      <th>PFE</th>\n",
       "      <th>ROG</th>\n",
       "      <th>inflation_change</th>\n",
       "      <th>unemp_change</th>\n",
       "      <th>treasury_yield_change</th>\n",
       "    </tr>\n",
       "  </thead>\n",
       "  <tbody>\n",
       "    <tr>\n",
       "      <th>0</th>\n",
       "      <td>2000-02-01</td>\n",
       "      <td>4.1</td>\n",
       "      <td>170.000</td>\n",
       "      <td>6.661000</td>\n",
       "      <td>0.496560</td>\n",
       "      <td>-1.522563</td>\n",
       "      <td>-12.828964</td>\n",
       "      <td>-13.228004</td>\n",
       "      <td>-16.339821</td>\n",
       "      <td>-11.121498</td>\n",
       "      <td>-21.701151</td>\n",
       "      <td>2.220031</td>\n",
       "      <td>3.838386</td>\n",
       "      <td>-11.226228</td>\n",
       "      <td>54.440789</td>\n",
       "      <td>1.000</td>\n",
       "      <td>-0.1</td>\n",
       "      <td>-0.141500</td>\n",
       "    </tr>\n",
       "    <tr>\n",
       "      <th>1</th>\n",
       "      <td>2000-03-01</td>\n",
       "      <td>4.0</td>\n",
       "      <td>171.000</td>\n",
       "      <td>6.519500</td>\n",
       "      <td>0.511258</td>\n",
       "      <td>9.413333</td>\n",
       "      <td>22.264136</td>\n",
       "      <td>-0.218329</td>\n",
       "      <td>-2.079067</td>\n",
       "      <td>5.804243</td>\n",
       "      <td>0.913712</td>\n",
       "      <td>8.390897</td>\n",
       "      <td>6.420237</td>\n",
       "      <td>14.101954</td>\n",
       "      <td>6.922258</td>\n",
       "      <td>1.000</td>\n",
       "      <td>-0.1</td>\n",
       "      <td>-0.141500</td>\n",
       "    </tr>\n",
       "    <tr>\n",
       "      <th>2</th>\n",
       "      <td>2000-04-01</td>\n",
       "      <td>3.8</td>\n",
       "      <td>170.900</td>\n",
       "      <td>6.256522</td>\n",
       "      <td>1.327803</td>\n",
       "      <td>-3.266805</td>\n",
       "      <td>5.567379</td>\n",
       "      <td>-8.205683</td>\n",
       "      <td>17.437698</td>\n",
       "      <td>23.153694</td>\n",
       "      <td>12.400712</td>\n",
       "      <td>-0.097663</td>\n",
       "      <td>2.559423</td>\n",
       "      <td>15.213674</td>\n",
       "      <td>7.370518</td>\n",
       "      <td>-0.100</td>\n",
       "      <td>-0.2</td>\n",
       "      <td>-0.262978</td>\n",
       "    </tr>\n",
       "    <tr>\n",
       "      <th>3</th>\n",
       "      <td>2000-05-01</td>\n",
       "      <td>4.0</td>\n",
       "      <td>171.200</td>\n",
       "      <td>5.990526</td>\n",
       "      <td>-0.181797</td>\n",
       "      <td>-1.572223</td>\n",
       "      <td>-0.148357</td>\n",
       "      <td>5.395746</td>\n",
       "      <td>8.484832</td>\n",
       "      <td>-1.296597</td>\n",
       "      <td>7.374072</td>\n",
       "      <td>20.863985</td>\n",
       "      <td>5.169310</td>\n",
       "      <td>5.638019</td>\n",
       "      <td>-8.163265</td>\n",
       "      <td>0.300</td>\n",
       "      <td>0.2</td>\n",
       "      <td>-0.265995</td>\n",
       "    </tr>\n",
       "    <tr>\n",
       "      <th>4</th>\n",
       "      <td>2000-06-01</td>\n",
       "      <td>4.0</td>\n",
       "      <td>172.200</td>\n",
       "      <td>6.440455</td>\n",
       "      <td>0.305565</td>\n",
       "      <td>1.728613</td>\n",
       "      <td>10.549735</td>\n",
       "      <td>5.788826</td>\n",
       "      <td>14.239888</td>\n",
       "      <td>31.641749</td>\n",
       "      <td>3.078671</td>\n",
       "      <td>2.813690</td>\n",
       "      <td>8.474599</td>\n",
       "      <td>8.076012</td>\n",
       "      <td>13.131313</td>\n",
       "      <td>1.000</td>\n",
       "      <td>0.0</td>\n",
       "      <td>0.449928</td>\n",
       "    </tr>\n",
       "    <tr>\n",
       "      <th>...</th>\n",
       "      <td>...</td>\n",
       "      <td>...</td>\n",
       "      <td>...</td>\n",
       "      <td>...</td>\n",
       "      <td>...</td>\n",
       "      <td>...</td>\n",
       "      <td>...</td>\n",
       "      <td>...</td>\n",
       "      <td>...</td>\n",
       "      <td>...</td>\n",
       "      <td>...</td>\n",
       "      <td>...</td>\n",
       "      <td>...</td>\n",
       "      <td>...</td>\n",
       "      <td>...</td>\n",
       "      <td>...</td>\n",
       "      <td>...</td>\n",
       "      <td>...</td>\n",
       "    </tr>\n",
       "    <tr>\n",
       "      <th>275</th>\n",
       "      <td>2023-01-01</td>\n",
       "      <td>3.4</td>\n",
       "      <td>300.536</td>\n",
       "      <td>3.616190</td>\n",
       "      <td>0.390254</td>\n",
       "      <td>6.776820</td>\n",
       "      <td>-3.584079</td>\n",
       "      <td>0.972908</td>\n",
       "      <td>-7.489384</td>\n",
       "      <td>-5.928822</td>\n",
       "      <td>-2.549213</td>\n",
       "      <td>2.541749</td>\n",
       "      <td>-0.110227</td>\n",
       "      <td>-13.817335</td>\n",
       "      <td>16.968326</td>\n",
       "      <td>1.546</td>\n",
       "      <td>-0.1</td>\n",
       "      <td>-0.274810</td>\n",
       "    </tr>\n",
       "    <tr>\n",
       "      <th>276</th>\n",
       "      <td>2023-02-01</td>\n",
       "      <td>3.6</td>\n",
       "      <td>301.648</td>\n",
       "      <td>3.531500</td>\n",
       "      <td>-0.442183</td>\n",
       "      <td>-2.514271</td>\n",
       "      <td>-0.290649</td>\n",
       "      <td>-4.328217</td>\n",
       "      <td>-6.217115</td>\n",
       "      <td>-9.568502</td>\n",
       "      <td>-1.089288</td>\n",
       "      <td>1.592445</td>\n",
       "      <td>-7.172811</td>\n",
       "      <td>-7.286115</td>\n",
       "      <td>5.451681</td>\n",
       "      <td>1.112</td>\n",
       "      <td>0.2</td>\n",
       "      <td>-0.084690</td>\n",
       "    </tr>\n",
       "    <tr>\n",
       "      <th>277</th>\n",
       "      <td>2023-03-01</td>\n",
       "      <td>3.5</td>\n",
       "      <td>301.808</td>\n",
       "      <td>3.746842</td>\n",
       "      <td>-0.442183</td>\n",
       "      <td>3.313488</td>\n",
       "      <td>8.035329</td>\n",
       "      <td>0.507544</td>\n",
       "      <td>1.862736</td>\n",
       "      <td>10.703390</td>\n",
       "      <td>0.141189</td>\n",
       "      <td>12.873250</td>\n",
       "      <td>9.367574</td>\n",
       "      <td>0.566924</td>\n",
       "      <td>11.025813</td>\n",
       "      <td>0.160</td>\n",
       "      <td>-0.1</td>\n",
       "      <td>0.215342</td>\n",
       "    </tr>\n",
       "    <tr>\n",
       "      <th>278</th>\n",
       "      <td>2023-04-01</td>\n",
       "      <td>3.4</td>\n",
       "      <td>302.918</td>\n",
       "      <td>3.663043</td>\n",
       "      <td>-0.442183</td>\n",
       "      <td>1.985238</td>\n",
       "      <td>5.489119</td>\n",
       "      <td>-3.664707</td>\n",
       "      <td>5.612908</td>\n",
       "      <td>15.269915</td>\n",
       "      <td>9.289214</td>\n",
       "      <td>5.836894</td>\n",
       "      <td>16.334413</td>\n",
       "      <td>-4.681371</td>\n",
       "      <td>-1.517467</td>\n",
       "      <td>1.110</td>\n",
       "      <td>-0.1</td>\n",
       "      <td>-0.083799</td>\n",
       "    </tr>\n",
       "    <tr>\n",
       "      <th>279</th>\n",
       "      <td>2023-05-01</td>\n",
       "      <td>3.7</td>\n",
       "      <td>304.127</td>\n",
       "      <td>3.460000</td>\n",
       "      <td>-0.442183</td>\n",
       "      <td>0.461619</td>\n",
       "      <td>-0.191204</td>\n",
       "      <td>-2.695194</td>\n",
       "      <td>-5.277949</td>\n",
       "      <td>8.487855</td>\n",
       "      <td>-4.382088</td>\n",
       "      <td>-3.967915</td>\n",
       "      <td>-6.161645</td>\n",
       "      <td>-2.237080</td>\n",
       "      <td>-2.162160</td>\n",
       "      <td>0.100</td>\n",
       "      <td>0.3</td>\n",
       "      <td>-0.203043</td>\n",
       "    </tr>\n",
       "  </tbody>\n",
       "</table>\n",
       "<p>280 rows × 18 columns</p>\n",
       "</div>"
      ],
      "text/plain": [
       "           Date  unemployment_rate      CPI  treasury_yield  GDP_growth  \\\n",
       "0    2000-02-01                4.1  170.000        6.661000    0.496560   \n",
       "1    2000-03-01                4.0  171.000        6.519500    0.511258   \n",
       "2    2000-04-01                3.8  170.900        6.256522    1.327803   \n",
       "3    2000-05-01                4.0  171.200        5.990526   -0.181797   \n",
       "4    2000-06-01                4.0  172.200        6.440455    0.305565   \n",
       "..          ...                ...      ...             ...         ...   \n",
       "275  2023-01-01                3.4  300.536        3.616190    0.390254   \n",
       "276  2023-02-01                3.6  301.648        3.531500   -0.442183   \n",
       "277  2023-03-01                3.5  301.808        3.746842   -0.442183   \n",
       "278  2023-04-01                3.4  302.918        3.663043   -0.442183   \n",
       "279  2023-05-01                3.7  304.127        3.460000   -0.442183   \n",
       "\n",
       "     SP500_return        AZN        BMY        JNJ        LLY        MRK  \\\n",
       "0       -1.522563 -12.828964 -13.228004 -16.339821 -11.121498 -21.701151   \n",
       "1        9.413333  22.264136  -0.218329  -2.079067   5.804243   0.913712   \n",
       "2       -3.266805   5.567379  -8.205683  17.437698  23.153694  12.400712   \n",
       "3       -1.572223  -0.148357   5.395746   8.484832  -1.296597   7.374072   \n",
       "4        1.728613  10.549735   5.788826  14.239888  31.641749   3.078671   \n",
       "..            ...        ...        ...        ...        ...        ...   \n",
       "275      6.776820  -3.584079   0.972908  -7.489384  -5.928822  -2.549213   \n",
       "276     -2.514271  -0.290649  -4.328217  -6.217115  -9.568502  -1.089288   \n",
       "277      3.313488   8.035329   0.507544   1.862736  10.703390   0.141189   \n",
       "278      1.985238   5.489119  -3.664707   5.612908  15.269915   9.289214   \n",
       "279      0.461619  -0.191204  -2.695194  -5.277949   8.487855  -4.382088   \n",
       "\n",
       "           NVO        NVS        PFE        ROG  inflation_change  \\\n",
       "0     2.220031   3.838386 -11.226228  54.440789             1.000   \n",
       "1     8.390897   6.420237  14.101954   6.922258             1.000   \n",
       "2    -0.097663   2.559423  15.213674   7.370518            -0.100   \n",
       "3    20.863985   5.169310   5.638019  -8.163265             0.300   \n",
       "4     2.813690   8.474599   8.076012  13.131313             1.000   \n",
       "..         ...        ...        ...        ...               ...   \n",
       "275   2.541749  -0.110227 -13.817335  16.968326             1.546   \n",
       "276   1.592445  -7.172811  -7.286115   5.451681             1.112   \n",
       "277  12.873250   9.367574   0.566924  11.025813             0.160   \n",
       "278   5.836894  16.334413  -4.681371  -1.517467             1.110   \n",
       "279  -3.967915  -6.161645  -2.237080  -2.162160             0.100   \n",
       "\n",
       "     unemp_change  treasury_yield_change  \n",
       "0            -0.1              -0.141500  \n",
       "1            -0.1              -0.141500  \n",
       "2            -0.2              -0.262978  \n",
       "3             0.2              -0.265995  \n",
       "4             0.0               0.449928  \n",
       "..            ...                    ...  \n",
       "275          -0.1              -0.274810  \n",
       "276           0.2              -0.084690  \n",
       "277          -0.1               0.215342  \n",
       "278          -0.1              -0.083799  \n",
       "279           0.3              -0.203043  \n",
       "\n",
       "[280 rows x 18 columns]"
      ]
     },
     "execution_count": 2,
     "metadata": {},
     "output_type": "execute_result"
    }
   ],
   "source": [
    "data = pd.read_csv('non_nan.csv', )\n",
    "data"
   ]
  },
  {
   "cell_type": "code",
   "execution_count": 3,
   "metadata": {},
   "outputs": [],
   "source": [
    "def create_lags_cov(data, covs, period):\n",
    "    lagged_covs = []  # List to store the names of lagged columns\n",
    "\n",
    "    for covariate in covs:\n",
    "        for i in period:\n",
    "            lagged_column_name = f'{covariate}_lag{i}'\n",
    "            data[lagged_column_name] = data[covariate].shift(i)\n",
    "            lagged_covs.append(lagged_column_name)\n",
    "    \n",
    "    data.dropna(inplace=True)\n",
    "    data = data.reset_index(drop=True)\n",
    "\n",
    "    return data, lagged_covs"
   ]
  },
  {
   "cell_type": "code",
   "execution_count": 4,
   "metadata": {},
   "outputs": [],
   "source": [
    "def create_lags_returns(data, tickers, period):\n",
    "\n",
    "    lagged_tickers = []  # List to store the names of lagged columns\n",
    "\n",
    "    for tick in tickers:\n",
    "        for i in period:\n",
    "            lagged_column_name = f'{tick}_lag{i}'\n",
    "            data[lagged_column_name] = data[tick].shift(i)\n",
    "            lagged_tickers.append(lagged_column_name)\n",
    "\n",
    "    data.dropna(inplace=True)\n",
    "    data = data.reset_index(drop=True)\n",
    "\n",
    "    return data, lagged_tickers"
   ]
  },
  {
   "cell_type": "code",
   "execution_count": 5,
   "metadata": {},
   "outputs": [],
   "source": [
    "# Creating lagged variables\n",
    "tickers = ['AZN', 'BMY', 'JNJ', 'LLY', 'MRK', 'NVO', 'NVS', 'PFE','ROG']\n",
    "covs = ['unemployment_rate', 'CPI', 'treasury_yield', 'GDP_growth', 'SP500_return', 'inflation_change', 'unemp_change', 'treasury_yield_change']\n",
    "period_covs = [1, 2, 3]\n",
    "period_returns = [1,2]\n",
    "\n",
    "data, lagged_covs = create_lags_cov(data, covs, period=period_covs)\n",
    "data, lagged_tickers = create_lags_returns(data, tickers, period= period_returns)"
   ]
  },
  {
   "cell_type": "code",
   "execution_count": 6,
   "metadata": {},
   "outputs": [],
   "source": [
    "# Creating lagged variables\n",
    "tickers = ['AZN', 'BMY', 'JNJ', 'LLY', 'MRK', 'NVO', 'NVS', 'PFE','ROG']\n",
    "covs = ['unemployment_rate', 'CPI', 'treasury_yield', 'GDP_growth', 'SP500_return', 'inflation_change', 'unemp_change', 'treasury_yield_change']\n",
    "period_covs = [1, 2, 3]\n",
    "period_returns = [1,2]\n",
    "\n",
    "data, lagged_covs = create_lags_cov(data, covs, period=period_covs)\n",
    "data, lagged_tickers = create_lags_returns(data, tickers, period= period_returns)\n",
    "\n",
    "# Creating dummy variables\n",
    "data['Quater_dummy'] = 0\n",
    "data['Quater_rippel'] = 0\n",
    "data['Date'] = pd.to_datetime(data['Date'])\n",
    "for index, row in data.iterrows():\n",
    "    if row['Date'].month in [3, 6, 9, 12]:\n",
    "        data.loc[index, 'Quater_dummy'] = 1\n",
    "    if row['Date'].month in [1, 4, 7, 10]:\n",
    "        data.loc[index, 'Quater_dummy'] = 1"
   ]
  },
  {
   "cell_type": "code",
   "execution_count": 7,
   "metadata": {},
   "outputs": [
    {
     "data": {
      "text/html": [
       "<div>\n",
       "<style scoped>\n",
       "    .dataframe tbody tr th:only-of-type {\n",
       "        vertical-align: middle;\n",
       "    }\n",
       "\n",
       "    .dataframe tbody tr th {\n",
       "        vertical-align: top;\n",
       "    }\n",
       "\n",
       "    .dataframe thead th {\n",
       "        text-align: right;\n",
       "    }\n",
       "</style>\n",
       "<table border=\"1\" class=\"dataframe\">\n",
       "  <thead>\n",
       "    <tr style=\"text-align: right;\">\n",
       "      <th></th>\n",
       "      <th>Date</th>\n",
       "      <th>unemployment_rate</th>\n",
       "      <th>CPI</th>\n",
       "      <th>treasury_yield</th>\n",
       "      <th>GDP_growth</th>\n",
       "      <th>SP500_return</th>\n",
       "      <th>AZN</th>\n",
       "      <th>BMY</th>\n",
       "      <th>JNJ</th>\n",
       "      <th>LLY</th>\n",
       "      <th>...</th>\n",
       "      <th>NVO_lag1</th>\n",
       "      <th>NVO_lag2</th>\n",
       "      <th>NVS_lag1</th>\n",
       "      <th>NVS_lag2</th>\n",
       "      <th>PFE_lag1</th>\n",
       "      <th>PFE_lag2</th>\n",
       "      <th>ROG_lag1</th>\n",
       "      <th>ROG_lag2</th>\n",
       "      <th>Quater_dummy</th>\n",
       "      <th>Quater_rippel</th>\n",
       "    </tr>\n",
       "  </thead>\n",
       "  <tbody>\n",
       "    <tr>\n",
       "      <th>0</th>\n",
       "      <td>2000-12-01</td>\n",
       "      <td>3.9</td>\n",
       "      <td>174.600</td>\n",
       "      <td>5.717143</td>\n",
       "      <td>-0.087123</td>\n",
       "      <td>-0.826852</td>\n",
       "      <td>2.331298</td>\n",
       "      <td>6.672740</td>\n",
       "      <td>5.420678</td>\n",
       "      <td>-0.380932</td>\n",
       "      <td>...</td>\n",
       "      <td>-9.882362</td>\n",
       "      <td>-4.279274</td>\n",
       "      <td>5.700307</td>\n",
       "      <td>-0.807726</td>\n",
       "      <td>2.604919</td>\n",
       "      <td>-3.860903</td>\n",
       "      <td>1.748252</td>\n",
       "      <td>13.043478</td>\n",
       "      <td>1</td>\n",
       "      <td>0</td>\n",
       "    </tr>\n",
       "    <tr>\n",
       "      <th>1</th>\n",
       "      <td>2001-01-01</td>\n",
       "      <td>4.2</td>\n",
       "      <td>175.600</td>\n",
       "      <td>5.240500</td>\n",
       "      <td>-0.066423</td>\n",
       "      <td>4.766324</td>\n",
       "      <td>-13.766945</td>\n",
       "      <td>-16.294179</td>\n",
       "      <td>-11.357522</td>\n",
       "      <td>-15.325723</td>\n",
       "      <td>...</td>\n",
       "      <td>-7.125809</td>\n",
       "      <td>-9.882362</td>\n",
       "      <td>13.379157</td>\n",
       "      <td>5.700307</td>\n",
       "      <td>4.026887</td>\n",
       "      <td>2.604919</td>\n",
       "      <td>12.886598</td>\n",
       "      <td>1.748252</td>\n",
       "      <td>1</td>\n",
       "      <td>0</td>\n",
       "    </tr>\n",
       "    <tr>\n",
       "      <th>2</th>\n",
       "      <td>2001-02-01</td>\n",
       "      <td>4.2</td>\n",
       "      <td>176.000</td>\n",
       "      <td>5.160952</td>\n",
       "      <td>-0.195020</td>\n",
       "      <td>-9.538746</td>\n",
       "      <td>4.143180</td>\n",
       "      <td>2.851534</td>\n",
       "      <td>4.509829</td>\n",
       "      <td>0.837527</td>\n",
       "      <td>...</td>\n",
       "      <td>12.824829</td>\n",
       "      <td>-7.125809</td>\n",
       "      <td>-4.290496</td>\n",
       "      <td>13.379157</td>\n",
       "      <td>-1.847877</td>\n",
       "      <td>4.026887</td>\n",
       "      <td>-5.022831</td>\n",
       "      <td>12.886598</td>\n",
       "      <td>0</td>\n",
       "      <td>0</td>\n",
       "    </tr>\n",
       "    <tr>\n",
       "      <th>3</th>\n",
       "      <td>2001-03-01</td>\n",
       "      <td>4.3</td>\n",
       "      <td>176.100</td>\n",
       "      <td>5.098947</td>\n",
       "      <td>-0.217255</td>\n",
       "      <td>-5.857225</td>\n",
       "      <td>5.615486</td>\n",
       "      <td>-6.323922</td>\n",
       "      <td>-9.828843</td>\n",
       "      <td>-3.186580</td>\n",
       "      <td>...</td>\n",
       "      <td>-0.350508</td>\n",
       "      <td>12.824829</td>\n",
       "      <td>-0.373563</td>\n",
       "      <td>-4.290496</td>\n",
       "      <td>-0.332146</td>\n",
       "      <td>-1.847877</td>\n",
       "      <td>-8.846156</td>\n",
       "      <td>-5.022831</td>\n",
       "      <td>1</td>\n",
       "      <td>0</td>\n",
       "    </tr>\n",
       "    <tr>\n",
       "      <th>4</th>\n",
       "      <td>2001-04-01</td>\n",
       "      <td>4.4</td>\n",
       "      <td>176.400</td>\n",
       "      <td>4.885455</td>\n",
       "      <td>0.756989</td>\n",
       "      <td>8.836250</td>\n",
       "      <td>-1.512969</td>\n",
       "      <td>-5.723911</td>\n",
       "      <td>10.300706</td>\n",
       "      <td>10.879156</td>\n",
       "      <td>...</td>\n",
       "      <td>-0.150755</td>\n",
       "      <td>-0.350508</td>\n",
       "      <td>-7.827520</td>\n",
       "      <td>-0.373563</td>\n",
       "      <td>-8.777164</td>\n",
       "      <td>-0.332146</td>\n",
       "      <td>-0.112520</td>\n",
       "      <td>-8.846156</td>\n",
       "      <td>1</td>\n",
       "      <td>0</td>\n",
       "    </tr>\n",
       "    <tr>\n",
       "      <th>...</th>\n",
       "      <td>...</td>\n",
       "      <td>...</td>\n",
       "      <td>...</td>\n",
       "      <td>...</td>\n",
       "      <td>...</td>\n",
       "      <td>...</td>\n",
       "      <td>...</td>\n",
       "      <td>...</td>\n",
       "      <td>...</td>\n",
       "      <td>...</td>\n",
       "      <td>...</td>\n",
       "      <td>...</td>\n",
       "      <td>...</td>\n",
       "      <td>...</td>\n",
       "      <td>...</td>\n",
       "      <td>...</td>\n",
       "      <td>...</td>\n",
       "      <td>...</td>\n",
       "      <td>...</td>\n",
       "      <td>...</td>\n",
       "      <td>...</td>\n",
       "    </tr>\n",
       "    <tr>\n",
       "      <th>265</th>\n",
       "      <td>2023-01-01</td>\n",
       "      <td>3.4</td>\n",
       "      <td>300.536</td>\n",
       "      <td>3.616190</td>\n",
       "      <td>0.390254</td>\n",
       "      <td>6.776820</td>\n",
       "      <td>-3.584079</td>\n",
       "      <td>0.972908</td>\n",
       "      <td>-7.489384</td>\n",
       "      <td>-5.928822</td>\n",
       "      <td>...</td>\n",
       "      <td>8.619586</td>\n",
       "      <td>14.479974</td>\n",
       "      <td>1.295221</td>\n",
       "      <td>10.390734</td>\n",
       "      <td>3.090302</td>\n",
       "      <td>7.690670</td>\n",
       "      <td>9.446071</td>\n",
       "      <td>-53.665066</td>\n",
       "      <td>1</td>\n",
       "      <td>0</td>\n",
       "    </tr>\n",
       "    <tr>\n",
       "      <th>266</th>\n",
       "      <td>2023-02-01</td>\n",
       "      <td>3.6</td>\n",
       "      <td>301.648</td>\n",
       "      <td>3.531500</td>\n",
       "      <td>-0.442183</td>\n",
       "      <td>-2.514271</td>\n",
       "      <td>-0.290649</td>\n",
       "      <td>-4.328217</td>\n",
       "      <td>-6.217115</td>\n",
       "      <td>-9.568502</td>\n",
       "      <td>...</td>\n",
       "      <td>2.541749</td>\n",
       "      <td>8.619586</td>\n",
       "      <td>-0.110227</td>\n",
       "      <td>1.295221</td>\n",
       "      <td>-13.817335</td>\n",
       "      <td>3.090302</td>\n",
       "      <td>16.968326</td>\n",
       "      <td>9.446071</td>\n",
       "      <td>0</td>\n",
       "      <td>0</td>\n",
       "    </tr>\n",
       "    <tr>\n",
       "      <th>267</th>\n",
       "      <td>2023-03-01</td>\n",
       "      <td>3.5</td>\n",
       "      <td>301.808</td>\n",
       "      <td>3.746842</td>\n",
       "      <td>-0.442183</td>\n",
       "      <td>3.313488</td>\n",
       "      <td>8.035329</td>\n",
       "      <td>0.507544</td>\n",
       "      <td>1.862736</td>\n",
       "      <td>10.703390</td>\n",
       "      <td>...</td>\n",
       "      <td>1.592445</td>\n",
       "      <td>2.541749</td>\n",
       "      <td>-7.172811</td>\n",
       "      <td>-0.110227</td>\n",
       "      <td>-7.286115</td>\n",
       "      <td>-13.817335</td>\n",
       "      <td>5.451681</td>\n",
       "      <td>16.968326</td>\n",
       "      <td>1</td>\n",
       "      <td>0</td>\n",
       "    </tr>\n",
       "    <tr>\n",
       "      <th>268</th>\n",
       "      <td>2023-04-01</td>\n",
       "      <td>3.4</td>\n",
       "      <td>302.918</td>\n",
       "      <td>3.663043</td>\n",
       "      <td>-0.442183</td>\n",
       "      <td>1.985238</td>\n",
       "      <td>5.489119</td>\n",
       "      <td>-3.664707</td>\n",
       "      <td>5.612908</td>\n",
       "      <td>15.269915</td>\n",
       "      <td>...</td>\n",
       "      <td>12.873250</td>\n",
       "      <td>1.592445</td>\n",
       "      <td>9.367574</td>\n",
       "      <td>-7.172811</td>\n",
       "      <td>0.566924</td>\n",
       "      <td>-7.286115</td>\n",
       "      <td>11.025813</td>\n",
       "      <td>5.451681</td>\n",
       "      <td>1</td>\n",
       "      <td>0</td>\n",
       "    </tr>\n",
       "    <tr>\n",
       "      <th>269</th>\n",
       "      <td>2023-05-01</td>\n",
       "      <td>3.7</td>\n",
       "      <td>304.127</td>\n",
       "      <td>3.460000</td>\n",
       "      <td>-0.442183</td>\n",
       "      <td>0.461619</td>\n",
       "      <td>-0.191204</td>\n",
       "      <td>-2.695194</td>\n",
       "      <td>-5.277949</td>\n",
       "      <td>8.487855</td>\n",
       "      <td>...</td>\n",
       "      <td>5.836894</td>\n",
       "      <td>12.873250</td>\n",
       "      <td>16.334413</td>\n",
       "      <td>9.367574</td>\n",
       "      <td>-4.681371</td>\n",
       "      <td>0.566924</td>\n",
       "      <td>-1.517467</td>\n",
       "      <td>11.025813</td>\n",
       "      <td>0</td>\n",
       "      <td>0</td>\n",
       "    </tr>\n",
       "  </tbody>\n",
       "</table>\n",
       "<p>270 rows × 62 columns</p>\n",
       "</div>"
      ],
      "text/plain": [
       "          Date  unemployment_rate      CPI  treasury_yield  GDP_growth  \\\n",
       "0   2000-12-01                3.9  174.600        5.717143   -0.087123   \n",
       "1   2001-01-01                4.2  175.600        5.240500   -0.066423   \n",
       "2   2001-02-01                4.2  176.000        5.160952   -0.195020   \n",
       "3   2001-03-01                4.3  176.100        5.098947   -0.217255   \n",
       "4   2001-04-01                4.4  176.400        4.885455    0.756989   \n",
       "..         ...                ...      ...             ...         ...   \n",
       "265 2023-01-01                3.4  300.536        3.616190    0.390254   \n",
       "266 2023-02-01                3.6  301.648        3.531500   -0.442183   \n",
       "267 2023-03-01                3.5  301.808        3.746842   -0.442183   \n",
       "268 2023-04-01                3.4  302.918        3.663043   -0.442183   \n",
       "269 2023-05-01                3.7  304.127        3.460000   -0.442183   \n",
       "\n",
       "     SP500_return        AZN        BMY        JNJ        LLY  ...   NVO_lag1  \\\n",
       "0       -0.826852   2.331298   6.672740   5.420678  -0.380932  ...  -9.882362   \n",
       "1        4.766324 -13.766945 -16.294179 -11.357522 -15.325723  ...  -7.125809   \n",
       "2       -9.538746   4.143180   2.851534   4.509829   0.837527  ...  12.824829   \n",
       "3       -5.857225   5.615486  -6.323922  -9.828843  -3.186580  ...  -0.350508   \n",
       "4        8.836250  -1.512969  -5.723911  10.300706  10.879156  ...  -0.150755   \n",
       "..            ...        ...        ...        ...        ...  ...        ...   \n",
       "265      6.776820  -3.584079   0.972908  -7.489384  -5.928822  ...   8.619586   \n",
       "266     -2.514271  -0.290649  -4.328217  -6.217115  -9.568502  ...   2.541749   \n",
       "267      3.313488   8.035329   0.507544   1.862736  10.703390  ...   1.592445   \n",
       "268      1.985238   5.489119  -3.664707   5.612908  15.269915  ...  12.873250   \n",
       "269      0.461619  -0.191204  -2.695194  -5.277949   8.487855  ...   5.836894   \n",
       "\n",
       "      NVO_lag2   NVS_lag1   NVS_lag2   PFE_lag1   PFE_lag2   ROG_lag1  \\\n",
       "0    -4.279274   5.700307  -0.807726   2.604919  -3.860903   1.748252   \n",
       "1    -9.882362  13.379157   5.700307   4.026887   2.604919  12.886598   \n",
       "2    -7.125809  -4.290496  13.379157  -1.847877   4.026887  -5.022831   \n",
       "3    12.824829  -0.373563  -4.290496  -0.332146  -1.847877  -8.846156   \n",
       "4    -0.350508  -7.827520  -0.373563  -8.777164  -0.332146  -0.112520   \n",
       "..         ...        ...        ...        ...        ...        ...   \n",
       "265  14.479974   1.295221  10.390734   3.090302   7.690670   9.446071   \n",
       "266   8.619586  -0.110227   1.295221 -13.817335   3.090302  16.968326   \n",
       "267   2.541749  -7.172811  -0.110227  -7.286115 -13.817335   5.451681   \n",
       "268   1.592445   9.367574  -7.172811   0.566924  -7.286115  11.025813   \n",
       "269  12.873250  16.334413   9.367574  -4.681371   0.566924  -1.517467   \n",
       "\n",
       "      ROG_lag2  Quater_dummy  Quater_rippel  \n",
       "0    13.043478             1              0  \n",
       "1     1.748252             1              0  \n",
       "2    12.886598             0              0  \n",
       "3    -5.022831             1              0  \n",
       "4    -8.846156             1              0  \n",
       "..         ...           ...            ...  \n",
       "265 -53.665066             1              0  \n",
       "266   9.446071             0              0  \n",
       "267  16.968326             1              0  \n",
       "268   5.451681             1              0  \n",
       "269  11.025813             0              0  \n",
       "\n",
       "[270 rows x 62 columns]"
      ]
     },
     "execution_count": 7,
     "metadata": {},
     "output_type": "execute_result"
    }
   ],
   "source": [
    "data"
   ]
  },
  {
   "attachments": {},
   "cell_type": "markdown",
   "metadata": {},
   "source": [
    "### Defining tick_loss function"
   ]
  },
  {
   "cell_type": "code",
   "execution_count": 8,
   "metadata": {},
   "outputs": [],
   "source": [
    "def tick_loss(alpha, returns, var):\n",
    "    df = pd.DataFrame({'Return': returns, 'VaR': var})\n",
    "    df['Indicator'] = np.where(df['Return'] < df['VaR'], 1, 0)\n",
    "\n",
    "    t_loss = 0\n",
    "\n",
    "    for i in df.index:\n",
    "        t_loss += (\n",
    "            alpha * (df['Return'][i] - df['VaR'][i]) * (1 - df['Indicator'][i])\n",
    "            + (1 - alpha) * (df['VaR'][i] - df['Return'][i]) * df['Indicator'][i]\n",
    "        )\n",
    "\n",
    "    return t_loss"
   ]
  },
  {
   "cell_type": "code",
   "execution_count": 9,
   "metadata": {},
   "outputs": [
    {
     "data": {
      "text/plain": [
       "Index(['Date', 'unemployment_rate', 'CPI', 'treasury_yield', 'GDP_growth',\n",
       "       'SP500_return', 'AZN', 'BMY', 'JNJ', 'LLY', 'MRK', 'NVO', 'NVS', 'PFE',\n",
       "       'ROG', 'inflation_change', 'unemp_change', 'treasury_yield_change',\n",
       "       'unemployment_rate_lag1', 'unemployment_rate_lag2',\n",
       "       'unemployment_rate_lag3', 'CPI_lag1', 'CPI_lag2', 'CPI_lag3',\n",
       "       'treasury_yield_lag1', 'treasury_yield_lag2', 'treasury_yield_lag3',\n",
       "       'GDP_growth_lag1', 'GDP_growth_lag2', 'GDP_growth_lag3',\n",
       "       'SP500_return_lag1', 'SP500_return_lag2', 'SP500_return_lag3',\n",
       "       'inflation_change_lag1', 'inflation_change_lag2',\n",
       "       'inflation_change_lag3', 'unemp_change_lag1', 'unemp_change_lag2',\n",
       "       'unemp_change_lag3', 'treasury_yield_change_lag1',\n",
       "       'treasury_yield_change_lag2', 'treasury_yield_change_lag3', 'AZN_lag1',\n",
       "       'AZN_lag2', 'BMY_lag1', 'BMY_lag2', 'JNJ_lag1', 'JNJ_lag2', 'LLY_lag1',\n",
       "       'LLY_lag2', 'MRK_lag1', 'MRK_lag2', 'NVO_lag1', 'NVO_lag2', 'NVS_lag1',\n",
       "       'NVS_lag2', 'PFE_lag1', 'PFE_lag2', 'ROG_lag1', 'ROG_lag2',\n",
       "       'Quater_dummy', 'Quater_rippel'],\n",
       "      dtype='object')"
      ]
     },
     "execution_count": 9,
     "metadata": {},
     "output_type": "execute_result"
    }
   ],
   "source": [
    "data.columns"
   ]
  },
  {
   "cell_type": "code",
   "execution_count": 10,
   "metadata": {},
   "outputs": [],
   "source": [
    "import statsmodels.api as sm\n",
    "import numpy as np\n",
    "\n",
    "def rolling_forecast_QR(data, dates, ticker, alpha, columns_to_exclude, horizon):\n",
    "    t_loss = 0\n",
    "    dta = data.copy()\n",
    "    all_var_forecast = []\n",
    "\n",
    "    for d in dates:\n",
    "        train_df = dta[dta.Date <= d]\n",
    "        test_df = dta[dta.Date > d]\n",
    "        test_df = test_df.reset_index(drop=True)\n",
    "\n",
    "        X_train = train_df.drop(columns=columns_to_exclude,axis=1)\n",
    "        y_train = train_df[ticker]\n",
    "\n",
    "        X_test = test_df.drop(columns=columns_to_exclude, axis=1)\n",
    "        X_test = X_test.iloc[horizon-1]\n",
    "        y_test = test_df[ticker][horizon-1]\n",
    "\n",
    "        quantreg = sm.QuantReg(y_train, X_train)\n",
    "        quantreg_results = quantreg.fit(q=alpha)\n",
    "\n",
    "        VaR_forecast = quantreg_results.predict(X_test)\n",
    "        all_var_forecast.append(VaR_forecast)\n",
    "\n",
    "        r = y_test\n",
    "        loss = tick_loss(alpha, r, VaR_forecast)\n",
    "        t_loss += loss\n",
    "\n",
    "    combinations = 13 - horizon\n",
    "    t_loss = t_loss / combinations\n",
    "    all_var_forecast = np.concatenate(all_var_forecast)\n",
    "\n",
    "    return t_loss, all_var_forecast"
   ]
  },
  {
   "attachments": {},
   "cell_type": "markdown",
   "metadata": {},
   "source": [
    "# Naïve Models Specifications"
   ]
  },
  {
   "attachments": {},
   "cell_type": "markdown",
   "metadata": {},
   "source": [
    "## 1. Macros Only"
   ]
  },
  {
   "attachments": {},
   "cell_type": "markdown",
   "metadata": {},
   "source": [
    "We are only going to train the model with the lagged macroeconomic variables"
   ]
  },
  {
   "cell_type": "code",
   "execution_count": 11,
   "metadata": {},
   "outputs": [
    {
     "data": {
      "text/plain": [
       "['AZN',\n",
       " 'AZN_lag1',\n",
       " 'AZN_lag2',\n",
       " 'BMY',\n",
       " 'BMY_lag1',\n",
       " 'BMY_lag2',\n",
       " 'JNJ',\n",
       " 'JNJ_lag1',\n",
       " 'JNJ_lag2',\n",
       " 'LLY',\n",
       " 'LLY_lag1',\n",
       " 'LLY_lag2',\n",
       " 'MRK',\n",
       " 'MRK_lag1',\n",
       " 'MRK_lag2',\n",
       " 'NVO',\n",
       " 'NVO_lag1',\n",
       " 'NVO_lag2',\n",
       " 'NVS',\n",
       " 'NVS_lag1',\n",
       " 'NVS_lag2',\n",
       " 'PFE',\n",
       " 'PFE_lag1',\n",
       " 'PFE_lag2',\n",
       " 'ROG',\n",
       " 'ROG_lag1',\n",
       " 'ROG_lag2',\n",
       " 'unemployment_rate',\n",
       " 'CPI',\n",
       " 'treasury_yield',\n",
       " 'GDP_growth',\n",
       " 'SP500_return',\n",
       " 'inflation_change',\n",
       " 'unemp_change',\n",
       " 'treasury_yield_change',\n",
       " 'Date']"
      ]
     },
     "execution_count": 11,
     "metadata": {},
     "output_type": "execute_result"
    }
   ],
   "source": [
    "data_macro = data.copy()\n",
    "to_exclude = []\n",
    "\n",
    "for t in tickers:\n",
    "    to_exclude.append(t)\n",
    "    to_exclude.append(f'{t}_lag1')\n",
    "    to_exclude.append(f'{t}_lag2')\n",
    "\n",
    "for covariate in covs:\n",
    "    to_exclude.append(covariate)\n",
    "\n",
    "to_exclude.append('Date')\n",
    "\n",
    "to_exclude"
   ]
  },
  {
   "attachments": {},
   "cell_type": "markdown",
   "metadata": {},
   "source": [
    "### 1-step-ahead VaR: 1 month"
   ]
  },
  {
   "cell_type": "code",
   "execution_count": 12,
   "metadata": {},
   "outputs": [],
   "source": [
    "dates1m = ['2022-05-01','2022-06-01', '2022-07-01', '2022-08-01', '2022-09-01', '2022-10-01', '2022-11-01', '2022-12-01', '2023-01-01', '2023-02-01', '2023-03-01', '2023-04-01']"
   ]
  },
  {
   "cell_type": "code",
   "execution_count": 13,
   "metadata": {},
   "outputs": [
    {
     "name": "stderr",
     "output_type": "stream",
     "text": [
      "/Users/lluisarull/opt/anaconda3/lib/python3.8/site-packages/statsmodels/regression/quantile_regression.py:191: IterationLimitWarning: Maximum number of iterations (1000) reached.\n",
      "  warnings.warn(\"Maximum number of iterations (\" + str(max_iter) +\n"
     ]
    },
    {
     "name": "stdout",
     "output_type": "stream",
     "text": [
      "AZN-1m-loss: 0.5973984308307704 \n",
      "\n",
      "AZN-1m-VaR-forecast: [ -8.42148532  -4.7117599   -8.73083435 -10.29276875 -10.40801662\n",
      " -12.07501134  -0.88210064  -4.35815879 -14.94508848  -9.21300088\n",
      " -10.71829988 -10.77965598] \n",
      "\n",
      "BMY-1m-loss: 0.575476041176639 \n",
      "\n",
      "BMY-1m-VaR-forecast: [ -6.32739385 -10.08606125 -10.11298188 -17.98095261   0.50303324\n",
      " -10.30913906 -27.15542053 -13.15869627 -13.89185267 -11.12614839\n",
      " -14.05645782 -15.24167195] \n",
      "\n"
     ]
    },
    {
     "name": "stderr",
     "output_type": "stream",
     "text": [
      "/Users/lluisarull/opt/anaconda3/lib/python3.8/site-packages/statsmodels/regression/quantile_regression.py:191: IterationLimitWarning: Maximum number of iterations (1000) reached.\n",
      "  warnings.warn(\"Maximum number of iterations (\" + str(max_iter) +\n"
     ]
    },
    {
     "name": "stdout",
     "output_type": "stream",
     "text": [
      "JNJ-1m-loss: 0.5455903436256422 \n",
      "\n",
      "JNJ-1m-VaR-forecast: [ -4.10273981  -1.50701229  -5.01958536  -1.08544395  -9.15235362\n",
      " -10.03262881  -3.81811447  -7.45731708  -9.21308055  -9.4632912\n",
      " -13.60501796 -12.25406794] \n",
      "\n"
     ]
    },
    {
     "name": "stderr",
     "output_type": "stream",
     "text": [
      "/Users/lluisarull/opt/anaconda3/lib/python3.8/site-packages/statsmodels/regression/quantile_regression.py:191: IterationLimitWarning: Maximum number of iterations (1000) reached.\n",
      "  warnings.warn(\"Maximum number of iterations (\" + str(max_iter) +\n",
      "/Users/lluisarull/opt/anaconda3/lib/python3.8/site-packages/statsmodels/regression/quantile_regression.py:191: IterationLimitWarning: Maximum number of iterations (1000) reached.\n",
      "  warnings.warn(\"Maximum number of iterations (\" + str(max_iter) +\n"
     ]
    },
    {
     "name": "stdout",
     "output_type": "stream",
     "text": [
      "LLY-1m-loss: 1.6973569041256713 \n",
      "\n",
      "LLY-1m-VaR-forecast: [ -9.72316526 -10.89561498   3.55990219  -9.51998078 -17.05814377\n",
      "  -9.93714511  -3.81632016 -14.76379941 -12.12355412 -16.5474971\n",
      " -11.55791936 -14.31071573] \n",
      "\n"
     ]
    },
    {
     "name": "stderr",
     "output_type": "stream",
     "text": [
      "/Users/lluisarull/opt/anaconda3/lib/python3.8/site-packages/statsmodels/regression/quantile_regression.py:191: IterationLimitWarning: Maximum number of iterations (1000) reached.\n",
      "  warnings.warn(\"Maximum number of iterations (\" + str(max_iter) +\n",
      "/Users/lluisarull/opt/anaconda3/lib/python3.8/site-packages/statsmodels/regression/quantile_regression.py:191: IterationLimitWarning: Maximum number of iterations (1000) reached.\n",
      "  warnings.warn(\"Maximum number of iterations (\" + str(max_iter) +\n",
      "/Users/lluisarull/opt/anaconda3/lib/python3.8/site-packages/statsmodels/regression/quantile_regression.py:191: IterationLimitWarning: Maximum number of iterations (1000) reached.\n",
      "  warnings.warn(\"Maximum number of iterations (\" + str(max_iter) +\n"
     ]
    },
    {
     "name": "stdout",
     "output_type": "stream",
     "text": [
      "MRK-1m-loss: 0.8044542059407872 \n",
      "\n",
      "MRK-1m-VaR-forecast: [-12.61091981 -14.63560736 -12.35470924 -22.77105978  -7.24374042\n",
      " -10.0100394  -12.43103572 -15.04338458 -18.50502327 -11.61214082\n",
      " -12.91681971 -19.20325948] \n",
      "\n"
     ]
    },
    {
     "name": "stderr",
     "output_type": "stream",
     "text": [
      "/Users/lluisarull/opt/anaconda3/lib/python3.8/site-packages/statsmodels/regression/quantile_regression.py:191: IterationLimitWarning: Maximum number of iterations (1000) reached.\n",
      "  warnings.warn(\"Maximum number of iterations (\" + str(max_iter) +\n"
     ]
    },
    {
     "name": "stdout",
     "output_type": "stream",
     "text": [
      "NVO-1m-loss: 0.8365805401165188 \n",
      "\n",
      "NVO-1m-VaR-forecast: [-15.83820621 -15.80375255 -24.31753896 -17.65521848 -17.68289112\n",
      "  -7.24699642  -7.65213956 -18.46776265 -12.37465731 -11.17839092\n",
      "  -3.5084125   -6.9181366 ] \n",
      "\n",
      "NVS-1m-loss: 0.9885674254982467 \n",
      "\n",
      "NVS-1m-VaR-forecast: [ -1.17385893  -5.79711045  -5.65635331 -10.51611927 -14.25829584\n",
      "  -9.82736421  -3.71100228  -9.29193994  -8.02674891 -11.36021201\n",
      "  -8.85395918  -7.30150065] \n",
      "\n"
     ]
    },
    {
     "name": "stderr",
     "output_type": "stream",
     "text": [
      "/Users/lluisarull/opt/anaconda3/lib/python3.8/site-packages/statsmodels/regression/quantile_regression.py:191: IterationLimitWarning: Maximum number of iterations (1000) reached.\n",
      "  warnings.warn(\"Maximum number of iterations (\" + str(max_iter) +\n",
      "/Users/lluisarull/opt/anaconda3/lib/python3.8/site-packages/statsmodels/regression/quantile_regression.py:191: IterationLimitWarning: Maximum number of iterations (1000) reached.\n",
      "  warnings.warn(\"Maximum number of iterations (\" + str(max_iter) +\n"
     ]
    },
    {
     "name": "stdout",
     "output_type": "stream",
     "text": [
      "PFE-1m-loss: 1.5483088342923867 \n",
      "\n",
      "PFE-1m-VaR-forecast: [-13.24923352  -8.21720109  -0.65715548  -6.597352   -13.31371882\n",
      " -15.26685799  -6.74056392  -9.44136652 -17.66492282 -11.17945784\n",
      " -11.6885489  -15.34363344] \n",
      "\n"
     ]
    },
    {
     "name": "stderr",
     "output_type": "stream",
     "text": [
      "/Users/lluisarull/opt/anaconda3/lib/python3.8/site-packages/statsmodels/regression/quantile_regression.py:191: IterationLimitWarning: Maximum number of iterations (1000) reached.\n",
      "  warnings.warn(\"Maximum number of iterations (\" + str(max_iter) +\n",
      "/Users/lluisarull/opt/anaconda3/lib/python3.8/site-packages/statsmodels/regression/quantile_regression.py:191: IterationLimitWarning: Maximum number of iterations (1000) reached.\n",
      "  warnings.warn(\"Maximum number of iterations (\" + str(max_iter) +\n"
     ]
    },
    {
     "name": "stdout",
     "output_type": "stream",
     "text": [
      "ROG-1m-loss: 4.889701702297191 \n",
      "\n",
      "ROG-1m-VaR-forecast: [-11.68330142 -41.8838649  -19.14112647 -21.78093244 -16.30590638\n",
      "  -6.99553474 -36.8828301  -18.41611147 -16.53053263 -20.68271407\n",
      " -23.75015203 -32.15856596] \n",
      "\n"
     ]
    },
    {
     "name": "stderr",
     "output_type": "stream",
     "text": [
      "/Users/lluisarull/opt/anaconda3/lib/python3.8/site-packages/statsmodels/regression/quantile_regression.py:191: IterationLimitWarning: Maximum number of iterations (1000) reached.\n",
      "  warnings.warn(\"Maximum number of iterations (\" + str(max_iter) +\n"
     ]
    }
   ],
   "source": [
    "for t in tickers:\n",
    "    loss, var_forecast = rolling_forecast_QR(data, dates1m, t, alpha=0.05, columns_to_exclude= to_exclude, horizon=1)\n",
    "    print(f'{t}-1m-loss: {loss} \\n')\n",
    "    print(f'{t}-1m-VaR-forecast: {var_forecast} \\n')"
   ]
  },
  {
   "attachments": {},
   "cell_type": "markdown",
   "metadata": {},
   "source": [
    "- AZN-1m-loss: 0.5973984308307704\n",
    "- BMY-1m-loss: 0.575476041176639\n",
    "- JNJ-1m-loss: 0.5455903436256422 \n",
    "- LLY-1m-loss: 1.6973569041256713\n",
    "- MRK-1m-loss: 0.8044542059407872\n",
    "- NVO-1m-loss: 0.8365805401165188 \n",
    "- NVS-1m-loss: 0.9885674254982467\n",
    "- PFE-1m-loss: 1.5483088342\n",
    "- ROG-1m-loss: 4.889701702297191 "
   ]
  },
  {
   "attachments": {},
   "cell_type": "markdown",
   "metadata": {},
   "source": [
    "### 3-step-ahead VaR: 3 month"
   ]
  },
  {
   "cell_type": "code",
   "execution_count": 14,
   "metadata": {},
   "outputs": [],
   "source": [
    "dates3m = ['2022-05-01', '2022-06-01', '2022-07-01', '2022-08-01', '2022-09-01', '2022-10-01', '2022-11-01', '2022-12-01', '2023-01-01', '2023-02-01']"
   ]
  },
  {
   "cell_type": "code",
   "execution_count": 15,
   "metadata": {},
   "outputs": [
    {
     "name": "stderr",
     "output_type": "stream",
     "text": [
      "/Users/lluisarull/opt/anaconda3/lib/python3.8/site-packages/statsmodels/regression/quantile_regression.py:191: IterationLimitWarning: Maximum number of iterations (1000) reached.\n",
      "  warnings.warn(\"Maximum number of iterations (\" + str(max_iter) +\n"
     ]
    },
    {
     "name": "stdout",
     "output_type": "stream",
     "text": [
      "AZN-3m-loss: 0.6558712384913222 \n",
      "\n",
      "AZN-3m-VaR-forecast: [ -8.72119684 -10.29276934 -10.23471045 -12.0485803   -0.88210546\n",
      "  -4.3960085  -15.45365667  -9.27960177 -10.78996759 -10.86165687] \n",
      "\n",
      "BMY-3m-loss: 0.6245673839696252 \n",
      "\n",
      "BMY-3m-VaR-forecast: [-10.03766047 -19.0498058    0.5045923   -9.32897444 -26.03678694\n",
      " -13.15870975 -15.06373016 -12.4478426  -14.18965913 -15.47249668] \n",
      "\n"
     ]
    },
    {
     "name": "stderr",
     "output_type": "stream",
     "text": [
      "/Users/lluisarull/opt/anaconda3/lib/python3.8/site-packages/statsmodels/regression/quantile_regression.py:191: IterationLimitWarning: Maximum number of iterations (1000) reached.\n",
      "  warnings.warn(\"Maximum number of iterations (\" + str(max_iter) +\n"
     ]
    },
    {
     "name": "stdout",
     "output_type": "stream",
     "text": [
      "JNJ-3m-loss: 0.6193128828724277 \n",
      "\n",
      "JNJ-3m-VaR-forecast: [ -5.051173    -0.45140973  -9.46584755 -10.1800587   -3.92214042\n",
      "  -7.45732275  -9.21994637  -9.4056649  -13.68997191 -12.79339859] \n",
      "\n"
     ]
    },
    {
     "name": "stderr",
     "output_type": "stream",
     "text": [
      "/Users/lluisarull/opt/anaconda3/lib/python3.8/site-packages/statsmodels/regression/quantile_regression.py:191: IterationLimitWarning: Maximum number of iterations (1000) reached.\n",
      "  warnings.warn(\"Maximum number of iterations (\" + str(max_iter) +\n",
      "/Users/lluisarull/opt/anaconda3/lib/python3.8/site-packages/statsmodels/regression/quantile_regression.py:191: IterationLimitWarning: Maximum number of iterations (1000) reached.\n",
      "  warnings.warn(\"Maximum number of iterations (\" + str(max_iter) +\n"
     ]
    },
    {
     "name": "stdout",
     "output_type": "stream",
     "text": [
      "LLY-3m-loss: 1.7019854680981807 \n",
      "\n",
      "LLY-3m-VaR-forecast: [  1.4783368   -9.18612136 -16.27838195  -9.83958311  -3.86366391\n",
      " -14.99617926 -11.64082227 -16.54749317 -11.55792067 -14.39987906] \n",
      "\n"
     ]
    },
    {
     "name": "stderr",
     "output_type": "stream",
     "text": [
      "/Users/lluisarull/opt/anaconda3/lib/python3.8/site-packages/statsmodels/regression/quantile_regression.py:191: IterationLimitWarning: Maximum number of iterations (1000) reached.\n",
      "  warnings.warn(\"Maximum number of iterations (\" + str(max_iter) +\n",
      "/Users/lluisarull/opt/anaconda3/lib/python3.8/site-packages/statsmodels/regression/quantile_regression.py:191: IterationLimitWarning: Maximum number of iterations (1000) reached.\n",
      "  warnings.warn(\"Maximum number of iterations (\" + str(max_iter) +\n",
      "/Users/lluisarull/opt/anaconda3/lib/python3.8/site-packages/statsmodels/regression/quantile_regression.py:191: IterationLimitWarning: Maximum number of iterations (1000) reached.\n",
      "  warnings.warn(\"Maximum number of iterations (\" + str(max_iter) +\n"
     ]
    },
    {
     "name": "stdout",
     "output_type": "stream",
     "text": [
      "MRK-3m-loss: 0.8076374513027862 \n",
      "\n",
      "MRK-3m-VaR-forecast: [-10.28937089 -20.74914834  -7.24372807  -9.1403012  -14.05385359\n",
      " -12.68524843 -18.06186823 -11.61089714 -12.91787409 -18.90418534] \n",
      "\n"
     ]
    },
    {
     "name": "stderr",
     "output_type": "stream",
     "text": [
      "/Users/lluisarull/opt/anaconda3/lib/python3.8/site-packages/statsmodels/regression/quantile_regression.py:191: IterationLimitWarning: Maximum number of iterations (1000) reached.\n",
      "  warnings.warn(\"Maximum number of iterations (\" + str(max_iter) +\n"
     ]
    },
    {
     "name": "stdout",
     "output_type": "stream",
     "text": [
      "NVO-3m-loss: 0.8295255641718853 \n",
      "\n",
      "NVO-3m-VaR-forecast: [-24.49281326 -17.14410667 -17.02476794  -7.18746458  -8.75942712\n",
      " -17.36123673 -12.23350422 -11.97952721  -5.12735987  -7.54771294] \n",
      "\n",
      "NVS-3m-loss: 0.5515096324077937 \n",
      "\n",
      "NVS-3m-VaR-forecast: [ -7.59904316 -10.69348379 -14.44649901  -9.82735936  -3.71100889\n",
      "  -9.29177406  -8.02674977 -11.36014264  -8.96639402  -7.48800257] \n",
      "\n"
     ]
    },
    {
     "name": "stderr",
     "output_type": "stream",
     "text": [
      "/Users/lluisarull/opt/anaconda3/lib/python3.8/site-packages/statsmodels/regression/quantile_regression.py:191: IterationLimitWarning: Maximum number of iterations (1000) reached.\n",
      "  warnings.warn(\"Maximum number of iterations (\" + str(max_iter) +\n",
      "/Users/lluisarull/opt/anaconda3/lib/python3.8/site-packages/statsmodels/regression/quantile_regression.py:191: IterationLimitWarning: Maximum number of iterations (1000) reached.\n",
      "  warnings.warn(\"Maximum number of iterations (\" + str(max_iter) +\n"
     ]
    },
    {
     "name": "stdout",
     "output_type": "stream",
     "text": [
      "PFE-3m-loss: 1.8158332343375925 \n",
      "\n",
      "PFE-3m-VaR-forecast: [ -0.65617648 -14.04799868 -13.39868611 -16.39951912  -7.00050793\n",
      "  -9.59805536 -20.89187025 -10.95062498 -11.68853602 -15.40877533] \n",
      "\n"
     ]
    },
    {
     "name": "stderr",
     "output_type": "stream",
     "text": [
      "/Users/lluisarull/opt/anaconda3/lib/python3.8/site-packages/statsmodels/regression/quantile_regression.py:191: IterationLimitWarning: Maximum number of iterations (1000) reached.\n",
      "  warnings.warn(\"Maximum number of iterations (\" + str(max_iter) +\n",
      "/Users/lluisarull/opt/anaconda3/lib/python3.8/site-packages/statsmodels/regression/quantile_regression.py:191: IterationLimitWarning: Maximum number of iterations (1000) reached.\n",
      "  warnings.warn(\"Maximum number of iterations (\" + str(max_iter) +\n"
     ]
    },
    {
     "name": "stdout",
     "output_type": "stream",
     "text": [
      "ROG-3m-loss: 5.773933181625251 \n",
      "\n",
      "ROG-3m-VaR-forecast: [-18.44401297 -14.33725342 -15.5146311   -4.37871854 -30.14298626\n",
      " -21.0347158  -16.56134413 -20.8277197  -23.66241338 -31.72183356] \n",
      "\n"
     ]
    },
    {
     "name": "stderr",
     "output_type": "stream",
     "text": [
      "/Users/lluisarull/opt/anaconda3/lib/python3.8/site-packages/statsmodels/regression/quantile_regression.py:191: IterationLimitWarning: Maximum number of iterations (1000) reached.\n",
      "  warnings.warn(\"Maximum number of iterations (\" + str(max_iter) +\n"
     ]
    }
   ],
   "source": [
    "for t in tickers:\n",
    "    loss, var_forecast = rolling_forecast_QR(data, dates3m, t, alpha=0.05, columns_to_exclude= to_exclude, horizon=3)\n",
    "    print(f'{t}-3m-loss: {loss} \\n')\n",
    "    print(f'{t}-3m-VaR-forecast: {var_forecast} \\n')"
   ]
  },
  {
   "attachments": {},
   "cell_type": "markdown",
   "metadata": {},
   "source": [
    "- AZN-3m-loss: 0.6558712384913222 \n",
    "- BMY-3m-loss: 0.6245673839696252 \n",
    "- JNJ-3m-loss: 0.6193128828724277\n",
    "- LLY-3m-loss: 1.7019854680981807  \n",
    "- MRK-3m-loss: 0.8076374513027862 \n",
    "- NVO-3m-loss: 0.8295255641718853 \n",
    "- NVS-3m-loss: 0.5515096324077937 \n",
    "- PFE-3m-loss: 1.8158332343375925 \n",
    "- ROG-3m-loss: 5.773933181625251 "
   ]
  },
  {
   "attachments": {},
   "cell_type": "markdown",
   "metadata": {},
   "source": [
    "### 6-steap-ahead VaR: 6 months"
   ]
  },
  {
   "cell_type": "code",
   "execution_count": 16,
   "metadata": {},
   "outputs": [],
   "source": [
    "dates6m = ['2022-05-01', '2022-06-01', '2022-07-01', '2022-08-01', '2022-09-01', '2022-10-01', '2022-11-01']"
   ]
  },
  {
   "cell_type": "code",
   "execution_count": 17,
   "metadata": {},
   "outputs": [
    {
     "name": "stdout",
     "output_type": "stream",
     "text": [
      "AZN-6m-loss: 0.6528273818943031 \n",
      "\n",
      "AZN-6m-VaR-forecast: [-12.14925975  -0.36909286  -3.34354967 -14.81829204  -9.29345746\n",
      " -10.96601935 -10.86158297] \n",
      "\n",
      "BMY-6m-loss: 0.6850064355040465 \n",
      "\n",
      "BMY-6m-VaR-forecast: [ -8.98235004 -27.85599974 -14.0499484  -15.06370721 -12.44784844\n",
      " -14.86609858 -17.80242843] \n",
      "\n",
      "JNJ-6m-loss: 0.3978593727362109 \n",
      "\n",
      "JNJ-6m-VaR-forecast: [ -8.67691582  -2.86731133  -7.42978155  -8.84923086  -9.58231945\n",
      " -13.65929963 -12.75358491] \n",
      "\n"
     ]
    },
    {
     "name": "stderr",
     "output_type": "stream",
     "text": [
      "/Users/lluisarull/opt/anaconda3/lib/python3.8/site-packages/statsmodels/regression/quantile_regression.py:191: IterationLimitWarning: Maximum number of iterations (1000) reached.\n",
      "  warnings.warn(\"Maximum number of iterations (\" + str(max_iter) +\n",
      "/Users/lluisarull/opt/anaconda3/lib/python3.8/site-packages/statsmodels/regression/quantile_regression.py:191: IterationLimitWarning: Maximum number of iterations (1000) reached.\n",
      "  warnings.warn(\"Maximum number of iterations (\" + str(max_iter) +\n"
     ]
    },
    {
     "name": "stdout",
     "output_type": "stream",
     "text": [
      "LLY-6m-loss: 0.7931910762586328 \n",
      "\n",
      "LLY-6m-VaR-forecast: [ -6.0059175   -0.5305359  -16.51193239 -11.64083651 -17.71936595\n",
      " -11.28807679 -14.90980049] \n",
      "\n"
     ]
    },
    {
     "name": "stderr",
     "output_type": "stream",
     "text": [
      "/Users/lluisarull/opt/anaconda3/lib/python3.8/site-packages/statsmodels/regression/quantile_regression.py:191: IterationLimitWarning: Maximum number of iterations (1000) reached.\n",
      "  warnings.warn(\"Maximum number of iterations (\" + str(max_iter) +\n"
     ]
    },
    {
     "name": "stdout",
     "output_type": "stream",
     "text": [
      "MRK-6m-loss: 0.8015591342854774 \n",
      "\n",
      "MRK-6m-VaR-forecast: [ -9.14040679 -14.05383327 -12.68524332 -18.91049929 -13.64527944\n",
      " -13.90047169 -18.90477262] \n",
      "\n"
     ]
    },
    {
     "name": "stderr",
     "output_type": "stream",
     "text": [
      "/Users/lluisarull/opt/anaconda3/lib/python3.8/site-packages/statsmodels/regression/quantile_regression.py:191: IterationLimitWarning: Maximum number of iterations (1000) reached.\n",
      "  warnings.warn(\"Maximum number of iterations (\" + str(max_iter) +\n"
     ]
    },
    {
     "name": "stdout",
     "output_type": "stream",
     "text": [
      "NVO-6m-loss: 0.8988064189348007 \n",
      "\n",
      "NVO-6m-VaR-forecast: [ -9.39063129 -10.52509995 -18.52195358 -13.3586004  -13.56893124\n",
      " -10.12555563  -8.36614307] \n",
      "\n",
      "NVS-6m-loss: 0.5635828681578909 \n",
      "\n",
      "NVS-6m-VaR-forecast: [ -5.75078453  -3.43381957  -9.93235083  -8.02675412 -11.36021256\n",
      "  -8.96639554  -7.48802523] \n",
      "\n"
     ]
    },
    {
     "name": "stderr",
     "output_type": "stream",
     "text": [
      "/Users/lluisarull/opt/anaconda3/lib/python3.8/site-packages/statsmodels/regression/quantile_regression.py:191: IterationLimitWarning: Maximum number of iterations (1000) reached.\n",
      "  warnings.warn(\"Maximum number of iterations (\" + str(max_iter) +\n"
     ]
    },
    {
     "name": "stdout",
     "output_type": "stream",
     "text": [
      "PFE-6m-loss: 0.725394820095324 \n",
      "\n",
      "PFE-6m-VaR-forecast: [ -8.92786397  -5.48135596 -12.34505161 -21.11246763 -11.24002033\n",
      " -13.01609104 -16.66076959] \n",
      "\n"
     ]
    },
    {
     "name": "stderr",
     "output_type": "stream",
     "text": [
      "/Users/lluisarull/opt/anaconda3/lib/python3.8/site-packages/statsmodels/regression/quantile_regression.py:191: IterationLimitWarning: Maximum number of iterations (1000) reached.\n",
      "  warnings.warn(\"Maximum number of iterations (\" + str(max_iter) +\n",
      "/Users/lluisarull/opt/anaconda3/lib/python3.8/site-packages/statsmodels/regression/quantile_regression.py:191: IterationLimitWarning: Maximum number of iterations (1000) reached.\n",
      "  warnings.warn(\"Maximum number of iterations (\" + str(max_iter) +\n"
     ]
    },
    {
     "name": "stdout",
     "output_type": "stream",
     "text": [
      "ROG-6m-loss: 6.429821679764937 \n",
      "\n",
      "ROG-6m-VaR-forecast: [-15.1593173  -30.86377096 -21.45965092  -6.62286436 -24.3143873\n",
      " -16.52782388 -29.56504793] \n",
      "\n"
     ]
    }
   ],
   "source": [
    "for t in tickers:\n",
    "    loss, var_forecast = rolling_forecast_QR(data, dates6m, t, alpha=0.05, columns_to_exclude= to_exclude, horizon=6)\n",
    "    print(f'{t}-6m-loss: {loss} \\n')\n",
    "    print(f'{t}-6m-VaR-forecast: {var_forecast} \\n')"
   ]
  },
  {
   "attachments": {},
   "cell_type": "markdown",
   "metadata": {},
   "source": [
    "- AZN-6m-loss: 0.6528273818943031 \n",
    "- BMY-6m-loss: 0.6850064355040465 \n",
    "- JNJ-6m-loss: 0.3978593727362109 \n",
    "- LLY-6m-loss: 0.7931910762586328\n",
    "- MRK-6m-loss: 0.8015591342854774 \n",
    "- NVO-6m-loss: 0.8988064189348007 \n",
    "- NVS-6m-loss: 0.5635828681578909 \n",
    "- PFE-6m-loss: 0.725394820095324 \n",
    "- ROG-6m-loss: 6.429821679764937 "
   ]
  },
  {
   "attachments": {},
   "cell_type": "markdown",
   "metadata": {},
   "source": [
    "### 9-step-ahead VaR: 9 month"
   ]
  },
  {
   "cell_type": "code",
   "execution_count": 18,
   "metadata": {},
   "outputs": [],
   "source": [
    "dates9m = ['2022-05-01', '2022-06-01', '2022-07-01', '2022-08-01']"
   ]
  },
  {
   "cell_type": "code",
   "execution_count": 19,
   "metadata": {},
   "outputs": [
    {
     "name": "stdout",
     "output_type": "stream",
     "text": [
      "AZN-9m-loss: 0.7397345430072204 \n",
      "\n",
      "AZN-9m-VaR-forecast: [-14.78150875  -9.54888288 -11.04618244 -10.75959376] \n",
      "\n",
      "BMY-9m-loss: 0.6391510833192557 \n",
      "\n",
      "BMY-9m-VaR-forecast: [-15.31386633 -13.12365485 -15.0727407  -17.80239794] \n",
      "\n",
      "JNJ-9m-loss: 0.5043637860054009 \n",
      "\n",
      "JNJ-9m-VaR-forecast: [ -8.98417368  -9.538356   -13.21639928 -12.62959423] \n",
      "\n"
     ]
    },
    {
     "name": "stderr",
     "output_type": "stream",
     "text": [
      "/Users/lluisarull/opt/anaconda3/lib/python3.8/site-packages/statsmodels/regression/quantile_regression.py:191: IterationLimitWarning: Maximum number of iterations (1000) reached.\n",
      "  warnings.warn(\"Maximum number of iterations (\" + str(max_iter) +\n"
     ]
    },
    {
     "name": "stdout",
     "output_type": "stream",
     "text": [
      "LLY-9m-loss: 1.0230690112149592 \n",
      "\n",
      "LLY-9m-VaR-forecast: [-13.98769522 -14.39134296 -13.66404456 -14.90978064] \n",
      "\n"
     ]
    },
    {
     "name": "stderr",
     "output_type": "stream",
     "text": [
      "/Users/lluisarull/opt/anaconda3/lib/python3.8/site-packages/statsmodels/regression/quantile_regression.py:191: IterationLimitWarning: Maximum number of iterations (1000) reached.\n",
      "  warnings.warn(\"Maximum number of iterations (\" + str(max_iter) +\n"
     ]
    },
    {
     "name": "stdout",
     "output_type": "stream",
     "text": [
      "MRK-9m-loss: 0.8618936602469718 \n",
      "\n",
      "MRK-9m-VaR-forecast: [-18.91052612 -13.64525356 -13.90046522 -18.53622121] \n",
      "\n",
      "NVO-9m-loss: 0.8072643165031784 \n",
      "\n",
      "NVO-9m-VaR-forecast: [-14.32630077 -15.06558568 -10.78482138  -8.06976338] \n",
      "\n",
      "NVS-9m-loss: 0.5979695572185233 \n",
      "\n",
      "NVS-9m-VaR-forecast: [ -7.87174883 -11.29422761  -8.81604225  -7.48801543] \n",
      "\n"
     ]
    },
    {
     "name": "stderr",
     "output_type": "stream",
     "text": [
      "/Users/lluisarull/opt/anaconda3/lib/python3.8/site-packages/statsmodels/regression/quantile_regression.py:191: IterationLimitWarning: Maximum number of iterations (1000) reached.\n",
      "  warnings.warn(\"Maximum number of iterations (\" + str(max_iter) +\n"
     ]
    },
    {
     "name": "stdout",
     "output_type": "stream",
     "text": [
      "PFE-9m-loss: 0.5506122686499644 \n",
      "\n",
      "PFE-9m-VaR-forecast: [-18.30801982  -9.88211087 -11.96740027 -17.52909263] \n",
      "\n"
     ]
    },
    {
     "name": "stderr",
     "output_type": "stream",
     "text": [
      "/Users/lluisarull/opt/anaconda3/lib/python3.8/site-packages/statsmodels/regression/quantile_regression.py:191: IterationLimitWarning: Maximum number of iterations (1000) reached.\n",
      "  warnings.warn(\"Maximum number of iterations (\" + str(max_iter) +\n"
     ]
    },
    {
     "name": "stdout",
     "output_type": "stream",
     "text": [
      "ROG-9m-loss: 1.161796284334185 \n",
      "\n",
      "ROG-9m-VaR-forecast: [-19.73177042 -22.50836628 -18.70140862 -19.20429064] \n",
      "\n"
     ]
    },
    {
     "name": "stderr",
     "output_type": "stream",
     "text": [
      "/Users/lluisarull/opt/anaconda3/lib/python3.8/site-packages/statsmodels/regression/quantile_regression.py:191: IterationLimitWarning: Maximum number of iterations (1000) reached.\n",
      "  warnings.warn(\"Maximum number of iterations (\" + str(max_iter) +\n"
     ]
    }
   ],
   "source": [
    "for t in tickers:\n",
    "    loss, var_forecast = rolling_forecast_QR(data, dates9m, t, alpha=0.05, columns_to_exclude= to_exclude, horizon=9)\n",
    "    print(f'{t}-9m-loss: {loss} \\n')\n",
    "    print(f'{t}-9m-VaR-forecast: {var_forecast} \\n')"
   ]
  },
  {
   "attachments": {},
   "cell_type": "markdown",
   "metadata": {},
   "source": [
    "- AZN-9m-loss: 0.7397345430072204 \n",
    "- BMY-9m-loss: 0.6391510833192557\n",
    "- JNJ-9m-loss: 0.5043637860054009 \n",
    "- LLY-9m-loss: 1.0230690112149592 \n",
    "- MRK-9m-loss: 0.8618936602469718 \n",
    "- NVO-9m-loss: 0.8072643165031784 \n",
    "- NVS-9m-loss: 0.5979695572185233 \n",
    "- PFE-9m-loss: 0.5506122686499644 \n",
    "- ROG-9m-loss: 1.161796284334185 "
   ]
  },
  {
   "attachments": {},
   "cell_type": "markdown",
   "metadata": {},
   "source": [
    "### 12-step-ahead VaR: 12 months"
   ]
  },
  {
   "cell_type": "code",
   "execution_count": 20,
   "metadata": {},
   "outputs": [],
   "source": [
    "dates12m = ['2022-05-01']"
   ]
  },
  {
   "cell_type": "code",
   "execution_count": 21,
   "metadata": {},
   "outputs": [
    {
     "name": "stdout",
     "output_type": "stream",
     "text": [
      "AZN-12m-loss: 0.5242707428426207 \n",
      "\n",
      "AZN-12m-VaR-forecast: [-10.67661861] \n",
      "\n",
      "BMY-12m-loss: 0.7886645503301303 \n",
      "\n",
      "BMY-12m-VaR-forecast: [-18.46848488] \n",
      "\n",
      "JNJ-12m-loss: 0.3655078482444087 \n",
      "\n",
      "JNJ-12m-VaR-forecast: [-12.58810601] \n",
      "\n",
      "LLY-12m-loss: 1.252130718799116 \n",
      "\n",
      "LLY-12m-VaR-forecast: [-16.5547594] \n",
      "\n",
      "MRK-12m-loss: 0.7077045872531031 \n",
      "\n",
      "MRK-12m-VaR-forecast: [-18.53618017] \n",
      "\n",
      "NVO-12m-loss: 0.1207232473382402 \n",
      "\n",
      "NVO-12m-VaR-forecast: [-6.3823803] \n",
      "\n",
      "NVS-12m-loss: 0.006291455470021701 \n",
      "\n",
      "NVS-12m-VaR-forecast: [-6.28747454] \n",
      "\n",
      "PFE-12m-loss: 0.8541371023298567 \n",
      "\n",
      "PFE-12m-VaR-forecast: [-19.31982235] \n",
      "\n",
      "ROG-12m-loss: 1.169527555864101 \n",
      "\n",
      "ROG-12m-VaR-forecast: [-25.55271067] \n",
      "\n"
     ]
    }
   ],
   "source": [
    "for t in tickers:\n",
    "    loss, var_forecast = rolling_forecast_QR(data, dates12m, t, alpha=0.05, columns_to_exclude= to_exclude, horizon=12)\n",
    "    print(f'{t}-12m-loss: {loss} \\n')\n",
    "    print(f'{t}-12m-VaR-forecast: {var_forecast} \\n')"
   ]
  },
  {
   "attachments": {},
   "cell_type": "markdown",
   "metadata": {},
   "source": [
    "- AZN-12m-loss: 0.5242707428426207 \n",
    "- BMY-12m-loss: 0.7886645503301303 \n",
    "- JNJ-12m-loss: 0.3655078482444087 \n",
    "- LLY-12m-loss: 1.252130718799116 \n",
    "- MRK-12m-loss: 0.7077045872531031 \n",
    "- NVO-12m-loss: 0.1207232473382402 \n",
    "- NVS-12m-loss: 0.006291455470021701\n",
    "- PFE-12m-loss: 0.8541371023298567 \n",
    "- ROG-12m-loss: 1.169527555864101  "
   ]
  },
  {
   "attachments": {},
   "cell_type": "markdown",
   "metadata": {},
   "source": [
    "# 2. Ticker data"
   ]
  },
  {
   "cell_type": "code",
   "execution_count": 22,
   "metadata": {},
   "outputs": [
    {
     "data": {
      "text/plain": [
       "['unemployment_rate',\n",
       " 'unemployment_rate_lag1',\n",
       " 'unemployment_rate_lag2',\n",
       " 'unemployment_rate_lag3',\n",
       " 'CPI',\n",
       " 'CPI_lag1',\n",
       " 'CPI_lag2',\n",
       " 'CPI_lag3',\n",
       " 'treasury_yield',\n",
       " 'treasury_yield_lag1',\n",
       " 'treasury_yield_lag2',\n",
       " 'treasury_yield_lag3',\n",
       " 'GDP_growth',\n",
       " 'GDP_growth_lag1',\n",
       " 'GDP_growth_lag2',\n",
       " 'GDP_growth_lag3',\n",
       " 'SP500_return',\n",
       " 'SP500_return_lag1',\n",
       " 'SP500_return_lag2',\n",
       " 'SP500_return_lag3',\n",
       " 'inflation_change',\n",
       " 'inflation_change_lag1',\n",
       " 'inflation_change_lag2',\n",
       " 'inflation_change_lag3',\n",
       " 'unemp_change',\n",
       " 'unemp_change_lag1',\n",
       " 'unemp_change_lag2',\n",
       " 'unemp_change_lag3',\n",
       " 'treasury_yield_change',\n",
       " 'treasury_yield_change_lag1',\n",
       " 'treasury_yield_change_lag2',\n",
       " 'treasury_yield_change_lag3',\n",
       " 'AZN',\n",
       " 'BMY',\n",
       " 'JNJ',\n",
       " 'LLY',\n",
       " 'MRK',\n",
       " 'NVO',\n",
       " 'NVS',\n",
       " 'PFE',\n",
       " 'ROG',\n",
       " 'Date']"
      ]
     },
     "execution_count": 22,
     "metadata": {},
     "output_type": "execute_result"
    }
   ],
   "source": [
    "data_stocks = data.copy()\n",
    "to_exclude2 = []\n",
    "\n",
    "for covariate in covs:\n",
    "    to_exclude2.append(covariate)\n",
    "    to_exclude2.append(f'{covariate}_lag1')\n",
    "    to_exclude2.append(f'{covariate}_lag2')\n",
    "    to_exclude2.append(f'{covariate}_lag3')\n",
    "\n",
    "for t in tickers:\n",
    "    to_exclude2.append(t)\n",
    "\n",
    "to_exclude2.append('Date')\n",
    "to_exclude2"
   ]
  },
  {
   "attachments": {},
   "cell_type": "markdown",
   "metadata": {},
   "source": [
    "### 1-step-ahead VaR: 1 month"
   ]
  },
  {
   "cell_type": "code",
   "execution_count": 23,
   "metadata": {},
   "outputs": [
    {
     "name": "stderr",
     "output_type": "stream",
     "text": [
      "/Users/lluisarull/opt/anaconda3/lib/python3.8/site-packages/statsmodels/regression/quantile_regression.py:191: IterationLimitWarning: Maximum number of iterations (1000) reached.\n",
      "  warnings.warn(\"Maximum number of iterations (\" + str(max_iter) +\n",
      "/Users/lluisarull/opt/anaconda3/lib/python3.8/site-packages/statsmodels/regression/quantile_regression.py:191: IterationLimitWarning: Maximum number of iterations (1000) reached.\n",
      "  warnings.warn(\"Maximum number of iterations (\" + str(max_iter) +\n"
     ]
    },
    {
     "name": "stdout",
     "output_type": "stream",
     "text": [
      "AZN-1m-loss: 0.9246658669637693 \n",
      "\n",
      "AZN-1m-VaR-forecast: [ -9.36771076  -8.13137597  -2.62882678  -9.59354468  -1.72839603\n",
      "  -5.33447889 -17.55886985 -20.07621851  -2.30508953  -8.09234079\n",
      "  -9.79748238 -11.79650003] \n",
      "\n",
      "BMY-1m-loss: 1.8087503597175576 \n",
      "\n",
      "BMY-1m-VaR-forecast: [-13.82705149 -13.47864121  -2.25699303  -8.89940481  -6.34795734\n",
      "  -9.13750069 -27.16562517 -18.5975089    5.13173218  -9.56104948\n",
      " -15.84115568  -8.21397313] \n",
      "\n"
     ]
    },
    {
     "name": "stderr",
     "output_type": "stream",
     "text": [
      "/Users/lluisarull/opt/anaconda3/lib/python3.8/site-packages/statsmodels/regression/quantile_regression.py:191: IterationLimitWarning: Maximum number of iterations (1000) reached.\n",
      "  warnings.warn(\"Maximum number of iterations (\" + str(max_iter) +\n",
      "/Users/lluisarull/opt/anaconda3/lib/python3.8/site-packages/statsmodels/regression/quantile_regression.py:191: IterationLimitWarning: Maximum number of iterations (1000) reached.\n",
      "  warnings.warn(\"Maximum number of iterations (\" + str(max_iter) +\n",
      "/Users/lluisarull/opt/anaconda3/lib/python3.8/site-packages/statsmodels/regression/quantile_regression.py:191: IterationLimitWarning: Maximum number of iterations (1000) reached.\n",
      "  warnings.warn(\"Maximum number of iterations (\" + str(max_iter) +\n"
     ]
    },
    {
     "name": "stdout",
     "output_type": "stream",
     "text": [
      "JNJ-1m-loss: 1.4361016556024417 \n",
      "\n",
      "JNJ-1m-VaR-forecast: [ -6.15649329  -7.81781753  -0.07232725  -4.33346428  -2.70630701\n",
      "  -4.49657262 -14.93481871 -11.78481826   0.84192782  -0.29090706\n",
      "  -4.72426797  -8.02053309] \n",
      "\n"
     ]
    },
    {
     "name": "stderr",
     "output_type": "stream",
     "text": [
      "/Users/lluisarull/opt/anaconda3/lib/python3.8/site-packages/statsmodels/regression/quantile_regression.py:191: IterationLimitWarning: Maximum number of iterations (1000) reached.\n",
      "  warnings.warn(\"Maximum number of iterations (\" + str(max_iter) +\n"
     ]
    },
    {
     "name": "stdout",
     "output_type": "stream",
     "text": [
      "LLY-1m-loss: 1.8842964009116303 \n",
      "\n",
      "LLY-1m-VaR-forecast: [ -6.14072326  -9.61406632  -0.71319375  -7.99808656  -4.22119513\n",
      "  -2.8523984  -12.18582854  -8.8378503   -0.33977203  -3.33301764\n",
      "  -6.87244235  -9.33817259] \n",
      "\n"
     ]
    },
    {
     "name": "stderr",
     "output_type": "stream",
     "text": [
      "/Users/lluisarull/opt/anaconda3/lib/python3.8/site-packages/statsmodels/regression/quantile_regression.py:191: IterationLimitWarning: Maximum number of iterations (1000) reached.\n",
      "  warnings.warn(\"Maximum number of iterations (\" + str(max_iter) +\n"
     ]
    },
    {
     "name": "stdout",
     "output_type": "stream",
     "text": [
      "MRK-1m-loss: 0.9004028112929506 \n",
      "\n",
      "MRK-1m-VaR-forecast: [ -7.32187049 -11.64091425  -1.81312622 -12.38869863  -3.492677\n",
      "  -5.798102   -19.64253357 -20.01244708   0.31740521  -8.52365592\n",
      " -10.6181439  -10.46165602] \n",
      "\n"
     ]
    },
    {
     "name": "stderr",
     "output_type": "stream",
     "text": [
      "/Users/lluisarull/opt/anaconda3/lib/python3.8/site-packages/statsmodels/regression/quantile_regression.py:191: IterationLimitWarning: Maximum number of iterations (1000) reached.\n",
      "  warnings.warn(\"Maximum number of iterations (\" + str(max_iter) +\n",
      "/Users/lluisarull/opt/anaconda3/lib/python3.8/site-packages/statsmodels/regression/quantile_regression.py:191: IterationLimitWarning: Maximum number of iterations (1000) reached.\n",
      "  warnings.warn(\"Maximum number of iterations (\" + str(max_iter) +\n",
      "/Users/lluisarull/opt/anaconda3/lib/python3.8/site-packages/statsmodels/regression/quantile_regression.py:191: IterationLimitWarning: Maximum number of iterations (1000) reached.\n",
      "  warnings.warn(\"Maximum number of iterations (\" + str(max_iter) +\n"
     ]
    },
    {
     "name": "stdout",
     "output_type": "stream",
     "text": [
      "NVO-1m-loss: 1.377840118704824 \n",
      "\n",
      "NVO-1m-VaR-forecast: [ -8.20196364 -12.41155919  -0.09273882  -9.0359561   -3.89089468\n",
      "  -4.23598953 -20.74529059 -19.09984813   2.30348934  -9.1813527\n",
      " -11.11360099  -8.83932217] \n",
      "\n"
     ]
    },
    {
     "name": "stderr",
     "output_type": "stream",
     "text": [
      "/Users/lluisarull/opt/anaconda3/lib/python3.8/site-packages/statsmodels/regression/quantile_regression.py:191: IterationLimitWarning: Maximum number of iterations (1000) reached.\n",
      "  warnings.warn(\"Maximum number of iterations (\" + str(max_iter) +\n"
     ]
    },
    {
     "name": "stdout",
     "output_type": "stream",
     "text": [
      "NVS-1m-loss: 1.791568422036246 \n",
      "\n",
      "NVS-1m-VaR-forecast: [ -5.78553099 -11.63144006  -1.73271593  -7.9543678   -3.1623979\n",
      "  -6.09390647 -17.7371067  -20.98813932   3.32509782  -5.01667869\n",
      "  -4.84942     -5.92433106] \n",
      "\n",
      "PFE-1m-loss: 1.3525566069687258 \n",
      "\n",
      "PFE-1m-VaR-forecast: [ -2.59299749 -11.40880616  -4.79890379 -12.26902203  -1.55699875\n",
      "  -2.91433986 -14.63434576 -11.79033581  -1.06547875  -9.03582999\n",
      " -10.30013641  -5.41391124] \n",
      "\n"
     ]
    },
    {
     "name": "stderr",
     "output_type": "stream",
     "text": [
      "/Users/lluisarull/opt/anaconda3/lib/python3.8/site-packages/statsmodels/regression/quantile_regression.py:191: IterationLimitWarning: Maximum number of iterations (1000) reached.\n",
      "  warnings.warn(\"Maximum number of iterations (\" + str(max_iter) +\n"
     ]
    },
    {
     "name": "stdout",
     "output_type": "stream",
     "text": [
      "ROG-1m-loss: 5.831112464847229 \n",
      "\n",
      "ROG-1m-VaR-forecast: [-18.52425012 -20.56218378   0.50279445 -21.71270189  -5.49670467\n",
      "   1.58608746 -34.32139633 -39.97136489   4.11646439 -17.58537641\n",
      " -12.87910199  -6.4869154 ] \n",
      "\n"
     ]
    }
   ],
   "source": [
    "for t in tickers:\n",
    "    loss, var_forecast = rolling_forecast_QR(data, dates1m, t, alpha=0.05, columns_to_exclude= to_exclude2, horizon=1)\n",
    "    print(f'{t}-1m-loss: {loss} \\n')\n",
    "    print(f'{t}-1m-VaR-forecast: {var_forecast} \\n')"
   ]
  },
  {
   "attachments": {},
   "cell_type": "markdown",
   "metadata": {},
   "source": [
    "### 3-step-ahead VaR: 3 months"
   ]
  },
  {
   "cell_type": "code",
   "execution_count": 24,
   "metadata": {},
   "outputs": [
    {
     "name": "stderr",
     "output_type": "stream",
     "text": [
      "/Users/lluisarull/opt/anaconda3/lib/python3.8/site-packages/statsmodels/regression/quantile_regression.py:191: IterationLimitWarning: Maximum number of iterations (1000) reached.\n",
      "  warnings.warn(\"Maximum number of iterations (\" + str(max_iter) +\n",
      "/Users/lluisarull/opt/anaconda3/lib/python3.8/site-packages/statsmodels/regression/quantile_regression.py:191: IterationLimitWarning: Maximum number of iterations (1000) reached.\n",
      "  warnings.warn(\"Maximum number of iterations (\" + str(max_iter) +\n"
     ]
    },
    {
     "name": "stdout",
     "output_type": "stream",
     "text": [
      "AZN-1m-loss: 1.0758413471071586 \n",
      "\n",
      "AZN-1m-VaR-forecast: [ -2.62579691  -9.10494199  -0.93597553  -5.58330016 -17.55886023\n",
      " -20.3700372   -1.8040118   -8.46628317 -11.25920174 -11.74367257] \n",
      "\n",
      "BMY-1m-loss: 2.0334773246449407 \n",
      "\n",
      "BMY-1m-VaR-forecast: [ -2.25700077  -8.82525446  -7.23641161  -9.13750884 -26.83015557\n",
      " -18.68694508   5.08063517  -8.76117011 -15.57760286  -8.11929194] \n",
      "\n"
     ]
    },
    {
     "name": "stderr",
     "output_type": "stream",
     "text": [
      "/Users/lluisarull/opt/anaconda3/lib/python3.8/site-packages/statsmodels/regression/quantile_regression.py:191: IterationLimitWarning: Maximum number of iterations (1000) reached.\n",
      "  warnings.warn(\"Maximum number of iterations (\" + str(max_iter) +\n",
      "/Users/lluisarull/opt/anaconda3/lib/python3.8/site-packages/statsmodels/regression/quantile_regression.py:191: IterationLimitWarning: Maximum number of iterations (1000) reached.\n",
      "  warnings.warn(\"Maximum number of iterations (\" + str(max_iter) +\n"
     ]
    },
    {
     "name": "stdout",
     "output_type": "stream",
     "text": [
      "JNJ-1m-loss: 1.6408329005207105 \n",
      "\n",
      "JNJ-1m-VaR-forecast: [ -0.14101453  -4.00853479  -2.52442805  -4.4927618  -14.93480162\n",
      " -11.78481852   0.80293103   0.84603873  -3.78793344  -7.95273913] \n",
      "\n"
     ]
    },
    {
     "name": "stderr",
     "output_type": "stream",
     "text": [
      "/Users/lluisarull/opt/anaconda3/lib/python3.8/site-packages/statsmodels/regression/quantile_regression.py:191: IterationLimitWarning: Maximum number of iterations (1000) reached.\n",
      "  warnings.warn(\"Maximum number of iterations (\" + str(max_iter) +\n"
     ]
    },
    {
     "name": "stdout",
     "output_type": "stream",
     "text": [
      "LLY-1m-loss: 2.1553700580514423 \n",
      "\n",
      "LLY-1m-VaR-forecast: [ -0.71319966  -7.07702452  -4.75988222  -2.85236963 -12.18595175\n",
      "  -8.83786842  -0.26777896  -3.19339128  -6.72421861  -8.71320389] \n",
      "\n"
     ]
    },
    {
     "name": "stderr",
     "output_type": "stream",
     "text": [
      "/Users/lluisarull/opt/anaconda3/lib/python3.8/site-packages/statsmodels/regression/quantile_regression.py:191: IterationLimitWarning: Maximum number of iterations (1000) reached.\n",
      "  warnings.warn(\"Maximum number of iterations (\" + str(max_iter) +\n"
     ]
    },
    {
     "name": "stdout",
     "output_type": "stream",
     "text": [
      "MRK-1m-loss: 0.9949697981302297 \n",
      "\n",
      "MRK-1m-VaR-forecast: [ -1.81313379 -10.4534833   -2.63655228  -5.79914399 -19.64278378\n",
      " -20.01257694   0.55220574  -7.33958502  -9.84651698 -10.4665301 ] \n",
      "\n"
     ]
    },
    {
     "name": "stderr",
     "output_type": "stream",
     "text": [
      "/Users/lluisarull/opt/anaconda3/lib/python3.8/site-packages/statsmodels/regression/quantile_regression.py:191: IterationLimitWarning: Maximum number of iterations (1000) reached.\n",
      "  warnings.warn(\"Maximum number of iterations (\" + str(max_iter) +\n",
      "/Users/lluisarull/opt/anaconda3/lib/python3.8/site-packages/statsmodels/regression/quantile_regression.py:191: IterationLimitWarning: Maximum number of iterations (1000) reached.\n",
      "  warnings.warn(\"Maximum number of iterations (\" + str(max_iter) +\n",
      "/Users/lluisarull/opt/anaconda3/lib/python3.8/site-packages/statsmodels/regression/quantile_regression.py:191: IterationLimitWarning: Maximum number of iterations (1000) reached.\n",
      "  warnings.warn(\"Maximum number of iterations (\" + str(max_iter) +\n"
     ]
    },
    {
     "name": "stdout",
     "output_type": "stream",
     "text": [
      "NVO-1m-loss: 1.4786958881197552 \n",
      "\n",
      "NVO-1m-VaR-forecast: [ -0.09280017  -9.03595952  -3.89077088  -4.23598732 -20.74518312\n",
      " -17.69442865   1.99892731  -8.61886289  -9.62869152  -8.83932106] \n",
      "\n"
     ]
    },
    {
     "name": "stderr",
     "output_type": "stream",
     "text": [
      "/Users/lluisarull/opt/anaconda3/lib/python3.8/site-packages/statsmodels/regression/quantile_regression.py:191: IterationLimitWarning: Maximum number of iterations (1000) reached.\n",
      "  warnings.warn(\"Maximum number of iterations (\" + str(max_iter) +\n"
     ]
    },
    {
     "name": "stdout",
     "output_type": "stream",
     "text": [
      "NVS-1m-loss: 1.9258201223254718 \n",
      "\n",
      "NVS-1m-VaR-forecast: [ -2.05368315  -7.57732382  -3.7224835   -6.34823796 -17.73712234\n",
      " -20.97157367   3.32509892  -3.95435462  -3.9456217   -5.92438122] \n",
      "\n",
      "PFE-1m-loss: 1.5120735723532128 \n",
      "\n",
      "PFE-1m-VaR-forecast: [ -4.85362477 -12.0208297   -1.24671363  -2.90407094 -14.73048589\n",
      " -12.14804509  -1.29177635 -10.41976804  -9.32157885  -5.41391359] \n",
      "\n"
     ]
    },
    {
     "name": "stderr",
     "output_type": "stream",
     "text": [
      "/Users/lluisarull/opt/anaconda3/lib/python3.8/site-packages/statsmodels/regression/quantile_regression.py:191: IterationLimitWarning: Maximum number of iterations (1000) reached.\n",
      "  warnings.warn(\"Maximum number of iterations (\" + str(max_iter) +\n"
     ]
    },
    {
     "name": "stdout",
     "output_type": "stream",
     "text": [
      "ROG-1m-loss: 6.74533447908787 \n",
      "\n",
      "ROG-1m-VaR-forecast: [  0.50279267 -20.03580684  -3.20141294   1.75055126 -21.7619532\n",
      " -43.55680943   4.11643652 -17.5853904  -12.87903768  -6.48683556] \n",
      "\n"
     ]
    }
   ],
   "source": [
    "for t in tickers:\n",
    "    loss, var_forecast= rolling_forecast_QR(data, dates3m, t, alpha=0.05, columns_to_exclude= to_exclude2, horizon=3)\n",
    "    print(f'{t}-1m-loss: {loss} \\n')\n",
    "    print(f'{t}-1m-VaR-forecast: {var_forecast} \\n')"
   ]
  },
  {
   "attachments": {},
   "cell_type": "markdown",
   "metadata": {},
   "source": [
    "### 6-step-ahead VaR: 6 months"
   ]
  },
  {
   "cell_type": "code",
   "execution_count": 25,
   "metadata": {},
   "outputs": [
    {
     "name": "stderr",
     "output_type": "stream",
     "text": [
      "/Users/lluisarull/opt/anaconda3/lib/python3.8/site-packages/statsmodels/regression/quantile_regression.py:191: IterationLimitWarning: Maximum number of iterations (1000) reached.\n",
      "  warnings.warn(\"Maximum number of iterations (\" + str(max_iter) +\n",
      "/Users/lluisarull/opt/anaconda3/lib/python3.8/site-packages/statsmodels/regression/quantile_regression.py:191: IterationLimitWarning: Maximum number of iterations (1000) reached.\n",
      "  warnings.warn(\"Maximum number of iterations (\" + str(max_iter) +\n"
     ]
    },
    {
     "name": "stdout",
     "output_type": "stream",
     "text": [
      "AZN-6m-loss: 0.7370518875857861 \n",
      "\n",
      "AZN-6m-VaR-forecast: [ -5.31214763 -17.4146239  -21.82716361  -0.15284737  -8.09146432\n",
      " -11.1052869  -11.74371174] \n",
      "\n",
      "BMY-6m-loss: 1.8365369346119886 \n",
      "\n",
      "BMY-6m-VaR-forecast: [-10.9645861  -29.07099176 -18.36168434   5.06959038  -8.76151383\n",
      " -15.75317432  -6.48414468] \n",
      "\n"
     ]
    },
    {
     "name": "stderr",
     "output_type": "stream",
     "text": [
      "/Users/lluisarull/opt/anaconda3/lib/python3.8/site-packages/statsmodels/regression/quantile_regression.py:191: IterationLimitWarning: Maximum number of iterations (1000) reached.\n",
      "  warnings.warn(\"Maximum number of iterations (\" + str(max_iter) +\n",
      "/Users/lluisarull/opt/anaconda3/lib/python3.8/site-packages/statsmodels/regression/quantile_regression.py:191: IterationLimitWarning: Maximum number of iterations (1000) reached.\n",
      "  warnings.warn(\"Maximum number of iterations (\" + str(max_iter) +\n"
     ]
    },
    {
     "name": "stdout",
     "output_type": "stream",
     "text": [
      "JNJ-6m-loss: 1.2296161416742797 \n",
      "\n",
      "JNJ-6m-VaR-forecast: [ -4.35494076 -14.06263368 -12.63789673   0.79542515   0.84603414\n",
      "  -3.86031112  -7.93130369] \n",
      "\n",
      "LLY-6m-loss: 1.7919037860229394 \n",
      "\n",
      "LLY-6m-VaR-forecast: [ -3.63485244 -12.48745292  -9.85612078  -0.26778537  -3.1930903\n",
      "  -6.60225483  -8.50107073] \n",
      "\n",
      "MRK-6m-loss: 0.8056362630956629 \n",
      "\n",
      "MRK-6m-VaR-forecast: [ -5.66340318 -19.26712312 -17.70444068   0.54968688  -7.34026591\n",
      "  -9.76473471  -9.84152342] \n",
      "\n"
     ]
    },
    {
     "name": "stderr",
     "output_type": "stream",
     "text": [
      "/Users/lluisarull/opt/anaconda3/lib/python3.8/site-packages/statsmodels/regression/quantile_regression.py:191: IterationLimitWarning: Maximum number of iterations (1000) reached.\n",
      "  warnings.warn(\"Maximum number of iterations (\" + str(max_iter) +\n"
     ]
    },
    {
     "name": "stdout",
     "output_type": "stream",
     "text": [
      "NVO-6m-loss: 0.8557351878629481 \n",
      "\n",
      "NVO-6m-VaR-forecast: [ -4.23599235 -20.74534442 -17.69400808   1.99899317  -9.10366992\n",
      " -11.04063568  -8.87532912] \n",
      "\n"
     ]
    },
    {
     "name": "stderr",
     "output_type": "stream",
     "text": [
      "/Users/lluisarull/opt/anaconda3/lib/python3.8/site-packages/statsmodels/regression/quantile_regression.py:191: IterationLimitWarning: Maximum number of iterations (1000) reached.\n",
      "  warnings.warn(\"Maximum number of iterations (\" + str(max_iter) +\n"
     ]
    },
    {
     "name": "stdout",
     "output_type": "stream",
     "text": [
      "NVS-6m-loss: 2.1333123666452645 \n",
      "\n",
      "NVS-6m-VaR-forecast: [ -6.41649707 -18.42481041 -21.41956396   3.4154374   -4.2649676\n",
      "  -3.98393014  -5.86167016] \n",
      "\n",
      "PFE-6m-loss: 1.5199251649499268 \n",
      "\n",
      "PFE-6m-VaR-forecast: [ -2.86981911 -13.34911894 -10.89045617  -1.31295692 -10.0836429\n",
      "  -9.38143143  -3.57537412] \n",
      "\n",
      "ROG-6m-loss: 8.266701996624159 \n",
      "\n",
      "ROG-6m-VaR-forecast: [ -0.91102225 -30.23066374 -45.88726764   1.15505222 -20.57300805\n",
      " -13.77621127  -6.48708513] \n",
      "\n"
     ]
    },
    {
     "name": "stderr",
     "output_type": "stream",
     "text": [
      "/Users/lluisarull/opt/anaconda3/lib/python3.8/site-packages/statsmodels/regression/quantile_regression.py:191: IterationLimitWarning: Maximum number of iterations (1000) reached.\n",
      "  warnings.warn(\"Maximum number of iterations (\" + str(max_iter) +\n"
     ]
    }
   ],
   "source": [
    "for t in tickers:\n",
    "    loss, var_forecast= rolling_forecast_QR(data, dates6m, t, alpha=0.05, columns_to_exclude= to_exclude2, horizon=6)\n",
    "    print(f'{t}-6m-loss: {loss} \\n')\n",
    "    print(f'{t}-6m-VaR-forecast: {var_forecast} \\n')"
   ]
  },
  {
   "attachments": {},
   "cell_type": "markdown",
   "metadata": {},
   "source": [
    "### 9-step-ahead VaR: 9 months"
   ]
  },
  {
   "cell_type": "code",
   "execution_count": 26,
   "metadata": {},
   "outputs": [
    {
     "name": "stderr",
     "output_type": "stream",
     "text": [
      "/Users/lluisarull/opt/anaconda3/lib/python3.8/site-packages/statsmodels/regression/quantile_regression.py:191: IterationLimitWarning: Maximum number of iterations (1000) reached.\n",
      "  warnings.warn(\"Maximum number of iterations (\" + str(max_iter) +\n"
     ]
    },
    {
     "name": "stdout",
     "output_type": "stream",
     "text": [
      "AZN-9m-loss: 0.9099641983914197 \n",
      "\n",
      "AZN-9m-VaR-forecast: [  1.43893377  -5.17912081  -9.16301588 -12.25969144] \n",
      "\n",
      "BMY-9m-loss: 2.7574863904943823 \n",
      "\n",
      "BMY-9m-VaR-forecast: [  5.83604035 -10.69317517 -16.13289529  -6.50430879] \n",
      "\n"
     ]
    },
    {
     "name": "stderr",
     "output_type": "stream",
     "text": [
      "/Users/lluisarull/opt/anaconda3/lib/python3.8/site-packages/statsmodels/regression/quantile_regression.py:191: IterationLimitWarning: Maximum number of iterations (1000) reached.\n",
      "  warnings.warn(\"Maximum number of iterations (\" + str(max_iter) +\n",
      "/Users/lluisarull/opt/anaconda3/lib/python3.8/site-packages/statsmodels/regression/quantile_regression.py:191: IterationLimitWarning: Maximum number of iterations (1000) reached.\n",
      "  warnings.warn(\"Maximum number of iterations (\" + str(max_iter) +\n"
     ]
    },
    {
     "name": "stdout",
     "output_type": "stream",
     "text": [
      "JNJ-9m-loss: 1.8767077860402959 \n",
      "\n",
      "JNJ-9m-VaR-forecast: [ 0.95332344  0.29439777 -4.06512847 -7.92985768] \n",
      "\n",
      "LLY-9m-loss: 3.0444106799475197 \n",
      "\n",
      "LLY-9m-VaR-forecast: [ 0.50500719 -2.8189522  -6.37486071 -8.50120197] \n",
      "\n",
      "MRK-9m-loss: 1.0369129404819708 \n",
      "\n",
      "MRK-9m-VaR-forecast: [ 1.73895347 -5.46575222 -8.85979985 -9.84257765] \n",
      "\n"
     ]
    },
    {
     "name": "stderr",
     "output_type": "stream",
     "text": [
      "/Users/lluisarull/opt/anaconda3/lib/python3.8/site-packages/statsmodels/regression/quantile_regression.py:191: IterationLimitWarning: Maximum number of iterations (1000) reached.\n",
      "  warnings.warn(\"Maximum number of iterations (\" + str(max_iter) +\n"
     ]
    },
    {
     "name": "stdout",
     "output_type": "stream",
     "text": [
      "NVO-9m-loss: 0.6435526371436546 \n",
      "\n",
      "NVO-9m-VaR-forecast: [  1.9989022   -9.1036492  -11.04047992  -8.87517304] \n",
      "\n"
     ]
    },
    {
     "name": "stderr",
     "output_type": "stream",
     "text": [
      "/Users/lluisarull/opt/anaconda3/lib/python3.8/site-packages/statsmodels/regression/quantile_regression.py:191: IterationLimitWarning: Maximum number of iterations (1000) reached.\n",
      "  warnings.warn(\"Maximum number of iterations (\" + str(max_iter) +\n"
     ]
    },
    {
     "name": "stdout",
     "output_type": "stream",
     "text": [
      "NVS-9m-loss: 2.898665796322658 \n",
      "\n",
      "NVS-9m-VaR-forecast: [ 3.11285351 -3.73065678 -3.40561605 -5.97073062] \n",
      "\n",
      "PFE-9m-loss: 1.7745312236442783 \n",
      "\n",
      "PFE-9m-VaR-forecast: [ -0.64736341 -10.29763781  -8.29919839  -3.58090991] \n",
      "\n",
      "ROG-9m-loss: 0.4963888827241083 \n",
      "\n",
      "ROG-9m-VaR-forecast: [  2.96030892 -16.43753924 -10.60151861  -2.8344949 ] \n",
      "\n"
     ]
    }
   ],
   "source": [
    "for t in tickers:\n",
    "    loss, var_forecast= rolling_forecast_QR(data, dates9m, t, alpha=0.05, columns_to_exclude= to_exclude2, horizon=9)\n",
    "    print(f'{t}-9m-loss: {loss} \\n')\n",
    "    print(f'{t}-9m-VaR-forecast: {var_forecast} \\n')"
   ]
  },
  {
   "attachments": {},
   "cell_type": "markdown",
   "metadata": {},
   "source": [
    "### 12-step-ahead VaR: 12 months"
   ]
  },
  {
   "cell_type": "code",
   "execution_count": 27,
   "metadata": {},
   "outputs": [
    {
     "name": "stdout",
     "output_type": "stream",
     "text": [
      "AZN-12m-loss: 0.5482028314997621 \n",
      "\n",
      "AZN-12m-VaR-forecast: [-11.15526038] \n",
      "\n",
      "BMY-12m-loss: 0.12844730791612824 \n",
      "\n",
      "BMY-12m-VaR-forecast: [-5.26414003] \n",
      "\n",
      "JNJ-12m-loss: 0.13525761193107164 \n",
      "\n",
      "JNJ-12m-VaR-forecast: [-7.98310128] \n",
      "\n",
      "LLY-12m-loss: 0.8302012346069365 \n",
      "\n",
      "LLY-12m-VaR-forecast: [-8.11616972] \n",
      "\n",
      "MRK-12m-loss: 0.276923926515625 \n",
      "\n",
      "MRK-12m-VaR-forecast: [-9.92056696] \n",
      "\n",
      "NVO-12m-loss: 0.24537204461890597 \n",
      "\n",
      "NVO-12m-VaR-forecast: [-8.87535625] \n",
      "\n",
      "NVS-12m-loss: 0.9614887701047898 \n",
      "\n",
      "NVS-12m-VaR-forecast: [-5.14955198] \n",
      "\n",
      "PFE-12m-loss: 0.016139096474552053 \n",
      "\n",
      "PFE-12m-VaR-forecast: [-2.55986223] \n",
      "\n",
      "ROG-12m-loss: 0.18238963546889583 \n",
      "\n",
      "ROG-12m-VaR-forecast: [-5.80995226] \n",
      "\n"
     ]
    }
   ],
   "source": [
    "for t in tickers:\n",
    "    loss, var_forecast= rolling_forecast_QR(data, dates12m, t, alpha=0.05, columns_to_exclude= to_exclude2, horizon=12)\n",
    "    print(f'{t}-12m-loss: {loss} \\n')\n",
    "    print(f'{t}-12m-VaR-forecast: {var_forecast} \\n')"
   ]
  },
  {
   "attachments": {},
   "cell_type": "markdown",
   "metadata": {},
   "source": [
    "# 3. All Covariates"
   ]
  },
  {
   "cell_type": "code",
   "execution_count": 28,
   "metadata": {},
   "outputs": [
    {
     "data": {
      "text/plain": [
       "['Date',\n",
       " 'unemployment_rate',\n",
       " 'CPI',\n",
       " 'treasury_yield',\n",
       " 'GDP_growth',\n",
       " 'SP500_return',\n",
       " 'inflation_change',\n",
       " 'unemp_change',\n",
       " 'treasury_yield_change',\n",
       " 'AZN',\n",
       " 'BMY',\n",
       " 'JNJ',\n",
       " 'LLY',\n",
       " 'MRK',\n",
       " 'NVO',\n",
       " 'NVS',\n",
       " 'PFE',\n",
       " 'ROG']"
      ]
     },
     "execution_count": 28,
     "metadata": {},
     "output_type": "execute_result"
    }
   ],
   "source": [
    "to_exclude3 = ['Date']\n",
    "\n",
    "for covariate in covs:\n",
    "    to_exclude3.append(covariate)\n",
    "\n",
    "for t in tickers:\n",
    "    to_exclude3.append(t)\n",
    "\n",
    "to_exclude3"
   ]
  },
  {
   "attachments": {},
   "cell_type": "markdown",
   "metadata": {},
   "source": [
    "### 1-step-ahead VaR: 1 months"
   ]
  },
  {
   "cell_type": "code",
   "execution_count": 29,
   "metadata": {},
   "outputs": [
    {
     "name": "stdout",
     "output_type": "stream",
     "text": [
      "AZN-1m-loss: 0.5079276964925706 \n",
      "\n",
      "AZN-1m-VaR-forecast: [ -7.61857227  -0.37745581  -6.82325599 -11.48124416 -12.30741192\n",
      "  -5.26026587  -1.93132624 -14.50824726 -17.25928955  -1.25552064\n",
      "  -8.882634   -19.8281017 ] \n",
      "\n"
     ]
    },
    {
     "name": "stderr",
     "output_type": "stream",
     "text": [
      "/Users/lluisarull/opt/anaconda3/lib/python3.8/site-packages/statsmodels/regression/quantile_regression.py:191: IterationLimitWarning: Maximum number of iterations (1000) reached.\n",
      "  warnings.warn(\"Maximum number of iterations (\" + str(max_iter) +\n",
      "/Users/lluisarull/opt/anaconda3/lib/python3.8/site-packages/statsmodels/regression/quantile_regression.py:191: IterationLimitWarning: Maximum number of iterations (1000) reached.\n",
      "  warnings.warn(\"Maximum number of iterations (\" + str(max_iter) +\n"
     ]
    },
    {
     "name": "stdout",
     "output_type": "stream",
     "text": [
      "BMY-1m-loss: 0.5918539103580055 \n",
      "\n",
      "BMY-1m-VaR-forecast: [-10.35690661 -12.32950473 -10.04379576   2.70476258 -14.22136722\n",
      " -18.03919733 -20.05837988 -13.32710257  -3.68305233 -13.64784223\n",
      " -19.39644759  -7.57230608] \n",
      "\n"
     ]
    },
    {
     "name": "stderr",
     "output_type": "stream",
     "text": [
      "/Users/lluisarull/opt/anaconda3/lib/python3.8/site-packages/statsmodels/regression/quantile_regression.py:191: IterationLimitWarning: Maximum number of iterations (1000) reached.\n",
      "  warnings.warn(\"Maximum number of iterations (\" + str(max_iter) +\n",
      "/Users/lluisarull/opt/anaconda3/lib/python3.8/site-packages/statsmodels/regression/quantile_regression.py:191: IterationLimitWarning: Maximum number of iterations (1000) reached.\n",
      "  warnings.warn(\"Maximum number of iterations (\" + str(max_iter) +\n"
     ]
    },
    {
     "name": "stdout",
     "output_type": "stream",
     "text": [
      "JNJ-1m-loss: 2.1903887543716873 \n",
      "\n",
      "JNJ-1m-VaR-forecast: [  3.37032639   0.91803463   8.82992516  -5.26546206  -6.95172854\n",
      " -12.98424934  -4.07035232 -16.09659276  -7.24953931 -13.50920163\n",
      " -13.1438927  -13.25714044] \n",
      "\n",
      "LLY-1m-loss: 1.7478643485190049 \n",
      "\n",
      "LLY-1m-VaR-forecast: [-8.37916998 -1.4815798   0.09511685  4.94421541 -7.70725714 -9.84046692\n",
      " -1.6399168   0.93342853 -8.04841266  0.67033021 -7.64316883 -2.36775888] \n",
      "\n",
      "MRK-1m-loss: 0.6775421493440499 \n",
      "\n",
      "MRK-1m-VaR-forecast: [ -4.13695358 -18.66440061 -22.10073919  -3.24794958  -7.30067813\n",
      " -10.66234938 -23.27108048 -13.31109346 -14.52088368  -5.12156205\n",
      "  -3.72965318 -12.81150269] \n",
      "\n"
     ]
    },
    {
     "name": "stderr",
     "output_type": "stream",
     "text": [
      "/Users/lluisarull/opt/anaconda3/lib/python3.8/site-packages/statsmodels/regression/quantile_regression.py:191: IterationLimitWarning: Maximum number of iterations (1000) reached.\n",
      "  warnings.warn(\"Maximum number of iterations (\" + str(max_iter) +\n",
      "/Users/lluisarull/opt/anaconda3/lib/python3.8/site-packages/statsmodels/regression/quantile_regression.py:191: IterationLimitWarning: Maximum number of iterations (1000) reached.\n",
      "  warnings.warn(\"Maximum number of iterations (\" + str(max_iter) +\n",
      "/Users/lluisarull/opt/anaconda3/lib/python3.8/site-packages/statsmodels/regression/quantile_regression.py:191: IterationLimitWarning: Maximum number of iterations (1000) reached.\n",
      "  warnings.warn(\"Maximum number of iterations (\" + str(max_iter) +\n",
      "/Users/lluisarull/opt/anaconda3/lib/python3.8/site-packages/statsmodels/regression/quantile_regression.py:191: IterationLimitWarning: Maximum number of iterations (1000) reached.\n",
      "  warnings.warn(\"Maximum number of iterations (\" + str(max_iter) +\n"
     ]
    },
    {
     "name": "stdout",
     "output_type": "stream",
     "text": [
      "NVO-1m-loss: 0.7316751689588057 \n",
      "\n",
      "NVO-1m-VaR-forecast: [-13.94838551 -13.17737452 -11.75927964 -17.31611138  -2.14032091\n",
      "  -5.6686049  -20.64336122 -23.82618425  -5.09342573   1.00514371\n",
      "  -5.54209451 -15.35681532] \n",
      "\n"
     ]
    },
    {
     "name": "stderr",
     "output_type": "stream",
     "text": [
      "/Users/lluisarull/opt/anaconda3/lib/python3.8/site-packages/statsmodels/regression/quantile_regression.py:191: IterationLimitWarning: Maximum number of iterations (1000) reached.\n",
      "  warnings.warn(\"Maximum number of iterations (\" + str(max_iter) +\n",
      "/Users/lluisarull/opt/anaconda3/lib/python3.8/site-packages/statsmodels/regression/quantile_regression.py:191: IterationLimitWarning: Maximum number of iterations (1000) reached.\n",
      "  warnings.warn(\"Maximum number of iterations (\" + str(max_iter) +\n",
      "/Users/lluisarull/opt/anaconda3/lib/python3.8/site-packages/statsmodels/regression/quantile_regression.py:191: IterationLimitWarning: Maximum number of iterations (1000) reached.\n",
      "  warnings.warn(\"Maximum number of iterations (\" + str(max_iter) +\n",
      "/Users/lluisarull/opt/anaconda3/lib/python3.8/site-packages/statsmodels/regression/quantile_regression.py:191: IterationLimitWarning: Maximum number of iterations (1000) reached.\n",
      "  warnings.warn(\"Maximum number of iterations (\" + str(max_iter) +\n"
     ]
    },
    {
     "name": "stdout",
     "output_type": "stream",
     "text": [
      "NVS-1m-loss: 1.500690054653104 \n",
      "\n",
      "NVS-1m-VaR-forecast: [ -1.53477542  -4.41670162  -0.59798413  -4.2965583  -10.94808271\n",
      " -11.15681327  -3.92001253  -9.7571145   -6.65483055  -8.79170685\n",
      "  -9.43009995 -16.78008953] \n",
      "\n",
      "PFE-1m-loss: 1.8012508922196033 \n",
      "\n",
      "PFE-1m-VaR-forecast: [ -0.14624336  -7.91821671  -0.65558583 -16.2738069   -8.05322941\n",
      "  -8.22203572  -4.02089354  -5.11708409 -15.31130981 -11.37201983\n",
      "  -6.77635669 -15.72792169] \n",
      "\n"
     ]
    },
    {
     "name": "stderr",
     "output_type": "stream",
     "text": [
      "/Users/lluisarull/opt/anaconda3/lib/python3.8/site-packages/statsmodels/regression/quantile_regression.py:191: IterationLimitWarning: Maximum number of iterations (1000) reached.\n",
      "  warnings.warn(\"Maximum number of iterations (\" + str(max_iter) +\n",
      "/Users/lluisarull/opt/anaconda3/lib/python3.8/site-packages/statsmodels/regression/quantile_regression.py:191: IterationLimitWarning: Maximum number of iterations (1000) reached.\n",
      "  warnings.warn(\"Maximum number of iterations (\" + str(max_iter) +\n",
      "/Users/lluisarull/opt/anaconda3/lib/python3.8/site-packages/statsmodels/regression/quantile_regression.py:191: IterationLimitWarning: Maximum number of iterations (1000) reached.\n",
      "  warnings.warn(\"Maximum number of iterations (\" + str(max_iter) +\n",
      "/Users/lluisarull/opt/anaconda3/lib/python3.8/site-packages/statsmodels/regression/quantile_regression.py:191: IterationLimitWarning: Maximum number of iterations (1000) reached.\n",
      "  warnings.warn(\"Maximum number of iterations (\" + str(max_iter) +\n"
     ]
    },
    {
     "name": "stdout",
     "output_type": "stream",
     "text": [
      "ROG-1m-loss: 4.663419770167789 \n",
      "\n",
      "ROG-1m-VaR-forecast: [  3.19609747 -32.34829619 -46.75804839 -17.44972878 -18.85442165\n",
      " -19.46996605  -9.89040781   7.91281354 -29.6618781  -29.37429799\n",
      " -18.58943582   6.21816457] \n",
      "\n"
     ]
    }
   ],
   "source": [
    "for t in tickers:\n",
    "    loss, var_forecast= rolling_forecast_QR(data, dates1m, t, alpha=0.05, columns_to_exclude= to_exclude3, horizon=1)\n",
    "    print(f'{t}-1m-loss: {loss} \\n')\n",
    "    print(f'{t}-1m-VaR-forecast: {var_forecast} \\n')"
   ]
  },
  {
   "attachments": {},
   "cell_type": "markdown",
   "metadata": {},
   "source": [
    "### 3-step-ahead VaR: 3 months"
   ]
  },
  {
   "cell_type": "code",
   "execution_count": 30,
   "metadata": {},
   "outputs": [
    {
     "name": "stdout",
     "output_type": "stream",
     "text": [
      "AZN-3m-loss: 0.5740648939718539 \n",
      "\n",
      "AZN-3m-VaR-forecast: [ -6.82327351 -11.59327864 -12.2343114   -5.46480588  -2.12183846\n",
      " -14.55240479 -17.25928204  -1.3498097   -9.01061435 -19.6594751 ] \n",
      "\n"
     ]
    },
    {
     "name": "stderr",
     "output_type": "stream",
     "text": [
      "/Users/lluisarull/opt/anaconda3/lib/python3.8/site-packages/statsmodels/regression/quantile_regression.py:191: IterationLimitWarning: Maximum number of iterations (1000) reached.\n",
      "  warnings.warn(\"Maximum number of iterations (\" + str(max_iter) +\n",
      "/Users/lluisarull/opt/anaconda3/lib/python3.8/site-packages/statsmodels/regression/quantile_regression.py:191: IterationLimitWarning: Maximum number of iterations (1000) reached.\n",
      "  warnings.warn(\"Maximum number of iterations (\" + str(max_iter) +\n"
     ]
    },
    {
     "name": "stdout",
     "output_type": "stream",
     "text": [
      "BMY-3m-loss: 0.5598397171592046 \n",
      "\n",
      "BMY-3m-VaR-forecast: [-10.02604033   6.07583502 -14.01888785 -15.90062215 -19.89720659\n",
      " -14.45579883  -4.65463676 -11.29192142 -18.93910149  -5.89287885] \n",
      "\n"
     ]
    },
    {
     "name": "stderr",
     "output_type": "stream",
     "text": [
      "/Users/lluisarull/opt/anaconda3/lib/python3.8/site-packages/statsmodels/regression/quantile_regression.py:191: IterationLimitWarning: Maximum number of iterations (1000) reached.\n",
      "  warnings.warn(\"Maximum number of iterations (\" + str(max_iter) +\n",
      "/Users/lluisarull/opt/anaconda3/lib/python3.8/site-packages/statsmodels/regression/quantile_regression.py:191: IterationLimitWarning: Maximum number of iterations (1000) reached.\n",
      "  warnings.warn(\"Maximum number of iterations (\" + str(max_iter) +\n"
     ]
    },
    {
     "name": "stdout",
     "output_type": "stream",
     "text": [
      "JNJ-3m-loss: 1.8367115028653764 \n",
      "\n",
      "JNJ-3m-VaR-forecast: [  7.10402377  -4.9087387   -6.03870955 -12.98425197  -3.94544182\n",
      " -15.38173261  -7.1526321  -12.95826439 -13.00838563 -13.37981351] \n",
      "\n",
      "LLY-3m-loss: 1.8550093332005038 \n",
      "\n",
      "LLY-3m-VaR-forecast: [  0.04177761   6.85172676  -5.04285842  -9.98582483  -1.48977672\n",
      "   0.9334401  -10.24895785   0.91720628  -7.75103211  -3.14811929] \n",
      "\n",
      "MRK-3m-loss: 0.7054914056731171 \n",
      "\n",
      "MRK-3m-VaR-forecast: [-22.33990173  -4.60240131  -6.68551237 -10.64974942 -23.29837324\n",
      " -15.26611974 -10.2710136   -5.60008375  -3.96794267 -12.54616835] \n",
      "\n"
     ]
    },
    {
     "name": "stderr",
     "output_type": "stream",
     "text": [
      "/Users/lluisarull/opt/anaconda3/lib/python3.8/site-packages/statsmodels/regression/quantile_regression.py:191: IterationLimitWarning: Maximum number of iterations (1000) reached.\n",
      "  warnings.warn(\"Maximum number of iterations (\" + str(max_iter) +\n",
      "/Users/lluisarull/opt/anaconda3/lib/python3.8/site-packages/statsmodels/regression/quantile_regression.py:191: IterationLimitWarning: Maximum number of iterations (1000) reached.\n",
      "  warnings.warn(\"Maximum number of iterations (\" + str(max_iter) +\n",
      "/Users/lluisarull/opt/anaconda3/lib/python3.8/site-packages/statsmodels/regression/quantile_regression.py:191: IterationLimitWarning: Maximum number of iterations (1000) reached.\n",
      "  warnings.warn(\"Maximum number of iterations (\" + str(max_iter) +\n",
      "/Users/lluisarull/opt/anaconda3/lib/python3.8/site-packages/statsmodels/regression/quantile_regression.py:191: IterationLimitWarning: Maximum number of iterations (1000) reached.\n",
      "  warnings.warn(\"Maximum number of iterations (\" + str(max_iter) +\n"
     ]
    },
    {
     "name": "stdout",
     "output_type": "stream",
     "text": [
      "NVO-3m-loss: 0.7178340198250192 \n",
      "\n",
      "NVO-3m-VaR-forecast: [ -9.38911658 -19.15370253  -3.78356226  -4.45775621 -20.88720329\n",
      " -20.00873588  -6.55626888  -1.09914016  -5.80181618 -15.38230973] \n",
      "\n"
     ]
    },
    {
     "name": "stderr",
     "output_type": "stream",
     "text": [
      "/Users/lluisarull/opt/anaconda3/lib/python3.8/site-packages/statsmodels/regression/quantile_regression.py:191: IterationLimitWarning: Maximum number of iterations (1000) reached.\n",
      "  warnings.warn(\"Maximum number of iterations (\" + str(max_iter) +\n",
      "/Users/lluisarull/opt/anaconda3/lib/python3.8/site-packages/statsmodels/regression/quantile_regression.py:191: IterationLimitWarning: Maximum number of iterations (1000) reached.\n",
      "  warnings.warn(\"Maximum number of iterations (\" + str(max_iter) +\n",
      "/Users/lluisarull/opt/anaconda3/lib/python3.8/site-packages/statsmodels/regression/quantile_regression.py:191: IterationLimitWarning: Maximum number of iterations (1000) reached.\n",
      "  warnings.warn(\"Maximum number of iterations (\" + str(max_iter) +\n",
      "/Users/lluisarull/opt/anaconda3/lib/python3.8/site-packages/statsmodels/regression/quantile_regression.py:191: IterationLimitWarning: Maximum number of iterations (1000) reached.\n",
      "  warnings.warn(\"Maximum number of iterations (\" + str(max_iter) +\n"
     ]
    },
    {
     "name": "stdout",
     "output_type": "stream",
     "text": [
      "NVS-3m-loss: 1.262869919886916 \n",
      "\n",
      "NVS-3m-VaR-forecast: [  0.32941828  -9.07244404 -13.16413573 -11.67059964  -3.51299286\n",
      " -11.02465349  -6.48986113  -8.26815761  -9.51544557 -17.31322722] \n",
      "\n",
      "PFE-3m-loss: 2.1468503205591762 \n",
      "\n",
      "PFE-3m-VaR-forecast: [ -0.80864032 -19.07902805  -6.63397819  -8.19034565  -3.61449308\n",
      "  -4.89745285 -17.25898598 -11.93584595  -7.13470715 -15.72791699] \n",
      "\n"
     ]
    },
    {
     "name": "stderr",
     "output_type": "stream",
     "text": [
      "/Users/lluisarull/opt/anaconda3/lib/python3.8/site-packages/statsmodels/regression/quantile_regression.py:191: IterationLimitWarning: Maximum number of iterations (1000) reached.\n",
      "  warnings.warn(\"Maximum number of iterations (\" + str(max_iter) +\n",
      "/Users/lluisarull/opt/anaconda3/lib/python3.8/site-packages/statsmodels/regression/quantile_regression.py:191: IterationLimitWarning: Maximum number of iterations (1000) reached.\n",
      "  warnings.warn(\"Maximum number of iterations (\" + str(max_iter) +\n",
      "/Users/lluisarull/opt/anaconda3/lib/python3.8/site-packages/statsmodels/regression/quantile_regression.py:191: IterationLimitWarning: Maximum number of iterations (1000) reached.\n",
      "  warnings.warn(\"Maximum number of iterations (\" + str(max_iter) +\n",
      "/Users/lluisarull/opt/anaconda3/lib/python3.8/site-packages/statsmodels/regression/quantile_regression.py:191: IterationLimitWarning: Maximum number of iterations (1000) reached.\n",
      "  warnings.warn(\"Maximum number of iterations (\" + str(max_iter) +\n"
     ]
    },
    {
     "name": "stdout",
     "output_type": "stream",
     "text": [
      "ROG-3m-loss: 5.01293436214005 \n",
      "\n",
      "ROG-3m-VaR-forecast: [-48.59053532 -17.550956   -18.74404524 -19.46998239  -2.8406381\n",
      "  -3.9757574  -26.34415959 -29.4055971  -17.94075958   6.21818529] \n",
      "\n"
     ]
    }
   ],
   "source": [
    "for t in tickers:\n",
    "    loss, var_forecast= rolling_forecast_QR(data, dates3m, t, alpha=0.05, columns_to_exclude= to_exclude3, horizon=3)\n",
    "    print(f'{t}-3m-loss: {loss} \\n')\n",
    "    print(f'{t}-3m-VaR-forecast: {var_forecast} \\n')"
   ]
  },
  {
   "attachments": {},
   "cell_type": "markdown",
   "metadata": {},
   "source": [
    "### 6-step-ahead VaR: 6 months"
   ]
  },
  {
   "cell_type": "code",
   "execution_count": 31,
   "metadata": {},
   "outputs": [
    {
     "name": "stdout",
     "output_type": "stream",
     "text": [
      "AZN-6m-loss: 0.6671645066783346 \n",
      "\n",
      "AZN-6m-VaR-forecast: [ -5.32547297  -1.78551199 -14.49058203 -17.14370876  -1.31984273\n",
      "  -8.95704015 -19.59687661] \n",
      "\n"
     ]
    },
    {
     "name": "stderr",
     "output_type": "stream",
     "text": [
      "/Users/lluisarull/opt/anaconda3/lib/python3.8/site-packages/statsmodels/regression/quantile_regression.py:191: IterationLimitWarning: Maximum number of iterations (1000) reached.\n",
      "  warnings.warn(\"Maximum number of iterations (\" + str(max_iter) +\n",
      "/Users/lluisarull/opt/anaconda3/lib/python3.8/site-packages/statsmodels/regression/quantile_regression.py:191: IterationLimitWarning: Maximum number of iterations (1000) reached.\n",
      "  warnings.warn(\"Maximum number of iterations (\" + str(max_iter) +\n"
     ]
    },
    {
     "name": "stdout",
     "output_type": "stream",
     "text": [
      "BMY-6m-loss: 0.671867586937385 \n",
      "\n",
      "BMY-6m-VaR-forecast: [-17.67479856 -19.86564139 -13.74067443  -3.59111655 -11.77559503\n",
      " -19.6583657   -8.1807429 ] \n",
      "\n"
     ]
    },
    {
     "name": "stderr",
     "output_type": "stream",
     "text": [
      "/Users/lluisarull/opt/anaconda3/lib/python3.8/site-packages/statsmodels/regression/quantile_regression.py:191: IterationLimitWarning: Maximum number of iterations (1000) reached.\n",
      "  warnings.warn(\"Maximum number of iterations (\" + str(max_iter) +\n"
     ]
    },
    {
     "name": "stdout",
     "output_type": "stream",
     "text": [
      "JNJ-6m-loss: 0.49400446494608424 \n",
      "\n",
      "JNJ-6m-VaR-forecast: [ -6.97577252  -4.94737801 -19.38537564  -8.20739597 -12.65401393\n",
      " -12.22575849 -14.07510976] \n",
      "\n",
      "LLY-6m-loss: 1.347343727177321 \n",
      "\n",
      "LLY-6m-VaR-forecast: [-10.9403455    0.57314039  -0.63924277 -10.57763856   0.77294802\n",
      "  -7.73324543   0.22166189] \n",
      "\n",
      "MRK-6m-loss: 0.7096629044710789 \n",
      "\n",
      "MRK-6m-VaR-forecast: [-11.31779488 -24.06179269 -15.15232415 -10.27112224 -10.64817208\n",
      "  -4.94419676 -11.97963144] \n",
      "\n"
     ]
    },
    {
     "name": "stderr",
     "output_type": "stream",
     "text": [
      "/Users/lluisarull/opt/anaconda3/lib/python3.8/site-packages/statsmodels/regression/quantile_regression.py:191: IterationLimitWarning: Maximum number of iterations (1000) reached.\n",
      "  warnings.warn(\"Maximum number of iterations (\" + str(max_iter) +\n",
      "/Users/lluisarull/opt/anaconda3/lib/python3.8/site-packages/statsmodels/regression/quantile_regression.py:191: IterationLimitWarning: Maximum number of iterations (1000) reached.\n",
      "  warnings.warn(\"Maximum number of iterations (\" + str(max_iter) +\n",
      "/Users/lluisarull/opt/anaconda3/lib/python3.8/site-packages/statsmodels/regression/quantile_regression.py:191: IterationLimitWarning: Maximum number of iterations (1000) reached.\n",
      "  warnings.warn(\"Maximum number of iterations (\" + str(max_iter) +\n",
      "/Users/lluisarull/opt/anaconda3/lib/python3.8/site-packages/statsmodels/regression/quantile_regression.py:191: IterationLimitWarning: Maximum number of iterations (1000) reached.\n",
      "  warnings.warn(\"Maximum number of iterations (\" + str(max_iter) +\n"
     ]
    },
    {
     "name": "stdout",
     "output_type": "stream",
     "text": [
      "NVO-6m-loss: 0.8447831905470097 \n",
      "\n",
      "NVO-6m-VaR-forecast: [ -2.1188358  -19.82126931 -25.24826307  -5.61926668   1.14733485\n",
      "  -5.73501493 -18.89834826] \n",
      "\n"
     ]
    },
    {
     "name": "stderr",
     "output_type": "stream",
     "text": [
      "/Users/lluisarull/opt/anaconda3/lib/python3.8/site-packages/statsmodels/regression/quantile_regression.py:191: IterationLimitWarning: Maximum number of iterations (1000) reached.\n",
      "  warnings.warn(\"Maximum number of iterations (\" + str(max_iter) +\n",
      "/Users/lluisarull/opt/anaconda3/lib/python3.8/site-packages/statsmodels/regression/quantile_regression.py:191: IterationLimitWarning: Maximum number of iterations (1000) reached.\n",
      "  warnings.warn(\"Maximum number of iterations (\" + str(max_iter) +\n"
     ]
    },
    {
     "name": "stdout",
     "output_type": "stream",
     "text": [
      "NVS-6m-loss: 0.8461954772356453 \n",
      "\n",
      "NVS-6m-VaR-forecast: [ -6.39711143  -0.20183797 -14.76240867  -5.53351886  -8.19466688\n",
      "  -9.33990919 -17.30881489] \n",
      "\n",
      "PFE-6m-loss: 0.5009828012635555 \n",
      "\n",
      "PFE-6m-VaR-forecast: [ -5.27220739 -10.70669235 -13.7271974  -17.0612012  -11.94171007\n",
      "  -9.61755366 -16.68229135] \n",
      "\n"
     ]
    },
    {
     "name": "stderr",
     "output_type": "stream",
     "text": [
      "/Users/lluisarull/opt/anaconda3/lib/python3.8/site-packages/statsmodels/regression/quantile_regression.py:191: IterationLimitWarning: Maximum number of iterations (1000) reached.\n",
      "  warnings.warn(\"Maximum number of iterations (\" + str(max_iter) +\n"
     ]
    },
    {
     "name": "stdout",
     "output_type": "stream",
     "text": [
      "ROG-6m-loss: 6.235768338067096 \n",
      "\n",
      "ROG-6m-VaR-forecast: [-18.99388144  -3.65140049  -4.53347199 -25.86694805 -33.59593264\n",
      " -15.33259608   2.56943452] \n",
      "\n"
     ]
    },
    {
     "name": "stderr",
     "output_type": "stream",
     "text": [
      "/Users/lluisarull/opt/anaconda3/lib/python3.8/site-packages/statsmodels/regression/quantile_regression.py:191: IterationLimitWarning: Maximum number of iterations (1000) reached.\n",
      "  warnings.warn(\"Maximum number of iterations (\" + str(max_iter) +\n"
     ]
    }
   ],
   "source": [
    "for t in tickers:\n",
    "    loss, var_forecast= rolling_forecast_QR(data, dates6m, t, alpha=0.05, columns_to_exclude= to_exclude3, horizon=6)\n",
    "    print(f'{t}-6m-loss: {loss} \\n')\n",
    "    print(f'{t}-6m-VaR-forecast: {var_forecast} \\n')"
   ]
  },
  {
   "attachments": {},
   "cell_type": "markdown",
   "metadata": {},
   "source": [
    "### 9-step-ahead VaR: 9 months"
   ]
  },
  {
   "cell_type": "code",
   "execution_count": 32,
   "metadata": {},
   "outputs": [
    {
     "name": "stdout",
     "output_type": "stream",
     "text": [
      "AZN-9m-loss: 0.7588362296453004 \n",
      "\n",
      "AZN-9m-VaR-forecast: [-17.4469945   -1.56948889  -9.04659518 -19.60122419] \n",
      "\n"
     ]
    },
    {
     "name": "stderr",
     "output_type": "stream",
     "text": [
      "/Users/lluisarull/opt/anaconda3/lib/python3.8/site-packages/statsmodels/regression/quantile_regression.py:191: IterationLimitWarning: Maximum number of iterations (1000) reached.\n",
      "  warnings.warn(\"Maximum number of iterations (\" + str(max_iter) +\n"
     ]
    },
    {
     "name": "stdout",
     "output_type": "stream",
     "text": [
      "BMY-9m-loss: 0.42818306756635993 \n",
      "\n",
      "BMY-9m-VaR-forecast: [ -4.66694447 -12.45338649 -19.51679855  -7.79808906] \n",
      "\n"
     ]
    },
    {
     "name": "stderr",
     "output_type": "stream",
     "text": [
      "/Users/lluisarull/opt/anaconda3/lib/python3.8/site-packages/statsmodels/regression/quantile_regression.py:191: IterationLimitWarning: Maximum number of iterations (1000) reached.\n",
      "  warnings.warn(\"Maximum number of iterations (\" + str(max_iter) +\n"
     ]
    },
    {
     "name": "stdout",
     "output_type": "stream",
     "text": [
      "JNJ-9m-loss: 1.0955056592331194 \n",
      "\n",
      "JNJ-9m-VaR-forecast: [ -3.51126687  -9.20223486 -11.40287586 -13.42652341] \n",
      "\n",
      "LLY-9m-loss: 0.4721735234067305 \n",
      "\n",
      "LLY-9m-VaR-forecast: [-9.66265944  3.57999185 -7.21439137  0.4158346 ] \n",
      "\n",
      "MRK-9m-loss: 0.5245564185713537 \n",
      "\n",
      "MRK-9m-VaR-forecast: [-10.99815251 -10.16545181  -4.86216381 -11.97971865] \n",
      "\n"
     ]
    },
    {
     "name": "stderr",
     "output_type": "stream",
     "text": [
      "/Users/lluisarull/opt/anaconda3/lib/python3.8/site-packages/statsmodels/regression/quantile_regression.py:191: IterationLimitWarning: Maximum number of iterations (1000) reached.\n",
      "  warnings.warn(\"Maximum number of iterations (\" + str(max_iter) +\n",
      "/Users/lluisarull/opt/anaconda3/lib/python3.8/site-packages/statsmodels/regression/quantile_regression.py:191: IterationLimitWarning: Maximum number of iterations (1000) reached.\n",
      "  warnings.warn(\"Maximum number of iterations (\" + str(max_iter) +\n",
      "/Users/lluisarull/opt/anaconda3/lib/python3.8/site-packages/statsmodels/regression/quantile_regression.py:191: IterationLimitWarning: Maximum number of iterations (1000) reached.\n",
      "  warnings.warn(\"Maximum number of iterations (\" + str(max_iter) +\n"
     ]
    },
    {
     "name": "stdout",
     "output_type": "stream",
     "text": [
      "NVO-9m-loss: 0.609866873425034 \n",
      "\n",
      "NVO-9m-VaR-forecast: [ -7.2883081   -1.13433981  -6.73997139 -17.29205646] \n",
      "\n",
      "NVS-9m-loss: 1.9951008035088333 \n",
      "\n",
      "NVS-9m-VaR-forecast: [ -1.50036463  -7.60377843  -8.4465692  -16.24089709] \n",
      "\n",
      "PFE-9m-loss: 0.34474588866055356 \n",
      "\n",
      "PFE-9m-VaR-forecast: [ -9.3393778   -7.66920177  -7.61958881 -16.58914482] \n",
      "\n",
      "ROG-9m-loss: 2.5412969971931787 \n",
      "\n",
      "ROG-9m-VaR-forecast: [-24.40205621 -34.11069942 -15.30326422   3.86561485] \n",
      "\n"
     ]
    },
    {
     "name": "stderr",
     "output_type": "stream",
     "text": [
      "/Users/lluisarull/opt/anaconda3/lib/python3.8/site-packages/statsmodels/regression/quantile_regression.py:191: IterationLimitWarning: Maximum number of iterations (1000) reached.\n",
      "  warnings.warn(\"Maximum number of iterations (\" + str(max_iter) +\n"
     ]
    }
   ],
   "source": [
    "for t in tickers:\n",
    "    loss, var_forecast= rolling_forecast_QR(data, dates9m, t, alpha=0.05, columns_to_exclude= to_exclude3, horizon=9)\n",
    "    print(f'{t}-9m-loss: {loss} \\n')\n",
    "    print(f'{t}-9m-VaR-forecast: {var_forecast} \\n')"
   ]
  },
  {
   "attachments": {},
   "cell_type": "markdown",
   "metadata": {},
   "source": [
    "### 12-step-ahead VaR: 12 months"
   ]
  },
  {
   "cell_type": "code",
   "execution_count": 33,
   "metadata": {},
   "outputs": [
    {
     "name": "stdout",
     "output_type": "stream",
     "text": [
      "AZN-12m-loss: 0.968967870610338 \n",
      "\n",
      "AZN-12m-VaR-forecast: [-19.57056116] \n",
      "\n",
      "BMY-12m-loss: 0.22741944423489163 \n",
      "\n",
      "BMY-12m-VaR-forecast: [-7.24358276] \n",
      "\n",
      "JNJ-12m-loss: 0.5288247155125285 \n",
      "\n",
      "JNJ-12m-VaR-forecast: [-15.85444335] \n",
      "\n",
      "LLY-12m-loss: 0.5231120245105833 \n",
      "\n",
      "LLY-12m-VaR-forecast: [-1.97438552] \n",
      "\n",
      "MRK-12m-loss: 0.42708236796108534 \n",
      "\n",
      "MRK-12m-VaR-forecast: [-12.92373578] \n",
      "\n"
     ]
    },
    {
     "name": "stderr",
     "output_type": "stream",
     "text": [
      "/Users/lluisarull/opt/anaconda3/lib/python3.8/site-packages/statsmodels/regression/quantile_regression.py:191: IterationLimitWarning: Maximum number of iterations (1000) reached.\n",
      "  warnings.warn(\"Maximum number of iterations (\" + str(max_iter) +\n"
     ]
    },
    {
     "name": "stdout",
     "output_type": "stream",
     "text": [
      "NVO-12m-loss: 0.7084877764693764 \n",
      "\n",
      "NVO-12m-VaR-forecast: [-18.13767089] \n",
      "\n",
      "NVS-12m-loss: 0.5254410833132236 \n",
      "\n",
      "NVS-12m-VaR-forecast: [-16.67046709] \n",
      "\n",
      "PFE-12m-loss: 0.8340529954652492 \n",
      "\n",
      "PFE-12m-VaR-forecast: [-18.91814021] \n",
      "\n",
      "ROG-12m-loss: 7.517352447826903 \n",
      "\n",
      "ROG-12m-VaR-forecast: [5.75084303] \n",
      "\n"
     ]
    }
   ],
   "source": [
    "for t in tickers:\n",
    "    loss, var_forecast= rolling_forecast_QR(data, dates12m, t, alpha=0.05, columns_to_exclude= to_exclude3, horizon=12)\n",
    "    print(f'{t}-12m-loss: {loss} \\n')\n",
    "    print(f'{t}-12m-VaR-forecast: {var_forecast} \\n')"
   ]
  },
  {
   "attachments": {},
   "cell_type": "markdown",
   "metadata": {},
   "source": [
    "### ABBV case"
   ]
  },
  {
   "cell_type": "code",
   "execution_count": 34,
   "metadata": {},
   "outputs": [
    {
     "data": {
      "text/html": [
       "<div>\n",
       "<style scoped>\n",
       "    .dataframe tbody tr th:only-of-type {\n",
       "        vertical-align: middle;\n",
       "    }\n",
       "\n",
       "    .dataframe tbody tr th {\n",
       "        vertical-align: top;\n",
       "    }\n",
       "\n",
       "    .dataframe thead th {\n",
       "        text-align: right;\n",
       "    }\n",
       "</style>\n",
       "<table border=\"1\" class=\"dataframe\">\n",
       "  <thead>\n",
       "    <tr style=\"text-align: right;\">\n",
       "      <th></th>\n",
       "      <th>Date</th>\n",
       "      <th>ABBV</th>\n",
       "    </tr>\n",
       "  </thead>\n",
       "  <tbody>\n",
       "    <tr>\n",
       "      <th>158</th>\n",
       "      <td>2013-03-01</td>\n",
       "      <td>10.455062</td>\n",
       "    </tr>\n",
       "    <tr>\n",
       "      <th>159</th>\n",
       "      <td>2013-04-01</td>\n",
       "      <td>12.922975</td>\n",
       "    </tr>\n",
       "    <tr>\n",
       "      <th>160</th>\n",
       "      <td>2013-05-01</td>\n",
       "      <td>-6.438455</td>\n",
       "    </tr>\n",
       "    <tr>\n",
       "      <th>161</th>\n",
       "      <td>2013-06-01</td>\n",
       "      <td>-3.162299</td>\n",
       "    </tr>\n",
       "    <tr>\n",
       "      <th>162</th>\n",
       "      <td>2013-07-01</td>\n",
       "      <td>10.014486</td>\n",
       "    </tr>\n",
       "    <tr>\n",
       "      <th>...</th>\n",
       "      <td>...</td>\n",
       "      <td>...</td>\n",
       "    </tr>\n",
       "    <tr>\n",
       "      <th>276</th>\n",
       "      <td>2023-01-01</td>\n",
       "      <td>-8.576205</td>\n",
       "    </tr>\n",
       "    <tr>\n",
       "      <th>277</th>\n",
       "      <td>2023-02-01</td>\n",
       "      <td>5.152609</td>\n",
       "    </tr>\n",
       "    <tr>\n",
       "      <th>278</th>\n",
       "      <td>2023-03-01</td>\n",
       "      <td>3.554254</td>\n",
       "    </tr>\n",
       "    <tr>\n",
       "      <th>279</th>\n",
       "      <td>2023-04-01</td>\n",
       "      <td>-5.176628</td>\n",
       "    </tr>\n",
       "    <tr>\n",
       "      <th>280</th>\n",
       "      <td>2023-05-01</td>\n",
       "      <td>-7.868480</td>\n",
       "    </tr>\n",
       "  </tbody>\n",
       "</table>\n",
       "<p>123 rows × 2 columns</p>\n",
       "</div>"
      ],
      "text/plain": [
       "           Date       ABBV\n",
       "158  2013-03-01  10.455062\n",
       "159  2013-04-01  12.922975\n",
       "160  2013-05-01  -6.438455\n",
       "161  2013-06-01  -3.162299\n",
       "162  2013-07-01  10.014486\n",
       "..          ...        ...\n",
       "276  2023-01-01  -8.576205\n",
       "277  2023-02-01   5.152609\n",
       "278  2023-03-01   3.554254\n",
       "279  2023-04-01  -5.176628\n",
       "280  2023-05-01  -7.868480\n",
       "\n",
       "[123 rows x 2 columns]"
      ]
     },
     "execution_count": 34,
     "metadata": {},
     "output_type": "execute_result"
    }
   ],
   "source": [
    "# ABBV case\n",
    "data = pd.read_csv('non_nan.csv', )\n",
    "data2 = pd.read_csv('monthly_data.csv')\n",
    "data_ABBV = data2[['Date', 'ABBV']]\n",
    "data_ABBV = data_ABBV.dropna()\n",
    "data_ABBV"
   ]
  },
  {
   "cell_type": "code",
   "execution_count": 35,
   "metadata": {},
   "outputs": [
    {
     "data": {
      "text/html": [
       "<div>\n",
       "<style scoped>\n",
       "    .dataframe tbody tr th:only-of-type {\n",
       "        vertical-align: middle;\n",
       "    }\n",
       "\n",
       "    .dataframe tbody tr th {\n",
       "        vertical-align: top;\n",
       "    }\n",
       "\n",
       "    .dataframe thead th {\n",
       "        text-align: right;\n",
       "    }\n",
       "</style>\n",
       "<table border=\"1\" class=\"dataframe\">\n",
       "  <thead>\n",
       "    <tr style=\"text-align: right;\">\n",
       "      <th></th>\n",
       "      <th>Date</th>\n",
       "      <th>ABBV</th>\n",
       "      <th>unemployment_rate</th>\n",
       "      <th>CPI</th>\n",
       "      <th>treasury_yield</th>\n",
       "      <th>GDP_growth</th>\n",
       "      <th>SP500_return</th>\n",
       "      <th>AZN</th>\n",
       "      <th>BMY</th>\n",
       "      <th>JNJ</th>\n",
       "      <th>LLY</th>\n",
       "      <th>MRK</th>\n",
       "      <th>NVO</th>\n",
       "      <th>NVS</th>\n",
       "      <th>PFE</th>\n",
       "      <th>ROG</th>\n",
       "      <th>inflation_change</th>\n",
       "      <th>unemp_change</th>\n",
       "      <th>treasury_yield_change</th>\n",
       "    </tr>\n",
       "  </thead>\n",
       "  <tbody>\n",
       "    <tr>\n",
       "      <th>0</th>\n",
       "      <td>2013-03-01</td>\n",
       "      <td>10.455062</td>\n",
       "      <td>7.5</td>\n",
       "      <td>232.282</td>\n",
       "      <td>1.984211</td>\n",
       "      <td>0.397212</td>\n",
       "      <td>3.337507</td>\n",
       "      <td>14.582205</td>\n",
       "      <td>11.414669</td>\n",
       "      <td>7.978126</td>\n",
       "      <td>4.851792</td>\n",
       "      <td>3.440210</td>\n",
       "      <td>-7.714279</td>\n",
       "      <td>9.067089</td>\n",
       "      <td>5.443922</td>\n",
       "      <td>-0.188640</td>\n",
       "      <td>-0.655</td>\n",
       "      <td>-0.2</td>\n",
       "      <td>0.069449</td>\n",
       "    </tr>\n",
       "    <tr>\n",
       "      <th>1</th>\n",
       "      <td>2013-04-01</td>\n",
       "      <td>12.922975</td>\n",
       "      <td>7.6</td>\n",
       "      <td>231.797</td>\n",
       "      <td>1.957500</td>\n",
       "      <td>0.085246</td>\n",
       "      <td>2.374537</td>\n",
       "      <td>3.881563</td>\n",
       "      <td>-3.568848</td>\n",
       "      <td>4.538222</td>\n",
       "      <td>-2.482836</td>\n",
       "      <td>7.359867</td>\n",
       "      <td>11.497419</td>\n",
       "      <td>3.537347</td>\n",
       "      <td>0.727651</td>\n",
       "      <td>-10.457790</td>\n",
       "      <td>-0.485</td>\n",
       "      <td>0.1</td>\n",
       "      <td>-0.026711</td>\n",
       "    </tr>\n",
       "    <tr>\n",
       "      <th>2</th>\n",
       "      <td>2013-05-01</td>\n",
       "      <td>-6.438455</td>\n",
       "      <td>7.5</td>\n",
       "      <td>231.893</td>\n",
       "      <td>1.759091</td>\n",
       "      <td>-0.190605</td>\n",
       "      <td>2.361004</td>\n",
       "      <td>-1.290451</td>\n",
       "      <td>16.816781</td>\n",
       "      <td>-1.231989</td>\n",
       "      <td>-4.008663</td>\n",
       "      <td>-0.638313</td>\n",
       "      <td>-8.792401</td>\n",
       "      <td>-2.711502</td>\n",
       "      <td>-6.329562</td>\n",
       "      <td>8.513136</td>\n",
       "      <td>0.096</td>\n",
       "      <td>-0.1</td>\n",
       "      <td>-0.198409</td>\n",
       "    </tr>\n",
       "    <tr>\n",
       "      <th>3</th>\n",
       "      <td>2013-06-01</td>\n",
       "      <td>-3.162299</td>\n",
       "      <td>7.5</td>\n",
       "      <td>232.445</td>\n",
       "      <td>1.928182</td>\n",
       "      <td>0.620501</td>\n",
       "      <td>-1.853781</td>\n",
       "      <td>-7.707318</td>\n",
       "      <td>-2.868894</td>\n",
       "      <td>2.762464</td>\n",
       "      <td>-6.788137</td>\n",
       "      <td>-0.535372</td>\n",
       "      <td>-3.805087</td>\n",
       "      <td>-1.463219</td>\n",
       "      <td>3.722003</td>\n",
       "      <td>2.269287</td>\n",
       "      <td>0.552</td>\n",
       "      <td>0.0</td>\n",
       "      <td>0.169091</td>\n",
       "    </tr>\n",
       "    <tr>\n",
       "      <th>4</th>\n",
       "      <td>2013-07-01</td>\n",
       "      <td>10.014486</td>\n",
       "      <td>7.3</td>\n",
       "      <td>232.900</td>\n",
       "      <td>2.300000</td>\n",
       "      <td>0.210359</td>\n",
       "      <td>5.724173</td>\n",
       "      <td>7.230424</td>\n",
       "      <td>-3.244595</td>\n",
       "      <td>8.898141</td>\n",
       "      <td>8.122938</td>\n",
       "      <td>4.655361</td>\n",
       "      <td>9.001745</td>\n",
       "      <td>1.272809</td>\n",
       "      <td>4.355584</td>\n",
       "      <td>17.540151</td>\n",
       "      <td>0.455</td>\n",
       "      <td>-0.2</td>\n",
       "      <td>0.371818</td>\n",
       "    </tr>\n",
       "    <tr>\n",
       "      <th>...</th>\n",
       "      <td>...</td>\n",
       "      <td>...</td>\n",
       "      <td>...</td>\n",
       "      <td>...</td>\n",
       "      <td>...</td>\n",
       "      <td>...</td>\n",
       "      <td>...</td>\n",
       "      <td>...</td>\n",
       "      <td>...</td>\n",
       "      <td>...</td>\n",
       "      <td>...</td>\n",
       "      <td>...</td>\n",
       "      <td>...</td>\n",
       "      <td>...</td>\n",
       "      <td>...</td>\n",
       "      <td>...</td>\n",
       "      <td>...</td>\n",
       "      <td>...</td>\n",
       "      <td>...</td>\n",
       "    </tr>\n",
       "    <tr>\n",
       "      <th>118</th>\n",
       "      <td>2023-01-01</td>\n",
       "      <td>-8.576205</td>\n",
       "      <td>3.4</td>\n",
       "      <td>300.536</td>\n",
       "      <td>3.616190</td>\n",
       "      <td>0.390254</td>\n",
       "      <td>6.776820</td>\n",
       "      <td>-3.584079</td>\n",
       "      <td>0.972908</td>\n",
       "      <td>-7.489384</td>\n",
       "      <td>-5.928822</td>\n",
       "      <td>-2.549213</td>\n",
       "      <td>2.541749</td>\n",
       "      <td>-0.110227</td>\n",
       "      <td>-13.817335</td>\n",
       "      <td>16.968326</td>\n",
       "      <td>1.546</td>\n",
       "      <td>-0.1</td>\n",
       "      <td>-0.274810</td>\n",
       "    </tr>\n",
       "    <tr>\n",
       "      <th>119</th>\n",
       "      <td>2023-02-01</td>\n",
       "      <td>5.152609</td>\n",
       "      <td>3.6</td>\n",
       "      <td>301.648</td>\n",
       "      <td>3.531500</td>\n",
       "      <td>-0.442183</td>\n",
       "      <td>-2.514271</td>\n",
       "      <td>-0.290649</td>\n",
       "      <td>-4.328217</td>\n",
       "      <td>-6.217115</td>\n",
       "      <td>-9.568502</td>\n",
       "      <td>-1.089288</td>\n",
       "      <td>1.592445</td>\n",
       "      <td>-7.172811</td>\n",
       "      <td>-7.286115</td>\n",
       "      <td>5.451681</td>\n",
       "      <td>1.112</td>\n",
       "      <td>0.2</td>\n",
       "      <td>-0.084690</td>\n",
       "    </tr>\n",
       "    <tr>\n",
       "      <th>120</th>\n",
       "      <td>2023-03-01</td>\n",
       "      <td>3.554254</td>\n",
       "      <td>3.5</td>\n",
       "      <td>301.808</td>\n",
       "      <td>3.746842</td>\n",
       "      <td>-0.442183</td>\n",
       "      <td>3.313488</td>\n",
       "      <td>8.035329</td>\n",
       "      <td>0.507544</td>\n",
       "      <td>1.862736</td>\n",
       "      <td>10.703390</td>\n",
       "      <td>0.141189</td>\n",
       "      <td>12.873250</td>\n",
       "      <td>9.367574</td>\n",
       "      <td>0.566924</td>\n",
       "      <td>11.025813</td>\n",
       "      <td>0.160</td>\n",
       "      <td>-0.1</td>\n",
       "      <td>0.215342</td>\n",
       "    </tr>\n",
       "    <tr>\n",
       "      <th>121</th>\n",
       "      <td>2023-04-01</td>\n",
       "      <td>-5.176628</td>\n",
       "      <td>3.4</td>\n",
       "      <td>302.918</td>\n",
       "      <td>3.663043</td>\n",
       "      <td>-0.442183</td>\n",
       "      <td>1.985238</td>\n",
       "      <td>5.489119</td>\n",
       "      <td>-3.664707</td>\n",
       "      <td>5.612908</td>\n",
       "      <td>15.269915</td>\n",
       "      <td>9.289214</td>\n",
       "      <td>5.836894</td>\n",
       "      <td>16.334413</td>\n",
       "      <td>-4.681371</td>\n",
       "      <td>-1.517467</td>\n",
       "      <td>1.110</td>\n",
       "      <td>-0.1</td>\n",
       "      <td>-0.083799</td>\n",
       "    </tr>\n",
       "    <tr>\n",
       "      <th>122</th>\n",
       "      <td>2023-05-01</td>\n",
       "      <td>-7.868480</td>\n",
       "      <td>3.7</td>\n",
       "      <td>304.127</td>\n",
       "      <td>3.460000</td>\n",
       "      <td>-0.442183</td>\n",
       "      <td>0.461619</td>\n",
       "      <td>-0.191204</td>\n",
       "      <td>-2.695194</td>\n",
       "      <td>-5.277949</td>\n",
       "      <td>8.487855</td>\n",
       "      <td>-4.382088</td>\n",
       "      <td>-3.967915</td>\n",
       "      <td>-6.161645</td>\n",
       "      <td>-2.237080</td>\n",
       "      <td>-2.162160</td>\n",
       "      <td>0.100</td>\n",
       "      <td>0.3</td>\n",
       "      <td>-0.203043</td>\n",
       "    </tr>\n",
       "  </tbody>\n",
       "</table>\n",
       "<p>123 rows × 19 columns</p>\n",
       "</div>"
      ],
      "text/plain": [
       "           Date       ABBV  unemployment_rate      CPI  treasury_yield  \\\n",
       "0    2013-03-01  10.455062                7.5  232.282        1.984211   \n",
       "1    2013-04-01  12.922975                7.6  231.797        1.957500   \n",
       "2    2013-05-01  -6.438455                7.5  231.893        1.759091   \n",
       "3    2013-06-01  -3.162299                7.5  232.445        1.928182   \n",
       "4    2013-07-01  10.014486                7.3  232.900        2.300000   \n",
       "..          ...        ...                ...      ...             ...   \n",
       "118  2023-01-01  -8.576205                3.4  300.536        3.616190   \n",
       "119  2023-02-01   5.152609                3.6  301.648        3.531500   \n",
       "120  2023-03-01   3.554254                3.5  301.808        3.746842   \n",
       "121  2023-04-01  -5.176628                3.4  302.918        3.663043   \n",
       "122  2023-05-01  -7.868480                3.7  304.127        3.460000   \n",
       "\n",
       "     GDP_growth  SP500_return        AZN        BMY       JNJ        LLY  \\\n",
       "0      0.397212      3.337507  14.582205  11.414669  7.978126   4.851792   \n",
       "1      0.085246      2.374537   3.881563  -3.568848  4.538222  -2.482836   \n",
       "2     -0.190605      2.361004  -1.290451  16.816781 -1.231989  -4.008663   \n",
       "3      0.620501     -1.853781  -7.707318  -2.868894  2.762464  -6.788137   \n",
       "4      0.210359      5.724173   7.230424  -3.244595  8.898141   8.122938   \n",
       "..          ...           ...        ...        ...       ...        ...   \n",
       "118    0.390254      6.776820  -3.584079   0.972908 -7.489384  -5.928822   \n",
       "119   -0.442183     -2.514271  -0.290649  -4.328217 -6.217115  -9.568502   \n",
       "120   -0.442183      3.313488   8.035329   0.507544  1.862736  10.703390   \n",
       "121   -0.442183      1.985238   5.489119  -3.664707  5.612908  15.269915   \n",
       "122   -0.442183      0.461619  -0.191204  -2.695194 -5.277949   8.487855   \n",
       "\n",
       "          MRK        NVO        NVS        PFE        ROG  inflation_change  \\\n",
       "0    3.440210  -7.714279   9.067089   5.443922  -0.188640            -0.655   \n",
       "1    7.359867  11.497419   3.537347   0.727651 -10.457790            -0.485   \n",
       "2   -0.638313  -8.792401  -2.711502  -6.329562   8.513136             0.096   \n",
       "3   -0.535372  -3.805087  -1.463219   3.722003   2.269287             0.552   \n",
       "4    4.655361   9.001745   1.272809   4.355584  17.540151             0.455   \n",
       "..        ...        ...        ...        ...        ...               ...   \n",
       "118 -2.549213   2.541749  -0.110227 -13.817335  16.968326             1.546   \n",
       "119 -1.089288   1.592445  -7.172811  -7.286115   5.451681             1.112   \n",
       "120  0.141189  12.873250   9.367574   0.566924  11.025813             0.160   \n",
       "121  9.289214   5.836894  16.334413  -4.681371  -1.517467             1.110   \n",
       "122 -4.382088  -3.967915  -6.161645  -2.237080  -2.162160             0.100   \n",
       "\n",
       "     unemp_change  treasury_yield_change  \n",
       "0            -0.2               0.069449  \n",
       "1             0.1              -0.026711  \n",
       "2            -0.1              -0.198409  \n",
       "3             0.0               0.169091  \n",
       "4            -0.2               0.371818  \n",
       "..            ...                    ...  \n",
       "118          -0.1              -0.274810  \n",
       "119           0.2              -0.084690  \n",
       "120          -0.1               0.215342  \n",
       "121          -0.1              -0.083799  \n",
       "122           0.3              -0.203043  \n",
       "\n",
       "[123 rows x 19 columns]"
      ]
     },
     "execution_count": 35,
     "metadata": {},
     "output_type": "execute_result"
    }
   ],
   "source": [
    "merged_df = data_ABBV.merge(data, on='Date', how='inner')\n",
    "merged_df"
   ]
  },
  {
   "cell_type": "code",
   "execution_count": 36,
   "metadata": {},
   "outputs": [
    {
     "data": {
      "text/plain": [
       "Index(['Date', 'ABBV', 'unemployment_rate', 'CPI', 'treasury_yield',\n",
       "       'GDP_growth', 'SP500_return', 'AZN', 'BMY', 'JNJ', 'LLY', 'MRK', 'NVO',\n",
       "       'NVS', 'PFE', 'ROG', 'inflation_change', 'unemp_change',\n",
       "       'treasury_yield_change'],\n",
       "      dtype='object')"
      ]
     },
     "execution_count": 36,
     "metadata": {},
     "output_type": "execute_result"
    }
   ],
   "source": [
    "merged_df.columns"
   ]
  },
  {
   "cell_type": "code",
   "execution_count": 37,
   "metadata": {},
   "outputs": [],
   "source": [
    "# Creating lagged variables\n",
    "tickers_plus_ABBV = ['ABBV', 'AZN', 'BMY', 'JNJ', 'LLY', 'MRK', 'NVO', 'NVS', 'PFE','ROG']\n",
    "covs = ['unemployment_rate', 'CPI', 'treasury_yield', 'GDP_growth', 'SP500_return', 'inflation_change', 'unemp_change', 'treasury_yield_change']\n",
    "period_covs = [1, 2, 3]\n",
    "period_returns = [1,2]\n",
    "\n",
    "merged_df, lagged_covs = create_lags_cov(merged_df, covs, period=period_covs)\n",
    "merged_df, lagged_tickers = create_lags_returns(merged_df, tickers_plus_ABBV, period= period_returns)"
   ]
  },
  {
   "cell_type": "code",
   "execution_count": 38,
   "metadata": {},
   "outputs": [],
   "source": [
    "# Creating dummy variables\n",
    "merged_df['Quater_dummy'] = 0\n",
    "merged_df['Quater_rippel'] = 0\n",
    "merged_df['Date'] = pd.to_datetime(merged_df['Date'])\n",
    "for index, row in merged_df.iterrows():\n",
    "    if row['Date'].month in [3, 6, 9, 12]:\n",
    "        merged_df.loc[index, 'Quater_dummy'] = 1\n",
    "    if row['Date'].month in [1, 4, 7, 10]:\n",
    "        merged_df.loc[index, 'Quater_dummy'] = 1"
   ]
  },
  {
   "cell_type": "code",
   "execution_count": 39,
   "metadata": {},
   "outputs": [
    {
     "data": {
      "text/plain": [
       "Index(['Date', 'ABBV', 'unemployment_rate', 'CPI', 'treasury_yield',\n",
       "       'GDP_growth', 'SP500_return', 'AZN', 'BMY', 'JNJ', 'LLY', 'MRK', 'NVO',\n",
       "       'NVS', 'PFE', 'ROG', 'inflation_change', 'unemp_change',\n",
       "       'treasury_yield_change', 'unemployment_rate_lag1',\n",
       "       'unemployment_rate_lag2', 'unemployment_rate_lag3', 'CPI_lag1',\n",
       "       'CPI_lag2', 'CPI_lag3', 'treasury_yield_lag1', 'treasury_yield_lag2',\n",
       "       'treasury_yield_lag3', 'GDP_growth_lag1', 'GDP_growth_lag2',\n",
       "       'GDP_growth_lag3', 'SP500_return_lag1', 'SP500_return_lag2',\n",
       "       'SP500_return_lag3', 'inflation_change_lag1', 'inflation_change_lag2',\n",
       "       'inflation_change_lag3', 'unemp_change_lag1', 'unemp_change_lag2',\n",
       "       'unemp_change_lag3', 'treasury_yield_change_lag1',\n",
       "       'treasury_yield_change_lag2', 'treasury_yield_change_lag3', 'ABBV_lag1',\n",
       "       'ABBV_lag2', 'AZN_lag1', 'AZN_lag2', 'BMY_lag1', 'BMY_lag2', 'JNJ_lag1',\n",
       "       'JNJ_lag2', 'LLY_lag1', 'LLY_lag2', 'MRK_lag1', 'MRK_lag2', 'NVO_lag1',\n",
       "       'NVO_lag2', 'NVS_lag1', 'NVS_lag2', 'PFE_lag1', 'PFE_lag2', 'ROG_lag1',\n",
       "       'ROG_lag2', 'Quater_dummy', 'Quater_rippel'],\n",
       "      dtype='object')"
      ]
     },
     "execution_count": 39,
     "metadata": {},
     "output_type": "execute_result"
    }
   ],
   "source": [
    "merged_df.columns"
   ]
  },
  {
   "attachments": {},
   "cell_type": "markdown",
   "metadata": {},
   "source": [
    "## 1. Macros Only"
   ]
  },
  {
   "cell_type": "code",
   "execution_count": 40,
   "metadata": {},
   "outputs": [],
   "source": [
    "to_exclude = []\n",
    "\n",
    "for t in tickers_plus_ABBV:\n",
    "    to_exclude.append(t)\n",
    "    to_exclude.append(f'{t}_lag1')\n",
    "    to_exclude.append(f'{t}_lag2')\n",
    "\n",
    "for covariate in covs:\n",
    "    to_exclude.append(covariate)\n",
    "\n",
    "to_exclude.append('Date')"
   ]
  },
  {
   "cell_type": "code",
   "execution_count": 41,
   "metadata": {},
   "outputs": [
    {
     "data": {
      "text/plain": [
       "['ABBV',\n",
       " 'ABBV_lag1',\n",
       " 'ABBV_lag2',\n",
       " 'AZN',\n",
       " 'AZN_lag1',\n",
       " 'AZN_lag2',\n",
       " 'BMY',\n",
       " 'BMY_lag1',\n",
       " 'BMY_lag2',\n",
       " 'JNJ',\n",
       " 'JNJ_lag1',\n",
       " 'JNJ_lag2',\n",
       " 'LLY',\n",
       " 'LLY_lag1',\n",
       " 'LLY_lag2',\n",
       " 'MRK',\n",
       " 'MRK_lag1',\n",
       " 'MRK_lag2',\n",
       " 'NVO',\n",
       " 'NVO_lag1',\n",
       " 'NVO_lag2',\n",
       " 'NVS',\n",
       " 'NVS_lag1',\n",
       " 'NVS_lag2',\n",
       " 'PFE',\n",
       " 'PFE_lag1',\n",
       " 'PFE_lag2',\n",
       " 'ROG',\n",
       " 'ROG_lag1',\n",
       " 'ROG_lag2',\n",
       " 'unemployment_rate',\n",
       " 'CPI',\n",
       " 'treasury_yield',\n",
       " 'GDP_growth',\n",
       " 'SP500_return',\n",
       " 'inflation_change',\n",
       " 'unemp_change',\n",
       " 'treasury_yield_change',\n",
       " 'Date']"
      ]
     },
     "execution_count": 41,
     "metadata": {},
     "output_type": "execute_result"
    }
   ],
   "source": [
    "to_exclude"
   ]
  },
  {
   "cell_type": "code",
   "execution_count": 42,
   "metadata": {},
   "outputs": [
    {
     "name": "stdout",
     "output_type": "stream",
     "text": [
      "ABBV-1m-loss: 4.782185318909551\n",
      "ABBV-VaR-forecast: [  2.77583725 -26.93521843 -53.60174967   4.43696992 -25.35723454\n",
      " -19.46358922 -30.19267762   1.94465376 -35.00874661 -34.00877753\n",
      " -26.85143956  -9.47939362] \n",
      "\n",
      "ABBV-3m-loss: 4.514328864075574\n",
      "ABBV-VaR-forecast: [-68.85500662  -3.01840718 -31.7276059  -21.18952869 -18.76223409\n",
      " -25.49171026 -30.80299228 -35.4299672  -27.16738699  -9.86774986] \n",
      "\n",
      "ABBV-6m-loss: 5.683615073735392\n",
      "ABBV-VaR-forecast: [-20.9966639  -25.37303352 -20.67721695 -33.46762665 -23.03799114\n",
      " -21.20369739 -12.03464014] \n",
      "\n",
      "ABBV-9m-loss: 1.257969160266317\n",
      "ABBV-VaR-forecast: [-31.7132149  -29.74639772 -20.52782803  -5.85222538] \n",
      "\n",
      "ABBV-12m-loss: 0.055897853650856935\n",
      "ABBV-VaR-forecast: [-3.28011662] \n",
      "\n"
     ]
    }
   ],
   "source": [
    "# 1 month\n",
    "loss, var_forecast = rolling_forecast_QR(merged_df, dates1m, t, alpha=0.05, columns_to_exclude=to_exclude, horizon=1)\n",
    "print('ABBV-1m-loss:', loss)\n",
    "print('ABBV-VaR-forecast:', var_forecast, '\\n')\n",
    "\n",
    "# 3 months\n",
    "loss, var_forecast = rolling_forecast_QR(merged_df, dates3m, t, alpha=0.05, columns_to_exclude=to_exclude, horizon=3)\n",
    "print('ABBV-3m-loss:', loss)\n",
    "print('ABBV-VaR-forecast:', var_forecast, '\\n')\n",
    "\n",
    "# 6 months\n",
    "loss, var_forecast = rolling_forecast_QR(merged_df, dates6m, t, alpha=0.05, columns_to_exclude=to_exclude, horizon=6)\n",
    "print('ABBV-6m-loss:', loss)\n",
    "print('ABBV-VaR-forecast:', var_forecast, '\\n')\n",
    "\n",
    "# 9 months\n",
    "loss, var_forecast = rolling_forecast_QR(merged_df, dates9m, t, alpha=0.05, columns_to_exclude=to_exclude, horizon=9)\n",
    "print('ABBV-9m-loss:', loss)\n",
    "print('ABBV-VaR-forecast:', var_forecast, '\\n')\n",
    "\n",
    "# 12 months\n",
    "loss, var_forecast = rolling_forecast_QR(merged_df, dates12m, t, alpha=0.05, columns_to_exclude=to_exclude, horizon=12)\n",
    "print('ABBV-12m-loss:', loss)\n",
    "print('ABBV-VaR-forecast:', var_forecast, '\\n')"
   ]
  },
  {
   "attachments": {},
   "cell_type": "markdown",
   "metadata": {},
   "source": [
    "## 2. Ticker data"
   ]
  },
  {
   "cell_type": "code",
   "execution_count": 43,
   "metadata": {},
   "outputs": [],
   "source": [
    "merged_df_stocks = merged_df.copy()\n",
    "to_exclude2 = []\n",
    "\n",
    "for covariate in covs:\n",
    "    to_exclude2.append(covariate)\n",
    "    to_exclude2.append(f'{covariate}_lag1')\n",
    "    to_exclude2.append(f'{covariate}_lag2')\n",
    "    to_exclude2.append(f'{covariate}_lag3')\n",
    "\n",
    "for t in tickers:\n",
    "    to_exclude2.append(t)\n",
    "\n",
    "to_exclude2.append('Date')"
   ]
  },
  {
   "cell_type": "code",
   "execution_count": 44,
   "metadata": {},
   "outputs": [
    {
     "name": "stdout",
     "output_type": "stream",
     "text": [
      "ABBV-1m-loss: 7.039900848504534\n",
      "ABBV-VaR-forecast: [-17.05779787  -6.12790215   3.19600884 -17.15165135  13.66659465\n",
      "  -5.97456171 -49.23385431  -7.07510827 -11.23153136 -11.91322051\n",
      " -12.39005317   3.51396232] \n",
      "\n",
      "ABBV-3m-loss: 9.196029743007568\n",
      "ABBV-VaR-forecast: [  3.25900652 -19.11352723  13.35262281   2.81043908 -49.11451304\n",
      " -15.28728424 -15.02825911 -10.22287613 -12.39005681   3.51396201] \n",
      "\n",
      "ABBV-6m-loss: 8.877834841576348\n",
      "ABBV-VaR-forecast: [  0.34578215 -46.00088927 -24.77626214  -4.98889052   2.43683167\n",
      " -16.01174152   2.36286083] \n",
      "\n",
      "ABBV-9m-loss: 0.7361173146709912\n",
      "ABBV-VaR-forecast: [ -6.15400917  -3.01232673  -8.50473254 -28.42044995] \n",
      "\n",
      "ABBV-12m-loss: 0.7103550017157684\n",
      "ABBV-VaR-forecast: [-16.36925958] \n",
      "\n"
     ]
    }
   ],
   "source": [
    "# 1 month\n",
    "loss, var_forecast = rolling_forecast_QR(merged_df, dates1m, t, alpha=0.05, columns_to_exclude=to_exclude2, horizon=1)\n",
    "print('ABBV-1m-loss:', loss)\n",
    "print('ABBV-VaR-forecast:', var_forecast, '\\n')\n",
    "\n",
    "# 3 months\n",
    "loss, var_forecast = rolling_forecast_QR(merged_df, dates3m, t, alpha=0.05, columns_to_exclude=to_exclude2, horizon=3)\n",
    "print('ABBV-3m-loss:', loss)\n",
    "print('ABBV-VaR-forecast:', var_forecast, '\\n')\n",
    "\n",
    "# 6 months\n",
    "loss, var_forecast = rolling_forecast_QR(merged_df, dates6m, t, alpha=0.05, columns_to_exclude=to_exclude2, horizon=6)\n",
    "print('ABBV-6m-loss:', loss)\n",
    "print('ABBV-VaR-forecast:', var_forecast, '\\n')\n",
    "\n",
    "# 9 months\n",
    "loss, var_forecast = rolling_forecast_QR(merged_df, dates9m, t, alpha=0.05, columns_to_exclude=to_exclude2, horizon=9)\n",
    "print('ABBV-9m-loss:', loss)\n",
    "print('ABBV-VaR-forecast:', var_forecast, '\\n')\n",
    "\n",
    "# 12 months\n",
    "loss, var_forecast = rolling_forecast_QR(merged_df, dates12m, t, alpha=0.05, columns_to_exclude=to_exclude2, horizon=12)\n",
    "print('ABBV-12m-loss:', loss)\n",
    "print('ABBV-VaR-forecast:', var_forecast, '\\n')"
   ]
  },
  {
   "attachments": {},
   "cell_type": "markdown",
   "metadata": {},
   "source": [
    "## 3. All Covariates"
   ]
  },
  {
   "cell_type": "code",
   "execution_count": 45,
   "metadata": {},
   "outputs": [],
   "source": [
    "merged_df_covs = merged_df.copy()\n",
    "to_exclude3 = ['Date']\n",
    "\n",
    "for covariate in covs:\n",
    "    to_exclude3.append(covariate)\n",
    "\n",
    "for t in tickers:\n",
    "    to_exclude3.append(t)"
   ]
  },
  {
   "cell_type": "code",
   "execution_count": 46,
   "metadata": {},
   "outputs": [
    {
     "name": "stdout",
     "output_type": "stream",
     "text": [
      "ABBV-1m-loss: 7.6361497537910905\n",
      "ABBV-VaR-forecast: [  4.39953005  -2.70537872 -45.44563145  24.334506     1.49622455\n",
      "  -6.82829454 -40.77738076  -0.91738769 -40.82931767 -22.37837885\n",
      " -24.93663504 -14.89061286] \n",
      "\n",
      "ABBV-3m-loss: 8.688662589879034\n",
      "ABBV-VaR-forecast: [-49.14470758  24.7416907   -3.26911418  -3.72590457 -48.91466296\n",
      " -23.40584803 -31.63675074 -18.1861908  -30.26248506 -18.90092113] \n",
      "\n",
      "ABBV-6m-loss: 8.001989931526108\n",
      "ABBV-VaR-forecast: [ -2.88457726 -33.96841251 -15.09819064 -22.66027755 -10.78522662\n",
      " -14.99585613 -18.72907641] \n",
      "\n",
      "ABBV-9m-loss: 0.8611929781566767\n",
      "ABBV-VaR-forecast: [-23.1526601  -10.18325879 -15.17830576  -7.58334683] \n",
      "\n",
      "ABBV-12m-loss: 0.23149877259768045\n",
      "ABBV-VaR-forecast: [-6.792135] \n",
      "\n"
     ]
    }
   ],
   "source": [
    "# 1 month\n",
    "loss, var_forecast = rolling_forecast_QR(merged_df, dates1m, t, alpha=0.05, columns_to_exclude=to_exclude3, horizon=1)\n",
    "print('ABBV-1m-loss:', loss)\n",
    "print('ABBV-VaR-forecast:', var_forecast, '\\n')\n",
    "\n",
    "# 3 months\n",
    "loss, var_forecast = rolling_forecast_QR(merged_df, dates3m, t, alpha=0.05, columns_to_exclude=to_exclude3, horizon=3)\n",
    "print('ABBV-3m-loss:', loss)\n",
    "print('ABBV-VaR-forecast:', var_forecast, '\\n')\n",
    "\n",
    "# 6 months\n",
    "loss, var_forecast = rolling_forecast_QR(merged_df, dates6m, t, alpha=0.05, columns_to_exclude=to_exclude3, horizon=6)\n",
    "print('ABBV-6m-loss:', loss)\n",
    "print('ABBV-VaR-forecast:', var_forecast, '\\n')\n",
    "\n",
    "# 9 months\n",
    "loss, var_forecast = rolling_forecast_QR(merged_df, dates9m, t, alpha=0.05, columns_to_exclude=to_exclude3, horizon=9)\n",
    "print('ABBV-9m-loss:', loss)\n",
    "print('ABBV-VaR-forecast:', var_forecast, '\\n')\n",
    "\n",
    "# 12 months\n",
    "loss, var_forecast = rolling_forecast_QR(merged_df, dates12m, t, alpha=0.05, columns_to_exclude=to_exclude3, horizon=12)\n",
    "print('ABBV-12m-loss:', loss)\n",
    "print('ABBV-VaR-forecast:', var_forecast, '\\n')"
   ]
  }
 ],
 "metadata": {
  "kernelspec": {
   "display_name": "base",
   "language": "python",
   "name": "python3"
  },
  "language_info": {
   "codemirror_mode": {
    "name": "ipython",
    "version": 3
   },
   "file_extension": ".py",
   "mimetype": "text/x-python",
   "name": "python",
   "nbconvert_exporter": "python",
   "pygments_lexer": "ipython3",
   "version": "3.8.16"
  },
  "orig_nbformat": 4
 },
 "nbformat": 4,
 "nbformat_minor": 2
}
