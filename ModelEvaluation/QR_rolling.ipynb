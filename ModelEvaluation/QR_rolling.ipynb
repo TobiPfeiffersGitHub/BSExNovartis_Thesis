{
 "cells": [
  {
   "cell_type": "code",
   "execution_count": 1,
   "metadata": {},
   "outputs": [],
   "source": [
    "import pandas as pd\n",
    "import numpy as np\n",
    "import statsmodels.api as sm\n",
    "import statsmodels.formula.api as smf\n",
    "from sklearn.model_selection import TimeSeriesSplit"
   ]
  },
  {
   "attachments": {},
   "cell_type": "markdown",
   "metadata": {},
   "source": [
    "## QUANTILE REGRESSION"
   ]
  },
  {
   "cell_type": "code",
   "execution_count": 2,
   "metadata": {},
   "outputs": [
    {
     "data": {
      "text/html": [
       "<div>\n",
       "<style scoped>\n",
       "    .dataframe tbody tr th:only-of-type {\n",
       "        vertical-align: middle;\n",
       "    }\n",
       "\n",
       "    .dataframe tbody tr th {\n",
       "        vertical-align: top;\n",
       "    }\n",
       "\n",
       "    .dataframe thead th {\n",
       "        text-align: right;\n",
       "    }\n",
       "</style>\n",
       "<table border=\"1\" class=\"dataframe\">\n",
       "  <thead>\n",
       "    <tr style=\"text-align: right;\">\n",
       "      <th></th>\n",
       "      <th>Date</th>\n",
       "      <th>unemployment_rate</th>\n",
       "      <th>CPI</th>\n",
       "      <th>treasury_yield</th>\n",
       "      <th>GDP_growth</th>\n",
       "      <th>SP500_return</th>\n",
       "      <th>AZN</th>\n",
       "      <th>BMY</th>\n",
       "      <th>JNJ</th>\n",
       "      <th>LLY</th>\n",
       "      <th>MRK</th>\n",
       "      <th>NVO</th>\n",
       "      <th>NVS</th>\n",
       "      <th>PFE</th>\n",
       "      <th>ROG</th>\n",
       "      <th>inflation_change</th>\n",
       "      <th>unemp_change</th>\n",
       "      <th>treasury_yield_change</th>\n",
       "    </tr>\n",
       "  </thead>\n",
       "  <tbody>\n",
       "    <tr>\n",
       "      <th>0</th>\n",
       "      <td>2000-02-01</td>\n",
       "      <td>4.1</td>\n",
       "      <td>170.000</td>\n",
       "      <td>6.661000</td>\n",
       "      <td>0.496560</td>\n",
       "      <td>-1.522563</td>\n",
       "      <td>-12.828964</td>\n",
       "      <td>-13.228004</td>\n",
       "      <td>-16.339821</td>\n",
       "      <td>-11.121498</td>\n",
       "      <td>-21.701151</td>\n",
       "      <td>2.220031</td>\n",
       "      <td>3.838386</td>\n",
       "      <td>-11.226228</td>\n",
       "      <td>54.440789</td>\n",
       "      <td>1.000</td>\n",
       "      <td>-0.1</td>\n",
       "      <td>-0.141500</td>\n",
       "    </tr>\n",
       "    <tr>\n",
       "      <th>1</th>\n",
       "      <td>2000-03-01</td>\n",
       "      <td>4.0</td>\n",
       "      <td>171.000</td>\n",
       "      <td>6.519500</td>\n",
       "      <td>0.511258</td>\n",
       "      <td>9.413333</td>\n",
       "      <td>22.264136</td>\n",
       "      <td>-0.218329</td>\n",
       "      <td>-2.079067</td>\n",
       "      <td>5.804243</td>\n",
       "      <td>0.913712</td>\n",
       "      <td>8.390897</td>\n",
       "      <td>6.420237</td>\n",
       "      <td>14.101954</td>\n",
       "      <td>6.922258</td>\n",
       "      <td>1.000</td>\n",
       "      <td>-0.1</td>\n",
       "      <td>-0.141500</td>\n",
       "    </tr>\n",
       "    <tr>\n",
       "      <th>2</th>\n",
       "      <td>2000-04-01</td>\n",
       "      <td>3.8</td>\n",
       "      <td>170.900</td>\n",
       "      <td>6.256522</td>\n",
       "      <td>1.327803</td>\n",
       "      <td>-3.266805</td>\n",
       "      <td>5.567379</td>\n",
       "      <td>-8.205683</td>\n",
       "      <td>17.437698</td>\n",
       "      <td>23.153694</td>\n",
       "      <td>12.400712</td>\n",
       "      <td>-0.097663</td>\n",
       "      <td>2.559423</td>\n",
       "      <td>15.213674</td>\n",
       "      <td>7.370518</td>\n",
       "      <td>-0.100</td>\n",
       "      <td>-0.2</td>\n",
       "      <td>-0.262978</td>\n",
       "    </tr>\n",
       "    <tr>\n",
       "      <th>3</th>\n",
       "      <td>2000-05-01</td>\n",
       "      <td>4.0</td>\n",
       "      <td>171.200</td>\n",
       "      <td>5.990526</td>\n",
       "      <td>-0.181797</td>\n",
       "      <td>-1.572223</td>\n",
       "      <td>-0.148357</td>\n",
       "      <td>5.395746</td>\n",
       "      <td>8.484832</td>\n",
       "      <td>-1.296597</td>\n",
       "      <td>7.374072</td>\n",
       "      <td>20.863985</td>\n",
       "      <td>5.169310</td>\n",
       "      <td>5.638019</td>\n",
       "      <td>-8.163265</td>\n",
       "      <td>0.300</td>\n",
       "      <td>0.2</td>\n",
       "      <td>-0.265995</td>\n",
       "    </tr>\n",
       "    <tr>\n",
       "      <th>4</th>\n",
       "      <td>2000-06-01</td>\n",
       "      <td>4.0</td>\n",
       "      <td>172.200</td>\n",
       "      <td>6.440455</td>\n",
       "      <td>0.305565</td>\n",
       "      <td>1.728613</td>\n",
       "      <td>10.549735</td>\n",
       "      <td>5.788826</td>\n",
       "      <td>14.239888</td>\n",
       "      <td>31.641749</td>\n",
       "      <td>3.078671</td>\n",
       "      <td>2.813690</td>\n",
       "      <td>8.474599</td>\n",
       "      <td>8.076012</td>\n",
       "      <td>13.131313</td>\n",
       "      <td>1.000</td>\n",
       "      <td>0.0</td>\n",
       "      <td>0.449928</td>\n",
       "    </tr>\n",
       "    <tr>\n",
       "      <th>...</th>\n",
       "      <td>...</td>\n",
       "      <td>...</td>\n",
       "      <td>...</td>\n",
       "      <td>...</td>\n",
       "      <td>...</td>\n",
       "      <td>...</td>\n",
       "      <td>...</td>\n",
       "      <td>...</td>\n",
       "      <td>...</td>\n",
       "      <td>...</td>\n",
       "      <td>...</td>\n",
       "      <td>...</td>\n",
       "      <td>...</td>\n",
       "      <td>...</td>\n",
       "      <td>...</td>\n",
       "      <td>...</td>\n",
       "      <td>...</td>\n",
       "      <td>...</td>\n",
       "    </tr>\n",
       "    <tr>\n",
       "      <th>275</th>\n",
       "      <td>2023-01-01</td>\n",
       "      <td>3.4</td>\n",
       "      <td>300.536</td>\n",
       "      <td>3.616190</td>\n",
       "      <td>0.390254</td>\n",
       "      <td>6.776820</td>\n",
       "      <td>-3.584079</td>\n",
       "      <td>0.972908</td>\n",
       "      <td>-7.489384</td>\n",
       "      <td>-5.928822</td>\n",
       "      <td>-2.549213</td>\n",
       "      <td>2.541749</td>\n",
       "      <td>-0.110227</td>\n",
       "      <td>-13.817335</td>\n",
       "      <td>16.968326</td>\n",
       "      <td>1.546</td>\n",
       "      <td>-0.1</td>\n",
       "      <td>-0.274810</td>\n",
       "    </tr>\n",
       "    <tr>\n",
       "      <th>276</th>\n",
       "      <td>2023-02-01</td>\n",
       "      <td>3.6</td>\n",
       "      <td>301.648</td>\n",
       "      <td>3.531500</td>\n",
       "      <td>-0.442183</td>\n",
       "      <td>-2.514271</td>\n",
       "      <td>-0.290649</td>\n",
       "      <td>-4.328217</td>\n",
       "      <td>-6.217115</td>\n",
       "      <td>-9.568502</td>\n",
       "      <td>-1.089288</td>\n",
       "      <td>1.592445</td>\n",
       "      <td>-7.172811</td>\n",
       "      <td>-7.286115</td>\n",
       "      <td>5.451681</td>\n",
       "      <td>1.112</td>\n",
       "      <td>0.2</td>\n",
       "      <td>-0.084690</td>\n",
       "    </tr>\n",
       "    <tr>\n",
       "      <th>277</th>\n",
       "      <td>2023-03-01</td>\n",
       "      <td>3.5</td>\n",
       "      <td>301.808</td>\n",
       "      <td>3.746842</td>\n",
       "      <td>-0.442183</td>\n",
       "      <td>3.313488</td>\n",
       "      <td>8.035329</td>\n",
       "      <td>0.507544</td>\n",
       "      <td>1.862736</td>\n",
       "      <td>10.703390</td>\n",
       "      <td>0.141189</td>\n",
       "      <td>12.873250</td>\n",
       "      <td>9.367574</td>\n",
       "      <td>0.566924</td>\n",
       "      <td>11.025813</td>\n",
       "      <td>0.160</td>\n",
       "      <td>-0.1</td>\n",
       "      <td>0.215342</td>\n",
       "    </tr>\n",
       "    <tr>\n",
       "      <th>278</th>\n",
       "      <td>2023-04-01</td>\n",
       "      <td>3.4</td>\n",
       "      <td>302.918</td>\n",
       "      <td>3.663043</td>\n",
       "      <td>-0.442183</td>\n",
       "      <td>1.985238</td>\n",
       "      <td>5.489119</td>\n",
       "      <td>-3.664707</td>\n",
       "      <td>5.612908</td>\n",
       "      <td>15.269915</td>\n",
       "      <td>9.289214</td>\n",
       "      <td>5.836894</td>\n",
       "      <td>16.334413</td>\n",
       "      <td>-4.681371</td>\n",
       "      <td>-1.517467</td>\n",
       "      <td>1.110</td>\n",
       "      <td>-0.1</td>\n",
       "      <td>-0.083799</td>\n",
       "    </tr>\n",
       "    <tr>\n",
       "      <th>279</th>\n",
       "      <td>2023-05-01</td>\n",
       "      <td>3.7</td>\n",
       "      <td>304.127</td>\n",
       "      <td>3.460000</td>\n",
       "      <td>-0.442183</td>\n",
       "      <td>0.461619</td>\n",
       "      <td>-0.191204</td>\n",
       "      <td>-2.695194</td>\n",
       "      <td>-5.277949</td>\n",
       "      <td>8.487855</td>\n",
       "      <td>-4.382088</td>\n",
       "      <td>-3.967915</td>\n",
       "      <td>-6.161645</td>\n",
       "      <td>-2.237080</td>\n",
       "      <td>-2.162160</td>\n",
       "      <td>0.100</td>\n",
       "      <td>0.3</td>\n",
       "      <td>-0.203043</td>\n",
       "    </tr>\n",
       "  </tbody>\n",
       "</table>\n",
       "<p>280 rows × 18 columns</p>\n",
       "</div>"
      ],
      "text/plain": [
       "           Date  unemployment_rate      CPI  treasury_yield  GDP_growth  \\\n",
       "0    2000-02-01                4.1  170.000        6.661000    0.496560   \n",
       "1    2000-03-01                4.0  171.000        6.519500    0.511258   \n",
       "2    2000-04-01                3.8  170.900        6.256522    1.327803   \n",
       "3    2000-05-01                4.0  171.200        5.990526   -0.181797   \n",
       "4    2000-06-01                4.0  172.200        6.440455    0.305565   \n",
       "..          ...                ...      ...             ...         ...   \n",
       "275  2023-01-01                3.4  300.536        3.616190    0.390254   \n",
       "276  2023-02-01                3.6  301.648        3.531500   -0.442183   \n",
       "277  2023-03-01                3.5  301.808        3.746842   -0.442183   \n",
       "278  2023-04-01                3.4  302.918        3.663043   -0.442183   \n",
       "279  2023-05-01                3.7  304.127        3.460000   -0.442183   \n",
       "\n",
       "     SP500_return        AZN        BMY        JNJ        LLY        MRK  \\\n",
       "0       -1.522563 -12.828964 -13.228004 -16.339821 -11.121498 -21.701151   \n",
       "1        9.413333  22.264136  -0.218329  -2.079067   5.804243   0.913712   \n",
       "2       -3.266805   5.567379  -8.205683  17.437698  23.153694  12.400712   \n",
       "3       -1.572223  -0.148357   5.395746   8.484832  -1.296597   7.374072   \n",
       "4        1.728613  10.549735   5.788826  14.239888  31.641749   3.078671   \n",
       "..            ...        ...        ...        ...        ...        ...   \n",
       "275      6.776820  -3.584079   0.972908  -7.489384  -5.928822  -2.549213   \n",
       "276     -2.514271  -0.290649  -4.328217  -6.217115  -9.568502  -1.089288   \n",
       "277      3.313488   8.035329   0.507544   1.862736  10.703390   0.141189   \n",
       "278      1.985238   5.489119  -3.664707   5.612908  15.269915   9.289214   \n",
       "279      0.461619  -0.191204  -2.695194  -5.277949   8.487855  -4.382088   \n",
       "\n",
       "           NVO        NVS        PFE        ROG  inflation_change  \\\n",
       "0     2.220031   3.838386 -11.226228  54.440789             1.000   \n",
       "1     8.390897   6.420237  14.101954   6.922258             1.000   \n",
       "2    -0.097663   2.559423  15.213674   7.370518            -0.100   \n",
       "3    20.863985   5.169310   5.638019  -8.163265             0.300   \n",
       "4     2.813690   8.474599   8.076012  13.131313             1.000   \n",
       "..         ...        ...        ...        ...               ...   \n",
       "275   2.541749  -0.110227 -13.817335  16.968326             1.546   \n",
       "276   1.592445  -7.172811  -7.286115   5.451681             1.112   \n",
       "277  12.873250   9.367574   0.566924  11.025813             0.160   \n",
       "278   5.836894  16.334413  -4.681371  -1.517467             1.110   \n",
       "279  -3.967915  -6.161645  -2.237080  -2.162160             0.100   \n",
       "\n",
       "     unemp_change  treasury_yield_change  \n",
       "0            -0.1              -0.141500  \n",
       "1            -0.1              -0.141500  \n",
       "2            -0.2              -0.262978  \n",
       "3             0.2              -0.265995  \n",
       "4             0.0               0.449928  \n",
       "..            ...                    ...  \n",
       "275          -0.1              -0.274810  \n",
       "276           0.2              -0.084690  \n",
       "277          -0.1               0.215342  \n",
       "278          -0.1              -0.083799  \n",
       "279           0.3              -0.203043  \n",
       "\n",
       "[280 rows x 18 columns]"
      ]
     },
     "execution_count": 2,
     "metadata": {},
     "output_type": "execute_result"
    }
   ],
   "source": [
    "data = pd.read_csv('non_nan.csv', )\n",
    "data"
   ]
  },
  {
   "cell_type": "code",
   "execution_count": 3,
   "metadata": {},
   "outputs": [],
   "source": [
    "def create_lags_cov(data, covs, period):\n",
    "    lagged_covs = []  # List to store the names of lagged columns\n",
    "\n",
    "    for covariate in covs:\n",
    "        for i in period:\n",
    "            lagged_column_name = f'{covariate}_lag{i}'\n",
    "            data[lagged_column_name] = data[covariate].shift(i)\n",
    "            lagged_covs.append(lagged_column_name)\n",
    "    \n",
    "    data.dropna(inplace=True)\n",
    "    data = data.reset_index(drop=True)\n",
    "\n",
    "    return data, lagged_covs"
   ]
  },
  {
   "cell_type": "code",
   "execution_count": 4,
   "metadata": {},
   "outputs": [],
   "source": [
    "def create_lags_returns(data, tickers, period):\n",
    "\n",
    "    lagged_tickers = []  # List to store the names of lagged columns\n",
    "\n",
    "    for tick in tickers:\n",
    "        for i in period:\n",
    "            lagged_column_name = f'{tick}_lag{i}'\n",
    "            data[lagged_column_name] = data[tick].shift(i)\n",
    "            lagged_tickers.append(lagged_column_name)\n",
    "\n",
    "    data.dropna(inplace=True)\n",
    "    data = data.reset_index(drop=True)\n",
    "\n",
    "    return data, lagged_tickers"
   ]
  },
  {
   "cell_type": "code",
   "execution_count": 5,
   "metadata": {},
   "outputs": [],
   "source": [
    "# Creating lagged variables\n",
    "tickers = ['AZN', 'BMY', 'JNJ', 'LLY', 'MRK', 'NVO', 'NVS', 'PFE','ROG']\n",
    "covs = ['unemployment_rate', 'CPI', 'treasury_yield', 'GDP_growth', 'SP500_return', 'inflation_change', 'unemp_change', 'treasury_yield_change']\n",
    "period_covs = [1, 2, 3]\n",
    "period_returns = [1,2]\n",
    "\n",
    "data, lagged_covs = create_lags_cov(data, covs, period=period_covs)\n",
    "data, lagged_tickers = create_lags_returns(data, tickers, period= period_returns)"
   ]
  },
  {
   "cell_type": "code",
   "execution_count": 6,
   "metadata": {},
   "outputs": [],
   "source": [
    "# Creating lagged variables\n",
    "tickers = ['AZN', 'BMY', 'JNJ', 'LLY', 'MRK', 'NVO', 'NVS', 'PFE','ROG']\n",
    "covs = ['unemployment_rate', 'CPI', 'treasury_yield', 'GDP_growth', 'SP500_return', 'inflation_change', 'unemp_change', 'treasury_yield_change']\n",
    "period_covs = [1, 2, 3]\n",
    "period_returns = [1,2]\n",
    "\n",
    "data, lagged_covs = create_lags_cov(data, covs, period=period_covs)\n",
    "data, lagged_tickers = create_lags_returns(data, tickers, period= period_returns)\n",
    "\n",
    "# Creating dummy variables\n",
    "data['Quater_dummy'] = 0\n",
    "data['Quater_rippel'] = 0\n",
    "data['Date'] = pd.to_datetime(data['Date'])\n",
    "for index, row in data.iterrows():\n",
    "    if row['Date'].month in [3, 6, 9, 12]:\n",
    "        data.loc[index, 'Quater_dummy'] = 1\n",
    "    if row['Date'].month in [1, 4, 7, 10]:\n",
    "        data.loc[index, 'Quater_dummy'] = 1"
   ]
  },
  {
   "cell_type": "code",
   "execution_count": 7,
   "metadata": {},
   "outputs": [
    {
     "data": {
      "text/html": [
       "<div>\n",
       "<style scoped>\n",
       "    .dataframe tbody tr th:only-of-type {\n",
       "        vertical-align: middle;\n",
       "    }\n",
       "\n",
       "    .dataframe tbody tr th {\n",
       "        vertical-align: top;\n",
       "    }\n",
       "\n",
       "    .dataframe thead th {\n",
       "        text-align: right;\n",
       "    }\n",
       "</style>\n",
       "<table border=\"1\" class=\"dataframe\">\n",
       "  <thead>\n",
       "    <tr style=\"text-align: right;\">\n",
       "      <th></th>\n",
       "      <th>Date</th>\n",
       "      <th>unemployment_rate</th>\n",
       "      <th>CPI</th>\n",
       "      <th>treasury_yield</th>\n",
       "      <th>GDP_growth</th>\n",
       "      <th>SP500_return</th>\n",
       "      <th>AZN</th>\n",
       "      <th>BMY</th>\n",
       "      <th>JNJ</th>\n",
       "      <th>LLY</th>\n",
       "      <th>...</th>\n",
       "      <th>NVO_lag1</th>\n",
       "      <th>NVO_lag2</th>\n",
       "      <th>NVS_lag1</th>\n",
       "      <th>NVS_lag2</th>\n",
       "      <th>PFE_lag1</th>\n",
       "      <th>PFE_lag2</th>\n",
       "      <th>ROG_lag1</th>\n",
       "      <th>ROG_lag2</th>\n",
       "      <th>Quater_dummy</th>\n",
       "      <th>Quater_rippel</th>\n",
       "    </tr>\n",
       "  </thead>\n",
       "  <tbody>\n",
       "    <tr>\n",
       "      <th>0</th>\n",
       "      <td>2000-12-01</td>\n",
       "      <td>3.9</td>\n",
       "      <td>174.600</td>\n",
       "      <td>5.717143</td>\n",
       "      <td>-0.087123</td>\n",
       "      <td>-0.826852</td>\n",
       "      <td>2.331298</td>\n",
       "      <td>6.672740</td>\n",
       "      <td>5.420678</td>\n",
       "      <td>-0.380932</td>\n",
       "      <td>...</td>\n",
       "      <td>-9.882362</td>\n",
       "      <td>-4.279274</td>\n",
       "      <td>5.700307</td>\n",
       "      <td>-0.807726</td>\n",
       "      <td>2.604919</td>\n",
       "      <td>-3.860903</td>\n",
       "      <td>1.748252</td>\n",
       "      <td>13.043478</td>\n",
       "      <td>1</td>\n",
       "      <td>0</td>\n",
       "    </tr>\n",
       "    <tr>\n",
       "      <th>1</th>\n",
       "      <td>2001-01-01</td>\n",
       "      <td>4.2</td>\n",
       "      <td>175.600</td>\n",
       "      <td>5.240500</td>\n",
       "      <td>-0.066423</td>\n",
       "      <td>4.766324</td>\n",
       "      <td>-13.766945</td>\n",
       "      <td>-16.294179</td>\n",
       "      <td>-11.357522</td>\n",
       "      <td>-15.325723</td>\n",
       "      <td>...</td>\n",
       "      <td>-7.125809</td>\n",
       "      <td>-9.882362</td>\n",
       "      <td>13.379157</td>\n",
       "      <td>5.700307</td>\n",
       "      <td>4.026887</td>\n",
       "      <td>2.604919</td>\n",
       "      <td>12.886598</td>\n",
       "      <td>1.748252</td>\n",
       "      <td>1</td>\n",
       "      <td>0</td>\n",
       "    </tr>\n",
       "    <tr>\n",
       "      <th>2</th>\n",
       "      <td>2001-02-01</td>\n",
       "      <td>4.2</td>\n",
       "      <td>176.000</td>\n",
       "      <td>5.160952</td>\n",
       "      <td>-0.195020</td>\n",
       "      <td>-9.538746</td>\n",
       "      <td>4.143180</td>\n",
       "      <td>2.851534</td>\n",
       "      <td>4.509829</td>\n",
       "      <td>0.837527</td>\n",
       "      <td>...</td>\n",
       "      <td>12.824829</td>\n",
       "      <td>-7.125809</td>\n",
       "      <td>-4.290496</td>\n",
       "      <td>13.379157</td>\n",
       "      <td>-1.847877</td>\n",
       "      <td>4.026887</td>\n",
       "      <td>-5.022831</td>\n",
       "      <td>12.886598</td>\n",
       "      <td>0</td>\n",
       "      <td>0</td>\n",
       "    </tr>\n",
       "    <tr>\n",
       "      <th>3</th>\n",
       "      <td>2001-03-01</td>\n",
       "      <td>4.3</td>\n",
       "      <td>176.100</td>\n",
       "      <td>5.098947</td>\n",
       "      <td>-0.217255</td>\n",
       "      <td>-5.857225</td>\n",
       "      <td>5.615486</td>\n",
       "      <td>-6.323922</td>\n",
       "      <td>-9.828843</td>\n",
       "      <td>-3.186580</td>\n",
       "      <td>...</td>\n",
       "      <td>-0.350508</td>\n",
       "      <td>12.824829</td>\n",
       "      <td>-0.373563</td>\n",
       "      <td>-4.290496</td>\n",
       "      <td>-0.332146</td>\n",
       "      <td>-1.847877</td>\n",
       "      <td>-8.846156</td>\n",
       "      <td>-5.022831</td>\n",
       "      <td>1</td>\n",
       "      <td>0</td>\n",
       "    </tr>\n",
       "    <tr>\n",
       "      <th>4</th>\n",
       "      <td>2001-04-01</td>\n",
       "      <td>4.4</td>\n",
       "      <td>176.400</td>\n",
       "      <td>4.885455</td>\n",
       "      <td>0.756989</td>\n",
       "      <td>8.836250</td>\n",
       "      <td>-1.512969</td>\n",
       "      <td>-5.723911</td>\n",
       "      <td>10.300706</td>\n",
       "      <td>10.879156</td>\n",
       "      <td>...</td>\n",
       "      <td>-0.150755</td>\n",
       "      <td>-0.350508</td>\n",
       "      <td>-7.827520</td>\n",
       "      <td>-0.373563</td>\n",
       "      <td>-8.777164</td>\n",
       "      <td>-0.332146</td>\n",
       "      <td>-0.112520</td>\n",
       "      <td>-8.846156</td>\n",
       "      <td>1</td>\n",
       "      <td>0</td>\n",
       "    </tr>\n",
       "    <tr>\n",
       "      <th>...</th>\n",
       "      <td>...</td>\n",
       "      <td>...</td>\n",
       "      <td>...</td>\n",
       "      <td>...</td>\n",
       "      <td>...</td>\n",
       "      <td>...</td>\n",
       "      <td>...</td>\n",
       "      <td>...</td>\n",
       "      <td>...</td>\n",
       "      <td>...</td>\n",
       "      <td>...</td>\n",
       "      <td>...</td>\n",
       "      <td>...</td>\n",
       "      <td>...</td>\n",
       "      <td>...</td>\n",
       "      <td>...</td>\n",
       "      <td>...</td>\n",
       "      <td>...</td>\n",
       "      <td>...</td>\n",
       "      <td>...</td>\n",
       "      <td>...</td>\n",
       "    </tr>\n",
       "    <tr>\n",
       "      <th>265</th>\n",
       "      <td>2023-01-01</td>\n",
       "      <td>3.4</td>\n",
       "      <td>300.536</td>\n",
       "      <td>3.616190</td>\n",
       "      <td>0.390254</td>\n",
       "      <td>6.776820</td>\n",
       "      <td>-3.584079</td>\n",
       "      <td>0.972908</td>\n",
       "      <td>-7.489384</td>\n",
       "      <td>-5.928822</td>\n",
       "      <td>...</td>\n",
       "      <td>8.619586</td>\n",
       "      <td>14.479974</td>\n",
       "      <td>1.295221</td>\n",
       "      <td>10.390734</td>\n",
       "      <td>3.090302</td>\n",
       "      <td>7.690670</td>\n",
       "      <td>9.446071</td>\n",
       "      <td>-53.665066</td>\n",
       "      <td>1</td>\n",
       "      <td>0</td>\n",
       "    </tr>\n",
       "    <tr>\n",
       "      <th>266</th>\n",
       "      <td>2023-02-01</td>\n",
       "      <td>3.6</td>\n",
       "      <td>301.648</td>\n",
       "      <td>3.531500</td>\n",
       "      <td>-0.442183</td>\n",
       "      <td>-2.514271</td>\n",
       "      <td>-0.290649</td>\n",
       "      <td>-4.328217</td>\n",
       "      <td>-6.217115</td>\n",
       "      <td>-9.568502</td>\n",
       "      <td>...</td>\n",
       "      <td>2.541749</td>\n",
       "      <td>8.619586</td>\n",
       "      <td>-0.110227</td>\n",
       "      <td>1.295221</td>\n",
       "      <td>-13.817335</td>\n",
       "      <td>3.090302</td>\n",
       "      <td>16.968326</td>\n",
       "      <td>9.446071</td>\n",
       "      <td>0</td>\n",
       "      <td>0</td>\n",
       "    </tr>\n",
       "    <tr>\n",
       "      <th>267</th>\n",
       "      <td>2023-03-01</td>\n",
       "      <td>3.5</td>\n",
       "      <td>301.808</td>\n",
       "      <td>3.746842</td>\n",
       "      <td>-0.442183</td>\n",
       "      <td>3.313488</td>\n",
       "      <td>8.035329</td>\n",
       "      <td>0.507544</td>\n",
       "      <td>1.862736</td>\n",
       "      <td>10.703390</td>\n",
       "      <td>...</td>\n",
       "      <td>1.592445</td>\n",
       "      <td>2.541749</td>\n",
       "      <td>-7.172811</td>\n",
       "      <td>-0.110227</td>\n",
       "      <td>-7.286115</td>\n",
       "      <td>-13.817335</td>\n",
       "      <td>5.451681</td>\n",
       "      <td>16.968326</td>\n",
       "      <td>1</td>\n",
       "      <td>0</td>\n",
       "    </tr>\n",
       "    <tr>\n",
       "      <th>268</th>\n",
       "      <td>2023-04-01</td>\n",
       "      <td>3.4</td>\n",
       "      <td>302.918</td>\n",
       "      <td>3.663043</td>\n",
       "      <td>-0.442183</td>\n",
       "      <td>1.985238</td>\n",
       "      <td>5.489119</td>\n",
       "      <td>-3.664707</td>\n",
       "      <td>5.612908</td>\n",
       "      <td>15.269915</td>\n",
       "      <td>...</td>\n",
       "      <td>12.873250</td>\n",
       "      <td>1.592445</td>\n",
       "      <td>9.367574</td>\n",
       "      <td>-7.172811</td>\n",
       "      <td>0.566924</td>\n",
       "      <td>-7.286115</td>\n",
       "      <td>11.025813</td>\n",
       "      <td>5.451681</td>\n",
       "      <td>1</td>\n",
       "      <td>0</td>\n",
       "    </tr>\n",
       "    <tr>\n",
       "      <th>269</th>\n",
       "      <td>2023-05-01</td>\n",
       "      <td>3.7</td>\n",
       "      <td>304.127</td>\n",
       "      <td>3.460000</td>\n",
       "      <td>-0.442183</td>\n",
       "      <td>0.461619</td>\n",
       "      <td>-0.191204</td>\n",
       "      <td>-2.695194</td>\n",
       "      <td>-5.277949</td>\n",
       "      <td>8.487855</td>\n",
       "      <td>...</td>\n",
       "      <td>5.836894</td>\n",
       "      <td>12.873250</td>\n",
       "      <td>16.334413</td>\n",
       "      <td>9.367574</td>\n",
       "      <td>-4.681371</td>\n",
       "      <td>0.566924</td>\n",
       "      <td>-1.517467</td>\n",
       "      <td>11.025813</td>\n",
       "      <td>0</td>\n",
       "      <td>0</td>\n",
       "    </tr>\n",
       "  </tbody>\n",
       "</table>\n",
       "<p>270 rows × 62 columns</p>\n",
       "</div>"
      ],
      "text/plain": [
       "          Date  unemployment_rate      CPI  treasury_yield  GDP_growth  \\\n",
       "0   2000-12-01                3.9  174.600        5.717143   -0.087123   \n",
       "1   2001-01-01                4.2  175.600        5.240500   -0.066423   \n",
       "2   2001-02-01                4.2  176.000        5.160952   -0.195020   \n",
       "3   2001-03-01                4.3  176.100        5.098947   -0.217255   \n",
       "4   2001-04-01                4.4  176.400        4.885455    0.756989   \n",
       "..         ...                ...      ...             ...         ...   \n",
       "265 2023-01-01                3.4  300.536        3.616190    0.390254   \n",
       "266 2023-02-01                3.6  301.648        3.531500   -0.442183   \n",
       "267 2023-03-01                3.5  301.808        3.746842   -0.442183   \n",
       "268 2023-04-01                3.4  302.918        3.663043   -0.442183   \n",
       "269 2023-05-01                3.7  304.127        3.460000   -0.442183   \n",
       "\n",
       "     SP500_return        AZN        BMY        JNJ        LLY  ...   NVO_lag1  \\\n",
       "0       -0.826852   2.331298   6.672740   5.420678  -0.380932  ...  -9.882362   \n",
       "1        4.766324 -13.766945 -16.294179 -11.357522 -15.325723  ...  -7.125809   \n",
       "2       -9.538746   4.143180   2.851534   4.509829   0.837527  ...  12.824829   \n",
       "3       -5.857225   5.615486  -6.323922  -9.828843  -3.186580  ...  -0.350508   \n",
       "4        8.836250  -1.512969  -5.723911  10.300706  10.879156  ...  -0.150755   \n",
       "..            ...        ...        ...        ...        ...  ...        ...   \n",
       "265      6.776820  -3.584079   0.972908  -7.489384  -5.928822  ...   8.619586   \n",
       "266     -2.514271  -0.290649  -4.328217  -6.217115  -9.568502  ...   2.541749   \n",
       "267      3.313488   8.035329   0.507544   1.862736  10.703390  ...   1.592445   \n",
       "268      1.985238   5.489119  -3.664707   5.612908  15.269915  ...  12.873250   \n",
       "269      0.461619  -0.191204  -2.695194  -5.277949   8.487855  ...   5.836894   \n",
       "\n",
       "      NVO_lag2   NVS_lag1   NVS_lag2   PFE_lag1   PFE_lag2   ROG_lag1  \\\n",
       "0    -4.279274   5.700307  -0.807726   2.604919  -3.860903   1.748252   \n",
       "1    -9.882362  13.379157   5.700307   4.026887   2.604919  12.886598   \n",
       "2    -7.125809  -4.290496  13.379157  -1.847877   4.026887  -5.022831   \n",
       "3    12.824829  -0.373563  -4.290496  -0.332146  -1.847877  -8.846156   \n",
       "4    -0.350508  -7.827520  -0.373563  -8.777164  -0.332146  -0.112520   \n",
       "..         ...        ...        ...        ...        ...        ...   \n",
       "265  14.479974   1.295221  10.390734   3.090302   7.690670   9.446071   \n",
       "266   8.619586  -0.110227   1.295221 -13.817335   3.090302  16.968326   \n",
       "267   2.541749  -7.172811  -0.110227  -7.286115 -13.817335   5.451681   \n",
       "268   1.592445   9.367574  -7.172811   0.566924  -7.286115  11.025813   \n",
       "269  12.873250  16.334413   9.367574  -4.681371   0.566924  -1.517467   \n",
       "\n",
       "      ROG_lag2  Quater_dummy  Quater_rippel  \n",
       "0    13.043478             1              0  \n",
       "1     1.748252             1              0  \n",
       "2    12.886598             0              0  \n",
       "3    -5.022831             1              0  \n",
       "4    -8.846156             1              0  \n",
       "..         ...           ...            ...  \n",
       "265 -53.665066             1              0  \n",
       "266   9.446071             0              0  \n",
       "267  16.968326             1              0  \n",
       "268   5.451681             1              0  \n",
       "269  11.025813             0              0  \n",
       "\n",
       "[270 rows x 62 columns]"
      ]
     },
     "execution_count": 7,
     "metadata": {},
     "output_type": "execute_result"
    }
   ],
   "source": [
    "data"
   ]
  },
  {
   "attachments": {},
   "cell_type": "markdown",
   "metadata": {},
   "source": [
    "### Defining tick_loss function"
   ]
  },
  {
   "cell_type": "code",
   "execution_count": 8,
   "metadata": {},
   "outputs": [],
   "source": [
    "def tick_loss(alpha, returns, var):\n",
    "    df = pd.DataFrame({'Return': returns, 'VaR': var})\n",
    "    df['Indicator'] = np.where(df['Return'] < df['VaR'], 1, 0)\n",
    "\n",
    "    t_loss = 0\n",
    "\n",
    "    for i in df.index:\n",
    "        t_loss += (\n",
    "            alpha * (df['Return'][i] - df['VaR'][i]) * (1 - df['Indicator'][i])\n",
    "            + (1 - alpha) * (df['VaR'][i] - df['Return'][i]) * df['Indicator'][i]\n",
    "        )\n",
    "\n",
    "    return t_loss"
   ]
  },
  {
   "cell_type": "code",
   "execution_count": 9,
   "metadata": {},
   "outputs": [
    {
     "data": {
      "text/plain": [
       "Index(['Date', 'unemployment_rate', 'CPI', 'treasury_yield', 'GDP_growth',\n",
       "       'SP500_return', 'AZN', 'BMY', 'JNJ', 'LLY', 'MRK', 'NVO', 'NVS', 'PFE',\n",
       "       'ROG', 'inflation_change', 'unemp_change', 'treasury_yield_change',\n",
       "       'unemployment_rate_lag1', 'unemployment_rate_lag2',\n",
       "       'unemployment_rate_lag3', 'CPI_lag1', 'CPI_lag2', 'CPI_lag3',\n",
       "       'treasury_yield_lag1', 'treasury_yield_lag2', 'treasury_yield_lag3',\n",
       "       'GDP_growth_lag1', 'GDP_growth_lag2', 'GDP_growth_lag3',\n",
       "       'SP500_return_lag1', 'SP500_return_lag2', 'SP500_return_lag3',\n",
       "       'inflation_change_lag1', 'inflation_change_lag2',\n",
       "       'inflation_change_lag3', 'unemp_change_lag1', 'unemp_change_lag2',\n",
       "       'unemp_change_lag3', 'treasury_yield_change_lag1',\n",
       "       'treasury_yield_change_lag2', 'treasury_yield_change_lag3', 'AZN_lag1',\n",
       "       'AZN_lag2', 'BMY_lag1', 'BMY_lag2', 'JNJ_lag1', 'JNJ_lag2', 'LLY_lag1',\n",
       "       'LLY_lag2', 'MRK_lag1', 'MRK_lag2', 'NVO_lag1', 'NVO_lag2', 'NVS_lag1',\n",
       "       'NVS_lag2', 'PFE_lag1', 'PFE_lag2', 'ROG_lag1', 'ROG_lag2',\n",
       "       'Quater_dummy', 'Quater_rippel'],\n",
       "      dtype='object')"
      ]
     },
     "execution_count": 9,
     "metadata": {},
     "output_type": "execute_result"
    }
   ],
   "source": [
    "data.columns"
   ]
  },
  {
   "cell_type": "code",
   "execution_count": 10,
   "metadata": {},
   "outputs": [],
   "source": [
    "# rolling_forecast_QR adaptable to all horizons\n",
    "\n",
    "import statsmodels.api as sm\n",
    "import numpy as np\n",
    "\n",
    "def rolling_forecast_QR(data, dates, ticker, alpha, columns_to_exclude, horizon):\n",
    "    t_loss = 0\n",
    "    dta = data.copy()\n",
    "    all_var_forecast = []\n",
    "\n",
    "    for d in dates:\n",
    "        train_df = dta[dta.Date <= d]\n",
    "        test_df = dta[dta.Date > d]\n",
    "        test_df = test_df.reset_index(drop=True)\n",
    "\n",
    "        X_train = train_df.drop(columns=columns_to_exclude,axis=1)\n",
    "        y_train = train_df[ticker]\n",
    "\n",
    "        X_test = test_df.drop(columns=columns_to_exclude, axis=1)\n",
    "        X_test = X_test.iloc[0:horizon]\n",
    "        y_test = test_df[ticker][0:horizon]\n",
    "\n",
    "        quantreg = sm.QuantReg(y_train, X_train)\n",
    "        quantreg_results = quantreg.fit(q=alpha)\n",
    "\n",
    "        VaR_forecast = quantreg_results.predict(X_test)\n",
    "        all_var_forecast.append(VaR_forecast)\n",
    "\n",
    "        r = y_test\n",
    "        loss = tick_loss(alpha, r, VaR_forecast)\n",
    "        t_loss += loss\n",
    "\n",
    "    combinations = 13 - horizon\n",
    "    t_loss = t_loss / combinations\n",
    "    all_var_forecast = np.concatenate(all_var_forecast)\n",
    "\n",
    "    return t_loss, all_var_forecast"
   ]
  },
  {
   "attachments": {},
   "cell_type": "markdown",
   "metadata": {},
   "source": [
    "# Naïve Models Specifications"
   ]
  },
  {
   "attachments": {},
   "cell_type": "markdown",
   "metadata": {},
   "source": [
    "## 1. Macros Only"
   ]
  },
  {
   "attachments": {},
   "cell_type": "markdown",
   "metadata": {},
   "source": [
    "We are only going to train the model with the lagged macroeconomic variables"
   ]
  },
  {
   "cell_type": "code",
   "execution_count": 11,
   "metadata": {},
   "outputs": [
    {
     "data": {
      "text/plain": [
       "['AZN',\n",
       " 'AZN_lag1',\n",
       " 'AZN_lag2',\n",
       " 'BMY',\n",
       " 'BMY_lag1',\n",
       " 'BMY_lag2',\n",
       " 'JNJ',\n",
       " 'JNJ_lag1',\n",
       " 'JNJ_lag2',\n",
       " 'LLY',\n",
       " 'LLY_lag1',\n",
       " 'LLY_lag2',\n",
       " 'MRK',\n",
       " 'MRK_lag1',\n",
       " 'MRK_lag2',\n",
       " 'NVO',\n",
       " 'NVO_lag1',\n",
       " 'NVO_lag2',\n",
       " 'NVS',\n",
       " 'NVS_lag1',\n",
       " 'NVS_lag2',\n",
       " 'PFE',\n",
       " 'PFE_lag1',\n",
       " 'PFE_lag2',\n",
       " 'ROG',\n",
       " 'ROG_lag1',\n",
       " 'ROG_lag2',\n",
       " 'unemployment_rate',\n",
       " 'CPI',\n",
       " 'treasury_yield',\n",
       " 'GDP_growth',\n",
       " 'SP500_return',\n",
       " 'inflation_change',\n",
       " 'unemp_change',\n",
       " 'treasury_yield_change',\n",
       " 'Date']"
      ]
     },
     "execution_count": 11,
     "metadata": {},
     "output_type": "execute_result"
    }
   ],
   "source": [
    "data_macro = data.copy()\n",
    "to_exclude = []\n",
    "\n",
    "for t in tickers:\n",
    "    to_exclude.append(t)\n",
    "    to_exclude.append(f'{t}_lag1')\n",
    "    to_exclude.append(f'{t}_lag2')\n",
    "\n",
    "for covariate in covs:\n",
    "    to_exclude.append(covariate)\n",
    "\n",
    "to_exclude.append('Date')\n",
    "\n",
    "to_exclude"
   ]
  },
  {
   "attachments": {},
   "cell_type": "markdown",
   "metadata": {},
   "source": [
    "### 1-step-ahead VaR: 1 month"
   ]
  },
  {
   "cell_type": "code",
   "execution_count": 12,
   "metadata": {},
   "outputs": [],
   "source": [
    "dates1m = ['2022-05-01', '2022-06-01', '2022-07-01', '2022-08-01', '2022-09-01', '2022-10-01', '2022-11-01', '2022-12-01', '2023-01-01', '2023-02-01', '2023-03-01', '2023-04-01']"
   ]
  },
  {
   "cell_type": "code",
   "execution_count": 13,
   "metadata": {},
   "outputs": [
    {
     "name": "stderr",
     "output_type": "stream",
     "text": [
      "/Users/lluisarull/opt/anaconda3/lib/python3.8/site-packages/statsmodels/regression/quantile_regression.py:191: IterationLimitWarning: Maximum number of iterations (1000) reached.\n",
      "  warnings.warn(\"Maximum number of iterations (\" + str(max_iter) +\n"
     ]
    },
    {
     "name": "stdout",
     "output_type": "stream",
     "text": [
      "AZN-1m-loss: 0.5973984308307704 \n",
      "\n",
      "AZN-1m-VaR-forecast: [ -8.42148532  -4.7117599   -8.73083435 -10.29276875 -10.40801662\n",
      " -12.07501134  -0.88210064  -4.35815879 -14.94508848  -9.21300088\n",
      " -10.71829988 -10.77965598] \n",
      "\n",
      "BMY-1m-loss: 0.575476041176639 \n",
      "\n",
      "BMY-1m-VaR-forecast: [ -6.32739385 -10.08606125 -10.11298188 -17.98095261   0.50303324\n",
      " -10.30913906 -27.15542053 -13.15869627 -13.89185267 -11.12614839\n",
      " -14.05645782 -15.24167195] \n",
      "\n"
     ]
    },
    {
     "name": "stderr",
     "output_type": "stream",
     "text": [
      "/Users/lluisarull/opt/anaconda3/lib/python3.8/site-packages/statsmodels/regression/quantile_regression.py:191: IterationLimitWarning: Maximum number of iterations (1000) reached.\n",
      "  warnings.warn(\"Maximum number of iterations (\" + str(max_iter) +\n"
     ]
    },
    {
     "name": "stdout",
     "output_type": "stream",
     "text": [
      "JNJ-1m-loss: 0.5455903436256422 \n",
      "\n",
      "JNJ-1m-VaR-forecast: [ -4.10273981  -1.50701229  -5.01958536  -1.08544395  -9.15235362\n",
      " -10.03262881  -3.81811447  -7.45731708  -9.21308055  -9.4632912\n",
      " -13.60501796 -12.25406794] \n",
      "\n"
     ]
    },
    {
     "name": "stderr",
     "output_type": "stream",
     "text": [
      "/Users/lluisarull/opt/anaconda3/lib/python3.8/site-packages/statsmodels/regression/quantile_regression.py:191: IterationLimitWarning: Maximum number of iterations (1000) reached.\n",
      "  warnings.warn(\"Maximum number of iterations (\" + str(max_iter) +\n",
      "/Users/lluisarull/opt/anaconda3/lib/python3.8/site-packages/statsmodels/regression/quantile_regression.py:191: IterationLimitWarning: Maximum number of iterations (1000) reached.\n",
      "  warnings.warn(\"Maximum number of iterations (\" + str(max_iter) +\n"
     ]
    },
    {
     "name": "stdout",
     "output_type": "stream",
     "text": [
      "LLY-1m-loss: 1.6973569041256713 \n",
      "\n",
      "LLY-1m-VaR-forecast: [ -9.72316526 -10.89561498   3.55990219  -9.51998078 -17.05814377\n",
      "  -9.93714511  -3.81632016 -14.76379941 -12.12355412 -16.5474971\n",
      " -11.55791936 -14.31071573] \n",
      "\n"
     ]
    },
    {
     "name": "stderr",
     "output_type": "stream",
     "text": [
      "/Users/lluisarull/opt/anaconda3/lib/python3.8/site-packages/statsmodels/regression/quantile_regression.py:191: IterationLimitWarning: Maximum number of iterations (1000) reached.\n",
      "  warnings.warn(\"Maximum number of iterations (\" + str(max_iter) +\n",
      "/Users/lluisarull/opt/anaconda3/lib/python3.8/site-packages/statsmodels/regression/quantile_regression.py:191: IterationLimitWarning: Maximum number of iterations (1000) reached.\n",
      "  warnings.warn(\"Maximum number of iterations (\" + str(max_iter) +\n",
      "/Users/lluisarull/opt/anaconda3/lib/python3.8/site-packages/statsmodels/regression/quantile_regression.py:191: IterationLimitWarning: Maximum number of iterations (1000) reached.\n",
      "  warnings.warn(\"Maximum number of iterations (\" + str(max_iter) +\n"
     ]
    },
    {
     "name": "stdout",
     "output_type": "stream",
     "text": [
      "MRK-1m-loss: 0.8044542059407872 \n",
      "\n",
      "MRK-1m-VaR-forecast: [-12.61091981 -14.63560736 -12.35470924 -22.77105978  -7.24374042\n",
      " -10.0100394  -12.43103572 -15.04338458 -18.50502327 -11.61214082\n",
      " -12.91681971 -19.20325948] \n",
      "\n"
     ]
    },
    {
     "name": "stderr",
     "output_type": "stream",
     "text": [
      "/Users/lluisarull/opt/anaconda3/lib/python3.8/site-packages/statsmodels/regression/quantile_regression.py:191: IterationLimitWarning: Maximum number of iterations (1000) reached.\n",
      "  warnings.warn(\"Maximum number of iterations (\" + str(max_iter) +\n"
     ]
    },
    {
     "name": "stdout",
     "output_type": "stream",
     "text": [
      "NVO-1m-loss: 0.8365805401165188 \n",
      "\n",
      "NVO-1m-VaR-forecast: [-15.83820621 -15.80375255 -24.31753896 -17.65521848 -17.68289112\n",
      "  -7.24699642  -7.65213956 -18.46776265 -12.37465731 -11.17839092\n",
      "  -3.5084125   -6.9181366 ] \n",
      "\n",
      "NVS-1m-loss: 0.9885674254982467 \n",
      "\n",
      "NVS-1m-VaR-forecast: [ -1.17385893  -5.79711045  -5.65635331 -10.51611927 -14.25829584\n",
      "  -9.82736421  -3.71100228  -9.29193994  -8.02674891 -11.36021201\n",
      "  -8.85395918  -7.30150065] \n",
      "\n"
     ]
    },
    {
     "name": "stderr",
     "output_type": "stream",
     "text": [
      "/Users/lluisarull/opt/anaconda3/lib/python3.8/site-packages/statsmodels/regression/quantile_regression.py:191: IterationLimitWarning: Maximum number of iterations (1000) reached.\n",
      "  warnings.warn(\"Maximum number of iterations (\" + str(max_iter) +\n",
      "/Users/lluisarull/opt/anaconda3/lib/python3.8/site-packages/statsmodels/regression/quantile_regression.py:191: IterationLimitWarning: Maximum number of iterations (1000) reached.\n",
      "  warnings.warn(\"Maximum number of iterations (\" + str(max_iter) +\n"
     ]
    },
    {
     "name": "stdout",
     "output_type": "stream",
     "text": [
      "PFE-1m-loss: 1.5483088342923867 \n",
      "\n",
      "PFE-1m-VaR-forecast: [-13.24923352  -8.21720109  -0.65715548  -6.597352   -13.31371882\n",
      " -15.26685799  -6.74056392  -9.44136652 -17.66492282 -11.17945784\n",
      " -11.6885489  -15.34363344] \n",
      "\n"
     ]
    },
    {
     "name": "stderr",
     "output_type": "stream",
     "text": [
      "/Users/lluisarull/opt/anaconda3/lib/python3.8/site-packages/statsmodels/regression/quantile_regression.py:191: IterationLimitWarning: Maximum number of iterations (1000) reached.\n",
      "  warnings.warn(\"Maximum number of iterations (\" + str(max_iter) +\n",
      "/Users/lluisarull/opt/anaconda3/lib/python3.8/site-packages/statsmodels/regression/quantile_regression.py:191: IterationLimitWarning: Maximum number of iterations (1000) reached.\n",
      "  warnings.warn(\"Maximum number of iterations (\" + str(max_iter) +\n"
     ]
    },
    {
     "name": "stdout",
     "output_type": "stream",
     "text": [
      "ROG-1m-loss: 4.889701702297191 \n",
      "\n",
      "ROG-1m-VaR-forecast: [-11.68330142 -41.8838649  -19.14112647 -21.78093244 -16.30590638\n",
      "  -6.99553474 -36.8828301  -18.41611147 -16.53053263 -20.68271407\n",
      " -23.75015203 -32.15856596] \n",
      "\n"
     ]
    },
    {
     "name": "stderr",
     "output_type": "stream",
     "text": [
      "/Users/lluisarull/opt/anaconda3/lib/python3.8/site-packages/statsmodels/regression/quantile_regression.py:191: IterationLimitWarning: Maximum number of iterations (1000) reached.\n",
      "  warnings.warn(\"Maximum number of iterations (\" + str(max_iter) +\n"
     ]
    }
   ],
   "source": [
    "for t in tickers:\n",
    "    loss, var_forecast = rolling_forecast_QR(data, dates1m, t, alpha=0.05, columns_to_exclude= to_exclude, horizon=1)\n",
    "    print(f'{t}-1m-loss: {loss} \\n')\n",
    "    print(f'{t}-1m-VaR-forecast: {var_forecast} \\n')"
   ]
  },
  {
   "attachments": {},
   "cell_type": "markdown",
   "metadata": {},
   "source": [
    "- AZN-1m-loss: 0.5973984308307704\n",
    "- BMY-1m-loss: 0.575476041176639\n",
    "- JNJ-1m-loss: 0.5455903436256422 \n",
    "- LLY-1m-loss: 1.6973569041256713\n",
    "- MRK-1m-loss: 0.8044542059407872\n",
    "- NVO-1m-loss: 0.8365805401165188 \n",
    "- NVS-1m-loss: 0.9885674254982467\n",
    "- PFE-1m-loss: 1.5483088342\n",
    "- ROG-1m-loss: 4.889701702297191 "
   ]
  },
  {
   "attachments": {},
   "cell_type": "markdown",
   "metadata": {},
   "source": [
    "### 3-step-ahead VaR: 3 month"
   ]
  },
  {
   "cell_type": "code",
   "execution_count": 14,
   "metadata": {},
   "outputs": [],
   "source": [
    "dates3m = ['2022-05-01', '2022-06-01', '2022-07-01', '2022-08-01', '2022-09-01', '2022-10-01', '2022-11-01', '2022-12-01', '2023-01-01', '2023-02-01']"
   ]
  },
  {
   "cell_type": "code",
   "execution_count": 15,
   "metadata": {},
   "outputs": [
    {
     "name": "stderr",
     "output_type": "stream",
     "text": [
      "/Users/lluisarull/opt/anaconda3/lib/python3.8/site-packages/statsmodels/regression/quantile_regression.py:191: IterationLimitWarning: Maximum number of iterations (1000) reached.\n",
      "  warnings.warn(\"Maximum number of iterations (\" + str(max_iter) +\n"
     ]
    },
    {
     "name": "stdout",
     "output_type": "stream",
     "text": [
      "AZN-3m-loss: 1.8657196198534352 \n",
      "\n",
      "AZN-3m-VaR-forecast: [ -8.42148532  -4.76214774  -8.72119684  -4.7117599   -8.73083344\n",
      " -10.29276934  -8.73083435 -10.29276814 -10.23471045 -10.29276875\n",
      " -10.23470966 -12.0485803  -10.40801662 -12.07501151  -0.88210546\n",
      " -12.07501134  -0.88210552  -4.3960085   -0.88210064  -4.39600668\n",
      " -15.45365667  -4.35815879 -15.36598029  -9.27960177 -14.94508848\n",
      "  -9.21299728 -10.78996759  -9.21300088 -10.78996868 -10.86165687] \n",
      "\n",
      "BMY-3m-loss: 1.78982145409515 \n",
      "\n",
      "BMY-3m-VaR-forecast: [ -6.32739385 -10.08606957 -10.03766047 -10.08606125 -10.03766063\n",
      " -19.0498058  -10.11298188 -17.98089824   0.5045923  -17.98095261\n",
      "   0.504554    -9.32897444   0.50303324 -10.30913866 -26.03678694\n",
      " -10.30913906 -26.03678678 -13.15870975 -27.15542053 -14.04993329\n",
      " -15.06373016 -13.15869627 -14.75169617 -12.4478426  -13.89185267\n",
      " -11.1261478  -14.18965913 -11.12614839 -14.18965906 -15.47249668] \n",
      "\n"
     ]
    },
    {
     "name": "stderr",
     "output_type": "stream",
     "text": [
      "/Users/lluisarull/opt/anaconda3/lib/python3.8/site-packages/statsmodels/regression/quantile_regression.py:191: IterationLimitWarning: Maximum number of iterations (1000) reached.\n",
      "  warnings.warn(\"Maximum number of iterations (\" + str(max_iter) +\n"
     ]
    },
    {
     "name": "stdout",
     "output_type": "stream",
     "text": [
      "JNJ-3m-loss: 1.7414492101651757 \n",
      "\n",
      "JNJ-3m-VaR-forecast: [ -4.10273981  -1.73005601  -5.051173    -1.50701229  -4.89682511\n",
      "  -0.45140973  -5.01958536  -1.03936663  -9.46584755  -1.08544395\n",
      "  -9.3944079  -10.1800587   -9.15235362 -10.06405251  -3.92214042\n",
      " -10.03262881  -3.81812409  -7.45732275  -3.81811447  -7.45731819\n",
      "  -9.21994637  -7.45731708  -9.21994745  -9.4056649   -9.21308055\n",
      "  -9.46304361 -13.68997191  -9.4632912  -13.69024411 -12.79339859] \n",
      "\n"
     ]
    },
    {
     "name": "stderr",
     "output_type": "stream",
     "text": [
      "/Users/lluisarull/opt/anaconda3/lib/python3.8/site-packages/statsmodels/regression/quantile_regression.py:191: IterationLimitWarning: Maximum number of iterations (1000) reached.\n",
      "  warnings.warn(\"Maximum number of iterations (\" + str(max_iter) +\n",
      "/Users/lluisarull/opt/anaconda3/lib/python3.8/site-packages/statsmodels/regression/quantile_regression.py:191: IterationLimitWarning: Maximum number of iterations (1000) reached.\n",
      "  warnings.warn(\"Maximum number of iterations (\" + str(max_iter) +\n"
     ]
    },
    {
     "name": "stdout",
     "output_type": "stream",
     "text": [
      "LLY-3m-loss: 5.1545043086404245 \n",
      "\n",
      "LLY-3m-VaR-forecast: [ -9.72316526 -10.92657332   1.4783368  -10.89561498   1.52217345\n",
      "  -9.18612136   3.55990219  -9.37171769 -16.27838195  -9.51998078\n",
      " -17.07439582  -9.83958311 -17.05814377  -9.8563554   -3.86366391\n",
      "  -9.93714511  -4.09141798 -14.99617926  -3.81632016 -15.09901427\n",
      " -11.64082227 -14.76379941 -12.12355371 -16.54749317 -12.12355412\n",
      " -16.54749522 -11.55792067 -16.5474971  -11.55791855 -14.39987906] \n",
      "\n"
     ]
    },
    {
     "name": "stderr",
     "output_type": "stream",
     "text": [
      "/Users/lluisarull/opt/anaconda3/lib/python3.8/site-packages/statsmodels/regression/quantile_regression.py:191: IterationLimitWarning: Maximum number of iterations (1000) reached.\n",
      "  warnings.warn(\"Maximum number of iterations (\" + str(max_iter) +\n",
      "/Users/lluisarull/opt/anaconda3/lib/python3.8/site-packages/statsmodels/regression/quantile_regression.py:191: IterationLimitWarning: Maximum number of iterations (1000) reached.\n",
      "  warnings.warn(\"Maximum number of iterations (\" + str(max_iter) +\n",
      "/Users/lluisarull/opt/anaconda3/lib/python3.8/site-packages/statsmodels/regression/quantile_regression.py:191: IterationLimitWarning: Maximum number of iterations (1000) reached.\n",
      "  warnings.warn(\"Maximum number of iterations (\" + str(max_iter) +\n"
     ]
    },
    {
     "name": "stdout",
     "output_type": "stream",
     "text": [
      "MRK-3m-loss: 2.417655156722561 \n",
      "\n",
      "MRK-3m-VaR-forecast: [-12.61091981 -14.54885177 -10.28937089 -14.63560736 -12.35471301\n",
      " -20.74914834 -12.35470924 -20.74915475  -7.24372807 -22.77105978\n",
      "  -7.37728907  -9.1403012   -7.24374042 -10.01007897 -14.05385359\n",
      " -10.0100394  -14.05383002 -12.68524843 -12.43103572 -15.04349008\n",
      " -18.06186823 -15.04338458 -18.06210963 -11.61089714 -18.50502327\n",
      " -11.09050072 -12.91787409 -11.61214082 -13.62388196 -18.90418534] \n",
      "\n"
     ]
    },
    {
     "name": "stderr",
     "output_type": "stream",
     "text": [
      "/Users/lluisarull/opt/anaconda3/lib/python3.8/site-packages/statsmodels/regression/quantile_regression.py:191: IterationLimitWarning: Maximum number of iterations (1000) reached.\n",
      "  warnings.warn(\"Maximum number of iterations (\" + str(max_iter) +\n"
     ]
    },
    {
     "name": "stdout",
     "output_type": "stream",
     "text": [
      "NVO-3m-loss: 2.6847909078247705 \n",
      "\n",
      "NVO-3m-VaR-forecast: [-15.83820621 -16.11355647 -24.49281326 -15.80375255 -24.31753692\n",
      " -17.14410667 -24.31753896 -17.14410574 -17.02476794 -17.65521848\n",
      " -16.88865303  -7.18746458 -17.68289112  -7.24796626  -8.75942712\n",
      "  -7.24699642  -8.7591407  -17.36123673  -7.65213956 -18.46785083\n",
      " -12.23350422 -18.46776265 -12.23346571 -11.97952721 -12.37465731\n",
      " -11.44201147  -5.12735987 -11.17839092  -4.78480145  -7.54771294] \n",
      "\n",
      "NVS-3m-loss: 2.220851134172759 \n",
      "\n",
      "NVS-3m-VaR-forecast: [ -1.17385893  -3.95129141  -7.59904316  -5.79711045  -5.65633631\n",
      " -10.69348379  -5.65635331 -10.69347786 -14.44649901 -10.51611927\n",
      " -14.25829862  -9.82735936 -14.25829584  -9.82736467  -3.71100889\n",
      "  -9.82736421  -3.71100871  -9.29177406  -3.71100228  -9.29184872\n",
      "  -8.02674977  -9.29193994  -8.02675285 -11.36014264  -8.02674891\n",
      " -11.36021219  -8.96639402 -11.36021201  -8.96639246  -7.48800257] \n",
      "\n"
     ]
    },
    {
     "name": "stderr",
     "output_type": "stream",
     "text": [
      "/Users/lluisarull/opt/anaconda3/lib/python3.8/site-packages/statsmodels/regression/quantile_regression.py:191: IterationLimitWarning: Maximum number of iterations (1000) reached.\n",
      "  warnings.warn(\"Maximum number of iterations (\" + str(max_iter) +\n",
      "/Users/lluisarull/opt/anaconda3/lib/python3.8/site-packages/statsmodels/regression/quantile_regression.py:191: IterationLimitWarning: Maximum number of iterations (1000) reached.\n",
      "  warnings.warn(\"Maximum number of iterations (\" + str(max_iter) +\n"
     ]
    },
    {
     "name": "stdout",
     "output_type": "stream",
     "text": [
      "PFE-3m-loss: 5.340884406757343 \n",
      "\n",
      "PFE-3m-VaR-forecast: [-13.24923352  -8.21673445  -0.65617648  -8.21720109  -0.65715679\n",
      " -14.04799868  -0.65715548 -14.0479555  -13.39868611  -6.597352\n",
      " -13.26571618 -16.39951912 -13.31371882 -15.73575555  -7.00050793\n",
      " -15.26685799  -6.77834304  -9.59805536  -6.74056392  -9.60428107\n",
      " -20.89187025  -9.44136652 -20.88461641 -10.95062498 -17.66492282\n",
      " -11.10151429 -11.68853602 -11.17945784 -11.68093944 -15.40877533] \n",
      "\n"
     ]
    },
    {
     "name": "stderr",
     "output_type": "stream",
     "text": [
      "/Users/lluisarull/opt/anaconda3/lib/python3.8/site-packages/statsmodels/regression/quantile_regression.py:191: IterationLimitWarning: Maximum number of iterations (1000) reached.\n",
      "  warnings.warn(\"Maximum number of iterations (\" + str(max_iter) +\n",
      "/Users/lluisarull/opt/anaconda3/lib/python3.8/site-packages/statsmodels/regression/quantile_regression.py:191: IterationLimitWarning: Maximum number of iterations (1000) reached.\n",
      "  warnings.warn(\"Maximum number of iterations (\" + str(max_iter) +\n"
     ]
    },
    {
     "name": "stdout",
     "output_type": "stream",
     "text": [
      "ROG-3m-loss: 17.00619277443582 \n",
      "\n",
      "ROG-3m-VaR-forecast: [-11.68330142 -42.65247597 -18.44401297 -41.8838649  -17.52279921\n",
      " -14.33725342 -19.14112647 -22.49417865 -15.5146311  -21.78093244\n",
      " -16.10492686  -4.37871854 -16.30590638  -7.13141312 -30.14298626\n",
      "  -6.99553474 -30.97840641 -21.0347158  -36.8828301  -17.01389321\n",
      " -16.56134413 -18.41611147 -15.91827249 -20.8277197  -16.53053263\n",
      " -23.62313499 -23.66241338 -20.68271407 -23.71193805 -31.72183356] \n",
      "\n"
     ]
    },
    {
     "name": "stderr",
     "output_type": "stream",
     "text": [
      "/Users/lluisarull/opt/anaconda3/lib/python3.8/site-packages/statsmodels/regression/quantile_regression.py:191: IterationLimitWarning: Maximum number of iterations (1000) reached.\n",
      "  warnings.warn(\"Maximum number of iterations (\" + str(max_iter) +\n"
     ]
    }
   ],
   "source": [
    "for t in tickers:\n",
    "    loss, var_forecast = rolling_forecast_QR(data, dates3m, t, alpha=0.05, columns_to_exclude= to_exclude, horizon=3)\n",
    "    print(f'{t}-3m-loss: {loss} \\n')\n",
    "    print(f'{t}-3m-VaR-forecast: {var_forecast} \\n')"
   ]
  },
  {
   "attachments": {},
   "cell_type": "markdown",
   "metadata": {},
   "source": [
    "- AZN-3m-loss: 1.8657196198534352 \n",
    "- BMY-3m-loss: 1.78982145409515 \n",
    "- JNJ-3m-loss: 1.7414492101651757\n",
    "- LLY-3m-loss: 5.1545043086404245 \n",
    "- MRK-3m-loss: 2.417655156722561\n",
    "- NVO-3m-loss: 2.6847909078247705\n",
    "- NVS-3m-loss: 2.220851134172759\n",
    "- PFE-3m-loss: 5.340884406757343\n",
    "- ROG-3m-loss: 17.00619277443582"
   ]
  },
  {
   "attachments": {},
   "cell_type": "markdown",
   "metadata": {},
   "source": [
    "### 6-steap-ahead VaR: 6 months"
   ]
  },
  {
   "cell_type": "code",
   "execution_count": 16,
   "metadata": {},
   "outputs": [],
   "source": [
    "dates6m = ['2022-05-01', '2022-06-01', '2022-07-01', '2022-08-01', '2022-09-01', '2022-10-01', '2022-11-01']"
   ]
  },
  {
   "cell_type": "code",
   "execution_count": 17,
   "metadata": {},
   "outputs": [
    {
     "name": "stdout",
     "output_type": "stream",
     "text": [
      "AZN-6m-loss: 3.857545776417826 \n",
      "\n",
      "AZN-6m-VaR-forecast: [ -8.42148532  -4.76214774  -8.72119684 -10.21344803 -10.23678806\n",
      " -12.14925975  -4.7117599   -8.73083344 -10.29276934 -10.23470969\n",
      " -12.04858076  -0.36909286  -8.73083435 -10.29276814 -10.23471045\n",
      " -12.04858614  -0.36909556  -3.34354967 -10.29276875 -10.23470966\n",
      " -12.0485803   -0.36909145  -3.34355008 -14.81829204 -10.40801662\n",
      " -12.07501151  -0.88210546  -4.39600877 -15.45366125  -9.29345746\n",
      " -12.07501134  -0.88210552  -4.3960085  -15.45366091  -9.29345784\n",
      " -10.96601935  -0.88210064  -4.39600668 -15.45365667  -9.29345776\n",
      " -10.96601823 -10.86158297] \n",
      "\n",
      "BMY-6m-loss: 3.8596086975274466 \n",
      "\n",
      "BMY-6m-VaR-forecast: [ -6.32739385 -10.08606957 -10.03766047 -19.04982591   0.08663479\n",
      "  -8.98235004 -10.08606125 -10.03766063 -19.0498058    0.08664263\n",
      "  -8.98235678 -27.85599974 -10.11298188 -17.98089824   0.5045923\n",
      "  -9.32897999 -27.15543983 -14.0499484  -17.98095261   0.504554\n",
      "  -9.32897444 -27.15539758 -14.04996388 -15.06370721   0.50303324\n",
      " -10.30913866 -26.03678694 -13.15870996 -14.75170121 -12.44784844\n",
      " -10.30913906 -26.03678678 -13.15870975 -14.75170119 -12.44784839\n",
      " -14.86609858 -27.15542053 -14.04993329 -15.06373016 -12.78902779\n",
      " -15.07273658 -17.80242843] \n",
      "\n",
      "JNJ-6m-loss: 3.07118173817229 \n",
      "\n",
      "JNJ-6m-VaR-forecast: [ -4.10273981  -1.73005601  -5.051173    -1.1907015   -9.5421583\n",
      "  -8.67691582  -1.50701229  -4.89682511  -0.45140973  -9.16937221\n",
      "  -8.96117641  -2.86731133  -5.01958536  -1.03936663  -9.46584755\n",
      "  -8.73510658  -2.55007826  -7.42978155  -1.08544395  -9.3944079\n",
      " -10.1800587   -3.72390965  -7.40655678  -8.84923086  -9.15235362\n",
      " -10.06405251  -3.92214042  -7.55555843  -9.19867596  -9.58231945\n",
      " -10.03262881  -3.81812409  -7.45732275  -9.21993853  -9.40566621\n",
      " -13.65929963  -3.81811447  -7.45731819  -9.21994637  -9.40566556\n",
      " -13.65927833 -12.75358491] \n",
      "\n"
     ]
    },
    {
     "name": "stderr",
     "output_type": "stream",
     "text": [
      "/Users/lluisarull/opt/anaconda3/lib/python3.8/site-packages/statsmodels/regression/quantile_regression.py:191: IterationLimitWarning: Maximum number of iterations (1000) reached.\n",
      "  warnings.warn(\"Maximum number of iterations (\" + str(max_iter) +\n",
      "/Users/lluisarull/opt/anaconda3/lib/python3.8/site-packages/statsmodels/regression/quantile_regression.py:191: IterationLimitWarning: Maximum number of iterations (1000) reached.\n",
      "  warnings.warn(\"Maximum number of iterations (\" + str(max_iter) +\n"
     ]
    },
    {
     "name": "stdout",
     "output_type": "stream",
     "text": [
      "LLY-6m-loss: 8.53842655194998 \n",
      "\n",
      "LLY-6m-VaR-forecast: [ -9.72316526 -10.92657332   1.4783368   -9.18192666 -17.60685583\n",
      "  -6.0059175  -10.89561498   1.52217345  -9.18612136 -17.57869723\n",
      "  -5.99363424  -0.5305359    3.55990219  -9.37171769 -16.27838195\n",
      "  -5.42433641   0.16572756 -16.51193239  -9.51998078 -17.07439582\n",
      "  -9.83958311  -3.81626073 -15.09901245 -11.64083651 -17.05814377\n",
      "  -9.8563554   -3.86366391 -15.08133477 -11.64493683 -17.71936595\n",
      "  -9.93714511  -4.09141798 -14.99617926 -11.66480621 -17.76048407\n",
      " -11.28807679  -3.81632016 -15.09901427 -11.64082227 -17.71079145\n",
      " -11.19109264 -14.90980049] \n",
      "\n"
     ]
    },
    {
     "name": "stderr",
     "output_type": "stream",
     "text": [
      "/Users/lluisarull/opt/anaconda3/lib/python3.8/site-packages/statsmodels/regression/quantile_regression.py:191: IterationLimitWarning: Maximum number of iterations (1000) reached.\n",
      "  warnings.warn(\"Maximum number of iterations (\" + str(max_iter) +\n"
     ]
    },
    {
     "name": "stdout",
     "output_type": "stream",
     "text": [
      "MRK-6m-loss: 4.978882489437742 \n",
      "\n",
      "MRK-6m-VaR-forecast: [-12.61091981 -14.54885177 -10.28937089 -22.77097605  -7.37735049\n",
      "  -9.14040679 -14.63560736 -12.35471301 -20.74914834  -7.24373011\n",
      " -10.0100501  -14.05383327 -12.35470924 -20.74915475  -7.24372807\n",
      " -10.01004504 -14.05382905 -12.68524332 -22.77105978  -7.37728907\n",
      "  -9.1403012  -11.50708333 -14.43375841 -18.91049929  -7.24374042\n",
      " -10.01007897 -14.05385359 -12.68521641 -17.173883   -13.64527944\n",
      " -10.0100394  -14.05383002 -12.68524843 -17.17389467 -13.64525024\n",
      " -13.90047169 -12.43103572 -15.04349008 -18.06186823 -11.61118081\n",
      " -13.62369703 -18.90477262] \n",
      "\n"
     ]
    },
    {
     "name": "stderr",
     "output_type": "stream",
     "text": [
      "/Users/lluisarull/opt/anaconda3/lib/python3.8/site-packages/statsmodels/regression/quantile_regression.py:191: IterationLimitWarning: Maximum number of iterations (1000) reached.\n",
      "  warnings.warn(\"Maximum number of iterations (\" + str(max_iter) +\n"
     ]
    },
    {
     "name": "stdout",
     "output_type": "stream",
     "text": [
      "NVO-6m-loss: 5.695354265514267 \n",
      "\n",
      "NVO-6m-VaR-forecast: [-15.83820621 -16.11355647 -24.49281326 -15.66661031 -17.97219201\n",
      "  -9.39063129 -15.80375255 -24.31753692 -17.14410667 -17.02476617\n",
      "  -7.36194224 -10.52509995 -24.31753896 -17.14410574 -17.02476794\n",
      "  -7.36194362 -10.52510112 -18.52195358 -17.65521848 -16.88865303\n",
      "  -7.18746458 -10.35564153 -18.98515238 -13.3586004  -17.68289112\n",
      "  -7.24796626  -8.75942712 -17.36098637 -14.05774756 -13.56893124\n",
      "  -7.24699642  -8.7591407  -17.36123673 -14.05728274 -13.56855531\n",
      " -10.12555563  -7.65213956 -18.46785083 -12.23350422 -11.97953805\n",
      "  -6.52093265  -8.36614307] \n",
      "\n",
      "NVS-6m-loss: 4.1967392406958455 \n",
      "\n",
      "NVS-6m-VaR-forecast: [ -1.17385893  -3.95129141  -7.59904316  -5.02421032 -15.7018874\n",
      "  -5.75078453  -5.79711045  -5.65633631 -10.69348379 -14.44650923\n",
      "  -8.77379734  -3.43381957  -5.65635331 -10.69347786 -14.44649901\n",
      "  -8.77384708  -3.43381319  -9.93235083 -10.51611927 -14.25829862\n",
      "  -9.82735936  -3.71101069  -9.29177787  -8.02675412 -14.25829584\n",
      "  -9.82736467  -3.71100889  -9.29177373  -8.02674984 -11.36021256\n",
      "  -9.82736421  -3.71100871  -9.29177406  -8.02674927 -11.36021255\n",
      "  -8.96639554  -3.71100228  -9.29184872  -8.02674977 -11.36018334\n",
      "  -8.96636464  -7.48802523] \n",
      "\n"
     ]
    },
    {
     "name": "stderr",
     "output_type": "stream",
     "text": [
      "/Users/lluisarull/opt/anaconda3/lib/python3.8/site-packages/statsmodels/regression/quantile_regression.py:191: IterationLimitWarning: Maximum number of iterations (1000) reached.\n",
      "  warnings.warn(\"Maximum number of iterations (\" + str(max_iter) +\n"
     ]
    },
    {
     "name": "stdout",
     "output_type": "stream",
     "text": [
      "PFE-6m-loss: 9.425849982841536 \n",
      "\n",
      "PFE-6m-VaR-forecast: [-13.24923352  -8.21673445  -0.65617648 -14.04631325 -13.39860928\n",
      "  -8.92786397  -8.21720109  -0.65715679 -14.04799868 -13.39866622\n",
      "  -8.92156481  -5.48135596  -0.65715548 -14.0479555  -13.39868611\n",
      "  -8.92156755  -5.4813247  -12.34505161  -6.597352   -13.26571618\n",
      " -16.39951912  -6.99836535  -9.62336628 -21.11246763 -13.31371882\n",
      " -15.73575555  -7.00050793  -9.71083371 -21.17775922 -11.24002033\n",
      " -15.26685799  -6.77834304  -9.59805536 -21.05775637 -11.08382463\n",
      " -13.01609104  -6.74056392  -9.60428107 -20.89187025 -11.06073498\n",
      " -12.91944744 -16.66076959] \n",
      "\n"
     ]
    },
    {
     "name": "stderr",
     "output_type": "stream",
     "text": [
      "/Users/lluisarull/opt/anaconda3/lib/python3.8/site-packages/statsmodels/regression/quantile_regression.py:191: IterationLimitWarning: Maximum number of iterations (1000) reached.\n",
      "  warnings.warn(\"Maximum number of iterations (\" + str(max_iter) +\n",
      "/Users/lluisarull/opt/anaconda3/lib/python3.8/site-packages/statsmodels/regression/quantile_regression.py:191: IterationLimitWarning: Maximum number of iterations (1000) reached.\n",
      "  warnings.warn(\"Maximum number of iterations (\" + str(max_iter) +\n"
     ]
    },
    {
     "name": "stdout",
     "output_type": "stream",
     "text": [
      "ROG-6m-loss: 42.736614702794 \n",
      "\n",
      "ROG-6m-VaR-forecast: [-11.68330142 -42.65247597 -18.44401297 -13.77867301 -19.53927276\n",
      " -15.1593173  -41.8838649  -17.52279921 -14.33725342 -19.54279639\n",
      " -14.70032894 -30.86377096 -19.14112647 -22.49417865 -15.5146311\n",
      "  -8.40652571 -35.85265367 -21.45965092 -21.78093244 -16.10492686\n",
      "  -4.37871854 -35.08148385 -19.83055405  -6.62286436 -16.30590638\n",
      "  -7.13141312 -30.14298626 -19.64002819 -13.33177939 -24.3143873\n",
      "  -6.99553474 -30.97840641 -21.0347158  -12.77436837 -22.86825066\n",
      " -16.52782388 -36.8828301  -17.01389321 -16.56134413 -20.81255943\n",
      " -23.8629035  -29.56504793] \n",
      "\n"
     ]
    }
   ],
   "source": [
    "for t in tickers:\n",
    "    loss, var_forecast = rolling_forecast_QR(data, dates6m, t, alpha=0.05, columns_to_exclude= to_exclude, horizon=6)\n",
    "    print(f'{t}-6m-loss: {loss} \\n')\n",
    "    print(f'{t}-6m-VaR-forecast: {var_forecast} \\n')"
   ]
  },
  {
   "attachments": {},
   "cell_type": "markdown",
   "metadata": {},
   "source": [
    "- AZN-6m-loss: 3.857545776417826\n",
    "- BMY-6m-loss: 3.8596086975274466\n",
    "- JNJ-6m-loss: 3.07118173817229 \n",
    "- LLY-6m-loss: 8.53842655194998\n",
    "- MRK-6m-loss: 4.978882489437742\n",
    "- NVO-6m-loss: 5.695354265514267\n",
    "- NVS-6m-loss: 4.1967392406958455\n",
    "- PFE-6m-loss: 9.425849982841536 \n",
    "- ROG-6m-loss: 42.736614702794 "
   ]
  },
  {
   "attachments": {},
   "cell_type": "markdown",
   "metadata": {},
   "source": [
    "### 9-step-ahead VaR: 9 month"
   ]
  },
  {
   "cell_type": "code",
   "execution_count": 18,
   "metadata": {},
   "outputs": [],
   "source": [
    "dates9m = ['2022-05-01', '2022-06-01', '2022-07-01', '2022-08-01']"
   ]
  },
  {
   "cell_type": "code",
   "execution_count": 19,
   "metadata": {},
   "outputs": [
    {
     "name": "stdout",
     "output_type": "stream",
     "text": [
      "AZN-9m-loss: 9.114092203363686 \n",
      "\n",
      "AZN-9m-VaR-forecast: [ -8.42148532  -4.76214774  -8.72119684 -10.21344803 -10.23678806\n",
      " -12.14925975  -0.35600183  -3.23348072 -14.78150875  -4.7117599\n",
      "  -8.73083344 -10.29276934 -10.23470969 -12.04858076  -0.36909286\n",
      "  -3.34355078 -14.81829265  -9.54888288  -8.73083435 -10.29276814\n",
      " -10.23471045 -12.04858614  -0.36909556  -3.34354967 -14.8182937\n",
      "  -9.54888244 -11.04618244 -10.29276875 -10.23470966 -12.0485803\n",
      "  -0.36909145  -3.34355008 -14.81829204  -9.54888201 -11.04618345\n",
      " -10.75959376 -10.40801662 -12.07501151  -0.88210546  -4.39600877\n",
      " -15.45366125  -9.29345746 -10.96601925 -10.86158226 -12.07501134\n",
      "  -0.88210552  -4.3960085  -15.45366091  -9.29345784 -10.96601935\n",
      " -10.86158254  -0.88210064  -4.39600668 -15.45365667  -9.29345776\n",
      " -10.96601823 -10.86158297] \n",
      "\n",
      "BMY-9m-loss: 9.254001509976497 \n",
      "\n",
      "BMY-9m-VaR-forecast: [ -6.32739385 -10.08606957 -10.03766047 -19.04982591   0.08663479\n",
      "  -8.98235004 -27.85601537 -14.60837053 -15.31386633 -10.08606125\n",
      " -10.03766063 -19.0498058    0.08664263  -8.98235678 -27.85599974\n",
      " -14.6083595  -15.31386025 -13.12365485 -10.11298188 -17.98089824\n",
      "   0.5045923   -9.32897999 -27.15543983 -14.0499484  -15.06373598\n",
      " -12.78903497 -15.0727407  -17.98095261   0.504554    -9.32897444\n",
      " -27.15539758 -14.04996388 -15.06370721 -12.78905674 -15.07274865\n",
      " -17.80239794   0.50303324 -10.30913866 -26.03678694 -13.15870996\n",
      " -14.75170121 -12.44784844 -14.86609849 -17.3335239  -10.30913906\n",
      " -26.03678678 -13.15870975 -14.75170119 -12.44784839 -14.86609858\n",
      " -17.33352409 -27.15542053 -14.04993329 -15.06373016 -12.78902779\n",
      " -15.07273658 -17.80242843] \n",
      "\n",
      "JNJ-9m-loss: 7.0102317895879 \n",
      "\n",
      "JNJ-9m-VaR-forecast: [ -4.10273981  -1.73005601  -5.051173    -1.1907015   -9.5421583\n",
      "  -8.67691582  -2.46840667  -7.5009079   -8.98417368  -1.50701229\n",
      "  -4.89682511  -0.45140973  -9.16937221  -8.96117641  -2.86731133\n",
      "  -7.15342434  -8.81840188  -9.538356    -5.01958536  -1.03936663\n",
      "  -9.46584755  -8.73510658  -2.55007826  -7.42978155  -8.9502406\n",
      "  -9.34413297 -13.21639928  -1.08544395  -9.3944079  -10.1800587\n",
      "  -3.72390965  -7.40655678  -8.84923086  -9.89552805 -13.4057938\n",
      " -12.62959423  -9.15235362 -10.06405251  -3.92214042  -7.55555843\n",
      "  -9.19867596  -9.58231945 -13.75418837 -12.87567852 -10.03262881\n",
      "  -3.81812409  -7.45732275  -9.21993853  -9.40566621 -13.65929963\n",
      " -12.75358304  -3.81811447  -7.45731819  -9.21994637  -9.40566556\n",
      " -13.65927833 -12.75358491] \n",
      "\n"
     ]
    },
    {
     "name": "stderr",
     "output_type": "stream",
     "text": [
      "/Users/lluisarull/opt/anaconda3/lib/python3.8/site-packages/statsmodels/regression/quantile_regression.py:191: IterationLimitWarning: Maximum number of iterations (1000) reached.\n",
      "  warnings.warn(\"Maximum number of iterations (\" + str(max_iter) +\n",
      "/Users/lluisarull/opt/anaconda3/lib/python3.8/site-packages/statsmodels/regression/quantile_regression.py:191: IterationLimitWarning: Maximum number of iterations (1000) reached.\n",
      "  warnings.warn(\"Maximum number of iterations (\" + str(max_iter) +\n"
     ]
    },
    {
     "name": "stdout",
     "output_type": "stream",
     "text": [
      "LLY-9m-loss: 18.365013537311157 \n",
      "\n",
      "LLY-9m-VaR-forecast: [ -9.72316526 -10.92657332   1.4783368   -9.18192666 -17.60685583\n",
      "  -6.0059175   -0.54547222 -16.2580248  -13.98769522 -10.89561498\n",
      "   1.52217345  -9.18612136 -17.57869723  -5.99363424  -0.5305359\n",
      " -16.26340351 -13.97614684 -14.39134296   3.55990219  -9.37171769\n",
      " -16.27838195  -5.42433641   0.16572756 -16.51193239 -13.44174034\n",
      " -12.89984554 -13.66404456  -9.51998078 -17.07439582  -9.83958311\n",
      "  -3.81626073 -15.09901245 -11.64083651 -17.71074858 -11.19109781\n",
      " -14.90978064 -17.05814377  -9.8563554   -3.86366391 -15.08133477\n",
      " -11.64493683 -17.71936595 -11.20776111 -14.91559703  -9.93714511\n",
      "  -4.09141798 -14.99617926 -11.66480621 -17.76048407 -11.28807679\n",
      " -14.94341427  -3.81632016 -15.09901427 -11.64082227 -17.71079145\n",
      " -11.19109264 -14.90980049] \n",
      "\n"
     ]
    },
    {
     "name": "stderr",
     "output_type": "stream",
     "text": [
      "/Users/lluisarull/opt/anaconda3/lib/python3.8/site-packages/statsmodels/regression/quantile_regression.py:191: IterationLimitWarning: Maximum number of iterations (1000) reached.\n",
      "  warnings.warn(\"Maximum number of iterations (\" + str(max_iter) +\n"
     ]
    },
    {
     "name": "stdout",
     "output_type": "stream",
     "text": [
      "MRK-9m-loss: 11.636008464094882 \n",
      "\n",
      "MRK-9m-VaR-forecast: [-12.61091981 -14.54885177 -10.28937089 -22.77097605  -7.37735049\n",
      "  -9.14040679 -11.50705575 -14.43373401 -18.91052612 -14.63560736\n",
      " -12.35471301 -20.74914834  -7.24373011 -10.0100501  -14.05383327\n",
      " -12.68523899 -17.17389513 -13.64525356 -12.35470924 -20.74915475\n",
      "  -7.24372807 -10.01004504 -14.05382905 -12.68524332 -17.17389792\n",
      " -13.64524833 -13.90046522 -22.77105978  -7.37728907  -9.1403012\n",
      " -11.50708333 -14.43375841 -18.91049929 -11.76627589 -13.70929911\n",
      " -18.53622121  -7.24374042 -10.01007897 -14.05385359 -12.68521641\n",
      " -17.173883   -13.64527944 -13.90047635 -17.65857445 -10.0100394\n",
      " -14.05383002 -12.68524843 -17.17389467 -13.64525024 -13.90047169\n",
      " -17.65859335 -12.43103572 -15.04349008 -18.06186823 -11.61118081\n",
      " -13.62369703 -18.90477262] \n",
      "\n"
     ]
    },
    {
     "name": "stderr",
     "output_type": "stream",
     "text": [
      "/Users/lluisarull/opt/anaconda3/lib/python3.8/site-packages/statsmodels/regression/quantile_regression.py:191: IterationLimitWarning: Maximum number of iterations (1000) reached.\n",
      "  warnings.warn(\"Maximum number of iterations (\" + str(max_iter) +\n"
     ]
    },
    {
     "name": "stdout",
     "output_type": "stream",
     "text": [
      "NVO-9m-loss: 13.025934221707637 \n",
      "\n",
      "NVO-9m-VaR-forecast: [-15.83820621 -16.11355647 -24.49281326 -15.66661031 -17.97219201\n",
      "  -9.39063129 -10.19622641 -17.30294231 -14.32630077 -15.80375255\n",
      " -24.31753692 -17.14410667 -17.02476617  -7.36194224 -10.52509995\n",
      " -18.52195448 -12.89166179 -15.06558568 -24.31753896 -17.14410574\n",
      " -17.02476794  -7.36194362 -10.52510112 -18.52195358 -12.89166321\n",
      " -15.06558516 -10.78482138 -17.65521848 -16.88865303  -7.18746458\n",
      " -10.35564153 -18.98515238 -13.3586004  -14.49028471 -10.61969227\n",
      "  -8.06976338 -17.68289112  -7.24796626  -8.75942712 -17.36098637\n",
      " -14.05774756 -13.56893124 -10.12640848  -5.83232213  -7.24699642\n",
      "  -8.7591407  -17.36123673 -14.05728274 -13.56855531 -10.12555563\n",
      "  -5.83282179  -7.65213956 -18.46785083 -12.23350422 -11.97953805\n",
      "  -6.52093265  -8.36614307] \n",
      "\n",
      "NVS-9m-loss: 9.482837515999858 \n",
      "\n",
      "NVS-9m-VaR-forecast: [ -1.17385893  -3.95129141  -7.59904316  -5.02421032 -15.7018874\n",
      "  -5.75078453  -4.66649463 -10.33336141  -7.87174883  -5.79711045\n",
      "  -5.65633631 -10.69348379 -14.44650923  -8.77379734  -3.43381957\n",
      "  -9.93238411  -8.47032337 -11.29422761  -5.65635331 -10.69347786\n",
      " -14.44649901  -8.77384708  -3.43381319  -9.93235083  -8.47031414\n",
      " -11.2942136   -8.81604225 -10.51611927 -14.25829862  -9.82735936\n",
      "  -3.71101069  -9.29177787  -8.02675412 -11.36021287  -8.96639902\n",
      "  -7.48801543 -14.25829584  -9.82736467  -3.71100889  -9.29177373\n",
      "  -8.02674984 -11.36021256  -8.96639647  -7.48800787  -9.82736421\n",
      "  -3.71100871  -9.29177406  -8.02674927 -11.36021255  -8.96639554\n",
      "  -7.48800664  -3.71100228  -9.29184872  -8.02674977 -11.36018334\n",
      "  -8.96636464  -7.48802523] \n",
      "\n"
     ]
    },
    {
     "name": "stderr",
     "output_type": "stream",
     "text": [
      "/Users/lluisarull/opt/anaconda3/lib/python3.8/site-packages/statsmodels/regression/quantile_regression.py:191: IterationLimitWarning: Maximum number of iterations (1000) reached.\n",
      "  warnings.warn(\"Maximum number of iterations (\" + str(max_iter) +\n"
     ]
    },
    {
     "name": "stdout",
     "output_type": "stream",
     "text": [
      "PFE-9m-loss: 18.990352524271913 \n",
      "\n",
      "PFE-9m-VaR-forecast: [-13.24923352  -8.21673445  -0.65617648 -14.04631325 -13.39860928\n",
      "  -8.92786397  -5.48120417 -12.34146163 -18.30801982  -8.21720109\n",
      "  -0.65715679 -14.04799868 -13.39866622  -8.92156481  -5.48135596\n",
      " -12.34505264 -18.30619939  -9.88211087  -0.65715548 -14.0479555\n",
      " -13.39868611  -8.92156755  -5.4813247  -12.34505161 -18.30620044\n",
      "  -9.88208701 -11.96740027  -6.597352   -13.26571618 -16.39951912\n",
      "  -6.99836535  -9.62336628 -21.11246763 -11.24735789 -13.28333144\n",
      " -17.52909263 -13.31371882 -15.73575555  -7.00050793  -9.71083371\n",
      " -21.17775922 -11.24002033 -13.16544837 -17.23574103 -15.26685799\n",
      "  -6.77834304  -9.59805536 -21.05775637 -11.08382463 -13.01609104\n",
      " -16.82269253  -6.74056392  -9.60428107 -20.89187025 -11.06073498\n",
      " -12.91944744 -16.66076959] \n",
      "\n"
     ]
    },
    {
     "name": "stderr",
     "output_type": "stream",
     "text": [
      "/Users/lluisarull/opt/anaconda3/lib/python3.8/site-packages/statsmodels/regression/quantile_regression.py:191: IterationLimitWarning: Maximum number of iterations (1000) reached.\n",
      "  warnings.warn(\"Maximum number of iterations (\" + str(max_iter) +\n",
      "/Users/lluisarull/opt/anaconda3/lib/python3.8/site-packages/statsmodels/regression/quantile_regression.py:191: IterationLimitWarning: Maximum number of iterations (1000) reached.\n",
      "  warnings.warn(\"Maximum number of iterations (\" + str(max_iter) +\n"
     ]
    },
    {
     "name": "stdout",
     "output_type": "stream",
     "text": [
      "ROG-9m-loss: 79.82807832015772 \n",
      "\n",
      "ROG-9m-VaR-forecast: [-11.68330142 -42.65247597 -18.44401297 -13.77867301 -19.53927276\n",
      " -15.1593173  -30.63266207 -23.97444639 -19.73177042 -41.8838649\n",
      " -17.52279921 -14.33725342 -19.54279639 -14.70032894 -30.86377096\n",
      " -23.82979098 -19.42725771 -22.50836628 -19.14112647 -22.49417865\n",
      " -15.5146311   -8.40652571 -35.85265367 -21.45965092  -8.67219057\n",
      " -24.52819644 -18.70140862 -21.78093244 -16.10492686  -4.37871854\n",
      " -35.08148385 -19.83055405  -6.62286436 -24.81740371 -19.14120039\n",
      " -19.20429064 -16.30590638  -7.13141312 -30.14298626 -19.64002819\n",
      " -13.33177939 -24.3143873  -18.45081013 -24.25502326  -6.99553474\n",
      " -30.97840641 -21.0347158  -12.77436837 -22.86825066 -16.52782388\n",
      " -23.46906607 -36.8828301  -17.01389321 -16.56134413 -20.81255943\n",
      " -23.8629035  -29.56504793] \n",
      "\n"
     ]
    }
   ],
   "source": [
    "for t in tickers:\n",
    "    loss, var_forecast = rolling_forecast_QR(data, dates6m, t, alpha=0.05, columns_to_exclude= to_exclude, horizon=9)\n",
    "    print(f'{t}-9m-loss: {loss} \\n')\n",
    "    print(f'{t}-9m-VaR-forecast: {var_forecast} \\n')"
   ]
  },
  {
   "attachments": {},
   "cell_type": "markdown",
   "metadata": {},
   "source": [
    "- AZN-9m-loss: 9.114092203363686\n",
    "- BMY-9m-loss: 9.254001509976497\n",
    "- JNJ-9m-loss: 7.0102317895879 \n",
    "- LLY-9m-loss: 18.365013537311157\n",
    "- MRK-9m-loss: 11.636008464094882\n",
    "- NVO-9m-loss: 13.025934221707637 \n",
    "- NVS-9m-loss: 9.482837515999858\n",
    "- PFE-9m-loss: 18.990352524271913 \n",
    "- ROG-9m-loss: 79.82807832015772"
   ]
  },
  {
   "attachments": {},
   "cell_type": "markdown",
   "metadata": {},
   "source": [
    "### 12-step-ahead VaR: 12 months"
   ]
  },
  {
   "cell_type": "code",
   "execution_count": 20,
   "metadata": {},
   "outputs": [],
   "source": [
    "dates12m = ['2022-05-01']"
   ]
  },
  {
   "cell_type": "code",
   "execution_count": 21,
   "metadata": {},
   "outputs": [
    {
     "name": "stdout",
     "output_type": "stream",
     "text": [
      "AZN-12m-loss: 7.520407923044603 \n",
      "\n",
      "AZN-12m-VaR-forecast: [ -8.42148532  -4.76214774  -8.72119684 -10.21344803 -10.23678806\n",
      " -12.14925975  -0.35600183  -3.23348072 -14.78150875  -9.4753878\n",
      " -10.94301546 -10.67661861] \n",
      "\n",
      "BMY-12m-loss: 7.410233048427555 \n",
      "\n",
      "BMY-12m-VaR-forecast: [ -6.32739385 -10.08606957 -10.03766047 -19.04982591   0.08663479\n",
      "  -8.98235004 -27.85601537 -14.60837053 -15.31386633 -13.12366045\n",
      " -15.26709152 -18.46848488] \n",
      "\n",
      "JNJ-12m-loss: 6.182844572027813 \n",
      "\n",
      "JNJ-12m-VaR-forecast: [ -4.10273981  -1.73005601  -5.051173    -1.1907015   -9.5421583\n",
      "  -8.67691582  -2.46840667  -7.5009079   -8.98417368  -9.29412923\n",
      " -13.1172061  -12.58810601] \n",
      "\n",
      "LLY-12m-loss: 18.926479661664928 \n",
      "\n",
      "LLY-12m-VaR-forecast: [ -9.72316526 -10.92657332   1.4783368   -9.18192666 -17.60685583\n",
      "  -6.0059175   -0.54547222 -16.2580248  -13.98769522 -14.42345577\n",
      " -13.92169439 -16.5547594 ] \n",
      "\n",
      "MRK-12m-loss: 9.466614858117968 \n",
      "\n",
      "MRK-12m-VaR-forecast: [-12.61091981 -14.54885177 -10.28937089 -22.77097605  -7.37735049\n",
      "  -9.14040679 -11.50705575 -14.43373401 -18.91052612 -11.76631461\n",
      " -13.70934087 -18.53618017] \n",
      "\n",
      "NVO-12m-loss: 10.750503619065153 \n",
      "\n",
      "NVO-12m-VaR-forecast: [-15.83820621 -16.11355647 -24.49281326 -15.66661031 -17.97219201\n",
      "  -9.39063129 -10.19622641 -17.30294231 -14.32630077 -14.37458712\n",
      " -10.81839957  -6.3823803 ] \n",
      "\n",
      "NVS-12m-loss: 11.536438011396003 \n",
      "\n",
      "NVS-12m-VaR-forecast: [ -1.17385893  -3.95129141  -7.59904316  -5.02421032 -15.7018874\n",
      "  -5.75078453  -4.66649463 -10.33336141  -7.87174883 -11.57734954\n",
      "  -8.37810171  -6.28747454] \n",
      "\n",
      "PFE-12m-loss: 16.002290711471506 \n",
      "\n",
      "PFE-12m-VaR-forecast: [-13.24923352  -8.21673445  -0.65617648 -14.04631325 -13.39860928\n",
      "  -8.92786397  -5.48120417 -12.34146163 -18.30801982  -9.88109659\n",
      " -11.96749298 -19.31982235] \n",
      "\n",
      "ROG-12m-loss: 50.22000803618026 \n",
      "\n",
      "ROG-12m-VaR-forecast: [-11.68330142 -42.65247597 -18.44401297 -13.77867301 -19.53927276\n",
      " -15.1593173  -30.63266207 -23.97444639 -19.73177042 -22.09125546\n",
      " -17.11907764 -25.55271067] \n",
      "\n"
     ]
    }
   ],
   "source": [
    "for t in tickers:\n",
    "    loss, var_forecast = rolling_forecast_QR(data, dates12m, t, alpha=0.05, columns_to_exclude= to_exclude, horizon=12)\n",
    "    print(f'{t}-12m-loss: {loss} \\n')\n",
    "    print(f'{t}-12m-VaR-forecast: {var_forecast} \\n')"
   ]
  },
  {
   "attachments": {},
   "cell_type": "markdown",
   "metadata": {},
   "source": [
    "- AZN-12m-loss: 7.520407923044603\n",
    "- BMY-12m-loss: 7.410233048427555 \n",
    "- JNJ-12m-loss: 6.182844572027813\n",
    "- LLY-12m-loss: 18.926479661664928\n",
    "- MRK-12m-loss: 9.466614858117968\n",
    "- NVO-12m-loss: 10.750503619065153 \n",
    "- NVS-12m-loss: 11.536438011396003 \n",
    "- PFE-12m-loss: 16.002290711471506\n",
    "- ROG-12m-loss: 50.22000803618026 "
   ]
  },
  {
   "attachments": {},
   "cell_type": "markdown",
   "metadata": {},
   "source": [
    "# 2. Ticker data"
   ]
  },
  {
   "cell_type": "code",
   "execution_count": 22,
   "metadata": {},
   "outputs": [
    {
     "data": {
      "text/plain": [
       "['unemployment_rate',\n",
       " 'unemployment_rate_lag1',\n",
       " 'unemployment_rate_lag2',\n",
       " 'unemployment_rate_lag3',\n",
       " 'CPI',\n",
       " 'CPI_lag1',\n",
       " 'CPI_lag2',\n",
       " 'CPI_lag3',\n",
       " 'treasury_yield',\n",
       " 'treasury_yield_lag1',\n",
       " 'treasury_yield_lag2',\n",
       " 'treasury_yield_lag3',\n",
       " 'GDP_growth',\n",
       " 'GDP_growth_lag1',\n",
       " 'GDP_growth_lag2',\n",
       " 'GDP_growth_lag3',\n",
       " 'SP500_return',\n",
       " 'SP500_return_lag1',\n",
       " 'SP500_return_lag2',\n",
       " 'SP500_return_lag3',\n",
       " 'inflation_change',\n",
       " 'inflation_change_lag1',\n",
       " 'inflation_change_lag2',\n",
       " 'inflation_change_lag3',\n",
       " 'unemp_change',\n",
       " 'unemp_change_lag1',\n",
       " 'unemp_change_lag2',\n",
       " 'unemp_change_lag3',\n",
       " 'treasury_yield_change',\n",
       " 'treasury_yield_change_lag1',\n",
       " 'treasury_yield_change_lag2',\n",
       " 'treasury_yield_change_lag3',\n",
       " 'AZN',\n",
       " 'BMY',\n",
       " 'JNJ',\n",
       " 'LLY',\n",
       " 'MRK',\n",
       " 'NVO',\n",
       " 'NVS',\n",
       " 'PFE',\n",
       " 'ROG',\n",
       " 'Date']"
      ]
     },
     "execution_count": 22,
     "metadata": {},
     "output_type": "execute_result"
    }
   ],
   "source": [
    "data_stocks = data.copy()\n",
    "to_exclude2 = []\n",
    "\n",
    "for covariate in covs:\n",
    "    to_exclude2.append(covariate)\n",
    "    to_exclude2.append(f'{covariate}_lag1')\n",
    "    to_exclude2.append(f'{covariate}_lag2')\n",
    "    to_exclude2.append(f'{covariate}_lag3')\n",
    "\n",
    "for t in tickers:\n",
    "    to_exclude2.append(t)\n",
    "\n",
    "to_exclude2.append('Date')\n",
    "to_exclude2"
   ]
  },
  {
   "attachments": {},
   "cell_type": "markdown",
   "metadata": {},
   "source": [
    "### 1-step-ahead VaR: 1 month"
   ]
  },
  {
   "cell_type": "code",
   "execution_count": 23,
   "metadata": {},
   "outputs": [
    {
     "name": "stderr",
     "output_type": "stream",
     "text": [
      "/Users/lluisarull/opt/anaconda3/lib/python3.8/site-packages/statsmodels/regression/quantile_regression.py:191: IterationLimitWarning: Maximum number of iterations (1000) reached.\n",
      "  warnings.warn(\"Maximum number of iterations (\" + str(max_iter) +\n",
      "/Users/lluisarull/opt/anaconda3/lib/python3.8/site-packages/statsmodels/regression/quantile_regression.py:191: IterationLimitWarning: Maximum number of iterations (1000) reached.\n",
      "  warnings.warn(\"Maximum number of iterations (\" + str(max_iter) +\n"
     ]
    },
    {
     "name": "stdout",
     "output_type": "stream",
     "text": [
      "AZN-1m-loss: 0.9246658669637693 \n",
      "\n",
      "AZN-1m-VaR-forecast: [ -9.36771076  -8.13137597  -2.62882678  -9.59354468  -1.72839603\n",
      "  -5.33447889 -17.55886985 -20.07621851  -2.30508953  -8.09234079\n",
      "  -9.79748238 -11.79650003] \n",
      "\n",
      "BMY-1m-loss: 1.8087503597175576 \n",
      "\n",
      "BMY-1m-VaR-forecast: [-13.82705149 -13.47864121  -2.25699303  -8.89940481  -6.34795734\n",
      "  -9.13750069 -27.16562517 -18.5975089    5.13173218  -9.56104948\n",
      " -15.84115568  -8.21397313] \n",
      "\n"
     ]
    },
    {
     "name": "stderr",
     "output_type": "stream",
     "text": [
      "/Users/lluisarull/opt/anaconda3/lib/python3.8/site-packages/statsmodels/regression/quantile_regression.py:191: IterationLimitWarning: Maximum number of iterations (1000) reached.\n",
      "  warnings.warn(\"Maximum number of iterations (\" + str(max_iter) +\n",
      "/Users/lluisarull/opt/anaconda3/lib/python3.8/site-packages/statsmodels/regression/quantile_regression.py:191: IterationLimitWarning: Maximum number of iterations (1000) reached.\n",
      "  warnings.warn(\"Maximum number of iterations (\" + str(max_iter) +\n",
      "/Users/lluisarull/opt/anaconda3/lib/python3.8/site-packages/statsmodels/regression/quantile_regression.py:191: IterationLimitWarning: Maximum number of iterations (1000) reached.\n",
      "  warnings.warn(\"Maximum number of iterations (\" + str(max_iter) +\n"
     ]
    },
    {
     "name": "stdout",
     "output_type": "stream",
     "text": [
      "JNJ-1m-loss: 1.4361016556024417 \n",
      "\n",
      "JNJ-1m-VaR-forecast: [ -6.15649329  -7.81781753  -0.07232725  -4.33346428  -2.70630701\n",
      "  -4.49657262 -14.93481871 -11.78481826   0.84192782  -0.29090706\n",
      "  -4.72426797  -8.02053309] \n",
      "\n"
     ]
    },
    {
     "name": "stderr",
     "output_type": "stream",
     "text": [
      "/Users/lluisarull/opt/anaconda3/lib/python3.8/site-packages/statsmodels/regression/quantile_regression.py:191: IterationLimitWarning: Maximum number of iterations (1000) reached.\n",
      "  warnings.warn(\"Maximum number of iterations (\" + str(max_iter) +\n"
     ]
    },
    {
     "name": "stdout",
     "output_type": "stream",
     "text": [
      "LLY-1m-loss: 1.8842964009116303 \n",
      "\n",
      "LLY-1m-VaR-forecast: [ -6.14072326  -9.61406632  -0.71319375  -7.99808656  -4.22119513\n",
      "  -2.8523984  -12.18582854  -8.8378503   -0.33977203  -3.33301764\n",
      "  -6.87244235  -9.33817259] \n",
      "\n"
     ]
    },
    {
     "name": "stderr",
     "output_type": "stream",
     "text": [
      "/Users/lluisarull/opt/anaconda3/lib/python3.8/site-packages/statsmodels/regression/quantile_regression.py:191: IterationLimitWarning: Maximum number of iterations (1000) reached.\n",
      "  warnings.warn(\"Maximum number of iterations (\" + str(max_iter) +\n"
     ]
    },
    {
     "name": "stdout",
     "output_type": "stream",
     "text": [
      "MRK-1m-loss: 0.9004028112929506 \n",
      "\n",
      "MRK-1m-VaR-forecast: [ -7.32187049 -11.64091425  -1.81312622 -12.38869863  -3.492677\n",
      "  -5.798102   -19.64253357 -20.01244708   0.31740521  -8.52365592\n",
      " -10.6181439  -10.46165602] \n",
      "\n"
     ]
    },
    {
     "name": "stderr",
     "output_type": "stream",
     "text": [
      "/Users/lluisarull/opt/anaconda3/lib/python3.8/site-packages/statsmodels/regression/quantile_regression.py:191: IterationLimitWarning: Maximum number of iterations (1000) reached.\n",
      "  warnings.warn(\"Maximum number of iterations (\" + str(max_iter) +\n",
      "/Users/lluisarull/opt/anaconda3/lib/python3.8/site-packages/statsmodels/regression/quantile_regression.py:191: IterationLimitWarning: Maximum number of iterations (1000) reached.\n",
      "  warnings.warn(\"Maximum number of iterations (\" + str(max_iter) +\n",
      "/Users/lluisarull/opt/anaconda3/lib/python3.8/site-packages/statsmodels/regression/quantile_regression.py:191: IterationLimitWarning: Maximum number of iterations (1000) reached.\n",
      "  warnings.warn(\"Maximum number of iterations (\" + str(max_iter) +\n"
     ]
    },
    {
     "name": "stdout",
     "output_type": "stream",
     "text": [
      "NVO-1m-loss: 1.377840118704824 \n",
      "\n",
      "NVO-1m-VaR-forecast: [ -8.20196364 -12.41155919  -0.09273882  -9.0359561   -3.89089468\n",
      "  -4.23598953 -20.74529059 -19.09984813   2.30348934  -9.1813527\n",
      " -11.11360099  -8.83932217] \n",
      "\n"
     ]
    },
    {
     "name": "stderr",
     "output_type": "stream",
     "text": [
      "/Users/lluisarull/opt/anaconda3/lib/python3.8/site-packages/statsmodels/regression/quantile_regression.py:191: IterationLimitWarning: Maximum number of iterations (1000) reached.\n",
      "  warnings.warn(\"Maximum number of iterations (\" + str(max_iter) +\n"
     ]
    },
    {
     "name": "stdout",
     "output_type": "stream",
     "text": [
      "NVS-1m-loss: 1.791568422036246 \n",
      "\n",
      "NVS-1m-VaR-forecast: [ -5.78553099 -11.63144006  -1.73271593  -7.9543678   -3.1623979\n",
      "  -6.09390647 -17.7371067  -20.98813932   3.32509782  -5.01667869\n",
      "  -4.84942     -5.92433106] \n",
      "\n",
      "PFE-1m-loss: 1.3525566069687258 \n",
      "\n",
      "PFE-1m-VaR-forecast: [ -2.59299749 -11.40880616  -4.79890379 -12.26902203  -1.55699875\n",
      "  -2.91433986 -14.63434576 -11.79033581  -1.06547875  -9.03582999\n",
      " -10.30013641  -5.41391124] \n",
      "\n"
     ]
    },
    {
     "name": "stderr",
     "output_type": "stream",
     "text": [
      "/Users/lluisarull/opt/anaconda3/lib/python3.8/site-packages/statsmodels/regression/quantile_regression.py:191: IterationLimitWarning: Maximum number of iterations (1000) reached.\n",
      "  warnings.warn(\"Maximum number of iterations (\" + str(max_iter) +\n"
     ]
    },
    {
     "name": "stdout",
     "output_type": "stream",
     "text": [
      "ROG-1m-loss: 5.831112464847229 \n",
      "\n",
      "ROG-1m-VaR-forecast: [-18.52425012 -20.56218378   0.50279445 -21.71270189  -5.49670467\n",
      "   1.58608746 -34.32139633 -39.97136489   4.11646439 -17.58537641\n",
      " -12.87910199  -6.4869154 ] \n",
      "\n"
     ]
    }
   ],
   "source": [
    "for t in tickers:\n",
    "    loss, var_forecast = rolling_forecast_QR(data, dates1m, t, alpha=0.05, columns_to_exclude= to_exclude2, horizon=1)\n",
    "    print(f'{t}-1m-loss: {loss} \\n')\n",
    "    print(f'{t}-1m-VaR-forecast: {var_forecast} \\n')"
   ]
  },
  {
   "attachments": {},
   "cell_type": "markdown",
   "metadata": {},
   "source": [
    "### 3-step-ahead VaR: 3 months"
   ]
  },
  {
   "cell_type": "code",
   "execution_count": 24,
   "metadata": {},
   "outputs": [
    {
     "name": "stderr",
     "output_type": "stream",
     "text": [
      "/Users/lluisarull/opt/anaconda3/lib/python3.8/site-packages/statsmodels/regression/quantile_regression.py:191: IterationLimitWarning: Maximum number of iterations (1000) reached.\n",
      "  warnings.warn(\"Maximum number of iterations (\" + str(max_iter) +\n",
      "/Users/lluisarull/opt/anaconda3/lib/python3.8/site-packages/statsmodels/regression/quantile_regression.py:191: IterationLimitWarning: Maximum number of iterations (1000) reached.\n",
      "  warnings.warn(\"Maximum number of iterations (\" + str(max_iter) +\n"
     ]
    },
    {
     "name": "stdout",
     "output_type": "stream",
     "text": [
      "AZN-1m-loss: 3.096447107630346 \n",
      "\n",
      "AZN-1m-VaR-forecast: [ -9.36771076  -8.11676319  -2.62579691  -8.13137597  -2.71009107\n",
      "  -9.10494199  -2.62882678  -9.13988034  -0.93597553  -9.59354468\n",
      "  -0.62399616  -5.58330016  -1.72839603  -5.18649739 -17.55886023\n",
      "  -5.33447889 -17.52098174 -20.3700372  -17.55886985 -20.51161758\n",
      "  -1.8040118  -20.07621851  -2.30506822  -8.46628317  -2.30508953\n",
      "  -8.4663028  -11.25920174  -8.09234079 -10.74712811 -11.74367257] \n",
      "\n",
      "BMY-1m-loss: 6.177991979688931 \n",
      "\n",
      "BMY-1m-VaR-forecast: [-13.82705149 -13.4786425   -2.25700077 -13.47864121  -2.25700055\n",
      "  -8.82525446  -2.25699303  -8.82522056  -7.23641161  -8.89940481\n",
      "  -6.16793858  -9.13750884  -6.34795734  -9.12674616 -26.83015557\n",
      "  -9.13750069 -27.19979926 -18.68694508 -27.16562517 -18.73067357\n",
      "   5.08063517 -18.5975089    5.13178423  -8.76117011   5.13173218\n",
      "  -8.76141521 -15.57760286  -9.56104948 -16.53572245  -8.11929194] \n",
      "\n"
     ]
    },
    {
     "name": "stderr",
     "output_type": "stream",
     "text": [
      "/Users/lluisarull/opt/anaconda3/lib/python3.8/site-packages/statsmodels/regression/quantile_regression.py:191: IterationLimitWarning: Maximum number of iterations (1000) reached.\n",
      "  warnings.warn(\"Maximum number of iterations (\" + str(max_iter) +\n",
      "/Users/lluisarull/opt/anaconda3/lib/python3.8/site-packages/statsmodels/regression/quantile_regression.py:191: IterationLimitWarning: Maximum number of iterations (1000) reached.\n",
      "  warnings.warn(\"Maximum number of iterations (\" + str(max_iter) +\n"
     ]
    },
    {
     "name": "stdout",
     "output_type": "stream",
     "text": [
      "JNJ-1m-loss: 4.970245290854381 \n",
      "\n",
      "JNJ-1m-VaR-forecast: [ -6.15649329  -7.86964367  -0.14101453  -7.81781753  -0.07340876\n",
      "  -4.00853479  -0.07232725  -4.00773969  -2.52442805  -4.33346428\n",
      "  -2.70656917  -4.4927618   -2.70630701  -4.49657374 -14.93480162\n",
      "  -4.49657262 -14.93480655 -11.78481852 -14.93481871 -11.78480852\n",
      "   0.80293103 -11.78481826   0.80294235   0.84603873   0.84192782\n",
      "   0.64352664  -3.78793344  -0.29090706  -4.73634915  -7.95273913] \n",
      "\n"
     ]
    },
    {
     "name": "stderr",
     "output_type": "stream",
     "text": [
      "/Users/lluisarull/opt/anaconda3/lib/python3.8/site-packages/statsmodels/regression/quantile_regression.py:191: IterationLimitWarning: Maximum number of iterations (1000) reached.\n",
      "  warnings.warn(\"Maximum number of iterations (\" + str(max_iter) +\n"
     ]
    },
    {
     "name": "stdout",
     "output_type": "stream",
     "text": [
      "LLY-1m-loss: 6.3427347918510035 \n",
      "\n",
      "LLY-1m-VaR-forecast: [ -6.14072326  -9.61406506  -0.71319966  -9.61406632  -0.71319925\n",
      "  -7.07702452  -0.71319375  -7.0769978   -4.75988222  -7.99808656\n",
      "  -4.22116208  -2.85236963  -4.22119513  -2.85243322 -12.18595175\n",
      "  -2.8523984  -12.18597201  -8.83786842 -12.18582854  -8.83785932\n",
      "  -0.26777896  -8.8378503   -0.26776509  -3.19339128  -0.33977203\n",
      "  -3.67231387  -6.72421861  -3.33301764  -6.82289056  -8.71320389] \n",
      "\n"
     ]
    },
    {
     "name": "stderr",
     "output_type": "stream",
     "text": [
      "/Users/lluisarull/opt/anaconda3/lib/python3.8/site-packages/statsmodels/regression/quantile_regression.py:191: IterationLimitWarning: Maximum number of iterations (1000) reached.\n",
      "  warnings.warn(\"Maximum number of iterations (\" + str(max_iter) +\n"
     ]
    },
    {
     "name": "stdout",
     "output_type": "stream",
     "text": [
      "MRK-1m-loss: 2.972840958969182 \n",
      "\n",
      "MRK-1m-VaR-forecast: [ -7.32187049 -11.64091718  -1.81313379 -11.64091425  -1.81313143\n",
      " -10.4534833   -1.81312622 -10.45346827  -2.63655228 -12.38869863\n",
      "  -3.49779705  -5.79914399  -3.492677    -5.79823374 -19.64278378\n",
      "  -5.798102   -19.64258138 -20.01257694 -19.64253357 -20.01242879\n",
      "   0.55220574 -20.01244708   0.55219574  -7.33958502   0.31740521\n",
      "  -7.82623549  -9.84651698  -8.52365592 -10.61935741 -10.4665301 ] \n",
      "\n"
     ]
    },
    {
     "name": "stderr",
     "output_type": "stream",
     "text": [
      "/Users/lluisarull/opt/anaconda3/lib/python3.8/site-packages/statsmodels/regression/quantile_regression.py:191: IterationLimitWarning: Maximum number of iterations (1000) reached.\n",
      "  warnings.warn(\"Maximum number of iterations (\" + str(max_iter) +\n",
      "/Users/lluisarull/opt/anaconda3/lib/python3.8/site-packages/statsmodels/regression/quantile_regression.py:191: IterationLimitWarning: Maximum number of iterations (1000) reached.\n",
      "  warnings.warn(\"Maximum number of iterations (\" + str(max_iter) +\n",
      "/Users/lluisarull/opt/anaconda3/lib/python3.8/site-packages/statsmodels/regression/quantile_regression.py:191: IterationLimitWarning: Maximum number of iterations (1000) reached.\n",
      "  warnings.warn(\"Maximum number of iterations (\" + str(max_iter) +\n"
     ]
    },
    {
     "name": "stdout",
     "output_type": "stream",
     "text": [
      "NVO-1m-loss: 4.631828819819036 \n",
      "\n",
      "NVO-1m-VaR-forecast: [ -8.20196364 -12.41152516  -0.09280017 -12.41155919  -0.09279126\n",
      "  -9.03595952  -0.09273882  -9.03587345  -3.89077088  -9.0359561\n",
      "  -3.89088324  -4.23598732  -3.89089468  -4.23598618 -20.74518312\n",
      "  -4.23598953 -20.74527259 -17.69442865 -20.74529059 -17.69440387\n",
      "   1.99892731 -19.09984813   2.69477652  -8.61886289   2.30348934\n",
      "  -8.24504154  -9.62869152  -9.1813527  -11.11361083  -8.83932106] \n",
      "\n"
     ]
    },
    {
     "name": "stderr",
     "output_type": "stream",
     "text": [
      "/Users/lluisarull/opt/anaconda3/lib/python3.8/site-packages/statsmodels/regression/quantile_regression.py:191: IterationLimitWarning: Maximum number of iterations (1000) reached.\n",
      "  warnings.warn(\"Maximum number of iterations (\" + str(max_iter) +\n"
     ]
    },
    {
     "name": "stdout",
     "output_type": "stream",
     "text": [
      "NVS-1m-loss: 5.94593699482729 \n",
      "\n",
      "NVS-1m-VaR-forecast: [ -5.78553099 -10.93243965  -2.05368315 -11.63144006  -1.7261771\n",
      "  -7.57732382  -1.73271593  -7.56679896  -3.7224835   -7.9543678\n",
      "  -3.2205499   -6.34823796  -3.1623979   -6.13551306 -17.73712234\n",
      "  -6.09390647 -17.76466108 -20.97157367 -17.7371067  -20.92396468\n",
      "   3.32509892 -20.98813932   3.32097305  -3.95435462   3.32509782\n",
      "  -4.26497817  -3.9456217   -5.01667869  -4.84942552  -5.92438122] \n",
      "\n",
      "PFE-1m-loss: 4.606524350287815 \n",
      "\n",
      "PFE-1m-VaR-forecast: [ -2.59299749 -11.40885662  -4.85362477 -11.40880616  -4.85358165\n",
      " -12.0208297   -4.79890379 -12.023343    -1.24671363 -12.26902203\n",
      "  -1.53808349  -2.90407094  -1.55699875  -2.97292984 -14.73048589\n",
      "  -2.91433986 -14.63837266 -12.14804509 -14.63434576 -12.14742925\n",
      "  -1.29177635 -11.79033581  -1.47654692 -10.41976804  -1.06547875\n",
      "  -8.75615288  -9.32157885  -9.03582999 -10.30013778  -5.41391359] \n",
      "\n"
     ]
    },
    {
     "name": "stderr",
     "output_type": "stream",
     "text": [
      "/Users/lluisarull/opt/anaconda3/lib/python3.8/site-packages/statsmodels/regression/quantile_regression.py:191: IterationLimitWarning: Maximum number of iterations (1000) reached.\n",
      "  warnings.warn(\"Maximum number of iterations (\" + str(max_iter) +\n"
     ]
    },
    {
     "name": "stdout",
     "output_type": "stream",
     "text": [
      "ROG-1m-loss: 20.502695782956835 \n",
      "\n",
      "ROG-1m-VaR-forecast: [-18.52425012 -20.56215673   0.50279267 -20.56218378   0.50274662\n",
      " -20.03580684   0.50279445 -20.03573742  -3.20141294 -21.71270189\n",
      "  -5.49610395   1.75055126  -5.49670467   1.75028542 -21.7619532\n",
      "   1.58608746 -22.71407325 -43.55680943 -34.32139633 -39.97139764\n",
      "   4.11643652 -39.97136489   4.116463   -17.5853904    4.11646439\n",
      " -17.58538471 -12.87903768 -17.58537641 -12.87906227  -6.48683556] \n",
      "\n"
     ]
    }
   ],
   "source": [
    "for t in tickers:\n",
    "    loss, var_forecast= rolling_forecast_QR(data, dates3m, t, alpha=0.05, columns_to_exclude= to_exclude2, horizon=3)\n",
    "    print(f'{t}-1m-loss: {loss} \\n')\n",
    "    print(f'{t}-1m-VaR-forecast: {var_forecast} \\n')"
   ]
  },
  {
   "attachments": {},
   "cell_type": "markdown",
   "metadata": {},
   "source": [
    "### 6-step-ahead VaR: 6 months"
   ]
  },
  {
   "cell_type": "code",
   "execution_count": 25,
   "metadata": {},
   "outputs": [
    {
     "name": "stderr",
     "output_type": "stream",
     "text": [
      "/Users/lluisarull/opt/anaconda3/lib/python3.8/site-packages/statsmodels/regression/quantile_regression.py:191: IterationLimitWarning: Maximum number of iterations (1000) reached.\n",
      "  warnings.warn(\"Maximum number of iterations (\" + str(max_iter) +\n",
      "/Users/lluisarull/opt/anaconda3/lib/python3.8/site-packages/statsmodels/regression/quantile_regression.py:191: IterationLimitWarning: Maximum number of iterations (1000) reached.\n",
      "  warnings.warn(\"Maximum number of iterations (\" + str(max_iter) +\n"
     ]
    },
    {
     "name": "stdout",
     "output_type": "stream",
     "text": [
      "AZN-6m-loss: 5.945866171920068 \n",
      "\n",
      "AZN-6m-VaR-forecast: [ -9.36771076  -8.11676319  -2.62579691  -9.14115752  -0.93883327\n",
      "  -5.31214763  -8.13137597  -2.71009107  -9.10494199  -0.85959429\n",
      "  -5.4433708  -17.4146239   -2.62882678  -9.13988034  -0.93597553\n",
      "  -5.31685572 -17.44209476 -21.82716361  -9.59354468  -0.62399616\n",
      "  -5.58330016 -18.79505434 -20.67081221  -0.15284737  -1.72839603\n",
      "  -5.18649739 -17.55886023 -20.5116112   -1.80401641  -8.09146432\n",
      "  -5.33447889 -17.52098174 -20.3700372   -2.07022276  -8.32665206\n",
      " -11.1052869  -17.55886985 -20.51161758  -1.8040118   -8.09145845\n",
      " -10.745958   -11.74371174] \n",
      "\n",
      "BMY-6m-loss: 11.40577719057356 \n",
      "\n",
      "BMY-6m-VaR-forecast: [-13.82705149 -13.4786425   -2.25700077  -8.82525597  -7.23638821\n",
      " -10.9645861  -13.47864121  -2.25700055  -8.82525446  -7.23638924\n",
      " -10.96458629 -29.07099176  -2.25699303  -8.82522056  -7.23641161\n",
      " -10.96459352 -29.07096965 -18.36168434  -8.89940481  -6.16793858\n",
      "  -9.13750884 -27.19993263 -18.6869401    5.06959038  -6.34795734\n",
      "  -9.12674616 -26.83015557 -18.59716502   5.13171369  -8.76151383\n",
      "  -9.13750069 -27.19979926 -18.68694508   5.06961699  -9.20256241\n",
      " -15.75317432 -27.16562517 -18.73067357   5.08063517  -9.15632064\n",
      " -15.73561294  -6.48414468] \n",
      "\n"
     ]
    },
    {
     "name": "stderr",
     "output_type": "stream",
     "text": [
      "/Users/lluisarull/opt/anaconda3/lib/python3.8/site-packages/statsmodels/regression/quantile_regression.py:191: IterationLimitWarning: Maximum number of iterations (1000) reached.\n",
      "  warnings.warn(\"Maximum number of iterations (\" + str(max_iter) +\n",
      "/Users/lluisarull/opt/anaconda3/lib/python3.8/site-packages/statsmodels/regression/quantile_regression.py:191: IterationLimitWarning: Maximum number of iterations (1000) reached.\n",
      "  warnings.warn(\"Maximum number of iterations (\" + str(max_iter) +\n"
     ]
    },
    {
     "name": "stdout",
     "output_type": "stream",
     "text": [
      "JNJ-6m-loss: 8.718092404130447 \n",
      "\n",
      "JNJ-6m-VaR-forecast: [ -6.15649329  -7.86964367  -0.14101453  -4.08046094  -2.58067595\n",
      "  -4.35494076  -7.81781753  -0.07340876  -4.00853479  -2.52356565\n",
      "  -4.30056387 -14.06263368  -0.07232725  -4.00773969  -2.52442805\n",
      "  -4.30017377 -14.05710323 -12.63789673  -4.33346428  -2.70656917\n",
      "  -4.4927618  -14.9431869  -11.7704947    0.79542515  -2.70630701\n",
      "  -4.49657374 -14.93480162 -11.78481607   0.80294172   0.84603414\n",
      "  -4.49657262 -14.93480655 -11.78481852   0.80294329   0.84603558\n",
      "  -3.86031112 -14.93481871 -11.78480852   0.80293103   0.84600017\n",
      "  -3.86031313  -7.93130369] \n",
      "\n",
      "LLY-6m-loss: 11.09032853591484 \n",
      "\n",
      "LLY-6m-VaR-forecast: [ -6.14072326  -9.61406506  -0.71319966  -7.07701567  -4.75988981\n",
      "  -3.63485244  -9.61406632  -0.71319925  -7.07702452  -4.7598749\n",
      "  -3.63483593 -12.48745292  -0.71319375  -7.0769978   -4.75988222\n",
      "  -3.63485771 -12.48745352  -9.85612078  -7.99808656  -4.22116208\n",
      "  -2.85236963 -12.18595047  -8.8378807   -0.26778537  -4.22119513\n",
      "  -2.85243322 -12.18595175  -8.83795253  -0.26774333  -3.1930903\n",
      "  -2.8523984  -12.18597201  -8.83786842  -0.26777445  -3.19311969\n",
      "  -6.60225483 -12.18582854  -8.83785932  -0.26777896  -3.19323319\n",
      "  -6.60217691  -8.50107073] \n",
      "\n",
      "MRK-6m-loss: 5.835423702717743 \n",
      "\n",
      "MRK-6m-VaR-forecast: [ -7.32187049 -11.64091718  -1.81313379 -10.45349029  -2.63655592\n",
      "  -5.66340318 -11.64091425  -1.81313143 -10.4534833   -2.63655475\n",
      "  -5.66340312 -19.26712312  -1.81312622 -10.45346827  -2.63655228\n",
      "  -5.66340304 -19.26712375 -17.70444068 -12.38869863  -3.49779705\n",
      "  -5.79914399 -19.64419193 -20.01751742   0.54968688  -3.492677\n",
      "  -5.79823374 -19.64278378 -20.01319902   0.55182427  -7.34026591\n",
      "  -5.798102   -19.64258138 -20.01257694   0.5521322   -7.33970069\n",
      "  -9.76473471 -19.64253357 -20.01242879   0.55220574  -7.33956545\n",
      "  -9.76462631  -9.84152342] \n",
      "\n"
     ]
    },
    {
     "name": "stderr",
     "output_type": "stream",
     "text": [
      "/Users/lluisarull/opt/anaconda3/lib/python3.8/site-packages/statsmodels/regression/quantile_regression.py:191: IterationLimitWarning: Maximum number of iterations (1000) reached.\n",
      "  warnings.warn(\"Maximum number of iterations (\" + str(max_iter) +\n"
     ]
    },
    {
     "name": "stdout",
     "output_type": "stream",
     "text": [
      "NVO-6m-loss: 8.07677146390158 \n",
      "\n",
      "NVO-6m-VaR-forecast: [ -8.20196364 -12.41152516  -0.09280017  -9.0359656   -3.89081498\n",
      "  -4.23599235 -12.41155919  -0.09279126  -9.03595952  -3.89077751\n",
      "  -4.23596671 -20.74534442  -0.09273882  -9.03587345  -3.89077088\n",
      "  -4.23574211 -20.74496336 -17.69400808  -9.0359561   -3.89088324\n",
      "  -4.23598732 -20.74520422 -17.69439936   1.99899317  -3.89089468\n",
      "  -4.23598618 -20.74518312 -17.69439058   1.99900879  -9.10366992\n",
      "  -4.23598953 -20.74527259 -17.69442865   1.99894193  -9.10367152\n",
      " -11.04063568 -20.74529059 -17.69440387   1.99892731  -9.10366849\n",
      " -11.04065224  -8.87532912] \n",
      "\n"
     ]
    },
    {
     "name": "stderr",
     "output_type": "stream",
     "text": [
      "/Users/lluisarull/opt/anaconda3/lib/python3.8/site-packages/statsmodels/regression/quantile_regression.py:191: IterationLimitWarning: Maximum number of iterations (1000) reached.\n",
      "  warnings.warn(\"Maximum number of iterations (\" + str(max_iter) +\n"
     ]
    },
    {
     "name": "stdout",
     "output_type": "stream",
     "text": [
      "NVS-6m-loss: 11.184685945148818 \n",
      "\n",
      "NVS-6m-VaR-forecast: [ -5.78553099 -10.93243965  -2.05368315  -7.39815503  -3.94794404\n",
      "  -6.41649707 -11.63144006  -1.7261771   -7.57732382  -3.71704556\n",
      "  -7.10465989 -18.42481041  -1.73271593  -7.56679896  -3.7224835\n",
      "  -7.10693964 -18.41564165 -21.41956396  -7.9543678   -3.2205499\n",
      "  -6.34823796 -18.0368459  -21.03564595   3.4154374   -3.1623979\n",
      "  -6.13551306 -17.73712234 -20.92397172   3.32510661  -4.2649676\n",
      "  -6.09390647 -17.76466108 -20.97157367   3.31595614  -4.29931743\n",
      "  -3.98393014 -17.7371067  -20.92396468   3.32509892  -4.26497945\n",
      "  -3.94562316  -5.86167016] \n",
      "\n",
      "PFE-6m-loss: 8.715167969773534 \n",
      "\n",
      "PFE-6m-VaR-forecast: [ -2.59299749 -11.40885662  -4.85362477 -12.02079769  -1.19585113\n",
      "  -2.86981911 -11.40880616  -4.85358165 -12.0208297   -1.19585955\n",
      "  -2.86975133 -13.34911894  -4.79890379 -12.023343    -1.24671363\n",
      "  -2.79976288 -12.73050619 -10.89045617 -12.26902203  -1.53808349\n",
      "  -2.90407094 -14.61612651 -12.13545528  -1.31295692  -1.55699875\n",
      "  -2.97292984 -14.73048589 -12.19343447  -1.224128   -10.0836429\n",
      "  -2.91433986 -14.63837266 -12.14804509  -1.29800517 -10.18803448\n",
      "  -9.38143143 -14.63434576 -12.14742925  -1.29177635 -10.19290423\n",
      "  -9.3773465   -3.57537412] \n",
      "\n",
      "ROG-6m-loss: 52.714879967270576 \n",
      "\n",
      "ROG-6m-VaR-forecast: [-18.52425012 -20.56215673   0.50279267 -20.03574002  -3.20141\n",
      "  -0.91102225 -20.56218378   0.50274662 -20.03580684  -3.20134341\n",
      "  -0.91096548 -30.23066374   0.50279445 -20.03573742  -3.20141294\n",
      "  -0.91102431 -30.23071375 -45.88726764 -21.71270189  -5.49610395\n",
      "   1.75055126 -21.76277822 -43.89169669   1.15505222  -5.49670467\n",
      "   1.75028542 -21.7619532  -43.89064174   1.15509266 -20.57300805\n",
      "   1.58608746 -22.71407325 -43.55680943   1.1238107  -20.24131019\n",
      " -13.77621127 -34.32139633 -39.97139764   4.11643652 -17.58541545\n",
      " -12.87889007  -6.48708513] \n",
      "\n"
     ]
    },
    {
     "name": "stderr",
     "output_type": "stream",
     "text": [
      "/Users/lluisarull/opt/anaconda3/lib/python3.8/site-packages/statsmodels/regression/quantile_regression.py:191: IterationLimitWarning: Maximum number of iterations (1000) reached.\n",
      "  warnings.warn(\"Maximum number of iterations (\" + str(max_iter) +\n"
     ]
    }
   ],
   "source": [
    "for t in tickers:\n",
    "    loss, var_forecast= rolling_forecast_QR(data, dates6m, t, alpha=0.05, columns_to_exclude= to_exclude2, horizon=6)\n",
    "    print(f'{t}-6m-loss: {loss} \\n')\n",
    "    print(f'{t}-6m-VaR-forecast: {var_forecast} \\n')"
   ]
  },
  {
   "attachments": {},
   "cell_type": "markdown",
   "metadata": {},
   "source": [
    "### 9-step-ahead VaR: 9 months"
   ]
  },
  {
   "cell_type": "code",
   "execution_count": 26,
   "metadata": {},
   "outputs": [
    {
     "name": "stderr",
     "output_type": "stream",
     "text": [
      "/Users/lluisarull/opt/anaconda3/lib/python3.8/site-packages/statsmodels/regression/quantile_regression.py:191: IterationLimitWarning: Maximum number of iterations (1000) reached.\n",
      "  warnings.warn(\"Maximum number of iterations (\" + str(max_iter) +\n"
     ]
    },
    {
     "name": "stdout",
     "output_type": "stream",
     "text": [
      "AZN-9m-loss: 10.13261383769435 \n",
      "\n",
      "AZN-9m-VaR-forecast: [ -9.36771076  -8.11676319  -2.62579691  -9.14115752  -0.93883327\n",
      "  -5.31214763 -17.44306261 -21.8431454    1.43893377  -8.13137597\n",
      "  -2.71009107  -9.10494199  -0.85959429  -5.4433708  -17.4146239\n",
      " -21.39722965   1.24786366  -5.17912081  -2.62882678  -9.13988034\n",
      "  -0.93597553  -5.31685572 -17.44209476 -21.82716361   1.43208559\n",
      "  -5.02445943  -9.16301588  -9.59354468  -0.62399616  -5.58330016\n",
      " -18.79505434 -20.67081221  -0.15284737  -5.02256714  -9.52811674\n",
      " -12.25969144] \n",
      "\n",
      "BMY-9m-loss: 19.361702901683017 \n",
      "\n",
      "BMY-9m-VaR-forecast: [-13.82705149 -13.4786425   -2.25700077  -8.82525597  -7.23638821\n",
      " -10.9645861  -29.07099286 -18.36167234   5.83604035 -13.47864121\n",
      "  -2.25700055  -8.82525446  -7.23638924 -10.96458629 -29.07099176\n",
      " -18.36167321   5.83604105 -10.69317517  -2.25699303  -8.82522056\n",
      "  -7.23641161 -10.96459352 -29.07096965 -18.36168434   5.83606027\n",
      " -10.69310457 -16.13289529  -8.89940481  -6.16793858  -9.13750884\n",
      " -27.19993263 -18.6869401    5.06959038  -9.20272776 -15.75323886\n",
      "  -6.50430879] \n",
      "\n"
     ]
    },
    {
     "name": "stderr",
     "output_type": "stream",
     "text": [
      "/Users/lluisarull/opt/anaconda3/lib/python3.8/site-packages/statsmodels/regression/quantile_regression.py:191: IterationLimitWarning: Maximum number of iterations (1000) reached.\n",
      "  warnings.warn(\"Maximum number of iterations (\" + str(max_iter) +\n",
      "/Users/lluisarull/opt/anaconda3/lib/python3.8/site-packages/statsmodels/regression/quantile_regression.py:191: IterationLimitWarning: Maximum number of iterations (1000) reached.\n",
      "  warnings.warn(\"Maximum number of iterations (\" + str(max_iter) +\n"
     ]
    },
    {
     "name": "stdout",
     "output_type": "stream",
     "text": [
      "JNJ-9m-loss: 14.696143004454655 \n",
      "\n",
      "JNJ-9m-VaR-forecast: [ -6.15649329  -7.86964367  -0.14101453  -4.08046094  -2.58067595\n",
      "  -4.35494076 -14.23065566 -12.38943153   0.95332344  -7.81781753\n",
      "  -0.07340876  -4.00853479  -2.52356565  -4.30056387 -14.06263368\n",
      " -12.63811302   0.9859846    0.29439777  -0.07232725  -4.00773969\n",
      "  -2.52442805  -4.30017377 -14.05710323 -12.63789673   0.98662342\n",
      "   0.29283701  -4.06512847  -4.33346428  -2.70656917  -4.4927618\n",
      " -14.9431869  -11.7704947    0.79542515   0.81719087  -3.85944181\n",
      "  -7.92985768] \n",
      "\n",
      "LLY-9m-loss: 19.32721842346639 \n",
      "\n",
      "LLY-9m-VaR-forecast: [ -6.14072326  -9.61406506  -0.71319966  -7.07701567  -4.75988981\n",
      "  -3.63485244 -12.4874342   -9.85609075   0.50500719  -9.61406632\n",
      "  -0.71319925  -7.07702452  -4.7598749   -3.63483593 -12.48745292\n",
      "  -9.85610284   0.5050121   -2.8189522   -0.71319375  -7.0769978\n",
      "  -4.75988222  -3.63485771 -12.48745352  -9.85612078   0.50502044\n",
      "  -2.81891386  -6.37486071  -7.99808656  -4.22116208  -2.85236963\n",
      " -12.18595047  -8.8378807   -0.26778537  -3.19314555  -6.60225098\n",
      "  -8.50120197] \n",
      "\n",
      "MRK-9m-loss: 9.569316957170077 \n",
      "\n",
      "MRK-9m-VaR-forecast: [ -7.32187049 -11.64091718  -1.81313379 -10.45349029  -2.63655592\n",
      "  -5.66340318 -19.26712271 -17.70446139   1.73895347 -11.64091425\n",
      "  -1.81313143 -10.4534833   -2.63655475  -5.66340312 -19.26712312\n",
      " -17.7044549    1.73895792  -5.46575222  -1.81312622 -10.45346827\n",
      "  -2.63655228  -5.66340304 -19.26712375 -17.70444068   1.73896757\n",
      "  -5.46573663  -8.85979985 -12.38869863  -3.49779705  -5.79914399\n",
      " -19.64419193 -20.01751742   0.54968688  -7.34419023  -9.76833843\n",
      "  -9.84257765] \n",
      "\n"
     ]
    },
    {
     "name": "stderr",
     "output_type": "stream",
     "text": [
      "/Users/lluisarull/opt/anaconda3/lib/python3.8/site-packages/statsmodels/regression/quantile_regression.py:191: IterationLimitWarning: Maximum number of iterations (1000) reached.\n",
      "  warnings.warn(\"Maximum number of iterations (\" + str(max_iter) +\n"
     ]
    },
    {
     "name": "stdout",
     "output_type": "stream",
     "text": [
      "NVO-9m-loss: 12.515121581661338 \n",
      "\n",
      "NVO-9m-VaR-forecast: [ -8.20196364 -12.41152516  -0.09280017  -9.0359656   -3.89081498\n",
      "  -4.23599235 -20.74532754 -17.69445086   1.9989022  -12.41155919\n",
      "  -0.09279126  -9.03595952  -3.89077751  -4.23596671 -20.74534442\n",
      " -17.69442666   1.99885486  -9.1036492   -0.09273882  -9.03587345\n",
      "  -3.89077088  -4.23574211 -20.74496336 -17.69400808   1.99886087\n",
      "  -9.10345328 -11.04047992  -9.0359561   -3.89088324  -4.23598732\n",
      " -20.74520422 -17.69439936   1.99899317  -9.10367064 -11.04056988\n",
      "  -8.87517304] \n",
      "\n"
     ]
    },
    {
     "name": "stderr",
     "output_type": "stream",
     "text": [
      "/Users/lluisarull/opt/anaconda3/lib/python3.8/site-packages/statsmodels/regression/quantile_regression.py:191: IterationLimitWarning: Maximum number of iterations (1000) reached.\n",
      "  warnings.warn(\"Maximum number of iterations (\" + str(max_iter) +\n"
     ]
    },
    {
     "name": "stdout",
     "output_type": "stream",
     "text": [
      "NVS-9m-loss: 18.39853240319071 \n",
      "\n",
      "NVS-9m-VaR-forecast: [ -5.78553099 -10.93243965  -2.05368315  -7.39815503  -3.94794404\n",
      "  -6.41649707 -16.68408759 -20.62413543   3.11285351 -11.63144006\n",
      "  -1.7261771   -7.57732382  -3.71704556  -7.10465989 -18.42481041\n",
      " -21.41728061   3.76070118  -3.73065678  -1.73271593  -7.56679896\n",
      "  -3.7224835   -7.10693964 -18.41564165 -21.41956396   3.75972716\n",
      "  -3.719213    -3.40561605  -7.9543678   -3.2205499   -6.34823796\n",
      " -18.0368459  -21.03564595   3.4154374   -4.1629805   -3.88611927\n",
      "  -5.97073062] \n",
      "\n",
      "PFE-9m-loss: 15.069090847440615 \n",
      "\n",
      "PFE-9m-VaR-forecast: [ -2.59299749 -11.40885662  -4.85362477 -12.02079769  -1.19585113\n",
      "  -2.86981911 -13.34953674 -11.03234821  -0.64736341 -11.40880616\n",
      "  -4.85358165 -12.0208297   -1.19585955  -2.86975133 -13.34911894\n",
      " -11.03225199  -0.64733848 -10.29763781  -4.79890379 -12.023343\n",
      "  -1.24671363  -2.79976288 -12.73050619 -10.89045617  -0.39856015\n",
      " -10.65368192  -8.29919839 -12.26902203  -1.53808349  -2.90407094\n",
      " -14.61612651 -12.13545528  -1.31295692 -10.1983406   -9.38346997\n",
      "  -3.58090991] \n",
      "\n",
      "ROG-9m-loss: 64.2663479240212 \n",
      "\n",
      "ROG-9m-VaR-forecast: [-18.52425012 -20.56215673   0.50279267 -20.03574002  -3.20141\n",
      "  -0.91102225 -30.23071251 -45.88726447   2.96030892 -20.56218378\n",
      "   0.50274662 -20.03580684  -3.20134341  -0.91096548 -30.23066374\n",
      " -45.88718421   2.96027672 -16.43753924   0.50279445 -20.03573742\n",
      "  -3.20141294  -0.91102431 -30.23071375 -45.88726764   2.9603101\n",
      " -16.43736937 -10.60151861 -21.71270189  -5.49610395   1.75055126\n",
      " -21.76277822 -43.89169669   1.15505222 -20.57267851 -13.8924353\n",
      "  -2.8344949 ] \n",
      "\n"
     ]
    }
   ],
   "source": [
    "for t in tickers:\n",
    "    loss, var_forecast= rolling_forecast_QR(data, dates9m, t, alpha=0.05, columns_to_exclude= to_exclude2, horizon=9)\n",
    "    print(f'{t}-9m-loss: {loss} \\n')\n",
    "    print(f'{t}-9m-VaR-forecast: {var_forecast} \\n')"
   ]
  },
  {
   "attachments": {},
   "cell_type": "markdown",
   "metadata": {},
   "source": [
    "### 12-step-ahead VaR: 12 months"
   ]
  },
  {
   "cell_type": "code",
   "execution_count": 27,
   "metadata": {},
   "outputs": [
    {
     "name": "stdout",
     "output_type": "stream",
     "text": [
      "AZN-12m-loss: 12.894688327558503 \n",
      "\n",
      "AZN-12m-VaR-forecast: [ -9.36771076  -8.11676319  -2.62579691  -9.14115752  -0.93883327\n",
      "  -5.31214763 -17.44306261 -21.8431454    1.43893377  -5.0186897\n",
      "  -9.16117273 -11.15526038] \n",
      "\n",
      "BMY-12m-loss: 22.513338462580236 \n",
      "\n",
      "BMY-12m-VaR-forecast: [-13.82705149 -13.4786425   -2.25700077  -8.82525597  -7.23638821\n",
      " -10.9645861  -29.07099286 -18.36167234   5.83604035 -10.69317891\n",
      " -16.1329343   -5.26414003] \n",
      "\n",
      "JNJ-12m-loss: 17.174892536981957 \n",
      "\n",
      "JNJ-12m-VaR-forecast: [ -6.15649329  -7.86964367  -0.14101453  -4.08046094  -2.58067595\n",
      "  -4.35494076 -14.23065566 -12.38943153   0.95332344   0.35792056\n",
      "  -4.00051218  -7.98310128] \n",
      "\n",
      "LLY-12m-loss: 23.38840515001542 \n",
      "\n",
      "LLY-12m-VaR-forecast: [ -6.14072326  -9.61406506  -0.71319966  -7.07701567  -4.75988981\n",
      "  -3.63485244 -12.4874342   -9.85609075   0.50500719  -2.81894542\n",
      "  -6.37486867  -8.11616972] \n",
      "\n",
      "MRK-12m-loss: 11.606960164957968 \n",
      "\n",
      "MRK-12m-VaR-forecast: [ -7.32187049 -11.64091718  -1.81313379 -10.45349029  -2.63655592\n",
      "  -5.66340318 -19.26712271 -17.70446139   1.73895347  -5.46575962\n",
      "  -8.85980645  -9.92056696] \n",
      "\n",
      "NVO-12m-loss: 16.168664291095727 \n",
      "\n",
      "NVO-12m-VaR-forecast: [ -8.20196364 -12.41152516  -0.09280017  -9.0359656   -3.89081498\n",
      "  -4.23599235 -20.74532754 -17.69445086   1.9989022   -9.1036724\n",
      " -11.04068755  -8.87535625] \n",
      "\n",
      "NVS-12m-loss: 21.529847737859644 \n",
      "\n",
      "NVS-12m-VaR-forecast: [ -5.78553099 -10.93243965  -2.05368315  -7.39815503  -3.94794404\n",
      "  -6.41649707 -16.68408759 -20.62413543   3.11285351  -3.93258532\n",
      "  -3.5283629   -5.14955198] \n",
      "\n",
      "PFE-12m-loss: 17.023062269019686 \n",
      "\n",
      "PFE-12m-VaR-forecast: [ -2.59299749 -11.40885662  -4.85362477 -12.02079769  -1.19585113\n",
      "  -2.86981911 -13.34953674 -11.03234821  -0.64736341 -10.29736459\n",
      "  -8.37270463  -2.55986223] \n",
      "\n",
      "ROG-12m-loss: 67.34642087715592 \n",
      "\n",
      "ROG-12m-VaR-forecast: [-18.52425012 -20.56215673   0.50279267 -20.03574002  -3.20141\n",
      "  -0.91102225 -30.23071251 -45.88726447   2.96030892 -16.43737579\n",
      " -10.60152229  -5.80995226] \n",
      "\n"
     ]
    }
   ],
   "source": [
    "for t in tickers:\n",
    "    loss, var_forecast= rolling_forecast_QR(data, dates12m, t, alpha=0.05, columns_to_exclude= to_exclude2, horizon=12)\n",
    "    print(f'{t}-12m-loss: {loss} \\n')\n",
    "    print(f'{t}-12m-VaR-forecast: {var_forecast} \\n')"
   ]
  },
  {
   "attachments": {},
   "cell_type": "markdown",
   "metadata": {},
   "source": [
    "# 3. All Covariates"
   ]
  },
  {
   "cell_type": "code",
   "execution_count": 28,
   "metadata": {},
   "outputs": [
    {
     "data": {
      "text/plain": [
       "['Date',\n",
       " 'unemployment_rate',\n",
       " 'CPI',\n",
       " 'treasury_yield',\n",
       " 'GDP_growth',\n",
       " 'SP500_return',\n",
       " 'inflation_change',\n",
       " 'unemp_change',\n",
       " 'treasury_yield_change',\n",
       " 'AZN',\n",
       " 'BMY',\n",
       " 'JNJ',\n",
       " 'LLY',\n",
       " 'MRK',\n",
       " 'NVO',\n",
       " 'NVS',\n",
       " 'PFE',\n",
       " 'ROG']"
      ]
     },
     "execution_count": 28,
     "metadata": {},
     "output_type": "execute_result"
    }
   ],
   "source": [
    "to_exclude3 = ['Date']\n",
    "\n",
    "for covariate in covs:\n",
    "    to_exclude3.append(covariate)\n",
    "\n",
    "for t in tickers:\n",
    "    to_exclude3.append(t)\n",
    "\n",
    "to_exclude3"
   ]
  },
  {
   "attachments": {},
   "cell_type": "markdown",
   "metadata": {},
   "source": [
    "### 1-step-ahead VaR: 1 months"
   ]
  },
  {
   "cell_type": "code",
   "execution_count": 29,
   "metadata": {},
   "outputs": [
    {
     "name": "stdout",
     "output_type": "stream",
     "text": [
      "AZN-1m-loss: 0.5079276964925706 \n",
      "\n",
      "AZN-1m-VaR-forecast: [ -7.61857227  -0.37745581  -6.82325599 -11.48124416 -12.30741192\n",
      "  -5.26026587  -1.93132624 -14.50824726 -17.25928955  -1.25552064\n",
      "  -8.882634   -19.8281017 ] \n",
      "\n"
     ]
    },
    {
     "name": "stderr",
     "output_type": "stream",
     "text": [
      "/Users/lluisarull/opt/anaconda3/lib/python3.8/site-packages/statsmodels/regression/quantile_regression.py:191: IterationLimitWarning: Maximum number of iterations (1000) reached.\n",
      "  warnings.warn(\"Maximum number of iterations (\" + str(max_iter) +\n",
      "/Users/lluisarull/opt/anaconda3/lib/python3.8/site-packages/statsmodels/regression/quantile_regression.py:191: IterationLimitWarning: Maximum number of iterations (1000) reached.\n",
      "  warnings.warn(\"Maximum number of iterations (\" + str(max_iter) +\n"
     ]
    },
    {
     "name": "stdout",
     "output_type": "stream",
     "text": [
      "BMY-1m-loss: 0.5918539103580055 \n",
      "\n",
      "BMY-1m-VaR-forecast: [-10.35690661 -12.32950473 -10.04379576   2.70476258 -14.22136722\n",
      " -18.03919733 -20.05837988 -13.32710257  -3.68305233 -13.64784223\n",
      " -19.39644759  -7.57230608] \n",
      "\n"
     ]
    },
    {
     "name": "stderr",
     "output_type": "stream",
     "text": [
      "/Users/lluisarull/opt/anaconda3/lib/python3.8/site-packages/statsmodels/regression/quantile_regression.py:191: IterationLimitWarning: Maximum number of iterations (1000) reached.\n",
      "  warnings.warn(\"Maximum number of iterations (\" + str(max_iter) +\n",
      "/Users/lluisarull/opt/anaconda3/lib/python3.8/site-packages/statsmodels/regression/quantile_regression.py:191: IterationLimitWarning: Maximum number of iterations (1000) reached.\n",
      "  warnings.warn(\"Maximum number of iterations (\" + str(max_iter) +\n"
     ]
    },
    {
     "name": "stdout",
     "output_type": "stream",
     "text": [
      "JNJ-1m-loss: 2.1903887543716873 \n",
      "\n",
      "JNJ-1m-VaR-forecast: [  3.37032639   0.91803463   8.82992516  -5.26546206  -6.95172854\n",
      " -12.98424934  -4.07035232 -16.09659276  -7.24953931 -13.50920163\n",
      " -13.1438927  -13.25714044] \n",
      "\n",
      "LLY-1m-loss: 1.7478643485190049 \n",
      "\n",
      "LLY-1m-VaR-forecast: [-8.37916998 -1.4815798   0.09511685  4.94421541 -7.70725714 -9.84046692\n",
      " -1.6399168   0.93342853 -8.04841266  0.67033021 -7.64316883 -2.36775888] \n",
      "\n",
      "MRK-1m-loss: 0.6775421493440499 \n",
      "\n",
      "MRK-1m-VaR-forecast: [ -4.13695358 -18.66440061 -22.10073919  -3.24794958  -7.30067813\n",
      " -10.66234938 -23.27108048 -13.31109346 -14.52088368  -5.12156205\n",
      "  -3.72965318 -12.81150269] \n",
      "\n"
     ]
    },
    {
     "name": "stderr",
     "output_type": "stream",
     "text": [
      "/Users/lluisarull/opt/anaconda3/lib/python3.8/site-packages/statsmodels/regression/quantile_regression.py:191: IterationLimitWarning: Maximum number of iterations (1000) reached.\n",
      "  warnings.warn(\"Maximum number of iterations (\" + str(max_iter) +\n",
      "/Users/lluisarull/opt/anaconda3/lib/python3.8/site-packages/statsmodels/regression/quantile_regression.py:191: IterationLimitWarning: Maximum number of iterations (1000) reached.\n",
      "  warnings.warn(\"Maximum number of iterations (\" + str(max_iter) +\n",
      "/Users/lluisarull/opt/anaconda3/lib/python3.8/site-packages/statsmodels/regression/quantile_regression.py:191: IterationLimitWarning: Maximum number of iterations (1000) reached.\n",
      "  warnings.warn(\"Maximum number of iterations (\" + str(max_iter) +\n",
      "/Users/lluisarull/opt/anaconda3/lib/python3.8/site-packages/statsmodels/regression/quantile_regression.py:191: IterationLimitWarning: Maximum number of iterations (1000) reached.\n",
      "  warnings.warn(\"Maximum number of iterations (\" + str(max_iter) +\n"
     ]
    },
    {
     "name": "stdout",
     "output_type": "stream",
     "text": [
      "NVO-1m-loss: 0.7316751689588057 \n",
      "\n",
      "NVO-1m-VaR-forecast: [-13.94838551 -13.17737452 -11.75927964 -17.31611138  -2.14032091\n",
      "  -5.6686049  -20.64336122 -23.82618425  -5.09342573   1.00514371\n",
      "  -5.54209451 -15.35681532] \n",
      "\n"
     ]
    },
    {
     "name": "stderr",
     "output_type": "stream",
     "text": [
      "/Users/lluisarull/opt/anaconda3/lib/python3.8/site-packages/statsmodels/regression/quantile_regression.py:191: IterationLimitWarning: Maximum number of iterations (1000) reached.\n",
      "  warnings.warn(\"Maximum number of iterations (\" + str(max_iter) +\n",
      "/Users/lluisarull/opt/anaconda3/lib/python3.8/site-packages/statsmodels/regression/quantile_regression.py:191: IterationLimitWarning: Maximum number of iterations (1000) reached.\n",
      "  warnings.warn(\"Maximum number of iterations (\" + str(max_iter) +\n",
      "/Users/lluisarull/opt/anaconda3/lib/python3.8/site-packages/statsmodels/regression/quantile_regression.py:191: IterationLimitWarning: Maximum number of iterations (1000) reached.\n",
      "  warnings.warn(\"Maximum number of iterations (\" + str(max_iter) +\n",
      "/Users/lluisarull/opt/anaconda3/lib/python3.8/site-packages/statsmodels/regression/quantile_regression.py:191: IterationLimitWarning: Maximum number of iterations (1000) reached.\n",
      "  warnings.warn(\"Maximum number of iterations (\" + str(max_iter) +\n"
     ]
    },
    {
     "name": "stdout",
     "output_type": "stream",
     "text": [
      "NVS-1m-loss: 1.500690054653104 \n",
      "\n",
      "NVS-1m-VaR-forecast: [ -1.53477542  -4.41670162  -0.59798413  -4.2965583  -10.94808271\n",
      " -11.15681327  -3.92001253  -9.7571145   -6.65483055  -8.79170685\n",
      "  -9.43009995 -16.78008953] \n",
      "\n",
      "PFE-1m-loss: 1.8012508922196033 \n",
      "\n",
      "PFE-1m-VaR-forecast: [ -0.14624336  -7.91821671  -0.65558583 -16.2738069   -8.05322941\n",
      "  -8.22203572  -4.02089354  -5.11708409 -15.31130981 -11.37201983\n",
      "  -6.77635669 -15.72792169] \n",
      "\n"
     ]
    },
    {
     "name": "stderr",
     "output_type": "stream",
     "text": [
      "/Users/lluisarull/opt/anaconda3/lib/python3.8/site-packages/statsmodels/regression/quantile_regression.py:191: IterationLimitWarning: Maximum number of iterations (1000) reached.\n",
      "  warnings.warn(\"Maximum number of iterations (\" + str(max_iter) +\n",
      "/Users/lluisarull/opt/anaconda3/lib/python3.8/site-packages/statsmodels/regression/quantile_regression.py:191: IterationLimitWarning: Maximum number of iterations (1000) reached.\n",
      "  warnings.warn(\"Maximum number of iterations (\" + str(max_iter) +\n",
      "/Users/lluisarull/opt/anaconda3/lib/python3.8/site-packages/statsmodels/regression/quantile_regression.py:191: IterationLimitWarning: Maximum number of iterations (1000) reached.\n",
      "  warnings.warn(\"Maximum number of iterations (\" + str(max_iter) +\n",
      "/Users/lluisarull/opt/anaconda3/lib/python3.8/site-packages/statsmodels/regression/quantile_regression.py:191: IterationLimitWarning: Maximum number of iterations (1000) reached.\n",
      "  warnings.warn(\"Maximum number of iterations (\" + str(max_iter) +\n"
     ]
    },
    {
     "name": "stdout",
     "output_type": "stream",
     "text": [
      "ROG-1m-loss: 4.663419770167789 \n",
      "\n",
      "ROG-1m-VaR-forecast: [  3.19609747 -32.34829619 -46.75804839 -17.44972878 -18.85442165\n",
      " -19.46996605  -9.89040781   7.91281354 -29.6618781  -29.37429799\n",
      " -18.58943582   6.21816457] \n",
      "\n"
     ]
    }
   ],
   "source": [
    "for t in tickers:\n",
    "    loss, var_forecast= rolling_forecast_QR(data, dates1m, t, alpha=0.05, columns_to_exclude= to_exclude3, horizon=1)\n",
    "    print(f'{t}-1m-loss: {loss} \\n')\n",
    "    print(f'{t}-1m-VaR-forecast: {var_forecast} \\n')"
   ]
  },
  {
   "attachments": {},
   "cell_type": "markdown",
   "metadata": {},
   "source": [
    "### 3-step-ahead VaR: 3 months"
   ]
  },
  {
   "cell_type": "code",
   "execution_count": 30,
   "metadata": {},
   "outputs": [
    {
     "name": "stdout",
     "output_type": "stream",
     "text": [
      "AZN-3m-loss: 1.4931088634313388 \n",
      "\n",
      "AZN-3m-VaR-forecast: [ -7.61857227  -0.37746816  -6.82327351  -0.37745581  -6.82325683\n",
      " -11.59327864  -6.82325599 -11.59327851 -12.2343114  -11.48124416\n",
      " -12.27998624  -5.46480588 -12.30741192  -5.50104157  -2.12183846\n",
      "  -5.26026587  -2.06250322 -14.55240479  -1.93132624 -14.50824534\n",
      " -17.25928204 -14.50824726 -17.25928576  -1.3498097  -17.25928955\n",
      "  -1.34981643  -9.01061435  -1.25552064  -8.98265356 -19.6594751 ] \n",
      "\n"
     ]
    },
    {
     "name": "stderr",
     "output_type": "stream",
     "text": [
      "/Users/lluisarull/opt/anaconda3/lib/python3.8/site-packages/statsmodels/regression/quantile_regression.py:191: IterationLimitWarning: Maximum number of iterations (1000) reached.\n",
      "  warnings.warn(\"Maximum number of iterations (\" + str(max_iter) +\n",
      "/Users/lluisarull/opt/anaconda3/lib/python3.8/site-packages/statsmodels/regression/quantile_regression.py:191: IterationLimitWarning: Maximum number of iterations (1000) reached.\n",
      "  warnings.warn(\"Maximum number of iterations (\" + str(max_iter) +\n"
     ]
    },
    {
     "name": "stdout",
     "output_type": "stream",
     "text": [
      "BMY-3m-loss: 1.9476084892670174 \n",
      "\n",
      "BMY-3m-VaR-forecast: [-10.35690661 -13.34201936 -10.02604033 -12.32950473 -11.13101793\n",
      "   6.07583502 -10.04379576   3.44236357 -14.01888785   2.70476258\n",
      " -14.4061538  -15.90062215 -14.22136722 -18.0323     -19.89720659\n",
      " -18.03919733 -20.09181888 -14.45579883 -20.05837988 -14.40407407\n",
      "  -4.65463676 -13.32710257  -2.13020078 -11.29192142  -3.68305233\n",
      " -13.14375537 -18.93910149 -13.64784223 -19.1070124   -5.89287885] \n",
      "\n"
     ]
    },
    {
     "name": "stderr",
     "output_type": "stream",
     "text": [
      "/Users/lluisarull/opt/anaconda3/lib/python3.8/site-packages/statsmodels/regression/quantile_regression.py:191: IterationLimitWarning: Maximum number of iterations (1000) reached.\n",
      "  warnings.warn(\"Maximum number of iterations (\" + str(max_iter) +\n",
      "/Users/lluisarull/opt/anaconda3/lib/python3.8/site-packages/statsmodels/regression/quantile_regression.py:191: IterationLimitWarning: Maximum number of iterations (1000) reached.\n",
      "  warnings.warn(\"Maximum number of iterations (\" + str(max_iter) +\n"
     ]
    },
    {
     "name": "stdout",
     "output_type": "stream",
     "text": [
      "JNJ-3m-loss: 6.520812879800585 \n",
      "\n",
      "JNJ-3m-VaR-forecast: [  3.37032639   1.74190453   7.10402377   0.91803463   7.58958286\n",
      "  -4.9087387    8.82992516  -7.45970375  -6.03870955  -5.26546206\n",
      "  -5.82784468 -12.98425197  -6.95172854 -12.99888705  -3.94544182\n",
      " -12.98424934  -4.54793072 -15.38173261  -4.07035232 -15.37694417\n",
      "  -7.1526321  -16.09659276  -6.53277845 -12.95826439  -7.24953931\n",
      " -14.74318838 -13.00838563 -13.50920163 -13.18803171 -13.37981351] \n",
      "\n",
      "LLY-3m-loss: 5.561117256114587 \n",
      "\n",
      "LLY-3m-VaR-forecast: [ -8.37916998  -3.14656889   0.04177761  -1.4815798   -0.57106361\n",
      "   6.85172676   0.09511685   7.26864327  -5.04285842   4.94421541\n",
      "  -7.70724857  -9.98582483  -7.70725714  -9.98583225  -1.48977672\n",
      "  -9.84046692  -1.63990757   0.9334401   -1.6399168    0.93342736\n",
      " -10.24895785   0.93342853 -10.24899161   0.91720628  -8.04841266\n",
      "   0.30550679  -7.75103211   0.67033021  -7.6923056   -3.14811929] \n",
      "\n",
      "MRK-3m-loss: 2.179476546433824 \n",
      "\n",
      "MRK-3m-VaR-forecast: [ -4.13695358 -18.66439909 -22.33990173 -18.66440061 -22.3399086\n",
      "  -4.60240131 -22.10073919  -4.13489436  -6.68551237  -3.24794958\n",
      "  -7.30138916 -10.64974942  -7.30067813 -10.66233213 -23.29837324\n",
      " -10.66234938 -23.29839443 -15.26611974 -23.27108048 -15.2575064\n",
      " -10.2710136  -13.31109346 -13.75401424  -5.60008375 -14.52088368\n",
      "  -5.40720699  -3.96794267  -5.12156205  -3.76731193 -12.54616835] \n",
      "\n"
     ]
    },
    {
     "name": "stderr",
     "output_type": "stream",
     "text": [
      "/Users/lluisarull/opt/anaconda3/lib/python3.8/site-packages/statsmodels/regression/quantile_regression.py:191: IterationLimitWarning: Maximum number of iterations (1000) reached.\n",
      "  warnings.warn(\"Maximum number of iterations (\" + str(max_iter) +\n",
      "/Users/lluisarull/opt/anaconda3/lib/python3.8/site-packages/statsmodels/regression/quantile_regression.py:191: IterationLimitWarning: Maximum number of iterations (1000) reached.\n",
      "  warnings.warn(\"Maximum number of iterations (\" + str(max_iter) +\n",
      "/Users/lluisarull/opt/anaconda3/lib/python3.8/site-packages/statsmodels/regression/quantile_regression.py:191: IterationLimitWarning: Maximum number of iterations (1000) reached.\n",
      "  warnings.warn(\"Maximum number of iterations (\" + str(max_iter) +\n",
      "/Users/lluisarull/opt/anaconda3/lib/python3.8/site-packages/statsmodels/regression/quantile_regression.py:191: IterationLimitWarning: Maximum number of iterations (1000) reached.\n",
      "  warnings.warn(\"Maximum number of iterations (\" + str(max_iter) +\n"
     ]
    },
    {
     "name": "stdout",
     "output_type": "stream",
     "text": [
      "NVO-3m-loss: 2.233114946831889 \n",
      "\n",
      "NVO-3m-VaR-forecast: [-13.94838551 -12.99318874  -9.38911658 -13.17737452 -11.29078529\n",
      " -19.15370253 -11.75927964 -17.28218922  -3.78356226 -17.31611138\n",
      "  -2.86070845  -4.45775621  -2.14032091  -5.66860637 -20.88720329\n",
      "  -5.6686049  -20.88718599 -20.00873588 -20.64336122 -22.24157606\n",
      "  -6.55626888 -23.82618425  -7.03033727  -1.09914016  -5.09342573\n",
      "   0.8923506   -5.80181618   1.00514371  -5.68962827 -15.38230973] \n",
      "\n"
     ]
    },
    {
     "name": "stderr",
     "output_type": "stream",
     "text": [
      "/Users/lluisarull/opt/anaconda3/lib/python3.8/site-packages/statsmodels/regression/quantile_regression.py:191: IterationLimitWarning: Maximum number of iterations (1000) reached.\n",
      "  warnings.warn(\"Maximum number of iterations (\" + str(max_iter) +\n",
      "/Users/lluisarull/opt/anaconda3/lib/python3.8/site-packages/statsmodels/regression/quantile_regression.py:191: IterationLimitWarning: Maximum number of iterations (1000) reached.\n",
      "  warnings.warn(\"Maximum number of iterations (\" + str(max_iter) +\n",
      "/Users/lluisarull/opt/anaconda3/lib/python3.8/site-packages/statsmodels/regression/quantile_regression.py:191: IterationLimitWarning: Maximum number of iterations (1000) reached.\n",
      "  warnings.warn(\"Maximum number of iterations (\" + str(max_iter) +\n",
      "/Users/lluisarull/opt/anaconda3/lib/python3.8/site-packages/statsmodels/regression/quantile_regression.py:191: IterationLimitWarning: Maximum number of iterations (1000) reached.\n",
      "  warnings.warn(\"Maximum number of iterations (\" + str(max_iter) +\n"
     ]
    },
    {
     "name": "stdout",
     "output_type": "stream",
     "text": [
      "NVS-3m-loss: 3.99963114835223 \n",
      "\n",
      "NVS-3m-VaR-forecast: [ -1.53477542  -3.0736203    0.32941828  -4.41670162  -0.59797584\n",
      "  -9.07244404  -0.59798413  -9.07240896 -13.16413573  -4.2965583\n",
      " -10.01077761 -11.67059964 -10.94808271 -11.19266557  -3.51299286\n",
      " -11.15681327  -3.7316416  -11.02465349  -3.92001253 -10.89489725\n",
      "  -6.48986113  -9.7571145   -6.56340766  -8.26815761  -6.65483055\n",
      "  -8.43739322  -9.51544557  -8.79170685  -9.44216655 -17.31322722] \n",
      "\n",
      "PFE-3m-loss: 6.344665539415022 \n",
      "\n",
      "PFE-3m-VaR-forecast: [ -0.14624336  -7.74777612  -0.80864032  -7.91821671  -0.65558064\n",
      " -19.07902805  -0.65558583 -19.07901339  -6.63397819 -16.2738069\n",
      "  -6.78046875  -8.19034565  -8.05322941  -8.20173725  -3.61449308\n",
      "  -8.22203572  -4.02089475  -4.89745285  -4.02089354  -4.89745316\n",
      " -17.25898598  -5.11708409 -17.5909877  -11.93584595 -15.31130981\n",
      " -11.37346066  -7.13470715 -11.37201983  -6.77637052 -15.72791699] \n",
      "\n"
     ]
    },
    {
     "name": "stderr",
     "output_type": "stream",
     "text": [
      "/Users/lluisarull/opt/anaconda3/lib/python3.8/site-packages/statsmodels/regression/quantile_regression.py:191: IterationLimitWarning: Maximum number of iterations (1000) reached.\n",
      "  warnings.warn(\"Maximum number of iterations (\" + str(max_iter) +\n",
      "/Users/lluisarull/opt/anaconda3/lib/python3.8/site-packages/statsmodels/regression/quantile_regression.py:191: IterationLimitWarning: Maximum number of iterations (1000) reached.\n",
      "  warnings.warn(\"Maximum number of iterations (\" + str(max_iter) +\n",
      "/Users/lluisarull/opt/anaconda3/lib/python3.8/site-packages/statsmodels/regression/quantile_regression.py:191: IterationLimitWarning: Maximum number of iterations (1000) reached.\n",
      "  warnings.warn(\"Maximum number of iterations (\" + str(max_iter) +\n",
      "/Users/lluisarull/opt/anaconda3/lib/python3.8/site-packages/statsmodels/regression/quantile_regression.py:191: IterationLimitWarning: Maximum number of iterations (1000) reached.\n",
      "  warnings.warn(\"Maximum number of iterations (\" + str(max_iter) +\n"
     ]
    },
    {
     "name": "stdout",
     "output_type": "stream",
     "text": [
      "ROG-3m-loss: 14.067265253501905 \n",
      "\n",
      "ROG-3m-VaR-forecast: [  3.19609747 -30.10717859 -48.59053532 -32.34829619 -46.7580344\n",
      " -17.550956   -46.75804839 -17.55093195 -18.74404524 -17.44972878\n",
      " -18.85438908 -19.46998239 -18.85442165 -19.47002957  -2.8406381\n",
      " -19.46996605  -2.84095194  -3.9757574   -9.89040781   6.68842756\n",
      " -26.34415959   7.91281354 -31.02238488 -29.4055971  -29.6618781\n",
      " -29.00663284 -17.94075958 -29.37429799 -17.79262145   6.21818529] \n",
      "\n"
     ]
    }
   ],
   "source": [
    "for t in tickers:\n",
    "    loss, var_forecast= rolling_forecast_QR(data, dates3m, t, alpha=0.05, columns_to_exclude= to_exclude3, horizon=3)\n",
    "    print(f'{t}-3m-loss: {loss} \\n')\n",
    "    print(f'{t}-3m-VaR-forecast: {var_forecast} \\n')"
   ]
  },
  {
   "attachments": {},
   "cell_type": "markdown",
   "metadata": {},
   "source": [
    "### 6-step-ahead VaR: 6 months"
   ]
  },
  {
   "cell_type": "code",
   "execution_count": 31,
   "metadata": {},
   "outputs": [
    {
     "name": "stdout",
     "output_type": "stream",
     "text": [
      "AZN-6m-loss: 3.1706810928910714 \n",
      "\n",
      "AZN-6m-VaR-forecast: [ -7.61857227  -0.37746816  -6.82327351 -11.59325879 -12.2343184\n",
      "  -5.32547297  -0.37745581  -6.82325683 -11.59327864 -12.23431193\n",
      "  -5.32546774  -1.78551199  -6.82325599 -11.59327851 -12.2343114\n",
      "  -5.32546617  -1.78551119 -14.49058203 -11.48124416 -12.27998624\n",
      "  -5.46480588  -2.1264513  -14.60398258 -17.14370876 -12.30741192\n",
      "  -5.50104157  -2.12183846 -14.62009244 -17.15767145  -1.31984273\n",
      "  -5.26026587  -2.06250322 -14.55240479 -17.14355542  -1.24890657\n",
      "  -8.95704015  -1.93132624 -14.50824534 -17.25928204  -1.34980763\n",
      "  -9.01061341 -19.59687661] \n",
      "\n"
     ]
    },
    {
     "name": "stderr",
     "output_type": "stream",
     "text": [
      "/Users/lluisarull/opt/anaconda3/lib/python3.8/site-packages/statsmodels/regression/quantile_regression.py:191: IterationLimitWarning: Maximum number of iterations (1000) reached.\n",
      "  warnings.warn(\"Maximum number of iterations (\" + str(max_iter) +\n",
      "/Users/lluisarull/opt/anaconda3/lib/python3.8/site-packages/statsmodels/regression/quantile_regression.py:191: IterationLimitWarning: Maximum number of iterations (1000) reached.\n",
      "  warnings.warn(\"Maximum number of iterations (\" + str(max_iter) +\n"
     ]
    },
    {
     "name": "stdout",
     "output_type": "stream",
     "text": [
      "BMY-6m-loss: 3.803834174277333 \n",
      "\n",
      "BMY-6m-VaR-forecast: [-10.35690661 -13.34201936 -10.02604033   6.16369155 -14.26555839\n",
      " -17.67479856 -12.32950473 -11.13101793   6.07583502 -14.28431642\n",
      " -16.87330419 -19.86564139 -10.04379576   3.44236357 -14.01888785\n",
      " -16.13977158 -18.93604878 -13.74067443   2.70476258 -14.4061538\n",
      " -15.90062215 -19.15909797 -14.02491971  -3.59111655 -14.22136722\n",
      " -18.0323     -19.89720659 -14.46396087  -4.68281502 -11.77559503\n",
      " -18.03919733 -20.09181888 -14.45579883  -4.69799585 -11.79327335\n",
      " -19.6583657  -20.05837988 -14.40407407  -4.65463676 -11.78845902\n",
      " -19.62905236  -8.1807429 ] \n",
      "\n"
     ]
    },
    {
     "name": "stderr",
     "output_type": "stream",
     "text": [
      "/Users/lluisarull/opt/anaconda3/lib/python3.8/site-packages/statsmodels/regression/quantile_regression.py:191: IterationLimitWarning: Maximum number of iterations (1000) reached.\n",
      "  warnings.warn(\"Maximum number of iterations (\" + str(max_iter) +\n"
     ]
    },
    {
     "name": "stdout",
     "output_type": "stream",
     "text": [
      "JNJ-6m-loss: 10.036195802355255 \n",
      "\n",
      "JNJ-6m-VaR-forecast: [  3.37032639   1.74190453   7.10402377  -6.98077817  -5.78347205\n",
      "  -6.97577252   0.91803463   7.58958286  -4.9087387   -6.34832982\n",
      "  -9.43597798  -4.94737801   8.82992516  -7.45970375  -6.03870955\n",
      "  -8.36148834  -5.5234706  -19.38537564  -5.26546206  -5.82784468\n",
      " -12.98425197  -4.54793521 -15.3817235   -8.20739597  -6.95172854\n",
      " -12.99888705  -3.94544182 -16.2130787   -7.62668464 -12.65401393\n",
      " -12.98424934  -4.54793072 -15.38173261  -8.20739528 -12.42323774\n",
      " -12.22575849  -4.07035232 -15.37694417  -7.1526321  -12.75241454\n",
      " -13.19182072 -14.07510976] \n",
      "\n",
      "LLY-6m-loss: 10.248203124968898 \n",
      "\n",
      "LLY-6m-VaR-forecast: [ -8.37916998  -3.14656889   0.04177761   6.34397078  -8.12064047\n",
      " -10.9403455   -1.4815798   -0.57106361   6.85172676  -6.23888939\n",
      "  -9.77139782   0.57314039   0.09511685   7.26864327  -5.04285842\n",
      "  -8.71553241  -0.14330402  -0.63924277   4.94421541  -7.70724857\n",
      "  -9.98582483  -1.48979264   0.78315441 -10.57763856  -7.70725714\n",
      "  -9.98583225  -1.48977672   0.783163   -10.57764005   0.77294802\n",
      "  -9.84046692  -1.63990757   0.9334401  -10.24897284   0.91721635\n",
      "  -7.73324543  -1.6399168    0.93342736 -10.24895785   0.91722481\n",
      "  -7.73324157   0.22166189] \n",
      "\n",
      "MRK-6m-loss: 4.789401825568953 \n",
      "\n",
      "MRK-6m-VaR-forecast: [ -4.13695358 -18.66439909 -22.33990173  -4.60239156  -6.32411118\n",
      " -11.31779488 -18.66440061 -22.3399086   -4.60240131  -6.32409232\n",
      " -11.31780562 -24.06179269 -22.10073919  -4.13489436  -6.68551237\n",
      " -11.01517142 -23.80157491 -15.15232415  -3.24794958  -7.30138916\n",
      " -10.64974942 -23.27096411 -15.2574521  -10.27112224  -7.30067813\n",
      " -10.66233213 -23.29837324 -15.26609729 -10.2556238  -10.64817208\n",
      " -10.66234938 -23.29839443 -15.26611974 -10.25562601 -10.64819939\n",
      "  -4.94419676 -23.27108048 -15.2575064  -10.2710136  -10.6370228\n",
      "  -4.94398307 -11.97963144] \n",
      "\n"
     ]
    },
    {
     "name": "stderr",
     "output_type": "stream",
     "text": [
      "/Users/lluisarull/opt/anaconda3/lib/python3.8/site-packages/statsmodels/regression/quantile_regression.py:191: IterationLimitWarning: Maximum number of iterations (1000) reached.\n",
      "  warnings.warn(\"Maximum number of iterations (\" + str(max_iter) +\n",
      "/Users/lluisarull/opt/anaconda3/lib/python3.8/site-packages/statsmodels/regression/quantile_regression.py:191: IterationLimitWarning: Maximum number of iterations (1000) reached.\n",
      "  warnings.warn(\"Maximum number of iterations (\" + str(max_iter) +\n",
      "/Users/lluisarull/opt/anaconda3/lib/python3.8/site-packages/statsmodels/regression/quantile_regression.py:191: IterationLimitWarning: Maximum number of iterations (1000) reached.\n",
      "  warnings.warn(\"Maximum number of iterations (\" + str(max_iter) +\n",
      "/Users/lluisarull/opt/anaconda3/lib/python3.8/site-packages/statsmodels/regression/quantile_regression.py:191: IterationLimitWarning: Maximum number of iterations (1000) reached.\n",
      "  warnings.warn(\"Maximum number of iterations (\" + str(max_iter) +\n"
     ]
    },
    {
     "name": "stdout",
     "output_type": "stream",
     "text": [
      "NVO-6m-loss: 4.903871062228882 \n",
      "\n",
      "NVO-6m-VaR-forecast: [-13.94838551 -12.99318874  -9.38911658 -19.98714691  -4.05150133\n",
      "  -2.1188358  -13.17737452 -11.29078529 -19.15370253  -4.35810183\n",
      "  -3.98943234 -19.82126931 -11.75927964 -17.28218922  -3.78356226\n",
      "  -4.94322799 -20.76918518 -25.24826307 -17.31611138  -2.86070845\n",
      "  -4.45775621 -20.84780068 -21.69927395  -5.61926668  -2.14032091\n",
      "  -5.66860637 -20.88720329 -20.00877405  -5.17360326   1.14733485\n",
      "  -5.6686049  -20.88718599 -20.00873588  -5.17360885   1.147327\n",
      "  -5.73501493 -20.64336122 -22.24157606  -6.55626888  -0.66079954\n",
      "  -6.26371661 -18.89834826] \n",
      "\n"
     ]
    },
    {
     "name": "stderr",
     "output_type": "stream",
     "text": [
      "/Users/lluisarull/opt/anaconda3/lib/python3.8/site-packages/statsmodels/regression/quantile_regression.py:191: IterationLimitWarning: Maximum number of iterations (1000) reached.\n",
      "  warnings.warn(\"Maximum number of iterations (\" + str(max_iter) +\n",
      "/Users/lluisarull/opt/anaconda3/lib/python3.8/site-packages/statsmodels/regression/quantile_regression.py:191: IterationLimitWarning: Maximum number of iterations (1000) reached.\n",
      "  warnings.warn(\"Maximum number of iterations (\" + str(max_iter) +\n"
     ]
    },
    {
     "name": "stdout",
     "output_type": "stream",
     "text": [
      "NVS-6m-loss: 6.946680125697723 \n",
      "\n",
      "NVS-6m-VaR-forecast: [ -1.53477542  -3.0736203    0.32941828  -7.41743231 -12.12776206\n",
      "  -6.39711143  -4.41670162  -0.59797584  -9.07244404 -13.16415085\n",
      "  -7.44784628  -0.20183797  -0.59798413  -9.07240896 -13.16413573\n",
      "  -7.44784409  -0.20184563 -14.76240867  -4.2965583  -10.01077761\n",
      " -11.67059964  -3.57452574 -10.1540729   -5.53351886 -10.94808271\n",
      " -11.19266557  -3.51299286 -10.82283319  -5.89533421  -8.19466688\n",
      " -11.15681327  -3.7316416  -11.02465349  -6.50400529  -8.40230136\n",
      "  -9.33990919  -3.92001253 -10.89489725  -6.48986113  -8.41613013\n",
      "  -9.33886256 -17.30881489] \n",
      "\n",
      "PFE-6m-loss: 11.194358862040271 \n",
      "\n",
      "PFE-6m-VaR-forecast: [ -0.14624336  -7.74777612  -0.80864032 -18.8657651   -6.91221673\n",
      "  -5.27220739  -7.91821671  -0.65558064 -19.07902805  -6.63396951\n",
      "  -5.52401231 -10.70669235  -0.65558583 -19.07901339  -6.63397819\n",
      "  -5.52401309 -10.7066876  -13.7271974  -16.2738069   -6.78046875\n",
      "  -8.19034565  -4.36300124  -5.3291671  -17.0612012   -8.05322941\n",
      "  -8.20173725  -3.61449308  -5.14818528 -17.59439988 -11.94171007\n",
      "  -8.22203572  -4.02089475  -4.89745285 -17.25898455 -12.13126179\n",
      "  -9.61755366  -4.02089354  -4.89745316 -17.25898598 -12.13126094\n",
      "  -9.61755331 -16.68229135] \n",
      "\n"
     ]
    },
    {
     "name": "stderr",
     "output_type": "stream",
     "text": [
      "/Users/lluisarull/opt/anaconda3/lib/python3.8/site-packages/statsmodels/regression/quantile_regression.py:191: IterationLimitWarning: Maximum number of iterations (1000) reached.\n",
      "  warnings.warn(\"Maximum number of iterations (\" + str(max_iter) +\n"
     ]
    },
    {
     "name": "stdout",
     "output_type": "stream",
     "text": [
      "ROG-6m-loss: 34.81261107730648 \n",
      "\n",
      "ROG-6m-VaR-forecast: [  3.19609747 -30.10717859 -48.59053532 -16.00163591 -15.69090387\n",
      " -18.99388144 -32.34829619 -46.7580344  -17.550956   -18.74402545\n",
      " -19.3075679   -3.65140049 -46.75804839 -17.55093195 -18.74404524\n",
      " -19.30756918  -3.65138027  -4.53347199 -17.44972878 -18.85438908\n",
      " -19.46998239  -2.8408678   -3.97569979 -25.86694805 -18.85442165\n",
      " -19.47002957  -2.8406381   -3.97554508 -25.86699049 -33.59593264\n",
      " -19.46996605  -2.84095194  -3.9757574  -25.86693252 -33.59612978\n",
      " -15.33259608  -9.89040781   6.68842756 -26.34415959 -30.58463507\n",
      " -18.95580743   2.56943452] \n",
      "\n"
     ]
    },
    {
     "name": "stderr",
     "output_type": "stream",
     "text": [
      "/Users/lluisarull/opt/anaconda3/lib/python3.8/site-packages/statsmodels/regression/quantile_regression.py:191: IterationLimitWarning: Maximum number of iterations (1000) reached.\n",
      "  warnings.warn(\"Maximum number of iterations (\" + str(max_iter) +\n"
     ]
    }
   ],
   "source": [
    "for t in tickers:\n",
    "    loss, var_forecast= rolling_forecast_QR(data, dates6m, t, alpha=0.05, columns_to_exclude= to_exclude3, horizon=6)\n",
    "    print(f'{t}-6m-loss: {loss} \\n')\n",
    "    print(f'{t}-6m-VaR-forecast: {var_forecast} \\n')"
   ]
  },
  {
   "attachments": {},
   "cell_type": "markdown",
   "metadata": {},
   "source": [
    "### 9-step-ahead VaR: 9 months"
   ]
  },
  {
   "cell_type": "code",
   "execution_count": 32,
   "metadata": {},
   "outputs": [
    {
     "name": "stdout",
     "output_type": "stream",
     "text": [
      "AZN-9m-loss: 4.609825204267898 \n",
      "\n",
      "AZN-9m-VaR-forecast: [ -7.61857227  -0.37746816  -6.82327351 -11.59325879 -12.2343184\n",
      "  -5.32547297  -1.7855381  -14.49056946 -17.4469945   -0.37745581\n",
      "  -6.82325683 -11.59327864 -12.23431193  -5.32546774  -1.78551199\n",
      " -14.49058154 -17.44699762  -1.56948889  -6.82325599 -11.59327851\n",
      " -12.2343114   -5.32546617  -1.78551119 -14.49058203 -17.44699746\n",
      "  -1.56948676  -9.04659518 -11.48124416 -12.27998624  -5.46480588\n",
      "  -2.1264513  -14.60398258 -17.14370876  -1.30266056  -8.90837723\n",
      " -19.60122419] \n",
      "\n"
     ]
    },
    {
     "name": "stderr",
     "output_type": "stream",
     "text": [
      "/Users/lluisarull/opt/anaconda3/lib/python3.8/site-packages/statsmodels/regression/quantile_regression.py:191: IterationLimitWarning: Maximum number of iterations (1000) reached.\n",
      "  warnings.warn(\"Maximum number of iterations (\" + str(max_iter) +\n"
     ]
    },
    {
     "name": "stdout",
     "output_type": "stream",
     "text": [
      "BMY-9m-loss: 5.481814508810399 \n",
      "\n",
      "BMY-9m-VaR-forecast: [-10.35690661 -13.34201936 -10.02604033   6.16369155 -14.26555839\n",
      " -17.67479856 -20.9293687  -13.49234615  -4.66694447 -12.32950473\n",
      " -11.13101793   6.07583502 -14.28431642 -16.87330419 -19.86564139\n",
      " -13.47942501  -3.92777867 -12.45338649 -10.04379576   3.44236357\n",
      " -14.01888785 -16.13977158 -18.93604878 -13.74067443  -4.1488138\n",
      " -11.84702519 -19.51679855   2.70476258 -14.4061538  -15.90062215\n",
      " -19.15909797 -14.02491971  -3.59111655 -11.32417218 -19.3802473\n",
      "  -7.79808906] \n",
      "\n"
     ]
    },
    {
     "name": "stderr",
     "output_type": "stream",
     "text": [
      "/Users/lluisarull/opt/anaconda3/lib/python3.8/site-packages/statsmodels/regression/quantile_regression.py:191: IterationLimitWarning: Maximum number of iterations (1000) reached.\n",
      "  warnings.warn(\"Maximum number of iterations (\" + str(max_iter) +\n"
     ]
    },
    {
     "name": "stdout",
     "output_type": "stream",
     "text": [
      "JNJ-9m-loss: 18.656016345856703 \n",
      "\n",
      "JNJ-9m-VaR-forecast: [  3.37032639   1.74190453   7.10402377  -6.98077817  -5.78347205\n",
      "  -6.97577252  -3.6057269  -16.04913979  -3.51126687   0.91803463\n",
      "   7.58958286  -4.9087387   -6.34832982  -9.43597798  -4.94737801\n",
      " -16.5141423   -3.76902231  -9.20223486   8.82992516  -7.45970375\n",
      "  -6.03870955  -8.36148834  -5.5234706  -19.38537564  -2.84206527\n",
      "  -8.04418116 -11.40287586  -5.26546206  -5.82784468 -12.98425197\n",
      "  -4.54793521 -15.3817235   -8.20739597 -12.423243   -12.22575706\n",
      " -13.42652341] \n",
      "\n",
      "LLY-9m-loss: 15.78292993255084 \n",
      "\n",
      "LLY-9m-VaR-forecast: [ -8.37916998  -3.14656889   0.04177761   6.34397078  -8.12064047\n",
      " -10.9403455    2.21509791  -2.493857    -9.66265944  -1.4815798\n",
      "  -0.57106361   6.85172676  -6.23888939  -9.77139782   0.57314039\n",
      "  -1.14579397  -8.57828052   3.57999185   0.09511685   7.26864327\n",
      "  -5.04285842  -8.71553241  -0.14330402  -0.63924277  -7.87879992\n",
      "   4.00405111  -7.21439137   4.94421541  -7.70724857  -9.98582483\n",
      "  -1.48979264   0.78315441 -10.57763856   0.77293876  -7.73787864\n",
      "   0.4158346 ] \n",
      "\n",
      "MRK-9m-loss: 6.829988696447105 \n",
      "\n",
      "MRK-9m-VaR-forecast: [ -4.13695358 -18.66439909 -22.33990173  -4.60239156  -6.32411118\n",
      " -11.31779488 -24.06178236 -15.00224585 -10.99815251 -18.66440061\n",
      " -22.3399086   -4.60240131  -6.32409232 -11.31780562 -24.06179269\n",
      " -15.0022529  -10.99815207 -10.16545181 -22.10073919  -4.13489436\n",
      "  -6.68551237 -11.01517142 -23.80157491 -15.15232415 -10.71015357\n",
      " -10.43271815  -4.86216381  -3.24794958  -7.30138916 -10.64974942\n",
      " -23.27096411 -15.2574521  -10.27112224 -10.63695248  -4.94397753\n",
      " -11.97971865] \n",
      "\n"
     ]
    },
    {
     "name": "stderr",
     "output_type": "stream",
     "text": [
      "/Users/lluisarull/opt/anaconda3/lib/python3.8/site-packages/statsmodels/regression/quantile_regression.py:191: IterationLimitWarning: Maximum number of iterations (1000) reached.\n",
      "  warnings.warn(\"Maximum number of iterations (\" + str(max_iter) +\n",
      "/Users/lluisarull/opt/anaconda3/lib/python3.8/site-packages/statsmodels/regression/quantile_regression.py:191: IterationLimitWarning: Maximum number of iterations (1000) reached.\n",
      "  warnings.warn(\"Maximum number of iterations (\" + str(max_iter) +\n",
      "/Users/lluisarull/opt/anaconda3/lib/python3.8/site-packages/statsmodels/regression/quantile_regression.py:191: IterationLimitWarning: Maximum number of iterations (1000) reached.\n",
      "  warnings.warn(\"Maximum number of iterations (\" + str(max_iter) +\n"
     ]
    },
    {
     "name": "stdout",
     "output_type": "stream",
     "text": [
      "NVO-9m-loss: 7.0737622210069535 \n",
      "\n",
      "NVO-9m-VaR-forecast: [-13.94838551 -12.99318874  -9.38911658 -19.98714691  -4.05150133\n",
      "  -2.1188358  -19.51696728 -23.78985585  -7.2883081  -13.17737452\n",
      " -11.29078529 -19.15370253  -4.35810183  -3.98943234 -19.82126931\n",
      " -26.02544916  -7.90842839  -1.13433981 -11.75927964 -17.28218922\n",
      "  -3.78356226  -4.94322799 -20.76918518 -25.24826307  -7.05158821\n",
      "  -0.19877484  -6.73997139 -17.31611138  -2.86070845  -4.45775621\n",
      " -20.84780068 -21.69927395  -5.61926668   1.00251622  -5.72194365\n",
      " -17.29205646] \n",
      "\n",
      "NVS-9m-loss: 13.498143000091588 \n",
      "\n",
      "NVS-9m-VaR-forecast: [ -1.53477542  -3.0736203    0.32941828  -7.41743231 -12.12776206\n",
      "  -6.39711143  -2.06521684 -16.53704103  -1.50036463  -4.41670162\n",
      "  -0.59797584  -9.07244404 -13.16415085  -7.44784628  -0.20183797\n",
      " -14.76244026  -3.81938616  -7.60377843  -0.59798413  -9.07240896\n",
      " -13.16413573  -7.44784409  -0.20184563 -14.76240867  -3.8193871\n",
      "  -7.60376893  -8.4465692   -4.2965583  -10.01077761 -11.67059964\n",
      "  -3.57452574 -10.1540729   -5.53351886  -7.69383786  -9.31438671\n",
      " -16.24089709] \n",
      "\n",
      "PFE-9m-loss: 12.229655364695684 \n",
      "\n",
      "PFE-9m-VaR-forecast: [ -0.14624336  -7.74777612  -0.80864032 -18.8657651   -6.91221673\n",
      "  -5.27220739 -10.5699475  -13.72432597  -9.3393778   -7.91821671\n",
      "  -0.65558064 -19.07902805  -6.63396951  -5.52401231 -10.70669235\n",
      " -13.72719794  -9.39269668  -7.66920177  -0.65558583 -19.07901339\n",
      "  -6.63397819  -5.52401309 -10.7066876  -13.7271974   -9.39269677\n",
      "  -7.66919617  -7.61958881 -16.2738069   -6.78046875  -8.19034565\n",
      "  -4.36300124  -5.3291671  -17.0612012  -11.87210675  -9.54271892\n",
      " -16.58914482] \n",
      "\n",
      "ROG-9m-loss: 44.21129060439126 \n",
      "\n",
      "ROG-9m-VaR-forecast: [  3.19609747 -30.10717859 -48.59053532 -16.00163591 -15.69090387\n",
      " -18.99388144  -5.96412594   1.88212676 -24.40205621 -32.34829619\n",
      " -46.7580344  -17.550956   -18.74402545 -19.3075679   -3.65140049\n",
      "  -4.53343558 -25.71850579 -34.11069942 -46.75804839 -17.55093195\n",
      " -18.74404524 -19.30756918  -3.65138027  -4.53347199 -25.71849777\n",
      " -34.1107205  -15.30326422 -17.44972878 -18.85438908 -19.46998239\n",
      "  -2.8408678   -3.97569979 -25.86694805 -33.59607644 -15.33259889\n",
      "   3.86561485] \n",
      "\n"
     ]
    },
    {
     "name": "stderr",
     "output_type": "stream",
     "text": [
      "/Users/lluisarull/opt/anaconda3/lib/python3.8/site-packages/statsmodels/regression/quantile_regression.py:191: IterationLimitWarning: Maximum number of iterations (1000) reached.\n",
      "  warnings.warn(\"Maximum number of iterations (\" + str(max_iter) +\n"
     ]
    }
   ],
   "source": [
    "for t in tickers:\n",
    "    loss, var_forecast= rolling_forecast_QR(data, dates9m, t, alpha=0.05, columns_to_exclude= to_exclude3, horizon=9)\n",
    "    print(f'{t}-9m-loss: {loss} \\n')\n",
    "    print(f'{t}-9m-VaR-forecast: {var_forecast} \\n')"
   ]
  },
  {
   "attachments": {},
   "cell_type": "markdown",
   "metadata": {},
   "source": [
    "### 12-step-ahead VaR: 12 months"
   ]
  },
  {
   "cell_type": "code",
   "execution_count": 33,
   "metadata": {},
   "outputs": [
    {
     "name": "stdout",
     "output_type": "stream",
     "text": [
      "AZN-12m-loss: 6.112571314373784 \n",
      "\n",
      "AZN-12m-VaR-forecast: [ -7.61857227  -0.37746816  -6.82327351 -11.59325879 -12.2343184\n",
      "  -5.32547297  -1.7855381  -14.49056946 -17.4469945   -1.56948678\n",
      "  -9.04659041 -19.57056116] \n",
      "\n",
      "BMY-12m-loss: 6.977228561615677 \n",
      "\n",
      "BMY-12m-VaR-forecast: [-10.35690661 -13.34201936 -10.02604033   6.16369155 -14.26555839\n",
      " -17.67479856 -20.9293687  -13.49234615  -4.66694447 -11.60284756\n",
      " -18.84593137  -7.24358276] \n",
      "\n",
      "JNJ-12m-loss: 27.599794656674657 \n",
      "\n",
      "JNJ-12m-VaR-forecast: [  3.37032639   1.74190453   7.10402377  -6.98077817  -5.78347205\n",
      "  -6.97577252  -3.6057269  -16.04913979  -3.51126687 -10.48410758\n",
      " -12.60767025 -15.85444335] \n",
      "\n",
      "LLY-12m-loss: 19.316729795142848 \n",
      "\n",
      "LLY-12m-VaR-forecast: [ -8.37916998  -3.14656889   0.04177761   6.34397078  -8.12064047\n",
      " -10.9403455    2.21509791  -2.493857    -9.66265944   2.97112399\n",
      "  -7.13702649  -1.97438552] \n",
      "\n",
      "MRK-12m-loss: 8.451495756064968 \n",
      "\n",
      "MRK-12m-VaR-forecast: [ -4.13695358 -18.66439909 -22.33990173  -4.60239156  -6.32411118\n",
      " -11.31779488 -24.06178236 -15.00224585 -10.99815251 -10.16544988\n",
      "  -4.76172687 -12.92373578] \n",
      "\n"
     ]
    },
    {
     "name": "stderr",
     "output_type": "stream",
     "text": [
      "/Users/lluisarull/opt/anaconda3/lib/python3.8/site-packages/statsmodels/regression/quantile_regression.py:191: IterationLimitWarning: Maximum number of iterations (1000) reached.\n",
      "  warnings.warn(\"Maximum number of iterations (\" + str(max_iter) +\n"
     ]
    },
    {
     "name": "stdout",
     "output_type": "stream",
     "text": [
      "NVO-12m-loss: 9.065536592175462 \n",
      "\n",
      "NVO-12m-VaR-forecast: [-13.94838551 -12.99318874  -9.38911658 -19.98714691  -4.05150133\n",
      "  -2.1188358  -19.51696728 -23.78985585  -7.2883081   -1.80944787\n",
      "  -6.14508062 -18.13767089] \n",
      "\n",
      "NVS-12m-loss: 22.366612949619462 \n",
      "\n",
      "NVS-12m-VaR-forecast: [ -1.53477542  -3.0736203    0.32941828  -7.41743231 -12.12776206\n",
      "  -6.39711143  -2.06521684 -16.53704103  -1.50036463  -5.35538825\n",
      "  -7.5547542  -16.67046709] \n",
      "\n",
      "PFE-12m-loss: 13.253880571239803 \n",
      "\n",
      "PFE-12m-VaR-forecast: [ -0.14624336  -7.74777612  -0.80864032 -18.8657651   -6.91221673\n",
      "  -5.27220739 -10.5699475  -13.72432597  -9.3393778   -7.67755946\n",
      "  -7.5958283  -18.91814021] \n",
      "\n",
      "ROG-12m-loss: 55.55945194718216 \n",
      "\n",
      "ROG-12m-VaR-forecast: [  3.19609747 -30.10717859 -48.59053532 -16.00163591 -15.69090387\n",
      " -18.99388144  -5.96412594   1.88212676 -24.40205621 -33.35326101\n",
      " -14.58792684   5.75084303] \n",
      "\n"
     ]
    }
   ],
   "source": [
    "for t in tickers:\n",
    "    loss, var_forecast= rolling_forecast_QR(data, dates12m, t, alpha=0.05, columns_to_exclude= to_exclude3, horizon=12)\n",
    "    print(f'{t}-12m-loss: {loss} \\n')\n",
    "    print(f'{t}-12m-VaR-forecast: {var_forecast} \\n')"
   ]
  },
  {
   "attachments": {},
   "cell_type": "markdown",
   "metadata": {},
   "source": [
    "### ABBV case"
   ]
  },
  {
   "cell_type": "code",
   "execution_count": 34,
   "metadata": {},
   "outputs": [
    {
     "data": {
      "text/html": [
       "<div>\n",
       "<style scoped>\n",
       "    .dataframe tbody tr th:only-of-type {\n",
       "        vertical-align: middle;\n",
       "    }\n",
       "\n",
       "    .dataframe tbody tr th {\n",
       "        vertical-align: top;\n",
       "    }\n",
       "\n",
       "    .dataframe thead th {\n",
       "        text-align: right;\n",
       "    }\n",
       "</style>\n",
       "<table border=\"1\" class=\"dataframe\">\n",
       "  <thead>\n",
       "    <tr style=\"text-align: right;\">\n",
       "      <th></th>\n",
       "      <th>Date</th>\n",
       "      <th>ABBV</th>\n",
       "    </tr>\n",
       "  </thead>\n",
       "  <tbody>\n",
       "    <tr>\n",
       "      <th>158</th>\n",
       "      <td>2013-03-01</td>\n",
       "      <td>10.455062</td>\n",
       "    </tr>\n",
       "    <tr>\n",
       "      <th>159</th>\n",
       "      <td>2013-04-01</td>\n",
       "      <td>12.922975</td>\n",
       "    </tr>\n",
       "    <tr>\n",
       "      <th>160</th>\n",
       "      <td>2013-05-01</td>\n",
       "      <td>-6.438455</td>\n",
       "    </tr>\n",
       "    <tr>\n",
       "      <th>161</th>\n",
       "      <td>2013-06-01</td>\n",
       "      <td>-3.162299</td>\n",
       "    </tr>\n",
       "    <tr>\n",
       "      <th>162</th>\n",
       "      <td>2013-07-01</td>\n",
       "      <td>10.014486</td>\n",
       "    </tr>\n",
       "    <tr>\n",
       "      <th>...</th>\n",
       "      <td>...</td>\n",
       "      <td>...</td>\n",
       "    </tr>\n",
       "    <tr>\n",
       "      <th>276</th>\n",
       "      <td>2023-01-01</td>\n",
       "      <td>-8.576205</td>\n",
       "    </tr>\n",
       "    <tr>\n",
       "      <th>277</th>\n",
       "      <td>2023-02-01</td>\n",
       "      <td>5.152609</td>\n",
       "    </tr>\n",
       "    <tr>\n",
       "      <th>278</th>\n",
       "      <td>2023-03-01</td>\n",
       "      <td>3.554254</td>\n",
       "    </tr>\n",
       "    <tr>\n",
       "      <th>279</th>\n",
       "      <td>2023-04-01</td>\n",
       "      <td>-5.176628</td>\n",
       "    </tr>\n",
       "    <tr>\n",
       "      <th>280</th>\n",
       "      <td>2023-05-01</td>\n",
       "      <td>-7.868480</td>\n",
       "    </tr>\n",
       "  </tbody>\n",
       "</table>\n",
       "<p>123 rows × 2 columns</p>\n",
       "</div>"
      ],
      "text/plain": [
       "           Date       ABBV\n",
       "158  2013-03-01  10.455062\n",
       "159  2013-04-01  12.922975\n",
       "160  2013-05-01  -6.438455\n",
       "161  2013-06-01  -3.162299\n",
       "162  2013-07-01  10.014486\n",
       "..          ...        ...\n",
       "276  2023-01-01  -8.576205\n",
       "277  2023-02-01   5.152609\n",
       "278  2023-03-01   3.554254\n",
       "279  2023-04-01  -5.176628\n",
       "280  2023-05-01  -7.868480\n",
       "\n",
       "[123 rows x 2 columns]"
      ]
     },
     "execution_count": 34,
     "metadata": {},
     "output_type": "execute_result"
    }
   ],
   "source": [
    "# ABBV case\n",
    "data = pd.read_csv('non_nan.csv', )\n",
    "data2 = pd.read_csv('monthly_data.csv')\n",
    "data_ABBV = data2[['Date', 'ABBV']]\n",
    "data_ABBV = data_ABBV.dropna()\n",
    "data_ABBV"
   ]
  },
  {
   "cell_type": "code",
   "execution_count": 35,
   "metadata": {},
   "outputs": [
    {
     "data": {
      "text/html": [
       "<div>\n",
       "<style scoped>\n",
       "    .dataframe tbody tr th:only-of-type {\n",
       "        vertical-align: middle;\n",
       "    }\n",
       "\n",
       "    .dataframe tbody tr th {\n",
       "        vertical-align: top;\n",
       "    }\n",
       "\n",
       "    .dataframe thead th {\n",
       "        text-align: right;\n",
       "    }\n",
       "</style>\n",
       "<table border=\"1\" class=\"dataframe\">\n",
       "  <thead>\n",
       "    <tr style=\"text-align: right;\">\n",
       "      <th></th>\n",
       "      <th>Date</th>\n",
       "      <th>ABBV</th>\n",
       "      <th>unemployment_rate</th>\n",
       "      <th>CPI</th>\n",
       "      <th>treasury_yield</th>\n",
       "      <th>GDP_growth</th>\n",
       "      <th>SP500_return</th>\n",
       "      <th>AZN</th>\n",
       "      <th>BMY</th>\n",
       "      <th>JNJ</th>\n",
       "      <th>LLY</th>\n",
       "      <th>MRK</th>\n",
       "      <th>NVO</th>\n",
       "      <th>NVS</th>\n",
       "      <th>PFE</th>\n",
       "      <th>ROG</th>\n",
       "      <th>inflation_change</th>\n",
       "      <th>unemp_change</th>\n",
       "      <th>treasury_yield_change</th>\n",
       "    </tr>\n",
       "  </thead>\n",
       "  <tbody>\n",
       "    <tr>\n",
       "      <th>0</th>\n",
       "      <td>2013-03-01</td>\n",
       "      <td>10.455062</td>\n",
       "      <td>7.5</td>\n",
       "      <td>232.282</td>\n",
       "      <td>1.984211</td>\n",
       "      <td>0.397212</td>\n",
       "      <td>3.337507</td>\n",
       "      <td>14.582205</td>\n",
       "      <td>11.414669</td>\n",
       "      <td>7.978126</td>\n",
       "      <td>4.851792</td>\n",
       "      <td>3.440210</td>\n",
       "      <td>-7.714279</td>\n",
       "      <td>9.067089</td>\n",
       "      <td>5.443922</td>\n",
       "      <td>-0.188640</td>\n",
       "      <td>-0.655</td>\n",
       "      <td>-0.2</td>\n",
       "      <td>0.069449</td>\n",
       "    </tr>\n",
       "    <tr>\n",
       "      <th>1</th>\n",
       "      <td>2013-04-01</td>\n",
       "      <td>12.922975</td>\n",
       "      <td>7.6</td>\n",
       "      <td>231.797</td>\n",
       "      <td>1.957500</td>\n",
       "      <td>0.085246</td>\n",
       "      <td>2.374537</td>\n",
       "      <td>3.881563</td>\n",
       "      <td>-3.568848</td>\n",
       "      <td>4.538222</td>\n",
       "      <td>-2.482836</td>\n",
       "      <td>7.359867</td>\n",
       "      <td>11.497419</td>\n",
       "      <td>3.537347</td>\n",
       "      <td>0.727651</td>\n",
       "      <td>-10.457790</td>\n",
       "      <td>-0.485</td>\n",
       "      <td>0.1</td>\n",
       "      <td>-0.026711</td>\n",
       "    </tr>\n",
       "    <tr>\n",
       "      <th>2</th>\n",
       "      <td>2013-05-01</td>\n",
       "      <td>-6.438455</td>\n",
       "      <td>7.5</td>\n",
       "      <td>231.893</td>\n",
       "      <td>1.759091</td>\n",
       "      <td>-0.190605</td>\n",
       "      <td>2.361004</td>\n",
       "      <td>-1.290451</td>\n",
       "      <td>16.816781</td>\n",
       "      <td>-1.231989</td>\n",
       "      <td>-4.008663</td>\n",
       "      <td>-0.638313</td>\n",
       "      <td>-8.792401</td>\n",
       "      <td>-2.711502</td>\n",
       "      <td>-6.329562</td>\n",
       "      <td>8.513136</td>\n",
       "      <td>0.096</td>\n",
       "      <td>-0.1</td>\n",
       "      <td>-0.198409</td>\n",
       "    </tr>\n",
       "    <tr>\n",
       "      <th>3</th>\n",
       "      <td>2013-06-01</td>\n",
       "      <td>-3.162299</td>\n",
       "      <td>7.5</td>\n",
       "      <td>232.445</td>\n",
       "      <td>1.928182</td>\n",
       "      <td>0.620501</td>\n",
       "      <td>-1.853781</td>\n",
       "      <td>-7.707318</td>\n",
       "      <td>-2.868894</td>\n",
       "      <td>2.762464</td>\n",
       "      <td>-6.788137</td>\n",
       "      <td>-0.535372</td>\n",
       "      <td>-3.805087</td>\n",
       "      <td>-1.463219</td>\n",
       "      <td>3.722003</td>\n",
       "      <td>2.269287</td>\n",
       "      <td>0.552</td>\n",
       "      <td>0.0</td>\n",
       "      <td>0.169091</td>\n",
       "    </tr>\n",
       "    <tr>\n",
       "      <th>4</th>\n",
       "      <td>2013-07-01</td>\n",
       "      <td>10.014486</td>\n",
       "      <td>7.3</td>\n",
       "      <td>232.900</td>\n",
       "      <td>2.300000</td>\n",
       "      <td>0.210359</td>\n",
       "      <td>5.724173</td>\n",
       "      <td>7.230424</td>\n",
       "      <td>-3.244595</td>\n",
       "      <td>8.898141</td>\n",
       "      <td>8.122938</td>\n",
       "      <td>4.655361</td>\n",
       "      <td>9.001745</td>\n",
       "      <td>1.272809</td>\n",
       "      <td>4.355584</td>\n",
       "      <td>17.540151</td>\n",
       "      <td>0.455</td>\n",
       "      <td>-0.2</td>\n",
       "      <td>0.371818</td>\n",
       "    </tr>\n",
       "    <tr>\n",
       "      <th>...</th>\n",
       "      <td>...</td>\n",
       "      <td>...</td>\n",
       "      <td>...</td>\n",
       "      <td>...</td>\n",
       "      <td>...</td>\n",
       "      <td>...</td>\n",
       "      <td>...</td>\n",
       "      <td>...</td>\n",
       "      <td>...</td>\n",
       "      <td>...</td>\n",
       "      <td>...</td>\n",
       "      <td>...</td>\n",
       "      <td>...</td>\n",
       "      <td>...</td>\n",
       "      <td>...</td>\n",
       "      <td>...</td>\n",
       "      <td>...</td>\n",
       "      <td>...</td>\n",
       "      <td>...</td>\n",
       "    </tr>\n",
       "    <tr>\n",
       "      <th>118</th>\n",
       "      <td>2023-01-01</td>\n",
       "      <td>-8.576205</td>\n",
       "      <td>3.4</td>\n",
       "      <td>300.536</td>\n",
       "      <td>3.616190</td>\n",
       "      <td>0.390254</td>\n",
       "      <td>6.776820</td>\n",
       "      <td>-3.584079</td>\n",
       "      <td>0.972908</td>\n",
       "      <td>-7.489384</td>\n",
       "      <td>-5.928822</td>\n",
       "      <td>-2.549213</td>\n",
       "      <td>2.541749</td>\n",
       "      <td>-0.110227</td>\n",
       "      <td>-13.817335</td>\n",
       "      <td>16.968326</td>\n",
       "      <td>1.546</td>\n",
       "      <td>-0.1</td>\n",
       "      <td>-0.274810</td>\n",
       "    </tr>\n",
       "    <tr>\n",
       "      <th>119</th>\n",
       "      <td>2023-02-01</td>\n",
       "      <td>5.152609</td>\n",
       "      <td>3.6</td>\n",
       "      <td>301.648</td>\n",
       "      <td>3.531500</td>\n",
       "      <td>-0.442183</td>\n",
       "      <td>-2.514271</td>\n",
       "      <td>-0.290649</td>\n",
       "      <td>-4.328217</td>\n",
       "      <td>-6.217115</td>\n",
       "      <td>-9.568502</td>\n",
       "      <td>-1.089288</td>\n",
       "      <td>1.592445</td>\n",
       "      <td>-7.172811</td>\n",
       "      <td>-7.286115</td>\n",
       "      <td>5.451681</td>\n",
       "      <td>1.112</td>\n",
       "      <td>0.2</td>\n",
       "      <td>-0.084690</td>\n",
       "    </tr>\n",
       "    <tr>\n",
       "      <th>120</th>\n",
       "      <td>2023-03-01</td>\n",
       "      <td>3.554254</td>\n",
       "      <td>3.5</td>\n",
       "      <td>301.808</td>\n",
       "      <td>3.746842</td>\n",
       "      <td>-0.442183</td>\n",
       "      <td>3.313488</td>\n",
       "      <td>8.035329</td>\n",
       "      <td>0.507544</td>\n",
       "      <td>1.862736</td>\n",
       "      <td>10.703390</td>\n",
       "      <td>0.141189</td>\n",
       "      <td>12.873250</td>\n",
       "      <td>9.367574</td>\n",
       "      <td>0.566924</td>\n",
       "      <td>11.025813</td>\n",
       "      <td>0.160</td>\n",
       "      <td>-0.1</td>\n",
       "      <td>0.215342</td>\n",
       "    </tr>\n",
       "    <tr>\n",
       "      <th>121</th>\n",
       "      <td>2023-04-01</td>\n",
       "      <td>-5.176628</td>\n",
       "      <td>3.4</td>\n",
       "      <td>302.918</td>\n",
       "      <td>3.663043</td>\n",
       "      <td>-0.442183</td>\n",
       "      <td>1.985238</td>\n",
       "      <td>5.489119</td>\n",
       "      <td>-3.664707</td>\n",
       "      <td>5.612908</td>\n",
       "      <td>15.269915</td>\n",
       "      <td>9.289214</td>\n",
       "      <td>5.836894</td>\n",
       "      <td>16.334413</td>\n",
       "      <td>-4.681371</td>\n",
       "      <td>-1.517467</td>\n",
       "      <td>1.110</td>\n",
       "      <td>-0.1</td>\n",
       "      <td>-0.083799</td>\n",
       "    </tr>\n",
       "    <tr>\n",
       "      <th>122</th>\n",
       "      <td>2023-05-01</td>\n",
       "      <td>-7.868480</td>\n",
       "      <td>3.7</td>\n",
       "      <td>304.127</td>\n",
       "      <td>3.460000</td>\n",
       "      <td>-0.442183</td>\n",
       "      <td>0.461619</td>\n",
       "      <td>-0.191204</td>\n",
       "      <td>-2.695194</td>\n",
       "      <td>-5.277949</td>\n",
       "      <td>8.487855</td>\n",
       "      <td>-4.382088</td>\n",
       "      <td>-3.967915</td>\n",
       "      <td>-6.161645</td>\n",
       "      <td>-2.237080</td>\n",
       "      <td>-2.162160</td>\n",
       "      <td>0.100</td>\n",
       "      <td>0.3</td>\n",
       "      <td>-0.203043</td>\n",
       "    </tr>\n",
       "  </tbody>\n",
       "</table>\n",
       "<p>123 rows × 19 columns</p>\n",
       "</div>"
      ],
      "text/plain": [
       "           Date       ABBV  unemployment_rate      CPI  treasury_yield  \\\n",
       "0    2013-03-01  10.455062                7.5  232.282        1.984211   \n",
       "1    2013-04-01  12.922975                7.6  231.797        1.957500   \n",
       "2    2013-05-01  -6.438455                7.5  231.893        1.759091   \n",
       "3    2013-06-01  -3.162299                7.5  232.445        1.928182   \n",
       "4    2013-07-01  10.014486                7.3  232.900        2.300000   \n",
       "..          ...        ...                ...      ...             ...   \n",
       "118  2023-01-01  -8.576205                3.4  300.536        3.616190   \n",
       "119  2023-02-01   5.152609                3.6  301.648        3.531500   \n",
       "120  2023-03-01   3.554254                3.5  301.808        3.746842   \n",
       "121  2023-04-01  -5.176628                3.4  302.918        3.663043   \n",
       "122  2023-05-01  -7.868480                3.7  304.127        3.460000   \n",
       "\n",
       "     GDP_growth  SP500_return        AZN        BMY       JNJ        LLY  \\\n",
       "0      0.397212      3.337507  14.582205  11.414669  7.978126   4.851792   \n",
       "1      0.085246      2.374537   3.881563  -3.568848  4.538222  -2.482836   \n",
       "2     -0.190605      2.361004  -1.290451  16.816781 -1.231989  -4.008663   \n",
       "3      0.620501     -1.853781  -7.707318  -2.868894  2.762464  -6.788137   \n",
       "4      0.210359      5.724173   7.230424  -3.244595  8.898141   8.122938   \n",
       "..          ...           ...        ...        ...       ...        ...   \n",
       "118    0.390254      6.776820  -3.584079   0.972908 -7.489384  -5.928822   \n",
       "119   -0.442183     -2.514271  -0.290649  -4.328217 -6.217115  -9.568502   \n",
       "120   -0.442183      3.313488   8.035329   0.507544  1.862736  10.703390   \n",
       "121   -0.442183      1.985238   5.489119  -3.664707  5.612908  15.269915   \n",
       "122   -0.442183      0.461619  -0.191204  -2.695194 -5.277949   8.487855   \n",
       "\n",
       "          MRK        NVO        NVS        PFE        ROG  inflation_change  \\\n",
       "0    3.440210  -7.714279   9.067089   5.443922  -0.188640            -0.655   \n",
       "1    7.359867  11.497419   3.537347   0.727651 -10.457790            -0.485   \n",
       "2   -0.638313  -8.792401  -2.711502  -6.329562   8.513136             0.096   \n",
       "3   -0.535372  -3.805087  -1.463219   3.722003   2.269287             0.552   \n",
       "4    4.655361   9.001745   1.272809   4.355584  17.540151             0.455   \n",
       "..        ...        ...        ...        ...        ...               ...   \n",
       "118 -2.549213   2.541749  -0.110227 -13.817335  16.968326             1.546   \n",
       "119 -1.089288   1.592445  -7.172811  -7.286115   5.451681             1.112   \n",
       "120  0.141189  12.873250   9.367574   0.566924  11.025813             0.160   \n",
       "121  9.289214   5.836894  16.334413  -4.681371  -1.517467             1.110   \n",
       "122 -4.382088  -3.967915  -6.161645  -2.237080  -2.162160             0.100   \n",
       "\n",
       "     unemp_change  treasury_yield_change  \n",
       "0            -0.2               0.069449  \n",
       "1             0.1              -0.026711  \n",
       "2            -0.1              -0.198409  \n",
       "3             0.0               0.169091  \n",
       "4            -0.2               0.371818  \n",
       "..            ...                    ...  \n",
       "118          -0.1              -0.274810  \n",
       "119           0.2              -0.084690  \n",
       "120          -0.1               0.215342  \n",
       "121          -0.1              -0.083799  \n",
       "122           0.3              -0.203043  \n",
       "\n",
       "[123 rows x 19 columns]"
      ]
     },
     "execution_count": 35,
     "metadata": {},
     "output_type": "execute_result"
    }
   ],
   "source": [
    "merged_df = data_ABBV.merge(data, on='Date', how='inner')\n",
    "merged_df"
   ]
  },
  {
   "cell_type": "code",
   "execution_count": 36,
   "metadata": {},
   "outputs": [
    {
     "data": {
      "text/plain": [
       "Index(['Date', 'ABBV', 'unemployment_rate', 'CPI', 'treasury_yield',\n",
       "       'GDP_growth', 'SP500_return', 'AZN', 'BMY', 'JNJ', 'LLY', 'MRK', 'NVO',\n",
       "       'NVS', 'PFE', 'ROG', 'inflation_change', 'unemp_change',\n",
       "       'treasury_yield_change'],\n",
       "      dtype='object')"
      ]
     },
     "execution_count": 36,
     "metadata": {},
     "output_type": "execute_result"
    }
   ],
   "source": [
    "merged_df.columns"
   ]
  },
  {
   "cell_type": "code",
   "execution_count": 37,
   "metadata": {},
   "outputs": [],
   "source": [
    "# Creating lagged variables\n",
    "tickers_plus_ABBV = ['ABBV', 'AZN', 'BMY', 'JNJ', 'LLY', 'MRK', 'NVO', 'NVS', 'PFE','ROG']\n",
    "covs = ['unemployment_rate', 'CPI', 'treasury_yield', 'GDP_growth', 'SP500_return', 'inflation_change', 'unemp_change', 'treasury_yield_change']\n",
    "period_covs = [1, 2, 3]\n",
    "period_returns = [1,2]\n",
    "\n",
    "merged_df, lagged_covs = create_lags_cov(merged_df, covs, period=period_covs)\n",
    "merged_df, lagged_tickers = create_lags_returns(merged_df, tickers_plus_ABBV, period= period_returns)"
   ]
  },
  {
   "cell_type": "code",
   "execution_count": 38,
   "metadata": {},
   "outputs": [],
   "source": [
    "# Creating dummy variables\n",
    "merged_df['Quater_dummy'] = 0\n",
    "merged_df['Quater_rippel'] = 0\n",
    "merged_df['Date'] = pd.to_datetime(merged_df['Date'])\n",
    "for index, row in merged_df.iterrows():\n",
    "    if row['Date'].month in [3, 6, 9, 12]:\n",
    "        merged_df.loc[index, 'Quater_dummy'] = 1\n",
    "    if row['Date'].month in [1, 4, 7, 10]:\n",
    "        merged_df.loc[index, 'Quater_dummy'] = 1"
   ]
  },
  {
   "cell_type": "code",
   "execution_count": 39,
   "metadata": {},
   "outputs": [
    {
     "data": {
      "text/plain": [
       "Index(['Date', 'ABBV', 'unemployment_rate', 'CPI', 'treasury_yield',\n",
       "       'GDP_growth', 'SP500_return', 'AZN', 'BMY', 'JNJ', 'LLY', 'MRK', 'NVO',\n",
       "       'NVS', 'PFE', 'ROG', 'inflation_change', 'unemp_change',\n",
       "       'treasury_yield_change', 'unemployment_rate_lag1',\n",
       "       'unemployment_rate_lag2', 'unemployment_rate_lag3', 'CPI_lag1',\n",
       "       'CPI_lag2', 'CPI_lag3', 'treasury_yield_lag1', 'treasury_yield_lag2',\n",
       "       'treasury_yield_lag3', 'GDP_growth_lag1', 'GDP_growth_lag2',\n",
       "       'GDP_growth_lag3', 'SP500_return_lag1', 'SP500_return_lag2',\n",
       "       'SP500_return_lag3', 'inflation_change_lag1', 'inflation_change_lag2',\n",
       "       'inflation_change_lag3', 'unemp_change_lag1', 'unemp_change_lag2',\n",
       "       'unemp_change_lag3', 'treasury_yield_change_lag1',\n",
       "       'treasury_yield_change_lag2', 'treasury_yield_change_lag3', 'ABBV_lag1',\n",
       "       'ABBV_lag2', 'AZN_lag1', 'AZN_lag2', 'BMY_lag1', 'BMY_lag2', 'JNJ_lag1',\n",
       "       'JNJ_lag2', 'LLY_lag1', 'LLY_lag2', 'MRK_lag1', 'MRK_lag2', 'NVO_lag1',\n",
       "       'NVO_lag2', 'NVS_lag1', 'NVS_lag2', 'PFE_lag1', 'PFE_lag2', 'ROG_lag1',\n",
       "       'ROG_lag2', 'Quater_dummy', 'Quater_rippel'],\n",
       "      dtype='object')"
      ]
     },
     "execution_count": 39,
     "metadata": {},
     "output_type": "execute_result"
    }
   ],
   "source": [
    "merged_df.columns"
   ]
  },
  {
   "attachments": {},
   "cell_type": "markdown",
   "metadata": {},
   "source": [
    "## 1. Macros Only"
   ]
  },
  {
   "cell_type": "code",
   "execution_count": 40,
   "metadata": {},
   "outputs": [],
   "source": [
    "to_exclude = []\n",
    "\n",
    "for t in tickers_plus_ABBV:\n",
    "    to_exclude.append(t)\n",
    "    to_exclude.append(f'{t}_lag1')\n",
    "    to_exclude.append(f'{t}_lag2')\n",
    "\n",
    "for covariate in covs:\n",
    "    to_exclude.append(covariate)\n",
    "\n",
    "to_exclude.append('Date')"
   ]
  },
  {
   "cell_type": "code",
   "execution_count": 41,
   "metadata": {},
   "outputs": [
    {
     "data": {
      "text/plain": [
       "['ABBV',\n",
       " 'ABBV_lag1',\n",
       " 'ABBV_lag2',\n",
       " 'AZN',\n",
       " 'AZN_lag1',\n",
       " 'AZN_lag2',\n",
       " 'BMY',\n",
       " 'BMY_lag1',\n",
       " 'BMY_lag2',\n",
       " 'JNJ',\n",
       " 'JNJ_lag1',\n",
       " 'JNJ_lag2',\n",
       " 'LLY',\n",
       " 'LLY_lag1',\n",
       " 'LLY_lag2',\n",
       " 'MRK',\n",
       " 'MRK_lag1',\n",
       " 'MRK_lag2',\n",
       " 'NVO',\n",
       " 'NVO_lag1',\n",
       " 'NVO_lag2',\n",
       " 'NVS',\n",
       " 'NVS_lag1',\n",
       " 'NVS_lag2',\n",
       " 'PFE',\n",
       " 'PFE_lag1',\n",
       " 'PFE_lag2',\n",
       " 'ROG',\n",
       " 'ROG_lag1',\n",
       " 'ROG_lag2',\n",
       " 'unemployment_rate',\n",
       " 'CPI',\n",
       " 'treasury_yield',\n",
       " 'GDP_growth',\n",
       " 'SP500_return',\n",
       " 'inflation_change',\n",
       " 'unemp_change',\n",
       " 'treasury_yield_change',\n",
       " 'Date']"
      ]
     },
     "execution_count": 41,
     "metadata": {},
     "output_type": "execute_result"
    }
   ],
   "source": [
    "to_exclude"
   ]
  },
  {
   "cell_type": "code",
   "execution_count": 43,
   "metadata": {},
   "outputs": [
    {
     "name": "stdout",
     "output_type": "stream",
     "text": [
      "ABBV-1m-loss: {loss} \n",
      "\n",
      "ABBV-VaR-forecast: {var_forecast} \n",
      "\n",
      "ABBV-3m-loss: {loss} \n",
      "\n",
      "ABBV-VaR-forecast: {var_forecast} \n",
      "\n",
      "ABBV-6m-loss: {loss} \n",
      "\n",
      "ABBV-VaR-forecast:{var_forecast} \n",
      "\n",
      "ABBV-9m-loss: {loss} \n",
      "\n",
      "ABBV-VaR-forecast: {var_forecast} \n",
      "\n",
      "ABBV-12m-loss: {loss} \n",
      "\n",
      "ABBV-VaR-forecast:{var_forecast} \n",
      "\n"
     ]
    }
   ],
   "source": [
    "# 1 month\n",
    "loss, var_forecast = rolling_forecast_QR(merged_df, dates1m, t, alpha=0.05, columns_to_exclude= to_exclude, horizon=1)\n",
    "print('ABBV-1m-loss: {loss} \\n')\n",
    "print('ABBV-VaR-forecast: {var_forecast} \\n')\n",
    "\n",
    "# 3 months\n",
    "loss, var_forecast = rolling_forecast_QR(merged_df, dates3m, t, alpha=0.05, columns_to_exclude= to_exclude, horizon=3)\n",
    "print('ABBV-3m-loss: {loss} \\n')\n",
    "print('ABBV-VaR-forecast: {var_forecast} \\n')\n",
    "\n",
    "\n",
    "# 6 months\n",
    "loss, var_forecast = rolling_forecast_QR(merged_df, dates6m, t, alpha=0.05, columns_to_exclude= to_exclude, horizon=6)\n",
    "print('ABBV-6m-loss: {loss} \\n')\n",
    "print('ABBV-VaR-forecast:{var_forecast} \\n')\n",
    "\n",
    "# 9 months\n",
    "loss, var_forecast = rolling_forecast_QR(merged_df, dates9m, t, alpha=0.05, columns_to_exclude= to_exclude, horizon=9)\n",
    "print('ABBV-9m-loss: {loss} \\n')\n",
    "print('ABBV-VaR-forecast: {var_forecast} \\n')\n",
    "\n",
    "\n",
    "# 12 months\n",
    "loss, var_forecast = rolling_forecast_QR(merged_df, dates12m, t, alpha=0.05, columns_to_exclude= to_exclude, horizon=12)\n",
    "print('ABBV-12m-loss: {loss} \\n')\n",
    "print('ABBV-VaR-forecast:{var_forecast} \\n')"
   ]
  },
  {
   "attachments": {},
   "cell_type": "markdown",
   "metadata": {},
   "source": [
    "## 2. Ticker data"
   ]
  },
  {
   "cell_type": "code",
   "execution_count": 44,
   "metadata": {},
   "outputs": [],
   "source": [
    "merged_df_stocks = merged_df.copy()\n",
    "to_exclude2 = []\n",
    "\n",
    "for covariate in covs:\n",
    "    to_exclude2.append(covariate)\n",
    "    to_exclude2.append(f'{covariate}_lag1')\n",
    "    to_exclude2.append(f'{covariate}_lag2')\n",
    "    to_exclude2.append(f'{covariate}_lag3')\n",
    "\n",
    "for t in tickers:\n",
    "    to_exclude2.append(t)\n",
    "\n",
    "to_exclude2.append('Date')"
   ]
  },
  {
   "cell_type": "code",
   "execution_count": 45,
   "metadata": {},
   "outputs": [
    {
     "name": "stdout",
     "output_type": "stream",
     "text": [
      "ABBV-1m-loss: {loss} \n",
      "\n",
      "ABBV-VaR-forecast: {var_forecast} \n",
      "\n",
      "ABBV-3m-loss: {loss} \n",
      "\n",
      "ABBV-VaR-forecast: {var_forecast} \n",
      "\n",
      "ABBV-6m-loss: {loss} \n",
      "\n",
      "ABBV-VaR-forecast:{var_forecast} \n",
      "\n",
      "ABBV-9m-loss: {loss} \n",
      "\n",
      "ABBV-VaR-forecast: {var_forecast} \n",
      "\n",
      "ABBV-12m-loss: {loss} \n",
      "\n",
      "ABBV-VaR-forecast:{var_forecast} \n",
      "\n"
     ]
    }
   ],
   "source": [
    "# 1 month\n",
    "loss, var_forecast = rolling_forecast_QR(merged_df, dates1m, t, alpha=0.05, columns_to_exclude= to_exclude2, horizon=1)\n",
    "print('ABBV-1m-loss: {loss} \\n')\n",
    "print('ABBV-VaR-forecast: {var_forecast} \\n')\n",
    "\n",
    "# 3 months\n",
    "loss, var_forecast = rolling_forecast_QR(merged_df, dates3m, t, alpha=0.05, columns_to_exclude= to_exclude2, horizon=3)\n",
    "print('ABBV-3m-loss: {loss} \\n')\n",
    "print('ABBV-VaR-forecast: {var_forecast} \\n')\n",
    "\n",
    "\n",
    "# 6 months\n",
    "loss, var_forecast = rolling_forecast_QR(merged_df, dates6m, t, alpha=0.05, columns_to_exclude= to_exclude2, horizon=6)\n",
    "print('ABBV-6m-loss: {loss} \\n')\n",
    "print('ABBV-VaR-forecast:{var_forecast} \\n')\n",
    "\n",
    "# 9 months\n",
    "loss, var_forecast = rolling_forecast_QR(merged_df, dates9m, t, alpha=0.05, columns_to_exclude= to_exclude2, horizon=9)\n",
    "print('ABBV-9m-loss: {loss} \\n')\n",
    "print('ABBV-VaR-forecast: {var_forecast} \\n')\n",
    "\n",
    "\n",
    "# 12 months\n",
    "loss, var_forecast = rolling_forecast_QR(merged_df, dates12m, t, alpha=0.05, columns_to_exclude= to_exclude2, horizon=12)\n",
    "print('ABBV-12m-loss: {loss} \\n')\n",
    "print('ABBV-VaR-forecast:{var_forecast} \\n')"
   ]
  },
  {
   "attachments": {},
   "cell_type": "markdown",
   "metadata": {},
   "source": [
    "## 3. All Covariates"
   ]
  },
  {
   "cell_type": "code",
   "execution_count": 46,
   "metadata": {},
   "outputs": [],
   "source": [
    "merged_df_covs = merged_df.copy()\n",
    "to_exclude3 = ['Date']\n",
    "\n",
    "for covariate in covs:\n",
    "    to_exclude3.append(covariate)\n",
    "\n",
    "for t in tickers:\n",
    "    to_exclude3.append(t)"
   ]
  },
  {
   "cell_type": "code",
   "execution_count": 47,
   "metadata": {},
   "outputs": [
    {
     "name": "stdout",
     "output_type": "stream",
     "text": [
      "ABBV-1m-loss: {loss} \n",
      "\n",
      "ABBV-VaR-forecast: {var_forecast} \n",
      "\n",
      "ABBV-3m-loss: {loss} \n",
      "\n",
      "ABBV-VaR-forecast: {var_forecast} \n",
      "\n",
      "ABBV-6m-loss: {loss} \n",
      "\n",
      "ABBV-VaR-forecast:{var_forecast} \n",
      "\n",
      "ABBV-9m-loss: {loss} \n",
      "\n",
      "ABBV-VaR-forecast: {var_forecast} \n",
      "\n",
      "ABBV-12m-loss: {loss} \n",
      "\n",
      "ABBV-VaR-forecast:{var_forecast} \n",
      "\n"
     ]
    }
   ],
   "source": [
    "# 1 month\n",
    "loss, var_forecast = rolling_forecast_QR(merged_df, dates1m, t, alpha=0.05, columns_to_exclude= to_exclude3, horizon=1)\n",
    "print('ABBV-1m-loss: {loss} \\n')\n",
    "print('ABBV-VaR-forecast: {var_forecast} \\n')\n",
    "\n",
    "# 3 months\n",
    "loss, var_forecast = rolling_forecast_QR(merged_df, dates3m, t, alpha=0.05, columns_to_exclude= to_exclude3, horizon=3)\n",
    "print('ABBV-3m-loss: {loss} \\n')\n",
    "print('ABBV-VaR-forecast: {var_forecast} \\n')\n",
    "\n",
    "\n",
    "# 6 months\n",
    "loss, var_forecast = rolling_forecast_QR(merged_df, dates6m, t, alpha=0.05, columns_to_exclude= to_exclude3, horizon=6)\n",
    "print('ABBV-6m-loss: {loss} \\n')\n",
    "print('ABBV-VaR-forecast:{var_forecast} \\n')\n",
    "\n",
    "# 9 months\n",
    "loss, var_forecast = rolling_forecast_QR(merged_df, dates9m, t, alpha=0.05, columns_to_exclude= to_exclude3, horizon=9)\n",
    "print('ABBV-9m-loss: {loss} \\n')\n",
    "print('ABBV-VaR-forecast: {var_forecast} \\n')\n",
    "\n",
    "\n",
    "# 12 months\n",
    "loss, var_forecast = rolling_forecast_QR(merged_df, dates12m, t, alpha=0.05, columns_to_exclude= to_exclude3, horizon=12)\n",
    "print('ABBV-12m-loss: {loss} \\n')\n",
    "print('ABBV-VaR-forecast:{var_forecast} \\n')"
   ]
  }
 ],
 "metadata": {
  "kernelspec": {
   "display_name": "base",
   "language": "python",
   "name": "python3"
  },
  "language_info": {
   "codemirror_mode": {
    "name": "ipython",
    "version": 3
   },
   "file_extension": ".py",
   "mimetype": "text/x-python",
   "name": "python",
   "nbconvert_exporter": "python",
   "pygments_lexer": "ipython3",
   "version": "3.8.16"
  },
  "orig_nbformat": 4
 },
 "nbformat": 4,
 "nbformat_minor": 2
}
