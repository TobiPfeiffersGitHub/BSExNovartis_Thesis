{
 "cells": [
  {
   "cell_type": "code",
   "execution_count": 1,
   "metadata": {},
   "outputs": [],
   "source": [
    "import pandas as pd\n",
    "import numpy as np\n",
    "import statsmodels.api as sm\n",
    "import statsmodels.formula.api as smf\n",
    "from sklearn.model_selection import TimeSeriesSplit"
   ]
  },
  {
   "attachments": {},
   "cell_type": "markdown",
   "metadata": {},
   "source": [
    "## QUANTILE REGRESSION"
   ]
  },
  {
   "cell_type": "code",
   "execution_count": 2,
   "metadata": {},
   "outputs": [
    {
     "data": {
      "text/html": [
       "<div>\n",
       "<style scoped>\n",
       "    .dataframe tbody tr th:only-of-type {\n",
       "        vertical-align: middle;\n",
       "    }\n",
       "\n",
       "    .dataframe tbody tr th {\n",
       "        vertical-align: top;\n",
       "    }\n",
       "\n",
       "    .dataframe thead th {\n",
       "        text-align: right;\n",
       "    }\n",
       "</style>\n",
       "<table border=\"1\" class=\"dataframe\">\n",
       "  <thead>\n",
       "    <tr style=\"text-align: right;\">\n",
       "      <th></th>\n",
       "      <th>Date</th>\n",
       "      <th>unemployment_rate</th>\n",
       "      <th>CPI</th>\n",
       "      <th>treasury_yield</th>\n",
       "      <th>GDP_growth</th>\n",
       "      <th>SP500_return</th>\n",
       "      <th>AZN</th>\n",
       "      <th>BMY</th>\n",
       "      <th>JNJ</th>\n",
       "      <th>LLY</th>\n",
       "      <th>MRK</th>\n",
       "      <th>NVO</th>\n",
       "      <th>NVS</th>\n",
       "      <th>PFE</th>\n",
       "      <th>ROG</th>\n",
       "      <th>inflation_change</th>\n",
       "      <th>unemp_change</th>\n",
       "      <th>treasury_yield_change</th>\n",
       "    </tr>\n",
       "  </thead>\n",
       "  <tbody>\n",
       "    <tr>\n",
       "      <th>0</th>\n",
       "      <td>2000-02-01</td>\n",
       "      <td>4.1</td>\n",
       "      <td>170.000</td>\n",
       "      <td>6.661000</td>\n",
       "      <td>0.496560</td>\n",
       "      <td>-1.522563</td>\n",
       "      <td>-12.828964</td>\n",
       "      <td>-13.228004</td>\n",
       "      <td>-16.339821</td>\n",
       "      <td>-11.121498</td>\n",
       "      <td>-21.701151</td>\n",
       "      <td>2.220031</td>\n",
       "      <td>3.838386</td>\n",
       "      <td>-11.226228</td>\n",
       "      <td>54.440789</td>\n",
       "      <td>1.000</td>\n",
       "      <td>-0.1</td>\n",
       "      <td>-0.141500</td>\n",
       "    </tr>\n",
       "    <tr>\n",
       "      <th>1</th>\n",
       "      <td>2000-03-01</td>\n",
       "      <td>4.0</td>\n",
       "      <td>171.000</td>\n",
       "      <td>6.519500</td>\n",
       "      <td>0.511258</td>\n",
       "      <td>9.413333</td>\n",
       "      <td>22.264136</td>\n",
       "      <td>-0.218329</td>\n",
       "      <td>-2.079067</td>\n",
       "      <td>5.804243</td>\n",
       "      <td>0.913712</td>\n",
       "      <td>8.390897</td>\n",
       "      <td>6.420237</td>\n",
       "      <td>14.101954</td>\n",
       "      <td>6.922258</td>\n",
       "      <td>1.000</td>\n",
       "      <td>-0.1</td>\n",
       "      <td>-0.141500</td>\n",
       "    </tr>\n",
       "    <tr>\n",
       "      <th>2</th>\n",
       "      <td>2000-04-01</td>\n",
       "      <td>3.8</td>\n",
       "      <td>170.900</td>\n",
       "      <td>6.256522</td>\n",
       "      <td>1.327803</td>\n",
       "      <td>-3.266805</td>\n",
       "      <td>5.567379</td>\n",
       "      <td>-8.205683</td>\n",
       "      <td>17.437698</td>\n",
       "      <td>23.153694</td>\n",
       "      <td>12.400712</td>\n",
       "      <td>-0.097663</td>\n",
       "      <td>2.559423</td>\n",
       "      <td>15.213674</td>\n",
       "      <td>7.370518</td>\n",
       "      <td>-0.100</td>\n",
       "      <td>-0.2</td>\n",
       "      <td>-0.262978</td>\n",
       "    </tr>\n",
       "    <tr>\n",
       "      <th>3</th>\n",
       "      <td>2000-05-01</td>\n",
       "      <td>4.0</td>\n",
       "      <td>171.200</td>\n",
       "      <td>5.990526</td>\n",
       "      <td>-0.181797</td>\n",
       "      <td>-1.572223</td>\n",
       "      <td>-0.148357</td>\n",
       "      <td>5.395746</td>\n",
       "      <td>8.484832</td>\n",
       "      <td>-1.296597</td>\n",
       "      <td>7.374072</td>\n",
       "      <td>20.863985</td>\n",
       "      <td>5.169310</td>\n",
       "      <td>5.638019</td>\n",
       "      <td>-8.163265</td>\n",
       "      <td>0.300</td>\n",
       "      <td>0.2</td>\n",
       "      <td>-0.265995</td>\n",
       "    </tr>\n",
       "    <tr>\n",
       "      <th>4</th>\n",
       "      <td>2000-06-01</td>\n",
       "      <td>4.0</td>\n",
       "      <td>172.200</td>\n",
       "      <td>6.440455</td>\n",
       "      <td>0.305565</td>\n",
       "      <td>1.728613</td>\n",
       "      <td>10.549735</td>\n",
       "      <td>5.788826</td>\n",
       "      <td>14.239888</td>\n",
       "      <td>31.641749</td>\n",
       "      <td>3.078671</td>\n",
       "      <td>2.813690</td>\n",
       "      <td>8.474599</td>\n",
       "      <td>8.076012</td>\n",
       "      <td>13.131313</td>\n",
       "      <td>1.000</td>\n",
       "      <td>0.0</td>\n",
       "      <td>0.449928</td>\n",
       "    </tr>\n",
       "    <tr>\n",
       "      <th>...</th>\n",
       "      <td>...</td>\n",
       "      <td>...</td>\n",
       "      <td>...</td>\n",
       "      <td>...</td>\n",
       "      <td>...</td>\n",
       "      <td>...</td>\n",
       "      <td>...</td>\n",
       "      <td>...</td>\n",
       "      <td>...</td>\n",
       "      <td>...</td>\n",
       "      <td>...</td>\n",
       "      <td>...</td>\n",
       "      <td>...</td>\n",
       "      <td>...</td>\n",
       "      <td>...</td>\n",
       "      <td>...</td>\n",
       "      <td>...</td>\n",
       "      <td>...</td>\n",
       "    </tr>\n",
       "    <tr>\n",
       "      <th>275</th>\n",
       "      <td>2023-01-01</td>\n",
       "      <td>3.4</td>\n",
       "      <td>300.536</td>\n",
       "      <td>3.616190</td>\n",
       "      <td>0.390254</td>\n",
       "      <td>6.776820</td>\n",
       "      <td>-3.584079</td>\n",
       "      <td>0.972908</td>\n",
       "      <td>-7.489384</td>\n",
       "      <td>-5.928822</td>\n",
       "      <td>-2.549213</td>\n",
       "      <td>2.541749</td>\n",
       "      <td>-0.110227</td>\n",
       "      <td>-13.817335</td>\n",
       "      <td>16.968326</td>\n",
       "      <td>1.546</td>\n",
       "      <td>-0.1</td>\n",
       "      <td>-0.274810</td>\n",
       "    </tr>\n",
       "    <tr>\n",
       "      <th>276</th>\n",
       "      <td>2023-02-01</td>\n",
       "      <td>3.6</td>\n",
       "      <td>301.648</td>\n",
       "      <td>3.531500</td>\n",
       "      <td>-0.442183</td>\n",
       "      <td>-2.514271</td>\n",
       "      <td>-0.290649</td>\n",
       "      <td>-4.328217</td>\n",
       "      <td>-6.217115</td>\n",
       "      <td>-9.568502</td>\n",
       "      <td>-1.089288</td>\n",
       "      <td>1.592445</td>\n",
       "      <td>-7.172811</td>\n",
       "      <td>-7.286115</td>\n",
       "      <td>5.451681</td>\n",
       "      <td>1.112</td>\n",
       "      <td>0.2</td>\n",
       "      <td>-0.084690</td>\n",
       "    </tr>\n",
       "    <tr>\n",
       "      <th>277</th>\n",
       "      <td>2023-03-01</td>\n",
       "      <td>3.5</td>\n",
       "      <td>301.808</td>\n",
       "      <td>3.746842</td>\n",
       "      <td>-0.442183</td>\n",
       "      <td>3.313488</td>\n",
       "      <td>8.035329</td>\n",
       "      <td>0.507544</td>\n",
       "      <td>1.862736</td>\n",
       "      <td>10.703390</td>\n",
       "      <td>0.141189</td>\n",
       "      <td>12.873250</td>\n",
       "      <td>9.367574</td>\n",
       "      <td>0.566924</td>\n",
       "      <td>11.025813</td>\n",
       "      <td>0.160</td>\n",
       "      <td>-0.1</td>\n",
       "      <td>0.215342</td>\n",
       "    </tr>\n",
       "    <tr>\n",
       "      <th>278</th>\n",
       "      <td>2023-04-01</td>\n",
       "      <td>3.4</td>\n",
       "      <td>302.918</td>\n",
       "      <td>3.663043</td>\n",
       "      <td>-0.442183</td>\n",
       "      <td>1.985238</td>\n",
       "      <td>5.489119</td>\n",
       "      <td>-3.664707</td>\n",
       "      <td>5.612908</td>\n",
       "      <td>15.269915</td>\n",
       "      <td>9.289214</td>\n",
       "      <td>5.836894</td>\n",
       "      <td>16.334413</td>\n",
       "      <td>-4.681371</td>\n",
       "      <td>-1.517467</td>\n",
       "      <td>1.110</td>\n",
       "      <td>-0.1</td>\n",
       "      <td>-0.083799</td>\n",
       "    </tr>\n",
       "    <tr>\n",
       "      <th>279</th>\n",
       "      <td>2023-05-01</td>\n",
       "      <td>3.7</td>\n",
       "      <td>304.127</td>\n",
       "      <td>3.460000</td>\n",
       "      <td>-0.442183</td>\n",
       "      <td>0.461619</td>\n",
       "      <td>-0.191204</td>\n",
       "      <td>-2.695194</td>\n",
       "      <td>-5.277949</td>\n",
       "      <td>8.487855</td>\n",
       "      <td>-4.382088</td>\n",
       "      <td>-3.967915</td>\n",
       "      <td>-6.161645</td>\n",
       "      <td>-2.237080</td>\n",
       "      <td>-2.162160</td>\n",
       "      <td>0.100</td>\n",
       "      <td>0.3</td>\n",
       "      <td>-0.203043</td>\n",
       "    </tr>\n",
       "  </tbody>\n",
       "</table>\n",
       "<p>280 rows × 18 columns</p>\n",
       "</div>"
      ],
      "text/plain": [
       "           Date  unemployment_rate      CPI  treasury_yield  GDP_growth  \\\n",
       "0    2000-02-01                4.1  170.000        6.661000    0.496560   \n",
       "1    2000-03-01                4.0  171.000        6.519500    0.511258   \n",
       "2    2000-04-01                3.8  170.900        6.256522    1.327803   \n",
       "3    2000-05-01                4.0  171.200        5.990526   -0.181797   \n",
       "4    2000-06-01                4.0  172.200        6.440455    0.305565   \n",
       "..          ...                ...      ...             ...         ...   \n",
       "275  2023-01-01                3.4  300.536        3.616190    0.390254   \n",
       "276  2023-02-01                3.6  301.648        3.531500   -0.442183   \n",
       "277  2023-03-01                3.5  301.808        3.746842   -0.442183   \n",
       "278  2023-04-01                3.4  302.918        3.663043   -0.442183   \n",
       "279  2023-05-01                3.7  304.127        3.460000   -0.442183   \n",
       "\n",
       "     SP500_return        AZN        BMY        JNJ        LLY        MRK  \\\n",
       "0       -1.522563 -12.828964 -13.228004 -16.339821 -11.121498 -21.701151   \n",
       "1        9.413333  22.264136  -0.218329  -2.079067   5.804243   0.913712   \n",
       "2       -3.266805   5.567379  -8.205683  17.437698  23.153694  12.400712   \n",
       "3       -1.572223  -0.148357   5.395746   8.484832  -1.296597   7.374072   \n",
       "4        1.728613  10.549735   5.788826  14.239888  31.641749   3.078671   \n",
       "..            ...        ...        ...        ...        ...        ...   \n",
       "275      6.776820  -3.584079   0.972908  -7.489384  -5.928822  -2.549213   \n",
       "276     -2.514271  -0.290649  -4.328217  -6.217115  -9.568502  -1.089288   \n",
       "277      3.313488   8.035329   0.507544   1.862736  10.703390   0.141189   \n",
       "278      1.985238   5.489119  -3.664707   5.612908  15.269915   9.289214   \n",
       "279      0.461619  -0.191204  -2.695194  -5.277949   8.487855  -4.382088   \n",
       "\n",
       "           NVO        NVS        PFE        ROG  inflation_change  \\\n",
       "0     2.220031   3.838386 -11.226228  54.440789             1.000   \n",
       "1     8.390897   6.420237  14.101954   6.922258             1.000   \n",
       "2    -0.097663   2.559423  15.213674   7.370518            -0.100   \n",
       "3    20.863985   5.169310   5.638019  -8.163265             0.300   \n",
       "4     2.813690   8.474599   8.076012  13.131313             1.000   \n",
       "..         ...        ...        ...        ...               ...   \n",
       "275   2.541749  -0.110227 -13.817335  16.968326             1.546   \n",
       "276   1.592445  -7.172811  -7.286115   5.451681             1.112   \n",
       "277  12.873250   9.367574   0.566924  11.025813             0.160   \n",
       "278   5.836894  16.334413  -4.681371  -1.517467             1.110   \n",
       "279  -3.967915  -6.161645  -2.237080  -2.162160             0.100   \n",
       "\n",
       "     unemp_change  treasury_yield_change  \n",
       "0            -0.1              -0.141500  \n",
       "1            -0.1              -0.141500  \n",
       "2            -0.2              -0.262978  \n",
       "3             0.2              -0.265995  \n",
       "4             0.0               0.449928  \n",
       "..            ...                    ...  \n",
       "275          -0.1              -0.274810  \n",
       "276           0.2              -0.084690  \n",
       "277          -0.1               0.215342  \n",
       "278          -0.1              -0.083799  \n",
       "279           0.3              -0.203043  \n",
       "\n",
       "[280 rows x 18 columns]"
      ]
     },
     "execution_count": 2,
     "metadata": {},
     "output_type": "execute_result"
    }
   ],
   "source": [
    "data = pd.read_csv('non_nan.csv', )\n",
    "data"
   ]
  },
  {
   "cell_type": "code",
   "execution_count": 3,
   "metadata": {},
   "outputs": [],
   "source": [
    "def create_lags_cov(data, covs, period):\n",
    "    lagged_covs = []  # List to store the names of lagged columns\n",
    "\n",
    "    for covariate in covs:\n",
    "        for i in period:\n",
    "            lagged_column_name = f'{covariate}_lag{i}'\n",
    "            data[lagged_column_name] = data[covariate].shift(i)\n",
    "            lagged_covs.append(lagged_column_name)\n",
    "    \n",
    "    data.dropna(inplace=True)\n",
    "    data = data.reset_index(drop=True)\n",
    "\n",
    "    return data, lagged_covs"
   ]
  },
  {
   "cell_type": "code",
   "execution_count": 4,
   "metadata": {},
   "outputs": [],
   "source": [
    "def create_lags_returns(data, tickers, period):\n",
    "\n",
    "    lagged_tickers = []  # List to store the names of lagged columns\n",
    "\n",
    "    for tick in tickers:\n",
    "        for i in period:\n",
    "            lagged_column_name = f'{tick}_lag{i}'\n",
    "            data[lagged_column_name] = data[tick].shift(i)\n",
    "            lagged_tickers.append(lagged_column_name)\n",
    "\n",
    "    data.dropna(inplace=True)\n",
    "    data = data.reset_index(drop=True)\n",
    "\n",
    "    return data, lagged_tickers"
   ]
  },
  {
   "cell_type": "code",
   "execution_count": 5,
   "metadata": {},
   "outputs": [],
   "source": [
    "# Creating lagged variables\n",
    "tickers = ['AZN', 'BMY', 'JNJ', 'LLY', 'MRK', 'NVO', 'NVS', 'PFE','ROG']\n",
    "covs = ['unemployment_rate', 'CPI', 'treasury_yield', 'GDP_growth', 'SP500_return', 'inflation_change', 'unemp_change', 'treasury_yield_change']\n",
    "period_covs = [1, 2, 3]\n",
    "period_returns = [1,2]\n",
    "\n",
    "data, lagged_covs = create_lags_cov(data, covs, period=period_covs)\n",
    "data, lagged_tickers = create_lags_returns(data, tickers, period= period_returns)"
   ]
  },
  {
   "cell_type": "code",
   "execution_count": 6,
   "metadata": {},
   "outputs": [],
   "source": [
    "# Creating dummy variables\n",
    "data['Quater_dummy'] = 0\n",
    "data['Quater_rippel'] = 0\n",
    "data['Date'] = pd.to_datetime(data['Date'])\n",
    "for index, row in data.iterrows():\n",
    "    if row['Date'].month in [3, 6, 9, 12]:\n",
    "        data.loc[index, 'Quater_dummy'] = 1\n",
    "    if row['Date'].month in [1, 4, 7, 10]:\n",
    "        data.loc[index, 'Quater_dummy'] = 1"
   ]
  },
  {
   "cell_type": "code",
   "execution_count": 7,
   "metadata": {},
   "outputs": [
    {
     "data": {
      "text/html": [
       "<div>\n",
       "<style scoped>\n",
       "    .dataframe tbody tr th:only-of-type {\n",
       "        vertical-align: middle;\n",
       "    }\n",
       "\n",
       "    .dataframe tbody tr th {\n",
       "        vertical-align: top;\n",
       "    }\n",
       "\n",
       "    .dataframe thead th {\n",
       "        text-align: right;\n",
       "    }\n",
       "</style>\n",
       "<table border=\"1\" class=\"dataframe\">\n",
       "  <thead>\n",
       "    <tr style=\"text-align: right;\">\n",
       "      <th></th>\n",
       "      <th>Date</th>\n",
       "      <th>unemployment_rate</th>\n",
       "      <th>CPI</th>\n",
       "      <th>treasury_yield</th>\n",
       "      <th>GDP_growth</th>\n",
       "      <th>SP500_return</th>\n",
       "      <th>AZN</th>\n",
       "      <th>BMY</th>\n",
       "      <th>JNJ</th>\n",
       "      <th>LLY</th>\n",
       "      <th>...</th>\n",
       "      <th>NVO_lag1</th>\n",
       "      <th>NVO_lag2</th>\n",
       "      <th>NVS_lag1</th>\n",
       "      <th>NVS_lag2</th>\n",
       "      <th>PFE_lag1</th>\n",
       "      <th>PFE_lag2</th>\n",
       "      <th>ROG_lag1</th>\n",
       "      <th>ROG_lag2</th>\n",
       "      <th>Quater_dummy</th>\n",
       "      <th>Quater_rippel</th>\n",
       "    </tr>\n",
       "  </thead>\n",
       "  <tbody>\n",
       "    <tr>\n",
       "      <th>0</th>\n",
       "      <td>2000-07-01</td>\n",
       "      <td>4.0</td>\n",
       "      <td>172.700</td>\n",
       "      <td>6.097273</td>\n",
       "      <td>-0.653855</td>\n",
       "      <td>-1.338453</td>\n",
       "      <td>-8.064479</td>\n",
       "      <td>-11.373392</td>\n",
       "      <td>-8.650271</td>\n",
       "      <td>4.005041</td>\n",
       "      <td>...</td>\n",
       "      <td>2.813690</td>\n",
       "      <td>20.863985</td>\n",
       "      <td>8.474599</td>\n",
       "      <td>5.169310</td>\n",
       "      <td>8.076012</td>\n",
       "      <td>5.638019</td>\n",
       "      <td>13.131313</td>\n",
       "      <td>-8.163265</td>\n",
       "      <td>1</td>\n",
       "      <td>0</td>\n",
       "    </tr>\n",
       "    <tr>\n",
       "      <th>1</th>\n",
       "      <td>2000-08-01</td>\n",
       "      <td>4.1</td>\n",
       "      <td>172.700</td>\n",
       "      <td>6.054000</td>\n",
       "      <td>0.795710</td>\n",
       "      <td>6.534124</td>\n",
       "      <td>6.578935</td>\n",
       "      <td>3.131245</td>\n",
       "      <td>-1.192113</td>\n",
       "      <td>-29.708189</td>\n",
       "      <td>...</td>\n",
       "      <td>13.757382</td>\n",
       "      <td>2.813690</td>\n",
       "      <td>-3.593737</td>\n",
       "      <td>8.474599</td>\n",
       "      <td>-9.635421</td>\n",
       "      <td>8.076012</td>\n",
       "      <td>2.142857</td>\n",
       "      <td>13.131313</td>\n",
       "      <td>0</td>\n",
       "      <td>0</td>\n",
       "    </tr>\n",
       "    <tr>\n",
       "      <th>2</th>\n",
       "      <td>2000-09-01</td>\n",
       "      <td>3.9</td>\n",
       "      <td>173.600</td>\n",
       "      <td>5.826087</td>\n",
       "      <td>0.249670</td>\n",
       "      <td>-5.723123</td>\n",
       "      <td>15.363525</td>\n",
       "      <td>8.458631</td>\n",
       "      <td>2.496165</td>\n",
       "      <td>11.482185</td>\n",
       "      <td>...</td>\n",
       "      <td>5.591665</td>\n",
       "      <td>13.757382</td>\n",
       "      <td>-1.944901</td>\n",
       "      <td>-3.593737</td>\n",
       "      <td>-0.540360</td>\n",
       "      <td>-9.635421</td>\n",
       "      <td>-2.447552</td>\n",
       "      <td>2.142857</td>\n",
       "      <td>1</td>\n",
       "      <td>0</td>\n",
       "    </tr>\n",
       "    <tr>\n",
       "      <th>3</th>\n",
       "      <td>2000-10-01</td>\n",
       "      <td>3.9</td>\n",
       "      <td>173.900</td>\n",
       "      <td>5.799000</td>\n",
       "      <td>0.187218</td>\n",
       "      <td>-0.217758</td>\n",
       "      <td>-8.764862</td>\n",
       "      <td>5.978226</td>\n",
       "      <td>-1.929509</td>\n",
       "      <td>10.169493</td>\n",
       "      <td>...</td>\n",
       "      <td>9.359631</td>\n",
       "      <td>5.591665</td>\n",
       "      <td>2.314016</td>\n",
       "      <td>-1.944901</td>\n",
       "      <td>4.352595</td>\n",
       "      <td>-0.540360</td>\n",
       "      <td>-9.318996</td>\n",
       "      <td>-2.447552</td>\n",
       "      <td>1</td>\n",
       "      <td>0</td>\n",
       "    </tr>\n",
       "    <tr>\n",
       "      <th>4</th>\n",
       "      <td>2000-11-01</td>\n",
       "      <td>3.9</td>\n",
       "      <td>174.200</td>\n",
       "      <td>5.738571</td>\n",
       "      <td>0.009919</td>\n",
       "      <td>-7.465269</td>\n",
       "      <td>7.863717</td>\n",
       "      <td>14.237843</td>\n",
       "      <td>8.548194</td>\n",
       "      <td>4.825204</td>\n",
       "      <td>...</td>\n",
       "      <td>-4.279274</td>\n",
       "      <td>9.359631</td>\n",
       "      <td>-0.807726</td>\n",
       "      <td>2.314016</td>\n",
       "      <td>-3.860903</td>\n",
       "      <td>4.352595</td>\n",
       "      <td>13.043478</td>\n",
       "      <td>-9.318996</td>\n",
       "      <td>0</td>\n",
       "      <td>0</td>\n",
       "    </tr>\n",
       "    <tr>\n",
       "      <th>...</th>\n",
       "      <td>...</td>\n",
       "      <td>...</td>\n",
       "      <td>...</td>\n",
       "      <td>...</td>\n",
       "      <td>...</td>\n",
       "      <td>...</td>\n",
       "      <td>...</td>\n",
       "      <td>...</td>\n",
       "      <td>...</td>\n",
       "      <td>...</td>\n",
       "      <td>...</td>\n",
       "      <td>...</td>\n",
       "      <td>...</td>\n",
       "      <td>...</td>\n",
       "      <td>...</td>\n",
       "      <td>...</td>\n",
       "      <td>...</td>\n",
       "      <td>...</td>\n",
       "      <td>...</td>\n",
       "      <td>...</td>\n",
       "      <td>...</td>\n",
       "    </tr>\n",
       "    <tr>\n",
       "      <th>270</th>\n",
       "      <td>2023-01-01</td>\n",
       "      <td>3.4</td>\n",
       "      <td>300.536</td>\n",
       "      <td>3.616190</td>\n",
       "      <td>0.390254</td>\n",
       "      <td>6.776820</td>\n",
       "      <td>-3.584079</td>\n",
       "      <td>0.972908</td>\n",
       "      <td>-7.489384</td>\n",
       "      <td>-5.928822</td>\n",
       "      <td>...</td>\n",
       "      <td>8.619586</td>\n",
       "      <td>14.479974</td>\n",
       "      <td>1.295221</td>\n",
       "      <td>10.390734</td>\n",
       "      <td>3.090302</td>\n",
       "      <td>7.690670</td>\n",
       "      <td>9.446071</td>\n",
       "      <td>-53.665066</td>\n",
       "      <td>1</td>\n",
       "      <td>0</td>\n",
       "    </tr>\n",
       "    <tr>\n",
       "      <th>271</th>\n",
       "      <td>2023-02-01</td>\n",
       "      <td>3.6</td>\n",
       "      <td>301.648</td>\n",
       "      <td>3.531500</td>\n",
       "      <td>-0.442183</td>\n",
       "      <td>-2.514271</td>\n",
       "      <td>-0.290649</td>\n",
       "      <td>-4.328217</td>\n",
       "      <td>-6.217115</td>\n",
       "      <td>-9.568502</td>\n",
       "      <td>...</td>\n",
       "      <td>2.541749</td>\n",
       "      <td>8.619586</td>\n",
       "      <td>-0.110227</td>\n",
       "      <td>1.295221</td>\n",
       "      <td>-13.817335</td>\n",
       "      <td>3.090302</td>\n",
       "      <td>16.968326</td>\n",
       "      <td>9.446071</td>\n",
       "      <td>0</td>\n",
       "      <td>0</td>\n",
       "    </tr>\n",
       "    <tr>\n",
       "      <th>272</th>\n",
       "      <td>2023-03-01</td>\n",
       "      <td>3.5</td>\n",
       "      <td>301.808</td>\n",
       "      <td>3.746842</td>\n",
       "      <td>-0.442183</td>\n",
       "      <td>3.313488</td>\n",
       "      <td>8.035329</td>\n",
       "      <td>0.507544</td>\n",
       "      <td>1.862736</td>\n",
       "      <td>10.703390</td>\n",
       "      <td>...</td>\n",
       "      <td>1.592445</td>\n",
       "      <td>2.541749</td>\n",
       "      <td>-7.172811</td>\n",
       "      <td>-0.110227</td>\n",
       "      <td>-7.286115</td>\n",
       "      <td>-13.817335</td>\n",
       "      <td>5.451681</td>\n",
       "      <td>16.968326</td>\n",
       "      <td>1</td>\n",
       "      <td>0</td>\n",
       "    </tr>\n",
       "    <tr>\n",
       "      <th>273</th>\n",
       "      <td>2023-04-01</td>\n",
       "      <td>3.4</td>\n",
       "      <td>302.918</td>\n",
       "      <td>3.663043</td>\n",
       "      <td>-0.442183</td>\n",
       "      <td>1.985238</td>\n",
       "      <td>5.489119</td>\n",
       "      <td>-3.664707</td>\n",
       "      <td>5.612908</td>\n",
       "      <td>15.269915</td>\n",
       "      <td>...</td>\n",
       "      <td>12.873250</td>\n",
       "      <td>1.592445</td>\n",
       "      <td>9.367574</td>\n",
       "      <td>-7.172811</td>\n",
       "      <td>0.566924</td>\n",
       "      <td>-7.286115</td>\n",
       "      <td>11.025813</td>\n",
       "      <td>5.451681</td>\n",
       "      <td>1</td>\n",
       "      <td>0</td>\n",
       "    </tr>\n",
       "    <tr>\n",
       "      <th>274</th>\n",
       "      <td>2023-05-01</td>\n",
       "      <td>3.7</td>\n",
       "      <td>304.127</td>\n",
       "      <td>3.460000</td>\n",
       "      <td>-0.442183</td>\n",
       "      <td>0.461619</td>\n",
       "      <td>-0.191204</td>\n",
       "      <td>-2.695194</td>\n",
       "      <td>-5.277949</td>\n",
       "      <td>8.487855</td>\n",
       "      <td>...</td>\n",
       "      <td>5.836894</td>\n",
       "      <td>12.873250</td>\n",
       "      <td>16.334413</td>\n",
       "      <td>9.367574</td>\n",
       "      <td>-4.681371</td>\n",
       "      <td>0.566924</td>\n",
       "      <td>-1.517467</td>\n",
       "      <td>11.025813</td>\n",
       "      <td>0</td>\n",
       "      <td>0</td>\n",
       "    </tr>\n",
       "  </tbody>\n",
       "</table>\n",
       "<p>275 rows × 62 columns</p>\n",
       "</div>"
      ],
      "text/plain": [
       "          Date  unemployment_rate      CPI  treasury_yield  GDP_growth  \\\n",
       "0   2000-07-01                4.0  172.700        6.097273   -0.653855   \n",
       "1   2000-08-01                4.1  172.700        6.054000    0.795710   \n",
       "2   2000-09-01                3.9  173.600        5.826087    0.249670   \n",
       "3   2000-10-01                3.9  173.900        5.799000    0.187218   \n",
       "4   2000-11-01                3.9  174.200        5.738571    0.009919   \n",
       "..         ...                ...      ...             ...         ...   \n",
       "270 2023-01-01                3.4  300.536        3.616190    0.390254   \n",
       "271 2023-02-01                3.6  301.648        3.531500   -0.442183   \n",
       "272 2023-03-01                3.5  301.808        3.746842   -0.442183   \n",
       "273 2023-04-01                3.4  302.918        3.663043   -0.442183   \n",
       "274 2023-05-01                3.7  304.127        3.460000   -0.442183   \n",
       "\n",
       "     SP500_return        AZN        BMY       JNJ        LLY  ...   NVO_lag1  \\\n",
       "0       -1.338453  -8.064479 -11.373392 -8.650271   4.005041  ...   2.813690   \n",
       "1        6.534124   6.578935   3.131245 -1.192113 -29.708189  ...  13.757382   \n",
       "2       -5.723123  15.363525   8.458631  2.496165  11.482185  ...   5.591665   \n",
       "3       -0.217758  -8.764862   5.978226 -1.929509  10.169493  ...   9.359631   \n",
       "4       -7.465269   7.863717  14.237843  8.548194   4.825204  ...  -4.279274   \n",
       "..            ...        ...        ...       ...        ...  ...        ...   \n",
       "270      6.776820  -3.584079   0.972908 -7.489384  -5.928822  ...   8.619586   \n",
       "271     -2.514271  -0.290649  -4.328217 -6.217115  -9.568502  ...   2.541749   \n",
       "272      3.313488   8.035329   0.507544  1.862736  10.703390  ...   1.592445   \n",
       "273      1.985238   5.489119  -3.664707  5.612908  15.269915  ...  12.873250   \n",
       "274      0.461619  -0.191204  -2.695194 -5.277949   8.487855  ...   5.836894   \n",
       "\n",
       "      NVO_lag2   NVS_lag1   NVS_lag2   PFE_lag1   PFE_lag2   ROG_lag1  \\\n",
       "0    20.863985   8.474599   5.169310   8.076012   5.638019  13.131313   \n",
       "1     2.813690  -3.593737   8.474599  -9.635421   8.076012   2.142857   \n",
       "2    13.757382  -1.944901  -3.593737  -0.540360  -9.635421  -2.447552   \n",
       "3     5.591665   2.314016  -1.944901   4.352595  -0.540360  -9.318996   \n",
       "4     9.359631  -0.807726   2.314016  -3.860903   4.352595  13.043478   \n",
       "..         ...        ...        ...        ...        ...        ...   \n",
       "270  14.479974   1.295221  10.390734   3.090302   7.690670   9.446071   \n",
       "271   8.619586  -0.110227   1.295221 -13.817335   3.090302  16.968326   \n",
       "272   2.541749  -7.172811  -0.110227  -7.286115 -13.817335   5.451681   \n",
       "273   1.592445   9.367574  -7.172811   0.566924  -7.286115  11.025813   \n",
       "274  12.873250  16.334413   9.367574  -4.681371   0.566924  -1.517467   \n",
       "\n",
       "      ROG_lag2  Quater_dummy  Quater_rippel  \n",
       "0    -8.163265             1              0  \n",
       "1    13.131313             0              0  \n",
       "2     2.142857             1              0  \n",
       "3    -2.447552             1              0  \n",
       "4    -9.318996             0              0  \n",
       "..         ...           ...            ...  \n",
       "270 -53.665066             1              0  \n",
       "271   9.446071             0              0  \n",
       "272  16.968326             1              0  \n",
       "273   5.451681             1              0  \n",
       "274  11.025813             0              0  \n",
       "\n",
       "[275 rows x 62 columns]"
      ]
     },
     "execution_count": 7,
     "metadata": {},
     "output_type": "execute_result"
    }
   ],
   "source": [
    "data"
   ]
  },
  {
   "attachments": {},
   "cell_type": "markdown",
   "metadata": {},
   "source": [
    "### Defining tick_loss function"
   ]
  },
  {
   "cell_type": "code",
   "execution_count": 8,
   "metadata": {},
   "outputs": [],
   "source": [
    "def tick_loss(alpha, returns, var):\n",
    "    df = pd.DataFrame({'Return': returns, 'VaR': var})\n",
    "    df['Indicator'] = np.where(df['Return'] < df['VaR'], 1, 0)\n",
    "\n",
    "    t_loss = 0\n",
    "\n",
    "    for i in df.index:\n",
    "        t_loss += (\n",
    "            alpha * (df['Return'][i] - df['VaR'][i]) * (1 - df['Indicator'][i])\n",
    "            + (1 - alpha) * (df['VaR'][i] - df['Return'][i]) * df['Indicator'][i]\n",
    "        )\n",
    "\n",
    "    return t_loss"
   ]
  },
  {
   "cell_type": "code",
   "execution_count": 9,
   "metadata": {},
   "outputs": [
    {
     "data": {
      "text/plain": [
       "Index(['Date', 'unemployment_rate', 'CPI', 'treasury_yield', 'GDP_growth',\n",
       "       'SP500_return', 'AZN', 'BMY', 'JNJ', 'LLY', 'MRK', 'NVO', 'NVS', 'PFE',\n",
       "       'ROG', 'inflation_change', 'unemp_change', 'treasury_yield_change',\n",
       "       'unemployment_rate_lag1', 'unemployment_rate_lag2',\n",
       "       'unemployment_rate_lag3', 'CPI_lag1', 'CPI_lag2', 'CPI_lag3',\n",
       "       'treasury_yield_lag1', 'treasury_yield_lag2', 'treasury_yield_lag3',\n",
       "       'GDP_growth_lag1', 'GDP_growth_lag2', 'GDP_growth_lag3',\n",
       "       'SP500_return_lag1', 'SP500_return_lag2', 'SP500_return_lag3',\n",
       "       'inflation_change_lag1', 'inflation_change_lag2',\n",
       "       'inflation_change_lag3', 'unemp_change_lag1', 'unemp_change_lag2',\n",
       "       'unemp_change_lag3', 'treasury_yield_change_lag1',\n",
       "       'treasury_yield_change_lag2', 'treasury_yield_change_lag3', 'AZN_lag1',\n",
       "       'AZN_lag2', 'BMY_lag1', 'BMY_lag2', 'JNJ_lag1', 'JNJ_lag2', 'LLY_lag1',\n",
       "       'LLY_lag2', 'MRK_lag1', 'MRK_lag2', 'NVO_lag1', 'NVO_lag2', 'NVS_lag1',\n",
       "       'NVS_lag2', 'PFE_lag1', 'PFE_lag2', 'ROG_lag1', 'ROG_lag2',\n",
       "       'Quater_dummy', 'Quater_rippel'],\n",
       "      dtype='object')"
      ]
     },
     "execution_count": 9,
     "metadata": {},
     "output_type": "execute_result"
    }
   ],
   "source": [
    "data.columns"
   ]
  },
  {
   "attachments": {},
   "cell_type": "markdown",
   "metadata": {},
   "source": [
    "# Naïve Models Specifications"
   ]
  },
  {
   "attachments": {},
   "cell_type": "markdown",
   "metadata": {},
   "source": [
    "## 1. Macros Only"
   ]
  },
  {
   "attachments": {},
   "cell_type": "markdown",
   "metadata": {},
   "source": [
    "We are only going to train the model with the lagged macroeconomic variables"
   ]
  },
  {
   "cell_type": "code",
   "execution_count": 10,
   "metadata": {},
   "outputs": [],
   "source": [
    "data_macro = data.copy()\n",
    "to_exclude = []\n",
    "\n",
    "for t in tickers:\n",
    "    to_exclude.append(t)\n",
    "    to_exclude.append(f'{t}_lag1')\n",
    "    to_exclude.append(f'{t}_lag2')\n",
    "\n",
    "for covariate in covs:\n",
    "    to_exclude.append(covariate)\n",
    "\n",
    "to_exclude.append('Date')"
   ]
  },
  {
   "cell_type": "code",
   "execution_count": 11,
   "metadata": {},
   "outputs": [
    {
     "data": {
      "text/plain": [
       "['AZN',\n",
       " 'AZN_lag1',\n",
       " 'AZN_lag2',\n",
       " 'BMY',\n",
       " 'BMY_lag1',\n",
       " 'BMY_lag2',\n",
       " 'JNJ',\n",
       " 'JNJ_lag1',\n",
       " 'JNJ_lag2',\n",
       " 'LLY',\n",
       " 'LLY_lag1',\n",
       " 'LLY_lag2',\n",
       " 'MRK',\n",
       " 'MRK_lag1',\n",
       " 'MRK_lag2',\n",
       " 'NVO',\n",
       " 'NVO_lag1',\n",
       " 'NVO_lag2',\n",
       " 'NVS',\n",
       " 'NVS_lag1',\n",
       " 'NVS_lag2',\n",
       " 'PFE',\n",
       " 'PFE_lag1',\n",
       " 'PFE_lag2',\n",
       " 'ROG',\n",
       " 'ROG_lag1',\n",
       " 'ROG_lag2',\n",
       " 'unemployment_rate',\n",
       " 'CPI',\n",
       " 'treasury_yield',\n",
       " 'GDP_growth',\n",
       " 'SP500_return',\n",
       " 'inflation_change',\n",
       " 'unemp_change',\n",
       " 'treasury_yield_change',\n",
       " 'Date']"
      ]
     },
     "execution_count": 11,
     "metadata": {},
     "output_type": "execute_result"
    }
   ],
   "source": [
    "to_exclude"
   ]
  },
  {
   "cell_type": "code",
   "execution_count": 12,
   "metadata": {},
   "outputs": [],
   "source": [
    "data_macro_X = data.drop(columns=to_exclude)"
   ]
  },
  {
   "cell_type": "code",
   "execution_count": 13,
   "metadata": {},
   "outputs": [
    {
     "data": {
      "text/html": [
       "<div>\n",
       "<style scoped>\n",
       "    .dataframe tbody tr th:only-of-type {\n",
       "        vertical-align: middle;\n",
       "    }\n",
       "\n",
       "    .dataframe tbody tr th {\n",
       "        vertical-align: top;\n",
       "    }\n",
       "\n",
       "    .dataframe thead th {\n",
       "        text-align: right;\n",
       "    }\n",
       "</style>\n",
       "<table border=\"1\" class=\"dataframe\">\n",
       "  <thead>\n",
       "    <tr style=\"text-align: right;\">\n",
       "      <th></th>\n",
       "      <th>unemployment_rate_lag1</th>\n",
       "      <th>unemployment_rate_lag2</th>\n",
       "      <th>unemployment_rate_lag3</th>\n",
       "      <th>CPI_lag1</th>\n",
       "      <th>CPI_lag2</th>\n",
       "      <th>CPI_lag3</th>\n",
       "      <th>treasury_yield_lag1</th>\n",
       "      <th>treasury_yield_lag2</th>\n",
       "      <th>treasury_yield_lag3</th>\n",
       "      <th>GDP_growth_lag1</th>\n",
       "      <th>...</th>\n",
       "      <th>inflation_change_lag2</th>\n",
       "      <th>inflation_change_lag3</th>\n",
       "      <th>unemp_change_lag1</th>\n",
       "      <th>unemp_change_lag2</th>\n",
       "      <th>unemp_change_lag3</th>\n",
       "      <th>treasury_yield_change_lag1</th>\n",
       "      <th>treasury_yield_change_lag2</th>\n",
       "      <th>treasury_yield_change_lag3</th>\n",
       "      <th>Quater_dummy</th>\n",
       "      <th>Quater_rippel</th>\n",
       "    </tr>\n",
       "  </thead>\n",
       "  <tbody>\n",
       "    <tr>\n",
       "      <th>0</th>\n",
       "      <td>4.0</td>\n",
       "      <td>4.0</td>\n",
       "      <td>3.8</td>\n",
       "      <td>172.200</td>\n",
       "      <td>171.200</td>\n",
       "      <td>170.900</td>\n",
       "      <td>6.440455</td>\n",
       "      <td>5.990526</td>\n",
       "      <td>6.256522</td>\n",
       "      <td>0.305565</td>\n",
       "      <td>...</td>\n",
       "      <td>0.300</td>\n",
       "      <td>-0.100</td>\n",
       "      <td>0.0</td>\n",
       "      <td>0.2</td>\n",
       "      <td>-0.2</td>\n",
       "      <td>0.449928</td>\n",
       "      <td>-0.265995</td>\n",
       "      <td>-0.262978</td>\n",
       "      <td>1</td>\n",
       "      <td>0</td>\n",
       "    </tr>\n",
       "    <tr>\n",
       "      <th>1</th>\n",
       "      <td>4.0</td>\n",
       "      <td>4.0</td>\n",
       "      <td>4.0</td>\n",
       "      <td>172.700</td>\n",
       "      <td>172.200</td>\n",
       "      <td>171.200</td>\n",
       "      <td>6.097273</td>\n",
       "      <td>6.440455</td>\n",
       "      <td>5.990526</td>\n",
       "      <td>-0.653855</td>\n",
       "      <td>...</td>\n",
       "      <td>1.000</td>\n",
       "      <td>0.300</td>\n",
       "      <td>0.0</td>\n",
       "      <td>0.0</td>\n",
       "      <td>0.2</td>\n",
       "      <td>-0.343182</td>\n",
       "      <td>0.449928</td>\n",
       "      <td>-0.265995</td>\n",
       "      <td>0</td>\n",
       "      <td>0</td>\n",
       "    </tr>\n",
       "    <tr>\n",
       "      <th>2</th>\n",
       "      <td>4.1</td>\n",
       "      <td>4.0</td>\n",
       "      <td>4.0</td>\n",
       "      <td>172.700</td>\n",
       "      <td>172.700</td>\n",
       "      <td>172.200</td>\n",
       "      <td>6.054000</td>\n",
       "      <td>6.097273</td>\n",
       "      <td>6.440455</td>\n",
       "      <td>0.795710</td>\n",
       "      <td>...</td>\n",
       "      <td>0.500</td>\n",
       "      <td>1.000</td>\n",
       "      <td>0.1</td>\n",
       "      <td>0.0</td>\n",
       "      <td>0.0</td>\n",
       "      <td>-0.043273</td>\n",
       "      <td>-0.343182</td>\n",
       "      <td>0.449928</td>\n",
       "      <td>1</td>\n",
       "      <td>0</td>\n",
       "    </tr>\n",
       "    <tr>\n",
       "      <th>3</th>\n",
       "      <td>3.9</td>\n",
       "      <td>4.1</td>\n",
       "      <td>4.0</td>\n",
       "      <td>173.600</td>\n",
       "      <td>172.700</td>\n",
       "      <td>172.700</td>\n",
       "      <td>5.826087</td>\n",
       "      <td>6.054000</td>\n",
       "      <td>6.097273</td>\n",
       "      <td>0.249670</td>\n",
       "      <td>...</td>\n",
       "      <td>0.000</td>\n",
       "      <td>0.500</td>\n",
       "      <td>-0.2</td>\n",
       "      <td>0.1</td>\n",
       "      <td>0.0</td>\n",
       "      <td>-0.227913</td>\n",
       "      <td>-0.043273</td>\n",
       "      <td>-0.343182</td>\n",
       "      <td>1</td>\n",
       "      <td>0</td>\n",
       "    </tr>\n",
       "    <tr>\n",
       "      <th>4</th>\n",
       "      <td>3.9</td>\n",
       "      <td>3.9</td>\n",
       "      <td>4.1</td>\n",
       "      <td>173.900</td>\n",
       "      <td>173.600</td>\n",
       "      <td>172.700</td>\n",
       "      <td>5.799000</td>\n",
       "      <td>5.826087</td>\n",
       "      <td>6.054000</td>\n",
       "      <td>0.187218</td>\n",
       "      <td>...</td>\n",
       "      <td>0.900</td>\n",
       "      <td>0.000</td>\n",
       "      <td>0.0</td>\n",
       "      <td>-0.2</td>\n",
       "      <td>0.1</td>\n",
       "      <td>-0.027087</td>\n",
       "      <td>-0.227913</td>\n",
       "      <td>-0.043273</td>\n",
       "      <td>0</td>\n",
       "      <td>0</td>\n",
       "    </tr>\n",
       "    <tr>\n",
       "      <th>...</th>\n",
       "      <td>...</td>\n",
       "      <td>...</td>\n",
       "      <td>...</td>\n",
       "      <td>...</td>\n",
       "      <td>...</td>\n",
       "      <td>...</td>\n",
       "      <td>...</td>\n",
       "      <td>...</td>\n",
       "      <td>...</td>\n",
       "      <td>...</td>\n",
       "      <td>...</td>\n",
       "      <td>...</td>\n",
       "      <td>...</td>\n",
       "      <td>...</td>\n",
       "      <td>...</td>\n",
       "      <td>...</td>\n",
       "      <td>...</td>\n",
       "      <td>...</td>\n",
       "      <td>...</td>\n",
       "      <td>...</td>\n",
       "      <td>...</td>\n",
       "    </tr>\n",
       "    <tr>\n",
       "      <th>270</th>\n",
       "      <td>3.5</td>\n",
       "      <td>3.6</td>\n",
       "      <td>3.7</td>\n",
       "      <td>298.990</td>\n",
       "      <td>298.598</td>\n",
       "      <td>297.987</td>\n",
       "      <td>3.891000</td>\n",
       "      <td>3.983500</td>\n",
       "      <td>3.519048</td>\n",
       "      <td>-0.085161</td>\n",
       "      <td>...</td>\n",
       "      <td>0.611</td>\n",
       "      <td>1.448</td>\n",
       "      <td>-0.1</td>\n",
       "      <td>-0.1</td>\n",
       "      <td>0.2</td>\n",
       "      <td>-0.092500</td>\n",
       "      <td>0.464452</td>\n",
       "      <td>0.621222</td>\n",
       "      <td>1</td>\n",
       "      <td>0</td>\n",
       "    </tr>\n",
       "    <tr>\n",
       "      <th>271</th>\n",
       "      <td>3.4</td>\n",
       "      <td>3.5</td>\n",
       "      <td>3.6</td>\n",
       "      <td>300.536</td>\n",
       "      <td>298.990</td>\n",
       "      <td>298.598</td>\n",
       "      <td>3.616190</td>\n",
       "      <td>3.891000</td>\n",
       "      <td>3.983500</td>\n",
       "      <td>0.390254</td>\n",
       "      <td>...</td>\n",
       "      <td>0.392</td>\n",
       "      <td>0.611</td>\n",
       "      <td>-0.1</td>\n",
       "      <td>-0.1</td>\n",
       "      <td>-0.1</td>\n",
       "      <td>-0.274810</td>\n",
       "      <td>-0.092500</td>\n",
       "      <td>0.464452</td>\n",
       "      <td>0</td>\n",
       "      <td>0</td>\n",
       "    </tr>\n",
       "    <tr>\n",
       "      <th>272</th>\n",
       "      <td>3.6</td>\n",
       "      <td>3.4</td>\n",
       "      <td>3.5</td>\n",
       "      <td>301.648</td>\n",
       "      <td>300.536</td>\n",
       "      <td>298.990</td>\n",
       "      <td>3.531500</td>\n",
       "      <td>3.616190</td>\n",
       "      <td>3.891000</td>\n",
       "      <td>-0.442183</td>\n",
       "      <td>...</td>\n",
       "      <td>1.546</td>\n",
       "      <td>0.392</td>\n",
       "      <td>0.2</td>\n",
       "      <td>-0.1</td>\n",
       "      <td>-0.1</td>\n",
       "      <td>-0.084690</td>\n",
       "      <td>-0.274810</td>\n",
       "      <td>-0.092500</td>\n",
       "      <td>1</td>\n",
       "      <td>0</td>\n",
       "    </tr>\n",
       "    <tr>\n",
       "      <th>273</th>\n",
       "      <td>3.5</td>\n",
       "      <td>3.6</td>\n",
       "      <td>3.4</td>\n",
       "      <td>301.808</td>\n",
       "      <td>301.648</td>\n",
       "      <td>300.536</td>\n",
       "      <td>3.746842</td>\n",
       "      <td>3.531500</td>\n",
       "      <td>3.616190</td>\n",
       "      <td>-0.442183</td>\n",
       "      <td>...</td>\n",
       "      <td>1.112</td>\n",
       "      <td>1.546</td>\n",
       "      <td>-0.1</td>\n",
       "      <td>0.2</td>\n",
       "      <td>-0.1</td>\n",
       "      <td>0.215342</td>\n",
       "      <td>-0.084690</td>\n",
       "      <td>-0.274810</td>\n",
       "      <td>1</td>\n",
       "      <td>0</td>\n",
       "    </tr>\n",
       "    <tr>\n",
       "      <th>274</th>\n",
       "      <td>3.4</td>\n",
       "      <td>3.5</td>\n",
       "      <td>3.6</td>\n",
       "      <td>302.918</td>\n",
       "      <td>301.808</td>\n",
       "      <td>301.648</td>\n",
       "      <td>3.663043</td>\n",
       "      <td>3.746842</td>\n",
       "      <td>3.531500</td>\n",
       "      <td>-0.442183</td>\n",
       "      <td>...</td>\n",
       "      <td>0.160</td>\n",
       "      <td>1.112</td>\n",
       "      <td>-0.1</td>\n",
       "      <td>-0.1</td>\n",
       "      <td>0.2</td>\n",
       "      <td>-0.083799</td>\n",
       "      <td>0.215342</td>\n",
       "      <td>-0.084690</td>\n",
       "      <td>0</td>\n",
       "      <td>0</td>\n",
       "    </tr>\n",
       "  </tbody>\n",
       "</table>\n",
       "<p>275 rows × 26 columns</p>\n",
       "</div>"
      ],
      "text/plain": [
       "     unemployment_rate_lag1  unemployment_rate_lag2  unemployment_rate_lag3  \\\n",
       "0                       4.0                     4.0                     3.8   \n",
       "1                       4.0                     4.0                     4.0   \n",
       "2                       4.1                     4.0                     4.0   \n",
       "3                       3.9                     4.1                     4.0   \n",
       "4                       3.9                     3.9                     4.1   \n",
       "..                      ...                     ...                     ...   \n",
       "270                     3.5                     3.6                     3.7   \n",
       "271                     3.4                     3.5                     3.6   \n",
       "272                     3.6                     3.4                     3.5   \n",
       "273                     3.5                     3.6                     3.4   \n",
       "274                     3.4                     3.5                     3.6   \n",
       "\n",
       "     CPI_lag1  CPI_lag2  CPI_lag3  treasury_yield_lag1  treasury_yield_lag2  \\\n",
       "0     172.200   171.200   170.900             6.440455             5.990526   \n",
       "1     172.700   172.200   171.200             6.097273             6.440455   \n",
       "2     172.700   172.700   172.200             6.054000             6.097273   \n",
       "3     173.600   172.700   172.700             5.826087             6.054000   \n",
       "4     173.900   173.600   172.700             5.799000             5.826087   \n",
       "..        ...       ...       ...                  ...                  ...   \n",
       "270   298.990   298.598   297.987             3.891000             3.983500   \n",
       "271   300.536   298.990   298.598             3.616190             3.891000   \n",
       "272   301.648   300.536   298.990             3.531500             3.616190   \n",
       "273   301.808   301.648   300.536             3.746842             3.531500   \n",
       "274   302.918   301.808   301.648             3.663043             3.746842   \n",
       "\n",
       "     treasury_yield_lag3  GDP_growth_lag1  ...  inflation_change_lag2  \\\n",
       "0               6.256522         0.305565  ...                  0.300   \n",
       "1               5.990526        -0.653855  ...                  1.000   \n",
       "2               6.440455         0.795710  ...                  0.500   \n",
       "3               6.097273         0.249670  ...                  0.000   \n",
       "4               6.054000         0.187218  ...                  0.900   \n",
       "..                   ...              ...  ...                    ...   \n",
       "270             3.519048        -0.085161  ...                  0.611   \n",
       "271             3.983500         0.390254  ...                  0.392   \n",
       "272             3.891000        -0.442183  ...                  1.546   \n",
       "273             3.616190        -0.442183  ...                  1.112   \n",
       "274             3.531500        -0.442183  ...                  0.160   \n",
       "\n",
       "     inflation_change_lag3  unemp_change_lag1  unemp_change_lag2  \\\n",
       "0                   -0.100                0.0                0.2   \n",
       "1                    0.300                0.0                0.0   \n",
       "2                    1.000                0.1                0.0   \n",
       "3                    0.500               -0.2                0.1   \n",
       "4                    0.000                0.0               -0.2   \n",
       "..                     ...                ...                ...   \n",
       "270                  1.448               -0.1               -0.1   \n",
       "271                  0.611               -0.1               -0.1   \n",
       "272                  0.392                0.2               -0.1   \n",
       "273                  1.546               -0.1                0.2   \n",
       "274                  1.112               -0.1               -0.1   \n",
       "\n",
       "     unemp_change_lag3  treasury_yield_change_lag1  \\\n",
       "0                 -0.2                    0.449928   \n",
       "1                  0.2                   -0.343182   \n",
       "2                  0.0                   -0.043273   \n",
       "3                  0.0                   -0.227913   \n",
       "4                  0.1                   -0.027087   \n",
       "..                 ...                         ...   \n",
       "270                0.2                   -0.092500   \n",
       "271               -0.1                   -0.274810   \n",
       "272               -0.1                   -0.084690   \n",
       "273               -0.1                    0.215342   \n",
       "274                0.2                   -0.083799   \n",
       "\n",
       "     treasury_yield_change_lag2  treasury_yield_change_lag3  Quater_dummy  \\\n",
       "0                     -0.265995                   -0.262978             1   \n",
       "1                      0.449928                   -0.265995             0   \n",
       "2                     -0.343182                    0.449928             1   \n",
       "3                     -0.043273                   -0.343182             1   \n",
       "4                     -0.227913                   -0.043273             0   \n",
       "..                          ...                         ...           ...   \n",
       "270                    0.464452                    0.621222             1   \n",
       "271                   -0.092500                    0.464452             0   \n",
       "272                   -0.274810                   -0.092500             1   \n",
       "273                   -0.084690                   -0.274810             1   \n",
       "274                    0.215342                   -0.084690             0   \n",
       "\n",
       "     Quater_rippel  \n",
       "0                0  \n",
       "1                0  \n",
       "2                0  \n",
       "3                0  \n",
       "4                0  \n",
       "..             ...  \n",
       "270              0  \n",
       "271              0  \n",
       "272              0  \n",
       "273              0  \n",
       "274              0  \n",
       "\n",
       "[275 rows x 26 columns]"
      ]
     },
     "execution_count": 13,
     "metadata": {},
     "output_type": "execute_result"
    }
   ],
   "source": [
    "data_macro_X"
   ]
  },
  {
   "attachments": {},
   "cell_type": "markdown",
   "metadata": {},
   "source": [
    "### 1-step-ahead VaR: 1 month"
   ]
  },
  {
   "cell_type": "code",
   "execution_count": 14,
   "metadata": {},
   "outputs": [],
   "source": [
    "def rolling_1m_forecast(data, dates, ticker, alpha, columns_to_exclude):\n",
    "\n",
    "    t_loss = 0\n",
    "    dta = data.copy()\n",
    "\n",
    "    for d in dates:\n",
    "        train_df = dta[dta.Date <= d]\n",
    "        test_df = dta[dta.Date > d]\n",
    "        test_df = test_df.reset_index(drop=True)\n",
    "\n",
    "        X_train = train_df.drop(columns=columns_to_exclude)\n",
    "        y_train = train_df[ticker]\n",
    "\n",
    "        X_test = test_df.drop(columns=columns_to_exclude)\n",
    "        X_test = X_test.iloc[0]\n",
    "        y_test = test_df[ticker]\n",
    "\n",
    "        quantreg = sm.QuantReg(y_train, X_train)\n",
    "        quantreg_results = quantreg.fit(q=alpha)\n",
    "\n",
    "        VaR_forecast = quantreg_results.predict(X_test)\n",
    "\n",
    "        r = y_test[0]\n",
    "        loss = tick_loss(alpha, r, VaR_forecast)\n",
    "\n",
    "        t_loss += loss\n",
    "\n",
    "    t_loss = t_loss/12\n",
    "\n",
    "    return t_loss  "
   ]
  },
  {
   "cell_type": "code",
   "execution_count": 15,
   "metadata": {},
   "outputs": [],
   "source": [
    "dates1m = ['2022-05-01', '2022-06-01', '2022-07-01', '2022-08-01', '2022-09-01', '2022-10-01', '2022-11-01', '2022-12-01', '2023-01-01', '2023-02-01', '2023-03-01', '2023-04-01']"
   ]
  },
  {
   "cell_type": "code",
   "execution_count": 16,
   "metadata": {},
   "outputs": [
    {
     "name": "stdout",
     "output_type": "stream",
     "text": [
      "AZN-1m-loss: 0.604547859797446 \n",
      "\n"
     ]
    },
    {
     "name": "stderr",
     "output_type": "stream",
     "text": [
      "/Users/lluisarull/opt/anaconda3/lib/python3.8/site-packages/statsmodels/regression/quantile_regression.py:191: IterationLimitWarning: Maximum number of iterations (1000) reached.\n",
      "  warnings.warn(\"Maximum number of iterations (\" + str(max_iter) +\n",
      "/Users/lluisarull/opt/anaconda3/lib/python3.8/site-packages/statsmodels/regression/quantile_regression.py:191: IterationLimitWarning: Maximum number of iterations (1000) reached.\n",
      "  warnings.warn(\"Maximum number of iterations (\" + str(max_iter) +\n",
      "/Users/lluisarull/opt/anaconda3/lib/python3.8/site-packages/statsmodels/regression/quantile_regression.py:191: IterationLimitWarning: Maximum number of iterations (1000) reached.\n",
      "  warnings.warn(\"Maximum number of iterations (\" + str(max_iter) +\n"
     ]
    },
    {
     "name": "stdout",
     "output_type": "stream",
     "text": [
      "BMY-1m-loss: 0.6347272095304196 \n",
      "\n",
      "JNJ-1m-loss: 0.6175764384728927 \n",
      "\n"
     ]
    },
    {
     "name": "stderr",
     "output_type": "stream",
     "text": [
      "/Users/lluisarull/opt/anaconda3/lib/python3.8/site-packages/statsmodels/regression/quantile_regression.py:191: IterationLimitWarning: Maximum number of iterations (1000) reached.\n",
      "  warnings.warn(\"Maximum number of iterations (\" + str(max_iter) +\n"
     ]
    },
    {
     "name": "stdout",
     "output_type": "stream",
     "text": [
      "LLY-1m-loss: 1.8786960638489365 \n",
      "\n"
     ]
    },
    {
     "name": "stderr",
     "output_type": "stream",
     "text": [
      "/Users/lluisarull/opt/anaconda3/lib/python3.8/site-packages/statsmodels/regression/quantile_regression.py:191: IterationLimitWarning: Maximum number of iterations (1000) reached.\n",
      "  warnings.warn(\"Maximum number of iterations (\" + str(max_iter) +\n",
      "/Users/lluisarull/opt/anaconda3/lib/python3.8/site-packages/statsmodels/regression/quantile_regression.py:191: IterationLimitWarning: Maximum number of iterations (1000) reached.\n",
      "  warnings.warn(\"Maximum number of iterations (\" + str(max_iter) +\n"
     ]
    },
    {
     "name": "stdout",
     "output_type": "stream",
     "text": [
      "MRK-1m-loss: 0.7852638891416645 \n",
      "\n",
      "NVO-1m-loss: 0.822291454625585 \n",
      "\n",
      "NVS-1m-loss: 1.0584249789278957 \n",
      "\n",
      "PFE-1m-loss: 1.4214312297640215 \n",
      "\n"
     ]
    },
    {
     "name": "stderr",
     "output_type": "stream",
     "text": [
      "/Users/lluisarull/opt/anaconda3/lib/python3.8/site-packages/statsmodels/regression/quantile_regression.py:191: IterationLimitWarning: Maximum number of iterations (1000) reached.\n",
      "  warnings.warn(\"Maximum number of iterations (\" + str(max_iter) +\n"
     ]
    },
    {
     "name": "stdout",
     "output_type": "stream",
     "text": [
      "ROG-1m-loss: 4.980231802811116 \n",
      "\n"
     ]
    }
   ],
   "source": [
    "for t in tickers:\n",
    "    loss = rolling_1m_forecast(data, dates1m, t, alpha=0.05, columns_to_exclude= to_exclude)\n",
    "    print(f'{t}-1m-loss: {loss} \\n')"
   ]
  },
  {
   "cell_type": "code",
   "execution_count": 17,
   "metadata": {},
   "outputs": [
    {
     "data": {
      "text/plain": [
       "Index(['Date', 'unemployment_rate', 'CPI', 'treasury_yield', 'GDP_growth',\n",
       "       'SP500_return', 'AZN', 'BMY', 'JNJ', 'LLY', 'MRK', 'NVO', 'NVS', 'PFE',\n",
       "       'ROG', 'inflation_change', 'unemp_change', 'treasury_yield_change',\n",
       "       'unemployment_rate_lag1', 'unemployment_rate_lag2',\n",
       "       'unemployment_rate_lag3', 'CPI_lag1', 'CPI_lag2', 'CPI_lag3',\n",
       "       'treasury_yield_lag1', 'treasury_yield_lag2', 'treasury_yield_lag3',\n",
       "       'GDP_growth_lag1', 'GDP_growth_lag2', 'GDP_growth_lag3',\n",
       "       'SP500_return_lag1', 'SP500_return_lag2', 'SP500_return_lag3',\n",
       "       'inflation_change_lag1', 'inflation_change_lag2',\n",
       "       'inflation_change_lag3', 'unemp_change_lag1', 'unemp_change_lag2',\n",
       "       'unemp_change_lag3', 'treasury_yield_change_lag1',\n",
       "       'treasury_yield_change_lag2', 'treasury_yield_change_lag3', 'AZN_lag1',\n",
       "       'AZN_lag2', 'BMY_lag1', 'BMY_lag2', 'JNJ_lag1', 'JNJ_lag2', 'LLY_lag1',\n",
       "       'LLY_lag2', 'MRK_lag1', 'MRK_lag2', 'NVO_lag1', 'NVO_lag2', 'NVS_lag1',\n",
       "       'NVS_lag2', 'PFE_lag1', 'PFE_lag2', 'ROG_lag1', 'ROG_lag2',\n",
       "       'Quater_dummy', 'Quater_rippel'],\n",
       "      dtype='object')"
      ]
     },
     "execution_count": 17,
     "metadata": {},
     "output_type": "execute_result"
    }
   ],
   "source": [
    "data.columns"
   ]
  },
  {
   "attachments": {},
   "cell_type": "markdown",
   "metadata": {},
   "source": [
    "### 3-step-ahead VaR: 3 month"
   ]
  },
  {
   "cell_type": "code",
   "execution_count": 18,
   "metadata": {},
   "outputs": [],
   "source": [
    "def rolling_3m_forecast(data, dates, ticker, alpha, columns_to_exclude):\n",
    "\n",
    "    t_loss = 0\n",
    "    dta = data.copy()\n",
    "\n",
    "    for d in dates:\n",
    "        train_df = dta[dta.Date <= d]\n",
    "        test_df = dta[dta.Date > d]\n",
    "        test_df = test_df.reset_index(drop=True)\n",
    "\n",
    "        X_train = train_df.drop(columns=columns_to_exclude)\n",
    "        y_train = train_df[ticker]\n",
    "\n",
    "        X_test = test_df.drop(columns=columns_to_exclude)\n",
    "        X_test = X_test.iloc[0]\n",
    "        y_test = test_df[ticker]\n",
    "\n",
    "        quantreg = sm.QuantReg(y_train, X_train)\n",
    "        quantreg_results = quantreg.fit(q=alpha)\n",
    "\n",
    "        VaR_forecast = quantreg_results.predict(X_test)\n",
    "\n",
    "        r = y_test[0]\n",
    "        loss = tick_loss(alpha, r, VaR_forecast)\n",
    "\n",
    "        t_loss += loss\n",
    "\n",
    "    t_loss = t_loss/10\n",
    "\n",
    "    return t_loss  "
   ]
  },
  {
   "cell_type": "code",
   "execution_count": 19,
   "metadata": {},
   "outputs": [],
   "source": [
    "dates3m = ['2022-05-01', '2022-06-01', '2022-07-01', '2022-08-01', '2022-09-01', '2022-10-01', '2022-11-01', '2022-12-01', '2023-01-01', '2023-02-01']"
   ]
  },
  {
   "cell_type": "code",
   "execution_count": 20,
   "metadata": {},
   "outputs": [
    {
     "name": "stdout",
     "output_type": "stream",
     "text": [
      "AZN-3m-loss: 0.5916389691501852 \n",
      "\n"
     ]
    },
    {
     "name": "stderr",
     "output_type": "stream",
     "text": [
      "/Users/lluisarull/opt/anaconda3/lib/python3.8/site-packages/statsmodels/regression/quantile_regression.py:191: IterationLimitWarning: Maximum number of iterations (1000) reached.\n",
      "  warnings.warn(\"Maximum number of iterations (\" + str(max_iter) +\n",
      "/Users/lluisarull/opt/anaconda3/lib/python3.8/site-packages/statsmodels/regression/quantile_regression.py:191: IterationLimitWarning: Maximum number of iterations (1000) reached.\n",
      "  warnings.warn(\"Maximum number of iterations (\" + str(max_iter) +\n",
      "/Users/lluisarull/opt/anaconda3/lib/python3.8/site-packages/statsmodels/regression/quantile_regression.py:191: IterationLimitWarning: Maximum number of iterations (1000) reached.\n",
      "  warnings.warn(\"Maximum number of iterations (\" + str(max_iter) +\n"
     ]
    },
    {
     "name": "stdout",
     "output_type": "stream",
     "text": [
      "BMY-3m-loss: 0.6492955386209205 \n",
      "\n",
      "JNJ-3m-loss: 0.6073184422020041 \n",
      "\n"
     ]
    },
    {
     "name": "stderr",
     "output_type": "stream",
     "text": [
      "/Users/lluisarull/opt/anaconda3/lib/python3.8/site-packages/statsmodels/regression/quantile_regression.py:191: IterationLimitWarning: Maximum number of iterations (1000) reached.\n",
      "  warnings.warn(\"Maximum number of iterations (\" + str(max_iter) +\n"
     ]
    },
    {
     "name": "stdout",
     "output_type": "stream",
     "text": [
      "LLY-3m-loss: 2.001256535681705 \n",
      "\n"
     ]
    },
    {
     "name": "stderr",
     "output_type": "stream",
     "text": [
      "/Users/lluisarull/opt/anaconda3/lib/python3.8/site-packages/statsmodels/regression/quantile_regression.py:191: IterationLimitWarning: Maximum number of iterations (1000) reached.\n",
      "  warnings.warn(\"Maximum number of iterations (\" + str(max_iter) +\n",
      "/Users/lluisarull/opt/anaconda3/lib/python3.8/site-packages/statsmodels/regression/quantile_regression.py:191: IterationLimitWarning: Maximum number of iterations (1000) reached.\n",
      "  warnings.warn(\"Maximum number of iterations (\" + str(max_iter) +\n"
     ]
    },
    {
     "name": "stdout",
     "output_type": "stream",
     "text": [
      "MRK-3m-loss: 0.7805126455568807 \n",
      "\n",
      "NVO-3m-loss: 0.9160228301882686 \n",
      "\n",
      "NVS-3m-loss: 1.1235852856670652 \n",
      "\n",
      "PFE-3m-loss: 1.6032114231682162 \n",
      "\n"
     ]
    },
    {
     "name": "stderr",
     "output_type": "stream",
     "text": [
      "/Users/lluisarull/opt/anaconda3/lib/python3.8/site-packages/statsmodels/regression/quantile_regression.py:191: IterationLimitWarning: Maximum number of iterations (1000) reached.\n",
      "  warnings.warn(\"Maximum number of iterations (\" + str(max_iter) +\n"
     ]
    },
    {
     "name": "stdout",
     "output_type": "stream",
     "text": [
      "ROG-3m-loss: 5.729698918808312 \n",
      "\n"
     ]
    }
   ],
   "source": [
    "for t in tickers:\n",
    "    loss = rolling_3m_forecast(data, dates3m, t, alpha=0.05, columns_to_exclude= to_exclude)\n",
    "    print(f'{t}-3m-loss: {loss} \\n')"
   ]
  },
  {
   "attachments": {},
   "cell_type": "markdown",
   "metadata": {},
   "source": [
    "### 6-steap-ahead VaR: 6 months"
   ]
  },
  {
   "cell_type": "code",
   "execution_count": 21,
   "metadata": {},
   "outputs": [],
   "source": [
    "def rolling_6m_forecast(data, dates, ticker, alpha, columns_to_exclude):\n",
    "\n",
    "    t_loss = 0\n",
    "    dta = data.copy()\n",
    "\n",
    "    for d in dates:\n",
    "        train_df = dta[dta.Date <= d]\n",
    "        test_df = dta[dta.Date > d]\n",
    "        test_df = test_df.reset_index(drop=True)\n",
    "\n",
    "        X_train = train_df.drop(columns=columns_to_exclude)\n",
    "        y_train = train_df[ticker]\n",
    "\n",
    "        X_test = test_df.drop(columns=columns_to_exclude)\n",
    "        X_test = X_test.iloc[0]\n",
    "        y_test = test_df[ticker]\n",
    "\n",
    "        quantreg = sm.QuantReg(y_train, X_train)\n",
    "        quantreg_results = quantreg.fit(q=alpha)\n",
    "\n",
    "        VaR_forecast = quantreg_results.predict(X_test)\n",
    "\n",
    "        r = y_test[0]\n",
    "        loss = tick_loss(alpha, r, VaR_forecast)\n",
    "\n",
    "        t_loss += loss\n",
    "\n",
    "    t_loss = t_loss/7\n",
    "\n",
    "    return t_loss  "
   ]
  },
  {
   "cell_type": "code",
   "execution_count": 22,
   "metadata": {},
   "outputs": [],
   "source": [
    "dates6m = ['2022-05-01', '2022-06-01', '2022-07-01', '2022-08-01', '2022-09-01', '2022-10-01', '2022-11-01']"
   ]
  },
  {
   "cell_type": "code",
   "execution_count": 23,
   "metadata": {},
   "outputs": [
    {
     "name": "stdout",
     "output_type": "stream",
     "text": [
      "AZN-6m-loss: 0.6107010716604047 \n",
      "\n"
     ]
    },
    {
     "name": "stderr",
     "output_type": "stream",
     "text": [
      "/Users/lluisarull/opt/anaconda3/lib/python3.8/site-packages/statsmodels/regression/quantile_regression.py:191: IterationLimitWarning: Maximum number of iterations (1000) reached.\n",
      "  warnings.warn(\"Maximum number of iterations (\" + str(max_iter) +\n",
      "/Users/lluisarull/opt/anaconda3/lib/python3.8/site-packages/statsmodels/regression/quantile_regression.py:191: IterationLimitWarning: Maximum number of iterations (1000) reached.\n",
      "  warnings.warn(\"Maximum number of iterations (\" + str(max_iter) +\n"
     ]
    },
    {
     "name": "stdout",
     "output_type": "stream",
     "text": [
      "BMY-6m-loss: 0.6718311030453836 \n",
      "\n",
      "JNJ-6m-loss: 0.6560277321851667 \n",
      "\n"
     ]
    },
    {
     "name": "stderr",
     "output_type": "stream",
     "text": [
      "/Users/lluisarull/opt/anaconda3/lib/python3.8/site-packages/statsmodels/regression/quantile_regression.py:191: IterationLimitWarning: Maximum number of iterations (1000) reached.\n",
      "  warnings.warn(\"Maximum number of iterations (\" + str(max_iter) +\n"
     ]
    },
    {
     "name": "stdout",
     "output_type": "stream",
     "text": [
      "LLY-6m-loss: 2.5848315967921645 \n",
      "\n"
     ]
    },
    {
     "name": "stderr",
     "output_type": "stream",
     "text": [
      "/Users/lluisarull/opt/anaconda3/lib/python3.8/site-packages/statsmodels/regression/quantile_regression.py:191: IterationLimitWarning: Maximum number of iterations (1000) reached.\n",
      "  warnings.warn(\"Maximum number of iterations (\" + str(max_iter) +\n",
      "/Users/lluisarull/opt/anaconda3/lib/python3.8/site-packages/statsmodels/regression/quantile_regression.py:191: IterationLimitWarning: Maximum number of iterations (1000) reached.\n",
      "  warnings.warn(\"Maximum number of iterations (\" + str(max_iter) +\n"
     ]
    },
    {
     "name": "stdout",
     "output_type": "stream",
     "text": [
      "MRK-6m-loss: 0.8282797537027216 \n",
      "\n",
      "NVO-6m-loss: 0.8895784370850747 \n",
      "\n",
      "NVS-6m-loss: 1.3646992593776905 \n",
      "\n",
      "PFE-6m-loss: 1.7576163329131131 \n",
      "\n"
     ]
    },
    {
     "name": "stderr",
     "output_type": "stream",
     "text": [
      "/Users/lluisarull/opt/anaconda3/lib/python3.8/site-packages/statsmodels/regression/quantile_regression.py:191: IterationLimitWarning: Maximum number of iterations (1000) reached.\n",
      "  warnings.warn(\"Maximum number of iterations (\" + str(max_iter) +\n"
     ]
    },
    {
     "name": "stdout",
     "output_type": "stream",
     "text": [
      "ROG-6m-loss: 7.557972287902161 \n",
      "\n"
     ]
    }
   ],
   "source": [
    "for t in tickers:\n",
    "    loss = rolling_6m_forecast(data, dates6m, t, alpha=0.05, columns_to_exclude= to_exclude)\n",
    "    print(f'{t}-6m-loss: {loss} \\n')"
   ]
  },
  {
   "attachments": {},
   "cell_type": "markdown",
   "metadata": {},
   "source": [
    "### 9-step-ahead VaR: 9 month"
   ]
  },
  {
   "cell_type": "code",
   "execution_count": 24,
   "metadata": {},
   "outputs": [],
   "source": [
    "def rolling_9m_forecast(data, dates, ticker, alpha, columns_to_exclude):\n",
    "\n",
    "    t_loss = 0\n",
    "    dta = data.copy()\n",
    "\n",
    "    for d in dates:\n",
    "        train_df = dta[dta.Date <= d]\n",
    "        test_df = dta[dta.Date > d]\n",
    "        test_df = test_df.reset_index(drop=True)\n",
    "\n",
    "        X_train = train_df.drop(columns=columns_to_exclude)\n",
    "        y_train = train_df[ticker]\n",
    "\n",
    "        X_test = test_df.drop(columns=columns_to_exclude)\n",
    "        X_test = X_test.iloc[0]\n",
    "        y_test = test_df[ticker]\n",
    "\n",
    "        quantreg = sm.QuantReg(y_train, X_train)\n",
    "        quantreg_results = quantreg.fit(q=alpha)\n",
    "\n",
    "        VaR_forecast = quantreg_results.predict(X_test)\n",
    "\n",
    "        r = y_test[0]\n",
    "        loss = tick_loss(alpha, r, VaR_forecast)\n",
    "\n",
    "        t_loss += loss\n",
    "\n",
    "    t_loss = t_loss/4\n",
    "\n",
    "    return t_loss  "
   ]
  },
  {
   "cell_type": "code",
   "execution_count": 25,
   "metadata": {},
   "outputs": [],
   "source": [
    "dates9m = ['2022-05-01', '2022-06-01', '2022-07-01', '2022-08-01']"
   ]
  },
  {
   "cell_type": "code",
   "execution_count": 26,
   "metadata": {},
   "outputs": [
    {
     "name": "stdout",
     "output_type": "stream",
     "text": [
      "AZN-9m-loss: 0.49429362887607864 \n",
      "\n"
     ]
    },
    {
     "name": "stderr",
     "output_type": "stream",
     "text": [
      "/Users/lluisarull/opt/anaconda3/lib/python3.8/site-packages/statsmodels/regression/quantile_regression.py:191: IterationLimitWarning: Maximum number of iterations (1000) reached.\n",
      "  warnings.warn(\"Maximum number of iterations (\" + str(max_iter) +\n"
     ]
    },
    {
     "name": "stdout",
     "output_type": "stream",
     "text": [
      "BMY-9m-loss: 0.58904073582743 \n",
      "\n",
      "JNJ-9m-loss: 0.7571721725978307 \n",
      "\n"
     ]
    },
    {
     "name": "stderr",
     "output_type": "stream",
     "text": [
      "/Users/lluisarull/opt/anaconda3/lib/python3.8/site-packages/statsmodels/regression/quantile_regression.py:191: IterationLimitWarning: Maximum number of iterations (1000) reached.\n",
      "  warnings.warn(\"Maximum number of iterations (\" + str(max_iter) +\n"
     ]
    },
    {
     "name": "stdout",
     "output_type": "stream",
     "text": [
      "LLY-9m-loss: 3.997181482796207 \n",
      "\n"
     ]
    },
    {
     "name": "stderr",
     "output_type": "stream",
     "text": [
      "/Users/lluisarull/opt/anaconda3/lib/python3.8/site-packages/statsmodels/regression/quantile_regression.py:191: IterationLimitWarning: Maximum number of iterations (1000) reached.\n",
      "  warnings.warn(\"Maximum number of iterations (\" + str(max_iter) +\n",
      "/Users/lluisarull/opt/anaconda3/lib/python3.8/site-packages/statsmodels/regression/quantile_regression.py:191: IterationLimitWarning: Maximum number of iterations (1000) reached.\n",
      "  warnings.warn(\"Maximum number of iterations (\" + str(max_iter) +\n"
     ]
    },
    {
     "name": "stdout",
     "output_type": "stream",
     "text": [
      "MRK-9m-loss: 0.7023878666894035 \n",
      "\n",
      "NVO-9m-loss: 0.7256023122979017 \n",
      "\n",
      "NVS-9m-loss: 1.8077781557215615 \n",
      "\n",
      "PFE-9m-loss: 2.419061177759293 \n",
      "\n"
     ]
    },
    {
     "name": "stderr",
     "output_type": "stream",
     "text": [
      "/Users/lluisarull/opt/anaconda3/lib/python3.8/site-packages/statsmodels/regression/quantile_regression.py:191: IterationLimitWarning: Maximum number of iterations (1000) reached.\n",
      "  warnings.warn(\"Maximum number of iterations (\" + str(max_iter) +\n"
     ]
    },
    {
     "name": "stdout",
     "output_type": "stream",
     "text": [
      "ROG-9m-loss: 0.9826010976007642 \n",
      "\n"
     ]
    }
   ],
   "source": [
    "for t in tickers:\n",
    "    loss = rolling_9m_forecast(data, dates9m, t, alpha=0.05, columns_to_exclude= to_exclude)\n",
    "    print(f'{t}-9m-loss: {loss} \\n')"
   ]
  },
  {
   "attachments": {},
   "cell_type": "markdown",
   "metadata": {},
   "source": [
    "### 12-step-ahead VaR: 12 months"
   ]
  },
  {
   "cell_type": "code",
   "execution_count": 27,
   "metadata": {},
   "outputs": [],
   "source": [
    "def rolling_12m_forecast(data, dates, ticker, alpha, columns_to_exclude):\n",
    "\n",
    "    t_loss = 0\n",
    "    dta = data.copy()\n",
    "\n",
    "    for d in dates:\n",
    "        train_df = dta[dta.Date <= d]\n",
    "        test_df = dta[dta.Date > d]\n",
    "        test_df = test_df.reset_index(drop=True)\n",
    "\n",
    "        X_train = train_df.drop(columns=columns_to_exclude)\n",
    "        y_train = train_df[ticker]\n",
    "\n",
    "        X_test = test_df.drop(columns=columns_to_exclude)\n",
    "        X_test = X_test.iloc[0]\n",
    "        y_test = test_df[ticker]\n",
    "\n",
    "        quantreg = sm.QuantReg(y_train, X_train)\n",
    "        quantreg_results = quantreg.fit(q=alpha)\n",
    "\n",
    "        VaR_forecast = quantreg_results.predict(X_test)\n",
    "\n",
    "        r = y_test[0]\n",
    "        loss = tick_loss(alpha, r, VaR_forecast)\n",
    "\n",
    "        t_loss += loss\n",
    "\n",
    "    t_loss = t_loss/1\n",
    "\n",
    "    return t_loss  "
   ]
  },
  {
   "cell_type": "code",
   "execution_count": 28,
   "metadata": {},
   "outputs": [],
   "source": [
    "dates12m = ['2022-05-01']"
   ]
  },
  {
   "cell_type": "code",
   "execution_count": 29,
   "metadata": {},
   "outputs": [
    {
     "name": "stdout",
     "output_type": "stream",
     "text": [
      "AZN-12m-loss: 1.9771745155043146 \n",
      "\n"
     ]
    },
    {
     "name": "stderr",
     "output_type": "stream",
     "text": [
      "/Users/lluisarull/opt/anaconda3/lib/python3.8/site-packages/statsmodels/regression/quantile_regression.py:191: IterationLimitWarning: Maximum number of iterations (1000) reached.\n",
      "  warnings.warn(\"Maximum number of iterations (\" + str(max_iter) +\n"
     ]
    },
    {
     "name": "stdout",
     "output_type": "stream",
     "text": [
      "BMY-12m-loss: 2.35616294330972 \n",
      "\n",
      "JNJ-12m-loss: 3.0286886903913226 \n",
      "\n"
     ]
    },
    {
     "name": "stderr",
     "output_type": "stream",
     "text": [
      "/Users/lluisarull/opt/anaconda3/lib/python3.8/site-packages/statsmodels/regression/quantile_regression.py:191: IterationLimitWarning: Maximum number of iterations (1000) reached.\n",
      "  warnings.warn(\"Maximum number of iterations (\" + str(max_iter) +\n"
     ]
    },
    {
     "name": "stdout",
     "output_type": "stream",
     "text": [
      "LLY-12m-loss: 15.988725931184828 \n",
      "\n"
     ]
    },
    {
     "name": "stderr",
     "output_type": "stream",
     "text": [
      "/Users/lluisarull/opt/anaconda3/lib/python3.8/site-packages/statsmodels/regression/quantile_regression.py:191: IterationLimitWarning: Maximum number of iterations (1000) reached.\n",
      "  warnings.warn(\"Maximum number of iterations (\" + str(max_iter) +\n",
      "/Users/lluisarull/opt/anaconda3/lib/python3.8/site-packages/statsmodels/regression/quantile_regression.py:191: IterationLimitWarning: Maximum number of iterations (1000) reached.\n",
      "  warnings.warn(\"Maximum number of iterations (\" + str(max_iter) +\n"
     ]
    },
    {
     "name": "stdout",
     "output_type": "stream",
     "text": [
      "MRK-12m-loss: 2.809551466757614 \n",
      "\n",
      "NVO-12m-loss: 2.902409249191607 \n",
      "\n",
      "NVS-12m-loss: 7.231112622886246 \n",
      "\n",
      "PFE-12m-loss: 9.676244711037173 \n",
      "\n"
     ]
    },
    {
     "name": "stderr",
     "output_type": "stream",
     "text": [
      "/Users/lluisarull/opt/anaconda3/lib/python3.8/site-packages/statsmodels/regression/quantile_regression.py:191: IterationLimitWarning: Maximum number of iterations (1000) reached.\n",
      "  warnings.warn(\"Maximum number of iterations (\" + str(max_iter) +\n"
     ]
    },
    {
     "name": "stdout",
     "output_type": "stream",
     "text": [
      "ROG-12m-loss: 3.930404390403057 \n",
      "\n"
     ]
    }
   ],
   "source": [
    "for t in tickers:\n",
    "    loss = rolling_12m_forecast(data, dates9m, t, alpha=0.05, columns_to_exclude= to_exclude)\n",
    "    print(f'{t}-12m-loss: {loss} \\n')"
   ]
  },
  {
   "attachments": {},
   "cell_type": "markdown",
   "metadata": {},
   "source": [
    "# 2. Ticker data"
   ]
  },
  {
   "cell_type": "code",
   "execution_count": 30,
   "metadata": {},
   "outputs": [],
   "source": [
    "data_stocks = data.copy()\n",
    "to_exclude2 = []\n",
    "\n",
    "for covariate in covs:\n",
    "    to_exclude2.append(covariate)\n",
    "    to_exclude2.append(f'{covariate}_lag1')\n",
    "    to_exclude2.append(f'{covariate}_lag2')\n",
    "    to_exclude2.append(f'{covariate}_lag3')\n",
    "\n",
    "for t in tickers:\n",
    "    to_exclude2.append(t)\n",
    "\n",
    "to_exclude2.append('Date')"
   ]
  },
  {
   "cell_type": "code",
   "execution_count": 31,
   "metadata": {},
   "outputs": [
    {
     "data": {
      "text/plain": [
       "['unemployment_rate',\n",
       " 'unemployment_rate_lag1',\n",
       " 'unemployment_rate_lag2',\n",
       " 'unemployment_rate_lag3',\n",
       " 'CPI',\n",
       " 'CPI_lag1',\n",
       " 'CPI_lag2',\n",
       " 'CPI_lag3',\n",
       " 'treasury_yield',\n",
       " 'treasury_yield_lag1',\n",
       " 'treasury_yield_lag2',\n",
       " 'treasury_yield_lag3',\n",
       " 'GDP_growth',\n",
       " 'GDP_growth_lag1',\n",
       " 'GDP_growth_lag2',\n",
       " 'GDP_growth_lag3',\n",
       " 'SP500_return',\n",
       " 'SP500_return_lag1',\n",
       " 'SP500_return_lag2',\n",
       " 'SP500_return_lag3',\n",
       " 'inflation_change',\n",
       " 'inflation_change_lag1',\n",
       " 'inflation_change_lag2',\n",
       " 'inflation_change_lag3',\n",
       " 'unemp_change',\n",
       " 'unemp_change_lag1',\n",
       " 'unemp_change_lag2',\n",
       " 'unemp_change_lag3',\n",
       " 'treasury_yield_change',\n",
       " 'treasury_yield_change_lag1',\n",
       " 'treasury_yield_change_lag2',\n",
       " 'treasury_yield_change_lag3',\n",
       " 'AZN',\n",
       " 'BMY',\n",
       " 'JNJ',\n",
       " 'LLY',\n",
       " 'MRK',\n",
       " 'NVO',\n",
       " 'NVS',\n",
       " 'PFE',\n",
       " 'ROG',\n",
       " 'Date']"
      ]
     },
     "execution_count": 31,
     "metadata": {},
     "output_type": "execute_result"
    }
   ],
   "source": [
    "to_exclude2"
   ]
  },
  {
   "attachments": {},
   "cell_type": "markdown",
   "metadata": {},
   "source": [
    "### 1-step-ahead VaR"
   ]
  },
  {
   "cell_type": "code",
   "execution_count": 32,
   "metadata": {},
   "outputs": [],
   "source": [
    "dates1m = ['2022-05-01', '2022-06-01', '2022-07-01', '2022-08-01', '2022-09-01', '2022-10-01', '2022-11-01', '2022-12-01', '2023-01-01', '2023-02-01', '2023-03-01', '2023-04-01']"
   ]
  },
  {
   "attachments": {},
   "cell_type": "markdown",
   "metadata": {},
   "source": [
    "### 1-step-ahead VaR: 1 month"
   ]
  },
  {
   "cell_type": "code",
   "execution_count": 33,
   "metadata": {},
   "outputs": [
    {
     "name": "stderr",
     "output_type": "stream",
     "text": [
      "/Users/lluisarull/opt/anaconda3/lib/python3.8/site-packages/statsmodels/regression/quantile_regression.py:191: IterationLimitWarning: Maximum number of iterations (1000) reached.\n",
      "  warnings.warn(\"Maximum number of iterations (\" + str(max_iter) +\n"
     ]
    },
    {
     "name": "stdout",
     "output_type": "stream",
     "text": [
      "AZN-1m-loss: 1.1225649518052998 \n",
      "\n"
     ]
    },
    {
     "name": "stderr",
     "output_type": "stream",
     "text": [
      "/Users/lluisarull/opt/anaconda3/lib/python3.8/site-packages/statsmodels/regression/quantile_regression.py:191: IterationLimitWarning: Maximum number of iterations (1000) reached.\n",
      "  warnings.warn(\"Maximum number of iterations (\" + str(max_iter) +\n",
      "/Users/lluisarull/opt/anaconda3/lib/python3.8/site-packages/statsmodels/regression/quantile_regression.py:191: IterationLimitWarning: Maximum number of iterations (1000) reached.\n",
      "  warnings.warn(\"Maximum number of iterations (\" + str(max_iter) +\n",
      "/Users/lluisarull/opt/anaconda3/lib/python3.8/site-packages/statsmodels/regression/quantile_regression.py:191: IterationLimitWarning: Maximum number of iterations (1000) reached.\n",
      "  warnings.warn(\"Maximum number of iterations (\" + str(max_iter) +\n",
      "/Users/lluisarull/opt/anaconda3/lib/python3.8/site-packages/statsmodels/regression/quantile_regression.py:191: IterationLimitWarning: Maximum number of iterations (1000) reached.\n",
      "  warnings.warn(\"Maximum number of iterations (\" + str(max_iter) +\n"
     ]
    },
    {
     "name": "stdout",
     "output_type": "stream",
     "text": [
      "BMY-1m-loss: 1.8317494200049766 \n",
      "\n"
     ]
    },
    {
     "name": "stderr",
     "output_type": "stream",
     "text": [
      "/Users/lluisarull/opt/anaconda3/lib/python3.8/site-packages/statsmodels/regression/quantile_regression.py:191: IterationLimitWarning: Maximum number of iterations (1000) reached.\n",
      "  warnings.warn(\"Maximum number of iterations (\" + str(max_iter) +\n"
     ]
    },
    {
     "name": "stdout",
     "output_type": "stream",
     "text": [
      "JNJ-1m-loss: 1.4404516641720473 \n",
      "\n",
      "LLY-1m-loss: 1.73391108156547 \n",
      "\n",
      "MRK-1m-loss: 0.8931670009261032 \n",
      "\n"
     ]
    },
    {
     "name": "stderr",
     "output_type": "stream",
     "text": [
      "/Users/lluisarull/opt/anaconda3/lib/python3.8/site-packages/statsmodels/regression/quantile_regression.py:191: IterationLimitWarning: Maximum number of iterations (1000) reached.\n",
      "  warnings.warn(\"Maximum number of iterations (\" + str(max_iter) +\n",
      "/Users/lluisarull/opt/anaconda3/lib/python3.8/site-packages/statsmodels/regression/quantile_regression.py:191: IterationLimitWarning: Maximum number of iterations (1000) reached.\n",
      "  warnings.warn(\"Maximum number of iterations (\" + str(max_iter) +\n",
      "/Users/lluisarull/opt/anaconda3/lib/python3.8/site-packages/statsmodels/regression/quantile_regression.py:191: IterationLimitWarning: Maximum number of iterations (1000) reached.\n",
      "  warnings.warn(\"Maximum number of iterations (\" + str(max_iter) +\n",
      "/Users/lluisarull/opt/anaconda3/lib/python3.8/site-packages/statsmodels/regression/quantile_regression.py:191: IterationLimitWarning: Maximum number of iterations (1000) reached.\n",
      "  warnings.warn(\"Maximum number of iterations (\" + str(max_iter) +\n"
     ]
    },
    {
     "name": "stdout",
     "output_type": "stream",
     "text": [
      "NVO-1m-loss: 1.4660887417504542 \n",
      "\n",
      "NVS-1m-loss: 1.814312476719338 \n",
      "\n"
     ]
    },
    {
     "name": "stderr",
     "output_type": "stream",
     "text": [
      "/Users/lluisarull/opt/anaconda3/lib/python3.8/site-packages/statsmodels/regression/quantile_regression.py:191: IterationLimitWarning: Maximum number of iterations (1000) reached.\n",
      "  warnings.warn(\"Maximum number of iterations (\" + str(max_iter) +\n"
     ]
    },
    {
     "name": "stdout",
     "output_type": "stream",
     "text": [
      "PFE-1m-loss: 1.3782630727748366 \n",
      "\n",
      "ROG-1m-loss: 5.805699770777661 \n",
      "\n"
     ]
    }
   ],
   "source": [
    "for t in tickers:\n",
    "    loss = rolling_1m_forecast(data, dates1m, t, alpha=0.05, columns_to_exclude= to_exclude2)\n",
    "    print(f'{t}-1m-loss: {loss} \\n')"
   ]
  },
  {
   "attachments": {},
   "cell_type": "markdown",
   "metadata": {},
   "source": [
    "### 3-step-ahead VaR: 3 months"
   ]
  },
  {
   "cell_type": "code",
   "execution_count": 34,
   "metadata": {},
   "outputs": [
    {
     "name": "stderr",
     "output_type": "stream",
     "text": [
      "/Users/lluisarull/opt/anaconda3/lib/python3.8/site-packages/statsmodels/regression/quantile_regression.py:191: IterationLimitWarning: Maximum number of iterations (1000) reached.\n",
      "  warnings.warn(\"Maximum number of iterations (\" + str(max_iter) +\n"
     ]
    },
    {
     "name": "stdout",
     "output_type": "stream",
     "text": [
      "AZN-3m-loss: 1.214013772004391 \n",
      "\n"
     ]
    },
    {
     "name": "stderr",
     "output_type": "stream",
     "text": [
      "/Users/lluisarull/opt/anaconda3/lib/python3.8/site-packages/statsmodels/regression/quantile_regression.py:191: IterationLimitWarning: Maximum number of iterations (1000) reached.\n",
      "  warnings.warn(\"Maximum number of iterations (\" + str(max_iter) +\n",
      "/Users/lluisarull/opt/anaconda3/lib/python3.8/site-packages/statsmodels/regression/quantile_regression.py:191: IterationLimitWarning: Maximum number of iterations (1000) reached.\n",
      "  warnings.warn(\"Maximum number of iterations (\" + str(max_iter) +\n",
      "/Users/lluisarull/opt/anaconda3/lib/python3.8/site-packages/statsmodels/regression/quantile_regression.py:191: IterationLimitWarning: Maximum number of iterations (1000) reached.\n",
      "  warnings.warn(\"Maximum number of iterations (\" + str(max_iter) +\n",
      "/Users/lluisarull/opt/anaconda3/lib/python3.8/site-packages/statsmodels/regression/quantile_regression.py:191: IterationLimitWarning: Maximum number of iterations (1000) reached.\n",
      "  warnings.warn(\"Maximum number of iterations (\" + str(max_iter) +\n"
     ]
    },
    {
     "name": "stdout",
     "output_type": "stream",
     "text": [
      "BMY-3m-loss: 2.1098116164159886 \n",
      "\n"
     ]
    },
    {
     "name": "stderr",
     "output_type": "stream",
     "text": [
      "/Users/lluisarull/opt/anaconda3/lib/python3.8/site-packages/statsmodels/regression/quantile_regression.py:191: IterationLimitWarning: Maximum number of iterations (1000) reached.\n",
      "  warnings.warn(\"Maximum number of iterations (\" + str(max_iter) +\n"
     ]
    },
    {
     "name": "stdout",
     "output_type": "stream",
     "text": [
      "JNJ-3m-loss: 1.6642611273723182 \n",
      "\n",
      "LLY-3m-loss: 1.8492009759742913 \n",
      "\n",
      "MRK-3m-loss: 0.9421248971845341 \n",
      "\n"
     ]
    },
    {
     "name": "stderr",
     "output_type": "stream",
     "text": [
      "/Users/lluisarull/opt/anaconda3/lib/python3.8/site-packages/statsmodels/regression/quantile_regression.py:191: IterationLimitWarning: Maximum number of iterations (1000) reached.\n",
      "  warnings.warn(\"Maximum number of iterations (\" + str(max_iter) +\n",
      "/Users/lluisarull/opt/anaconda3/lib/python3.8/site-packages/statsmodels/regression/quantile_regression.py:191: IterationLimitWarning: Maximum number of iterations (1000) reached.\n",
      "  warnings.warn(\"Maximum number of iterations (\" + str(max_iter) +\n",
      "/Users/lluisarull/opt/anaconda3/lib/python3.8/site-packages/statsmodels/regression/quantile_regression.py:191: IterationLimitWarning: Maximum number of iterations (1000) reached.\n",
      "  warnings.warn(\"Maximum number of iterations (\" + str(max_iter) +\n"
     ]
    },
    {
     "name": "stdout",
     "output_type": "stream",
     "text": [
      "NVO-3m-loss: 1.504596399518301 \n",
      "\n",
      "NVS-3m-loss: 2.0371065520768767 \n",
      "\n",
      "PFE-3m-loss: 1.613634808360158 \n",
      "\n",
      "ROG-3m-loss: 6.88840727021267 \n",
      "\n"
     ]
    }
   ],
   "source": [
    "for t in tickers:\n",
    "    loss = rolling_3m_forecast(data, dates3m, t, alpha=0.05, columns_to_exclude= to_exclude2)\n",
    "    print(f'{t}-3m-loss: {loss} \\n')"
   ]
  },
  {
   "attachments": {},
   "cell_type": "markdown",
   "metadata": {},
   "source": [
    "### 6-step-ahead VaR: 6 months"
   ]
  },
  {
   "cell_type": "code",
   "execution_count": 35,
   "metadata": {},
   "outputs": [
    {
     "name": "stdout",
     "output_type": "stream",
     "text": [
      "AZN-6m-loss: 1.496580906741892 \n",
      "\n"
     ]
    },
    {
     "name": "stderr",
     "output_type": "stream",
     "text": [
      "/Users/lluisarull/opt/anaconda3/lib/python3.8/site-packages/statsmodels/regression/quantile_regression.py:191: IterationLimitWarning: Maximum number of iterations (1000) reached.\n",
      "  warnings.warn(\"Maximum number of iterations (\" + str(max_iter) +\n",
      "/Users/lluisarull/opt/anaconda3/lib/python3.8/site-packages/statsmodels/regression/quantile_regression.py:191: IterationLimitWarning: Maximum number of iterations (1000) reached.\n",
      "  warnings.warn(\"Maximum number of iterations (\" + str(max_iter) +\n"
     ]
    },
    {
     "name": "stdout",
     "output_type": "stream",
     "text": [
      "BMY-6m-loss: 1.5147983464386594 \n",
      "\n",
      "JNJ-6m-loss: 1.3499264564586628 \n",
      "\n",
      "LLY-6m-loss: 1.4857937740867915 \n",
      "\n",
      "MRK-6m-loss: 0.9783708665533337 \n",
      "\n"
     ]
    },
    {
     "name": "stderr",
     "output_type": "stream",
     "text": [
      "/Users/lluisarull/opt/anaconda3/lib/python3.8/site-packages/statsmodels/regression/quantile_regression.py:191: IterationLimitWarning: Maximum number of iterations (1000) reached.\n",
      "  warnings.warn(\"Maximum number of iterations (\" + str(max_iter) +\n",
      "/Users/lluisarull/opt/anaconda3/lib/python3.8/site-packages/statsmodels/regression/quantile_regression.py:191: IterationLimitWarning: Maximum number of iterations (1000) reached.\n",
      "  warnings.warn(\"Maximum number of iterations (\" + str(max_iter) +\n"
     ]
    },
    {
     "name": "stdout",
     "output_type": "stream",
     "text": [
      "NVO-6m-loss: 1.8696950460326618 \n",
      "\n",
      "NVS-6m-loss: 1.2348587747139532 \n",
      "\n",
      "PFE-6m-loss: 1.1344532376345173 \n",
      "\n",
      "ROG-6m-loss: 9.209879374741481 \n",
      "\n"
     ]
    }
   ],
   "source": [
    "for t in tickers:\n",
    "    loss = rolling_6m_forecast(data, dates6m, t, alpha=0.05, columns_to_exclude= to_exclude2)\n",
    "    print(f'{t}-6m-loss: {loss} \\n')"
   ]
  },
  {
   "attachments": {},
   "cell_type": "markdown",
   "metadata": {},
   "source": [
    "### 9-step-ahead VaR: 9 months"
   ]
  },
  {
   "cell_type": "code",
   "execution_count": 36,
   "metadata": {},
   "outputs": [
    {
     "name": "stdout",
     "output_type": "stream",
     "text": [
      "AZN-9m-loss: 2.093000421150526 \n",
      "\n",
      "BMY-9m-loss: 2.075764541176609 \n",
      "\n",
      "JNJ-9m-loss: 1.979369976505056 \n",
      "\n",
      "LLY-9m-loss: 2.1390758923892403 \n",
      "\n",
      "MRK-9m-loss: 1.0001734223743326 \n",
      "\n"
     ]
    },
    {
     "name": "stderr",
     "output_type": "stream",
     "text": [
      "/Users/lluisarull/opt/anaconda3/lib/python3.8/site-packages/statsmodels/regression/quantile_regression.py:191: IterationLimitWarning: Maximum number of iterations (1000) reached.\n",
      "  warnings.warn(\"Maximum number of iterations (\" + str(max_iter) +\n",
      "/Users/lluisarull/opt/anaconda3/lib/python3.8/site-packages/statsmodels/regression/quantile_regression.py:191: IterationLimitWarning: Maximum number of iterations (1000) reached.\n",
      "  warnings.warn(\"Maximum number of iterations (\" + str(max_iter) +\n"
     ]
    },
    {
     "name": "stdout",
     "output_type": "stream",
     "text": [
      "NVO-9m-loss: 2.497249229276347 \n",
      "\n",
      "NVS-9m-loss: 1.5927917468805082 \n",
      "\n",
      "PFE-9m-loss: 1.5387291599674715 \n",
      "\n",
      "ROG-9m-loss: 2.507091304153901 \n",
      "\n"
     ]
    }
   ],
   "source": [
    "for t in tickers:\n",
    "    loss = rolling_9m_forecast(data, dates9m, t, alpha=0.05, columns_to_exclude= to_exclude2)\n",
    "    print(f'{t}-9m-loss: {loss} \\n')"
   ]
  },
  {
   "attachments": {},
   "cell_type": "markdown",
   "metadata": {},
   "source": [
    "### 12-step-ahead VaR: 12 months"
   ]
  },
  {
   "cell_type": "code",
   "execution_count": 37,
   "metadata": {},
   "outputs": [
    {
     "name": "stdout",
     "output_type": "stream",
     "text": [
      "AZN-12m-loss: 0.42698593060488266 \n",
      "\n",
      "BMY-12m-loss: 0.7878275362073656 \n",
      "\n",
      "JNJ-12m-loss: 0.26906442981152384 \n",
      "\n",
      "LLY-12m-loss: 0.5367435768730582 \n",
      "\n",
      "MRK-12m-loss: 0.31858924307554104 \n",
      "\n",
      "NVO-12m-loss: 0.4911857679729013 \n",
      "\n",
      "NVS-12m-loss: 1.199923909376334 \n",
      "\n",
      "PFE-12m-loss: 0.12424211221831577 \n",
      "\n",
      "ROG-12m-loss: 0.8642262897925357 \n",
      "\n"
     ]
    },
    {
     "name": "stderr",
     "output_type": "stream",
     "text": [
      "/Users/lluisarull/opt/anaconda3/lib/python3.8/site-packages/statsmodels/regression/quantile_regression.py:191: IterationLimitWarning: Maximum number of iterations (1000) reached.\n",
      "  warnings.warn(\"Maximum number of iterations (\" + str(max_iter) +\n"
     ]
    }
   ],
   "source": [
    "for t in tickers:\n",
    "    loss = rolling_12m_forecast(data, dates12m, t, alpha=0.05, columns_to_exclude= to_exclude2)\n",
    "    print(f'{t}-12m-loss: {loss} \\n')"
   ]
  },
  {
   "attachments": {},
   "cell_type": "markdown",
   "metadata": {},
   "source": [
    "# 3. All Covariates"
   ]
  },
  {
   "cell_type": "code",
   "execution_count": 38,
   "metadata": {},
   "outputs": [],
   "source": [
    "to_exclude3 = ['Date']\n",
    "\n",
    "for covariate in covs:\n",
    "    to_exclude3.append(covariate)\n",
    "\n",
    "for t in tickers:\n",
    "    to_exclude3.append(t)"
   ]
  },
  {
   "attachments": {},
   "cell_type": "markdown",
   "metadata": {},
   "source": [
    "### 1-step-ahead VaR: 1 months"
   ]
  },
  {
   "cell_type": "code",
   "execution_count": 39,
   "metadata": {},
   "outputs": [
    {
     "name": "stderr",
     "output_type": "stream",
     "text": [
      "/Users/lluisarull/opt/anaconda3/lib/python3.8/site-packages/statsmodels/regression/quantile_regression.py:191: IterationLimitWarning: Maximum number of iterations (1000) reached.\n",
      "  warnings.warn(\"Maximum number of iterations (\" + str(max_iter) +\n",
      "/Users/lluisarull/opt/anaconda3/lib/python3.8/site-packages/statsmodels/regression/quantile_regression.py:191: IterationLimitWarning: Maximum number of iterations (1000) reached.\n",
      "  warnings.warn(\"Maximum number of iterations (\" + str(max_iter) +\n"
     ]
    },
    {
     "name": "stdout",
     "output_type": "stream",
     "text": [
      "AZN-1m-loss: 0.8967213830757417 \n",
      "\n"
     ]
    },
    {
     "name": "stderr",
     "output_type": "stream",
     "text": [
      "/Users/lluisarull/opt/anaconda3/lib/python3.8/site-packages/statsmodels/regression/quantile_regression.py:191: IterationLimitWarning: Maximum number of iterations (1000) reached.\n",
      "  warnings.warn(\"Maximum number of iterations (\" + str(max_iter) +\n"
     ]
    },
    {
     "name": "stdout",
     "output_type": "stream",
     "text": [
      "BMY-1m-loss: 0.7146737131818566 \n",
      "\n"
     ]
    },
    {
     "name": "stderr",
     "output_type": "stream",
     "text": [
      "/Users/lluisarull/opt/anaconda3/lib/python3.8/site-packages/statsmodels/regression/quantile_regression.py:191: IterationLimitWarning: Maximum number of iterations (1000) reached.\n",
      "  warnings.warn(\"Maximum number of iterations (\" + str(max_iter) +\n",
      "/Users/lluisarull/opt/anaconda3/lib/python3.8/site-packages/statsmodels/regression/quantile_regression.py:191: IterationLimitWarning: Maximum number of iterations (1000) reached.\n",
      "  warnings.warn(\"Maximum number of iterations (\" + str(max_iter) +\n",
      "/Users/lluisarull/opt/anaconda3/lib/python3.8/site-packages/statsmodels/regression/quantile_regression.py:191: IterationLimitWarning: Maximum number of iterations (1000) reached.\n",
      "  warnings.warn(\"Maximum number of iterations (\" + str(max_iter) +\n"
     ]
    },
    {
     "name": "stdout",
     "output_type": "stream",
     "text": [
      "JNJ-1m-loss: 2.3144011922254184 \n",
      "\n",
      "LLY-1m-loss: 1.3668250460993898 \n",
      "\n",
      "MRK-1m-loss: 0.6549663775105182 \n",
      "\n"
     ]
    },
    {
     "name": "stderr",
     "output_type": "stream",
     "text": [
      "/Users/lluisarull/opt/anaconda3/lib/python3.8/site-packages/statsmodels/regression/quantile_regression.py:191: IterationLimitWarning: Maximum number of iterations (1000) reached.\n",
      "  warnings.warn(\"Maximum number of iterations (\" + str(max_iter) +\n",
      "/Users/lluisarull/opt/anaconda3/lib/python3.8/site-packages/statsmodels/regression/quantile_regression.py:191: IterationLimitWarning: Maximum number of iterations (1000) reached.\n",
      "  warnings.warn(\"Maximum number of iterations (\" + str(max_iter) +\n"
     ]
    },
    {
     "name": "stdout",
     "output_type": "stream",
     "text": [
      "NVO-1m-loss: 0.7442594994687277 \n",
      "\n"
     ]
    },
    {
     "name": "stderr",
     "output_type": "stream",
     "text": [
      "/Users/lluisarull/opt/anaconda3/lib/python3.8/site-packages/statsmodels/regression/quantile_regression.py:191: IterationLimitWarning: Maximum number of iterations (1000) reached.\n",
      "  warnings.warn(\"Maximum number of iterations (\" + str(max_iter) +\n"
     ]
    },
    {
     "name": "stdout",
     "output_type": "stream",
     "text": [
      "NVS-1m-loss: 1.4996473162536874 \n",
      "\n"
     ]
    },
    {
     "name": "stderr",
     "output_type": "stream",
     "text": [
      "/Users/lluisarull/opt/anaconda3/lib/python3.8/site-packages/statsmodels/regression/quantile_regression.py:191: IterationLimitWarning: Maximum number of iterations (1000) reached.\n",
      "  warnings.warn(\"Maximum number of iterations (\" + str(max_iter) +\n"
     ]
    },
    {
     "name": "stdout",
     "output_type": "stream",
     "text": [
      "PFE-1m-loss: 2.310692307079258 \n",
      "\n"
     ]
    },
    {
     "name": "stderr",
     "output_type": "stream",
     "text": [
      "/Users/lluisarull/opt/anaconda3/lib/python3.8/site-packages/statsmodels/regression/quantile_regression.py:191: IterationLimitWarning: Maximum number of iterations (1000) reached.\n",
      "  warnings.warn(\"Maximum number of iterations (\" + str(max_iter) +\n"
     ]
    },
    {
     "name": "stdout",
     "output_type": "stream",
     "text": [
      "ROG-1m-loss: 4.499513496348546 \n",
      "\n"
     ]
    }
   ],
   "source": [
    "for t in tickers:\n",
    "    loss = rolling_1m_forecast(data, dates1m, t, alpha=0.05, columns_to_exclude= to_exclude3)\n",
    "    print(f'{t}-1m-loss: {loss} \\n')"
   ]
  },
  {
   "attachments": {},
   "cell_type": "markdown",
   "metadata": {},
   "source": [
    "### 3-step-ahead VaR: 3 months"
   ]
  },
  {
   "cell_type": "code",
   "execution_count": 40,
   "metadata": {},
   "outputs": [
    {
     "name": "stderr",
     "output_type": "stream",
     "text": [
      "/Users/lluisarull/opt/anaconda3/lib/python3.8/site-packages/statsmodels/regression/quantile_regression.py:191: IterationLimitWarning: Maximum number of iterations (1000) reached.\n",
      "  warnings.warn(\"Maximum number of iterations (\" + str(max_iter) +\n",
      "/Users/lluisarull/opt/anaconda3/lib/python3.8/site-packages/statsmodels/regression/quantile_regression.py:191: IterationLimitWarning: Maximum number of iterations (1000) reached.\n",
      "  warnings.warn(\"Maximum number of iterations (\" + str(max_iter) +\n"
     ]
    },
    {
     "name": "stdout",
     "output_type": "stream",
     "text": [
      "AZN-3m-loss: 0.914923206238359 \n",
      "\n"
     ]
    },
    {
     "name": "stderr",
     "output_type": "stream",
     "text": [
      "/Users/lluisarull/opt/anaconda3/lib/python3.8/site-packages/statsmodels/regression/quantile_regression.py:191: IterationLimitWarning: Maximum number of iterations (1000) reached.\n",
      "  warnings.warn(\"Maximum number of iterations (\" + str(max_iter) +\n"
     ]
    },
    {
     "name": "stdout",
     "output_type": "stream",
     "text": [
      "BMY-3m-loss: 0.7514119771238522 \n",
      "\n"
     ]
    },
    {
     "name": "stderr",
     "output_type": "stream",
     "text": [
      "/Users/lluisarull/opt/anaconda3/lib/python3.8/site-packages/statsmodels/regression/quantile_regression.py:191: IterationLimitWarning: Maximum number of iterations (1000) reached.\n",
      "  warnings.warn(\"Maximum number of iterations (\" + str(max_iter) +\n"
     ]
    },
    {
     "name": "stdout",
     "output_type": "stream",
     "text": [
      "JNJ-3m-loss: 2.635581037567973 \n",
      "\n",
      "LLY-3m-loss: 1.4306449436107906 \n",
      "\n",
      "MRK-3m-loss: 0.6995362211945352 \n",
      "\n"
     ]
    },
    {
     "name": "stderr",
     "output_type": "stream",
     "text": [
      "/Users/lluisarull/opt/anaconda3/lib/python3.8/site-packages/statsmodels/regression/quantile_regression.py:191: IterationLimitWarning: Maximum number of iterations (1000) reached.\n",
      "  warnings.warn(\"Maximum number of iterations (\" + str(max_iter) +\n",
      "/Users/lluisarull/opt/anaconda3/lib/python3.8/site-packages/statsmodels/regression/quantile_regression.py:191: IterationLimitWarning: Maximum number of iterations (1000) reached.\n",
      "  warnings.warn(\"Maximum number of iterations (\" + str(max_iter) +\n"
     ]
    },
    {
     "name": "stdout",
     "output_type": "stream",
     "text": [
      "NVO-3m-loss: 0.7659868187697372 \n",
      "\n"
     ]
    },
    {
     "name": "stderr",
     "output_type": "stream",
     "text": [
      "/Users/lluisarull/opt/anaconda3/lib/python3.8/site-packages/statsmodels/regression/quantile_regression.py:191: IterationLimitWarning: Maximum number of iterations (1000) reached.\n",
      "  warnings.warn(\"Maximum number of iterations (\" + str(max_iter) +\n"
     ]
    },
    {
     "name": "stdout",
     "output_type": "stream",
     "text": [
      "NVS-3m-loss: 1.6205957941980962 \n",
      "\n"
     ]
    },
    {
     "name": "stderr",
     "output_type": "stream",
     "text": [
      "/Users/lluisarull/opt/anaconda3/lib/python3.8/site-packages/statsmodels/regression/quantile_regression.py:191: IterationLimitWarning: Maximum number of iterations (1000) reached.\n",
      "  warnings.warn(\"Maximum number of iterations (\" + str(max_iter) +\n"
     ]
    },
    {
     "name": "stdout",
     "output_type": "stream",
     "text": [
      "PFE-3m-loss: 2.6770172621566974 \n",
      "\n"
     ]
    },
    {
     "name": "stderr",
     "output_type": "stream",
     "text": [
      "/Users/lluisarull/opt/anaconda3/lib/python3.8/site-packages/statsmodels/regression/quantile_regression.py:191: IterationLimitWarning: Maximum number of iterations (1000) reached.\n",
      "  warnings.warn(\"Maximum number of iterations (\" + str(max_iter) +\n"
     ]
    },
    {
     "name": "stdout",
     "output_type": "stream",
     "text": [
      "ROG-3m-loss: 4.874091226899671 \n",
      "\n"
     ]
    }
   ],
   "source": [
    "for t in tickers:\n",
    "    loss = rolling_3m_forecast(data, dates3m, t, alpha=0.05, columns_to_exclude= to_exclude3)\n",
    "    print(f'{t}-3m-loss: {loss} \\n')"
   ]
  },
  {
   "attachments": {},
   "cell_type": "markdown",
   "metadata": {},
   "source": [
    "### 6-step-ahead VaR: 6 months"
   ]
  },
  {
   "cell_type": "code",
   "execution_count": 41,
   "metadata": {},
   "outputs": [
    {
     "name": "stdout",
     "output_type": "stream",
     "text": [
      "AZN-6m-loss: 1.0517750869462354 \n",
      "\n"
     ]
    },
    {
     "name": "stderr",
     "output_type": "stream",
     "text": [
      "/Users/lluisarull/opt/anaconda3/lib/python3.8/site-packages/statsmodels/regression/quantile_regression.py:191: IterationLimitWarning: Maximum number of iterations (1000) reached.\n",
      "  warnings.warn(\"Maximum number of iterations (\" + str(max_iter) +\n"
     ]
    },
    {
     "name": "stdout",
     "output_type": "stream",
     "text": [
      "BMY-6m-loss: 0.5561498798584777 \n",
      "\n",
      "JNJ-6m-loss: 3.592723912075155 \n",
      "\n",
      "LLY-6m-loss: 1.7088307462435566 \n",
      "\n",
      "MRK-6m-loss: 0.8181740317200336 \n",
      "\n"
     ]
    },
    {
     "name": "stderr",
     "output_type": "stream",
     "text": [
      "/Users/lluisarull/opt/anaconda3/lib/python3.8/site-packages/statsmodels/regression/quantile_regression.py:191: IterationLimitWarning: Maximum number of iterations (1000) reached.\n",
      "  warnings.warn(\"Maximum number of iterations (\" + str(max_iter) +\n",
      "/Users/lluisarull/opt/anaconda3/lib/python3.8/site-packages/statsmodels/regression/quantile_regression.py:191: IterationLimitWarning: Maximum number of iterations (1000) reached.\n",
      "  warnings.warn(\"Maximum number of iterations (\" + str(max_iter) +\n"
     ]
    },
    {
     "name": "stdout",
     "output_type": "stream",
     "text": [
      "NVO-6m-loss: 0.6874720353212502 \n",
      "\n"
     ]
    },
    {
     "name": "stderr",
     "output_type": "stream",
     "text": [
      "/Users/lluisarull/opt/anaconda3/lib/python3.8/site-packages/statsmodels/regression/quantile_regression.py:191: IterationLimitWarning: Maximum number of iterations (1000) reached.\n",
      "  warnings.warn(\"Maximum number of iterations (\" + str(max_iter) +\n"
     ]
    },
    {
     "name": "stdout",
     "output_type": "stream",
     "text": [
      "NVS-6m-loss: 1.9305251279888853 \n",
      "\n"
     ]
    },
    {
     "name": "stderr",
     "output_type": "stream",
     "text": [
      "/Users/lluisarull/opt/anaconda3/lib/python3.8/site-packages/statsmodels/regression/quantile_regression.py:191: IterationLimitWarning: Maximum number of iterations (1000) reached.\n",
      "  warnings.warn(\"Maximum number of iterations (\" + str(max_iter) +\n"
     ]
    },
    {
     "name": "stdout",
     "output_type": "stream",
     "text": [
      "PFE-6m-loss: 2.4621425175611162 \n",
      "\n"
     ]
    },
    {
     "name": "stderr",
     "output_type": "stream",
     "text": [
      "/Users/lluisarull/opt/anaconda3/lib/python3.8/site-packages/statsmodels/regression/quantile_regression.py:191: IterationLimitWarning: Maximum number of iterations (1000) reached.\n",
      "  warnings.warn(\"Maximum number of iterations (\" + str(max_iter) +\n"
     ]
    },
    {
     "name": "stdout",
     "output_type": "stream",
     "text": [
      "ROG-6m-loss: 6.343190089956562 \n",
      "\n"
     ]
    }
   ],
   "source": [
    "for t in tickers:\n",
    "    loss = rolling_6m_forecast(data, dates6m, t, alpha=0.05, columns_to_exclude= to_exclude3)\n",
    "    print(f'{t}-6m-loss: {loss} \\n')"
   ]
  },
  {
   "attachments": {},
   "cell_type": "markdown",
   "metadata": {},
   "source": [
    "### 9-step-ahead VaR: 9 months"
   ]
  },
  {
   "cell_type": "code",
   "execution_count": 42,
   "metadata": {},
   "outputs": [
    {
     "name": "stdout",
     "output_type": "stream",
     "text": [
      "AZN-9m-loss: 1.2114613976021742 \n",
      "\n",
      "BMY-9m-loss: 0.30927914116211386 \n",
      "\n",
      "JNJ-9m-loss: 5.8925278192795165 \n",
      "\n",
      "LLY-9m-loss: 2.610294817990406 \n",
      "\n",
      "MRK-9m-loss: 0.5331058524548647 \n",
      "\n"
     ]
    },
    {
     "name": "stderr",
     "output_type": "stream",
     "text": [
      "/Users/lluisarull/opt/anaconda3/lib/python3.8/site-packages/statsmodels/regression/quantile_regression.py:191: IterationLimitWarning: Maximum number of iterations (1000) reached.\n",
      "  warnings.warn(\"Maximum number of iterations (\" + str(max_iter) +\n"
     ]
    },
    {
     "name": "stdout",
     "output_type": "stream",
     "text": [
      "NVO-9m-loss: 0.5484833581039475 \n",
      "\n",
      "NVS-9m-loss: 2.7306882831564803 \n",
      "\n",
      "PFE-9m-loss: 3.75248270942117 \n",
      "\n"
     ]
    },
    {
     "name": "stderr",
     "output_type": "stream",
     "text": [
      "/Users/lluisarull/opt/anaconda3/lib/python3.8/site-packages/statsmodels/regression/quantile_regression.py:191: IterationLimitWarning: Maximum number of iterations (1000) reached.\n",
      "  warnings.warn(\"Maximum number of iterations (\" + str(max_iter) +\n"
     ]
    },
    {
     "name": "stdout",
     "output_type": "stream",
     "text": [
      "ROG-9m-loss: 2.2044555280870406 \n",
      "\n"
     ]
    }
   ],
   "source": [
    "for t in tickers:\n",
    "    loss = rolling_9m_forecast(data, dates9m, t, alpha=0.05, columns_to_exclude= to_exclude3)\n",
    "    print(f'{t}-9m-loss: {loss} \\n')"
   ]
  },
  {
   "attachments": {},
   "cell_type": "markdown",
   "metadata": {},
   "source": [
    "### 12-step-ahead VaR: 12 months"
   ]
  },
  {
   "cell_type": "code",
   "execution_count": 43,
   "metadata": {},
   "outputs": [
    {
     "name": "stdout",
     "output_type": "stream",
     "text": [
      "AZN-12m-loss: 0.46102723730800454 \n",
      "\n",
      "BMY-12m-loss: 0.5744525788949154 \n",
      "\n",
      "JNJ-12m-loss: 3.051485905869477 \n",
      "\n",
      "LLY-12m-loss: 0.3036732176000039 \n",
      "\n",
      "MRK-12m-loss: 0.17210867204662755 \n",
      "\n"
     ]
    },
    {
     "name": "stderr",
     "output_type": "stream",
     "text": [
      "/Users/lluisarull/opt/anaconda3/lib/python3.8/site-packages/statsmodels/regression/quantile_regression.py:191: IterationLimitWarning: Maximum number of iterations (1000) reached.\n",
      "  warnings.warn(\"Maximum number of iterations (\" + str(max_iter) +\n"
     ]
    },
    {
     "name": "stdout",
     "output_type": "stream",
     "text": [
      "NVO-12m-loss: 0.49495454238229997 \n",
      "\n",
      "NVS-12m-loss: 4.322700597305763 \n",
      "\n",
      "PFE-12m-loss: 0.10402411527543137 \n",
      "\n",
      "ROG-12m-loss: 4.376838235850442 \n",
      "\n"
     ]
    }
   ],
   "source": [
    "for t in tickers:\n",
    "    loss = rolling_12m_forecast(data, dates12m, t, alpha=0.05, columns_to_exclude= to_exclude3)\n",
    "    print(f'{t}-12m-loss: {loss} \\n')"
   ]
  },
  {
   "attachments": {},
   "cell_type": "markdown",
   "metadata": {},
   "source": []
  },
  {
   "attachments": {},
   "cell_type": "markdown",
   "metadata": {},
   "source": []
  },
  {
   "attachments": {},
   "cell_type": "markdown",
   "metadata": {},
   "source": []
  },
  {
   "attachments": {},
   "cell_type": "markdown",
   "metadata": {},
   "source": []
  },
  {
   "attachments": {},
   "cell_type": "markdown",
   "metadata": {},
   "source": []
  },
  {
   "attachments": {},
   "cell_type": "markdown",
   "metadata": {},
   "source": [
    "``READAPT FROM HERE TO THE END OF THE NOTEBOOK``"
   ]
  },
  {
   "attachments": {},
   "cell_type": "markdown",
   "metadata": {},
   "source": [
    "### ABBV case"
   ]
  },
  {
   "cell_type": "code",
   "execution_count": 44,
   "metadata": {},
   "outputs": [
    {
     "data": {
      "text/html": [
       "<div>\n",
       "<style scoped>\n",
       "    .dataframe tbody tr th:only-of-type {\n",
       "        vertical-align: middle;\n",
       "    }\n",
       "\n",
       "    .dataframe tbody tr th {\n",
       "        vertical-align: top;\n",
       "    }\n",
       "\n",
       "    .dataframe thead th {\n",
       "        text-align: right;\n",
       "    }\n",
       "</style>\n",
       "<table border=\"1\" class=\"dataframe\">\n",
       "  <thead>\n",
       "    <tr style=\"text-align: right;\">\n",
       "      <th></th>\n",
       "      <th>Date</th>\n",
       "      <th>ABBV</th>\n",
       "    </tr>\n",
       "  </thead>\n",
       "  <tbody>\n",
       "    <tr>\n",
       "      <th>158</th>\n",
       "      <td>2013-03-01</td>\n",
       "      <td>10.455062</td>\n",
       "    </tr>\n",
       "    <tr>\n",
       "      <th>159</th>\n",
       "      <td>2013-04-01</td>\n",
       "      <td>12.922975</td>\n",
       "    </tr>\n",
       "    <tr>\n",
       "      <th>160</th>\n",
       "      <td>2013-05-01</td>\n",
       "      <td>-6.438455</td>\n",
       "    </tr>\n",
       "    <tr>\n",
       "      <th>161</th>\n",
       "      <td>2013-06-01</td>\n",
       "      <td>-3.162299</td>\n",
       "    </tr>\n",
       "    <tr>\n",
       "      <th>162</th>\n",
       "      <td>2013-07-01</td>\n",
       "      <td>10.014486</td>\n",
       "    </tr>\n",
       "    <tr>\n",
       "      <th>...</th>\n",
       "      <td>...</td>\n",
       "      <td>...</td>\n",
       "    </tr>\n",
       "    <tr>\n",
       "      <th>276</th>\n",
       "      <td>2023-01-01</td>\n",
       "      <td>-8.576205</td>\n",
       "    </tr>\n",
       "    <tr>\n",
       "      <th>277</th>\n",
       "      <td>2023-02-01</td>\n",
       "      <td>5.152609</td>\n",
       "    </tr>\n",
       "    <tr>\n",
       "      <th>278</th>\n",
       "      <td>2023-03-01</td>\n",
       "      <td>3.554254</td>\n",
       "    </tr>\n",
       "    <tr>\n",
       "      <th>279</th>\n",
       "      <td>2023-04-01</td>\n",
       "      <td>-5.176628</td>\n",
       "    </tr>\n",
       "    <tr>\n",
       "      <th>280</th>\n",
       "      <td>2023-05-01</td>\n",
       "      <td>-7.868480</td>\n",
       "    </tr>\n",
       "  </tbody>\n",
       "</table>\n",
       "<p>123 rows × 2 columns</p>\n",
       "</div>"
      ],
      "text/plain": [
       "           Date       ABBV\n",
       "158  2013-03-01  10.455062\n",
       "159  2013-04-01  12.922975\n",
       "160  2013-05-01  -6.438455\n",
       "161  2013-06-01  -3.162299\n",
       "162  2013-07-01  10.014486\n",
       "..          ...        ...\n",
       "276  2023-01-01  -8.576205\n",
       "277  2023-02-01   5.152609\n",
       "278  2023-03-01   3.554254\n",
       "279  2023-04-01  -5.176628\n",
       "280  2023-05-01  -7.868480\n",
       "\n",
       "[123 rows x 2 columns]"
      ]
     },
     "execution_count": 44,
     "metadata": {},
     "output_type": "execute_result"
    }
   ],
   "source": [
    "# ABBV case\n",
    "data = pd.read_csv('non_nan.csv', )\n",
    "data2 = pd.read_csv('monthly_data.csv')\n",
    "data_ABBV = data2[['Date', 'ABBV']]\n",
    "data_ABBV = data_ABBV.dropna()\n",
    "data_ABBV"
   ]
  },
  {
   "cell_type": "code",
   "execution_count": 45,
   "metadata": {},
   "outputs": [
    {
     "data": {
      "text/html": [
       "<div>\n",
       "<style scoped>\n",
       "    .dataframe tbody tr th:only-of-type {\n",
       "        vertical-align: middle;\n",
       "    }\n",
       "\n",
       "    .dataframe tbody tr th {\n",
       "        vertical-align: top;\n",
       "    }\n",
       "\n",
       "    .dataframe thead th {\n",
       "        text-align: right;\n",
       "    }\n",
       "</style>\n",
       "<table border=\"1\" class=\"dataframe\">\n",
       "  <thead>\n",
       "    <tr style=\"text-align: right;\">\n",
       "      <th></th>\n",
       "      <th>Date</th>\n",
       "      <th>ABBV</th>\n",
       "      <th>unemployment_rate</th>\n",
       "      <th>CPI</th>\n",
       "      <th>treasury_yield</th>\n",
       "      <th>GDP_growth</th>\n",
       "      <th>SP500_return</th>\n",
       "      <th>AZN</th>\n",
       "      <th>BMY</th>\n",
       "      <th>JNJ</th>\n",
       "      <th>LLY</th>\n",
       "      <th>MRK</th>\n",
       "      <th>NVO</th>\n",
       "      <th>NVS</th>\n",
       "      <th>PFE</th>\n",
       "      <th>ROG</th>\n",
       "      <th>inflation_change</th>\n",
       "      <th>unemp_change</th>\n",
       "      <th>treasury_yield_change</th>\n",
       "    </tr>\n",
       "  </thead>\n",
       "  <tbody>\n",
       "    <tr>\n",
       "      <th>0</th>\n",
       "      <td>2013-03-01</td>\n",
       "      <td>10.455062</td>\n",
       "      <td>7.5</td>\n",
       "      <td>232.282</td>\n",
       "      <td>1.984211</td>\n",
       "      <td>0.397212</td>\n",
       "      <td>3.337507</td>\n",
       "      <td>14.582205</td>\n",
       "      <td>11.414669</td>\n",
       "      <td>7.978126</td>\n",
       "      <td>4.851792</td>\n",
       "      <td>3.440210</td>\n",
       "      <td>-7.714279</td>\n",
       "      <td>9.067089</td>\n",
       "      <td>5.443922</td>\n",
       "      <td>-0.188640</td>\n",
       "      <td>-0.655</td>\n",
       "      <td>-0.2</td>\n",
       "      <td>0.069449</td>\n",
       "    </tr>\n",
       "    <tr>\n",
       "      <th>1</th>\n",
       "      <td>2013-04-01</td>\n",
       "      <td>12.922975</td>\n",
       "      <td>7.6</td>\n",
       "      <td>231.797</td>\n",
       "      <td>1.957500</td>\n",
       "      <td>0.085246</td>\n",
       "      <td>2.374537</td>\n",
       "      <td>3.881563</td>\n",
       "      <td>-3.568848</td>\n",
       "      <td>4.538222</td>\n",
       "      <td>-2.482836</td>\n",
       "      <td>7.359867</td>\n",
       "      <td>11.497419</td>\n",
       "      <td>3.537347</td>\n",
       "      <td>0.727651</td>\n",
       "      <td>-10.457790</td>\n",
       "      <td>-0.485</td>\n",
       "      <td>0.1</td>\n",
       "      <td>-0.026711</td>\n",
       "    </tr>\n",
       "    <tr>\n",
       "      <th>2</th>\n",
       "      <td>2013-05-01</td>\n",
       "      <td>-6.438455</td>\n",
       "      <td>7.5</td>\n",
       "      <td>231.893</td>\n",
       "      <td>1.759091</td>\n",
       "      <td>-0.190605</td>\n",
       "      <td>2.361004</td>\n",
       "      <td>-1.290451</td>\n",
       "      <td>16.816781</td>\n",
       "      <td>-1.231989</td>\n",
       "      <td>-4.008663</td>\n",
       "      <td>-0.638313</td>\n",
       "      <td>-8.792401</td>\n",
       "      <td>-2.711502</td>\n",
       "      <td>-6.329562</td>\n",
       "      <td>8.513136</td>\n",
       "      <td>0.096</td>\n",
       "      <td>-0.1</td>\n",
       "      <td>-0.198409</td>\n",
       "    </tr>\n",
       "    <tr>\n",
       "      <th>3</th>\n",
       "      <td>2013-06-01</td>\n",
       "      <td>-3.162299</td>\n",
       "      <td>7.5</td>\n",
       "      <td>232.445</td>\n",
       "      <td>1.928182</td>\n",
       "      <td>0.620501</td>\n",
       "      <td>-1.853781</td>\n",
       "      <td>-7.707318</td>\n",
       "      <td>-2.868894</td>\n",
       "      <td>2.762464</td>\n",
       "      <td>-6.788137</td>\n",
       "      <td>-0.535372</td>\n",
       "      <td>-3.805087</td>\n",
       "      <td>-1.463219</td>\n",
       "      <td>3.722003</td>\n",
       "      <td>2.269287</td>\n",
       "      <td>0.552</td>\n",
       "      <td>0.0</td>\n",
       "      <td>0.169091</td>\n",
       "    </tr>\n",
       "    <tr>\n",
       "      <th>4</th>\n",
       "      <td>2013-07-01</td>\n",
       "      <td>10.014486</td>\n",
       "      <td>7.3</td>\n",
       "      <td>232.900</td>\n",
       "      <td>2.300000</td>\n",
       "      <td>0.210359</td>\n",
       "      <td>5.724173</td>\n",
       "      <td>7.230424</td>\n",
       "      <td>-3.244595</td>\n",
       "      <td>8.898141</td>\n",
       "      <td>8.122938</td>\n",
       "      <td>4.655361</td>\n",
       "      <td>9.001745</td>\n",
       "      <td>1.272809</td>\n",
       "      <td>4.355584</td>\n",
       "      <td>17.540151</td>\n",
       "      <td>0.455</td>\n",
       "      <td>-0.2</td>\n",
       "      <td>0.371818</td>\n",
       "    </tr>\n",
       "    <tr>\n",
       "      <th>...</th>\n",
       "      <td>...</td>\n",
       "      <td>...</td>\n",
       "      <td>...</td>\n",
       "      <td>...</td>\n",
       "      <td>...</td>\n",
       "      <td>...</td>\n",
       "      <td>...</td>\n",
       "      <td>...</td>\n",
       "      <td>...</td>\n",
       "      <td>...</td>\n",
       "      <td>...</td>\n",
       "      <td>...</td>\n",
       "      <td>...</td>\n",
       "      <td>...</td>\n",
       "      <td>...</td>\n",
       "      <td>...</td>\n",
       "      <td>...</td>\n",
       "      <td>...</td>\n",
       "      <td>...</td>\n",
       "    </tr>\n",
       "    <tr>\n",
       "      <th>118</th>\n",
       "      <td>2023-01-01</td>\n",
       "      <td>-8.576205</td>\n",
       "      <td>3.4</td>\n",
       "      <td>300.536</td>\n",
       "      <td>3.616190</td>\n",
       "      <td>0.390254</td>\n",
       "      <td>6.776820</td>\n",
       "      <td>-3.584079</td>\n",
       "      <td>0.972908</td>\n",
       "      <td>-7.489384</td>\n",
       "      <td>-5.928822</td>\n",
       "      <td>-2.549213</td>\n",
       "      <td>2.541749</td>\n",
       "      <td>-0.110227</td>\n",
       "      <td>-13.817335</td>\n",
       "      <td>16.968326</td>\n",
       "      <td>1.546</td>\n",
       "      <td>-0.1</td>\n",
       "      <td>-0.274810</td>\n",
       "    </tr>\n",
       "    <tr>\n",
       "      <th>119</th>\n",
       "      <td>2023-02-01</td>\n",
       "      <td>5.152609</td>\n",
       "      <td>3.6</td>\n",
       "      <td>301.648</td>\n",
       "      <td>3.531500</td>\n",
       "      <td>-0.442183</td>\n",
       "      <td>-2.514271</td>\n",
       "      <td>-0.290649</td>\n",
       "      <td>-4.328217</td>\n",
       "      <td>-6.217115</td>\n",
       "      <td>-9.568502</td>\n",
       "      <td>-1.089288</td>\n",
       "      <td>1.592445</td>\n",
       "      <td>-7.172811</td>\n",
       "      <td>-7.286115</td>\n",
       "      <td>5.451681</td>\n",
       "      <td>1.112</td>\n",
       "      <td>0.2</td>\n",
       "      <td>-0.084690</td>\n",
       "    </tr>\n",
       "    <tr>\n",
       "      <th>120</th>\n",
       "      <td>2023-03-01</td>\n",
       "      <td>3.554254</td>\n",
       "      <td>3.5</td>\n",
       "      <td>301.808</td>\n",
       "      <td>3.746842</td>\n",
       "      <td>-0.442183</td>\n",
       "      <td>3.313488</td>\n",
       "      <td>8.035329</td>\n",
       "      <td>0.507544</td>\n",
       "      <td>1.862736</td>\n",
       "      <td>10.703390</td>\n",
       "      <td>0.141189</td>\n",
       "      <td>12.873250</td>\n",
       "      <td>9.367574</td>\n",
       "      <td>0.566924</td>\n",
       "      <td>11.025813</td>\n",
       "      <td>0.160</td>\n",
       "      <td>-0.1</td>\n",
       "      <td>0.215342</td>\n",
       "    </tr>\n",
       "    <tr>\n",
       "      <th>121</th>\n",
       "      <td>2023-04-01</td>\n",
       "      <td>-5.176628</td>\n",
       "      <td>3.4</td>\n",
       "      <td>302.918</td>\n",
       "      <td>3.663043</td>\n",
       "      <td>-0.442183</td>\n",
       "      <td>1.985238</td>\n",
       "      <td>5.489119</td>\n",
       "      <td>-3.664707</td>\n",
       "      <td>5.612908</td>\n",
       "      <td>15.269915</td>\n",
       "      <td>9.289214</td>\n",
       "      <td>5.836894</td>\n",
       "      <td>16.334413</td>\n",
       "      <td>-4.681371</td>\n",
       "      <td>-1.517467</td>\n",
       "      <td>1.110</td>\n",
       "      <td>-0.1</td>\n",
       "      <td>-0.083799</td>\n",
       "    </tr>\n",
       "    <tr>\n",
       "      <th>122</th>\n",
       "      <td>2023-05-01</td>\n",
       "      <td>-7.868480</td>\n",
       "      <td>3.7</td>\n",
       "      <td>304.127</td>\n",
       "      <td>3.460000</td>\n",
       "      <td>-0.442183</td>\n",
       "      <td>0.461619</td>\n",
       "      <td>-0.191204</td>\n",
       "      <td>-2.695194</td>\n",
       "      <td>-5.277949</td>\n",
       "      <td>8.487855</td>\n",
       "      <td>-4.382088</td>\n",
       "      <td>-3.967915</td>\n",
       "      <td>-6.161645</td>\n",
       "      <td>-2.237080</td>\n",
       "      <td>-2.162160</td>\n",
       "      <td>0.100</td>\n",
       "      <td>0.3</td>\n",
       "      <td>-0.203043</td>\n",
       "    </tr>\n",
       "  </tbody>\n",
       "</table>\n",
       "<p>123 rows × 19 columns</p>\n",
       "</div>"
      ],
      "text/plain": [
       "           Date       ABBV  unemployment_rate      CPI  treasury_yield  \\\n",
       "0    2013-03-01  10.455062                7.5  232.282        1.984211   \n",
       "1    2013-04-01  12.922975                7.6  231.797        1.957500   \n",
       "2    2013-05-01  -6.438455                7.5  231.893        1.759091   \n",
       "3    2013-06-01  -3.162299                7.5  232.445        1.928182   \n",
       "4    2013-07-01  10.014486                7.3  232.900        2.300000   \n",
       "..          ...        ...                ...      ...             ...   \n",
       "118  2023-01-01  -8.576205                3.4  300.536        3.616190   \n",
       "119  2023-02-01   5.152609                3.6  301.648        3.531500   \n",
       "120  2023-03-01   3.554254                3.5  301.808        3.746842   \n",
       "121  2023-04-01  -5.176628                3.4  302.918        3.663043   \n",
       "122  2023-05-01  -7.868480                3.7  304.127        3.460000   \n",
       "\n",
       "     GDP_growth  SP500_return        AZN        BMY       JNJ        LLY  \\\n",
       "0      0.397212      3.337507  14.582205  11.414669  7.978126   4.851792   \n",
       "1      0.085246      2.374537   3.881563  -3.568848  4.538222  -2.482836   \n",
       "2     -0.190605      2.361004  -1.290451  16.816781 -1.231989  -4.008663   \n",
       "3      0.620501     -1.853781  -7.707318  -2.868894  2.762464  -6.788137   \n",
       "4      0.210359      5.724173   7.230424  -3.244595  8.898141   8.122938   \n",
       "..          ...           ...        ...        ...       ...        ...   \n",
       "118    0.390254      6.776820  -3.584079   0.972908 -7.489384  -5.928822   \n",
       "119   -0.442183     -2.514271  -0.290649  -4.328217 -6.217115  -9.568502   \n",
       "120   -0.442183      3.313488   8.035329   0.507544  1.862736  10.703390   \n",
       "121   -0.442183      1.985238   5.489119  -3.664707  5.612908  15.269915   \n",
       "122   -0.442183      0.461619  -0.191204  -2.695194 -5.277949   8.487855   \n",
       "\n",
       "          MRK        NVO        NVS        PFE        ROG  inflation_change  \\\n",
       "0    3.440210  -7.714279   9.067089   5.443922  -0.188640            -0.655   \n",
       "1    7.359867  11.497419   3.537347   0.727651 -10.457790            -0.485   \n",
       "2   -0.638313  -8.792401  -2.711502  -6.329562   8.513136             0.096   \n",
       "3   -0.535372  -3.805087  -1.463219   3.722003   2.269287             0.552   \n",
       "4    4.655361   9.001745   1.272809   4.355584  17.540151             0.455   \n",
       "..        ...        ...        ...        ...        ...               ...   \n",
       "118 -2.549213   2.541749  -0.110227 -13.817335  16.968326             1.546   \n",
       "119 -1.089288   1.592445  -7.172811  -7.286115   5.451681             1.112   \n",
       "120  0.141189  12.873250   9.367574   0.566924  11.025813             0.160   \n",
       "121  9.289214   5.836894  16.334413  -4.681371  -1.517467             1.110   \n",
       "122 -4.382088  -3.967915  -6.161645  -2.237080  -2.162160             0.100   \n",
       "\n",
       "     unemp_change  treasury_yield_change  \n",
       "0            -0.2               0.069449  \n",
       "1             0.1              -0.026711  \n",
       "2            -0.1              -0.198409  \n",
       "3             0.0               0.169091  \n",
       "4            -0.2               0.371818  \n",
       "..            ...                    ...  \n",
       "118          -0.1              -0.274810  \n",
       "119           0.2              -0.084690  \n",
       "120          -0.1               0.215342  \n",
       "121          -0.1              -0.083799  \n",
       "122           0.3              -0.203043  \n",
       "\n",
       "[123 rows x 19 columns]"
      ]
     },
     "execution_count": 45,
     "metadata": {},
     "output_type": "execute_result"
    }
   ],
   "source": [
    "merged_df = data_ABBV.merge(data, on='Date', how='inner')\n",
    "merged_df"
   ]
  },
  {
   "cell_type": "code",
   "execution_count": 46,
   "metadata": {},
   "outputs": [
    {
     "data": {
      "text/plain": [
       "Index(['Date', 'ABBV', 'unemployment_rate', 'CPI', 'treasury_yield',\n",
       "       'GDP_growth', 'SP500_return', 'AZN', 'BMY', 'JNJ', 'LLY', 'MRK', 'NVO',\n",
       "       'NVS', 'PFE', 'ROG', 'inflation_change', 'unemp_change',\n",
       "       'treasury_yield_change'],\n",
       "      dtype='object')"
      ]
     },
     "execution_count": 46,
     "metadata": {},
     "output_type": "execute_result"
    }
   ],
   "source": [
    "merged_df.columns"
   ]
  },
  {
   "cell_type": "code",
   "execution_count": 47,
   "metadata": {},
   "outputs": [],
   "source": [
    "# Creating lagged variables\n",
    "tickers_plus_ABBV = ['ABBV', 'AZN', 'BMY', 'JNJ', 'LLY', 'MRK', 'NVO', 'NVS', 'PFE','ROG']\n",
    "covs = ['unemployment_rate', 'CPI', 'treasury_yield', 'GDP_growth', 'SP500_return', 'inflation_change', 'unemp_change', 'treasury_yield_change']\n",
    "period_covs = [1, 2, 3]\n",
    "period_returns = [1,2]\n",
    "\n",
    "merged_df, lagged_covs = create_lags_cov(merged_df, covs, period=period_covs)\n",
    "merged_df, lagged_tickers = create_lags_returns(merged_df, tickers_plus_ABBV, period= period_returns)"
   ]
  },
  {
   "cell_type": "code",
   "execution_count": 48,
   "metadata": {},
   "outputs": [],
   "source": [
    "# Creating dummy variables\n",
    "merged_df['Quater_dummy'] = 0\n",
    "merged_df['Quater_rippel'] = 0\n",
    "merged_df['Date'] = pd.to_datetime(merged_df['Date'])\n",
    "for index, row in merged_df.iterrows():\n",
    "    if row['Date'].month in [3, 6, 9, 12]:\n",
    "        merged_df.loc[index, 'Quater_dummy'] = 1\n",
    "    if row['Date'].month in [1, 4, 7, 10]:\n",
    "        merged_df.loc[index, 'Quater_dummy'] = 1"
   ]
  },
  {
   "cell_type": "code",
   "execution_count": 49,
   "metadata": {},
   "outputs": [
    {
     "data": {
      "text/plain": [
       "Index(['Date', 'ABBV', 'unemployment_rate', 'CPI', 'treasury_yield',\n",
       "       'GDP_growth', 'SP500_return', 'AZN', 'BMY', 'JNJ', 'LLY', 'MRK', 'NVO',\n",
       "       'NVS', 'PFE', 'ROG', 'inflation_change', 'unemp_change',\n",
       "       'treasury_yield_change', 'unemployment_rate_lag1',\n",
       "       'unemployment_rate_lag2', 'unemployment_rate_lag3', 'CPI_lag1',\n",
       "       'CPI_lag2', 'CPI_lag3', 'treasury_yield_lag1', 'treasury_yield_lag2',\n",
       "       'treasury_yield_lag3', 'GDP_growth_lag1', 'GDP_growth_lag2',\n",
       "       'GDP_growth_lag3', 'SP500_return_lag1', 'SP500_return_lag2',\n",
       "       'SP500_return_lag3', 'inflation_change_lag1', 'inflation_change_lag2',\n",
       "       'inflation_change_lag3', 'unemp_change_lag1', 'unemp_change_lag2',\n",
       "       'unemp_change_lag3', 'treasury_yield_change_lag1',\n",
       "       'treasury_yield_change_lag2', 'treasury_yield_change_lag3', 'ABBV_lag1',\n",
       "       'ABBV_lag2', 'AZN_lag1', 'AZN_lag2', 'BMY_lag1', 'BMY_lag2', 'JNJ_lag1',\n",
       "       'JNJ_lag2', 'LLY_lag1', 'LLY_lag2', 'MRK_lag1', 'MRK_lag2', 'NVO_lag1',\n",
       "       'NVO_lag2', 'NVS_lag1', 'NVS_lag2', 'PFE_lag1', 'PFE_lag2', 'ROG_lag1',\n",
       "       'ROG_lag2'],\n",
       "      dtype='object')"
      ]
     },
     "execution_count": 49,
     "metadata": {},
     "output_type": "execute_result"
    }
   ],
   "source": [
    "merged_df.columns"
   ]
  },
  {
   "attachments": {},
   "cell_type": "markdown",
   "metadata": {},
   "source": [
    "## 1. Macros Only"
   ]
  },
  {
   "cell_type": "code",
   "execution_count": 50,
   "metadata": {},
   "outputs": [],
   "source": [
    "to_exclude = []\n",
    "\n",
    "for t in tickers_plus_ABBV:\n",
    "    to_exclude.append(t)\n",
    "    to_exclude.append(f'{t}_lag1')\n",
    "    to_exclude.append(f'{t}_lag2')\n",
    "\n",
    "for covariate in covs:\n",
    "    to_exclude.append(covariate)\n",
    "\n",
    "to_exclude.append('Date')"
   ]
  },
  {
   "cell_type": "code",
   "execution_count": 51,
   "metadata": {},
   "outputs": [
    {
     "data": {
      "text/plain": [
       "['ABBV',\n",
       " 'ABBV_lag1',\n",
       " 'ABBV_lag2',\n",
       " 'AZN',\n",
       " 'AZN_lag1',\n",
       " 'AZN_lag2',\n",
       " 'BMY',\n",
       " 'BMY_lag1',\n",
       " 'BMY_lag2',\n",
       " 'JNJ',\n",
       " 'JNJ_lag1',\n",
       " 'JNJ_lag2',\n",
       " 'LLY',\n",
       " 'LLY_lag1',\n",
       " 'LLY_lag2',\n",
       " 'MRK',\n",
       " 'MRK_lag1',\n",
       " 'MRK_lag2',\n",
       " 'NVO',\n",
       " 'NVO_lag1',\n",
       " 'NVO_lag2',\n",
       " 'NVS',\n",
       " 'NVS_lag1',\n",
       " 'NVS_lag2',\n",
       " 'PFE',\n",
       " 'PFE_lag1',\n",
       " 'PFE_lag2',\n",
       " 'ROG',\n",
       " 'ROG_lag1',\n",
       " 'ROG_lag2',\n",
       " 'unemployment_rate',\n",
       " 'CPI',\n",
       " 'treasury_yield',\n",
       " 'GDP_growth',\n",
       " 'SP500_return',\n",
       " 'inflation_change',\n",
       " 'unemp_change',\n",
       " 'treasury_yield_change',\n",
       " 'Date']"
      ]
     },
     "execution_count": 51,
     "metadata": {},
     "output_type": "execute_result"
    }
   ],
   "source": [
    "to_exclude"
   ]
  },
  {
   "cell_type": "code",
   "execution_count": 58,
   "metadata": {},
   "outputs": [
    {
     "name": "stderr",
     "output_type": "stream",
     "text": [
      "/Users/lluisarull/opt/anaconda3/lib/python3.8/site-packages/statsmodels/regression/quantile_regression.py:191: IterationLimitWarning: Maximum number of iterations (1000) reached.\n",
      "  warnings.warn(\"Maximum number of iterations (\" + str(max_iter) +\n"
     ]
    },
    {
     "name": "stdout",
     "output_type": "stream",
     "text": [
      "ROG-1m-loss-ABBV: 4.372088516179196 \n",
      "\n",
      "ROG-3m-loss-ABBV: 5.077277267911996 \n",
      "\n",
      "ROG-6m-loss-ABBV: 6.578183454068367 \n",
      "\n",
      "ROG-9m-loss-ABBV: 3.266394882941529 \n",
      "\n",
      "ROG-12m-loss-ABBV: 2.7337800287346385 \n",
      "\n"
     ]
    }
   ],
   "source": [
    "# 1 month\n",
    "loss_1m = rolling_1m_forecast(merged_df, dates1m, t, alpha=0.05, columns_to_exclude= to_exclude)\n",
    "print(f'{t}-1m-loss-ABBV: {loss_1m} \\n')\n",
    "# 3 months\n",
    "loss_3m = rolling_3m_forecast(merged_df, dates3m, t, alpha=0.05, columns_to_exclude= to_exclude)\n",
    "print(f'{t}-3m-loss-ABBV: {loss_3m} \\n')\n",
    "# 6 months\n",
    "loss_6m = rolling_6m_forecast(merged_df, dates6m, t, alpha=0.05, columns_to_exclude= to_exclude)\n",
    "print(f'{t}-6m-loss-ABBV: {loss_6m} \\n')\n",
    "# 9 months\n",
    "loss_9m = rolling_9m_forecast(merged_df, dates9m, t, alpha=0.05, columns_to_exclude= to_exclude)\n",
    "print(f'{t}-9m-loss-ABBV: {loss_9m} \\n')\n",
    "# 12 months\n",
    "loss_12m = rolling_12m_forecast(merged_df, dates12m, t, alpha=0.05, columns_to_exclude= to_exclude)\n",
    "print(f'{t}-12m-loss-ABBV: {loss_12m} \\n')"
   ]
  },
  {
   "attachments": {},
   "cell_type": "markdown",
   "metadata": {},
   "source": [
    "## 2. Ticker data"
   ]
  },
  {
   "cell_type": "code",
   "execution_count": 59,
   "metadata": {},
   "outputs": [],
   "source": [
    "merged_df_stocks = merged_df.copy()\n",
    "to_exclude2 = []\n",
    "\n",
    "for covariate in covs:\n",
    "    to_exclude2.append(covariate)\n",
    "    to_exclude2.append(f'{covariate}_lag1')\n",
    "    to_exclude2.append(f'{covariate}_lag2')\n",
    "    to_exclude2.append(f'{covariate}_lag3')\n",
    "\n",
    "for t in tickers:\n",
    "    to_exclude2.append(t)\n",
    "\n",
    "to_exclude2.append('Date')"
   ]
  },
  {
   "cell_type": "code",
   "execution_count": 65,
   "metadata": {},
   "outputs": [
    {
     "name": "stdout",
     "output_type": "stream",
     "text": [
      "ROG-1m-loss-ABBV: 6.417290630882615 \n",
      "\n",
      "ROG-3m-loss-ABBV: 6.377780609659756 \n",
      "\n",
      "ROG-6m-loss-ABBV: 10.690886858689497 \n",
      "\n",
      "ROG-9m-loss-ABBV: 5.268007431563019 \n",
      "\n",
      "ROG-12m-loss-ABBV: 2.7337800287346385 \n",
      "\n"
     ]
    }
   ],
   "source": [
    "# 1 month\n",
    "loss_1m = rolling_1m_forecast(merged_df_stocks, dates1m, t, alpha=0.05, columns_to_exclude= to_exclude2)\n",
    "print(f'{t}-1m-loss-ABBV: {loss_1m} \\n')\n",
    "\n",
    "# 3 months\n",
    "loss_3m = rolling_1m_forecast(merged_df_stocks, dates3m, t, alpha=0.05, columns_to_exclude= to_exclude2)\n",
    "print(f'{t}-3m-loss-ABBV: {loss_3m} \\n')\n",
    "\n",
    "# 6 months\n",
    "loss_6m = rolling_6m_forecast(merged_df_stocks, dates6m, t, alpha=0.05, columns_to_exclude= to_exclude2)\n",
    "print(f'{t}-6m-loss-ABBV: {loss_6m} \\n')\n",
    "\n",
    "# 9 months\n",
    "loss_9m = rolling_9m_forecast(merged_df_stocks, dates9m, t, alpha=0.05, columns_to_exclude= to_exclude2)\n",
    "print(f'{t}-9m-loss-ABBV: {loss_9m} \\n')\n",
    "\n",
    "# 12 months\n",
    "loss_9m = rolling_12m_forecast(merged_df_stocks, dates12m, t, alpha=0.05, columns_to_exclude= to_exclude2)\n",
    "print(f'{t}-12m-loss-ABBV: {loss_12m} \\n')"
   ]
  },
  {
   "attachments": {},
   "cell_type": "markdown",
   "metadata": {},
   "source": [
    "## 3. All Covariates"
   ]
  },
  {
   "cell_type": "code",
   "execution_count": 67,
   "metadata": {},
   "outputs": [],
   "source": [
    "merged_df_covs = merged_df.copy()\n",
    "to_exclude3 = ['Date']\n",
    "\n",
    "for covariate in covs:\n",
    "    to_exclude3.append(covariate)\n",
    "\n",
    "for t in tickers:\n",
    "    to_exclude3.append(t)"
   ]
  },
  {
   "cell_type": "code",
   "execution_count": 68,
   "metadata": {},
   "outputs": [
    {
     "name": "stdout",
     "output_type": "stream",
     "text": [
      "ROG-1m-loss-ABBV: 7.280420646835054 \n",
      "\n",
      "ROG-3m-loss-ABBV: 8.554346630674502 \n",
      "\n",
      "ROG-6m-loss-ABBV: 11.599433799942863 \n",
      "\n",
      "ROG-9m-loss-ABBV: 9.888351333008542 \n",
      "\n",
      "ROG-12m-loss-ABBV: 7.768957805456391 \n",
      "\n"
     ]
    }
   ],
   "source": [
    "# 1 month\n",
    "loss_1m = rolling_1m_forecast(merged_df_covs, dates1m, t, alpha=0.05, columns_to_exclude= to_exclude3)\n",
    "print(f'{t}-1m-loss-ABBV: {loss_1m} \\n')\n",
    "\n",
    "# 3 month\n",
    "loss_3m = rolling_3m_forecast(merged_df_covs, dates3m, t, alpha=0.05, columns_to_exclude= to_exclude3)\n",
    "print(f'{t}-3m-loss-ABBV: {loss_3m} \\n')\n",
    "\n",
    "# 6 month\n",
    "loss_6m = rolling_6m_forecast(merged_df_covs, dates6m, t, alpha=0.05, columns_to_exclude= to_exclude3)\n",
    "print(f'{t}-6m-loss-ABBV: {loss_6m} \\n')\n",
    "\n",
    "# 9 month\n",
    "loss_9m = rolling_9m_forecast(merged_df_covs, dates9m, t, alpha=0.05, columns_to_exclude= to_exclude3)\n",
    "print(f'{t}-9m-loss-ABBV: {loss_9m} \\n')\n",
    "\n",
    "# 12 month\n",
    "loss_12m = rolling_12m_forecast(merged_df_covs, dates12m, t, alpha=0.05, columns_to_exclude= to_exclude3)\n",
    "print(f'{t}-12m-loss-ABBV: {loss_12m} \\n')"
   ]
  },
  {
   "attachments": {},
   "cell_type": "markdown",
   "metadata": {},
   "source": [
    "## QUANTILE REGRESSION VS BASELINE"
   ]
  },
  {
   "attachments": {},
   "cell_type": "markdown",
   "metadata": {},
   "source": [
    "### 1 month"
   ]
  },
  {
   "cell_type": "code",
   "execution_count": 93,
   "metadata": {},
   "outputs": [
    {
     "data": {
      "text/html": [
       "<div>\n",
       "<style scoped>\n",
       "    .dataframe tbody tr th:only-of-type {\n",
       "        vertical-align: middle;\n",
       "    }\n",
       "\n",
       "    .dataframe tbody tr th {\n",
       "        vertical-align: top;\n",
       "    }\n",
       "\n",
       "    .dataframe thead th {\n",
       "        text-align: right;\n",
       "    }\n",
       "</style>\n",
       "<table border=\"1\" class=\"dataframe\">\n",
       "  <thead>\n",
       "    <tr style=\"text-align: right;\">\n",
       "      <th></th>\n",
       "      <th>Ticker</th>\n",
       "      <th>Historical Quantile</th>\n",
       "      <th>QR Macro Only</th>\n",
       "      <th>QR Stock Only</th>\n",
       "      <th>QR All</th>\n",
       "    </tr>\n",
       "  </thead>\n",
       "  <tbody>\n",
       "    <tr>\n",
       "      <th>0</th>\n",
       "      <td>NVS</td>\n",
       "      <td>0.416</td>\n",
       "      <td>1.058</td>\n",
       "      <td>1.814</td>\n",
       "      <td>1.500</td>\n",
       "    </tr>\n",
       "    <tr>\n",
       "      <th>1</th>\n",
       "      <td>ABBV</td>\n",
       "      <td>0.587</td>\n",
       "      <td>4.372</td>\n",
       "      <td>6.417</td>\n",
       "      <td>6.417</td>\n",
       "    </tr>\n",
       "    <tr>\n",
       "      <th>2</th>\n",
       "      <td>AZN</td>\n",
       "      <td>0.725</td>\n",
       "      <td>0.605</td>\n",
       "      <td>1.123</td>\n",
       "      <td>0.897</td>\n",
       "    </tr>\n",
       "    <tr>\n",
       "      <th>3</th>\n",
       "      <td>BMY</td>\n",
       "      <td>0.620</td>\n",
       "      <td>0.635</td>\n",
       "      <td>1.832</td>\n",
       "      <td>0.715</td>\n",
       "    </tr>\n",
       "    <tr>\n",
       "      <th>4</th>\n",
       "      <td>JNJ</td>\n",
       "      <td>0.518</td>\n",
       "      <td>0.618</td>\n",
       "      <td>1.440</td>\n",
       "      <td>2.314</td>\n",
       "    </tr>\n",
       "    <tr>\n",
       "      <th>5</th>\n",
       "      <td>LLY</td>\n",
       "      <td>0.609</td>\n",
       "      <td>1.879</td>\n",
       "      <td>1.734</td>\n",
       "      <td>1.367</td>\n",
       "    </tr>\n",
       "    <tr>\n",
       "      <th>6</th>\n",
       "      <td>MRK</td>\n",
       "      <td>0.735</td>\n",
       "      <td>0.785</td>\n",
       "      <td>0.893</td>\n",
       "      <td>0.655</td>\n",
       "    </tr>\n",
       "    <tr>\n",
       "      <th>7</th>\n",
       "      <td>NVO</td>\n",
       "      <td>0.588</td>\n",
       "      <td>0.822</td>\n",
       "      <td>1.466</td>\n",
       "      <td>0.744</td>\n",
       "    </tr>\n",
       "    <tr>\n",
       "      <th>8</th>\n",
       "      <td>PFE</td>\n",
       "      <td>0.899</td>\n",
       "      <td>1.421</td>\n",
       "      <td>1.378</td>\n",
       "      <td>2.311</td>\n",
       "    </tr>\n",
       "    <tr>\n",
       "      <th>9</th>\n",
       "      <td>ROG</td>\n",
       "      <td>3.772</td>\n",
       "      <td>4.980</td>\n",
       "      <td>5.806</td>\n",
       "      <td>4.500</td>\n",
       "    </tr>\n",
       "  </tbody>\n",
       "</table>\n",
       "</div>"
      ],
      "text/plain": [
       "  Ticker  Historical Quantile  QR Macro Only  QR Stock Only  QR All\n",
       "0    NVS                0.416          1.058          1.814   1.500\n",
       "1   ABBV                0.587          4.372          6.417   6.417\n",
       "2    AZN                0.725          0.605          1.123   0.897\n",
       "3    BMY                0.620          0.635          1.832   0.715\n",
       "4    JNJ                0.518          0.618          1.440   2.314\n",
       "5    LLY                0.609          1.879          1.734   1.367\n",
       "6    MRK                0.735          0.785          0.893   0.655\n",
       "7    NVO                0.588          0.822          1.466   0.744\n",
       "8    PFE                0.899          1.421          1.378   2.311\n",
       "9    ROG                3.772          4.980          5.806   4.500"
      ]
     },
     "execution_count": 93,
     "metadata": {},
     "output_type": "execute_result"
    }
   ],
   "source": [
    "data_1m = {\n",
    "    'Ticker': ['NVS', 'ABBV', 'AZN', 'BMY', 'JNJ', 'LLY', 'MRK', 'NVO', 'PFE', 'ROG'],\n",
    "    'Historical Quantile': [0.416, 0.587, 0.725, 0.620, 0.518, 0.609, 0.735, 0.588, 0.899, 3.772],\n",
    "    'QR Macro Only': [1.058, 4.372, 0.605, 0.635, 0.618, 1.879, 0.785, 0.822, 1.421, 4.980],\n",
    "    'QR Stock Only': [1.814, 6.417, 1.123, 1.832, 1.440, 1.734, 0.893, 1.466, 1.378, 5.806],\n",
    "    'QR All': [ 1.500, 6.417, 0.897, 0.715, 2.314, 1.367, 0.655, 0.744, 2.311, 4.500]\n",
    "}\n",
    "\n",
    "df_1M= pd.DataFrame(data_1m)\n",
    "df_1M"
   ]
  },
  {
   "attachments": {},
   "cell_type": "markdown",
   "metadata": {},
   "source": [
    "### 3 months"
   ]
  },
  {
   "cell_type": "code",
   "execution_count": 94,
   "metadata": {},
   "outputs": [
    {
     "data": {
      "text/html": [
       "<div>\n",
       "<style scoped>\n",
       "    .dataframe tbody tr th:only-of-type {\n",
       "        vertical-align: middle;\n",
       "    }\n",
       "\n",
       "    .dataframe tbody tr th {\n",
       "        vertical-align: top;\n",
       "    }\n",
       "\n",
       "    .dataframe thead th {\n",
       "        text-align: right;\n",
       "    }\n",
       "</style>\n",
       "<table border=\"1\" class=\"dataframe\">\n",
       "  <thead>\n",
       "    <tr style=\"text-align: right;\">\n",
       "      <th></th>\n",
       "      <th>Ticker</th>\n",
       "      <th>Historical Quantile</th>\n",
       "      <th>QR Macro Only</th>\n",
       "      <th>QR Stock Only</th>\n",
       "      <th>QR All</th>\n",
       "    </tr>\n",
       "  </thead>\n",
       "  <tbody>\n",
       "    <tr>\n",
       "      <th>0</th>\n",
       "      <td>NVS</td>\n",
       "      <td>1.299</td>\n",
       "      <td>1.124</td>\n",
       "      <td>2.037</td>\n",
       "      <td>1.621</td>\n",
       "    </tr>\n",
       "    <tr>\n",
       "      <th>1</th>\n",
       "      <td>ABBV</td>\n",
       "      <td>1.731</td>\n",
       "      <td>5.077</td>\n",
       "      <td>6.378</td>\n",
       "      <td>8.554</td>\n",
       "    </tr>\n",
       "    <tr>\n",
       "      <th>2</th>\n",
       "      <td>AZN</td>\n",
       "      <td>2.164</td>\n",
       "      <td>0.592</td>\n",
       "      <td>1.214</td>\n",
       "      <td>0.914</td>\n",
       "    </tr>\n",
       "    <tr>\n",
       "      <th>3</th>\n",
       "      <td>BMY</td>\n",
       "      <td>1.873</td>\n",
       "      <td>0.649</td>\n",
       "      <td>2.200</td>\n",
       "      <td>0.751</td>\n",
       "    </tr>\n",
       "    <tr>\n",
       "      <th>4</th>\n",
       "      <td>JNJ</td>\n",
       "      <td>1.443</td>\n",
       "      <td>0.607</td>\n",
       "      <td>1.664</td>\n",
       "      <td>2.636</td>\n",
       "    </tr>\n",
       "    <tr>\n",
       "      <th>5</th>\n",
       "      <td>LLY</td>\n",
       "      <td>1.807</td>\n",
       "      <td>2.001</td>\n",
       "      <td>1.849</td>\n",
       "      <td>1.431</td>\n",
       "    </tr>\n",
       "    <tr>\n",
       "      <th>6</th>\n",
       "      <td>MRK</td>\n",
       "      <td>2.215</td>\n",
       "      <td>0.781</td>\n",
       "      <td>0.942</td>\n",
       "      <td>0.700</td>\n",
       "    </tr>\n",
       "    <tr>\n",
       "      <th>7</th>\n",
       "      <td>NVO</td>\n",
       "      <td>1.730</td>\n",
       "      <td>0.916</td>\n",
       "      <td>1.505</td>\n",
       "      <td>0.766</td>\n",
       "    </tr>\n",
       "    <tr>\n",
       "      <th>8</th>\n",
       "      <td>PFE</td>\n",
       "      <td>2.394</td>\n",
       "      <td>1.603</td>\n",
       "      <td>1.614</td>\n",
       "      <td>2.677</td>\n",
       "    </tr>\n",
       "    <tr>\n",
       "      <th>9</th>\n",
       "      <td>ROG</td>\n",
       "      <td>12.951</td>\n",
       "      <td>5.730</td>\n",
       "      <td>6.888</td>\n",
       "      <td>4.874</td>\n",
       "    </tr>\n",
       "  </tbody>\n",
       "</table>\n",
       "</div>"
      ],
      "text/plain": [
       "  Ticker  Historical Quantile  QR Macro Only  QR Stock Only  QR All\n",
       "0    NVS                1.299          1.124          2.037   1.621\n",
       "1   ABBV                1.731          5.077          6.378   8.554\n",
       "2    AZN                2.164          0.592          1.214   0.914\n",
       "3    BMY                1.873          0.649          2.200   0.751\n",
       "4    JNJ                1.443          0.607          1.664   2.636\n",
       "5    LLY                1.807          2.001          1.849   1.431\n",
       "6    MRK                2.215          0.781          0.942   0.700\n",
       "7    NVO                1.730          0.916          1.505   0.766\n",
       "8    PFE                2.394          1.603          1.614   2.677\n",
       "9    ROG               12.951          5.730          6.888   4.874"
      ]
     },
     "execution_count": 94,
     "metadata": {},
     "output_type": "execute_result"
    }
   ],
   "source": [
    "data_3m = {\n",
    "    'Ticker': ['NVS', 'ABBV', 'AZN', 'BMY', 'JNJ', 'LLY', 'MRK', 'NVO', 'PFE', 'ROG'],\n",
    "    'Historical Quantile': [1.299, 1.731, 2.164, 1.873, 1.443, 1.807, 2.215, 1.730, 2.394, 12.951],\n",
    "    'QR Macro Only': [1.124, 5.077, 0.592, 0.649, 0.607, 2.001, 0.781, 0.916, 1.603, 5.730],\n",
    "    'QR Stock Only': [2.037,  6.378, 1.214, 2.200, 1.664, 1.849, 0.942, 1.505, 1.614, 6.888],\n",
    "    'QR All': [1.621, 8.554, 0.914, 0.751, 2.636, 1.431, 0.700, 0.766, 2.677, 4.874]\n",
    "}\n",
    "\n",
    "df_3M = pd.DataFrame(data_3m)\n",
    "\n",
    "df_3M"
   ]
  },
  {
   "attachments": {},
   "cell_type": "markdown",
   "metadata": {},
   "source": [
    "### 6 months"
   ]
  },
  {
   "cell_type": "code",
   "execution_count": 95,
   "metadata": {},
   "outputs": [
    {
     "data": {
      "text/html": [
       "<div>\n",
       "<style scoped>\n",
       "    .dataframe tbody tr th:only-of-type {\n",
       "        vertical-align: middle;\n",
       "    }\n",
       "\n",
       "    .dataframe tbody tr th {\n",
       "        vertical-align: top;\n",
       "    }\n",
       "\n",
       "    .dataframe thead th {\n",
       "        text-align: right;\n",
       "    }\n",
       "</style>\n",
       "<table border=\"1\" class=\"dataframe\">\n",
       "  <thead>\n",
       "    <tr style=\"text-align: right;\">\n",
       "      <th></th>\n",
       "      <th>Ticker</th>\n",
       "      <th>Historical Quantile</th>\n",
       "      <th>QR Macro Only</th>\n",
       "      <th>QR Stock Only</th>\n",
       "      <th>QR All</th>\n",
       "    </tr>\n",
       "  </thead>\n",
       "  <tbody>\n",
       "    <tr>\n",
       "      <th>0</th>\n",
       "      <td>NVS</td>\n",
       "      <td>2.731</td>\n",
       "      <td>1.365</td>\n",
       "      <td>1.235</td>\n",
       "      <td>1.931</td>\n",
       "    </tr>\n",
       "    <tr>\n",
       "      <th>1</th>\n",
       "      <td>ABBV</td>\n",
       "      <td>3.991</td>\n",
       "      <td>6.578</td>\n",
       "      <td>10.691</td>\n",
       "      <td>11.599</td>\n",
       "    </tr>\n",
       "    <tr>\n",
       "      <th>2</th>\n",
       "      <td>AZN</td>\n",
       "      <td>5.725</td>\n",
       "      <td>0.611</td>\n",
       "      <td>1.497</td>\n",
       "      <td>1.052</td>\n",
       "    </tr>\n",
       "    <tr>\n",
       "      <th>3</th>\n",
       "      <td>BMY</td>\n",
       "      <td>4.406</td>\n",
       "      <td>0.672</td>\n",
       "      <td>1.515</td>\n",
       "      <td>0.556</td>\n",
       "    </tr>\n",
       "    <tr>\n",
       "      <th>4</th>\n",
       "      <td>JNJ</td>\n",
       "      <td>3.895</td>\n",
       "      <td>0.656</td>\n",
       "      <td>1.350</td>\n",
       "      <td>3.593</td>\n",
       "    </tr>\n",
       "    <tr>\n",
       "      <th>5</th>\n",
       "      <td>LLY</td>\n",
       "      <td>4.285</td>\n",
       "      <td>2.585</td>\n",
       "      <td>1.486</td>\n",
       "      <td>1.708</td>\n",
       "    </tr>\n",
       "    <tr>\n",
       "      <th>6</th>\n",
       "      <td>MRK</td>\n",
       "      <td>5.170</td>\n",
       "      <td>0.828</td>\n",
       "      <td>0.978</td>\n",
       "      <td>0.818</td>\n",
       "    </tr>\n",
       "    <tr>\n",
       "      <th>7</th>\n",
       "      <td>NVO</td>\n",
       "      <td>3.677</td>\n",
       "      <td>0.890</td>\n",
       "      <td>1.800</td>\n",
       "      <td>0.687</td>\n",
       "    </tr>\n",
       "    <tr>\n",
       "      <th>8</th>\n",
       "      <td>PFE</td>\n",
       "      <td>4.776</td>\n",
       "      <td>1.758</td>\n",
       "      <td>1.134</td>\n",
       "      <td>2.462</td>\n",
       "    </tr>\n",
       "    <tr>\n",
       "      <th>9</th>\n",
       "      <td>ROG</td>\n",
       "      <td>26.300</td>\n",
       "      <td>7.558</td>\n",
       "      <td>9.210</td>\n",
       "      <td>6.343</td>\n",
       "    </tr>\n",
       "  </tbody>\n",
       "</table>\n",
       "</div>"
      ],
      "text/plain": [
       "  Ticker  Historical Quantile  QR Macro Only  QR Stock Only  QR All\n",
       "0    NVS                2.731          1.365          1.235   1.931\n",
       "1   ABBV                3.991          6.578         10.691  11.599\n",
       "2    AZN                5.725          0.611          1.497   1.052\n",
       "3    BMY                4.406          0.672          1.515   0.556\n",
       "4    JNJ                3.895          0.656          1.350   3.593\n",
       "5    LLY                4.285          2.585          1.486   1.708\n",
       "6    MRK                5.170          0.828          0.978   0.818\n",
       "7    NVO                3.677          0.890          1.800   0.687\n",
       "8    PFE                4.776          1.758          1.134   2.462\n",
       "9    ROG               26.300          7.558          9.210   6.343"
      ]
     },
     "execution_count": 95,
     "metadata": {},
     "output_type": "execute_result"
    }
   ],
   "source": [
    "data_6m = {\n",
    "    'Ticker': ['NVS', 'ABBV', 'AZN', 'BMY', 'JNJ', 'LLY', 'MRK', 'NVO', 'PFE', 'ROG'],\n",
    "    'Historical Quantile': [2.731, 3.991, 5.725, 4.406, 3.895, 4.285, 5.170, 3.677, 4.776, 26.300],\n",
    "    'QR Macro Only': [1.365, 6.578, 0.611, 0.672, 0.656, 2.585, 0.828, 0.890, 1.758, 7.558],\n",
    "    'QR Stock Only': [1.235, 10.691, 1.497, 1.515, 1.350, 1.486, 0.978, 1.800, 1.134, 9.210],\n",
    "    'QR All': [1.931, 11.599, 1.052, 0.556, 3.593, 1.708, 0.818, 0.687, 2.462, 6.343]\n",
    "}\n",
    "\n",
    "df_6M = pd.DataFrame(data_6m)\n",
    "\n",
    "df_6M"
   ]
  },
  {
   "attachments": {},
   "cell_type": "markdown",
   "metadata": {},
   "source": [
    "### 9 months"
   ]
  },
  {
   "cell_type": "code",
   "execution_count": 96,
   "metadata": {},
   "outputs": [
    {
     "data": {
      "text/html": [
       "<div>\n",
       "<style scoped>\n",
       "    .dataframe tbody tr th:only-of-type {\n",
       "        vertical-align: middle;\n",
       "    }\n",
       "\n",
       "    .dataframe tbody tr th {\n",
       "        vertical-align: top;\n",
       "    }\n",
       "\n",
       "    .dataframe thead th {\n",
       "        text-align: right;\n",
       "    }\n",
       "</style>\n",
       "<table border=\"1\" class=\"dataframe\">\n",
       "  <thead>\n",
       "    <tr style=\"text-align: right;\">\n",
       "      <th></th>\n",
       "      <th>Ticker</th>\n",
       "      <th>Historical Quantile</th>\n",
       "      <th>QR Macro Only</th>\n",
       "      <th>QR Stock Only</th>\n",
       "      <th>QR All</th>\n",
       "    </tr>\n",
       "  </thead>\n",
       "  <tbody>\n",
       "    <tr>\n",
       "      <th>0</th>\n",
       "      <td>NVS</td>\n",
       "      <td>2.731</td>\n",
       "      <td>1.808</td>\n",
       "      <td>1.593</td>\n",
       "      <td>2.731</td>\n",
       "    </tr>\n",
       "    <tr>\n",
       "      <th>1</th>\n",
       "      <td>ABBV</td>\n",
       "      <td>3.991</td>\n",
       "      <td>3.266</td>\n",
       "      <td>5.268</td>\n",
       "      <td>9.888</td>\n",
       "    </tr>\n",
       "    <tr>\n",
       "      <th>2</th>\n",
       "      <td>AZN</td>\n",
       "      <td>5.725</td>\n",
       "      <td>0.494</td>\n",
       "      <td>2.093</td>\n",
       "      <td>1.211</td>\n",
       "    </tr>\n",
       "    <tr>\n",
       "      <th>3</th>\n",
       "      <td>BMY</td>\n",
       "      <td>4.406</td>\n",
       "      <td>0.589</td>\n",
       "      <td>2.075</td>\n",
       "      <td>0.309</td>\n",
       "    </tr>\n",
       "    <tr>\n",
       "      <th>4</th>\n",
       "      <td>JNJ</td>\n",
       "      <td>3.895</td>\n",
       "      <td>0.757</td>\n",
       "      <td>1.979</td>\n",
       "      <td>5.892</td>\n",
       "    </tr>\n",
       "    <tr>\n",
       "      <th>5</th>\n",
       "      <td>LLY</td>\n",
       "      <td>4.285</td>\n",
       "      <td>3.997</td>\n",
       "      <td>2.139</td>\n",
       "      <td>2.610</td>\n",
       "    </tr>\n",
       "    <tr>\n",
       "      <th>6</th>\n",
       "      <td>MRK</td>\n",
       "      <td>5.170</td>\n",
       "      <td>0.702</td>\n",
       "      <td>1.000</td>\n",
       "      <td>0.533</td>\n",
       "    </tr>\n",
       "    <tr>\n",
       "      <th>7</th>\n",
       "      <td>NVO</td>\n",
       "      <td>3.677</td>\n",
       "      <td>0.726</td>\n",
       "      <td>2.497</td>\n",
       "      <td>0.548</td>\n",
       "    </tr>\n",
       "    <tr>\n",
       "      <th>8</th>\n",
       "      <td>PFE</td>\n",
       "      <td>4.776</td>\n",
       "      <td>2.419</td>\n",
       "      <td>1.539</td>\n",
       "      <td>3.752</td>\n",
       "    </tr>\n",
       "    <tr>\n",
       "      <th>9</th>\n",
       "      <td>ROG</td>\n",
       "      <td>26.300</td>\n",
       "      <td>0.983</td>\n",
       "      <td>2.507</td>\n",
       "      <td>2.204</td>\n",
       "    </tr>\n",
       "  </tbody>\n",
       "</table>\n",
       "</div>"
      ],
      "text/plain": [
       "  Ticker  Historical Quantile  QR Macro Only  QR Stock Only  QR All\n",
       "0    NVS                2.731          1.808          1.593   2.731\n",
       "1   ABBV                3.991          3.266          5.268   9.888\n",
       "2    AZN                5.725          0.494          2.093   1.211\n",
       "3    BMY                4.406          0.589          2.075   0.309\n",
       "4    JNJ                3.895          0.757          1.979   5.892\n",
       "5    LLY                4.285          3.997          2.139   2.610\n",
       "6    MRK                5.170          0.702          1.000   0.533\n",
       "7    NVO                3.677          0.726          2.497   0.548\n",
       "8    PFE                4.776          2.419          1.539   3.752\n",
       "9    ROG               26.300          0.983          2.507   2.204"
      ]
     },
     "execution_count": 96,
     "metadata": {},
     "output_type": "execute_result"
    }
   ],
   "source": [
    "data_9m = {\n",
    "    'Ticker': ['NVS', 'ABBV', 'AZN', 'BMY', 'JNJ', 'LLY', 'MRK', 'NVO', 'PFE', 'ROG'],\n",
    "    'Historical Quantile': [2.731, 3.991, 5.725, 4.406, 3.895, 4.285, 5.170, 3.677, 4.776, 26.300],\n",
    "    'QR Macro Only': [1.808, 3.266, 0.494, 0.589, 0.757, 3.997, 0.702, 0.726, 2.419, 0.983],\n",
    "    'QR Stock Only': [1.593, 5.268, 2.093, 2.075, 1.979, 2.139, 1.000, 2.497, 1.539, 2.507],\n",
    "    'QR All': [2.731, 9.888, 1.211, 0.309, 5.892, 2.610, 0.533, 0.548, 3.752, 2.204]\n",
    "}\n",
    "\n",
    "df_9M = pd.DataFrame(data_9m)\n",
    "df_9M"
   ]
  },
  {
   "attachments": {},
   "cell_type": "markdown",
   "metadata": {},
   "source": [
    "### 12 months"
   ]
  },
  {
   "cell_type": "code",
   "execution_count": 97,
   "metadata": {},
   "outputs": [
    {
     "data": {
      "text/html": [
       "<div>\n",
       "<style scoped>\n",
       "    .dataframe tbody tr th:only-of-type {\n",
       "        vertical-align: middle;\n",
       "    }\n",
       "\n",
       "    .dataframe tbody tr th {\n",
       "        vertical-align: top;\n",
       "    }\n",
       "\n",
       "    .dataframe thead th {\n",
       "        text-align: right;\n",
       "    }\n",
       "</style>\n",
       "<table border=\"1\" class=\"dataframe\">\n",
       "  <thead>\n",
       "    <tr style=\"text-align: right;\">\n",
       "      <th></th>\n",
       "      <th>Ticker</th>\n",
       "      <th>Historical Quantile</th>\n",
       "      <th>QR Macro Only</th>\n",
       "      <th>QR Stock Only</th>\n",
       "      <th>QR All</th>\n",
       "    </tr>\n",
       "  </thead>\n",
       "  <tbody>\n",
       "    <tr>\n",
       "      <th>0</th>\n",
       "      <td>NVS</td>\n",
       "      <td>5.275</td>\n",
       "      <td>7.231</td>\n",
       "      <td>1.200</td>\n",
       "      <td>4.323</td>\n",
       "    </tr>\n",
       "    <tr>\n",
       "      <th>1</th>\n",
       "      <td>ABBV</td>\n",
       "      <td>7.109</td>\n",
       "      <td>2.734</td>\n",
       "      <td>2.733</td>\n",
       "      <td>7.768</td>\n",
       "    </tr>\n",
       "    <tr>\n",
       "      <th>2</th>\n",
       "      <td>AZN</td>\n",
       "      <td>8.276</td>\n",
       "      <td>1.977</td>\n",
       "      <td>0.427</td>\n",
       "      <td>0.461</td>\n",
       "    </tr>\n",
       "    <tr>\n",
       "      <th>3</th>\n",
       "      <td>BMY</td>\n",
       "      <td>7.670</td>\n",
       "      <td>2.356</td>\n",
       "      <td>0.788</td>\n",
       "      <td>0.574</td>\n",
       "    </tr>\n",
       "    <tr>\n",
       "      <th>4</th>\n",
       "      <td>JNJ</td>\n",
       "      <td>5.860</td>\n",
       "      <td>3.029</td>\n",
       "      <td>0.269</td>\n",
       "      <td>3.051</td>\n",
       "    </tr>\n",
       "    <tr>\n",
       "      <th>5</th>\n",
       "      <td>LLY</td>\n",
       "      <td>7.081</td>\n",
       "      <td>15.989</td>\n",
       "      <td>0.537</td>\n",
       "      <td>0.304</td>\n",
       "    </tr>\n",
       "    <tr>\n",
       "      <th>6</th>\n",
       "      <td>MRK</td>\n",
       "      <td>8.847</td>\n",
       "      <td>2.809</td>\n",
       "      <td>0.318</td>\n",
       "      <td>0.172</td>\n",
       "    </tr>\n",
       "    <tr>\n",
       "      <th>7</th>\n",
       "      <td>NVO</td>\n",
       "      <td>7.067</td>\n",
       "      <td>2.902</td>\n",
       "      <td>0.491</td>\n",
       "      <td>0.495</td>\n",
       "    </tr>\n",
       "    <tr>\n",
       "      <th>8</th>\n",
       "      <td>PFE</td>\n",
       "      <td>10.229</td>\n",
       "      <td>9.676</td>\n",
       "      <td>0.124</td>\n",
       "      <td>0.104</td>\n",
       "    </tr>\n",
       "    <tr>\n",
       "      <th>9</th>\n",
       "      <td>ROG</td>\n",
       "      <td>45.244</td>\n",
       "      <td>3.930</td>\n",
       "      <td>0.864</td>\n",
       "      <td>4.376</td>\n",
       "    </tr>\n",
       "  </tbody>\n",
       "</table>\n",
       "</div>"
      ],
      "text/plain": [
       "  Ticker  Historical Quantile  QR Macro Only  QR Stock Only  QR All\n",
       "0    NVS                5.275          7.231          1.200   4.323\n",
       "1   ABBV                7.109          2.734          2.733   7.768\n",
       "2    AZN                8.276          1.977          0.427   0.461\n",
       "3    BMY                7.670          2.356          0.788   0.574\n",
       "4    JNJ                5.860          3.029          0.269   3.051\n",
       "5    LLY                7.081         15.989          0.537   0.304\n",
       "6    MRK                8.847          2.809          0.318   0.172\n",
       "7    NVO                7.067          2.902          0.491   0.495\n",
       "8    PFE               10.229          9.676          0.124   0.104\n",
       "9    ROG               45.244          3.930          0.864   4.376"
      ]
     },
     "execution_count": 97,
     "metadata": {},
     "output_type": "execute_result"
    }
   ],
   "source": [
    "data_12m = {\n",
    "    'Ticker': ['NVS', 'ABBV', 'AZN', 'BMY', 'JNJ', 'LLY', 'MRK', 'NVO', 'PFE', 'ROG'],\n",
    "    'Historical Quantile': [5.275, 7.109, 8.276, 7.670, 5.860, 7.081, 8.847, 7.067, 10.229, 45.244],\n",
    "    'QR Macro Only': [7.231, 2.734, 1.977, 2.356, 3.029, 15.989, 2.809, 2.902, 9.676, 3.930],\n",
    "    'QR Stock Only': [1.200, 2.733, 0.427, 0.788, 0.269, 0.537, 0.318, 0.491, 0.124, 0.864],\n",
    "    'QR All': [4.323, 7.768, 0.461, 0.574, 3.051, 0.304, 0.172,0.495,0.104, 4.376]\n",
    "}\n",
    "\n",
    "df_12M = pd.DataFrame(data_12m)\n",
    "df_12M"
   ]
  }
 ],
 "metadata": {
  "kernelspec": {
   "display_name": "base",
   "language": "python",
   "name": "python3"
  },
  "language_info": {
   "codemirror_mode": {
    "name": "ipython",
    "version": 3
   },
   "file_extension": ".py",
   "mimetype": "text/x-python",
   "name": "python",
   "nbconvert_exporter": "python",
   "pygments_lexer": "ipython3",
   "version": "3.8.16"
  },
  "orig_nbformat": 4
 },
 "nbformat": 4,
 "nbformat_minor": 2
}
