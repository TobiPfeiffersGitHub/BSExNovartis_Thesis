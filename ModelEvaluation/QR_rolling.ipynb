{
 "cells": [
  {
   "cell_type": "code",
   "execution_count": 3,
   "metadata": {},
   "outputs": [],
   "source": [
    "import pandas as pd\n",
    "import numpy as np\n",
    "import statsmodels.api as sm\n",
    "import statsmodels.formula.api as smf\n",
    "from sklearn.model_selection import TimeSeriesSplit"
   ]
  },
  {
   "attachments": {},
   "cell_type": "markdown",
   "metadata": {},
   "source": [
    "## QUANTILE REGRESSION"
   ]
  },
  {
   "cell_type": "code",
   "execution_count": 5,
   "metadata": {},
   "outputs": [
    {
     "data": {
      "text/html": [
       "<div>\n",
       "<style scoped>\n",
       "    .dataframe tbody tr th:only-of-type {\n",
       "        vertical-align: middle;\n",
       "    }\n",
       "\n",
       "    .dataframe tbody tr th {\n",
       "        vertical-align: top;\n",
       "    }\n",
       "\n",
       "    .dataframe thead th {\n",
       "        text-align: right;\n",
       "    }\n",
       "</style>\n",
       "<table border=\"1\" class=\"dataframe\">\n",
       "  <thead>\n",
       "    <tr style=\"text-align: right;\">\n",
       "      <th></th>\n",
       "      <th>Date</th>\n",
       "      <th>unemployment_rate</th>\n",
       "      <th>CPI</th>\n",
       "      <th>treasury_yield</th>\n",
       "      <th>GDP_growth</th>\n",
       "      <th>SP500_return</th>\n",
       "      <th>AZN</th>\n",
       "      <th>BMY</th>\n",
       "      <th>JNJ</th>\n",
       "      <th>LLY</th>\n",
       "      <th>MRK</th>\n",
       "      <th>NVO</th>\n",
       "      <th>NVS</th>\n",
       "      <th>PFE</th>\n",
       "      <th>ROG</th>\n",
       "      <th>inflation_change</th>\n",
       "      <th>unemp_change</th>\n",
       "      <th>treasury_yield_change</th>\n",
       "    </tr>\n",
       "  </thead>\n",
       "  <tbody>\n",
       "    <tr>\n",
       "      <th>0</th>\n",
       "      <td>2000-02-01</td>\n",
       "      <td>4.1</td>\n",
       "      <td>170.000</td>\n",
       "      <td>6.661000</td>\n",
       "      <td>0.496560</td>\n",
       "      <td>-1.522563</td>\n",
       "      <td>-12.828964</td>\n",
       "      <td>-13.228004</td>\n",
       "      <td>-16.339821</td>\n",
       "      <td>-11.121498</td>\n",
       "      <td>-21.701151</td>\n",
       "      <td>2.220031</td>\n",
       "      <td>3.838386</td>\n",
       "      <td>-11.226228</td>\n",
       "      <td>54.440789</td>\n",
       "      <td>1.000</td>\n",
       "      <td>-0.1</td>\n",
       "      <td>-0.141500</td>\n",
       "    </tr>\n",
       "    <tr>\n",
       "      <th>1</th>\n",
       "      <td>2000-03-01</td>\n",
       "      <td>4.0</td>\n",
       "      <td>171.000</td>\n",
       "      <td>6.519500</td>\n",
       "      <td>0.511258</td>\n",
       "      <td>9.413333</td>\n",
       "      <td>22.264136</td>\n",
       "      <td>-0.218329</td>\n",
       "      <td>-2.079067</td>\n",
       "      <td>5.804243</td>\n",
       "      <td>0.913712</td>\n",
       "      <td>8.390897</td>\n",
       "      <td>6.420237</td>\n",
       "      <td>14.101954</td>\n",
       "      <td>6.922258</td>\n",
       "      <td>1.000</td>\n",
       "      <td>-0.1</td>\n",
       "      <td>-0.141500</td>\n",
       "    </tr>\n",
       "    <tr>\n",
       "      <th>2</th>\n",
       "      <td>2000-04-01</td>\n",
       "      <td>3.8</td>\n",
       "      <td>170.900</td>\n",
       "      <td>6.256522</td>\n",
       "      <td>1.327803</td>\n",
       "      <td>-3.266805</td>\n",
       "      <td>5.567379</td>\n",
       "      <td>-8.205683</td>\n",
       "      <td>17.437698</td>\n",
       "      <td>23.153694</td>\n",
       "      <td>12.400712</td>\n",
       "      <td>-0.097663</td>\n",
       "      <td>2.559423</td>\n",
       "      <td>15.213674</td>\n",
       "      <td>7.370518</td>\n",
       "      <td>-0.100</td>\n",
       "      <td>-0.2</td>\n",
       "      <td>-0.262978</td>\n",
       "    </tr>\n",
       "    <tr>\n",
       "      <th>3</th>\n",
       "      <td>2000-05-01</td>\n",
       "      <td>4.0</td>\n",
       "      <td>171.200</td>\n",
       "      <td>5.990526</td>\n",
       "      <td>-0.181797</td>\n",
       "      <td>-1.572223</td>\n",
       "      <td>-0.148357</td>\n",
       "      <td>5.395746</td>\n",
       "      <td>8.484832</td>\n",
       "      <td>-1.296597</td>\n",
       "      <td>7.374072</td>\n",
       "      <td>20.863985</td>\n",
       "      <td>5.169310</td>\n",
       "      <td>5.638019</td>\n",
       "      <td>-8.163265</td>\n",
       "      <td>0.300</td>\n",
       "      <td>0.2</td>\n",
       "      <td>-0.265995</td>\n",
       "    </tr>\n",
       "    <tr>\n",
       "      <th>4</th>\n",
       "      <td>2000-06-01</td>\n",
       "      <td>4.0</td>\n",
       "      <td>172.200</td>\n",
       "      <td>6.440455</td>\n",
       "      <td>0.305565</td>\n",
       "      <td>1.728613</td>\n",
       "      <td>10.549735</td>\n",
       "      <td>5.788826</td>\n",
       "      <td>14.239888</td>\n",
       "      <td>31.641749</td>\n",
       "      <td>3.078671</td>\n",
       "      <td>2.813690</td>\n",
       "      <td>8.474599</td>\n",
       "      <td>8.076012</td>\n",
       "      <td>13.131313</td>\n",
       "      <td>1.000</td>\n",
       "      <td>0.0</td>\n",
       "      <td>0.449928</td>\n",
       "    </tr>\n",
       "    <tr>\n",
       "      <th>...</th>\n",
       "      <td>...</td>\n",
       "      <td>...</td>\n",
       "      <td>...</td>\n",
       "      <td>...</td>\n",
       "      <td>...</td>\n",
       "      <td>...</td>\n",
       "      <td>...</td>\n",
       "      <td>...</td>\n",
       "      <td>...</td>\n",
       "      <td>...</td>\n",
       "      <td>...</td>\n",
       "      <td>...</td>\n",
       "      <td>...</td>\n",
       "      <td>...</td>\n",
       "      <td>...</td>\n",
       "      <td>...</td>\n",
       "      <td>...</td>\n",
       "      <td>...</td>\n",
       "    </tr>\n",
       "    <tr>\n",
       "      <th>275</th>\n",
       "      <td>2023-01-01</td>\n",
       "      <td>3.4</td>\n",
       "      <td>300.536</td>\n",
       "      <td>3.616190</td>\n",
       "      <td>0.390254</td>\n",
       "      <td>6.776820</td>\n",
       "      <td>-3.584079</td>\n",
       "      <td>0.972908</td>\n",
       "      <td>-7.489384</td>\n",
       "      <td>-5.928822</td>\n",
       "      <td>-2.549213</td>\n",
       "      <td>2.541749</td>\n",
       "      <td>-0.110227</td>\n",
       "      <td>-13.817335</td>\n",
       "      <td>16.968326</td>\n",
       "      <td>1.546</td>\n",
       "      <td>-0.1</td>\n",
       "      <td>-0.274810</td>\n",
       "    </tr>\n",
       "    <tr>\n",
       "      <th>276</th>\n",
       "      <td>2023-02-01</td>\n",
       "      <td>3.6</td>\n",
       "      <td>301.648</td>\n",
       "      <td>3.531500</td>\n",
       "      <td>-0.442183</td>\n",
       "      <td>-2.514271</td>\n",
       "      <td>-0.290649</td>\n",
       "      <td>-4.328217</td>\n",
       "      <td>-6.217115</td>\n",
       "      <td>-9.568502</td>\n",
       "      <td>-1.089288</td>\n",
       "      <td>1.592445</td>\n",
       "      <td>-7.172811</td>\n",
       "      <td>-7.286115</td>\n",
       "      <td>5.451681</td>\n",
       "      <td>1.112</td>\n",
       "      <td>0.2</td>\n",
       "      <td>-0.084690</td>\n",
       "    </tr>\n",
       "    <tr>\n",
       "      <th>277</th>\n",
       "      <td>2023-03-01</td>\n",
       "      <td>3.5</td>\n",
       "      <td>301.808</td>\n",
       "      <td>3.746842</td>\n",
       "      <td>-0.442183</td>\n",
       "      <td>3.313488</td>\n",
       "      <td>8.035329</td>\n",
       "      <td>0.507544</td>\n",
       "      <td>1.862736</td>\n",
       "      <td>10.703390</td>\n",
       "      <td>0.141189</td>\n",
       "      <td>12.873250</td>\n",
       "      <td>9.367574</td>\n",
       "      <td>0.566924</td>\n",
       "      <td>11.025813</td>\n",
       "      <td>0.160</td>\n",
       "      <td>-0.1</td>\n",
       "      <td>0.215342</td>\n",
       "    </tr>\n",
       "    <tr>\n",
       "      <th>278</th>\n",
       "      <td>2023-04-01</td>\n",
       "      <td>3.4</td>\n",
       "      <td>302.918</td>\n",
       "      <td>3.663043</td>\n",
       "      <td>-0.442183</td>\n",
       "      <td>1.985238</td>\n",
       "      <td>5.489119</td>\n",
       "      <td>-3.664707</td>\n",
       "      <td>5.612908</td>\n",
       "      <td>15.269915</td>\n",
       "      <td>9.289214</td>\n",
       "      <td>5.836894</td>\n",
       "      <td>16.334413</td>\n",
       "      <td>-4.681371</td>\n",
       "      <td>-1.517467</td>\n",
       "      <td>1.110</td>\n",
       "      <td>-0.1</td>\n",
       "      <td>-0.083799</td>\n",
       "    </tr>\n",
       "    <tr>\n",
       "      <th>279</th>\n",
       "      <td>2023-05-01</td>\n",
       "      <td>3.7</td>\n",
       "      <td>304.127</td>\n",
       "      <td>3.460000</td>\n",
       "      <td>-0.442183</td>\n",
       "      <td>0.461619</td>\n",
       "      <td>-0.191204</td>\n",
       "      <td>-2.695194</td>\n",
       "      <td>-5.277949</td>\n",
       "      <td>8.487855</td>\n",
       "      <td>-4.382088</td>\n",
       "      <td>-3.967915</td>\n",
       "      <td>-6.161645</td>\n",
       "      <td>-2.237080</td>\n",
       "      <td>-2.162160</td>\n",
       "      <td>0.100</td>\n",
       "      <td>0.3</td>\n",
       "      <td>-0.203043</td>\n",
       "    </tr>\n",
       "  </tbody>\n",
       "</table>\n",
       "<p>280 rows × 18 columns</p>\n",
       "</div>"
      ],
      "text/plain": [
       "           Date  unemployment_rate      CPI  treasury_yield  GDP_growth  \\\n",
       "0    2000-02-01                4.1  170.000        6.661000    0.496560   \n",
       "1    2000-03-01                4.0  171.000        6.519500    0.511258   \n",
       "2    2000-04-01                3.8  170.900        6.256522    1.327803   \n",
       "3    2000-05-01                4.0  171.200        5.990526   -0.181797   \n",
       "4    2000-06-01                4.0  172.200        6.440455    0.305565   \n",
       "..          ...                ...      ...             ...         ...   \n",
       "275  2023-01-01                3.4  300.536        3.616190    0.390254   \n",
       "276  2023-02-01                3.6  301.648        3.531500   -0.442183   \n",
       "277  2023-03-01                3.5  301.808        3.746842   -0.442183   \n",
       "278  2023-04-01                3.4  302.918        3.663043   -0.442183   \n",
       "279  2023-05-01                3.7  304.127        3.460000   -0.442183   \n",
       "\n",
       "     SP500_return        AZN        BMY        JNJ        LLY        MRK  \\\n",
       "0       -1.522563 -12.828964 -13.228004 -16.339821 -11.121498 -21.701151   \n",
       "1        9.413333  22.264136  -0.218329  -2.079067   5.804243   0.913712   \n",
       "2       -3.266805   5.567379  -8.205683  17.437698  23.153694  12.400712   \n",
       "3       -1.572223  -0.148357   5.395746   8.484832  -1.296597   7.374072   \n",
       "4        1.728613  10.549735   5.788826  14.239888  31.641749   3.078671   \n",
       "..            ...        ...        ...        ...        ...        ...   \n",
       "275      6.776820  -3.584079   0.972908  -7.489384  -5.928822  -2.549213   \n",
       "276     -2.514271  -0.290649  -4.328217  -6.217115  -9.568502  -1.089288   \n",
       "277      3.313488   8.035329   0.507544   1.862736  10.703390   0.141189   \n",
       "278      1.985238   5.489119  -3.664707   5.612908  15.269915   9.289214   \n",
       "279      0.461619  -0.191204  -2.695194  -5.277949   8.487855  -4.382088   \n",
       "\n",
       "           NVO        NVS        PFE        ROG  inflation_change  \\\n",
       "0     2.220031   3.838386 -11.226228  54.440789             1.000   \n",
       "1     8.390897   6.420237  14.101954   6.922258             1.000   \n",
       "2    -0.097663   2.559423  15.213674   7.370518            -0.100   \n",
       "3    20.863985   5.169310   5.638019  -8.163265             0.300   \n",
       "4     2.813690   8.474599   8.076012  13.131313             1.000   \n",
       "..         ...        ...        ...        ...               ...   \n",
       "275   2.541749  -0.110227 -13.817335  16.968326             1.546   \n",
       "276   1.592445  -7.172811  -7.286115   5.451681             1.112   \n",
       "277  12.873250   9.367574   0.566924  11.025813             0.160   \n",
       "278   5.836894  16.334413  -4.681371  -1.517467             1.110   \n",
       "279  -3.967915  -6.161645  -2.237080  -2.162160             0.100   \n",
       "\n",
       "     unemp_change  treasury_yield_change  \n",
       "0            -0.1              -0.141500  \n",
       "1            -0.1              -0.141500  \n",
       "2            -0.2              -0.262978  \n",
       "3             0.2              -0.265995  \n",
       "4             0.0               0.449928  \n",
       "..            ...                    ...  \n",
       "275          -0.1              -0.274810  \n",
       "276           0.2              -0.084690  \n",
       "277          -0.1               0.215342  \n",
       "278          -0.1              -0.083799  \n",
       "279           0.3              -0.203043  \n",
       "\n",
       "[280 rows x 18 columns]"
      ]
     },
     "execution_count": 5,
     "metadata": {},
     "output_type": "execute_result"
    }
   ],
   "source": [
    "data = pd.read_csv('non_nan_4.csv', )\n",
    "data"
   ]
  },
  {
   "cell_type": "code",
   "execution_count": 6,
   "metadata": {},
   "outputs": [],
   "source": [
    "def create_lags(data, tickers, covs, period):\n",
    "    lagged_covs = []  # List to store the names of lagged columns\n",
    "\n",
    "    for covariate in covs:\n",
    "        for i in period:\n",
    "            lagged_column_name = f'{covariate}_lag{i}'\n",
    "            data[lagged_column_name] = data[covariate].shift(i)\n",
    "            lagged_covs.append(lagged_column_name)\n",
    "\n",
    "    lagged_tickers = []  # List to store the names of lagged columns\n",
    "\n",
    "    for tick in tickers:\n",
    "        for i in period:\n",
    "            lagged_column_name = f'{tick}_lag{i}'\n",
    "            data[lagged_column_name] = data[tick].shift(i)\n",
    "            lagged_tickers.append(lagged_column_name)\n",
    "\n",
    "    data.dropna(inplace=True)\n",
    "    data = data.reset_index(drop=True)\n",
    "\n",
    "    return data, lagged_covs, lagged_tickers"
   ]
  },
  {
   "cell_type": "code",
   "execution_count": 7,
   "metadata": {},
   "outputs": [],
   "source": [
    "tickers = ['AZN', 'BMY', 'JNJ', 'LLY', 'MRK', 'NVO', 'NVS', 'PFE','ROG']\n",
    "covs = ['unemployment_rate', 'CPI', 'treasury_yield', 'GDP_growth', 'SP500_return', 'inflation_change', 'unemp_change', 'treasury_yield_change']\n",
    "period = [1, 2, 3]\n",
    "\n",
    "data, lagged_covs, lagged_tickers = create_lags(data, tickers, covs, period)"
   ]
  },
  {
   "cell_type": "code",
   "execution_count": 8,
   "metadata": {},
   "outputs": [
    {
     "data": {
      "text/html": [
       "<div>\n",
       "<style scoped>\n",
       "    .dataframe tbody tr th:only-of-type {\n",
       "        vertical-align: middle;\n",
       "    }\n",
       "\n",
       "    .dataframe tbody tr th {\n",
       "        vertical-align: top;\n",
       "    }\n",
       "\n",
       "    .dataframe thead th {\n",
       "        text-align: right;\n",
       "    }\n",
       "</style>\n",
       "<table border=\"1\" class=\"dataframe\">\n",
       "  <thead>\n",
       "    <tr style=\"text-align: right;\">\n",
       "      <th></th>\n",
       "      <th>Date</th>\n",
       "      <th>unemployment_rate</th>\n",
       "      <th>CPI</th>\n",
       "      <th>treasury_yield</th>\n",
       "      <th>GDP_growth</th>\n",
       "      <th>SP500_return</th>\n",
       "      <th>AZN</th>\n",
       "      <th>BMY</th>\n",
       "      <th>JNJ</th>\n",
       "      <th>LLY</th>\n",
       "      <th>...</th>\n",
       "      <th>NVO_lag3</th>\n",
       "      <th>NVS_lag1</th>\n",
       "      <th>NVS_lag2</th>\n",
       "      <th>NVS_lag3</th>\n",
       "      <th>PFE_lag1</th>\n",
       "      <th>PFE_lag2</th>\n",
       "      <th>PFE_lag3</th>\n",
       "      <th>ROG_lag1</th>\n",
       "      <th>ROG_lag2</th>\n",
       "      <th>ROG_lag3</th>\n",
       "    </tr>\n",
       "  </thead>\n",
       "  <tbody>\n",
       "    <tr>\n",
       "      <th>0</th>\n",
       "      <td>2000-05-01</td>\n",
       "      <td>4.0</td>\n",
       "      <td>171.200</td>\n",
       "      <td>5.990526</td>\n",
       "      <td>-0.181797</td>\n",
       "      <td>-1.572223</td>\n",
       "      <td>-0.148357</td>\n",
       "      <td>5.395746</td>\n",
       "      <td>8.484832</td>\n",
       "      <td>-1.296597</td>\n",
       "      <td>...</td>\n",
       "      <td>2.220031</td>\n",
       "      <td>2.559423</td>\n",
       "      <td>6.420237</td>\n",
       "      <td>3.838386</td>\n",
       "      <td>15.213674</td>\n",
       "      <td>14.101954</td>\n",
       "      <td>-11.226228</td>\n",
       "      <td>7.370518</td>\n",
       "      <td>6.922258</td>\n",
       "      <td>54.440789</td>\n",
       "    </tr>\n",
       "    <tr>\n",
       "      <th>1</th>\n",
       "      <td>2000-06-01</td>\n",
       "      <td>4.0</td>\n",
       "      <td>172.200</td>\n",
       "      <td>6.440455</td>\n",
       "      <td>0.305565</td>\n",
       "      <td>1.728613</td>\n",
       "      <td>10.549735</td>\n",
       "      <td>5.788826</td>\n",
       "      <td>14.239888</td>\n",
       "      <td>31.641749</td>\n",
       "      <td>...</td>\n",
       "      <td>8.390897</td>\n",
       "      <td>5.169310</td>\n",
       "      <td>2.559423</td>\n",
       "      <td>6.420237</td>\n",
       "      <td>5.638019</td>\n",
       "      <td>15.213674</td>\n",
       "      <td>14.101954</td>\n",
       "      <td>-8.163265</td>\n",
       "      <td>7.370518</td>\n",
       "      <td>6.922258</td>\n",
       "    </tr>\n",
       "    <tr>\n",
       "      <th>2</th>\n",
       "      <td>2000-07-01</td>\n",
       "      <td>4.0</td>\n",
       "      <td>172.700</td>\n",
       "      <td>6.097273</td>\n",
       "      <td>-0.653855</td>\n",
       "      <td>-1.338453</td>\n",
       "      <td>-8.064479</td>\n",
       "      <td>-11.373392</td>\n",
       "      <td>-8.650271</td>\n",
       "      <td>4.005041</td>\n",
       "      <td>...</td>\n",
       "      <td>-0.097663</td>\n",
       "      <td>8.474599</td>\n",
       "      <td>5.169310</td>\n",
       "      <td>2.559423</td>\n",
       "      <td>8.076012</td>\n",
       "      <td>5.638019</td>\n",
       "      <td>15.213674</td>\n",
       "      <td>13.131313</td>\n",
       "      <td>-8.163265</td>\n",
       "      <td>7.370518</td>\n",
       "    </tr>\n",
       "    <tr>\n",
       "      <th>3</th>\n",
       "      <td>2000-08-01</td>\n",
       "      <td>4.1</td>\n",
       "      <td>172.700</td>\n",
       "      <td>6.054000</td>\n",
       "      <td>0.795710</td>\n",
       "      <td>6.534124</td>\n",
       "      <td>6.578935</td>\n",
       "      <td>3.131245</td>\n",
       "      <td>-1.192113</td>\n",
       "      <td>-29.708189</td>\n",
       "      <td>...</td>\n",
       "      <td>20.863985</td>\n",
       "      <td>-3.593737</td>\n",
       "      <td>8.474599</td>\n",
       "      <td>5.169310</td>\n",
       "      <td>-9.635421</td>\n",
       "      <td>8.076012</td>\n",
       "      <td>5.638019</td>\n",
       "      <td>2.142857</td>\n",
       "      <td>13.131313</td>\n",
       "      <td>-8.163265</td>\n",
       "    </tr>\n",
       "    <tr>\n",
       "      <th>4</th>\n",
       "      <td>2000-09-01</td>\n",
       "      <td>3.9</td>\n",
       "      <td>173.600</td>\n",
       "      <td>5.826087</td>\n",
       "      <td>0.249670</td>\n",
       "      <td>-5.723123</td>\n",
       "      <td>15.363525</td>\n",
       "      <td>8.458631</td>\n",
       "      <td>2.496165</td>\n",
       "      <td>11.482185</td>\n",
       "      <td>...</td>\n",
       "      <td>2.813690</td>\n",
       "      <td>-1.944901</td>\n",
       "      <td>-3.593737</td>\n",
       "      <td>8.474599</td>\n",
       "      <td>-0.540360</td>\n",
       "      <td>-9.635421</td>\n",
       "      <td>8.076012</td>\n",
       "      <td>-2.447552</td>\n",
       "      <td>2.142857</td>\n",
       "      <td>13.131313</td>\n",
       "    </tr>\n",
       "    <tr>\n",
       "      <th>...</th>\n",
       "      <td>...</td>\n",
       "      <td>...</td>\n",
       "      <td>...</td>\n",
       "      <td>...</td>\n",
       "      <td>...</td>\n",
       "      <td>...</td>\n",
       "      <td>...</td>\n",
       "      <td>...</td>\n",
       "      <td>...</td>\n",
       "      <td>...</td>\n",
       "      <td>...</td>\n",
       "      <td>...</td>\n",
       "      <td>...</td>\n",
       "      <td>...</td>\n",
       "      <td>...</td>\n",
       "      <td>...</td>\n",
       "      <td>...</td>\n",
       "      <td>...</td>\n",
       "      <td>...</td>\n",
       "      <td>...</td>\n",
       "      <td>...</td>\n",
       "    </tr>\n",
       "    <tr>\n",
       "      <th>272</th>\n",
       "      <td>2023-01-01</td>\n",
       "      <td>3.4</td>\n",
       "      <td>300.536</td>\n",
       "      <td>3.616190</td>\n",
       "      <td>0.390254</td>\n",
       "      <td>6.776820</td>\n",
       "      <td>-3.584079</td>\n",
       "      <td>0.972908</td>\n",
       "      <td>-7.489384</td>\n",
       "      <td>-5.928822</td>\n",
       "      <td>...</td>\n",
       "      <td>9.244201</td>\n",
       "      <td>1.295221</td>\n",
       "      <td>10.390734</td>\n",
       "      <td>6.735944</td>\n",
       "      <td>3.090302</td>\n",
       "      <td>7.690670</td>\n",
       "      <td>6.375682</td>\n",
       "      <td>9.446071</td>\n",
       "      <td>-53.665066</td>\n",
       "      <td>-2.707956</td>\n",
       "    </tr>\n",
       "    <tr>\n",
       "      <th>273</th>\n",
       "      <td>2023-02-01</td>\n",
       "      <td>3.6</td>\n",
       "      <td>301.648</td>\n",
       "      <td>3.531500</td>\n",
       "      <td>-0.442183</td>\n",
       "      <td>-2.514271</td>\n",
       "      <td>-0.290649</td>\n",
       "      <td>-4.328217</td>\n",
       "      <td>-6.217115</td>\n",
       "      <td>-9.568502</td>\n",
       "      <td>...</td>\n",
       "      <td>14.479974</td>\n",
       "      <td>-0.110227</td>\n",
       "      <td>1.295221</td>\n",
       "      <td>10.390734</td>\n",
       "      <td>-13.817335</td>\n",
       "      <td>3.090302</td>\n",
       "      <td>7.690670</td>\n",
       "      <td>16.968326</td>\n",
       "      <td>9.446071</td>\n",
       "      <td>-53.665066</td>\n",
       "    </tr>\n",
       "    <tr>\n",
       "      <th>274</th>\n",
       "      <td>2023-03-01</td>\n",
       "      <td>3.5</td>\n",
       "      <td>301.808</td>\n",
       "      <td>3.746842</td>\n",
       "      <td>-0.442183</td>\n",
       "      <td>3.313488</td>\n",
       "      <td>8.035329</td>\n",
       "      <td>0.507544</td>\n",
       "      <td>1.862736</td>\n",
       "      <td>10.703390</td>\n",
       "      <td>...</td>\n",
       "      <td>8.619586</td>\n",
       "      <td>-7.172811</td>\n",
       "      <td>-0.110227</td>\n",
       "      <td>1.295221</td>\n",
       "      <td>-7.286115</td>\n",
       "      <td>-13.817335</td>\n",
       "      <td>3.090302</td>\n",
       "      <td>5.451681</td>\n",
       "      <td>16.968326</td>\n",
       "      <td>9.446071</td>\n",
       "    </tr>\n",
       "    <tr>\n",
       "      <th>275</th>\n",
       "      <td>2023-04-01</td>\n",
       "      <td>3.4</td>\n",
       "      <td>302.918</td>\n",
       "      <td>3.663043</td>\n",
       "      <td>-0.442183</td>\n",
       "      <td>1.985238</td>\n",
       "      <td>5.489119</td>\n",
       "      <td>-3.664707</td>\n",
       "      <td>5.612908</td>\n",
       "      <td>15.269915</td>\n",
       "      <td>...</td>\n",
       "      <td>2.541749</td>\n",
       "      <td>9.367574</td>\n",
       "      <td>-7.172811</td>\n",
       "      <td>-0.110227</td>\n",
       "      <td>0.566924</td>\n",
       "      <td>-7.286115</td>\n",
       "      <td>-13.817335</td>\n",
       "      <td>11.025813</td>\n",
       "      <td>5.451681</td>\n",
       "      <td>16.968326</td>\n",
       "    </tr>\n",
       "    <tr>\n",
       "      <th>276</th>\n",
       "      <td>2023-05-01</td>\n",
       "      <td>3.7</td>\n",
       "      <td>304.127</td>\n",
       "      <td>3.460000</td>\n",
       "      <td>-0.442183</td>\n",
       "      <td>0.461619</td>\n",
       "      <td>-0.191204</td>\n",
       "      <td>-2.695194</td>\n",
       "      <td>-5.277949</td>\n",
       "      <td>8.487855</td>\n",
       "      <td>...</td>\n",
       "      <td>1.592445</td>\n",
       "      <td>16.334413</td>\n",
       "      <td>9.367574</td>\n",
       "      <td>-7.172811</td>\n",
       "      <td>-4.681371</td>\n",
       "      <td>0.566924</td>\n",
       "      <td>-7.286115</td>\n",
       "      <td>-1.517467</td>\n",
       "      <td>11.025813</td>\n",
       "      <td>5.451681</td>\n",
       "    </tr>\n",
       "  </tbody>\n",
       "</table>\n",
       "<p>277 rows × 69 columns</p>\n",
       "</div>"
      ],
      "text/plain": [
       "           Date  unemployment_rate      CPI  treasury_yield  GDP_growth  \\\n",
       "0    2000-05-01                4.0  171.200        5.990526   -0.181797   \n",
       "1    2000-06-01                4.0  172.200        6.440455    0.305565   \n",
       "2    2000-07-01                4.0  172.700        6.097273   -0.653855   \n",
       "3    2000-08-01                4.1  172.700        6.054000    0.795710   \n",
       "4    2000-09-01                3.9  173.600        5.826087    0.249670   \n",
       "..          ...                ...      ...             ...         ...   \n",
       "272  2023-01-01                3.4  300.536        3.616190    0.390254   \n",
       "273  2023-02-01                3.6  301.648        3.531500   -0.442183   \n",
       "274  2023-03-01                3.5  301.808        3.746842   -0.442183   \n",
       "275  2023-04-01                3.4  302.918        3.663043   -0.442183   \n",
       "276  2023-05-01                3.7  304.127        3.460000   -0.442183   \n",
       "\n",
       "     SP500_return        AZN        BMY        JNJ        LLY  ...   NVO_lag3  \\\n",
       "0       -1.572223  -0.148357   5.395746   8.484832  -1.296597  ...   2.220031   \n",
       "1        1.728613  10.549735   5.788826  14.239888  31.641749  ...   8.390897   \n",
       "2       -1.338453  -8.064479 -11.373392  -8.650271   4.005041  ...  -0.097663   \n",
       "3        6.534124   6.578935   3.131245  -1.192113 -29.708189  ...  20.863985   \n",
       "4       -5.723123  15.363525   8.458631   2.496165  11.482185  ...   2.813690   \n",
       "..            ...        ...        ...        ...        ...  ...        ...   \n",
       "272      6.776820  -3.584079   0.972908  -7.489384  -5.928822  ...   9.244201   \n",
       "273     -2.514271  -0.290649  -4.328217  -6.217115  -9.568502  ...  14.479974   \n",
       "274      3.313488   8.035329   0.507544   1.862736  10.703390  ...   8.619586   \n",
       "275      1.985238   5.489119  -3.664707   5.612908  15.269915  ...   2.541749   \n",
       "276      0.461619  -0.191204  -2.695194  -5.277949   8.487855  ...   1.592445   \n",
       "\n",
       "      NVS_lag1   NVS_lag2   NVS_lag3   PFE_lag1   PFE_lag2   PFE_lag3  \\\n",
       "0     2.559423   6.420237   3.838386  15.213674  14.101954 -11.226228   \n",
       "1     5.169310   2.559423   6.420237   5.638019  15.213674  14.101954   \n",
       "2     8.474599   5.169310   2.559423   8.076012   5.638019  15.213674   \n",
       "3    -3.593737   8.474599   5.169310  -9.635421   8.076012   5.638019   \n",
       "4    -1.944901  -3.593737   8.474599  -0.540360  -9.635421   8.076012   \n",
       "..         ...        ...        ...        ...        ...        ...   \n",
       "272   1.295221  10.390734   6.735944   3.090302   7.690670   6.375682   \n",
       "273  -0.110227   1.295221  10.390734 -13.817335   3.090302   7.690670   \n",
       "274  -7.172811  -0.110227   1.295221  -7.286115 -13.817335   3.090302   \n",
       "275   9.367574  -7.172811  -0.110227   0.566924  -7.286115 -13.817335   \n",
       "276  16.334413   9.367574  -7.172811  -4.681371   0.566924  -7.286115   \n",
       "\n",
       "      ROG_lag1   ROG_lag2   ROG_lag3  \n",
       "0     7.370518   6.922258  54.440789  \n",
       "1    -8.163265   7.370518   6.922258  \n",
       "2    13.131313  -8.163265   7.370518  \n",
       "3     2.142857  13.131313  -8.163265  \n",
       "4    -2.447552   2.142857  13.131313  \n",
       "..         ...        ...        ...  \n",
       "272   9.446071 -53.665066  -2.707956  \n",
       "273  16.968326   9.446071 -53.665066  \n",
       "274   5.451681  16.968326   9.446071  \n",
       "275  11.025813   5.451681  16.968326  \n",
       "276  -1.517467  11.025813   5.451681  \n",
       "\n",
       "[277 rows x 69 columns]"
      ]
     },
     "execution_count": 8,
     "metadata": {},
     "output_type": "execute_result"
    }
   ],
   "source": [
    "data"
   ]
  },
  {
   "attachments": {},
   "cell_type": "markdown",
   "metadata": {},
   "source": [
    "### Defining tick_loss function"
   ]
  },
  {
   "cell_type": "code",
   "execution_count": 9,
   "metadata": {},
   "outputs": [],
   "source": [
    "def tick_loss(alpha, returns, var):\n",
    "    df = pd.DataFrame({'Return': returns, 'VaR': var})\n",
    "    df['Indicator'] = np.where(df['Return'] < df['VaR'], 1, 0)\n",
    "\n",
    "    t_loss = 0\n",
    "\n",
    "    for i in df.index:\n",
    "        t_loss += (\n",
    "            alpha * (df['Return'][i] - df['VaR'][i]) * (1 - df['Indicator'][i])\n",
    "            + (1 - alpha) * (df['VaR'][i] - df['Return'][i]) * df['Indicator'][i]\n",
    "        )\n",
    "\n",
    "    return t_loss"
   ]
  },
  {
   "attachments": {},
   "cell_type": "markdown",
   "metadata": {},
   "source": [
    "### 1-step-ahead VaR: 1 month"
   ]
  },
  {
   "cell_type": "code",
   "execution_count": 10,
   "metadata": {},
   "outputs": [],
   "source": [
    "def rolling_1m_forecast(data, dates, ticker, alpha):\n",
    "\n",
    "    t_loss = 0\n",
    "    dta = data.copy()\n",
    "\n",
    "    for d in dates:\n",
    "        train_df = dta[dta.Date <= d]\n",
    "        test_df = dta[dta.Date > d]\n",
    "        test_df = test_df.reset_index(drop=True)\n",
    "\n",
    "        X_train = train_df.drop(columns=[ticker, 'Date'])\n",
    "        y_train = train_df[ticker]\n",
    "\n",
    "        X_test = test_df.drop(columns=[ticker, 'Date'])\n",
    "        X_test = X_test.iloc[0]\n",
    "        y_test = test_df[ticker]\n",
    "\n",
    "        quantreg = sm.QuantReg(y_train, X_train)\n",
    "        quantreg_results = quantreg.fit(q=alpha)\n",
    "\n",
    "        VaR_forecast = quantreg_results.predict(X_test)\n",
    "\n",
    "        r = y_test[0]\n",
    "        loss = tick_loss(alpha, r, VaR_forecast)\n",
    "\n",
    "        t_loss += loss\n",
    "\n",
    "    t_loss = t_loss/12\n",
    "\n",
    "    return t_loss  "
   ]
  },
  {
   "cell_type": "code",
   "execution_count": 11,
   "metadata": {},
   "outputs": [],
   "source": [
    "dates1m = ['2022-05-01', '2022-06-01', '2022-07-01', '2022-08-01', '2022-09-01', '2022-10-01', '2022-11-01', '2022-12-01', '2023-01-01', '2023-02-01', '2023-03-01', '2023-04-01']"
   ]
  },
  {
   "cell_type": "code",
   "execution_count": 12,
   "metadata": {},
   "outputs": [
    {
     "name": "stderr",
     "output_type": "stream",
     "text": [
      "/Users/lluisarull/opt/anaconda3/lib/python3.8/site-packages/statsmodels/regression/quantile_regression.py:191: IterationLimitWarning: Maximum number of iterations (1000) reached.\n",
      "  warnings.warn(\"Maximum number of iterations (\" + str(max_iter) +\n"
     ]
    },
    {
     "name": "stdout",
     "output_type": "stream",
     "text": [
      "AZN: 0.9188584337762072\n"
     ]
    },
    {
     "name": "stderr",
     "output_type": "stream",
     "text": [
      "/Users/lluisarull/opt/anaconda3/lib/python3.8/site-packages/statsmodels/regression/quantile_regression.py:191: IterationLimitWarning: Maximum number of iterations (1000) reached.\n",
      "  warnings.warn(\"Maximum number of iterations (\" + str(max_iter) +\n",
      "/Users/lluisarull/opt/anaconda3/lib/python3.8/site-packages/statsmodels/regression/quantile_regression.py:191: IterationLimitWarning: Maximum number of iterations (1000) reached.\n",
      "  warnings.warn(\"Maximum number of iterations (\" + str(max_iter) +\n",
      "/Users/lluisarull/opt/anaconda3/lib/python3.8/site-packages/statsmodels/regression/quantile_regression.py:191: IterationLimitWarning: Maximum number of iterations (1000) reached.\n",
      "  warnings.warn(\"Maximum number of iterations (\" + str(max_iter) +\n",
      "/Users/lluisarull/opt/anaconda3/lib/python3.8/site-packages/statsmodels/regression/quantile_regression.py:191: IterationLimitWarning: Maximum number of iterations (1000) reached.\n",
      "  warnings.warn(\"Maximum number of iterations (\" + str(max_iter) +\n",
      "/Users/lluisarull/opt/anaconda3/lib/python3.8/site-packages/statsmodels/regression/quantile_regression.py:191: IterationLimitWarning: Maximum number of iterations (1000) reached.\n",
      "  warnings.warn(\"Maximum number of iterations (\" + str(max_iter) +\n"
     ]
    },
    {
     "name": "stdout",
     "output_type": "stream",
     "text": [
      "BMY: 0.5640033475614191\n"
     ]
    },
    {
     "name": "stderr",
     "output_type": "stream",
     "text": [
      "/Users/lluisarull/opt/anaconda3/lib/python3.8/site-packages/statsmodels/regression/quantile_regression.py:191: IterationLimitWarning: Maximum number of iterations (1000) reached.\n",
      "  warnings.warn(\"Maximum number of iterations (\" + str(max_iter) +\n",
      "/Users/lluisarull/opt/anaconda3/lib/python3.8/site-packages/statsmodels/regression/quantile_regression.py:191: IterationLimitWarning: Maximum number of iterations (1000) reached.\n",
      "  warnings.warn(\"Maximum number of iterations (\" + str(max_iter) +\n"
     ]
    },
    {
     "name": "stdout",
     "output_type": "stream",
     "text": [
      "JNJ: 0.77330935386026\n",
      "LLY: 0.38019830316269093\n"
     ]
    },
    {
     "name": "stderr",
     "output_type": "stream",
     "text": [
      "/Users/lluisarull/opt/anaconda3/lib/python3.8/site-packages/statsmodels/regression/quantile_regression.py:191: IterationLimitWarning: Maximum number of iterations (1000) reached.\n",
      "  warnings.warn(\"Maximum number of iterations (\" + str(max_iter) +\n",
      "/Users/lluisarull/opt/anaconda3/lib/python3.8/site-packages/statsmodels/regression/quantile_regression.py:191: IterationLimitWarning: Maximum number of iterations (1000) reached.\n",
      "  warnings.warn(\"Maximum number of iterations (\" + str(max_iter) +\n",
      "/Users/lluisarull/opt/anaconda3/lib/python3.8/site-packages/statsmodels/regression/quantile_regression.py:191: IterationLimitWarning: Maximum number of iterations (1000) reached.\n",
      "  warnings.warn(\"Maximum number of iterations (\" + str(max_iter) +\n"
     ]
    },
    {
     "name": "stdout",
     "output_type": "stream",
     "text": [
      "MRK: 0.7009559022485864\n"
     ]
    },
    {
     "name": "stderr",
     "output_type": "stream",
     "text": [
      "/Users/lluisarull/opt/anaconda3/lib/python3.8/site-packages/statsmodels/regression/quantile_regression.py:191: IterationLimitWarning: Maximum number of iterations (1000) reached.\n",
      "  warnings.warn(\"Maximum number of iterations (\" + str(max_iter) +\n"
     ]
    },
    {
     "name": "stdout",
     "output_type": "stream",
     "text": [
      "NVO: 1.5186452512956368\n",
      "NVS: 1.0024847249001598\n",
      "PFE: 1.04254996710358\n",
      "ROG: 4.841139747957954\n"
     ]
    }
   ],
   "source": [
    "for t in tickers:\n",
    "    loss = rolling_1m_forecast(data, dates1m, t, 0.05)\n",
    "    print(f'{t}: {loss}')"
   ]
  },
  {
   "cell_type": "code",
   "execution_count": 13,
   "metadata": {},
   "outputs": [],
   "source": [
    "d='2022-05-01'\n",
    "train_df = data[data.Date <= d]\n",
    "test_df = data[data.Date > d]\n",
    "test_df = test_df.reset_index(drop=True)\n",
    "\n",
    "X_train = train_df.drop(columns=['NVS', 'Date'])\n",
    "y_train = train_df['NVS']\n",
    "\n",
    "X_test = test_df.drop(columns=['NVS', 'Date'])\n",
    "y_test = test_df['NVS']\n",
    "\n",
    "quantreg = sm.QuantReg(y_train, X_train)\n",
    "quantreg_results = quantreg.fit(q=0.05)\n",
    "\n",
    "VaR_forecast = quantreg_results.predict(X_test)"
   ]
  },
  {
   "cell_type": "code",
   "execution_count": 14,
   "metadata": {},
   "outputs": [
    {
     "name": "stdout",
     "output_type": "stream",
     "text": [
      "<class 'pandas.core.series.Series'>\n"
     ]
    },
    {
     "data": {
      "text/plain": [
       "0     -3.403468\n",
       "1     -5.824003\n",
       "2    -11.405746\n",
       "3     -4.605742\n",
       "4     -0.408990\n",
       "5     -1.440417\n",
       "6     -4.489651\n",
       "7    -19.651154\n",
       "8    -14.154497\n",
       "9     -1.559925\n",
       "10    -7.813986\n",
       "11   -14.589936\n",
       "dtype: float64"
      ]
     },
     "execution_count": 14,
     "metadata": {},
     "output_type": "execute_result"
    }
   ],
   "source": [
    "print(type(VaR_forecast))\n",
    "VaR_forecast"
   ]
  },
  {
   "attachments": {},
   "cell_type": "markdown",
   "metadata": {},
   "source": [
    "### 3-step-ahead VaR: 3 months"
   ]
  },
  {
   "cell_type": "code",
   "execution_count": 15,
   "metadata": {},
   "outputs": [],
   "source": [
    "def rolling_3m_forecast(data, dates, ticker, alpha):\n",
    "\n",
    "    t_loss = 0\n",
    "    dta = data.copy()\n",
    "\n",
    "    for d in dates:\n",
    "        train_df = dta[dta.Date <= d]\n",
    "        test_df = dta[dta.Date > d]\n",
    "        test_df = test_df.reset_index(drop=True)\n",
    "\n",
    "        X_train = train_df.drop(columns=[ticker, 'Date'])\n",
    "        y_train = train_df[ticker]\n",
    "\n",
    "        X_test = test_df.drop(columns=[ticker, 'Date'])\n",
    "        X_test = X_test.iloc[0]\n",
    "        y_test = test_df[ticker]\n",
    "\n",
    "        quantreg = sm.QuantReg(y_train, X_train)\n",
    "        quantreg_results = quantreg.fit(q=alpha)\n",
    "\n",
    "        VaR_forecast = quantreg_results.predict(X_test)\n",
    "\n",
    "        r = y_test[0]\n",
    "        loss = tick_loss(alpha, r, VaR_forecast)\n",
    "\n",
    "        t_loss += loss\n",
    "\n",
    "    t_loss = t_loss/10\n",
    "\n",
    "    return t_loss  "
   ]
  },
  {
   "cell_type": "code",
   "execution_count": 16,
   "metadata": {},
   "outputs": [],
   "source": [
    "dates3m = ['2022-05-01', '2022-06-01', '2022-07-01', '2022-08-01', '2022-09-01', '2022-10-01', '2022-11-01', '2022-12-01', '2023-01-01', '2023-02-01']"
   ]
  },
  {
   "cell_type": "code",
   "execution_count": 17,
   "metadata": {},
   "outputs": [
    {
     "name": "stderr",
     "output_type": "stream",
     "text": [
      "/Users/lluisarull/opt/anaconda3/lib/python3.8/site-packages/statsmodels/regression/quantile_regression.py:191: IterationLimitWarning: Maximum number of iterations (1000) reached.\n",
      "  warnings.warn(\"Maximum number of iterations (\" + str(max_iter) +\n"
     ]
    },
    {
     "name": "stdout",
     "output_type": "stream",
     "text": [
      "AZN: 1.0173735756126532\n"
     ]
    },
    {
     "name": "stderr",
     "output_type": "stream",
     "text": [
      "/Users/lluisarull/opt/anaconda3/lib/python3.8/site-packages/statsmodels/regression/quantile_regression.py:191: IterationLimitWarning: Maximum number of iterations (1000) reached.\n",
      "  warnings.warn(\"Maximum number of iterations (\" + str(max_iter) +\n",
      "/Users/lluisarull/opt/anaconda3/lib/python3.8/site-packages/statsmodels/regression/quantile_regression.py:191: IterationLimitWarning: Maximum number of iterations (1000) reached.\n",
      "  warnings.warn(\"Maximum number of iterations (\" + str(max_iter) +\n",
      "/Users/lluisarull/opt/anaconda3/lib/python3.8/site-packages/statsmodels/regression/quantile_regression.py:191: IterationLimitWarning: Maximum number of iterations (1000) reached.\n",
      "  warnings.warn(\"Maximum number of iterations (\" + str(max_iter) +\n",
      "/Users/lluisarull/opt/anaconda3/lib/python3.8/site-packages/statsmodels/regression/quantile_regression.py:191: IterationLimitWarning: Maximum number of iterations (1000) reached.\n",
      "  warnings.warn(\"Maximum number of iterations (\" + str(max_iter) +\n"
     ]
    },
    {
     "name": "stdout",
     "output_type": "stream",
     "text": [
      "BMY: 0.6042375901941596\n"
     ]
    },
    {
     "name": "stderr",
     "output_type": "stream",
     "text": [
      "/Users/lluisarull/opt/anaconda3/lib/python3.8/site-packages/statsmodels/regression/quantile_regression.py:191: IterationLimitWarning: Maximum number of iterations (1000) reached.\n",
      "  warnings.warn(\"Maximum number of iterations (\" + str(max_iter) +\n",
      "/Users/lluisarull/opt/anaconda3/lib/python3.8/site-packages/statsmodels/regression/quantile_regression.py:191: IterationLimitWarning: Maximum number of iterations (1000) reached.\n",
      "  warnings.warn(\"Maximum number of iterations (\" + str(max_iter) +\n"
     ]
    },
    {
     "name": "stdout",
     "output_type": "stream",
     "text": [
      "JNJ: 0.8822143952936482\n",
      "LLY: 0.2887010225306154\n"
     ]
    },
    {
     "name": "stderr",
     "output_type": "stream",
     "text": [
      "/Users/lluisarull/opt/anaconda3/lib/python3.8/site-packages/statsmodels/regression/quantile_regression.py:191: IterationLimitWarning: Maximum number of iterations (1000) reached.\n",
      "  warnings.warn(\"Maximum number of iterations (\" + str(max_iter) +\n",
      "/Users/lluisarull/opt/anaconda3/lib/python3.8/site-packages/statsmodels/regression/quantile_regression.py:191: IterationLimitWarning: Maximum number of iterations (1000) reached.\n",
      "  warnings.warn(\"Maximum number of iterations (\" + str(max_iter) +\n",
      "/Users/lluisarull/opt/anaconda3/lib/python3.8/site-packages/statsmodels/regression/quantile_regression.py:191: IterationLimitWarning: Maximum number of iterations (1000) reached.\n",
      "  warnings.warn(\"Maximum number of iterations (\" + str(max_iter) +\n"
     ]
    },
    {
     "name": "stdout",
     "output_type": "stream",
     "text": [
      "MRK: 0.8026611776677084\n"
     ]
    },
    {
     "name": "stderr",
     "output_type": "stream",
     "text": [
      "/Users/lluisarull/opt/anaconda3/lib/python3.8/site-packages/statsmodels/regression/quantile_regression.py:191: IterationLimitWarning: Maximum number of iterations (1000) reached.\n",
      "  warnings.warn(\"Maximum number of iterations (\" + str(max_iter) +\n"
     ]
    },
    {
     "name": "stdout",
     "output_type": "stream",
     "text": [
      "NVO: 1.2700829669248423\n",
      "NVS: 1.0521797777370427\n",
      "PFE: 1.1026535485891293\n",
      "ROG: 4.817047425074099\n"
     ]
    }
   ],
   "source": [
    "for t in tickers:\n",
    "    loss = rolling_3m_forecast(data, dates3m, t, 0.05)\n",
    "    print(f'{t}: {loss}')"
   ]
  },
  {
   "attachments": {},
   "cell_type": "markdown",
   "metadata": {},
   "source": [
    "### 6-step-ahead VaR: 6 months"
   ]
  },
  {
   "cell_type": "code",
   "execution_count": 18,
   "metadata": {},
   "outputs": [],
   "source": [
    "def rolling_6m_forecast(data, dates, ticker, alpha):\n",
    "\n",
    "    t_loss = 0\n",
    "    dta = data.copy()\n",
    "\n",
    "    for d in dates:\n",
    "        train_df = dta[dta.Date <= d]\n",
    "        test_df = dta[dta.Date > d]\n",
    "        test_df = test_df.reset_index(drop=True)\n",
    "\n",
    "        X_train = train_df.drop(columns=[ticker, 'Date'])\n",
    "        y_train = train_df[ticker]\n",
    "\n",
    "        X_test = test_df.drop(columns=[ticker, 'Date'])\n",
    "        X_test = X_test.iloc[0]\n",
    "        y_test = test_df[ticker]\n",
    "\n",
    "        quantreg = sm.QuantReg(y_train, X_train)\n",
    "        quantreg_results = quantreg.fit(q=alpha)\n",
    "\n",
    "        VaR_forecast = quantreg_results.predict(X_test)\n",
    "\n",
    "        r = y_test[0]\n",
    "        loss = tick_loss(alpha, r, VaR_forecast)\n",
    "\n",
    "        t_loss += loss\n",
    "\n",
    "    t_loss = t_loss/7\n",
    "\n",
    "    return t_loss  "
   ]
  },
  {
   "cell_type": "code",
   "execution_count": 19,
   "metadata": {},
   "outputs": [],
   "source": [
    "dates6m = ['2022-05-01', '2022-06-01', '2022-07-01', '2022-08-01', '2022-09-01', '2022-10-01', '2022-11-01']"
   ]
  },
  {
   "cell_type": "code",
   "execution_count": 20,
   "metadata": {},
   "outputs": [
    {
     "name": "stdout",
     "output_type": "stream",
     "text": [
      "AZN: 1.0848589678006804\n"
     ]
    },
    {
     "name": "stderr",
     "output_type": "stream",
     "text": [
      "/Users/lluisarull/opt/anaconda3/lib/python3.8/site-packages/statsmodels/regression/quantile_regression.py:191: IterationLimitWarning: Maximum number of iterations (1000) reached.\n",
      "  warnings.warn(\"Maximum number of iterations (\" + str(max_iter) +\n",
      "/Users/lluisarull/opt/anaconda3/lib/python3.8/site-packages/statsmodels/regression/quantile_regression.py:191: IterationLimitWarning: Maximum number of iterations (1000) reached.\n",
      "  warnings.warn(\"Maximum number of iterations (\" + str(max_iter) +\n",
      "/Users/lluisarull/opt/anaconda3/lib/python3.8/site-packages/statsmodels/regression/quantile_regression.py:191: IterationLimitWarning: Maximum number of iterations (1000) reached.\n",
      "  warnings.warn(\"Maximum number of iterations (\" + str(max_iter) +\n"
     ]
    },
    {
     "name": "stdout",
     "output_type": "stream",
     "text": [
      "BMY: 0.7024537971230377\n"
     ]
    },
    {
     "name": "stderr",
     "output_type": "stream",
     "text": [
      "/Users/lluisarull/opt/anaconda3/lib/python3.8/site-packages/statsmodels/regression/quantile_regression.py:191: IterationLimitWarning: Maximum number of iterations (1000) reached.\n",
      "  warnings.warn(\"Maximum number of iterations (\" + str(max_iter) +\n"
     ]
    },
    {
     "name": "stdout",
     "output_type": "stream",
     "text": [
      "JNJ: 0.36379446167053425\n",
      "LLY: 0.3014703641791335\n"
     ]
    },
    {
     "name": "stderr",
     "output_type": "stream",
     "text": [
      "/Users/lluisarull/opt/anaconda3/lib/python3.8/site-packages/statsmodels/regression/quantile_regression.py:191: IterationLimitWarning: Maximum number of iterations (1000) reached.\n",
      "  warnings.warn(\"Maximum number of iterations (\" + str(max_iter) +\n",
      "/Users/lluisarull/opt/anaconda3/lib/python3.8/site-packages/statsmodels/regression/quantile_regression.py:191: IterationLimitWarning: Maximum number of iterations (1000) reached.\n",
      "  warnings.warn(\"Maximum number of iterations (\" + str(max_iter) +\n"
     ]
    },
    {
     "name": "stdout",
     "output_type": "stream",
     "text": [
      "MRK: 0.9898418026424336\n"
     ]
    },
    {
     "name": "stderr",
     "output_type": "stream",
     "text": [
      "/Users/lluisarull/opt/anaconda3/lib/python3.8/site-packages/statsmodels/regression/quantile_regression.py:191: IterationLimitWarning: Maximum number of iterations (1000) reached.\n",
      "  warnings.warn(\"Maximum number of iterations (\" + str(max_iter) +\n"
     ]
    },
    {
     "name": "stdout",
     "output_type": "stream",
     "text": [
      "NVO: 1.561466083479276\n",
      "NVS: 1.2643260324118286\n",
      "PFE: 0.20048866423216744\n",
      "ROG: 6.409458408721784\n"
     ]
    }
   ],
   "source": [
    "for t in tickers:\n",
    "    loss = rolling_6m_forecast(data, dates6m, t, 0.05)\n",
    "    print(f'{t}: {loss}')"
   ]
  },
  {
   "attachments": {},
   "cell_type": "markdown",
   "metadata": {},
   "source": [
    "### 9-step-ahead VaR: 9 months"
   ]
  },
  {
   "cell_type": "code",
   "execution_count": 21,
   "metadata": {},
   "outputs": [],
   "source": [
    "def rolling_9m_forecast(data, dates, ticker, alpha):\n",
    "\n",
    "    t_loss = 0\n",
    "    dta = data.copy()\n",
    "\n",
    "    for d in dates:\n",
    "        train_df = dta[dta.Date <= d]\n",
    "        test_df = dta[dta.Date > d]\n",
    "        test_df = test_df.reset_index(drop=True)\n",
    "\n",
    "        X_train = train_df.drop(columns=[ticker, 'Date'])\n",
    "        y_train = train_df[ticker]\n",
    "\n",
    "        X_test = test_df.drop(columns=[ticker, 'Date'])\n",
    "        X_test = X_test.iloc[0]\n",
    "        y_test = test_df[ticker]\n",
    "\n",
    "        quantreg = sm.QuantReg(y_train, X_train)\n",
    "        quantreg_results = quantreg.fit(q=alpha)\n",
    "\n",
    "        VaR_forecast = quantreg_results.predict(X_test)\n",
    "\n",
    "        r = y_test[0]\n",
    "        loss = tick_loss(alpha, r, VaR_forecast)\n",
    "\n",
    "        t_loss += loss\n",
    "\n",
    "    t_loss = t_loss/4\n",
    "\n",
    "    return t_loss  "
   ]
  },
  {
   "cell_type": "code",
   "execution_count": 22,
   "metadata": {},
   "outputs": [],
   "source": [
    "dates9m = ['2022-05-01', '2022-06-01', '2022-07-01', '2022-08-01']"
   ]
  },
  {
   "cell_type": "code",
   "execution_count": 23,
   "metadata": {},
   "outputs": [
    {
     "name": "stdout",
     "output_type": "stream",
     "text": [
      "AZN: 0.951457564712485\n"
     ]
    },
    {
     "name": "stderr",
     "output_type": "stream",
     "text": [
      "/Users/lluisarull/opt/anaconda3/lib/python3.8/site-packages/statsmodels/regression/quantile_regression.py:191: IterationLimitWarning: Maximum number of iterations (1000) reached.\n",
      "  warnings.warn(\"Maximum number of iterations (\" + str(max_iter) +\n",
      "/Users/lluisarull/opt/anaconda3/lib/python3.8/site-packages/statsmodels/regression/quantile_regression.py:191: IterationLimitWarning: Maximum number of iterations (1000) reached.\n",
      "  warnings.warn(\"Maximum number of iterations (\" + str(max_iter) +\n"
     ]
    },
    {
     "name": "stdout",
     "output_type": "stream",
     "text": [
      "BMY: 0.7584554524298539\n"
     ]
    },
    {
     "name": "stderr",
     "output_type": "stream",
     "text": [
      "/Users/lluisarull/opt/anaconda3/lib/python3.8/site-packages/statsmodels/regression/quantile_regression.py:191: IterationLimitWarning: Maximum number of iterations (1000) reached.\n",
      "  warnings.warn(\"Maximum number of iterations (\" + str(max_iter) +\n"
     ]
    },
    {
     "name": "stdout",
     "output_type": "stream",
     "text": [
      "JNJ: 0.3454076778567384\n",
      "LLY: 0.36781202171984734\n"
     ]
    },
    {
     "name": "stderr",
     "output_type": "stream",
     "text": [
      "/Users/lluisarull/opt/anaconda3/lib/python3.8/site-packages/statsmodels/regression/quantile_regression.py:191: IterationLimitWarning: Maximum number of iterations (1000) reached.\n",
      "  warnings.warn(\"Maximum number of iterations (\" + str(max_iter) +\n",
      "/Users/lluisarull/opt/anaconda3/lib/python3.8/site-packages/statsmodels/regression/quantile_regression.py:191: IterationLimitWarning: Maximum number of iterations (1000) reached.\n",
      "  warnings.warn(\"Maximum number of iterations (\" + str(max_iter) +\n"
     ]
    },
    {
     "name": "stdout",
     "output_type": "stream",
     "text": [
      "MRK: 0.7117757290884085\n",
      "NVO: 1.8917314978646262\n",
      "NVS: 1.9059747560683196\n",
      "PFE: 0.16116027454173176\n",
      "ROG: 1.043805133808879\n"
     ]
    }
   ],
   "source": [
    "for t in tickers:\n",
    "    loss = rolling_9m_forecast(data, dates9m, t, 0.05)\n",
    "    print(f'{t}: {loss}')"
   ]
  },
  {
   "attachments": {},
   "cell_type": "markdown",
   "metadata": {},
   "source": [
    "### 12-step-ahead VaR: 12 months"
   ]
  },
  {
   "cell_type": "code",
   "execution_count": 24,
   "metadata": {},
   "outputs": [],
   "source": [
    "def rolling_12m_forecast(data, dates, ticker, alpha):\n",
    "\n",
    "    t_loss = 0\n",
    "    dta = data.copy()\n",
    "\n",
    "    for d in dates:\n",
    "        train_df = dta[dta.Date <= d]\n",
    "        test_df = dta[dta.Date > d]\n",
    "        test_df = test_df.reset_index(drop=True)\n",
    "\n",
    "        X_train = train_df.drop(columns=[ticker, 'Date'])\n",
    "        y_train = train_df[ticker]\n",
    "\n",
    "        X_test = test_df.drop(columns=[ticker, 'Date'])\n",
    "        X_test = X_test.iloc[0]\n",
    "        y_test = test_df[ticker]\n",
    "\n",
    "        quantreg = sm.QuantReg(y_train, X_train)\n",
    "        quantreg_results = quantreg.fit(q=alpha)\n",
    "\n",
    "        VaR_forecast = quantreg_results.predict(X_test)\n",
    "\n",
    "        r = y_test[0]\n",
    "        loss = tick_loss(alpha, r, VaR_forecast)\n",
    "\n",
    "        t_loss += loss\n",
    "\n",
    "    t_loss = t_loss/1\n",
    "\n",
    "    return t_loss  "
   ]
  },
  {
   "cell_type": "code",
   "execution_count": 25,
   "metadata": {},
   "outputs": [],
   "source": [
    "dates12m = ['2022-05-01']"
   ]
  },
  {
   "cell_type": "code",
   "execution_count": 26,
   "metadata": {},
   "outputs": [
    {
     "name": "stdout",
     "output_type": "stream",
     "text": [
      "AZN: 0.8499547839654987\n"
     ]
    },
    {
     "name": "stderr",
     "output_type": "stream",
     "text": [
      "/Users/lluisarull/opt/anaconda3/lib/python3.8/site-packages/statsmodels/regression/quantile_regression.py:191: IterationLimitWarning: Maximum number of iterations (1000) reached.\n",
      "  warnings.warn(\"Maximum number of iterations (\" + str(max_iter) +\n"
     ]
    },
    {
     "name": "stdout",
     "output_type": "stream",
     "text": [
      "BMY: 1.1665385900696297\n",
      "JNJ: 0.45816672947207915\n",
      "LLY: 0.20257883379957967\n"
     ]
    },
    {
     "name": "stderr",
     "output_type": "stream",
     "text": [
      "/Users/lluisarull/opt/anaconda3/lib/python3.8/site-packages/statsmodels/regression/quantile_regression.py:191: IterationLimitWarning: Maximum number of iterations (1000) reached.\n",
      "  warnings.warn(\"Maximum number of iterations (\" + str(max_iter) +\n"
     ]
    },
    {
     "name": "stdout",
     "output_type": "stream",
     "text": [
      "MRK: 0.5724836643794061\n",
      "NVO: 1.0353095049570613\n",
      "NVS: 3.4628816251498193\n",
      "PFE: 0.21259675008240803\n",
      "ROG: 0.5644800968365005\n"
     ]
    }
   ],
   "source": [
    "for t in tickers:\n",
    "    loss = rolling_12m_forecast(data, dates12m, t, 0.05)\n",
    "    print(f'{t}: {loss}')"
   ]
  },
  {
   "attachments": {},
   "cell_type": "markdown",
   "metadata": {},
   "source": [
    "### ABBV case"
   ]
  },
  {
   "cell_type": "code",
   "execution_count": 35,
   "metadata": {},
   "outputs": [],
   "source": [
    "data2 = pd.read_csv('monthly_data.csv')"
   ]
  },
  {
   "cell_type": "code",
   "execution_count": 38,
   "metadata": {},
   "outputs": [
    {
     "data": {
      "text/html": [
       "<div>\n",
       "<style scoped>\n",
       "    .dataframe tbody tr th:only-of-type {\n",
       "        vertical-align: middle;\n",
       "    }\n",
       "\n",
       "    .dataframe tbody tr th {\n",
       "        vertical-align: top;\n",
       "    }\n",
       "\n",
       "    .dataframe thead th {\n",
       "        text-align: right;\n",
       "    }\n",
       "</style>\n",
       "<table border=\"1\" class=\"dataframe\">\n",
       "  <thead>\n",
       "    <tr style=\"text-align: right;\">\n",
       "      <th></th>\n",
       "      <th>Date</th>\n",
       "      <th>ABBV</th>\n",
       "    </tr>\n",
       "  </thead>\n",
       "  <tbody>\n",
       "    <tr>\n",
       "      <th>0</th>\n",
       "      <td>2000-01-01</td>\n",
       "      <td>NaN</td>\n",
       "    </tr>\n",
       "    <tr>\n",
       "      <th>1</th>\n",
       "      <td>2000-02-01</td>\n",
       "      <td>NaN</td>\n",
       "    </tr>\n",
       "    <tr>\n",
       "      <th>2</th>\n",
       "      <td>2000-03-01</td>\n",
       "      <td>NaN</td>\n",
       "    </tr>\n",
       "    <tr>\n",
       "      <th>3</th>\n",
       "      <td>2000-04-01</td>\n",
       "      <td>NaN</td>\n",
       "    </tr>\n",
       "    <tr>\n",
       "      <th>4</th>\n",
       "      <td>2000-05-01</td>\n",
       "      <td>NaN</td>\n",
       "    </tr>\n",
       "    <tr>\n",
       "      <th>...</th>\n",
       "      <td>...</td>\n",
       "      <td>...</td>\n",
       "    </tr>\n",
       "    <tr>\n",
       "      <th>278</th>\n",
       "      <td>2023-03-01</td>\n",
       "      <td>3.554254</td>\n",
       "    </tr>\n",
       "    <tr>\n",
       "      <th>279</th>\n",
       "      <td>2023-04-01</td>\n",
       "      <td>-5.176628</td>\n",
       "    </tr>\n",
       "    <tr>\n",
       "      <th>280</th>\n",
       "      <td>2023-05-01</td>\n",
       "      <td>-7.868480</td>\n",
       "    </tr>\n",
       "    <tr>\n",
       "      <th>281</th>\n",
       "      <td>2023-06-01</td>\n",
       "      <td>NaN</td>\n",
       "    </tr>\n",
       "    <tr>\n",
       "      <th>282</th>\n",
       "      <td>2023-07-01</td>\n",
       "      <td>NaN</td>\n",
       "    </tr>\n",
       "  </tbody>\n",
       "</table>\n",
       "<p>283 rows × 2 columns</p>\n",
       "</div>"
      ],
      "text/plain": [
       "           Date      ABBV\n",
       "0    2000-01-01       NaN\n",
       "1    2000-02-01       NaN\n",
       "2    2000-03-01       NaN\n",
       "3    2000-04-01       NaN\n",
       "4    2000-05-01       NaN\n",
       "..          ...       ...\n",
       "278  2023-03-01  3.554254\n",
       "279  2023-04-01 -5.176628\n",
       "280  2023-05-01 -7.868480\n",
       "281  2023-06-01       NaN\n",
       "282  2023-07-01       NaN\n",
       "\n",
       "[283 rows x 2 columns]"
      ]
     },
     "execution_count": 38,
     "metadata": {},
     "output_type": "execute_result"
    }
   ],
   "source": [
    "data2 = data2[['Date', 'ABBV']]\n",
    "data2"
   ]
  },
  {
   "cell_type": "code",
   "execution_count": 39,
   "metadata": {},
   "outputs": [
    {
     "data": {
      "text/html": [
       "<div>\n",
       "<style scoped>\n",
       "    .dataframe tbody tr th:only-of-type {\n",
       "        vertical-align: middle;\n",
       "    }\n",
       "\n",
       "    .dataframe tbody tr th {\n",
       "        vertical-align: top;\n",
       "    }\n",
       "\n",
       "    .dataframe thead th {\n",
       "        text-align: right;\n",
       "    }\n",
       "</style>\n",
       "<table border=\"1\" class=\"dataframe\">\n",
       "  <thead>\n",
       "    <tr style=\"text-align: right;\">\n",
       "      <th></th>\n",
       "      <th>Date</th>\n",
       "      <th>ABBV</th>\n",
       "    </tr>\n",
       "  </thead>\n",
       "  <tbody>\n",
       "    <tr>\n",
       "      <th>158</th>\n",
       "      <td>2013-03-01</td>\n",
       "      <td>10.455062</td>\n",
       "    </tr>\n",
       "    <tr>\n",
       "      <th>159</th>\n",
       "      <td>2013-04-01</td>\n",
       "      <td>12.922975</td>\n",
       "    </tr>\n",
       "    <tr>\n",
       "      <th>160</th>\n",
       "      <td>2013-05-01</td>\n",
       "      <td>-6.438455</td>\n",
       "    </tr>\n",
       "    <tr>\n",
       "      <th>161</th>\n",
       "      <td>2013-06-01</td>\n",
       "      <td>-3.162299</td>\n",
       "    </tr>\n",
       "    <tr>\n",
       "      <th>162</th>\n",
       "      <td>2013-07-01</td>\n",
       "      <td>10.014486</td>\n",
       "    </tr>\n",
       "    <tr>\n",
       "      <th>...</th>\n",
       "      <td>...</td>\n",
       "      <td>...</td>\n",
       "    </tr>\n",
       "    <tr>\n",
       "      <th>276</th>\n",
       "      <td>2023-01-01</td>\n",
       "      <td>-8.576205</td>\n",
       "    </tr>\n",
       "    <tr>\n",
       "      <th>277</th>\n",
       "      <td>2023-02-01</td>\n",
       "      <td>5.152609</td>\n",
       "    </tr>\n",
       "    <tr>\n",
       "      <th>278</th>\n",
       "      <td>2023-03-01</td>\n",
       "      <td>3.554254</td>\n",
       "    </tr>\n",
       "    <tr>\n",
       "      <th>279</th>\n",
       "      <td>2023-04-01</td>\n",
       "      <td>-5.176628</td>\n",
       "    </tr>\n",
       "    <tr>\n",
       "      <th>280</th>\n",
       "      <td>2023-05-01</td>\n",
       "      <td>-7.868480</td>\n",
       "    </tr>\n",
       "  </tbody>\n",
       "</table>\n",
       "<p>123 rows × 2 columns</p>\n",
       "</div>"
      ],
      "text/plain": [
       "           Date       ABBV\n",
       "158  2013-03-01  10.455062\n",
       "159  2013-04-01  12.922975\n",
       "160  2013-05-01  -6.438455\n",
       "161  2013-06-01  -3.162299\n",
       "162  2013-07-01  10.014486\n",
       "..          ...        ...\n",
       "276  2023-01-01  -8.576205\n",
       "277  2023-02-01   5.152609\n",
       "278  2023-03-01   3.554254\n",
       "279  2023-04-01  -5.176628\n",
       "280  2023-05-01  -7.868480\n",
       "\n",
       "[123 rows x 2 columns]"
      ]
     },
     "execution_count": 39,
     "metadata": {},
     "output_type": "execute_result"
    }
   ],
   "source": [
    "data2 = data2.dropna()\n",
    "data2"
   ]
  },
  {
   "cell_type": "code",
   "execution_count": 42,
   "metadata": {},
   "outputs": [],
   "source": [
    "data = pd.read_csv('non_nan_4.csv')"
   ]
  },
  {
   "cell_type": "code",
   "execution_count": 43,
   "metadata": {},
   "outputs": [
    {
     "data": {
      "text/html": [
       "<div>\n",
       "<style scoped>\n",
       "    .dataframe tbody tr th:only-of-type {\n",
       "        vertical-align: middle;\n",
       "    }\n",
       "\n",
       "    .dataframe tbody tr th {\n",
       "        vertical-align: top;\n",
       "    }\n",
       "\n",
       "    .dataframe thead th {\n",
       "        text-align: right;\n",
       "    }\n",
       "</style>\n",
       "<table border=\"1\" class=\"dataframe\">\n",
       "  <thead>\n",
       "    <tr style=\"text-align: right;\">\n",
       "      <th></th>\n",
       "      <th>Date</th>\n",
       "      <th>ABBV</th>\n",
       "      <th>unemployment_rate</th>\n",
       "      <th>CPI</th>\n",
       "      <th>treasury_yield</th>\n",
       "      <th>GDP_growth</th>\n",
       "      <th>SP500_return</th>\n",
       "      <th>AZN</th>\n",
       "      <th>BMY</th>\n",
       "      <th>JNJ</th>\n",
       "      <th>LLY</th>\n",
       "      <th>MRK</th>\n",
       "      <th>NVO</th>\n",
       "      <th>NVS</th>\n",
       "      <th>PFE</th>\n",
       "      <th>ROG</th>\n",
       "      <th>inflation_change</th>\n",
       "      <th>unemp_change</th>\n",
       "      <th>treasury_yield_change</th>\n",
       "    </tr>\n",
       "  </thead>\n",
       "  <tbody>\n",
       "    <tr>\n",
       "      <th>0</th>\n",
       "      <td>2013-03-01</td>\n",
       "      <td>10.455062</td>\n",
       "      <td>7.5</td>\n",
       "      <td>232.282</td>\n",
       "      <td>1.984211</td>\n",
       "      <td>0.397212</td>\n",
       "      <td>3.337507</td>\n",
       "      <td>14.582205</td>\n",
       "      <td>11.414669</td>\n",
       "      <td>7.978126</td>\n",
       "      <td>4.851792</td>\n",
       "      <td>3.440210</td>\n",
       "      <td>-7.714279</td>\n",
       "      <td>9.067089</td>\n",
       "      <td>5.443922</td>\n",
       "      <td>-0.188640</td>\n",
       "      <td>-0.655</td>\n",
       "      <td>-0.2</td>\n",
       "      <td>0.069449</td>\n",
       "    </tr>\n",
       "    <tr>\n",
       "      <th>1</th>\n",
       "      <td>2013-04-01</td>\n",
       "      <td>12.922975</td>\n",
       "      <td>7.6</td>\n",
       "      <td>231.797</td>\n",
       "      <td>1.957500</td>\n",
       "      <td>0.085246</td>\n",
       "      <td>2.374537</td>\n",
       "      <td>3.881563</td>\n",
       "      <td>-3.568848</td>\n",
       "      <td>4.538222</td>\n",
       "      <td>-2.482836</td>\n",
       "      <td>7.359867</td>\n",
       "      <td>11.497419</td>\n",
       "      <td>3.537347</td>\n",
       "      <td>0.727651</td>\n",
       "      <td>-10.457790</td>\n",
       "      <td>-0.485</td>\n",
       "      <td>0.1</td>\n",
       "      <td>-0.026711</td>\n",
       "    </tr>\n",
       "    <tr>\n",
       "      <th>2</th>\n",
       "      <td>2013-05-01</td>\n",
       "      <td>-6.438455</td>\n",
       "      <td>7.5</td>\n",
       "      <td>231.893</td>\n",
       "      <td>1.759091</td>\n",
       "      <td>-0.190605</td>\n",
       "      <td>2.361004</td>\n",
       "      <td>-1.290451</td>\n",
       "      <td>16.816781</td>\n",
       "      <td>-1.231989</td>\n",
       "      <td>-4.008663</td>\n",
       "      <td>-0.638313</td>\n",
       "      <td>-8.792401</td>\n",
       "      <td>-2.711502</td>\n",
       "      <td>-6.329562</td>\n",
       "      <td>8.513136</td>\n",
       "      <td>0.096</td>\n",
       "      <td>-0.1</td>\n",
       "      <td>-0.198409</td>\n",
       "    </tr>\n",
       "    <tr>\n",
       "      <th>3</th>\n",
       "      <td>2013-06-01</td>\n",
       "      <td>-3.162299</td>\n",
       "      <td>7.5</td>\n",
       "      <td>232.445</td>\n",
       "      <td>1.928182</td>\n",
       "      <td>0.620501</td>\n",
       "      <td>-1.853781</td>\n",
       "      <td>-7.707318</td>\n",
       "      <td>-2.868894</td>\n",
       "      <td>2.762464</td>\n",
       "      <td>-6.788137</td>\n",
       "      <td>-0.535372</td>\n",
       "      <td>-3.805087</td>\n",
       "      <td>-1.463219</td>\n",
       "      <td>3.722003</td>\n",
       "      <td>2.269287</td>\n",
       "      <td>0.552</td>\n",
       "      <td>0.0</td>\n",
       "      <td>0.169091</td>\n",
       "    </tr>\n",
       "    <tr>\n",
       "      <th>4</th>\n",
       "      <td>2013-07-01</td>\n",
       "      <td>10.014486</td>\n",
       "      <td>7.3</td>\n",
       "      <td>232.900</td>\n",
       "      <td>2.300000</td>\n",
       "      <td>0.210359</td>\n",
       "      <td>5.724173</td>\n",
       "      <td>7.230424</td>\n",
       "      <td>-3.244595</td>\n",
       "      <td>8.898141</td>\n",
       "      <td>8.122938</td>\n",
       "      <td>4.655361</td>\n",
       "      <td>9.001745</td>\n",
       "      <td>1.272809</td>\n",
       "      <td>4.355584</td>\n",
       "      <td>17.540151</td>\n",
       "      <td>0.455</td>\n",
       "      <td>-0.2</td>\n",
       "      <td>0.371818</td>\n",
       "    </tr>\n",
       "    <tr>\n",
       "      <th>...</th>\n",
       "      <td>...</td>\n",
       "      <td>...</td>\n",
       "      <td>...</td>\n",
       "      <td>...</td>\n",
       "      <td>...</td>\n",
       "      <td>...</td>\n",
       "      <td>...</td>\n",
       "      <td>...</td>\n",
       "      <td>...</td>\n",
       "      <td>...</td>\n",
       "      <td>...</td>\n",
       "      <td>...</td>\n",
       "      <td>...</td>\n",
       "      <td>...</td>\n",
       "      <td>...</td>\n",
       "      <td>...</td>\n",
       "      <td>...</td>\n",
       "      <td>...</td>\n",
       "      <td>...</td>\n",
       "    </tr>\n",
       "    <tr>\n",
       "      <th>118</th>\n",
       "      <td>2023-01-01</td>\n",
       "      <td>-8.576205</td>\n",
       "      <td>3.4</td>\n",
       "      <td>300.536</td>\n",
       "      <td>3.616190</td>\n",
       "      <td>0.390254</td>\n",
       "      <td>6.776820</td>\n",
       "      <td>-3.584079</td>\n",
       "      <td>0.972908</td>\n",
       "      <td>-7.489384</td>\n",
       "      <td>-5.928822</td>\n",
       "      <td>-2.549213</td>\n",
       "      <td>2.541749</td>\n",
       "      <td>-0.110227</td>\n",
       "      <td>-13.817335</td>\n",
       "      <td>16.968326</td>\n",
       "      <td>1.546</td>\n",
       "      <td>-0.1</td>\n",
       "      <td>-0.274810</td>\n",
       "    </tr>\n",
       "    <tr>\n",
       "      <th>119</th>\n",
       "      <td>2023-02-01</td>\n",
       "      <td>5.152609</td>\n",
       "      <td>3.6</td>\n",
       "      <td>301.648</td>\n",
       "      <td>3.531500</td>\n",
       "      <td>-0.442183</td>\n",
       "      <td>-2.514271</td>\n",
       "      <td>-0.290649</td>\n",
       "      <td>-4.328217</td>\n",
       "      <td>-6.217115</td>\n",
       "      <td>-9.568502</td>\n",
       "      <td>-1.089288</td>\n",
       "      <td>1.592445</td>\n",
       "      <td>-7.172811</td>\n",
       "      <td>-7.286115</td>\n",
       "      <td>5.451681</td>\n",
       "      <td>1.112</td>\n",
       "      <td>0.2</td>\n",
       "      <td>-0.084690</td>\n",
       "    </tr>\n",
       "    <tr>\n",
       "      <th>120</th>\n",
       "      <td>2023-03-01</td>\n",
       "      <td>3.554254</td>\n",
       "      <td>3.5</td>\n",
       "      <td>301.808</td>\n",
       "      <td>3.746842</td>\n",
       "      <td>-0.442183</td>\n",
       "      <td>3.313488</td>\n",
       "      <td>8.035329</td>\n",
       "      <td>0.507544</td>\n",
       "      <td>1.862736</td>\n",
       "      <td>10.703390</td>\n",
       "      <td>0.141189</td>\n",
       "      <td>12.873250</td>\n",
       "      <td>9.367574</td>\n",
       "      <td>0.566924</td>\n",
       "      <td>11.025813</td>\n",
       "      <td>0.160</td>\n",
       "      <td>-0.1</td>\n",
       "      <td>0.215342</td>\n",
       "    </tr>\n",
       "    <tr>\n",
       "      <th>121</th>\n",
       "      <td>2023-04-01</td>\n",
       "      <td>-5.176628</td>\n",
       "      <td>3.4</td>\n",
       "      <td>302.918</td>\n",
       "      <td>3.663043</td>\n",
       "      <td>-0.442183</td>\n",
       "      <td>1.985238</td>\n",
       "      <td>5.489119</td>\n",
       "      <td>-3.664707</td>\n",
       "      <td>5.612908</td>\n",
       "      <td>15.269915</td>\n",
       "      <td>9.289214</td>\n",
       "      <td>5.836894</td>\n",
       "      <td>16.334413</td>\n",
       "      <td>-4.681371</td>\n",
       "      <td>-1.517467</td>\n",
       "      <td>1.110</td>\n",
       "      <td>-0.1</td>\n",
       "      <td>-0.083799</td>\n",
       "    </tr>\n",
       "    <tr>\n",
       "      <th>122</th>\n",
       "      <td>2023-05-01</td>\n",
       "      <td>-7.868480</td>\n",
       "      <td>3.7</td>\n",
       "      <td>304.127</td>\n",
       "      <td>3.460000</td>\n",
       "      <td>-0.442183</td>\n",
       "      <td>0.461619</td>\n",
       "      <td>-0.191204</td>\n",
       "      <td>-2.695194</td>\n",
       "      <td>-5.277949</td>\n",
       "      <td>8.487855</td>\n",
       "      <td>-4.382088</td>\n",
       "      <td>-3.967915</td>\n",
       "      <td>-6.161645</td>\n",
       "      <td>-2.237080</td>\n",
       "      <td>-2.162160</td>\n",
       "      <td>0.100</td>\n",
       "      <td>0.3</td>\n",
       "      <td>-0.203043</td>\n",
       "    </tr>\n",
       "  </tbody>\n",
       "</table>\n",
       "<p>123 rows × 19 columns</p>\n",
       "</div>"
      ],
      "text/plain": [
       "           Date       ABBV  unemployment_rate      CPI  treasury_yield  \\\n",
       "0    2013-03-01  10.455062                7.5  232.282        1.984211   \n",
       "1    2013-04-01  12.922975                7.6  231.797        1.957500   \n",
       "2    2013-05-01  -6.438455                7.5  231.893        1.759091   \n",
       "3    2013-06-01  -3.162299                7.5  232.445        1.928182   \n",
       "4    2013-07-01  10.014486                7.3  232.900        2.300000   \n",
       "..          ...        ...                ...      ...             ...   \n",
       "118  2023-01-01  -8.576205                3.4  300.536        3.616190   \n",
       "119  2023-02-01   5.152609                3.6  301.648        3.531500   \n",
       "120  2023-03-01   3.554254                3.5  301.808        3.746842   \n",
       "121  2023-04-01  -5.176628                3.4  302.918        3.663043   \n",
       "122  2023-05-01  -7.868480                3.7  304.127        3.460000   \n",
       "\n",
       "     GDP_growth  SP500_return        AZN        BMY       JNJ        LLY  \\\n",
       "0      0.397212      3.337507  14.582205  11.414669  7.978126   4.851792   \n",
       "1      0.085246      2.374537   3.881563  -3.568848  4.538222  -2.482836   \n",
       "2     -0.190605      2.361004  -1.290451  16.816781 -1.231989  -4.008663   \n",
       "3      0.620501     -1.853781  -7.707318  -2.868894  2.762464  -6.788137   \n",
       "4      0.210359      5.724173   7.230424  -3.244595  8.898141   8.122938   \n",
       "..          ...           ...        ...        ...       ...        ...   \n",
       "118    0.390254      6.776820  -3.584079   0.972908 -7.489384  -5.928822   \n",
       "119   -0.442183     -2.514271  -0.290649  -4.328217 -6.217115  -9.568502   \n",
       "120   -0.442183      3.313488   8.035329   0.507544  1.862736  10.703390   \n",
       "121   -0.442183      1.985238   5.489119  -3.664707  5.612908  15.269915   \n",
       "122   -0.442183      0.461619  -0.191204  -2.695194 -5.277949   8.487855   \n",
       "\n",
       "          MRK        NVO        NVS        PFE        ROG  inflation_change  \\\n",
       "0    3.440210  -7.714279   9.067089   5.443922  -0.188640            -0.655   \n",
       "1    7.359867  11.497419   3.537347   0.727651 -10.457790            -0.485   \n",
       "2   -0.638313  -8.792401  -2.711502  -6.329562   8.513136             0.096   \n",
       "3   -0.535372  -3.805087  -1.463219   3.722003   2.269287             0.552   \n",
       "4    4.655361   9.001745   1.272809   4.355584  17.540151             0.455   \n",
       "..        ...        ...        ...        ...        ...               ...   \n",
       "118 -2.549213   2.541749  -0.110227 -13.817335  16.968326             1.546   \n",
       "119 -1.089288   1.592445  -7.172811  -7.286115   5.451681             1.112   \n",
       "120  0.141189  12.873250   9.367574   0.566924  11.025813             0.160   \n",
       "121  9.289214   5.836894  16.334413  -4.681371  -1.517467             1.110   \n",
       "122 -4.382088  -3.967915  -6.161645  -2.237080  -2.162160             0.100   \n",
       "\n",
       "     unemp_change  treasury_yield_change  \n",
       "0            -0.2               0.069449  \n",
       "1             0.1              -0.026711  \n",
       "2            -0.1              -0.198409  \n",
       "3             0.0               0.169091  \n",
       "4            -0.2               0.371818  \n",
       "..            ...                    ...  \n",
       "118          -0.1              -0.274810  \n",
       "119           0.2              -0.084690  \n",
       "120          -0.1               0.215342  \n",
       "121          -0.1              -0.083799  \n",
       "122           0.3              -0.203043  \n",
       "\n",
       "[123 rows x 19 columns]"
      ]
     },
     "execution_count": 43,
     "metadata": {},
     "output_type": "execute_result"
    }
   ],
   "source": [
    "merged_df = data2.merge(data, on='Date', how='inner')\n",
    "merged_df"
   ]
  },
  {
   "cell_type": "code",
   "execution_count": 46,
   "metadata": {},
   "outputs": [],
   "source": [
    "tickers = ['ABBV', 'AZN', 'BMY', 'JNJ', 'LLY', 'MRK', 'NVO', 'NVS', 'PFE','ROG']\n",
    "covs = ['unemployment_rate', 'CPI', 'treasury_yield', 'GDP_growth', 'SP500_return', 'inflation_change', 'unemp_change', 'treasury_yield_change']\n",
    "period = [1, 2, 3]\n",
    "\n",
    "merged_data, lagged_covs, lagged_tickers = create_lags(merged_df, tickers, covs, period)"
   ]
  },
  {
   "cell_type": "code",
   "execution_count": 48,
   "metadata": {},
   "outputs": [
    {
     "name": "stderr",
     "output_type": "stream",
     "text": [
      "/Users/lluisarull/opt/anaconda3/lib/python3.8/site-packages/statsmodels/regression/quantile_regression.py:191: IterationLimitWarning: Maximum number of iterations (1000) reached.\n",
      "  warnings.warn(\"Maximum number of iterations (\" + str(max_iter) +\n",
      "/Users/lluisarull/opt/anaconda3/lib/python3.8/site-packages/statsmodels/regression/quantile_regression.py:191: IterationLimitWarning: Maximum number of iterations (1000) reached.\n",
      "  warnings.warn(\"Maximum number of iterations (\" + str(max_iter) +\n",
      "/Users/lluisarull/opt/anaconda3/lib/python3.8/site-packages/statsmodels/regression/quantile_regression.py:191: IterationLimitWarning: Maximum number of iterations (1000) reached.\n",
      "  warnings.warn(\"Maximum number of iterations (\" + str(max_iter) +\n"
     ]
    },
    {
     "name": "stdout",
     "output_type": "stream",
     "text": [
      "ABBV: 1.8091799216980309\n"
     ]
    },
    {
     "name": "stderr",
     "output_type": "stream",
     "text": [
      "/Users/lluisarull/opt/anaconda3/lib/python3.8/site-packages/statsmodels/regression/quantile_regression.py:191: IterationLimitWarning: Maximum number of iterations (1000) reached.\n",
      "  warnings.warn(\"Maximum number of iterations (\" + str(max_iter) +\n"
     ]
    }
   ],
   "source": [
    "for t in tickers:\n",
    "    if t == 'ABBV':\n",
    "        loss = rolling_1m_forecast(merged_data, dates1m, t, 0.05)\n",
    "        print(f'{t}: {loss}')"
   ]
  },
  {
   "cell_type": "code",
   "execution_count": 49,
   "metadata": {},
   "outputs": [
    {
     "name": "stderr",
     "output_type": "stream",
     "text": [
      "/Users/lluisarull/opt/anaconda3/lib/python3.8/site-packages/statsmodels/regression/quantile_regression.py:191: IterationLimitWarning: Maximum number of iterations (1000) reached.\n",
      "  warnings.warn(\"Maximum number of iterations (\" + str(max_iter) +\n",
      "/Users/lluisarull/opt/anaconda3/lib/python3.8/site-packages/statsmodels/regression/quantile_regression.py:191: IterationLimitWarning: Maximum number of iterations (1000) reached.\n",
      "  warnings.warn(\"Maximum number of iterations (\" + str(max_iter) +\n"
     ]
    },
    {
     "name": "stdout",
     "output_type": "stream",
     "text": [
      "ABBV: 1.5865023386040358\n"
     ]
    }
   ],
   "source": [
    "for t in tickers:\n",
    "    if t == 'ABBV':\n",
    "        loss = rolling_3m_forecast(merged_data, dates3m, t, 0.05)\n",
    "        print(f'{t}: {loss}')"
   ]
  },
  {
   "cell_type": "code",
   "execution_count": 50,
   "metadata": {},
   "outputs": [
    {
     "name": "stderr",
     "output_type": "stream",
     "text": [
      "/Users/lluisarull/opt/anaconda3/lib/python3.8/site-packages/statsmodels/regression/quantile_regression.py:191: IterationLimitWarning: Maximum number of iterations (1000) reached.\n",
      "  warnings.warn(\"Maximum number of iterations (\" + str(max_iter) +\n",
      "/Users/lluisarull/opt/anaconda3/lib/python3.8/site-packages/statsmodels/regression/quantile_regression.py:191: IterationLimitWarning: Maximum number of iterations (1000) reached.\n",
      "  warnings.warn(\"Maximum number of iterations (\" + str(max_iter) +\n"
     ]
    },
    {
     "name": "stdout",
     "output_type": "stream",
     "text": [
      "ABBV: 2.058112006066971\n"
     ]
    }
   ],
   "source": [
    "for t in tickers:\n",
    "    if t == 'ABBV':\n",
    "        loss = rolling_6m_forecast(merged_data, dates6m, t, 0.05)\n",
    "        print(f'{t}: {loss}')"
   ]
  },
  {
   "cell_type": "code",
   "execution_count": 51,
   "metadata": {},
   "outputs": [
    {
     "name": "stderr",
     "output_type": "stream",
     "text": [
      "/Users/lluisarull/opt/anaconda3/lib/python3.8/site-packages/statsmodels/regression/quantile_regression.py:191: IterationLimitWarning: Maximum number of iterations (1000) reached.\n",
      "  warnings.warn(\"Maximum number of iterations (\" + str(max_iter) +\n"
     ]
    },
    {
     "name": "stdout",
     "output_type": "stream",
     "text": [
      "ABBV: 2.879691122201558\n"
     ]
    }
   ],
   "source": [
    "for t in tickers:\n",
    "    if t == 'ABBV':\n",
    "        loss = rolling_9m_forecast(merged_data, dates9m, t, 0.05)\n",
    "        print(f'{t}: {loss}')"
   ]
  },
  {
   "attachments": {},
   "cell_type": "markdown",
   "metadata": {},
   "source": [
    "### QUANTILE REGRESSION VS BASELINE"
   ]
  },
  {
   "cell_type": "code",
   "execution_count": 53,
   "metadata": {},
   "outputs": [
    {
     "data": {
      "text/html": [
       "<div>\n",
       "<style scoped>\n",
       "    .dataframe tbody tr th:only-of-type {\n",
       "        vertical-align: middle;\n",
       "    }\n",
       "\n",
       "    .dataframe tbody tr th {\n",
       "        vertical-align: top;\n",
       "    }\n",
       "\n",
       "    .dataframe thead th {\n",
       "        text-align: right;\n",
       "    }\n",
       "</style>\n",
       "<table border=\"1\" class=\"dataframe\">\n",
       "  <thead>\n",
       "    <tr style=\"text-align: right;\">\n",
       "      <th></th>\n",
       "      <th>Ticker</th>\n",
       "      <th>Historical Quantile</th>\n",
       "      <th>Quantile Regression</th>\n",
       "      <th>diff</th>\n",
       "    </tr>\n",
       "  </thead>\n",
       "  <tbody>\n",
       "    <tr>\n",
       "      <th>0</th>\n",
       "      <td>NVS</td>\n",
       "      <td>0.416</td>\n",
       "      <td>1.002</td>\n",
       "      <td>-0.586</td>\n",
       "    </tr>\n",
       "    <tr>\n",
       "      <th>1</th>\n",
       "      <td>ABBV</td>\n",
       "      <td>0.587</td>\n",
       "      <td>1.809</td>\n",
       "      <td>-1.222</td>\n",
       "    </tr>\n",
       "    <tr>\n",
       "      <th>2</th>\n",
       "      <td>AZN</td>\n",
       "      <td>0.725</td>\n",
       "      <td>0.919</td>\n",
       "      <td>-0.194</td>\n",
       "    </tr>\n",
       "    <tr>\n",
       "      <th>3</th>\n",
       "      <td>BMY</td>\n",
       "      <td>0.620</td>\n",
       "      <td>0.604</td>\n",
       "      <td>0.016</td>\n",
       "    </tr>\n",
       "    <tr>\n",
       "      <th>4</th>\n",
       "      <td>JNJ</td>\n",
       "      <td>0.518</td>\n",
       "      <td>0.773</td>\n",
       "      <td>-0.255</td>\n",
       "    </tr>\n",
       "    <tr>\n",
       "      <th>5</th>\n",
       "      <td>LLY</td>\n",
       "      <td>0.609</td>\n",
       "      <td>0.380</td>\n",
       "      <td>0.229</td>\n",
       "    </tr>\n",
       "    <tr>\n",
       "      <th>6</th>\n",
       "      <td>MRK</td>\n",
       "      <td>0.735</td>\n",
       "      <td>0.701</td>\n",
       "      <td>0.034</td>\n",
       "    </tr>\n",
       "    <tr>\n",
       "      <th>7</th>\n",
       "      <td>NVO</td>\n",
       "      <td>0.588</td>\n",
       "      <td>1.519</td>\n",
       "      <td>-0.931</td>\n",
       "    </tr>\n",
       "    <tr>\n",
       "      <th>8</th>\n",
       "      <td>PFE</td>\n",
       "      <td>0.899</td>\n",
       "      <td>1.043</td>\n",
       "      <td>-0.144</td>\n",
       "    </tr>\n",
       "    <tr>\n",
       "      <th>9</th>\n",
       "      <td>ROG</td>\n",
       "      <td>3.772</td>\n",
       "      <td>4.841</td>\n",
       "      <td>-1.069</td>\n",
       "    </tr>\n",
       "  </tbody>\n",
       "</table>\n",
       "</div>"
      ],
      "text/plain": [
       "  Ticker  Historical Quantile  Quantile Regression   diff\n",
       "0    NVS                0.416                1.002 -0.586\n",
       "1   ABBV                0.587                1.809 -1.222\n",
       "2    AZN                0.725                0.919 -0.194\n",
       "3    BMY                0.620                0.604  0.016\n",
       "4    JNJ                0.518                0.773 -0.255\n",
       "5    LLY                0.609                0.380  0.229\n",
       "6    MRK                0.735                0.701  0.034\n",
       "7    NVO                0.588                1.519 -0.931\n",
       "8    PFE                0.899                1.043 -0.144\n",
       "9    ROG                3.772                4.841 -1.069"
      ]
     },
     "execution_count": 53,
     "metadata": {},
     "output_type": "execute_result"
    }
   ],
   "source": [
    "import pandas as pd\n",
    "\n",
    "data_1m = {\n",
    "    'Ticker': ['NVS', 'ABBV', 'AZN', 'BMY', 'JNJ', 'LLY', 'MRK', 'NVO', 'PFE', 'ROG'],\n",
    "    'Historical Quantile': [0.416, 0.587, 0.725, 0.620, 0.518, 0.609, 0.735, 0.588, 0.899, 3.772],\n",
    "    'Quantile Regression': [1.002, 1.809, 0.919, 0.604, 0.773, 0.380, 0.701, 1.519, 1.043, 4.841]\n",
    "}\n",
    "\n",
    "df_1M = pd.DataFrame(data_1m)\n",
    "\n",
    "df_1M['diff'] = df_1M['Historical Quantile']-df_1M['Quantile Regression']\n",
    "df_1M"
   ]
  },
  {
   "cell_type": "code",
   "execution_count": 54,
   "metadata": {},
   "outputs": [
    {
     "data": {
      "text/html": [
       "<div>\n",
       "<style scoped>\n",
       "    .dataframe tbody tr th:only-of-type {\n",
       "        vertical-align: middle;\n",
       "    }\n",
       "\n",
       "    .dataframe tbody tr th {\n",
       "        vertical-align: top;\n",
       "    }\n",
       "\n",
       "    .dataframe thead th {\n",
       "        text-align: right;\n",
       "    }\n",
       "</style>\n",
       "<table border=\"1\" class=\"dataframe\">\n",
       "  <thead>\n",
       "    <tr style=\"text-align: right;\">\n",
       "      <th></th>\n",
       "      <th>Ticker</th>\n",
       "      <th>Historical Quantile</th>\n",
       "      <th>Quantile Regression</th>\n",
       "      <th>diff</th>\n",
       "    </tr>\n",
       "  </thead>\n",
       "  <tbody>\n",
       "    <tr>\n",
       "      <th>0</th>\n",
       "      <td>NVS</td>\n",
       "      <td>1.299</td>\n",
       "      <td>1.052</td>\n",
       "      <td>0.247</td>\n",
       "    </tr>\n",
       "    <tr>\n",
       "      <th>1</th>\n",
       "      <td>ABBV</td>\n",
       "      <td>1.731</td>\n",
       "      <td>1.587</td>\n",
       "      <td>0.144</td>\n",
       "    </tr>\n",
       "    <tr>\n",
       "      <th>2</th>\n",
       "      <td>AZN</td>\n",
       "      <td>2.164</td>\n",
       "      <td>1.017</td>\n",
       "      <td>1.147</td>\n",
       "    </tr>\n",
       "    <tr>\n",
       "      <th>3</th>\n",
       "      <td>BMY</td>\n",
       "      <td>1.873</td>\n",
       "      <td>0.604</td>\n",
       "      <td>1.269</td>\n",
       "    </tr>\n",
       "    <tr>\n",
       "      <th>4</th>\n",
       "      <td>JNJ</td>\n",
       "      <td>1.443</td>\n",
       "      <td>0.882</td>\n",
       "      <td>0.561</td>\n",
       "    </tr>\n",
       "    <tr>\n",
       "      <th>5</th>\n",
       "      <td>LLY</td>\n",
       "      <td>1.807</td>\n",
       "      <td>0.289</td>\n",
       "      <td>1.518</td>\n",
       "    </tr>\n",
       "    <tr>\n",
       "      <th>6</th>\n",
       "      <td>MRK</td>\n",
       "      <td>2.215</td>\n",
       "      <td>0.803</td>\n",
       "      <td>1.412</td>\n",
       "    </tr>\n",
       "    <tr>\n",
       "      <th>7</th>\n",
       "      <td>NVO</td>\n",
       "      <td>1.730</td>\n",
       "      <td>1.270</td>\n",
       "      <td>0.460</td>\n",
       "    </tr>\n",
       "    <tr>\n",
       "      <th>8</th>\n",
       "      <td>PFE</td>\n",
       "      <td>2.394</td>\n",
       "      <td>1.103</td>\n",
       "      <td>1.291</td>\n",
       "    </tr>\n",
       "    <tr>\n",
       "      <th>9</th>\n",
       "      <td>ROG</td>\n",
       "      <td>12.951</td>\n",
       "      <td>4.817</td>\n",
       "      <td>8.134</td>\n",
       "    </tr>\n",
       "  </tbody>\n",
       "</table>\n",
       "</div>"
      ],
      "text/plain": [
       "  Ticker  Historical Quantile  Quantile Regression   diff\n",
       "0    NVS                1.299                1.052  0.247\n",
       "1   ABBV                1.731                1.587  0.144\n",
       "2    AZN                2.164                1.017  1.147\n",
       "3    BMY                1.873                0.604  1.269\n",
       "4    JNJ                1.443                0.882  0.561\n",
       "5    LLY                1.807                0.289  1.518\n",
       "6    MRK                2.215                0.803  1.412\n",
       "7    NVO                1.730                1.270  0.460\n",
       "8    PFE                2.394                1.103  1.291\n",
       "9    ROG               12.951                4.817  8.134"
      ]
     },
     "execution_count": 54,
     "metadata": {},
     "output_type": "execute_result"
    }
   ],
   "source": [
    "data_3m = {\n",
    "    'Ticker': ['NVS', 'ABBV', 'AZN', 'BMY', 'JNJ', 'LLY', 'MRK', 'NVO', 'PFE', 'ROG'],\n",
    "    'Historical Quantile': [1.299, 1.731, 2.164, 1.873, 1.443, 1.807, 2.215, 1.730, 2.394, 12.951],\n",
    "    'Quantile Regression': [1.052, 1.587, 1.017, 0.604, 0.882, 0.289, 0.803, 1.270, 1.103, 4.817]\n",
    "}\n",
    "\n",
    "df_3M = pd.DataFrame(data_3m)\n",
    "\n",
    "df_3M['diff'] = df_3M['Historical Quantile']-df_3M['Quantile Regression']\n",
    "df_3M\n"
   ]
  },
  {
   "cell_type": "code",
   "execution_count": 55,
   "metadata": {},
   "outputs": [
    {
     "data": {
      "text/html": [
       "<div>\n",
       "<style scoped>\n",
       "    .dataframe tbody tr th:only-of-type {\n",
       "        vertical-align: middle;\n",
       "    }\n",
       "\n",
       "    .dataframe tbody tr th {\n",
       "        vertical-align: top;\n",
       "    }\n",
       "\n",
       "    .dataframe thead th {\n",
       "        text-align: right;\n",
       "    }\n",
       "</style>\n",
       "<table border=\"1\" class=\"dataframe\">\n",
       "  <thead>\n",
       "    <tr style=\"text-align: right;\">\n",
       "      <th></th>\n",
       "      <th>Ticker</th>\n",
       "      <th>Historical Quantile</th>\n",
       "      <th>Quantile Regression</th>\n",
       "      <th>diff</th>\n",
       "    </tr>\n",
       "  </thead>\n",
       "  <tbody>\n",
       "    <tr>\n",
       "      <th>0</th>\n",
       "      <td>NVS</td>\n",
       "      <td>2.731</td>\n",
       "      <td>1.264</td>\n",
       "      <td>1.467</td>\n",
       "    </tr>\n",
       "    <tr>\n",
       "      <th>1</th>\n",
       "      <td>ABBV</td>\n",
       "      <td>3.991</td>\n",
       "      <td>2.058</td>\n",
       "      <td>1.933</td>\n",
       "    </tr>\n",
       "    <tr>\n",
       "      <th>2</th>\n",
       "      <td>AZN</td>\n",
       "      <td>5.725</td>\n",
       "      <td>1.085</td>\n",
       "      <td>4.640</td>\n",
       "    </tr>\n",
       "    <tr>\n",
       "      <th>3</th>\n",
       "      <td>BMY</td>\n",
       "      <td>4.406</td>\n",
       "      <td>0.702</td>\n",
       "      <td>3.704</td>\n",
       "    </tr>\n",
       "    <tr>\n",
       "      <th>4</th>\n",
       "      <td>JNJ</td>\n",
       "      <td>3.895</td>\n",
       "      <td>0.363</td>\n",
       "      <td>3.532</td>\n",
       "    </tr>\n",
       "    <tr>\n",
       "      <th>5</th>\n",
       "      <td>LLY</td>\n",
       "      <td>4.285</td>\n",
       "      <td>0.301</td>\n",
       "      <td>3.984</td>\n",
       "    </tr>\n",
       "    <tr>\n",
       "      <th>6</th>\n",
       "      <td>MRK</td>\n",
       "      <td>5.170</td>\n",
       "      <td>0.990</td>\n",
       "      <td>4.180</td>\n",
       "    </tr>\n",
       "    <tr>\n",
       "      <th>7</th>\n",
       "      <td>NVO</td>\n",
       "      <td>3.677</td>\n",
       "      <td>1.561</td>\n",
       "      <td>2.116</td>\n",
       "    </tr>\n",
       "    <tr>\n",
       "      <th>8</th>\n",
       "      <td>PFE</td>\n",
       "      <td>4.776</td>\n",
       "      <td>1.264</td>\n",
       "      <td>3.512</td>\n",
       "    </tr>\n",
       "    <tr>\n",
       "      <th>9</th>\n",
       "      <td>ROG</td>\n",
       "      <td>26.300</td>\n",
       "      <td>6.409</td>\n",
       "      <td>19.891</td>\n",
       "    </tr>\n",
       "  </tbody>\n",
       "</table>\n",
       "</div>"
      ],
      "text/plain": [
       "  Ticker  Historical Quantile  Quantile Regression    diff\n",
       "0    NVS                2.731                1.264   1.467\n",
       "1   ABBV                3.991                2.058   1.933\n",
       "2    AZN                5.725                1.085   4.640\n",
       "3    BMY                4.406                0.702   3.704\n",
       "4    JNJ                3.895                0.363   3.532\n",
       "5    LLY                4.285                0.301   3.984\n",
       "6    MRK                5.170                0.990   4.180\n",
       "7    NVO                3.677                1.561   2.116\n",
       "8    PFE                4.776                1.264   3.512\n",
       "9    ROG               26.300                6.409  19.891"
      ]
     },
     "execution_count": 55,
     "metadata": {},
     "output_type": "execute_result"
    }
   ],
   "source": [
    "data_6m = {\n",
    "    'Ticker': ['NVS', 'ABBV', 'AZN', 'BMY', 'JNJ', 'LLY', 'MRK', 'NVO', 'PFE', 'ROG'],\n",
    "    'Historical Quantile': [2.731, 3.991, 5.725, 4.406, 3.895, 4.285, 5.170, 3.677, 4.776, 26.300],\n",
    "    'Quantile Regression': [1.264, 2.058, 1.085, 0.702, 0.363, 0.301, 0.990, 1.561, 1.264, 6.409]\n",
    "}\n",
    "\n",
    "df_6M = pd.DataFrame(data_6m)\n",
    "\n",
    "df_6M['diff'] = df_6M['Historical Quantile']-df_6M['Quantile Regression']\n",
    "df_6M"
   ]
  },
  {
   "cell_type": "code",
   "execution_count": 56,
   "metadata": {},
   "outputs": [
    {
     "data": {
      "text/html": [
       "<div>\n",
       "<style scoped>\n",
       "    .dataframe tbody tr th:only-of-type {\n",
       "        vertical-align: middle;\n",
       "    }\n",
       "\n",
       "    .dataframe tbody tr th {\n",
       "        vertical-align: top;\n",
       "    }\n",
       "\n",
       "    .dataframe thead th {\n",
       "        text-align: right;\n",
       "    }\n",
       "</style>\n",
       "<table border=\"1\" class=\"dataframe\">\n",
       "  <thead>\n",
       "    <tr style=\"text-align: right;\">\n",
       "      <th></th>\n",
       "      <th>Ticker</th>\n",
       "      <th>Historical Quantile</th>\n",
       "      <th>Quantile Regression</th>\n",
       "      <th>diff</th>\n",
       "    </tr>\n",
       "  </thead>\n",
       "  <tbody>\n",
       "    <tr>\n",
       "      <th>0</th>\n",
       "      <td>NVS</td>\n",
       "      <td>2.731</td>\n",
       "      <td>1.906</td>\n",
       "      <td>0.825</td>\n",
       "    </tr>\n",
       "    <tr>\n",
       "      <th>1</th>\n",
       "      <td>ABBV</td>\n",
       "      <td>3.991</td>\n",
       "      <td>2.880</td>\n",
       "      <td>1.111</td>\n",
       "    </tr>\n",
       "    <tr>\n",
       "      <th>2</th>\n",
       "      <td>AZN</td>\n",
       "      <td>5.725</td>\n",
       "      <td>0.951</td>\n",
       "      <td>4.774</td>\n",
       "    </tr>\n",
       "    <tr>\n",
       "      <th>3</th>\n",
       "      <td>BMY</td>\n",
       "      <td>4.406</td>\n",
       "      <td>0.758</td>\n",
       "      <td>3.648</td>\n",
       "    </tr>\n",
       "    <tr>\n",
       "      <th>4</th>\n",
       "      <td>JNJ</td>\n",
       "      <td>3.895</td>\n",
       "      <td>0.345</td>\n",
       "      <td>3.550</td>\n",
       "    </tr>\n",
       "    <tr>\n",
       "      <th>5</th>\n",
       "      <td>LLY</td>\n",
       "      <td>4.285</td>\n",
       "      <td>0.368</td>\n",
       "      <td>3.917</td>\n",
       "    </tr>\n",
       "    <tr>\n",
       "      <th>6</th>\n",
       "      <td>MRK</td>\n",
       "      <td>5.170</td>\n",
       "      <td>0.712</td>\n",
       "      <td>4.458</td>\n",
       "    </tr>\n",
       "    <tr>\n",
       "      <th>7</th>\n",
       "      <td>NVO</td>\n",
       "      <td>3.677</td>\n",
       "      <td>1.892</td>\n",
       "      <td>1.785</td>\n",
       "    </tr>\n",
       "    <tr>\n",
       "      <th>8</th>\n",
       "      <td>PFE</td>\n",
       "      <td>4.776</td>\n",
       "      <td>0.161</td>\n",
       "      <td>4.615</td>\n",
       "    </tr>\n",
       "    <tr>\n",
       "      <th>9</th>\n",
       "      <td>ROG</td>\n",
       "      <td>26.300</td>\n",
       "      <td>1.044</td>\n",
       "      <td>25.256</td>\n",
       "    </tr>\n",
       "  </tbody>\n",
       "</table>\n",
       "</div>"
      ],
      "text/plain": [
       "  Ticker  Historical Quantile  Quantile Regression    diff\n",
       "0    NVS                2.731                1.906   0.825\n",
       "1   ABBV                3.991                2.880   1.111\n",
       "2    AZN                5.725                0.951   4.774\n",
       "3    BMY                4.406                0.758   3.648\n",
       "4    JNJ                3.895                0.345   3.550\n",
       "5    LLY                4.285                0.368   3.917\n",
       "6    MRK                5.170                0.712   4.458\n",
       "7    NVO                3.677                1.892   1.785\n",
       "8    PFE                4.776                0.161   4.615\n",
       "9    ROG               26.300                1.044  25.256"
      ]
     },
     "execution_count": 56,
     "metadata": {},
     "output_type": "execute_result"
    }
   ],
   "source": [
    "data_9m = {\n",
    "    'Ticker': ['NVS', 'ABBV', 'AZN', 'BMY', 'JNJ', 'LLY', 'MRK', 'NVO', 'PFE', 'ROG'],\n",
    "    'Historical Quantile': [2.731, 3.991, 5.725, 4.406, 3.895, 4.285, 5.170, 3.677, 4.776, 26.300],\n",
    "    'Quantile Regression': [1.906, 2.880, 0.951, 0.758, 0.345, 0.368, 0.712, 1.892, 0.161, 1.044]\n",
    "}\n",
    "\n",
    "df_9M = pd.DataFrame(data_9m)\n",
    "df_9M['diff'] = df_9M['Historical Quantile']-df_9M['Quantile Regression']\n",
    "df_9M"
   ]
  },
  {
   "cell_type": "code",
   "execution_count": 60,
   "metadata": {},
   "outputs": [
    {
     "data": {
      "text/html": [
       "<div>\n",
       "<style scoped>\n",
       "    .dataframe tbody tr th:only-of-type {\n",
       "        vertical-align: middle;\n",
       "    }\n",
       "\n",
       "    .dataframe tbody tr th {\n",
       "        vertical-align: top;\n",
       "    }\n",
       "\n",
       "    .dataframe thead th {\n",
       "        text-align: right;\n",
       "    }\n",
       "</style>\n",
       "<table border=\"1\" class=\"dataframe\">\n",
       "  <thead>\n",
       "    <tr style=\"text-align: right;\">\n",
       "      <th></th>\n",
       "      <th>Ticker</th>\n",
       "      <th>Historical Quantile</th>\n",
       "      <th>Quantile Regression</th>\n",
       "      <th>diff</th>\n",
       "    </tr>\n",
       "  </thead>\n",
       "  <tbody>\n",
       "    <tr>\n",
       "      <th>0</th>\n",
       "      <td>NVS</td>\n",
       "      <td>5.275</td>\n",
       "      <td>3.462</td>\n",
       "      <td>1.813</td>\n",
       "    </tr>\n",
       "    <tr>\n",
       "      <th>1</th>\n",
       "      <td>ABBV</td>\n",
       "      <td>7.109</td>\n",
       "      <td>0.770</td>\n",
       "      <td>6.339</td>\n",
       "    </tr>\n",
       "    <tr>\n",
       "      <th>2</th>\n",
       "      <td>AZN</td>\n",
       "      <td>8.276</td>\n",
       "      <td>0.850</td>\n",
       "      <td>7.426</td>\n",
       "    </tr>\n",
       "    <tr>\n",
       "      <th>3</th>\n",
       "      <td>BMY</td>\n",
       "      <td>7.670</td>\n",
       "      <td>1.167</td>\n",
       "      <td>6.503</td>\n",
       "    </tr>\n",
       "    <tr>\n",
       "      <th>4</th>\n",
       "      <td>JNJ</td>\n",
       "      <td>5.860</td>\n",
       "      <td>0.458</td>\n",
       "      <td>5.402</td>\n",
       "    </tr>\n",
       "    <tr>\n",
       "      <th>5</th>\n",
       "      <td>LLY</td>\n",
       "      <td>7.081</td>\n",
       "      <td>0.203</td>\n",
       "      <td>6.878</td>\n",
       "    </tr>\n",
       "    <tr>\n",
       "      <th>6</th>\n",
       "      <td>MRK</td>\n",
       "      <td>8.847</td>\n",
       "      <td>0.572</td>\n",
       "      <td>8.275</td>\n",
       "    </tr>\n",
       "    <tr>\n",
       "      <th>7</th>\n",
       "      <td>NVO</td>\n",
       "      <td>7.067</td>\n",
       "      <td>1.035</td>\n",
       "      <td>6.032</td>\n",
       "    </tr>\n",
       "    <tr>\n",
       "      <th>8</th>\n",
       "      <td>PFE</td>\n",
       "      <td>10.229</td>\n",
       "      <td>0.212</td>\n",
       "      <td>10.017</td>\n",
       "    </tr>\n",
       "    <tr>\n",
       "      <th>9</th>\n",
       "      <td>ROG</td>\n",
       "      <td>45.244</td>\n",
       "      <td>0.564</td>\n",
       "      <td>44.680</td>\n",
       "    </tr>\n",
       "  </tbody>\n",
       "</table>\n",
       "</div>"
      ],
      "text/plain": [
       "  Ticker  Historical Quantile  Quantile Regression    diff\n",
       "0    NVS                5.275                3.462   1.813\n",
       "1   ABBV                7.109                0.770   6.339\n",
       "2    AZN                8.276                0.850   7.426\n",
       "3    BMY                7.670                1.167   6.503\n",
       "4    JNJ                5.860                0.458   5.402\n",
       "5    LLY                7.081                0.203   6.878\n",
       "6    MRK                8.847                0.572   8.275\n",
       "7    NVO                7.067                1.035   6.032\n",
       "8    PFE               10.229                0.212  10.017\n",
       "9    ROG               45.244                0.564  44.680"
      ]
     },
     "execution_count": 60,
     "metadata": {},
     "output_type": "execute_result"
    }
   ],
   "source": [
    "data_12m = {\n",
    "    'Ticker': ['NVS', 'ABBV', 'AZN', 'BMY', 'JNJ', 'LLY', 'MRK', 'NVO', 'PFE', 'ROG'],\n",
    "    'Historical Quantile': [5.275, 7.109, 8.276, 7.670, 5.860, 7.081, 8.847, 7.067, 10.229, 45.244],\n",
    "    'Quantile Regression': [3.462, 0.770, 0.850, 1.167, 0.458, 0.203, 0.572, 1.035, 0.212, 0.564],\n",
    "}\n",
    "\n",
    "df_12M = pd.DataFrame(data_12m)\n",
    "df_12M['diff'] = df_12M['Historical Quantile']-df_12M['Quantile Regression']\n",
    "df_12M"
   ]
  },
  {
   "cell_type": "code",
   "execution_count": 64,
   "metadata": {},
   "outputs": [
    {
     "data": {
      "text/plain": [
       "10"
      ]
     },
     "execution_count": 64,
     "metadata": {},
     "output_type": "execute_result"
    }
   ],
   "source": []
  },
  {
   "cell_type": "code",
   "execution_count": 65,
   "metadata": {},
   "outputs": [
    {
     "data": {
      "text/plain": [
       "-3.053"
      ]
     },
     "execution_count": 65,
     "metadata": {},
     "output_type": "execute_result"
    }
   ],
   "source": [
    "df_1M['diff'].head(9).sum()"
   ]
  },
  {
   "cell_type": "code",
   "execution_count": 70,
   "metadata": {},
   "outputs": [
    {
     "data": {
      "text/plain": [
       "-4.122"
      ]
     },
     "execution_count": 70,
     "metadata": {},
     "output_type": "execute_result"
    }
   ],
   "source": [
    "df_1M['diff'].sum()"
   ]
  },
  {
   "cell_type": "code",
   "execution_count": 67,
   "metadata": {},
   "outputs": [
    {
     "data": {
      "text/plain": [
       "8.049000000000001"
      ]
     },
     "execution_count": 67,
     "metadata": {},
     "output_type": "execute_result"
    }
   ],
   "source": [
    "df_3M['diff'].head(9).sum()"
   ]
  },
  {
   "cell_type": "code",
   "execution_count": 71,
   "metadata": {},
   "outputs": [
    {
     "data": {
      "text/plain": [
       "16.183"
      ]
     },
     "execution_count": 71,
     "metadata": {},
     "output_type": "execute_result"
    }
   ],
   "source": [
    "df_3M['diff'].sum()"
   ]
  },
  {
   "cell_type": "code",
   "execution_count": 68,
   "metadata": {},
   "outputs": [
    {
     "data": {
      "text/plain": [
       "29.067999999999998"
      ]
     },
     "execution_count": 68,
     "metadata": {},
     "output_type": "execute_result"
    }
   ],
   "source": [
    "df_6M['diff'].head(9).sum()"
   ]
  },
  {
   "cell_type": "code",
   "execution_count": 72,
   "metadata": {},
   "outputs": [
    {
     "data": {
      "text/plain": [
       "48.959"
      ]
     },
     "execution_count": 72,
     "metadata": {},
     "output_type": "execute_result"
    }
   ],
   "source": [
    "df_6M['diff'].sum()"
   ]
  },
  {
   "cell_type": "code",
   "execution_count": 69,
   "metadata": {},
   "outputs": [
    {
     "data": {
      "text/plain": [
       "28.683"
      ]
     },
     "execution_count": 69,
     "metadata": {},
     "output_type": "execute_result"
    }
   ],
   "source": [
    "df_9M['diff'].head(9).sum()"
   ]
  },
  {
   "cell_type": "code",
   "execution_count": 73,
   "metadata": {},
   "outputs": [
    {
     "data": {
      "text/plain": [
       "53.939"
      ]
     },
     "execution_count": 73,
     "metadata": {},
     "output_type": "execute_result"
    }
   ],
   "source": [
    "df_9M['diff'].sum()"
   ]
  },
  {
   "cell_type": "code",
   "execution_count": 66,
   "metadata": {},
   "outputs": [
    {
     "data": {
      "text/plain": [
       "58.685"
      ]
     },
     "execution_count": 66,
     "metadata": {},
     "output_type": "execute_result"
    }
   ],
   "source": [
    "df_12M['diff'].head(9).sum()"
   ]
  },
  {
   "cell_type": "code",
   "execution_count": 74,
   "metadata": {},
   "outputs": [
    {
     "data": {
      "text/plain": [
       "103.36500000000001"
      ]
     },
     "execution_count": 74,
     "metadata": {},
     "output_type": "execute_result"
    }
   ],
   "source": [
    "df_12M['diff'].sum()"
   ]
  }
 ],
 "metadata": {
  "kernelspec": {
   "display_name": "base",
   "language": "python",
   "name": "python3"
  },
  "language_info": {
   "codemirror_mode": {
    "name": "ipython",
    "version": 3
   },
   "file_extension": ".py",
   "mimetype": "text/x-python",
   "name": "python",
   "nbconvert_exporter": "python",
   "pygments_lexer": "ipython3",
   "version": "3.8.16"
  },
  "orig_nbformat": 4
 },
 "nbformat": 4,
 "nbformat_minor": 2
}
